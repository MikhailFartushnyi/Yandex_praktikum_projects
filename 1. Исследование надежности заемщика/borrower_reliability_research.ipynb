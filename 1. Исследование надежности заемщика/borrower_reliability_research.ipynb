{
 "cells": [
  {
   "cell_type": "markdown",
   "metadata": {},
   "source": [
    "# Исследование надёжности заёмщиков"
   ]
  },
  {
   "cell_type": "markdown",
   "metadata": {},
   "source": [
    "**Цель исследования**:\n",
    "Имея статистику банка о платёжеспособности клиентов определить влияние семейного положения и количества детей на факт погашения кредита в срок.\n",
    "\n",
    "**Основные вопросы исследования:**\n",
    "* Есть ли зависимость между наличием детей и возвратом кредита в срок?\n",
    "* Есть ли зависимость между семейным положением и возвратом кредита в срок?\n",
    "* Есть ли зависимость между уровнем дохода и возвратом кредита в срок?\n",
    "* Как разные цели кредита влияют на его возврат в срок?"
   ]
  },
  {
   "cell_type": "markdown",
   "metadata": {},
   "source": [
    "**Оглавление**\n",
    "1. [Открытие данных](#start)\n",
    "2. [Предобработка данных](#preprocessing)<br>\n",
    "    2.1.[Обработка пропущенных значений](#null)<br>\n",
    "    2.2.[Замена типов данных](#dtype)<br>\n",
    "    2.3.[Обработка дубликатов](#duplicates)<br>\n",
    "    2.4.[Лемматизация](#lemma)<br>\n",
    "    2.5.[Категоризация данных](#category)<br>\n",
    "3. [Анализ данных](#analysis)<br>\n",
    "    3.1[Зависимость между наличием детей и возвратом кредита в срок](#children)<br>\n",
    "    3.2[Зависимость между семейным положением и возвратом кредита в срок](#status)<br>\n",
    "    3.3[Зависимость между уровнем дохода и возвратом кредита в срок](#income)<br>\n",
    "    3.4[Зависимость между целью кредита возврат кредита в срок](#purpose)<br>\n",
    "4. [Общий вывод](#conclusion)"
   ]
  },
  {
   "cell_type": "markdown",
   "metadata": {},
   "source": [
    "## <a id=\"start\">1 Открытие данных</a> "
   ]
  },
  {
   "cell_type": "code",
   "execution_count": 1,
   "metadata": {},
   "outputs": [],
   "source": [
    "# импорт библиотеки pandas\n",
    "import pandas as pd\n",
    "# библиотека pymystem3 для лемматизации\n",
    "from pymystem3 import Mystem"
   ]
  },
  {
   "cell_type": "code",
   "execution_count": 2,
   "metadata": {},
   "outputs": [
    {
     "name": "stdout",
     "output_type": "stream",
     "text": [
      "<class 'pandas.core.frame.DataFrame'>\n",
      "RangeIndex: 21525 entries, 0 to 21524\n",
      "Data columns (total 12 columns):\n",
      " #   Column            Non-Null Count  Dtype  \n",
      "---  ------            --------------  -----  \n",
      " 0   children          21525 non-null  int64  \n",
      " 1   days_employed     19351 non-null  float64\n",
      " 2   dob_years         21525 non-null  int64  \n",
      " 3   education         21525 non-null  object \n",
      " 4   education_id      21525 non-null  int64  \n",
      " 5   family_status     21525 non-null  object \n",
      " 6   family_status_id  21525 non-null  int64  \n",
      " 7   gender            21525 non-null  object \n",
      " 8   income_type       21525 non-null  object \n",
      " 9   debt              21525 non-null  int64  \n",
      " 10  total_income      19351 non-null  float64\n",
      " 11  purpose           21525 non-null  object \n",
      "dtypes: float64(2), int64(5), object(5)\n",
      "memory usage: 2.0+ MB\n"
     ]
    }
   ],
   "source": [
    "# чтение файла с данными и сохранение в df\n",
    "try:\n",
    "    df = pd.read_csv('/datasets/data.csv')\n",
    "    # получение общей информации о данных в таблице df\n",
    "    df.info()\n",
    "except:\n",
    "    print('Файл не найден')"
   ]
  },
  {
   "cell_type": "code",
   "execution_count": 3,
   "metadata": {
    "scrolled": false
   },
   "outputs": [
    {
     "data": {
      "text/html": [
       "<div>\n",
       "<style scoped>\n",
       "    .dataframe tbody tr th:only-of-type {\n",
       "        vertical-align: middle;\n",
       "    }\n",
       "\n",
       "    .dataframe tbody tr th {\n",
       "        vertical-align: top;\n",
       "    }\n",
       "\n",
       "    .dataframe thead th {\n",
       "        text-align: right;\n",
       "    }\n",
       "</style>\n",
       "<table border=\"1\" class=\"dataframe\">\n",
       "  <thead>\n",
       "    <tr style=\"text-align: right;\">\n",
       "      <th></th>\n",
       "      <th>children</th>\n",
       "      <th>days_employed</th>\n",
       "      <th>dob_years</th>\n",
       "      <th>education</th>\n",
       "      <th>education_id</th>\n",
       "      <th>family_status</th>\n",
       "      <th>family_status_id</th>\n",
       "      <th>gender</th>\n",
       "      <th>income_type</th>\n",
       "      <th>debt</th>\n",
       "      <th>total_income</th>\n",
       "      <th>purpose</th>\n",
       "    </tr>\n",
       "  </thead>\n",
       "  <tbody>\n",
       "    <tr>\n",
       "      <th>3521</th>\n",
       "      <td>0</td>\n",
       "      <td>-1955.828275</td>\n",
       "      <td>62</td>\n",
       "      <td>среднее</td>\n",
       "      <td>1</td>\n",
       "      <td>женат / замужем</td>\n",
       "      <td>0</td>\n",
       "      <td>F</td>\n",
       "      <td>сотрудник</td>\n",
       "      <td>0</td>\n",
       "      <td>192923.638532</td>\n",
       "      <td>на покупку своего автомобиля</td>\n",
       "    </tr>\n",
       "    <tr>\n",
       "      <th>8729</th>\n",
       "      <td>3</td>\n",
       "      <td>-5177.253827</td>\n",
       "      <td>38</td>\n",
       "      <td>среднее</td>\n",
       "      <td>1</td>\n",
       "      <td>женат / замужем</td>\n",
       "      <td>0</td>\n",
       "      <td>F</td>\n",
       "      <td>компаньон</td>\n",
       "      <td>0</td>\n",
       "      <td>101506.409391</td>\n",
       "      <td>свой автомобиль</td>\n",
       "    </tr>\n",
       "    <tr>\n",
       "      <th>17680</th>\n",
       "      <td>0</td>\n",
       "      <td>-5635.770767</td>\n",
       "      <td>48</td>\n",
       "      <td>среднее</td>\n",
       "      <td>1</td>\n",
       "      <td>женат / замужем</td>\n",
       "      <td>0</td>\n",
       "      <td>M</td>\n",
       "      <td>сотрудник</td>\n",
       "      <td>0</td>\n",
       "      <td>65707.073731</td>\n",
       "      <td>покупка жилой недвижимости</td>\n",
       "    </tr>\n",
       "  </tbody>\n",
       "</table>\n",
       "</div>"
      ],
      "text/plain": [
       "       children  days_employed  dob_years education  education_id  \\\n",
       "3521          0   -1955.828275         62   среднее             1   \n",
       "8729          3   -5177.253827         38   среднее             1   \n",
       "17680         0   -5635.770767         48   среднее             1   \n",
       "\n",
       "         family_status  family_status_id gender income_type  debt  \\\n",
       "3521   женат / замужем                 0      F   сотрудник     0   \n",
       "8729   женат / замужем                 0      F   компаньон     0   \n",
       "17680  женат / замужем                 0      M   сотрудник     0   \n",
       "\n",
       "        total_income                       purpose  \n",
       "3521   192923.638532  на покупку своего автомобиля  \n",
       "8729   101506.409391               свой автомобиль  \n",
       "17680   65707.073731    покупка жилой недвижимости  "
      ]
     },
     "execution_count": 3,
     "metadata": {},
     "output_type": "execute_result"
    }
   ],
   "source": [
    "# вывод первых десяти строк\n",
    "df.sample(3)"
   ]
  },
  {
   "cell_type": "markdown",
   "metadata": {},
   "source": [
    "**Вывод**"
   ]
  },
  {
   "cell_type": "markdown",
   "metadata": {},
   "source": [
    "В столбцах `days_employed` и `total_income` содержатся пропуски. Тип данных в столбцах соответствует типу значений. Пропуски являются случайными(MAR - Missing At Random): доход сильно коррелирует с занимаемой должностью и образованием, а стаж с возрастом. Поэтому не все клиенты указали свой стаж и доход.\n",
    "***\n",
    "**Названия столбцов и их описание**\n",
    "* **children** — количество детей в семье\n",
    "* **days_employed** — общий трудовой стаж в днях\n",
    "* **dob_years** — возраст клиента в годах\n",
    "* **education** — уровень образования клиента\n",
    "* **education_id** — идентификатор уровня образования\n",
    "* **family_status** — семейное положение\n",
    "* **family_status_id** — идентификатор семейного положения\n",
    "* **gender** — пол клиента\n",
    "* **income_type** — тип занятости\n",
    "* **debt** — имел ли задолженность по возврату кредитов\n",
    "* **total_income** — ежемесячный доход\n",
    "* **purpose** — цель получения кредита <br>\n",
    "`Нарушений стиля в названиях столбцов не найдено.`\n",
    "***\n",
    "Столбец `days_employed` содержит артефакты: отрицательные значения; значения имеют вещественный тип данных. Лучше заменить на целочисленный;<br>\n",
    "Столбец `education` содержит одинаковые слова, но в разном регистре;<br>\n",
    "Столбец `total_income` содержит вещественный тип данных. Лучше заменить на целочисленный;<br>\n",
    "Столбец `purpose` содержит похожие по смыслу строки, но написанные по-разному. Лучше выполнить категоризацию."
   ]
  },
  {
   "cell_type": "markdown",
   "metadata": {},
   "source": [
    "## <a id=\"preprocessing\">Предобработка данных</a> "
   ]
  },
  {
   "cell_type": "markdown",
   "metadata": {},
   "source": [
    "### <a id=\"null\">Обработка пропущенных значений</a> "
   ]
  },
  {
   "cell_type": "code",
   "execution_count": 4,
   "metadata": {
    "scrolled": true
   },
   "outputs": [
    {
     "data": {
      "text/plain": [
       "children               0\n",
       "days_employed       2174\n",
       "dob_years              0\n",
       "education              0\n",
       "education_id           0\n",
       "family_status          0\n",
       "family_status_id       0\n",
       "gender                 0\n",
       "income_type            0\n",
       "debt                   0\n",
       "total_income        2174\n",
       "purpose                0\n",
       "dtype: int64"
      ]
     },
     "execution_count": 4,
     "metadata": {},
     "output_type": "execute_result"
    }
   ],
   "source": [
    "# подсчёт пропусков\n",
    "df.isna().sum()"
   ]
  },
  {
   "cell_type": "markdown",
   "metadata": {},
   "source": [
    "Около 10% значений в столбцах `days_employed` и `total_income` содержат пропуски.<br>\n",
    "Значения в столбце `days_employed` не влияют на исследование, но значения в столбце `total_income` необходимы для ответа на один из вопросов.<br>\n",
    "Удалять эти строки нельзя, т.к. будет отсутствовать большой пласт данных, и результаты всего исследования будут некорректны.<br>\n",
    "Можно оставить пропуски. В таком случае они будут влиять только на результат одного вопроса (зависимость между уровнем дохода и возвратом кредита в срок). Но как уже было сказано почти 10% данных будут отсутсвовать.<br>\n",
    "Поэтому заменим пропуски в столбцах медианными значениями. Замена пропусков на средние значения не совсем корректна в виду того, что в столбцах могут присутствовать данные, значения которых сильно отличаются от остальных, а среднее значение этого не учитывает.<br>\n",
    "Заполним пропуски в столбце с доходами медианным значением в зависимости от типа занятости - `income_type`, т.к. они имеют зависимость.<br>"
   ]
  },
  {
   "cell_type": "code",
   "execution_count": 5,
   "metadata": {},
   "outputs": [],
   "source": [
    "# применим метод transform для замены пропусков в столбце с доходами\n",
    "df['total_income'] = df['total_income'].fillna(df.groupby('income_type')['total_income'].transform('median'))"
   ]
  },
  {
   "cell_type": "markdown",
   "metadata": {},
   "source": [
    "В столбце со стажем работы - `days_employed` присутствуют отрицательные значения. Прежде чем заменять пропуски медианой нужно исправить эти значения. Отрицательные значения заменим модулем числа."
   ]
  },
  {
   "cell_type": "code",
   "execution_count": 6,
   "metadata": {
    "scrolled": false
   },
   "outputs": [
    {
     "data": {
      "text/plain": [
       "0          8437.673028\n",
       "1          4024.803754\n",
       "2          5623.422610\n",
       "3          4124.747207\n",
       "4        340266.072047\n",
       "             ...      \n",
       "21520      4529.316663\n",
       "21521    343937.404131\n",
       "21522      2113.346888\n",
       "21523      3112.481705\n",
       "21524      1984.507589\n",
       "Name: days_employed, Length: 21525, dtype: float64"
      ]
     },
     "execution_count": 6,
     "metadata": {},
     "output_type": "execute_result"
    }
   ],
   "source": [
    "#замена отрицательных значений модулем числа\n",
    "df['days_employed'] = df['days_employed'].abs()\n",
    "df['days_employed']"
   ]
  },
  {
   "cell_type": "markdown",
   "metadata": {},
   "source": [
    "Теперь можно рассчитать медиану в зависимости от столбца `dob_years`, т.к. стаж зависит от возраста."
   ]
  },
  {
   "cell_type": "code",
   "execution_count": 7,
   "metadata": {},
   "outputs": [
    {
     "data": {
      "text/plain": [
       "children            0\n",
       "days_employed       0\n",
       "dob_years           0\n",
       "education           0\n",
       "education_id        0\n",
       "family_status       0\n",
       "family_status_id    0\n",
       "gender              0\n",
       "income_type         0\n",
       "debt                0\n",
       "total_income        0\n",
       "purpose             0\n",
       "dtype: int64"
      ]
     },
     "execution_count": 7,
     "metadata": {},
     "output_type": "execute_result"
    }
   ],
   "source": [
    "# применим метод transform для замены пропусков в столбце со стажем\n",
    "df['days_employed'] = df['days_employed'].fillna(df.groupby('dob_years')['days_employed'].transform('median'))\n",
    "# подсчёт пропусков\n",
    "df.isna().sum()"
   ]
  },
  {
   "cell_type": "markdown",
   "metadata": {},
   "source": [
    "**Вывод**"
   ]
  },
  {
   "cell_type": "markdown",
   "metadata": {},
   "source": [
    "С помощью методов *fillna* и *transform* мы избавились от пропусков."
   ]
  },
  {
   "cell_type": "markdown",
   "metadata": {},
   "source": [
    "### <a id=\"dtype\">Замена типов данных</a>"
   ]
  },
  {
   "cell_type": "markdown",
   "metadata": {},
   "source": [
    "В столбцах `days_employed` и `total_income` содержится вещественный тип данных. Такое представление данных неудобно и визуально тяжело воспринимается. Поэтому заменим тип данных в этих столбцах на целочисленный методом *astype()*. Данный метод позволяет выбрать необходимый тип данных."
   ]
  },
  {
   "cell_type": "code",
   "execution_count": 8,
   "metadata": {},
   "outputs": [],
   "source": [
    "df[['total_income', 'days_employed']] = df[['total_income', 'days_employed']].astype('int64')"
   ]
  },
  {
   "cell_type": "code",
   "execution_count": 9,
   "metadata": {},
   "outputs": [
    {
     "name": "stdout",
     "output_type": "stream",
     "text": [
      "<class 'pandas.core.frame.DataFrame'>\n",
      "RangeIndex: 21525 entries, 0 to 21524\n",
      "Data columns (total 12 columns):\n",
      " #   Column            Non-Null Count  Dtype \n",
      "---  ------            --------------  ----- \n",
      " 0   children          21525 non-null  int64 \n",
      " 1   days_employed     21525 non-null  int64 \n",
      " 2   dob_years         21525 non-null  int64 \n",
      " 3   education         21525 non-null  object\n",
      " 4   education_id      21525 non-null  int64 \n",
      " 5   family_status     21525 non-null  object\n",
      " 6   family_status_id  21525 non-null  int64 \n",
      " 7   gender            21525 non-null  object\n",
      " 8   income_type       21525 non-null  object\n",
      " 9   debt              21525 non-null  int64 \n",
      " 10  total_income      21525 non-null  int64 \n",
      " 11  purpose           21525 non-null  object\n",
      "dtypes: int64(7), object(5)\n",
      "memory usage: 2.0+ MB\n"
     ]
    }
   ],
   "source": [
    "# проверим измененный тип данных\n",
    "df.info()"
   ]
  },
  {
   "cell_type": "markdown",
   "metadata": {},
   "source": [
    "**Вывод**"
   ]
  },
  {
   "cell_type": "markdown",
   "metadata": {},
   "source": [
    "Замена типа данных прошла успешно."
   ]
  },
  {
   "cell_type": "markdown",
   "metadata": {},
   "source": [
    "### <a id=\"duplicates\">Обработка дубликатов</a> "
   ]
  },
  {
   "cell_type": "markdown",
   "metadata": {},
   "source": [
    "Сначала преверим наличие явных строк-дубликатов."
   ]
  },
  {
   "cell_type": "code",
   "execution_count": 10,
   "metadata": {},
   "outputs": [
    {
     "name": "stdout",
     "output_type": "stream",
     "text": [
      "Явных строк-дубликатов: 54\n"
     ]
    }
   ],
   "source": [
    "#поиск явных строк-дубликатов\n",
    "print(f'Явных строк-дубликатов: {df.duplicated().sum()}')"
   ]
  },
  {
   "cell_type": "markdown",
   "metadata": {},
   "source": [
    "Перед тем как удалить строки-дубликаты проверим столбцы на наличие ошибочных значений. Исправив эти значения, возможно появятся новые явные строки-дубликаты, после чего их можно будет удалить."
   ]
  },
  {
   "cell_type": "code",
   "execution_count": 11,
   "metadata": {},
   "outputs": [
    {
     "data": {
      "text/plain": [
       "array([ 1,  0,  3,  2, -1,  4, 20,  5])"
      ]
     },
     "execution_count": 11,
     "metadata": {},
     "output_type": "execute_result"
    }
   ],
   "source": [
    "#Уникальные значения столбца children\n",
    "df['children'].unique()"
   ]
  },
  {
   "cell_type": "markdown",
   "metadata": {},
   "source": [
    "Столбец содержит отрицательные значения, что является артефактом. Заменим эти значения модулем числа. Также нужно проверить ячейки содержат значение 20, т.к. это подозрительно большое значение."
   ]
  },
  {
   "cell_type": "code",
   "execution_count": 12,
   "metadata": {
    "scrolled": true
   },
   "outputs": [
    {
     "name": "stdout",
     "output_type": "stream",
     "text": [
      "[ 1  0  3  2  4 20  5]\n",
      "Явных строк-дубликатов: 54\n"
     ]
    }
   ],
   "source": [
    "df['children'] = df['children'].abs()\n",
    "print(df['children'].unique())\n",
    "print(f'Явных строк-дубликатов: {df.duplicated().sum()}')"
   ]
  },
  {
   "cell_type": "code",
   "execution_count": 13,
   "metadata": {
    "scrolled": true
   },
   "outputs": [
    {
     "data": {
      "text/plain": [
       "76"
      ]
     },
     "execution_count": 13,
     "metadata": {},
     "output_type": "execute_result"
    }
   ],
   "source": [
    "df[df['children'] == 20]['children'].count()"
   ]
  },
  {
   "cell_type": "markdown",
   "metadata": {},
   "source": [
    "76 семей с 20-ю детьми. Весьма маловероятно. Заменим эти значения на 2."
   ]
  },
  {
   "cell_type": "code",
   "execution_count": 14,
   "metadata": {},
   "outputs": [],
   "source": [
    "df.loc[df['children'] == 20, 'children'] = 2"
   ]
  },
  {
   "cell_type": "code",
   "execution_count": 15,
   "metadata": {
    "scrolled": true
   },
   "outputs": [
    {
     "data": {
      "text/plain": [
       "array([ 0, 19, 20, 21, 22, 23, 24, 25, 26, 27, 28, 29, 30, 31, 32, 33, 34,\n",
       "       35, 36, 37, 38, 39, 40, 41, 42, 43, 44, 45, 46, 47, 48, 49, 50, 51,\n",
       "       52, 53, 54, 55, 56, 57, 58, 59, 60, 61, 62, 63, 64, 65, 66, 67, 68,\n",
       "       69, 70, 71, 72, 73, 74, 75])"
      ]
     },
     "execution_count": 15,
     "metadata": {},
     "output_type": "execute_result"
    }
   ],
   "source": [
    "#Уникальные значения столбца dob_years\n",
    "df['dob_years'].sort_values().unique()"
   ]
  },
  {
   "cell_type": "markdown",
   "metadata": {},
   "source": [
    "Здесь присутствует значение-артефакт: 0. Но оно не будет влиять на наличие явных строк-дубликатов."
   ]
  },
  {
   "cell_type": "code",
   "execution_count": 16,
   "metadata": {
    "scrolled": true
   },
   "outputs": [
    {
     "data": {
      "text/plain": [
       "array(['высшее', 'среднее', 'Среднее', 'СРЕДНЕЕ', 'ВЫСШЕЕ',\n",
       "       'неоконченное высшее', 'начальное', 'Высшее',\n",
       "       'НЕОКОНЧЕННОЕ ВЫСШЕЕ', 'Неоконченное высшее', 'НАЧАЛЬНОЕ',\n",
       "       'Начальное', 'Ученая степень', 'УЧЕНАЯ СТЕПЕНЬ', 'ученая степень'],\n",
       "      dtype=object)"
      ]
     },
     "execution_count": 16,
     "metadata": {},
     "output_type": "execute_result"
    }
   ],
   "source": [
    "#Уникальные значения столбца education\n",
    "df['education'].unique()"
   ]
  },
  {
   "cell_type": "markdown",
   "metadata": {},
   "source": [
    "В данном столбце есть повторяющиеся значения, но в разном регистре. Приведем все значения к нижнему регистру."
   ]
  },
  {
   "cell_type": "code",
   "execution_count": 17,
   "metadata": {
    "scrolled": true
   },
   "outputs": [
    {
     "name": "stdout",
     "output_type": "stream",
     "text": [
      "Явных строк-дубликатов: 71\n"
     ]
    }
   ],
   "source": [
    "#приведем все значения в столбце education к нижнему регистру\n",
    "df['education'] = df['education'].str.lower()\n",
    "#поиск явных дубликатов\n",
    "print(f'Явных строк-дубликатов: {df.duplicated().sum()}')"
   ]
  },
  {
   "cell_type": "code",
   "execution_count": 18,
   "metadata": {},
   "outputs": [
    {
     "data": {
      "text/plain": [
       "array([0, 1, 2, 3, 4])"
      ]
     },
     "execution_count": 18,
     "metadata": {},
     "output_type": "execute_result"
    }
   ],
   "source": [
    "#Уникальные значения столбца education_id\n",
    "df['education_id'].unique()"
   ]
  },
  {
   "cell_type": "markdown",
   "metadata": {},
   "source": [
    "В этом столбце все в порядке."
   ]
  },
  {
   "cell_type": "code",
   "execution_count": 19,
   "metadata": {
    "scrolled": true
   },
   "outputs": [
    {
     "data": {
      "text/plain": [
       "array(['женат / замужем', 'гражданский брак', 'вдовец / вдова',\n",
       "       'в разводе', 'Не женат / не замужем'], dtype=object)"
      ]
     },
     "execution_count": 19,
     "metadata": {},
     "output_type": "execute_result"
    }
   ],
   "source": [
    "#Уникальные значения столбца family_status\n",
    "df['family_status'].unique()"
   ]
  },
  {
   "cell_type": "markdown",
   "metadata": {},
   "source": [
    "В этом столбце все в порядке."
   ]
  },
  {
   "cell_type": "code",
   "execution_count": 20,
   "metadata": {
    "scrolled": true
   },
   "outputs": [
    {
     "data": {
      "text/plain": [
       "array([0, 1, 2, 3, 4])"
      ]
     },
     "execution_count": 20,
     "metadata": {},
     "output_type": "execute_result"
    }
   ],
   "source": [
    "#Уникальные значения столбца family_status_id\n",
    "df['family_status_id'].unique()"
   ]
  },
  {
   "cell_type": "markdown",
   "metadata": {},
   "source": [
    "В этом столбце все в порядке."
   ]
  },
  {
   "cell_type": "code",
   "execution_count": 21,
   "metadata": {},
   "outputs": [
    {
     "data": {
      "text/plain": [
       "array(['F', 'M', 'XNA'], dtype=object)"
      ]
     },
     "execution_count": 21,
     "metadata": {},
     "output_type": "execute_result"
    }
   ],
   "source": [
    "#Уникальные значения столбца gender\n",
    "df['gender'].unique()"
   ]
  },
  {
   "cell_type": "markdown",
   "metadata": {},
   "source": [
    "Есть артефакт, но он не влияет на наличие явных строк-дубликатов."
   ]
  },
  {
   "cell_type": "code",
   "execution_count": 22,
   "metadata": {
    "scrolled": true
   },
   "outputs": [
    {
     "data": {
      "text/plain": [
       "array(['сотрудник', 'пенсионер', 'компаньон', 'госслужащий',\n",
       "       'безработный', 'предприниматель', 'студент', 'в декрете'],\n",
       "      dtype=object)"
      ]
     },
     "execution_count": 22,
     "metadata": {},
     "output_type": "execute_result"
    }
   ],
   "source": [
    "#Уникальные значения столбца income_type\n",
    "df['income_type'].unique()"
   ]
  },
  {
   "cell_type": "markdown",
   "metadata": {},
   "source": [
    "В этом столбце все в порядке."
   ]
  },
  {
   "cell_type": "code",
   "execution_count": 23,
   "metadata": {},
   "outputs": [
    {
     "data": {
      "text/plain": [
       "array([0, 1])"
      ]
     },
     "execution_count": 23,
     "metadata": {},
     "output_type": "execute_result"
    }
   ],
   "source": [
    "#Уникальные значения столбца debt\n",
    "df['debt'].unique()"
   ]
  },
  {
   "cell_type": "markdown",
   "metadata": {},
   "source": [
    "В этом столбце все в порядке."
   ]
  },
  {
   "cell_type": "code",
   "execution_count": 24,
   "metadata": {
    "scrolled": false
   },
   "outputs": [
    {
     "data": {
      "text/plain": [
       "array(['автомобили', 'автомобиль', 'высшее образование',\n",
       "       'дополнительное образование', 'жилье',\n",
       "       'заняться высшим образованием', 'заняться образованием',\n",
       "       'на покупку автомобиля', 'на покупку подержанного автомобиля',\n",
       "       'на покупку своего автомобиля', 'на проведение свадьбы',\n",
       "       'недвижимость', 'образование', 'операции с жильем',\n",
       "       'операции с коммерческой недвижимостью',\n",
       "       'операции с недвижимостью', 'операции со своей недвижимостью',\n",
       "       'покупка жилой недвижимости', 'покупка жилья',\n",
       "       'покупка жилья для сдачи', 'покупка жилья для семьи',\n",
       "       'покупка коммерческой недвижимости', 'покупка недвижимости',\n",
       "       'покупка своего жилья', 'получение высшего образования',\n",
       "       'получение дополнительного образования', 'получение образования',\n",
       "       'приобретение автомобиля', 'профильное образование',\n",
       "       'ремонт жилью', 'свадьба', 'свой автомобиль',\n",
       "       'сделка с автомобилем', 'сделка с подержанным автомобилем',\n",
       "       'строительство жилой недвижимости', 'строительство недвижимости',\n",
       "       'строительство собственной недвижимости', 'сыграть свадьбу'],\n",
       "      dtype=object)"
      ]
     },
     "execution_count": 24,
     "metadata": {},
     "output_type": "execute_result"
    }
   ],
   "source": [
    "#Уникальные значения столбца purpose\n",
    "df['purpose'].sort_values().unique()"
   ]
  },
  {
   "cell_type": "markdown",
   "metadata": {},
   "source": [
    "В этом столбце все в порядке.\n",
    "***"
   ]
  },
  {
   "cell_type": "markdown",
   "metadata": {},
   "source": [
    "Теперь можно удалять явные строки-дубликаты"
   ]
  },
  {
   "cell_type": "code",
   "execution_count": 25,
   "metadata": {},
   "outputs": [
    {
     "name": "stdout",
     "output_type": "stream",
     "text": [
      "Количество строк до удаления: 21525\n",
      "Количество строк после удаления строк-дубликатов: 21454\n"
     ]
    }
   ],
   "source": [
    "#количество строк до удаления\n",
    "print(f'Количество строк до удаления: {df.shape[0]}')\n",
    "#удаляем явные дубликаты\n",
    "df = df.drop_duplicates().reset_index(drop=True)\n",
    "#проверяем количество оставшихся строк\n",
    "print(f'Количество строк после удаления строк-дубликатов: {df.shape[0]}')"
   ]
  },
  {
   "cell_type": "markdown",
   "metadata": {},
   "source": [
    "**Вывод**"
   ]
  },
  {
   "cell_type": "markdown",
   "metadata": {},
   "source": [
    "Была найдена и удалена 71 строка-дубликат."
   ]
  },
  {
   "cell_type": "markdown",
   "metadata": {},
   "source": [
    "### <a id=\"lemma\">Лемматизация</a>"
   ]
  },
  {
   "cell_type": "markdown",
   "metadata": {},
   "source": [
    "Теперь выполним лемматизацию столбца с целями кредита - `purpose` для дальнейшей категоризации. Посмотрим на уникальные значения столбца с целями."
   ]
  },
  {
   "cell_type": "code",
   "execution_count": 26,
   "metadata": {
    "scrolled": false
   },
   "outputs": [
    {
     "data": {
      "text/plain": [
       "['автомобили',\n",
       " 'автомобиль',\n",
       " 'высшее образование',\n",
       " 'дополнительное образование',\n",
       " 'жилье',\n",
       " 'заняться высшим образованием',\n",
       " 'заняться образованием',\n",
       " 'на покупку автомобиля',\n",
       " 'на покупку подержанного автомобиля',\n",
       " 'на покупку своего автомобиля',\n",
       " 'на проведение свадьбы',\n",
       " 'недвижимость',\n",
       " 'образование',\n",
       " 'операции с жильем',\n",
       " 'операции с коммерческой недвижимостью',\n",
       " 'операции с недвижимостью',\n",
       " 'операции со своей недвижимостью',\n",
       " 'покупка жилой недвижимости',\n",
       " 'покупка жилья',\n",
       " 'покупка жилья для сдачи',\n",
       " 'покупка жилья для семьи',\n",
       " 'покупка коммерческой недвижимости',\n",
       " 'покупка недвижимости',\n",
       " 'покупка своего жилья',\n",
       " 'получение высшего образования',\n",
       " 'получение дополнительного образования',\n",
       " 'получение образования',\n",
       " 'приобретение автомобиля',\n",
       " 'профильное образование',\n",
       " 'ремонт жилью',\n",
       " 'свадьба',\n",
       " 'свой автомобиль',\n",
       " 'сделка с автомобилем',\n",
       " 'сделка с подержанным автомобилем',\n",
       " 'строительство жилой недвижимости',\n",
       " 'строительство недвижимости',\n",
       " 'строительство собственной недвижимости',\n",
       " 'сыграть свадьбу']"
      ]
     },
     "execution_count": 26,
     "metadata": {},
     "output_type": "execute_result"
    }
   ],
   "source": [
    "sorted(df['purpose'].unique())"
   ]
  },
  {
   "cell_type": "markdown",
   "metadata": {},
   "source": [
    "Можно выделить ключевые слова: *автомобиль, недвижимость, образование, свадьба*. Лемматизация поможет привести слова к их словарной форме.Выполним лемматизацию с помощью библиотеки *pymystem3*. Создадим функцию, а затем применим ее к датафрейму через метод *apply()*."
   ]
  },
  {
   "cell_type": "code",
   "execution_count": 27,
   "metadata": {},
   "outputs": [
    {
     "data": {
      "text/html": [
       "<div>\n",
       "<style scoped>\n",
       "    .dataframe tbody tr th:only-of-type {\n",
       "        vertical-align: middle;\n",
       "    }\n",
       "\n",
       "    .dataframe tbody tr th {\n",
       "        vertical-align: top;\n",
       "    }\n",
       "\n",
       "    .dataframe thead th {\n",
       "        text-align: right;\n",
       "    }\n",
       "</style>\n",
       "<table border=\"1\" class=\"dataframe\">\n",
       "  <thead>\n",
       "    <tr style=\"text-align: right;\">\n",
       "      <th></th>\n",
       "      <th>purpose</th>\n",
       "      <th>purpose_short</th>\n",
       "    </tr>\n",
       "  </thead>\n",
       "  <tbody>\n",
       "    <tr>\n",
       "      <th>0</th>\n",
       "      <td>покупка жилья</td>\n",
       "      <td>недвижимость</td>\n",
       "    </tr>\n",
       "    <tr>\n",
       "      <th>1</th>\n",
       "      <td>приобретение автомобиля</td>\n",
       "      <td>автомобиль</td>\n",
       "    </tr>\n",
       "    <tr>\n",
       "      <th>2</th>\n",
       "      <td>покупка жилья</td>\n",
       "      <td>недвижимость</td>\n",
       "    </tr>\n",
       "    <tr>\n",
       "      <th>3</th>\n",
       "      <td>дополнительное образование</td>\n",
       "      <td>образование</td>\n",
       "    </tr>\n",
       "    <tr>\n",
       "      <th>4</th>\n",
       "      <td>сыграть свадьбу</td>\n",
       "      <td>свадьба</td>\n",
       "    </tr>\n",
       "    <tr>\n",
       "      <th>5</th>\n",
       "      <td>покупка жилья</td>\n",
       "      <td>недвижимость</td>\n",
       "    </tr>\n",
       "    <tr>\n",
       "      <th>6</th>\n",
       "      <td>операции с жильем</td>\n",
       "      <td>недвижимость</td>\n",
       "    </tr>\n",
       "    <tr>\n",
       "      <th>7</th>\n",
       "      <td>образование</td>\n",
       "      <td>образование</td>\n",
       "    </tr>\n",
       "    <tr>\n",
       "      <th>8</th>\n",
       "      <td>на проведение свадьбы</td>\n",
       "      <td>свадьба</td>\n",
       "    </tr>\n",
       "    <tr>\n",
       "      <th>9</th>\n",
       "      <td>покупка жилья для семьи</td>\n",
       "      <td>недвижимость</td>\n",
       "    </tr>\n",
       "  </tbody>\n",
       "</table>\n",
       "</div>"
      ],
      "text/plain": [
       "                      purpose purpose_short\n",
       "0               покупка жилья  недвижимость\n",
       "1     приобретение автомобиля    автомобиль\n",
       "2               покупка жилья  недвижимость\n",
       "3  дополнительное образование   образование\n",
       "4             сыграть свадьбу       свадьба\n",
       "5               покупка жилья  недвижимость\n",
       "6           операции с жильем  недвижимость\n",
       "7                 образование   образование\n",
       "8       на проведение свадьбы       свадьба\n",
       "9     покупка жилья для семьи  недвижимость"
      ]
     },
     "execution_count": 27,
     "metadata": {},
     "output_type": "execute_result"
    }
   ],
   "source": [
    "m = Mystem() \n",
    "\n",
    "#напишем функцию, которая будет возвращать слово, если оно есть в строке после лемматизации\n",
    "def purpose_lemma(row):\n",
    "    lemmas = m.lemmatize(row['purpose'])\n",
    "    if ('недвижимость' in lemmas) or ('жилье'in lemmas):\n",
    "        return 'недвижимость'\n",
    "    if 'автомобиль' in lemmas:\n",
    "        return 'автомобиль'\n",
    "    if 'образование' in lemmas:\n",
    "        return 'образование'\n",
    "    if 'свадьба' in lemmas:\n",
    "        return 'свадьба'\n",
    "#вызовим функцию методом apply()\n",
    "df['purpose_short'] = df.apply(purpose_lemma, axis=1)\n",
    "#проверим результат\n",
    "df[['purpose', 'purpose_short']].head(10)"
   ]
  },
  {
   "cell_type": "markdown",
   "metadata": {},
   "source": [
    "**Вывод**"
   ]
  },
  {
   "cell_type": "markdown",
   "metadata": {},
   "source": [
    "Лемматизация позволила привести значения столбца с целями к словарной форме и выделить ключевые слова, которые были добавлены в новый столбец `purpose_short`."
   ]
  },
  {
   "cell_type": "markdown",
   "metadata": {},
   "source": [
    "### <a id=\"category\">Категоризация данных</a>"
   ]
  },
  {
   "cell_type": "markdown",
   "metadata": {},
   "source": [
    "Выполним категоризацию для тех данных, которые нужны для проверки гипотез. А именно:\n",
    "* создадим словарь для столбца `family_status`\n",
    "* проведем классификацию для столбца  `total_income`"
   ]
  },
  {
   "cell_type": "markdown",
   "metadata": {},
   "source": [
    "Создадим словарь для столбцов `family_status` и `family_status_id`."
   ]
  },
  {
   "cell_type": "code",
   "execution_count": 28,
   "metadata": {
    "scrolled": true
   },
   "outputs": [
    {
     "data": {
      "text/html": [
       "<div>\n",
       "<style scoped>\n",
       "    .dataframe tbody tr th:only-of-type {\n",
       "        vertical-align: middle;\n",
       "    }\n",
       "\n",
       "    .dataframe tbody tr th {\n",
       "        vertical-align: top;\n",
       "    }\n",
       "\n",
       "    .dataframe thead th {\n",
       "        text-align: right;\n",
       "    }\n",
       "</style>\n",
       "<table border=\"1\" class=\"dataframe\">\n",
       "  <thead>\n",
       "    <tr style=\"text-align: right;\">\n",
       "      <th></th>\n",
       "      <th>family_status</th>\n",
       "      <th>family_status_id</th>\n",
       "    </tr>\n",
       "  </thead>\n",
       "  <tbody>\n",
       "    <tr>\n",
       "      <th>0</th>\n",
       "      <td>женат / замужем</td>\n",
       "      <td>0</td>\n",
       "    </tr>\n",
       "    <tr>\n",
       "      <th>1</th>\n",
       "      <td>женат / замужем</td>\n",
       "      <td>0</td>\n",
       "    </tr>\n",
       "    <tr>\n",
       "      <th>2</th>\n",
       "      <td>женат / замужем</td>\n",
       "      <td>0</td>\n",
       "    </tr>\n",
       "    <tr>\n",
       "      <th>3</th>\n",
       "      <td>женат / замужем</td>\n",
       "      <td>0</td>\n",
       "    </tr>\n",
       "    <tr>\n",
       "      <th>4</th>\n",
       "      <td>гражданский брак</td>\n",
       "      <td>1</td>\n",
       "    </tr>\n",
       "  </tbody>\n",
       "</table>\n",
       "</div>"
      ],
      "text/plain": [
       "      family_status  family_status_id\n",
       "0   женат / замужем                 0\n",
       "1   женат / замужем                 0\n",
       "2   женат / замужем                 0\n",
       "3   женат / замужем                 0\n",
       "4  гражданский брак                 1"
      ]
     },
     "execution_count": 28,
     "metadata": {},
     "output_type": "execute_result"
    }
   ],
   "source": [
    "#создаем новый датафрейм из основного \n",
    "family_dict = df[['family_status', 'family_status_id']]\n",
    "family_dict.head(5)"
   ]
  },
  {
   "cell_type": "code",
   "execution_count": 29,
   "metadata": {
    "scrolled": true
   },
   "outputs": [
    {
     "data": {
      "text/html": [
       "<div>\n",
       "<style scoped>\n",
       "    .dataframe tbody tr th:only-of-type {\n",
       "        vertical-align: middle;\n",
       "    }\n",
       "\n",
       "    .dataframe tbody tr th {\n",
       "        vertical-align: top;\n",
       "    }\n",
       "\n",
       "    .dataframe thead th {\n",
       "        text-align: right;\n",
       "    }\n",
       "</style>\n",
       "<table border=\"1\" class=\"dataframe\">\n",
       "  <thead>\n",
       "    <tr style=\"text-align: right;\">\n",
       "      <th></th>\n",
       "      <th>family_status</th>\n",
       "      <th>family_status_id</th>\n",
       "    </tr>\n",
       "  </thead>\n",
       "  <tbody>\n",
       "    <tr>\n",
       "      <th>0</th>\n",
       "      <td>женат / замужем</td>\n",
       "      <td>0</td>\n",
       "    </tr>\n",
       "    <tr>\n",
       "      <th>1</th>\n",
       "      <td>гражданский брак</td>\n",
       "      <td>1</td>\n",
       "    </tr>\n",
       "    <tr>\n",
       "      <th>2</th>\n",
       "      <td>вдовец / вдова</td>\n",
       "      <td>2</td>\n",
       "    </tr>\n",
       "    <tr>\n",
       "      <th>3</th>\n",
       "      <td>в разводе</td>\n",
       "      <td>3</td>\n",
       "    </tr>\n",
       "    <tr>\n",
       "      <th>4</th>\n",
       "      <td>Не женат / не замужем</td>\n",
       "      <td>4</td>\n",
       "    </tr>\n",
       "  </tbody>\n",
       "</table>\n",
       "</div>"
      ],
      "text/plain": [
       "           family_status  family_status_id\n",
       "0        женат / замужем                 0\n",
       "1       гражданский брак                 1\n",
       "2         вдовец / вдова                 2\n",
       "3              в разводе                 3\n",
       "4  Не женат / не замужем                 4"
      ]
     },
     "execution_count": 29,
     "metadata": {},
     "output_type": "execute_result"
    }
   ],
   "source": [
    "#теперь удаляем дубликаты, сортируем таблицу и получаем словарь\n",
    "family_dict = family_dict.drop_duplicates().reset_index(drop=True).sort_values(by='family_status_id')\n",
    "family_dict"
   ]
  },
  {
   "cell_type": "markdown",
   "metadata": {},
   "source": [
    "Чтобы выполнить категоризацию для столбца с доходами узнаем как распределяются доходы по квартилям."
   ]
  },
  {
   "cell_type": "code",
   "execution_count": 30,
   "metadata": {
    "scrolled": false
   },
   "outputs": [
    {
     "data": {
      "text/plain": [
       "count    2.145400e+04\n",
       "mean     1.653196e+05\n",
       "std      9.818730e+04\n",
       "min      2.066700e+04\n",
       "25%      1.076230e+05\n",
       "50%      1.425940e+05\n",
       "75%      1.958202e+05\n",
       "max      2.265604e+06\n",
       "Name: total_income, dtype: float64"
      ]
     },
     "execution_count": 30,
     "metadata": {},
     "output_type": "execute_result"
    }
   ],
   "source": [
    "df['total_income'].describe()"
   ]
  },
  {
   "cell_type": "markdown",
   "metadata": {},
   "source": [
    "Получаем 4 категории с доходом, в каждой из которых 25% от общего числа людей:\n",
    "* до 107623\n",
    "* от 107623 до 142594\n",
    "* от 142594 до 195820\n",
    "* свыше 195820"
   ]
  },
  {
   "cell_type": "markdown",
   "metadata": {},
   "source": [
    "Создадим функцию для распределения значений из столбца с доходом по группам, а затем применим метод *apply()* к новому столбцу `income_category`. "
   ]
  },
  {
   "cell_type": "code",
   "execution_count": 31,
   "metadata": {},
   "outputs": [
    {
     "data": {
      "text/html": [
       "<div>\n",
       "<style scoped>\n",
       "    .dataframe tbody tr th:only-of-type {\n",
       "        vertical-align: middle;\n",
       "    }\n",
       "\n",
       "    .dataframe tbody tr th {\n",
       "        vertical-align: top;\n",
       "    }\n",
       "\n",
       "    .dataframe thead th {\n",
       "        text-align: right;\n",
       "    }\n",
       "</style>\n",
       "<table border=\"1\" class=\"dataframe\">\n",
       "  <thead>\n",
       "    <tr style=\"text-align: right;\">\n",
       "      <th></th>\n",
       "      <th>total_income</th>\n",
       "      <th>income_category</th>\n",
       "    </tr>\n",
       "  </thead>\n",
       "  <tbody>\n",
       "    <tr>\n",
       "      <th>0</th>\n",
       "      <td>253875</td>\n",
       "      <td>свыше 195820</td>\n",
       "    </tr>\n",
       "    <tr>\n",
       "      <th>1</th>\n",
       "      <td>112080</td>\n",
       "      <td>от 107623 до 142594</td>\n",
       "    </tr>\n",
       "    <tr>\n",
       "      <th>2</th>\n",
       "      <td>145885</td>\n",
       "      <td>от 142594 до 195820</td>\n",
       "    </tr>\n",
       "    <tr>\n",
       "      <th>3</th>\n",
       "      <td>267628</td>\n",
       "      <td>свыше 195820</td>\n",
       "    </tr>\n",
       "    <tr>\n",
       "      <th>4</th>\n",
       "      <td>158616</td>\n",
       "      <td>от 142594 до 195820</td>\n",
       "    </tr>\n",
       "    <tr>\n",
       "      <th>5</th>\n",
       "      <td>255763</td>\n",
       "      <td>свыше 195820</td>\n",
       "    </tr>\n",
       "    <tr>\n",
       "      <th>6</th>\n",
       "      <td>240525</td>\n",
       "      <td>свыше 195820</td>\n",
       "    </tr>\n",
       "    <tr>\n",
       "      <th>7</th>\n",
       "      <td>135823</td>\n",
       "      <td>от 107623 до 142594</td>\n",
       "    </tr>\n",
       "    <tr>\n",
       "      <th>8</th>\n",
       "      <td>95856</td>\n",
       "      <td>до 107623</td>\n",
       "    </tr>\n",
       "    <tr>\n",
       "      <th>9</th>\n",
       "      <td>144425</td>\n",
       "      <td>от 142594 до 195820</td>\n",
       "    </tr>\n",
       "  </tbody>\n",
       "</table>\n",
       "</div>"
      ],
      "text/plain": [
       "   total_income      income_category\n",
       "0        253875         свыше 195820\n",
       "1        112080  от 107623 до 142594\n",
       "2        145885  от 142594 до 195820\n",
       "3        267628         свыше 195820\n",
       "4        158616  от 142594 до 195820\n",
       "5        255763         свыше 195820\n",
       "6        240525         свыше 195820\n",
       "7        135823  от 107623 до 142594\n",
       "8         95856            до 107623\n",
       "9        144425  от 142594 до 195820"
      ]
     },
     "execution_count": 31,
     "metadata": {},
     "output_type": "execute_result"
    }
   ],
   "source": [
    "def income_check(total_income):\n",
    "    if total_income <= 107623:\n",
    "        return 'до 107623'\n",
    "    if total_income <= 142594:\n",
    "        return 'от 107623 до 142594'\n",
    "    if total_income <= 195820:\n",
    "        return 'от 142594 до 195820'\n",
    "    if total_income > 195820:\n",
    "        return 'свыше 195820'\n",
    "#применим функцию к столбцу children    \n",
    "df['income_category'] = df['total_income'].apply(income_check)\n",
    "df[['total_income', 'income_category']].head(10)"
   ]
  },
  {
   "cell_type": "code",
   "execution_count": 32,
   "metadata": {},
   "outputs": [
    {
     "data": {
      "text/plain": [
       "от 107623 до 142594    5479\n",
       "до 107623              5364\n",
       "свыше 195820           5364\n",
       "от 142594 до 195820    5247\n",
       "Name: income_category, dtype: int64"
      ]
     },
     "execution_count": 32,
     "metadata": {},
     "output_type": "execute_result"
    }
   ],
   "source": [
    "df['income_category'].value_counts()"
   ]
  },
  {
   "cell_type": "markdown",
   "metadata": {},
   "source": [
    "**Вывод**"
   ]
  },
  {
   "cell_type": "markdown",
   "metadata": {},
   "source": [
    "Была проведена категоризация, благодаря которой данные обрели структурированный вид. Теперь можно приступать к поиску ответов на вопросы исследования."
   ]
  },
  {
   "cell_type": "markdown",
   "metadata": {},
   "source": [
    "## <a id=\"analysis\">Анализ данных</a>"
   ]
  },
  {
   "cell_type": "markdown",
   "metadata": {},
   "source": [
    "### <a id=\"children\">Зависимость между наличием детей и возвратом кредита в срок</a>"
   ]
  },
  {
   "cell_type": "markdown",
   "metadata": {},
   "source": [
    "На данный вопрос можно ответить если создать сводную таблицу с данными из столбца `children` и `debt`."
   ]
  },
  {
   "cell_type": "code",
   "execution_count": 33,
   "metadata": {
    "scrolled": true
   },
   "outputs": [
    {
     "data": {
      "text/html": [
       "<div>\n",
       "<style scoped>\n",
       "    .dataframe tbody tr th:only-of-type {\n",
       "        vertical-align: middle;\n",
       "    }\n",
       "\n",
       "    .dataframe tbody tr th {\n",
       "        vertical-align: top;\n",
       "    }\n",
       "\n",
       "    .dataframe thead th {\n",
       "        text-align: right;\n",
       "    }\n",
       "</style>\n",
       "<table border=\"1\" class=\"dataframe\">\n",
       "  <thead>\n",
       "    <tr style=\"text-align: right;\">\n",
       "      <th>debt</th>\n",
       "      <th>0</th>\n",
       "      <th>1</th>\n",
       "      <th>sum</th>\n",
       "    </tr>\n",
       "    <tr>\n",
       "      <th>children</th>\n",
       "      <th></th>\n",
       "      <th></th>\n",
       "      <th></th>\n",
       "    </tr>\n",
       "  </thead>\n",
       "  <tbody>\n",
       "    <tr>\n",
       "      <th>0</th>\n",
       "      <td>13028</td>\n",
       "      <td>1063</td>\n",
       "      <td>14091</td>\n",
       "    </tr>\n",
       "    <tr>\n",
       "      <th>1</th>\n",
       "      <td>4410</td>\n",
       "      <td>445</td>\n",
       "      <td>4855</td>\n",
       "    </tr>\n",
       "    <tr>\n",
       "      <th>2</th>\n",
       "      <td>1926</td>\n",
       "      <td>202</td>\n",
       "      <td>2128</td>\n",
       "    </tr>\n",
       "    <tr>\n",
       "      <th>3</th>\n",
       "      <td>303</td>\n",
       "      <td>27</td>\n",
       "      <td>330</td>\n",
       "    </tr>\n",
       "    <tr>\n",
       "      <th>4</th>\n",
       "      <td>37</td>\n",
       "      <td>4</td>\n",
       "      <td>41</td>\n",
       "    </tr>\n",
       "    <tr>\n",
       "      <th>5</th>\n",
       "      <td>9</td>\n",
       "      <td>0</td>\n",
       "      <td>9</td>\n",
       "    </tr>\n",
       "  </tbody>\n",
       "</table>\n",
       "</div>"
      ],
      "text/plain": [
       "debt          0     1    sum\n",
       "children                    \n",
       "0         13028  1063  14091\n",
       "1          4410   445   4855\n",
       "2          1926   202   2128\n",
       "3           303    27    330\n",
       "4            37     4     41\n",
       "5             9     0      9"
      ]
     },
     "execution_count": 33,
     "metadata": {},
     "output_type": "execute_result"
    }
   ],
   "source": [
    "#создадим сводную таблицу\n",
    "debt_pivot_child = df.pivot_table(index='children', columns= 'debt', values='total_income', aggfunc=('count'), fill_value=0)\n",
    "#создадим еще один столбец sum, чтобы увидеть общее количество людей в каждой группе\n",
    "debt_pivot_child['sum'] = debt_pivot_child[0] + debt_pivot_child[1]\n",
    "#выведем результат на экран\n",
    "debt_pivot_child"
   ]
  },
  {
   "cell_type": "markdown",
   "metadata": {},
   "source": [
    "Теперь найдем отношение людей с задолженность к общему количеству людей в каждой группе"
   ]
  },
  {
   "cell_type": "code",
   "execution_count": 34,
   "metadata": {},
   "outputs": [
    {
     "data": {
      "text/html": [
       "<div>\n",
       "<style scoped>\n",
       "    .dataframe tbody tr th:only-of-type {\n",
       "        vertical-align: middle;\n",
       "    }\n",
       "\n",
       "    .dataframe tbody tr th {\n",
       "        vertical-align: top;\n",
       "    }\n",
       "\n",
       "    .dataframe thead th {\n",
       "        text-align: right;\n",
       "    }\n",
       "</style>\n",
       "<table border=\"1\" class=\"dataframe\">\n",
       "  <thead>\n",
       "    <tr style=\"text-align: right;\">\n",
       "      <th>debt</th>\n",
       "      <th>0</th>\n",
       "      <th>1</th>\n",
       "      <th>sum</th>\n",
       "      <th>ratio</th>\n",
       "    </tr>\n",
       "    <tr>\n",
       "      <th>children</th>\n",
       "      <th></th>\n",
       "      <th></th>\n",
       "      <th></th>\n",
       "      <th></th>\n",
       "    </tr>\n",
       "  </thead>\n",
       "  <tbody>\n",
       "    <tr>\n",
       "      <th>0</th>\n",
       "      <td>13028</td>\n",
       "      <td>1063</td>\n",
       "      <td>14091</td>\n",
       "      <td>7.543822</td>\n",
       "    </tr>\n",
       "    <tr>\n",
       "      <th>1</th>\n",
       "      <td>4410</td>\n",
       "      <td>445</td>\n",
       "      <td>4855</td>\n",
       "      <td>9.165808</td>\n",
       "    </tr>\n",
       "    <tr>\n",
       "      <th>2</th>\n",
       "      <td>1926</td>\n",
       "      <td>202</td>\n",
       "      <td>2128</td>\n",
       "      <td>9.492481</td>\n",
       "    </tr>\n",
       "    <tr>\n",
       "      <th>3</th>\n",
       "      <td>303</td>\n",
       "      <td>27</td>\n",
       "      <td>330</td>\n",
       "      <td>8.181818</td>\n",
       "    </tr>\n",
       "    <tr>\n",
       "      <th>4</th>\n",
       "      <td>37</td>\n",
       "      <td>4</td>\n",
       "      <td>41</td>\n",
       "      <td>9.756098</td>\n",
       "    </tr>\n",
       "    <tr>\n",
       "      <th>5</th>\n",
       "      <td>9</td>\n",
       "      <td>0</td>\n",
       "      <td>9</td>\n",
       "      <td>0.000000</td>\n",
       "    </tr>\n",
       "  </tbody>\n",
       "</table>\n",
       "</div>"
      ],
      "text/plain": [
       "debt          0     1    sum     ratio\n",
       "children                              \n",
       "0         13028  1063  14091  7.543822\n",
       "1          4410   445   4855  9.165808\n",
       "2          1926   202   2128  9.492481\n",
       "3           303    27    330  8.181818\n",
       "4            37     4     41  9.756098\n",
       "5             9     0      9  0.000000"
      ]
     },
     "execution_count": 34,
     "metadata": {},
     "output_type": "execute_result"
    }
   ],
   "source": [
    "debt_pivot_child['ratio'] = debt_pivot_child[1] / debt_pivot_child['sum']*100\n",
    "debt_pivot_child"
   ]
  },
  {
   "cell_type": "markdown",
   "metadata": {},
   "source": [
    "**Вывод**"
   ]
  },
  {
   "cell_type": "markdown",
   "metadata": {},
   "source": [
    "В зависимости от наличия детей задолженность имели :\n",
    "* клиенты без детей - 7,5%;\n",
    "* у клиента один ребенок - 9,2%;\n",
    "* у клиента два ребенка - 9,5%;\n",
    "* у клиента три ребенка - 8,2%;\n",
    "* у клиента четыре ребенка - 9,8%;\n",
    "***\n",
    "**Клиенты с детьми чаше не возвращали деньги в срок. Это вполне логично, ведь при наличии детей увеличиваются расходы. Из тех, у кого есть дети чаше других имели задолженность те, у которых два или четыре ребенка.**"
   ]
  },
  {
   "cell_type": "markdown",
   "metadata": {},
   "source": [
    "### <a id=\"status\">Зависимость между семейным положением и возвратом кредита в срок</a>"
   ]
  },
  {
   "cell_type": "markdown",
   "metadata": {},
   "source": [
    "На данный вопрос как и на следующие ответим таким же способом как и на первый вопрос."
   ]
  },
  {
   "cell_type": "code",
   "execution_count": 35,
   "metadata": {},
   "outputs": [
    {
     "data": {
      "text/html": [
       "<div>\n",
       "<style scoped>\n",
       "    .dataframe tbody tr th:only-of-type {\n",
       "        vertical-align: middle;\n",
       "    }\n",
       "\n",
       "    .dataframe tbody tr th {\n",
       "        vertical-align: top;\n",
       "    }\n",
       "\n",
       "    .dataframe thead th {\n",
       "        text-align: right;\n",
       "    }\n",
       "</style>\n",
       "<table border=\"1\" class=\"dataframe\">\n",
       "  <thead>\n",
       "    <tr style=\"text-align: right;\">\n",
       "      <th>debt</th>\n",
       "      <th>0</th>\n",
       "      <th>1</th>\n",
       "      <th>sum</th>\n",
       "      <th>ratio</th>\n",
       "    </tr>\n",
       "    <tr>\n",
       "      <th>family_status_id</th>\n",
       "      <th></th>\n",
       "      <th></th>\n",
       "      <th></th>\n",
       "      <th></th>\n",
       "    </tr>\n",
       "  </thead>\n",
       "  <tbody>\n",
       "    <tr>\n",
       "      <th>0</th>\n",
       "      <td>11408</td>\n",
       "      <td>931</td>\n",
       "      <td>12339</td>\n",
       "      <td>7.545182</td>\n",
       "    </tr>\n",
       "    <tr>\n",
       "      <th>1</th>\n",
       "      <td>3763</td>\n",
       "      <td>388</td>\n",
       "      <td>4151</td>\n",
       "      <td>9.347145</td>\n",
       "    </tr>\n",
       "    <tr>\n",
       "      <th>2</th>\n",
       "      <td>896</td>\n",
       "      <td>63</td>\n",
       "      <td>959</td>\n",
       "      <td>6.569343</td>\n",
       "    </tr>\n",
       "    <tr>\n",
       "      <th>3</th>\n",
       "      <td>1110</td>\n",
       "      <td>85</td>\n",
       "      <td>1195</td>\n",
       "      <td>7.112971</td>\n",
       "    </tr>\n",
       "    <tr>\n",
       "      <th>4</th>\n",
       "      <td>2536</td>\n",
       "      <td>274</td>\n",
       "      <td>2810</td>\n",
       "      <td>9.750890</td>\n",
       "    </tr>\n",
       "  </tbody>\n",
       "</table>\n",
       "</div>"
      ],
      "text/plain": [
       "debt                  0    1    sum     ratio\n",
       "family_status_id                             \n",
       "0                 11408  931  12339  7.545182\n",
       "1                  3763  388   4151  9.347145\n",
       "2                   896   63    959  6.569343\n",
       "3                  1110   85   1195  7.112971\n",
       "4                  2536  274   2810  9.750890"
      ]
     },
     "metadata": {},
     "output_type": "display_data"
    },
    {
     "name": "stdout",
     "output_type": "stream",
     "text": [
      "Словарь: семейный статус\\id\n"
     ]
    },
    {
     "data": {
      "text/html": [
       "<div>\n",
       "<style scoped>\n",
       "    .dataframe tbody tr th:only-of-type {\n",
       "        vertical-align: middle;\n",
       "    }\n",
       "\n",
       "    .dataframe tbody tr th {\n",
       "        vertical-align: top;\n",
       "    }\n",
       "\n",
       "    .dataframe thead th {\n",
       "        text-align: right;\n",
       "    }\n",
       "</style>\n",
       "<table border=\"1\" class=\"dataframe\">\n",
       "  <thead>\n",
       "    <tr style=\"text-align: right;\">\n",
       "      <th></th>\n",
       "      <th>family_status</th>\n",
       "      <th>family_status_id</th>\n",
       "    </tr>\n",
       "  </thead>\n",
       "  <tbody>\n",
       "    <tr>\n",
       "      <th>0</th>\n",
       "      <td>женат / замужем</td>\n",
       "      <td>0</td>\n",
       "    </tr>\n",
       "    <tr>\n",
       "      <th>1</th>\n",
       "      <td>гражданский брак</td>\n",
       "      <td>1</td>\n",
       "    </tr>\n",
       "    <tr>\n",
       "      <th>2</th>\n",
       "      <td>вдовец / вдова</td>\n",
       "      <td>2</td>\n",
       "    </tr>\n",
       "    <tr>\n",
       "      <th>3</th>\n",
       "      <td>в разводе</td>\n",
       "      <td>3</td>\n",
       "    </tr>\n",
       "    <tr>\n",
       "      <th>4</th>\n",
       "      <td>Не женат / не замужем</td>\n",
       "      <td>4</td>\n",
       "    </tr>\n",
       "  </tbody>\n",
       "</table>\n",
       "</div>"
      ],
      "text/plain": [
       "           family_status  family_status_id\n",
       "0        женат / замужем                 0\n",
       "1       гражданский брак                 1\n",
       "2         вдовец / вдова                 2\n",
       "3              в разводе                 3\n",
       "4  Не женат / не замужем                 4"
      ]
     },
     "execution_count": 35,
     "metadata": {},
     "output_type": "execute_result"
    }
   ],
   "source": [
    "debt_pivot_family = df.pivot_table(index='family_status_id', columns= 'debt', values='total_income', aggfunc=('count'))\n",
    "debt_pivot_family['sum'] = debt_pivot_family[0] + debt_pivot_family[1]\n",
    "debt_pivot_family['ratio'] = debt_pivot_family[1] / debt_pivot_family['sum']*100\n",
    "display(debt_pivot_family)\n",
    "print('Словарь: семейный статус\\id')\n",
    "family_dict"
   ]
  },
  {
   "cell_type": "markdown",
   "metadata": {},
   "source": [
    "**Вывод**"
   ]
  },
  {
   "cell_type": "markdown",
   "metadata": {},
   "source": [
    "Задолженность имели:\n",
    "* люди в браке - 7,5% \n",
    "* люди в гражданскком браке - 9,3% \n",
    "* овдовевшие - 6,6% \n",
    "* в разводе - 7,1% \n",
    "* холостые - 9,8%\n",
    "***\n",
    "**Наиболее рискованные категории - люди в гражданском браке и холостые.**"
   ]
  },
  {
   "cell_type": "markdown",
   "metadata": {},
   "source": [
    "### <a id=\"income\">Зависимость между уровнем дохода и возвратом кредита в срок</a>"
   ]
  },
  {
   "cell_type": "code",
   "execution_count": 36,
   "metadata": {},
   "outputs": [
    {
     "data": {
      "text/html": [
       "<div>\n",
       "<style scoped>\n",
       "    .dataframe tbody tr th:only-of-type {\n",
       "        vertical-align: middle;\n",
       "    }\n",
       "\n",
       "    .dataframe tbody tr th {\n",
       "        vertical-align: top;\n",
       "    }\n",
       "\n",
       "    .dataframe thead th {\n",
       "        text-align: right;\n",
       "    }\n",
       "</style>\n",
       "<table border=\"1\" class=\"dataframe\">\n",
       "  <thead>\n",
       "    <tr style=\"text-align: right;\">\n",
       "      <th>debt</th>\n",
       "      <th>0</th>\n",
       "      <th>1</th>\n",
       "      <th>sum</th>\n",
       "      <th>ratio</th>\n",
       "    </tr>\n",
       "    <tr>\n",
       "      <th>income_category</th>\n",
       "      <th></th>\n",
       "      <th></th>\n",
       "      <th></th>\n",
       "      <th></th>\n",
       "    </tr>\n",
       "  </thead>\n",
       "  <tbody>\n",
       "    <tr>\n",
       "      <th>до 107623</th>\n",
       "      <td>4937</td>\n",
       "      <td>427</td>\n",
       "      <td>5364</td>\n",
       "      <td>7.960477</td>\n",
       "    </tr>\n",
       "    <tr>\n",
       "      <th>от 107623 до 142594</th>\n",
       "      <td>4996</td>\n",
       "      <td>483</td>\n",
       "      <td>5479</td>\n",
       "      <td>8.815477</td>\n",
       "    </tr>\n",
       "    <tr>\n",
       "      <th>от 142594 до 195820</th>\n",
       "      <td>4799</td>\n",
       "      <td>448</td>\n",
       "      <td>5247</td>\n",
       "      <td>8.538212</td>\n",
       "    </tr>\n",
       "    <tr>\n",
       "      <th>свыше 195820</th>\n",
       "      <td>4981</td>\n",
       "      <td>383</td>\n",
       "      <td>5364</td>\n",
       "      <td>7.140194</td>\n",
       "    </tr>\n",
       "  </tbody>\n",
       "</table>\n",
       "</div>"
      ],
      "text/plain": [
       "debt                    0    1   sum     ratio\n",
       "income_category                               \n",
       "до 107623            4937  427  5364  7.960477\n",
       "от 107623 до 142594  4996  483  5479  8.815477\n",
       "от 142594 до 195820  4799  448  5247  8.538212\n",
       "свыше 195820         4981  383  5364  7.140194"
      ]
     },
     "execution_count": 36,
     "metadata": {},
     "output_type": "execute_result"
    }
   ],
   "source": [
    "debt_pivot_income = df.pivot_table(index='income_category', columns= 'debt', values='total_income', aggfunc=('count'))\n",
    "debt_pivot_income['sum'] = debt_pivot_income[0] + debt_pivot_income[1]\n",
    "debt_pivot_income['ratio'] = debt_pivot_income[1] / debt_pivot_income['sum']*100\n",
    "debt_pivot_income"
   ]
  },
  {
   "cell_type": "markdown",
   "metadata": {},
   "source": [
    "**Вывод**"
   ]
  },
  {
   "cell_type": "markdown",
   "metadata": {},
   "source": [
    "Задолженность имели люди с доходом:\n",
    "* до 107623 - 8% \n",
    "* от 107623 до 142594 - 8,8% \n",
    "* от 142594 до 195820- 8,3% \n",
    "* свыше 195820 - 7,1% \n",
    "***\n",
    "**Наиболее рискованные категории - люди с доходом от 107623 до 142594.**"
   ]
  },
  {
   "cell_type": "markdown",
   "metadata": {},
   "source": [
    "### <a id=\"purpose\">Зависимость между целью кредита возврат кредита в срок</a>"
   ]
  },
  {
   "cell_type": "code",
   "execution_count": 37,
   "metadata": {},
   "outputs": [
    {
     "data": {
      "text/html": [
       "<div>\n",
       "<style scoped>\n",
       "    .dataframe tbody tr th:only-of-type {\n",
       "        vertical-align: middle;\n",
       "    }\n",
       "\n",
       "    .dataframe tbody tr th {\n",
       "        vertical-align: top;\n",
       "    }\n",
       "\n",
       "    .dataframe thead th {\n",
       "        text-align: right;\n",
       "    }\n",
       "</style>\n",
       "<table border=\"1\" class=\"dataframe\">\n",
       "  <thead>\n",
       "    <tr style=\"text-align: right;\">\n",
       "      <th>debt</th>\n",
       "      <th>0</th>\n",
       "      <th>1</th>\n",
       "      <th>sum</th>\n",
       "      <th>ratio</th>\n",
       "    </tr>\n",
       "    <tr>\n",
       "      <th>purpose_short</th>\n",
       "      <th></th>\n",
       "      <th></th>\n",
       "      <th></th>\n",
       "      <th></th>\n",
       "    </tr>\n",
       "  </thead>\n",
       "  <tbody>\n",
       "    <tr>\n",
       "      <th>автомобиль</th>\n",
       "      <td>3903</td>\n",
       "      <td>403</td>\n",
       "      <td>4306</td>\n",
       "      <td>9.359034</td>\n",
       "    </tr>\n",
       "    <tr>\n",
       "      <th>недвижимость</th>\n",
       "      <td>10029</td>\n",
       "      <td>782</td>\n",
       "      <td>10811</td>\n",
       "      <td>7.233373</td>\n",
       "    </tr>\n",
       "    <tr>\n",
       "      <th>образование</th>\n",
       "      <td>3643</td>\n",
       "      <td>370</td>\n",
       "      <td>4013</td>\n",
       "      <td>9.220035</td>\n",
       "    </tr>\n",
       "    <tr>\n",
       "      <th>свадьба</th>\n",
       "      <td>2138</td>\n",
       "      <td>186</td>\n",
       "      <td>2324</td>\n",
       "      <td>8.003442</td>\n",
       "    </tr>\n",
       "  </tbody>\n",
       "</table>\n",
       "</div>"
      ],
      "text/plain": [
       "debt               0    1    sum     ratio\n",
       "purpose_short                             \n",
       "автомобиль      3903  403   4306  9.359034\n",
       "недвижимость   10029  782  10811  7.233373\n",
       "образование     3643  370   4013  9.220035\n",
       "свадьба         2138  186   2324  8.003442"
      ]
     },
     "execution_count": 37,
     "metadata": {},
     "output_type": "execute_result"
    }
   ],
   "source": [
    "debt_pivot_purpose = df.pivot_table(index='purpose_short', columns= 'debt', values='total_income', aggfunc=('count'))\n",
    "debt_pivot_purpose['sum'] = debt_pivot_purpose[0] + debt_pivot_purpose[1]\n",
    "debt_pivot_purpose['ratio'] = debt_pivot_purpose[1] / debt_pivot_purpose['sum']*100\n",
    "debt_pivot_purpose"
   ]
  },
  {
   "cell_type": "markdown",
   "metadata": {},
   "source": [
    "**Вывод**"
   ]
  },
  {
   "cell_type": "markdown",
   "metadata": {},
   "source": [
    "Задолженность в зависимости от целей кредита:\n",
    "* автомобиль - 9,35%\n",
    "* недвижимость - 7,23%\n",
    "* образование - 9,22%\n",
    "* свадьба - 8%\n",
    "***\n",
    "**Наиболее рискованные категории - автомобиль и образование. Возможно это связано с тем, что часто кредиты на подобные цели берут молодые люди с небольшим доходом.**"
   ]
  },
  {
   "cell_type": "markdown",
   "metadata": {},
   "source": [
    "## <a id=\"conclusion\">Общий вывод</a>"
   ]
  },
  {
   "cell_type": "markdown",
   "metadata": {},
   "source": [
    "Были получены следующие результаты:\n",
    "* клиенты с детьми чаше имели задолженность по кредиту, чем клиенты без детей. При этом чаще других не возвращали деньги в срок клиенты, у которых двое(9.5%) или четыре(9,8%);\n",
    "* в зависимости от семейного положения наиболее рискованные категории - клиенты в гражданском браке(9,3%) и холостые(9,8%); наименее рискованная - овдовевшие(6,6%);\n",
    "* в зависимости от дохода наиболее рискованная категория - клиенты с доходом от 107623 до 142594(8,8%); наименее рискованная - с доходом свыше 195820(7,1%);\n",
    "* в зависимости от цели кредита наиболее рискованные категории - автомобиль(9,35%) и образование(9,22%); наименее рискованная - недвижимость(7,23%)."
   ]
  }
 ],
 "metadata": {
  "ExecuteTimeLog": [
   {
    "duration": 60,
    "start_time": "2021-12-04T22:42:44.861Z"
   },
   {
    "duration": 8,
    "start_time": "2021-12-04T22:46:51.808Z"
   },
   {
    "duration": 15,
    "start_time": "2021-12-04T22:47:21.190Z"
   },
   {
    "duration": 10,
    "start_time": "2021-12-04T23:01:06.526Z"
   },
   {
    "duration": 7,
    "start_time": "2021-12-04T23:03:15.067Z"
   },
   {
    "duration": 5,
    "start_time": "2021-12-04T23:05:49.549Z"
   },
   {
    "duration": 12,
    "start_time": "2021-12-04T23:06:01.048Z"
   },
   {
    "duration": 16,
    "start_time": "2021-12-04T23:06:47.084Z"
   },
   {
    "duration": 5,
    "start_time": "2021-12-04T23:07:09.159Z"
   },
   {
    "duration": 30,
    "start_time": "2021-12-04T23:07:40.849Z"
   },
   {
    "duration": 19,
    "start_time": "2021-12-04T23:08:13.019Z"
   },
   {
    "duration": 20,
    "start_time": "2021-12-04T23:08:41.518Z"
   },
   {
    "duration": 5,
    "start_time": "2021-12-04T23:11:03.725Z"
   },
   {
    "duration": 6,
    "start_time": "2021-12-04T23:11:17.705Z"
   },
   {
    "duration": 5,
    "start_time": "2021-12-04T23:11:41.667Z"
   },
   {
    "duration": 57,
    "start_time": "2021-12-05T00:54:24.039Z"
   },
   {
    "duration": 4,
    "start_time": "2021-12-05T00:54:24.098Z"
   },
   {
    "duration": 13,
    "start_time": "2021-12-05T00:54:24.104Z"
   },
   {
    "duration": 10,
    "start_time": "2021-12-05T00:54:24.119Z"
   },
   {
    "duration": 6,
    "start_time": "2021-12-05T00:54:24.132Z"
   },
   {
    "duration": 3,
    "start_time": "2021-12-05T00:54:24.139Z"
   },
   {
    "duration": 52,
    "start_time": "2021-12-05T00:54:24.144Z"
   },
   {
    "duration": 15,
    "start_time": "2021-12-05T00:54:24.198Z"
   },
   {
    "duration": 4,
    "start_time": "2021-12-05T00:54:24.215Z"
   },
   {
    "duration": 25,
    "start_time": "2021-12-05T00:54:24.221Z"
   },
   {
    "duration": 56,
    "start_time": "2021-12-05T00:54:24.248Z"
   },
   {
    "duration": 8,
    "start_time": "2021-12-05T00:54:24.306Z"
   },
   {
    "duration": 3918,
    "start_time": "2021-12-05T00:54:24.316Z"
   },
   {
    "duration": 4203,
    "start_time": "2021-12-05T00:55:53.606Z"
   },
   {
    "duration": 59,
    "start_time": "2021-12-05T00:56:06.680Z"
   },
   {
    "duration": 4,
    "start_time": "2021-12-05T00:56:06.741Z"
   },
   {
    "duration": 13,
    "start_time": "2021-12-05T00:56:06.747Z"
   },
   {
    "duration": 30,
    "start_time": "2021-12-05T00:56:06.762Z"
   },
   {
    "duration": 6,
    "start_time": "2021-12-05T00:56:06.794Z"
   },
   {
    "duration": 4,
    "start_time": "2021-12-05T00:56:06.801Z"
   },
   {
    "duration": 12,
    "start_time": "2021-12-05T00:56:06.806Z"
   },
   {
    "duration": 13,
    "start_time": "2021-12-05T00:56:06.820Z"
   },
   {
    "duration": 4,
    "start_time": "2021-12-05T00:56:06.835Z"
   },
   {
    "duration": 62,
    "start_time": "2021-12-05T00:56:06.841Z"
   },
   {
    "duration": 18,
    "start_time": "2021-12-05T00:56:06.905Z"
   },
   {
    "duration": 6,
    "start_time": "2021-12-05T00:56:06.925Z"
   },
   {
    "duration": 4048,
    "start_time": "2021-12-05T00:56:06.932Z"
   },
   {
    "duration": 3758,
    "start_time": "2021-12-05T00:57:13.411Z"
   },
   {
    "duration": 3684,
    "start_time": "2021-12-05T00:59:04.145Z"
   },
   {
    "duration": 4040,
    "start_time": "2021-12-05T00:59:47.799Z"
   },
   {
    "duration": 4075,
    "start_time": "2021-12-05T01:00:53.199Z"
   },
   {
    "duration": 3956,
    "start_time": "2021-12-05T01:01:10.010Z"
   },
   {
    "duration": 63,
    "start_time": "2021-12-05T01:01:57.335Z"
   },
   {
    "duration": 3911,
    "start_time": "2021-12-05T01:02:06.619Z"
   },
   {
    "duration": 3987,
    "start_time": "2021-12-05T01:03:29.205Z"
   },
   {
    "duration": 4025,
    "start_time": "2021-12-05T01:07:13.743Z"
   },
   {
    "duration": 7,
    "start_time": "2021-12-05T01:38:27.920Z"
   },
   {
    "duration": 9,
    "start_time": "2021-12-05T01:42:08.033Z"
   },
   {
    "duration": 6,
    "start_time": "2021-12-05T01:42:40.750Z"
   },
   {
    "duration": 11,
    "start_time": "2021-12-05T02:00:18.199Z"
   },
   {
    "duration": 9,
    "start_time": "2021-12-05T02:00:46.509Z"
   },
   {
    "duration": 9,
    "start_time": "2021-12-05T02:00:52.927Z"
   },
   {
    "duration": 9,
    "start_time": "2021-12-05T02:00:57.056Z"
   },
   {
    "duration": 10,
    "start_time": "2021-12-05T02:01:07.412Z"
   },
   {
    "duration": 7,
    "start_time": "2021-12-05T02:01:13.268Z"
   },
   {
    "duration": 11,
    "start_time": "2021-12-05T02:02:42.351Z"
   },
   {
    "duration": 9,
    "start_time": "2021-12-05T02:35:27.252Z"
   },
   {
    "duration": 4,
    "start_time": "2021-12-05T02:41:56.733Z"
   },
   {
    "duration": 6,
    "start_time": "2021-12-05T02:42:44.268Z"
   },
   {
    "duration": 6,
    "start_time": "2021-12-05T02:44:13.449Z"
   },
   {
    "duration": 7,
    "start_time": "2021-12-05T02:44:22.760Z"
   },
   {
    "duration": 6,
    "start_time": "2021-12-05T02:44:25.507Z"
   },
   {
    "duration": 6,
    "start_time": "2021-12-05T02:44:28.210Z"
   },
   {
    "duration": 8,
    "start_time": "2021-12-05T02:44:31.327Z"
   },
   {
    "duration": 6,
    "start_time": "2021-12-05T02:44:36.775Z"
   },
   {
    "duration": 29,
    "start_time": "2021-12-05T03:40:29.577Z"
   },
   {
    "duration": 20,
    "start_time": "2021-12-05T03:40:39.042Z"
   },
   {
    "duration": 59,
    "start_time": "2021-12-05T03:40:40.456Z"
   },
   {
    "duration": 3,
    "start_time": "2021-12-05T03:40:40.517Z"
   },
   {
    "duration": 17,
    "start_time": "2021-12-05T03:40:40.522Z"
   },
   {
    "duration": 9,
    "start_time": "2021-12-05T03:40:40.541Z"
   },
   {
    "duration": 7,
    "start_time": "2021-12-05T03:40:40.551Z"
   },
   {
    "duration": 4,
    "start_time": "2021-12-05T03:40:40.559Z"
   },
   {
    "duration": 38,
    "start_time": "2021-12-05T03:40:40.564Z"
   },
   {
    "duration": 12,
    "start_time": "2021-12-05T03:40:40.603Z"
   },
   {
    "duration": 4,
    "start_time": "2021-12-05T03:40:40.617Z"
   },
   {
    "duration": 26,
    "start_time": "2021-12-05T03:40:40.623Z"
   },
   {
    "duration": 42,
    "start_time": "2021-12-05T03:40:40.650Z"
   },
   {
    "duration": 6,
    "start_time": "2021-12-05T03:40:40.693Z"
   },
   {
    "duration": 3833,
    "start_time": "2021-12-05T03:40:40.700Z"
   },
   {
    "duration": 4,
    "start_time": "2021-12-05T03:40:44.535Z"
   },
   {
    "duration": 9,
    "start_time": "2021-12-05T03:40:44.540Z"
   },
   {
    "duration": 9,
    "start_time": "2021-12-05T03:40:44.550Z"
   },
   {
    "duration": 9,
    "start_time": "2021-12-05T03:40:44.560Z"
   },
   {
    "duration": 9,
    "start_time": "2021-12-05T03:40:44.592Z"
   },
   {
    "duration": 5,
    "start_time": "2021-12-05T03:57:46.055Z"
   },
   {
    "duration": 62,
    "start_time": "2021-12-05T03:57:50.390Z"
   },
   {
    "duration": 4,
    "start_time": "2021-12-05T03:57:50.454Z"
   },
   {
    "duration": 14,
    "start_time": "2021-12-05T03:57:50.460Z"
   },
   {
    "duration": 9,
    "start_time": "2021-12-05T03:57:50.492Z"
   },
   {
    "duration": 7,
    "start_time": "2021-12-05T03:57:50.503Z"
   },
   {
    "duration": 5,
    "start_time": "2021-12-05T03:57:50.511Z"
   },
   {
    "duration": 15,
    "start_time": "2021-12-05T03:57:50.518Z"
   },
   {
    "duration": 13,
    "start_time": "2021-12-05T03:57:50.535Z"
   },
   {
    "duration": 4,
    "start_time": "2021-12-05T03:57:50.550Z"
   },
   {
    "duration": 5,
    "start_time": "2021-12-05T03:57:50.591Z"
   },
   {
    "duration": 27,
    "start_time": "2021-12-05T03:57:50.597Z"
   },
   {
    "duration": 20,
    "start_time": "2021-12-05T03:57:50.625Z"
   },
   {
    "duration": 45,
    "start_time": "2021-12-05T03:57:50.647Z"
   },
   {
    "duration": 3778,
    "start_time": "2021-12-05T03:57:50.693Z"
   },
   {
    "duration": 5,
    "start_time": "2021-12-05T03:57:54.473Z"
   },
   {
    "duration": 7,
    "start_time": "2021-12-05T03:57:54.491Z"
   },
   {
    "duration": 23,
    "start_time": "2021-12-05T03:57:54.499Z"
   },
   {
    "duration": 8,
    "start_time": "2021-12-05T03:57:54.524Z"
   },
   {
    "duration": 9,
    "start_time": "2021-12-05T03:57:54.533Z"
   },
   {
    "duration": 19,
    "start_time": "2021-12-05T04:00:44.987Z"
   },
   {
    "duration": 59,
    "start_time": "2021-12-05T04:00:49.458Z"
   },
   {
    "duration": 4,
    "start_time": "2021-12-05T04:00:49.519Z"
   },
   {
    "duration": 26,
    "start_time": "2021-12-05T04:00:49.525Z"
   },
   {
    "duration": 28,
    "start_time": "2021-12-05T04:00:49.553Z"
   },
   {
    "duration": 8,
    "start_time": "2021-12-05T04:00:49.584Z"
   },
   {
    "duration": 13,
    "start_time": "2021-12-05T04:00:49.594Z"
   },
   {
    "duration": 30,
    "start_time": "2021-12-05T04:00:49.609Z"
   },
   {
    "duration": 16,
    "start_time": "2021-12-05T04:00:49.642Z"
   },
   {
    "duration": 5,
    "start_time": "2021-12-05T04:00:49.660Z"
   },
   {
    "duration": 36,
    "start_time": "2021-12-05T04:00:49.667Z"
   },
   {
    "duration": 5,
    "start_time": "2021-12-05T04:00:49.705Z"
   },
   {
    "duration": 34,
    "start_time": "2021-12-05T04:00:49.712Z"
   },
   {
    "duration": 31,
    "start_time": "2021-12-05T04:00:49.748Z"
   },
   {
    "duration": 7,
    "start_time": "2021-12-05T04:00:49.792Z"
   },
   {
    "duration": 3972,
    "start_time": "2021-12-05T04:00:49.801Z"
   },
   {
    "duration": 19,
    "start_time": "2021-12-05T04:00:53.776Z"
   },
   {
    "duration": 9,
    "start_time": "2021-12-05T04:00:53.797Z"
   },
   {
    "duration": 8,
    "start_time": "2021-12-05T04:00:53.808Z"
   },
   {
    "duration": 10,
    "start_time": "2021-12-05T04:00:53.818Z"
   },
   {
    "duration": 12,
    "start_time": "2021-12-05T04:00:53.830Z"
   },
   {
    "duration": 6,
    "start_time": "2021-12-05T04:03:08.629Z"
   },
   {
    "duration": 8,
    "start_time": "2021-12-05T04:05:04.223Z"
   },
   {
    "duration": 6,
    "start_time": "2021-12-05T04:08:37.414Z"
   },
   {
    "duration": 9,
    "start_time": "2021-12-05T04:10:08.182Z"
   },
   {
    "duration": 19,
    "start_time": "2021-12-05T04:10:21.623Z"
   },
   {
    "duration": 65,
    "start_time": "2021-12-05T04:10:24.742Z"
   },
   {
    "duration": 4,
    "start_time": "2021-12-05T04:10:24.810Z"
   },
   {
    "duration": 15,
    "start_time": "2021-12-05T04:10:24.817Z"
   },
   {
    "duration": 10,
    "start_time": "2021-12-05T04:10:24.833Z"
   },
   {
    "duration": 51,
    "start_time": "2021-12-05T04:10:24.845Z"
   },
   {
    "duration": 4,
    "start_time": "2021-12-05T04:10:24.898Z"
   },
   {
    "duration": 14,
    "start_time": "2021-12-05T04:10:24.903Z"
   },
   {
    "duration": 14,
    "start_time": "2021-12-05T04:10:24.918Z"
   },
   {
    "duration": 5,
    "start_time": "2021-12-05T04:10:24.934Z"
   },
   {
    "duration": 6,
    "start_time": "2021-12-05T04:10:24.941Z"
   },
   {
    "duration": 45,
    "start_time": "2021-12-05T04:10:24.948Z"
   },
   {
    "duration": 8,
    "start_time": "2021-12-05T04:10:24.994Z"
   },
   {
    "duration": 17,
    "start_time": "2021-12-05T04:10:25.004Z"
   },
   {
    "duration": 5,
    "start_time": "2021-12-05T04:10:25.022Z"
   },
   {
    "duration": 25,
    "start_time": "2021-12-05T04:10:25.029Z"
   },
   {
    "duration": 55,
    "start_time": "2021-12-05T04:10:25.055Z"
   },
   {
    "duration": 6,
    "start_time": "2021-12-05T04:10:25.112Z"
   },
   {
    "duration": 4110,
    "start_time": "2021-12-05T04:10:25.119Z"
   },
   {
    "duration": 4,
    "start_time": "2021-12-05T04:10:29.231Z"
   },
   {
    "duration": 8,
    "start_time": "2021-12-05T04:10:29.237Z"
   },
   {
    "duration": 9,
    "start_time": "2021-12-05T04:10:29.247Z"
   },
   {
    "duration": 39,
    "start_time": "2021-12-05T04:10:29.257Z"
   },
   {
    "duration": 11,
    "start_time": "2021-12-05T04:10:29.298Z"
   },
   {
    "duration": 19,
    "start_time": "2021-12-05T04:12:15.652Z"
   },
   {
    "duration": 60,
    "start_time": "2021-12-05T04:12:18.684Z"
   },
   {
    "duration": 4,
    "start_time": "2021-12-05T04:12:18.746Z"
   },
   {
    "duration": 26,
    "start_time": "2021-12-05T04:12:18.752Z"
   },
   {
    "duration": 19,
    "start_time": "2021-12-05T04:12:18.780Z"
   },
   {
    "duration": 12,
    "start_time": "2021-12-05T04:12:18.801Z"
   },
   {
    "duration": 20,
    "start_time": "2021-12-05T04:12:18.814Z"
   },
   {
    "duration": 25,
    "start_time": "2021-12-05T04:12:18.835Z"
   },
   {
    "duration": 20,
    "start_time": "2021-12-05T04:12:18.862Z"
   },
   {
    "duration": 12,
    "start_time": "2021-12-05T04:12:18.885Z"
   },
   {
    "duration": 20,
    "start_time": "2021-12-05T04:12:18.899Z"
   },
   {
    "duration": 24,
    "start_time": "2021-12-05T04:12:18.921Z"
   },
   {
    "duration": 30,
    "start_time": "2021-12-05T04:12:18.947Z"
   },
   {
    "duration": 18,
    "start_time": "2021-12-05T04:12:18.978Z"
   },
   {
    "duration": 5,
    "start_time": "2021-12-05T04:12:18.998Z"
   },
   {
    "duration": 4001,
    "start_time": "2021-12-05T04:12:19.004Z"
   },
   {
    "duration": 5,
    "start_time": "2021-12-05T04:12:23.007Z"
   },
   {
    "duration": 10,
    "start_time": "2021-12-05T04:12:23.013Z"
   },
   {
    "duration": 8,
    "start_time": "2021-12-05T04:12:23.025Z"
   },
   {
    "duration": 8,
    "start_time": "2021-12-05T04:12:23.035Z"
   },
   {
    "duration": 49,
    "start_time": "2021-12-05T04:12:23.044Z"
   },
   {
    "duration": 20,
    "start_time": "2021-12-05T04:13:39.349Z"
   },
   {
    "duration": 4,
    "start_time": "2021-12-05T04:15:16.314Z"
   },
   {
    "duration": 5,
    "start_time": "2021-12-05T04:16:12.130Z"
   },
   {
    "duration": 174,
    "start_time": "2021-12-05T04:16:32.560Z"
   },
   {
    "duration": 7,
    "start_time": "2021-12-05T04:17:04.509Z"
   },
   {
    "duration": 6,
    "start_time": "2021-12-05T04:19:38.695Z"
   },
   {
    "duration": 5,
    "start_time": "2021-12-05T04:20:05.822Z"
   },
   {
    "duration": 5,
    "start_time": "2021-12-05T04:20:41.389Z"
   },
   {
    "duration": 5,
    "start_time": "2021-12-05T04:21:49.093Z"
   },
   {
    "duration": 62,
    "start_time": "2021-12-05T04:21:52.776Z"
   },
   {
    "duration": 4,
    "start_time": "2021-12-05T04:21:52.841Z"
   },
   {
    "duration": 44,
    "start_time": "2021-12-05T04:21:52.848Z"
   },
   {
    "duration": 11,
    "start_time": "2021-12-05T04:21:52.895Z"
   },
   {
    "duration": 9,
    "start_time": "2021-12-05T04:21:52.908Z"
   },
   {
    "duration": 4,
    "start_time": "2021-12-05T04:21:52.918Z"
   },
   {
    "duration": 14,
    "start_time": "2021-12-05T04:21:52.924Z"
   },
   {
    "duration": 59,
    "start_time": "2021-12-05T04:21:52.940Z"
   },
   {
    "duration": 4,
    "start_time": "2021-12-05T04:21:53.003Z"
   },
   {
    "duration": 17,
    "start_time": "2021-12-05T04:21:53.010Z"
   },
   {
    "duration": 8,
    "start_time": "2021-12-05T04:21:53.029Z"
   },
   {
    "duration": 5,
    "start_time": "2021-12-05T04:21:53.039Z"
   },
   {
    "duration": 70,
    "start_time": "2021-12-05T04:21:53.046Z"
   },
   {
    "duration": 5,
    "start_time": "2021-12-05T04:21:53.118Z"
   },
   {
    "duration": 8,
    "start_time": "2021-12-05T04:21:53.125Z"
   },
   {
    "duration": 67,
    "start_time": "2021-12-05T04:21:53.135Z"
   },
   {
    "duration": 8,
    "start_time": "2021-12-05T04:21:53.204Z"
   },
   {
    "duration": 4063,
    "start_time": "2021-12-05T04:21:53.214Z"
   },
   {
    "duration": 5,
    "start_time": "2021-12-05T04:21:57.278Z"
   },
   {
    "duration": 8,
    "start_time": "2021-12-05T04:21:57.292Z"
   },
   {
    "duration": 26,
    "start_time": "2021-12-05T04:21:57.301Z"
   },
   {
    "duration": 21,
    "start_time": "2021-12-05T04:21:57.328Z"
   },
   {
    "duration": 25,
    "start_time": "2021-12-05T04:21:57.351Z"
   },
   {
    "duration": 5,
    "start_time": "2021-12-05T04:22:19.212Z"
   },
   {
    "duration": 5,
    "start_time": "2021-12-05T04:25:08.613Z"
   },
   {
    "duration": 56,
    "start_time": "2021-12-05T04:25:45.217Z"
   },
   {
    "duration": 7,
    "start_time": "2021-12-05T04:26:55.855Z"
   },
   {
    "duration": 4,
    "start_time": "2021-12-05T04:27:35.716Z"
   },
   {
    "duration": 6,
    "start_time": "2021-12-05T04:27:43.110Z"
   },
   {
    "duration": 7,
    "start_time": "2021-12-05T04:28:17.754Z"
   },
   {
    "duration": 18,
    "start_time": "2021-12-05T04:28:30.461Z"
   },
   {
    "duration": 60,
    "start_time": "2021-12-05T04:29:45.892Z"
   },
   {
    "duration": 4,
    "start_time": "2021-12-05T04:29:45.955Z"
   },
   {
    "duration": 13,
    "start_time": "2021-12-05T04:29:45.961Z"
   },
   {
    "duration": 8,
    "start_time": "2021-12-05T04:29:45.992Z"
   },
   {
    "duration": 10,
    "start_time": "2021-12-05T04:29:46.002Z"
   },
   {
    "duration": 3,
    "start_time": "2021-12-05T04:29:46.014Z"
   },
   {
    "duration": 12,
    "start_time": "2021-12-05T04:29:46.018Z"
   },
   {
    "duration": 13,
    "start_time": "2021-12-05T04:29:46.031Z"
   },
   {
    "duration": 3,
    "start_time": "2021-12-05T04:29:46.047Z"
   },
   {
    "duration": 53,
    "start_time": "2021-12-05T04:29:46.052Z"
   },
   {
    "duration": 5,
    "start_time": "2021-12-05T04:29:46.106Z"
   },
   {
    "duration": 4,
    "start_time": "2021-12-05T04:29:46.113Z"
   },
   {
    "duration": 23,
    "start_time": "2021-12-05T04:29:46.119Z"
   },
   {
    "duration": 4,
    "start_time": "2021-12-05T04:29:46.143Z"
   },
   {
    "duration": 44,
    "start_time": "2021-12-05T04:29:46.148Z"
   },
   {
    "duration": 4,
    "start_time": "2021-12-05T04:29:46.194Z"
   },
   {
    "duration": 6,
    "start_time": "2021-12-05T04:29:46.200Z"
   },
   {
    "duration": 5,
    "start_time": "2021-12-05T04:29:46.208Z"
   },
   {
    "duration": 4,
    "start_time": "2021-12-05T04:29:46.215Z"
   },
   {
    "duration": 18,
    "start_time": "2021-12-05T04:29:46.220Z"
   },
   {
    "duration": 67,
    "start_time": "2021-12-05T04:29:46.239Z"
   },
   {
    "duration": 5,
    "start_time": "2021-12-05T04:29:46.308Z"
   },
   {
    "duration": 3813,
    "start_time": "2021-12-05T04:29:46.315Z"
   },
   {
    "duration": 5,
    "start_time": "2021-12-05T04:29:50.129Z"
   },
   {
    "duration": 25,
    "start_time": "2021-12-05T04:29:50.135Z"
   },
   {
    "duration": 19,
    "start_time": "2021-12-05T04:29:50.162Z"
   },
   {
    "duration": 19,
    "start_time": "2021-12-05T04:29:50.184Z"
   },
   {
    "duration": 13,
    "start_time": "2021-12-05T04:29:50.204Z"
   },
   {
    "duration": 18,
    "start_time": "2021-12-05T04:41:27.186Z"
   },
   {
    "duration": 512,
    "start_time": "2021-12-05T04:46:59.781Z"
   },
   {
    "duration": 182,
    "start_time": "2021-12-05T04:47:15.429Z"
   },
   {
    "duration": 182,
    "start_time": "2021-12-05T04:47:31.582Z"
   },
   {
    "duration": 176,
    "start_time": "2021-12-05T04:47:55.649Z"
   },
   {
    "duration": 187,
    "start_time": "2021-12-05T04:52:06.558Z"
   },
   {
    "duration": 179,
    "start_time": "2021-12-05T04:52:16.808Z"
   },
   {
    "duration": 16,
    "start_time": "2021-12-05T04:55:09.494Z"
   },
   {
    "duration": 8,
    "start_time": "2021-12-05T04:57:06.447Z"
   },
   {
    "duration": 163,
    "start_time": "2021-12-05T05:02:11.965Z"
   },
   {
    "duration": 8,
    "start_time": "2021-12-05T05:02:29.305Z"
   },
   {
    "duration": 7,
    "start_time": "2021-12-05T05:03:10.081Z"
   },
   {
    "duration": 18,
    "start_time": "2021-12-05T05:05:00.415Z"
   },
   {
    "duration": 11,
    "start_time": "2021-12-05T05:06:09.031Z"
   },
   {
    "duration": 11,
    "start_time": "2021-12-05T05:06:22.862Z"
   },
   {
    "duration": 10,
    "start_time": "2021-12-05T05:06:32.878Z"
   },
   {
    "duration": 15,
    "start_time": "2021-12-05T05:07:30.273Z"
   },
   {
    "duration": 21,
    "start_time": "2021-12-05T05:34:43.888Z"
   },
   {
    "duration": 12,
    "start_time": "2021-12-05T05:36:14.307Z"
   },
   {
    "duration": 7,
    "start_time": "2021-12-05T05:37:10.557Z"
   },
   {
    "duration": 8,
    "start_time": "2021-12-05T05:37:23.757Z"
   },
   {
    "duration": 11,
    "start_time": "2021-12-05T05:38:36.812Z"
   },
   {
    "duration": 13,
    "start_time": "2021-12-05T05:38:52.013Z"
   },
   {
    "duration": 13,
    "start_time": "2021-12-05T05:39:55.889Z"
   },
   {
    "duration": 15,
    "start_time": "2021-12-05T05:40:01.101Z"
   },
   {
    "duration": 19,
    "start_time": "2021-12-05T05:40:17.410Z"
   },
   {
    "duration": 536,
    "start_time": "2021-12-05T05:42:46.063Z"
   },
   {
    "duration": 19,
    "start_time": "2021-12-05T05:42:55.932Z"
   },
   {
    "duration": 173,
    "start_time": "2021-12-05T05:43:01.537Z"
   },
   {
    "duration": 19,
    "start_time": "2021-12-05T05:43:07.454Z"
   },
   {
    "duration": 19,
    "start_time": "2021-12-05T05:43:12.493Z"
   },
   {
    "duration": 62,
    "start_time": "2021-12-05T05:44:58.040Z"
   },
   {
    "duration": 14,
    "start_time": "2021-12-05T05:45:06.966Z"
   },
   {
    "duration": 20,
    "start_time": "2021-12-05T05:45:20.448Z"
   },
   {
    "duration": 14,
    "start_time": "2021-12-05T05:46:02.058Z"
   },
   {
    "duration": 15,
    "start_time": "2021-12-05T05:46:38.436Z"
   },
   {
    "duration": 12,
    "start_time": "2021-12-05T05:47:14.745Z"
   },
   {
    "duration": 13,
    "start_time": "2021-12-05T05:47:46.114Z"
   },
   {
    "duration": 14,
    "start_time": "2021-12-05T05:52:39.416Z"
   },
   {
    "duration": 249,
    "start_time": "2021-12-05T05:53:35.475Z"
   },
   {
    "duration": 20,
    "start_time": "2021-12-05T05:53:57.151Z"
   },
   {
    "duration": 19,
    "start_time": "2021-12-05T05:54:22.312Z"
   },
   {
    "duration": 472,
    "start_time": "2021-12-05T05:54:40.171Z"
   },
   {
    "duration": 22,
    "start_time": "2021-12-05T05:54:43.695Z"
   },
   {
    "duration": 12,
    "start_time": "2021-12-05T05:55:07.770Z"
   },
   {
    "duration": 65,
    "start_time": "2021-12-05T05:55:28.915Z"
   },
   {
    "duration": 18,
    "start_time": "2021-12-05T05:55:35.344Z"
   },
   {
    "duration": 207,
    "start_time": "2021-12-05T05:58:08.500Z"
   },
   {
    "duration": 20,
    "start_time": "2021-12-05T05:58:17.688Z"
   },
   {
    "duration": 685,
    "start_time": "2021-12-05T06:00:19.336Z"
   },
   {
    "duration": 18,
    "start_time": "2021-12-05T06:00:26.141Z"
   },
   {
    "duration": 15,
    "start_time": "2021-12-05T06:08:37.985Z"
   },
   {
    "duration": 16,
    "start_time": "2021-12-05T06:08:41.168Z"
   },
   {
    "duration": 20,
    "start_time": "2021-12-05T06:08:48.333Z"
   },
   {
    "duration": 16,
    "start_time": "2021-12-05T06:09:03.852Z"
   },
   {
    "duration": 16,
    "start_time": "2021-12-05T06:09:07.964Z"
   },
   {
    "duration": 199,
    "start_time": "2021-12-05T06:09:14.717Z"
   },
   {
    "duration": 20,
    "start_time": "2021-12-05T06:09:21.730Z"
   },
   {
    "duration": 14,
    "start_time": "2021-12-05T06:10:10.151Z"
   },
   {
    "duration": 567,
    "start_time": "2021-12-05T06:18:43.146Z"
   },
   {
    "duration": 19,
    "start_time": "2021-12-05T06:18:53.875Z"
   },
   {
    "duration": 11,
    "start_time": "2021-12-05T06:24:09.611Z"
   },
   {
    "duration": 190,
    "start_time": "2021-12-05T06:25:15.747Z"
   },
   {
    "duration": 15,
    "start_time": "2021-12-05T06:25:42.343Z"
   },
   {
    "duration": 26,
    "start_time": "2021-12-05T06:25:54.816Z"
   },
   {
    "duration": 200,
    "start_time": "2021-12-05T12:27:38.643Z"
   },
   {
    "duration": 610,
    "start_time": "2021-12-05T12:27:44.440Z"
   },
   {
    "duration": 9,
    "start_time": "2021-12-05T12:27:45.052Z"
   },
   {
    "duration": 17,
    "start_time": "2021-12-05T12:27:45.063Z"
   },
   {
    "duration": 13,
    "start_time": "2021-12-05T12:27:45.082Z"
   },
   {
    "duration": 7,
    "start_time": "2021-12-05T12:27:45.097Z"
   },
   {
    "duration": 3,
    "start_time": "2021-12-05T12:27:45.106Z"
   },
   {
    "duration": 13,
    "start_time": "2021-12-05T12:27:45.110Z"
   },
   {
    "duration": 14,
    "start_time": "2021-12-05T12:27:45.125Z"
   },
   {
    "duration": 4,
    "start_time": "2021-12-05T12:27:45.141Z"
   },
   {
    "duration": 57,
    "start_time": "2021-12-05T12:27:45.148Z"
   },
   {
    "duration": 6,
    "start_time": "2021-12-05T12:27:45.207Z"
   },
   {
    "duration": 6,
    "start_time": "2021-12-05T12:27:45.214Z"
   },
   {
    "duration": 25,
    "start_time": "2021-12-05T12:27:45.221Z"
   },
   {
    "duration": 44,
    "start_time": "2021-12-05T12:27:45.248Z"
   },
   {
    "duration": 6,
    "start_time": "2021-12-05T12:27:45.294Z"
   },
   {
    "duration": 6,
    "start_time": "2021-12-05T12:27:45.302Z"
   },
   {
    "duration": 7,
    "start_time": "2021-12-05T12:27:45.310Z"
   },
   {
    "duration": 7,
    "start_time": "2021-12-05T12:27:45.319Z"
   },
   {
    "duration": 4,
    "start_time": "2021-12-05T12:27:45.328Z"
   },
   {
    "duration": 59,
    "start_time": "2021-12-05T12:27:45.334Z"
   },
   {
    "duration": 19,
    "start_time": "2021-12-05T12:27:45.395Z"
   },
   {
    "duration": 5,
    "start_time": "2021-12-05T12:27:45.416Z"
   },
   {
    "duration": 4536,
    "start_time": "2021-12-05T12:27:45.423Z"
   },
   {
    "duration": 31,
    "start_time": "2021-12-05T12:27:49.962Z"
   },
   {
    "duration": 9,
    "start_time": "2021-12-05T12:27:49.995Z"
   },
   {
    "duration": 12,
    "start_time": "2021-12-05T12:27:50.006Z"
   },
   {
    "duration": 14,
    "start_time": "2021-12-05T12:27:50.023Z"
   },
   {
    "duration": 13,
    "start_time": "2021-12-05T12:27:50.039Z"
   },
   {
    "duration": 56,
    "start_time": "2021-12-05T12:27:50.054Z"
   },
   {
    "duration": 10,
    "start_time": "2021-12-05T12:27:50.113Z"
   },
   {
    "duration": 548,
    "start_time": "2021-12-05T12:27:50.125Z"
   },
   {
    "duration": -10072,
    "start_time": "2021-12-05T12:28:00.748Z"
   },
   {
    "duration": 20,
    "start_time": "2021-12-05T12:28:22.559Z"
   },
   {
    "duration": 20,
    "start_time": "2021-12-05T12:28:57.648Z"
   },
   {
    "duration": 18,
    "start_time": "2021-12-05T12:29:07.048Z"
   },
   {
    "duration": 17,
    "start_time": "2021-12-05T12:29:56.322Z"
   },
   {
    "duration": 16,
    "start_time": "2021-12-05T12:30:16.851Z"
   },
   {
    "duration": 16,
    "start_time": "2021-12-05T12:30:23.964Z"
   },
   {
    "duration": 16,
    "start_time": "2021-12-05T12:30:37.805Z"
   },
   {
    "duration": 17,
    "start_time": "2021-12-05T12:36:03.742Z"
   },
   {
    "duration": 17,
    "start_time": "2021-12-05T12:36:23.401Z"
   },
   {
    "duration": 16,
    "start_time": "2021-12-05T12:36:31.471Z"
   },
   {
    "duration": 24,
    "start_time": "2021-12-05T12:36:59.339Z"
   },
   {
    "duration": 16,
    "start_time": "2021-12-05T12:37:07.513Z"
   },
   {
    "duration": 17,
    "start_time": "2021-12-05T12:40:25.164Z"
   },
   {
    "duration": 6092,
    "start_time": "2021-12-05T12:41:26.494Z"
   },
   {
    "duration": 10,
    "start_time": "2021-12-05T12:41:58.193Z"
   },
   {
    "duration": 13,
    "start_time": "2021-12-05T12:45:23.281Z"
   },
   {
    "duration": 16,
    "start_time": "2021-12-05T12:45:31.661Z"
   },
   {
    "duration": 14,
    "start_time": "2021-12-05T12:46:12.501Z"
   },
   {
    "duration": 16,
    "start_time": "2021-12-05T12:46:19.408Z"
   },
   {
    "duration": 20,
    "start_time": "2021-12-05T12:46:33.448Z"
   },
   {
    "duration": 18,
    "start_time": "2021-12-05T12:49:57.778Z"
   },
   {
    "duration": 184,
    "start_time": "2021-12-05T12:52:56.812Z"
   },
   {
    "duration": 35,
    "start_time": "2021-12-05T12:53:29.078Z"
   },
   {
    "duration": 19,
    "start_time": "2021-12-05T12:56:12.133Z"
   },
   {
    "duration": 13,
    "start_time": "2021-12-05T12:56:59.122Z"
   },
   {
    "duration": 10,
    "start_time": "2021-12-05T12:59:07.950Z"
   },
   {
    "duration": 4890,
    "start_time": "2021-12-05T13:00:35.352Z"
   },
   {
    "duration": 20,
    "start_time": "2021-12-05T13:00:43.644Z"
   },
   {
    "duration": 8,
    "start_time": "2021-12-05T13:01:23.189Z"
   },
   {
    "duration": 17,
    "start_time": "2021-12-05T13:02:20.921Z"
   },
   {
    "duration": 22,
    "start_time": "2021-12-05T13:03:08.275Z"
   },
   {
    "duration": 24,
    "start_time": "2021-12-05T13:05:17.192Z"
   },
   {
    "duration": 780,
    "start_time": "2021-12-05T23:51:18.233Z"
   },
   {
    "duration": 13,
    "start_time": "2021-12-05T23:51:19.017Z"
   },
   {
    "duration": 23,
    "start_time": "2021-12-05T23:51:19.034Z"
   },
   {
    "duration": 32,
    "start_time": "2021-12-05T23:51:19.060Z"
   },
   {
    "duration": 9,
    "start_time": "2021-12-05T23:51:19.095Z"
   },
   {
    "duration": 4,
    "start_time": "2021-12-05T23:51:19.107Z"
   },
   {
    "duration": 5,
    "start_time": "2021-12-05T23:51:19.113Z"
   },
   {
    "duration": 64,
    "start_time": "2021-12-05T23:51:19.121Z"
   },
   {
    "duration": 21,
    "start_time": "2021-12-05T23:51:19.189Z"
   },
   {
    "duration": 5,
    "start_time": "2021-12-05T23:51:19.213Z"
   },
   {
    "duration": 62,
    "start_time": "2021-12-05T23:51:19.220Z"
   },
   {
    "duration": 8,
    "start_time": "2021-12-05T23:51:19.284Z"
   },
   {
    "duration": 8,
    "start_time": "2021-12-05T23:51:19.295Z"
   },
   {
    "duration": 37,
    "start_time": "2021-12-05T23:51:19.306Z"
   },
   {
    "duration": 8,
    "start_time": "2021-12-05T23:51:19.383Z"
   },
   {
    "duration": 10,
    "start_time": "2021-12-05T23:51:19.393Z"
   },
   {
    "duration": 8,
    "start_time": "2021-12-05T23:51:19.406Z"
   },
   {
    "duration": 15,
    "start_time": "2021-12-05T23:51:19.416Z"
   },
   {
    "duration": 51,
    "start_time": "2021-12-05T23:51:19.433Z"
   },
   {
    "duration": 7,
    "start_time": "2021-12-05T23:51:19.486Z"
   },
   {
    "duration": 27,
    "start_time": "2021-12-05T23:51:19.496Z"
   },
   {
    "duration": 66,
    "start_time": "2021-12-05T23:51:19.526Z"
   },
   {
    "duration": 10,
    "start_time": "2021-12-05T23:51:19.595Z"
   },
   {
    "duration": 5900,
    "start_time": "2021-12-05T23:51:19.608Z"
   },
   {
    "duration": 24,
    "start_time": "2021-12-05T23:51:25.511Z"
   },
   {
    "duration": 10,
    "start_time": "2021-12-05T23:51:25.537Z"
   },
   {
    "duration": 41,
    "start_time": "2021-12-05T23:51:25.552Z"
   },
   {
    "duration": 32,
    "start_time": "2021-12-05T23:51:25.595Z"
   },
   {
    "duration": 11,
    "start_time": "2021-12-05T23:51:25.630Z"
   },
   {
    "duration": 69,
    "start_time": "2021-12-05T23:51:25.644Z"
   },
   {
    "duration": 33,
    "start_time": "2021-12-05T23:51:25.715Z"
   },
   {
    "duration": 10,
    "start_time": "2021-12-05T23:51:33.108Z"
   },
   {
    "duration": 77,
    "start_time": "2021-12-05T23:53:06.828Z"
   },
   {
    "duration": 6,
    "start_time": "2021-12-05T23:53:06.907Z"
   },
   {
    "duration": 24,
    "start_time": "2021-12-05T23:53:06.916Z"
   },
   {
    "duration": 15,
    "start_time": "2021-12-05T23:53:06.943Z"
   },
   {
    "duration": 12,
    "start_time": "2021-12-05T23:53:06.983Z"
   },
   {
    "duration": 10,
    "start_time": "2021-12-05T23:53:06.997Z"
   },
   {
    "duration": 7,
    "start_time": "2021-12-05T23:53:07.010Z"
   },
   {
    "duration": 18,
    "start_time": "2021-12-05T23:53:07.019Z"
   },
   {
    "duration": 22,
    "start_time": "2021-12-05T23:53:07.087Z"
   },
   {
    "duration": 6,
    "start_time": "2021-12-05T23:53:07.113Z"
   },
   {
    "duration": 62,
    "start_time": "2021-12-05T23:53:07.123Z"
   },
   {
    "duration": 11,
    "start_time": "2021-12-05T23:53:07.188Z"
   },
   {
    "duration": 8,
    "start_time": "2021-12-05T23:53:07.202Z"
   },
   {
    "duration": 81,
    "start_time": "2021-12-05T23:53:07.214Z"
   },
   {
    "duration": 7,
    "start_time": "2021-12-05T23:53:07.298Z"
   },
   {
    "duration": 9,
    "start_time": "2021-12-05T23:53:07.308Z"
   },
   {
    "duration": 13,
    "start_time": "2021-12-05T23:53:07.320Z"
   },
   {
    "duration": 49,
    "start_time": "2021-12-05T23:53:07.336Z"
   },
   {
    "duration": 8,
    "start_time": "2021-12-05T23:53:07.388Z"
   },
   {
    "duration": 8,
    "start_time": "2021-12-05T23:53:07.400Z"
   },
   {
    "duration": 29,
    "start_time": "2021-12-05T23:53:07.411Z"
   },
   {
    "duration": 66,
    "start_time": "2021-12-05T23:53:07.443Z"
   },
   {
    "duration": 8,
    "start_time": "2021-12-05T23:53:07.512Z"
   },
   {
    "duration": 5909,
    "start_time": "2021-12-05T23:53:07.523Z"
   },
   {
    "duration": 24,
    "start_time": "2021-12-05T23:53:13.435Z"
   },
   {
    "duration": 28,
    "start_time": "2021-12-05T23:53:13.461Z"
   },
   {
    "duration": 15,
    "start_time": "2021-12-05T23:53:13.494Z"
   },
   {
    "duration": 27,
    "start_time": "2021-12-05T23:53:13.511Z"
   },
   {
    "duration": 44,
    "start_time": "2021-12-05T23:53:13.541Z"
   },
   {
    "duration": 35,
    "start_time": "2021-12-05T23:53:13.588Z"
   },
   {
    "duration": 63,
    "start_time": "2021-12-05T23:53:13.626Z"
   },
   {
    "duration": 8,
    "start_time": "2021-12-05T23:56:09.555Z"
   },
   {
    "duration": 5,
    "start_time": "2021-12-06T00:04:22.428Z"
   },
   {
    "duration": 5,
    "start_time": "2021-12-06T00:04:37.234Z"
   },
   {
    "duration": 6,
    "start_time": "2021-12-06T00:04:45.221Z"
   },
   {
    "duration": 6,
    "start_time": "2021-12-06T00:13:13.971Z"
   },
   {
    "duration": 6,
    "start_time": "2021-12-06T00:13:21.947Z"
   },
   {
    "duration": 6,
    "start_time": "2021-12-06T00:13:32.813Z"
   },
   {
    "duration": 6,
    "start_time": "2021-12-06T00:15:20.812Z"
   },
   {
    "duration": 14,
    "start_time": "2021-12-06T00:22:46.362Z"
   },
   {
    "duration": 10,
    "start_time": "2021-12-06T00:22:50.761Z"
   },
   {
    "duration": 14,
    "start_time": "2021-12-06T00:22:52.192Z"
   },
   {
    "duration": 810,
    "start_time": "2021-12-06T03:35:19.305Z"
   },
   {
    "duration": 13,
    "start_time": "2021-12-06T03:35:20.117Z"
   },
   {
    "duration": 29,
    "start_time": "2021-12-06T03:35:20.133Z"
   },
   {
    "duration": 11,
    "start_time": "2021-12-06T03:35:20.165Z"
   },
   {
    "duration": 9,
    "start_time": "2021-12-06T03:35:20.179Z"
   },
   {
    "duration": 8,
    "start_time": "2021-12-06T03:35:20.190Z"
   },
   {
    "duration": 9,
    "start_time": "2021-12-06T03:35:20.200Z"
   },
   {
    "duration": 53,
    "start_time": "2021-12-06T03:35:20.212Z"
   },
   {
    "duration": 5,
    "start_time": "2021-12-06T03:35:20.269Z"
   },
   {
    "duration": 17,
    "start_time": "2021-12-06T03:35:20.277Z"
   },
   {
    "duration": 21,
    "start_time": "2021-12-06T03:35:20.296Z"
   },
   {
    "duration": 40,
    "start_time": "2021-12-06T03:35:20.319Z"
   },
   {
    "duration": 23,
    "start_time": "2021-12-06T03:35:20.362Z"
   },
   {
    "duration": 8,
    "start_time": "2021-12-06T03:35:20.388Z"
   },
   {
    "duration": 7,
    "start_time": "2021-12-06T03:35:20.398Z"
   },
   {
    "duration": 86,
    "start_time": "2021-12-06T03:35:20.407Z"
   },
   {
    "duration": 5,
    "start_time": "2021-12-06T03:35:20.496Z"
   },
   {
    "duration": 9,
    "start_time": "2021-12-06T03:35:20.503Z"
   },
   {
    "duration": 45,
    "start_time": "2021-12-06T03:35:20.514Z"
   },
   {
    "duration": 8,
    "start_time": "2021-12-06T03:35:20.562Z"
   },
   {
    "duration": 8,
    "start_time": "2021-12-06T03:35:20.572Z"
   },
   {
    "duration": 6,
    "start_time": "2021-12-06T03:35:20.582Z"
   },
   {
    "duration": 71,
    "start_time": "2021-12-06T03:35:20.590Z"
   },
   {
    "duration": 28,
    "start_time": "2021-12-06T03:35:20.663Z"
   },
   {
    "duration": 8,
    "start_time": "2021-12-06T03:35:20.694Z"
   },
   {
    "duration": 6031,
    "start_time": "2021-12-06T03:35:20.705Z"
   },
   {
    "duration": 33,
    "start_time": "2021-12-06T03:35:26.740Z"
   },
   {
    "duration": 11,
    "start_time": "2021-12-06T03:35:26.775Z"
   },
   {
    "duration": 16,
    "start_time": "2021-12-06T03:35:26.788Z"
   },
   {
    "duration": 69,
    "start_time": "2021-12-06T03:35:26.806Z"
   },
   {
    "duration": 10,
    "start_time": "2021-12-06T03:35:26.877Z"
   },
   {
    "duration": 35,
    "start_time": "2021-12-06T03:35:26.890Z"
   },
   {
    "duration": 49,
    "start_time": "2021-12-06T03:35:26.927Z"
   },
   {
    "duration": 456,
    "start_time": "2021-12-06T03:42:27.785Z"
   },
   {
    "duration": 7,
    "start_time": "2021-12-06T03:44:13.446Z"
   },
   {
    "duration": 9,
    "start_time": "2021-12-06T03:44:36.494Z"
   },
   {
    "duration": 19,
    "start_time": "2021-12-06T03:45:54.882Z"
   },
   {
    "duration": 12,
    "start_time": "2021-12-06T03:46:02.901Z"
   },
   {
    "duration": 10,
    "start_time": "2021-12-06T03:46:21.341Z"
   },
   {
    "duration": 10,
    "start_time": "2021-12-06T03:46:34.772Z"
   },
   {
    "duration": 8,
    "start_time": "2021-12-06T03:51:08.264Z"
   },
   {
    "duration": 10,
    "start_time": "2021-12-06T03:51:26.986Z"
   },
   {
    "duration": 11,
    "start_time": "2021-12-06T03:52:00.565Z"
   },
   {
    "duration": 11,
    "start_time": "2021-12-06T03:52:15.683Z"
   },
   {
    "duration": 11,
    "start_time": "2021-12-06T03:52:21.342Z"
   },
   {
    "duration": 12,
    "start_time": "2021-12-06T03:52:26.930Z"
   },
   {
    "duration": 9,
    "start_time": "2021-12-06T03:52:32.907Z"
   },
   {
    "duration": 11,
    "start_time": "2021-12-06T03:52:47.971Z"
   },
   {
    "duration": 8,
    "start_time": "2021-12-06T03:53:00.471Z"
   },
   {
    "duration": 10,
    "start_time": "2021-12-06T03:53:09.795Z"
   },
   {
    "duration": 12,
    "start_time": "2021-12-06T03:55:20.904Z"
   },
   {
    "duration": 12,
    "start_time": "2021-12-06T03:55:28.111Z"
   },
   {
    "duration": 16,
    "start_time": "2021-12-06T03:56:22.986Z"
   },
   {
    "duration": 13,
    "start_time": "2021-12-06T03:56:32.898Z"
   },
   {
    "duration": 12,
    "start_time": "2021-12-06T03:56:42.411Z"
   },
   {
    "duration": 10,
    "start_time": "2021-12-06T03:56:53.457Z"
   },
   {
    "duration": 12,
    "start_time": "2021-12-06T03:56:59.131Z"
   },
   {
    "duration": 10,
    "start_time": "2021-12-06T03:57:14.021Z"
   },
   {
    "duration": 11,
    "start_time": "2021-12-06T03:57:28.850Z"
   },
   {
    "duration": 11,
    "start_time": "2021-12-06T03:57:44.122Z"
   },
   {
    "duration": 12,
    "start_time": "2021-12-06T03:58:12.311Z"
   },
   {
    "duration": 12,
    "start_time": "2021-12-06T03:58:20.762Z"
   },
   {
    "duration": 13,
    "start_time": "2021-12-06T03:58:40.137Z"
   },
   {
    "duration": 10,
    "start_time": "2021-12-06T03:58:56.943Z"
   },
   {
    "duration": 14,
    "start_time": "2021-12-06T03:59:04.634Z"
   },
   {
    "duration": 14,
    "start_time": "2021-12-06T03:59:17.404Z"
   },
   {
    "duration": 15,
    "start_time": "2021-12-06T04:00:22.754Z"
   },
   {
    "duration": 16,
    "start_time": "2021-12-06T04:00:26.368Z"
   },
   {
    "duration": 11,
    "start_time": "2021-12-06T04:00:34.074Z"
   },
   {
    "duration": 10,
    "start_time": "2021-12-06T04:01:50.349Z"
   },
   {
    "duration": 14,
    "start_time": "2021-12-06T04:04:15.532Z"
   },
   {
    "duration": 12,
    "start_time": "2021-12-06T04:04:26.596Z"
   },
   {
    "duration": 11,
    "start_time": "2021-12-06T04:04:32.118Z"
   },
   {
    "duration": 369,
    "start_time": "2021-12-06T04:07:16.989Z"
   },
   {
    "duration": 12,
    "start_time": "2021-12-06T04:07:20.253Z"
   },
   {
    "duration": 11,
    "start_time": "2021-12-06T04:11:23.476Z"
   },
   {
    "duration": 25,
    "start_time": "2021-12-06T04:22:26.336Z"
   },
   {
    "duration": 370,
    "start_time": "2021-12-06T04:22:47.483Z"
   },
   {
    "duration": 29,
    "start_time": "2021-12-06T04:23:01.795Z"
   },
   {
    "duration": 30,
    "start_time": "2021-12-06T04:24:31.487Z"
   },
   {
    "duration": 35,
    "start_time": "2021-12-06T04:27:22.795Z"
   },
   {
    "duration": 46,
    "start_time": "2021-12-06T04:38:00.481Z"
   },
   {
    "duration": 46,
    "start_time": "2021-12-06T04:38:22.550Z"
   },
   {
    "duration": 74,
    "start_time": "2021-12-06T04:39:04.455Z"
   },
   {
    "duration": 19,
    "start_time": "2021-12-06T04:39:23.723Z"
   },
   {
    "duration": 13,
    "start_time": "2021-12-06T04:47:13.486Z"
   },
   {
    "duration": 14,
    "start_time": "2021-12-06T04:48:16.016Z"
   },
   {
    "duration": 8,
    "start_time": "2021-12-06T04:50:01.879Z"
   },
   {
    "duration": 21,
    "start_time": "2021-12-06T04:50:01.890Z"
   },
   {
    "duration": 17,
    "start_time": "2021-12-06T04:50:18.420Z"
   },
   {
    "duration": 7,
    "start_time": "2021-12-06T04:57:01.345Z"
   },
   {
    "duration": 15,
    "start_time": "2021-12-06T04:57:03.799Z"
   },
   {
    "duration": 13,
    "start_time": "2021-12-06T04:57:31.979Z"
   },
   {
    "duration": 77,
    "start_time": "2021-12-06T04:57:46.588Z"
   },
   {
    "duration": 5,
    "start_time": "2021-12-06T04:57:46.667Z"
   },
   {
    "duration": 22,
    "start_time": "2021-12-06T04:57:46.676Z"
   },
   {
    "duration": 14,
    "start_time": "2021-12-06T04:57:46.700Z"
   },
   {
    "duration": 51,
    "start_time": "2021-12-06T04:57:46.716Z"
   },
   {
    "duration": 7,
    "start_time": "2021-12-06T04:57:46.770Z"
   },
   {
    "duration": 19,
    "start_time": "2021-12-06T04:57:46.780Z"
   },
   {
    "duration": 7,
    "start_time": "2021-12-06T04:57:46.801Z"
   },
   {
    "duration": 18,
    "start_time": "2021-12-06T04:57:46.860Z"
   },
   {
    "duration": 13,
    "start_time": "2021-12-06T04:57:46.881Z"
   },
   {
    "duration": 24,
    "start_time": "2021-12-06T04:57:46.896Z"
   },
   {
    "duration": 40,
    "start_time": "2021-12-06T04:57:46.923Z"
   },
   {
    "duration": 26,
    "start_time": "2021-12-06T04:57:46.966Z"
   },
   {
    "duration": 8,
    "start_time": "2021-12-06T04:57:46.994Z"
   },
   {
    "duration": 55,
    "start_time": "2021-12-06T04:57:47.004Z"
   },
   {
    "duration": 35,
    "start_time": "2021-12-06T04:57:47.062Z"
   },
   {
    "duration": 6,
    "start_time": "2021-12-06T04:57:47.099Z"
   },
   {
    "duration": 52,
    "start_time": "2021-12-06T04:57:47.107Z"
   },
   {
    "duration": 6,
    "start_time": "2021-12-06T04:57:47.162Z"
   },
   {
    "duration": 8,
    "start_time": "2021-12-06T04:57:47.170Z"
   },
   {
    "duration": 8,
    "start_time": "2021-12-06T04:57:47.180Z"
   },
   {
    "duration": 6,
    "start_time": "2021-12-06T04:57:47.190Z"
   },
   {
    "duration": 78,
    "start_time": "2021-12-06T04:57:47.198Z"
   },
   {
    "duration": 28,
    "start_time": "2021-12-06T04:57:47.278Z"
   },
   {
    "duration": 7,
    "start_time": "2021-12-06T04:57:47.309Z"
   },
   {
    "duration": 5916,
    "start_time": "2021-12-06T04:57:47.319Z"
   },
   {
    "duration": 39,
    "start_time": "2021-12-06T04:57:53.240Z"
   },
   {
    "duration": 11,
    "start_time": "2021-12-06T04:57:53.282Z"
   },
   {
    "duration": 14,
    "start_time": "2021-12-06T04:57:53.296Z"
   },
   {
    "duration": 48,
    "start_time": "2021-12-06T04:57:53.312Z"
   },
   {
    "duration": 12,
    "start_time": "2021-12-06T04:57:53.363Z"
   },
   {
    "duration": 11,
    "start_time": "2021-12-06T04:57:53.378Z"
   },
   {
    "duration": 74,
    "start_time": "2021-12-06T04:57:53.391Z"
   },
   {
    "duration": 29,
    "start_time": "2021-12-06T04:57:53.467Z"
   },
   {
    "duration": 12,
    "start_time": "2021-12-06T04:57:53.499Z"
   },
   {
    "duration": 74,
    "start_time": "2021-12-06T04:57:53.513Z"
   },
   {
    "duration": 36,
    "start_time": "2021-12-06T04:57:53.590Z"
   },
   {
    "duration": 31,
    "start_time": "2021-12-06T04:57:53.660Z"
   },
   {
    "duration": 23,
    "start_time": "2021-12-06T05:06:44.907Z"
   },
   {
    "duration": 37,
    "start_time": "2021-12-06T05:11:26.601Z"
   },
   {
    "duration": 36,
    "start_time": "2021-12-06T05:11:39.708Z"
   },
   {
    "duration": 89,
    "start_time": "2021-12-06T05:12:43.897Z"
   },
   {
    "duration": 6,
    "start_time": "2021-12-06T05:12:43.990Z"
   },
   {
    "duration": 24,
    "start_time": "2021-12-06T05:12:43.998Z"
   },
   {
    "duration": 47,
    "start_time": "2021-12-06T05:12:44.025Z"
   },
   {
    "duration": 10,
    "start_time": "2021-12-06T05:12:44.074Z"
   },
   {
    "duration": 8,
    "start_time": "2021-12-06T05:12:44.087Z"
   },
   {
    "duration": 67,
    "start_time": "2021-12-06T05:12:44.097Z"
   },
   {
    "duration": 6,
    "start_time": "2021-12-06T05:12:44.167Z"
   },
   {
    "duration": 15,
    "start_time": "2021-12-06T05:12:44.177Z"
   },
   {
    "duration": 75,
    "start_time": "2021-12-06T05:12:44.195Z"
   },
   {
    "duration": 5,
    "start_time": "2021-12-06T05:12:44.273Z"
   },
   {
    "duration": 25,
    "start_time": "2021-12-06T05:12:44.281Z"
   },
   {
    "duration": 8,
    "start_time": "2021-12-06T05:12:44.309Z"
   },
   {
    "duration": 44,
    "start_time": "2021-12-06T05:12:44.320Z"
   },
   {
    "duration": 58,
    "start_time": "2021-12-06T05:12:44.368Z"
   },
   {
    "duration": 35,
    "start_time": "2021-12-06T05:12:44.430Z"
   },
   {
    "duration": 12,
    "start_time": "2021-12-06T05:12:44.468Z"
   },
   {
    "duration": 10,
    "start_time": "2021-12-06T05:12:44.483Z"
   },
   {
    "duration": 19,
    "start_time": "2021-12-06T05:12:44.496Z"
   },
   {
    "duration": 46,
    "start_time": "2021-12-06T05:12:44.518Z"
   },
   {
    "duration": 6,
    "start_time": "2021-12-06T05:12:44.568Z"
   },
   {
    "duration": 36,
    "start_time": "2021-12-06T05:12:44.577Z"
   },
   {
    "duration": 28,
    "start_time": "2021-12-06T05:12:44.661Z"
   },
   {
    "duration": 8,
    "start_time": "2021-12-06T05:12:44.692Z"
   },
   {
    "duration": 6925,
    "start_time": "2021-12-06T05:12:44.703Z"
   },
   {
    "duration": 41,
    "start_time": "2021-12-06T05:12:51.632Z"
   },
   {
    "duration": 11,
    "start_time": "2021-12-06T05:12:51.678Z"
   },
   {
    "duration": 20,
    "start_time": "2021-12-06T05:12:51.692Z"
   },
   {
    "duration": 54,
    "start_time": "2021-12-06T05:12:51.715Z"
   },
   {
    "duration": 28,
    "start_time": "2021-12-06T05:12:51.772Z"
   },
   {
    "duration": 71,
    "start_time": "2021-12-06T05:12:51.803Z"
   },
   {
    "duration": 11,
    "start_time": "2021-12-06T05:12:51.876Z"
   },
   {
    "duration": 70,
    "start_time": "2021-12-06T05:12:51.889Z"
   },
   {
    "duration": 37,
    "start_time": "2021-12-06T05:12:51.962Z"
   },
   {
    "duration": 71,
    "start_time": "2021-12-06T05:12:52.001Z"
   },
   {
    "duration": 279,
    "start_time": "2021-12-07T22:29:12.674Z"
   },
   {
    "duration": 627,
    "start_time": "2021-12-07T22:29:18.691Z"
   },
   {
    "duration": 8,
    "start_time": "2021-12-07T22:29:19.320Z"
   },
   {
    "duration": 13,
    "start_time": "2021-12-07T22:29:19.330Z"
   },
   {
    "duration": 8,
    "start_time": "2021-12-07T22:29:19.344Z"
   },
   {
    "duration": 6,
    "start_time": "2021-12-07T22:29:19.354Z"
   },
   {
    "duration": 6,
    "start_time": "2021-12-07T22:29:19.362Z"
   },
   {
    "duration": 12,
    "start_time": "2021-12-07T22:29:19.388Z"
   },
   {
    "duration": 4,
    "start_time": "2021-12-07T22:29:19.402Z"
   },
   {
    "duration": 11,
    "start_time": "2021-12-07T22:29:19.408Z"
   },
   {
    "duration": 15,
    "start_time": "2021-12-07T22:29:19.421Z"
   },
   {
    "duration": 5,
    "start_time": "2021-12-07T22:29:19.438Z"
   },
   {
    "duration": 51,
    "start_time": "2021-12-07T22:29:19.444Z"
   },
   {
    "duration": 8,
    "start_time": "2021-12-07T22:29:19.496Z"
   },
   {
    "duration": 6,
    "start_time": "2021-12-07T22:29:19.505Z"
   },
   {
    "duration": 25,
    "start_time": "2021-12-07T22:29:19.513Z"
   },
   {
    "duration": 4,
    "start_time": "2021-12-07T22:29:19.540Z"
   },
   {
    "duration": 43,
    "start_time": "2021-12-07T22:29:19.546Z"
   },
   {
    "duration": 5,
    "start_time": "2021-12-07T22:29:19.591Z"
   },
   {
    "duration": 6,
    "start_time": "2021-12-07T22:29:19.598Z"
   },
   {
    "duration": 6,
    "start_time": "2021-12-07T22:29:19.605Z"
   },
   {
    "duration": 4,
    "start_time": "2021-12-07T22:29:19.613Z"
   },
   {
    "duration": 18,
    "start_time": "2021-12-07T22:29:19.619Z"
   },
   {
    "duration": 59,
    "start_time": "2021-12-07T22:29:19.641Z"
   },
   {
    "duration": 7,
    "start_time": "2021-12-07T22:29:19.702Z"
   },
   {
    "duration": 4026,
    "start_time": "2021-12-07T22:29:19.711Z"
   },
   {
    "duration": 7,
    "start_time": "2021-12-07T22:29:23.739Z"
   },
   {
    "duration": 12,
    "start_time": "2021-12-07T22:29:23.748Z"
   },
   {
    "duration": 27,
    "start_time": "2021-12-07T22:29:23.761Z"
   },
   {
    "duration": 16,
    "start_time": "2021-12-07T22:29:23.789Z"
   },
   {
    "duration": 6,
    "start_time": "2021-12-07T22:29:23.806Z"
   },
   {
    "duration": 23,
    "start_time": "2021-12-07T22:29:23.814Z"
   },
   {
    "duration": 8,
    "start_time": "2021-12-07T22:29:23.838Z"
   },
   {
    "duration": 46,
    "start_time": "2021-12-07T22:29:23.848Z"
   },
   {
    "duration": 20,
    "start_time": "2021-12-07T22:29:23.896Z"
   },
   {
    "duration": 20,
    "start_time": "2021-12-07T22:29:23.918Z"
   },
   {
    "duration": 1067,
    "start_time": "2021-12-07T22:30:34.789Z"
   },
   {
    "duration": 664,
    "start_time": "2021-12-07T22:30:39.889Z"
   },
   {
    "duration": 18,
    "start_time": "2021-12-07T22:31:09.893Z"
   },
   {
    "duration": 8,
    "start_time": "2021-12-07T22:31:15.548Z"
   },
   {
    "duration": 57,
    "start_time": "2021-12-07T23:44:53.544Z"
   },
   {
    "duration": 3,
    "start_time": "2021-12-07T23:44:53.603Z"
   },
   {
    "duration": 12,
    "start_time": "2021-12-07T23:44:53.608Z"
   },
   {
    "duration": 8,
    "start_time": "2021-12-07T23:44:53.622Z"
   },
   {
    "duration": 6,
    "start_time": "2021-12-07T23:44:53.632Z"
   },
   {
    "duration": 5,
    "start_time": "2021-12-07T23:44:53.639Z"
   },
   {
    "duration": 47,
    "start_time": "2021-12-07T23:44:53.646Z"
   },
   {
    "duration": 5,
    "start_time": "2021-12-07T23:44:53.694Z"
   },
   {
    "duration": 10,
    "start_time": "2021-12-07T23:44:53.701Z"
   },
   {
    "duration": 11,
    "start_time": "2021-12-07T23:44:53.713Z"
   },
   {
    "duration": 4,
    "start_time": "2021-12-07T23:44:53.725Z"
   },
   {
    "duration": 14,
    "start_time": "2021-12-07T23:44:53.730Z"
   },
   {
    "duration": 4,
    "start_time": "2021-12-07T23:44:53.746Z"
   },
   {
    "duration": 37,
    "start_time": "2021-12-07T23:44:53.751Z"
   },
   {
    "duration": 21,
    "start_time": "2021-12-07T23:44:53.790Z"
   },
   {
    "duration": 4,
    "start_time": "2021-12-07T23:44:53.812Z"
   },
   {
    "duration": 6,
    "start_time": "2021-12-07T23:44:53.817Z"
   },
   {
    "duration": 3,
    "start_time": "2021-12-07T23:44:53.824Z"
   },
   {
    "duration": 5,
    "start_time": "2021-12-07T23:44:53.829Z"
   },
   {
    "duration": 4,
    "start_time": "2021-12-07T23:44:53.835Z"
   },
   {
    "duration": 3,
    "start_time": "2021-12-07T23:44:53.841Z"
   },
   {
    "duration": 55,
    "start_time": "2021-12-07T23:44:53.846Z"
   },
   {
    "duration": 17,
    "start_time": "2021-12-07T23:44:53.902Z"
   },
   {
    "duration": 4,
    "start_time": "2021-12-07T23:44:53.921Z"
   },
   {
    "duration": 3966,
    "start_time": "2021-12-07T23:44:53.927Z"
   },
   {
    "duration": 7,
    "start_time": "2021-12-07T23:44:57.895Z"
   },
   {
    "duration": 9,
    "start_time": "2021-12-07T23:44:57.905Z"
   },
   {
    "duration": 7,
    "start_time": "2021-12-07T23:44:57.915Z"
   },
   {
    "duration": 14,
    "start_time": "2021-12-07T23:44:57.924Z"
   },
   {
    "duration": 6,
    "start_time": "2021-12-07T23:44:57.939Z"
   },
   {
    "duration": 49,
    "start_time": "2021-12-07T23:44:57.946Z"
   },
   {
    "duration": 7,
    "start_time": "2021-12-07T23:44:57.996Z"
   },
   {
    "duration": 22,
    "start_time": "2021-12-07T23:44:58.004Z"
   },
   {
    "duration": 17,
    "start_time": "2021-12-07T23:44:58.028Z"
   },
   {
    "duration": 16,
    "start_time": "2021-12-07T23:44:58.046Z"
   },
   {
    "duration": 639,
    "start_time": "2021-12-07T23:45:19.048Z"
   },
   {
    "duration": 7,
    "start_time": "2021-12-07T23:45:19.689Z"
   },
   {
    "duration": 13,
    "start_time": "2021-12-07T23:45:19.698Z"
   },
   {
    "duration": 7,
    "start_time": "2021-12-07T23:45:19.713Z"
   },
   {
    "duration": 7,
    "start_time": "2021-12-07T23:45:19.721Z"
   },
   {
    "duration": 4,
    "start_time": "2021-12-07T23:45:19.730Z"
   },
   {
    "duration": 12,
    "start_time": "2021-12-07T23:45:19.735Z"
   },
   {
    "duration": 5,
    "start_time": "2021-12-07T23:45:19.748Z"
   },
   {
    "duration": 39,
    "start_time": "2021-12-07T23:45:19.755Z"
   },
   {
    "duration": 12,
    "start_time": "2021-12-07T23:45:19.796Z"
   },
   {
    "duration": 3,
    "start_time": "2021-12-07T23:45:19.810Z"
   },
   {
    "duration": 15,
    "start_time": "2021-12-07T23:45:19.814Z"
   },
   {
    "duration": 5,
    "start_time": "2021-12-07T23:45:19.830Z"
   },
   {
    "duration": 4,
    "start_time": "2021-12-07T23:45:19.837Z"
   },
   {
    "duration": 58,
    "start_time": "2021-12-07T23:45:19.842Z"
   },
   {
    "duration": 3,
    "start_time": "2021-12-07T23:45:19.902Z"
   },
   {
    "duration": 7,
    "start_time": "2021-12-07T23:45:19.906Z"
   },
   {
    "duration": 4,
    "start_time": "2021-12-07T23:45:19.914Z"
   },
   {
    "duration": 5,
    "start_time": "2021-12-07T23:45:19.919Z"
   },
   {
    "duration": 5,
    "start_time": "2021-12-07T23:45:19.925Z"
   },
   {
    "duration": 4,
    "start_time": "2021-12-07T23:45:19.931Z"
   },
   {
    "duration": 17,
    "start_time": "2021-12-07T23:45:19.936Z"
   },
   {
    "duration": 44,
    "start_time": "2021-12-07T23:45:19.955Z"
   },
   {
    "duration": 5,
    "start_time": "2021-12-07T23:45:20.001Z"
   },
   {
    "duration": 3712,
    "start_time": "2021-12-07T23:45:20.008Z"
   },
   {
    "duration": 7,
    "start_time": "2021-12-07T23:45:23.722Z"
   },
   {
    "duration": 10,
    "start_time": "2021-12-07T23:45:23.733Z"
   },
   {
    "duration": 8,
    "start_time": "2021-12-07T23:45:23.745Z"
   },
   {
    "duration": 42,
    "start_time": "2021-12-07T23:45:23.754Z"
   },
   {
    "duration": 6,
    "start_time": "2021-12-07T23:45:23.797Z"
   },
   {
    "duration": 23,
    "start_time": "2021-12-07T23:45:23.804Z"
   },
   {
    "duration": 7,
    "start_time": "2021-12-07T23:45:23.828Z"
   },
   {
    "duration": 21,
    "start_time": "2021-12-07T23:45:23.836Z"
   },
   {
    "duration": 44,
    "start_time": "2021-12-07T23:45:23.859Z"
   },
   {
    "duration": 17,
    "start_time": "2021-12-07T23:45:23.904Z"
   },
   {
    "duration": 829,
    "start_time": "2022-03-24T13:02:52.618Z"
   },
   {
    "duration": 18,
    "start_time": "2022-03-24T13:02:53.450Z"
   },
   {
    "duration": 40,
    "start_time": "2022-03-24T13:02:53.472Z"
   },
   {
    "duration": 31,
    "start_time": "2022-03-24T13:02:53.514Z"
   },
   {
    "duration": 11,
    "start_time": "2022-03-24T13:02:53.549Z"
   },
   {
    "duration": 17,
    "start_time": "2022-03-24T13:02:53.563Z"
   },
   {
    "duration": 24,
    "start_time": "2022-03-24T13:02:53.583Z"
   },
   {
    "duration": 37,
    "start_time": "2022-03-24T13:02:53.610Z"
   },
   {
    "duration": 21,
    "start_time": "2022-03-24T13:02:53.652Z"
   },
   {
    "duration": 25,
    "start_time": "2022-03-24T13:02:53.675Z"
   },
   {
    "duration": 5,
    "start_time": "2022-03-24T13:02:53.703Z"
   },
   {
    "duration": 32,
    "start_time": "2022-03-24T13:02:53.744Z"
   },
   {
    "duration": 9,
    "start_time": "2022-03-24T13:02:53.778Z"
   },
   {
    "duration": 7,
    "start_time": "2022-03-24T13:02:53.791Z"
   },
   {
    "duration": 92,
    "start_time": "2022-03-24T13:02:53.801Z"
   },
   {
    "duration": 6,
    "start_time": "2022-03-24T13:02:53.896Z"
   },
   {
    "duration": 10,
    "start_time": "2022-03-24T13:02:53.906Z"
   },
   {
    "duration": 6,
    "start_time": "2022-03-24T13:02:53.942Z"
   },
   {
    "duration": 8,
    "start_time": "2022-03-24T13:02:53.950Z"
   },
   {
    "duration": 12,
    "start_time": "2022-03-24T13:02:53.961Z"
   },
   {
    "duration": 9,
    "start_time": "2022-03-24T13:02:53.976Z"
   },
   {
    "duration": 85,
    "start_time": "2022-03-24T13:02:53.988Z"
   },
   {
    "duration": 40,
    "start_time": "2022-03-24T13:02:54.075Z"
   },
   {
    "duration": 11,
    "start_time": "2022-03-24T13:02:54.142Z"
   },
   {
    "duration": 7283,
    "start_time": "2022-03-24T13:02:54.155Z"
   },
   {
    "duration": 12,
    "start_time": "2022-03-24T13:03:01.441Z"
   },
   {
    "duration": 29,
    "start_time": "2022-03-24T13:03:01.455Z"
   },
   {
    "duration": 31,
    "start_time": "2022-03-24T13:03:01.487Z"
   },
   {
    "duration": 53,
    "start_time": "2022-03-24T13:03:01.521Z"
   },
   {
    "duration": 15,
    "start_time": "2022-03-24T13:03:01.577Z"
   },
   {
    "duration": 59,
    "start_time": "2022-03-24T13:03:01.594Z"
   },
   {
    "duration": 14,
    "start_time": "2022-03-24T13:03:01.657Z"
   },
   {
    "duration": 38,
    "start_time": "2022-03-24T13:03:01.674Z"
   },
   {
    "duration": 65,
    "start_time": "2022-03-24T13:03:01.714Z"
   },
   {
    "duration": 32,
    "start_time": "2022-03-24T13:03:01.781Z"
   },
   {
    "duration": 4,
    "start_time": "2022-03-24T13:06:20.572Z"
   },
   {
    "duration": 11,
    "start_time": "2022-03-24T13:17:36.865Z"
   },
   {
    "duration": 9,
    "start_time": "2022-03-24T13:17:48.111Z"
   },
   {
    "duration": 18,
    "start_time": "2022-03-24T13:19:22.229Z"
   },
   {
    "duration": 10,
    "start_time": "2022-03-24T13:19:24.950Z"
   },
   {
    "duration": 4,
    "start_time": "2022-03-24T13:19:27.386Z"
   },
   {
    "duration": 10,
    "start_time": "2022-03-24T13:19:34.597Z"
   },
   {
    "duration": 7,
    "start_time": "2022-03-24T13:20:15.113Z"
   },
   {
    "duration": 11,
    "start_time": "2022-03-24T13:20:16.942Z"
   },
   {
    "duration": 6,
    "start_time": "2022-03-24T13:24:09.134Z"
   },
   {
    "duration": 8,
    "start_time": "2022-03-24T13:24:10.209Z"
   },
   {
    "duration": 4,
    "start_time": "2022-03-24T13:24:15.206Z"
   },
   {
    "duration": 93,
    "start_time": "2022-03-24T13:24:15.213Z"
   },
   {
    "duration": 5,
    "start_time": "2022-03-24T13:24:15.309Z"
   },
   {
    "duration": 50,
    "start_time": "2022-03-24T13:24:15.317Z"
   },
   {
    "duration": 15,
    "start_time": "2022-03-24T13:24:15.371Z"
   },
   {
    "duration": 10,
    "start_time": "2022-03-24T13:24:15.389Z"
   },
   {
    "duration": 10,
    "start_time": "2022-03-24T13:24:15.401Z"
   },
   {
    "duration": 18,
    "start_time": "2022-03-24T13:24:15.445Z"
   },
   {
    "duration": 7,
    "start_time": "2022-03-24T13:24:15.465Z"
   },
   {
    "duration": 25,
    "start_time": "2022-03-24T13:24:15.475Z"
   },
   {
    "duration": 74,
    "start_time": "2022-03-24T13:24:15.502Z"
   },
   {
    "duration": 8,
    "start_time": "2022-03-24T13:24:15.579Z"
   },
   {
    "duration": 67,
    "start_time": "2022-03-24T13:24:15.590Z"
   },
   {
    "duration": 10,
    "start_time": "2022-03-24T13:24:15.663Z"
   },
   {
    "duration": 6,
    "start_time": "2022-03-24T13:24:15.677Z"
   },
   {
    "duration": 31,
    "start_time": "2022-03-24T13:24:15.686Z"
   },
   {
    "duration": 29,
    "start_time": "2022-03-24T13:24:15.720Z"
   },
   {
    "duration": 41,
    "start_time": "2022-03-24T13:24:15.751Z"
   },
   {
    "duration": 7,
    "start_time": "2022-03-24T13:24:15.796Z"
   },
   {
    "duration": 39,
    "start_time": "2022-03-24T13:24:15.806Z"
   },
   {
    "duration": 10,
    "start_time": "2022-03-24T13:24:15.848Z"
   },
   {
    "duration": 23,
    "start_time": "2022-03-24T13:24:15.861Z"
   },
   {
    "duration": 14,
    "start_time": "2022-03-24T13:24:15.889Z"
   },
   {
    "duration": 16,
    "start_time": "2022-03-24T13:24:15.906Z"
   },
   {
    "duration": 38,
    "start_time": "2022-03-24T13:24:15.944Z"
   },
   {
    "duration": 73,
    "start_time": "2022-03-24T13:24:15.985Z"
   },
   {
    "duration": 33,
    "start_time": "2022-03-24T13:24:16.061Z"
   },
   {
    "duration": 6688,
    "start_time": "2022-03-24T13:24:16.097Z"
   },
   {
    "duration": 12,
    "start_time": "2022-03-24T13:24:22.787Z"
   },
   {
    "duration": 17,
    "start_time": "2022-03-24T13:24:22.801Z"
   },
   {
    "duration": 11,
    "start_time": "2022-03-24T13:24:22.842Z"
   },
   {
    "duration": 27,
    "start_time": "2022-03-24T13:24:22.855Z"
   },
   {
    "duration": 10,
    "start_time": "2022-03-24T13:24:22.885Z"
   },
   {
    "duration": 67,
    "start_time": "2022-03-24T13:24:22.897Z"
   },
   {
    "duration": 13,
    "start_time": "2022-03-24T13:24:22.966Z"
   },
   {
    "duration": 35,
    "start_time": "2022-03-24T13:24:22.981Z"
   },
   {
    "duration": 50,
    "start_time": "2022-03-24T13:24:23.018Z"
   },
   {
    "duration": 28,
    "start_time": "2022-03-24T13:24:23.071Z"
   },
   {
    "duration": 5,
    "start_time": "2022-03-24T13:34:23.651Z"
   },
   {
    "duration": 115,
    "start_time": "2022-03-24T13:34:23.659Z"
   },
   {
    "duration": 6,
    "start_time": "2022-03-24T13:34:23.776Z"
   },
   {
    "duration": 25,
    "start_time": "2022-03-24T13:34:23.784Z"
   },
   {
    "duration": 38,
    "start_time": "2022-03-24T13:34:23.812Z"
   },
   {
    "duration": 9,
    "start_time": "2022-03-24T13:34:23.853Z"
   },
   {
    "duration": 9,
    "start_time": "2022-03-24T13:34:23.864Z"
   },
   {
    "duration": 18,
    "start_time": "2022-03-24T13:34:23.875Z"
   },
   {
    "duration": 7,
    "start_time": "2022-03-24T13:34:23.895Z"
   },
   {
    "duration": 21,
    "start_time": "2022-03-24T13:34:23.944Z"
   },
   {
    "duration": 28,
    "start_time": "2022-03-24T13:34:23.968Z"
   },
   {
    "duration": 6,
    "start_time": "2022-03-24T13:34:23.998Z"
   },
   {
    "duration": 35,
    "start_time": "2022-03-24T13:34:24.042Z"
   },
   {
    "duration": 11,
    "start_time": "2022-03-24T13:34:24.082Z"
   },
   {
    "duration": 7,
    "start_time": "2022-03-24T13:34:24.095Z"
   },
   {
    "duration": 40,
    "start_time": "2022-03-24T13:34:24.105Z"
   },
   {
    "duration": 9,
    "start_time": "2022-03-24T13:34:24.148Z"
   },
   {
    "duration": 83,
    "start_time": "2022-03-24T13:34:24.160Z"
   },
   {
    "duration": 7,
    "start_time": "2022-03-24T13:34:24.246Z"
   },
   {
    "duration": 13,
    "start_time": "2022-03-24T13:34:24.255Z"
   },
   {
    "duration": 6,
    "start_time": "2022-03-24T13:34:24.270Z"
   },
   {
    "duration": 9,
    "start_time": "2022-03-24T13:34:24.278Z"
   },
   {
    "duration": 53,
    "start_time": "2022-03-24T13:34:24.290Z"
   },
   {
    "duration": 7,
    "start_time": "2022-03-24T13:34:24.346Z"
   },
   {
    "duration": 39,
    "start_time": "2022-03-24T13:34:24.356Z"
   },
   {
    "duration": 58,
    "start_time": "2022-03-24T13:34:24.397Z"
   },
   {
    "duration": 9,
    "start_time": "2022-03-24T13:34:24.457Z"
   },
   {
    "duration": 6424,
    "start_time": "2022-03-24T13:34:24.467Z"
   },
   {
    "duration": 12,
    "start_time": "2022-03-24T13:34:30.894Z"
   },
   {
    "duration": 40,
    "start_time": "2022-03-24T13:34:30.908Z"
   },
   {
    "duration": 13,
    "start_time": "2022-03-24T13:34:30.950Z"
   },
   {
    "duration": 26,
    "start_time": "2022-03-24T13:34:30.965Z"
   },
   {
    "duration": 50,
    "start_time": "2022-03-24T13:34:30.993Z"
   },
   {
    "duration": 27,
    "start_time": "2022-03-24T13:34:31.046Z"
   },
   {
    "duration": 13,
    "start_time": "2022-03-24T13:34:31.076Z"
   },
   {
    "duration": 74,
    "start_time": "2022-03-24T13:34:31.093Z"
   },
   {
    "duration": 30,
    "start_time": "2022-03-24T13:34:31.169Z"
   },
   {
    "duration": 71,
    "start_time": "2022-03-24T13:34:31.201Z"
   },
   {
    "duration": 28,
    "start_time": "2022-03-24T13:34:50.101Z"
   },
   {
    "duration": 15,
    "start_time": "2022-03-24T13:37:12.876Z"
   },
   {
    "duration": 7,
    "start_time": "2022-03-24T13:38:59.521Z"
   },
   {
    "duration": 3636,
    "start_time": "2022-03-24T13:39:04.647Z"
   },
   {
    "duration": 4,
    "start_time": "2022-03-24T13:39:09.819Z"
   },
   {
    "duration": 100,
    "start_time": "2022-03-24T13:39:09.825Z"
   },
   {
    "duration": 29,
    "start_time": "2022-03-24T13:39:09.928Z"
   },
   {
    "duration": 29,
    "start_time": "2022-03-24T13:39:09.959Z"
   },
   {
    "duration": 13,
    "start_time": "2022-03-24T13:39:09.993Z"
   },
   {
    "duration": 35,
    "start_time": "2022-03-24T13:39:10.008Z"
   },
   {
    "duration": 19,
    "start_time": "2022-03-24T13:39:10.045Z"
   },
   {
    "duration": 6,
    "start_time": "2022-03-24T13:39:10.066Z"
   },
   {
    "duration": 28,
    "start_time": "2022-03-24T13:39:10.075Z"
   },
   {
    "duration": 53,
    "start_time": "2022-03-24T13:39:10.105Z"
   },
   {
    "duration": 5,
    "start_time": "2022-03-24T13:39:10.161Z"
   },
   {
    "duration": 41,
    "start_time": "2022-03-24T13:39:10.169Z"
   },
   {
    "duration": 9,
    "start_time": "2022-03-24T13:39:10.212Z"
   },
   {
    "duration": 6,
    "start_time": "2022-03-24T13:39:10.243Z"
   },
   {
    "duration": 32,
    "start_time": "2022-03-24T13:39:10.252Z"
   },
   {
    "duration": 10,
    "start_time": "2022-03-24T13:39:10.287Z"
   },
   {
    "duration": 52,
    "start_time": "2022-03-24T13:39:10.300Z"
   },
   {
    "duration": 7,
    "start_time": "2022-03-24T13:39:10.355Z"
   },
   {
    "duration": 26,
    "start_time": "2022-03-24T13:39:10.365Z"
   },
   {
    "duration": 9,
    "start_time": "2022-03-24T13:39:10.393Z"
   },
   {
    "duration": 20,
    "start_time": "2022-03-24T13:39:10.404Z"
   },
   {
    "duration": 9,
    "start_time": "2022-03-24T13:39:10.443Z"
   },
   {
    "duration": 20,
    "start_time": "2022-03-24T13:39:10.454Z"
   },
   {
    "duration": 37,
    "start_time": "2022-03-24T13:39:10.476Z"
   },
   {
    "duration": 40,
    "start_time": "2022-03-24T13:39:10.516Z"
   },
   {
    "duration": 11,
    "start_time": "2022-03-24T13:39:10.558Z"
   },
   {
    "duration": 6401,
    "start_time": "2022-03-24T13:39:10.571Z"
   },
   {
    "duration": 12,
    "start_time": "2022-03-24T13:39:16.975Z"
   },
   {
    "duration": 19,
    "start_time": "2022-03-24T13:39:16.990Z"
   },
   {
    "duration": 36,
    "start_time": "2022-03-24T13:39:17.011Z"
   },
   {
    "duration": 26,
    "start_time": "2022-03-24T13:39:17.049Z"
   },
   {
    "duration": 9,
    "start_time": "2022-03-24T13:39:17.077Z"
   },
   {
    "duration": 97,
    "start_time": "2022-03-24T13:39:17.088Z"
   },
   {
    "duration": 15,
    "start_time": "2022-03-24T13:39:17.187Z"
   },
   {
    "duration": 59,
    "start_time": "2022-03-24T13:39:17.204Z"
   },
   {
    "duration": 28,
    "start_time": "2022-03-24T13:39:17.265Z"
   },
   {
    "duration": 57,
    "start_time": "2022-03-24T13:39:17.295Z"
   },
   {
    "duration": 0,
    "start_time": "2022-03-24T13:40:00.204Z"
   },
   {
    "duration": 0,
    "start_time": "2022-03-24T13:40:00.205Z"
   },
   {
    "duration": 0,
    "start_time": "2022-03-24T13:40:00.207Z"
   },
   {
    "duration": 0,
    "start_time": "2022-03-24T13:40:00.209Z"
   },
   {
    "duration": 0,
    "start_time": "2022-03-24T13:40:00.211Z"
   },
   {
    "duration": 0,
    "start_time": "2022-03-24T13:40:00.213Z"
   },
   {
    "duration": 0,
    "start_time": "2022-03-24T13:40:00.215Z"
   },
   {
    "duration": 0,
    "start_time": "2022-03-24T13:40:00.217Z"
   },
   {
    "duration": 0,
    "start_time": "2022-03-24T13:40:00.219Z"
   },
   {
    "duration": 0,
    "start_time": "2022-03-24T13:40:00.220Z"
   },
   {
    "duration": 0,
    "start_time": "2022-03-24T13:40:00.222Z"
   },
   {
    "duration": 0,
    "start_time": "2022-03-24T13:40:00.223Z"
   },
   {
    "duration": 0,
    "start_time": "2022-03-24T13:40:00.225Z"
   },
   {
    "duration": 0,
    "start_time": "2022-03-24T13:40:00.226Z"
   },
   {
    "duration": 0,
    "start_time": "2022-03-24T13:40:00.228Z"
   },
   {
    "duration": 0,
    "start_time": "2022-03-24T13:40:00.229Z"
   },
   {
    "duration": 0,
    "start_time": "2022-03-24T13:40:00.231Z"
   },
   {
    "duration": 0,
    "start_time": "2022-03-24T13:40:00.232Z"
   },
   {
    "duration": 0,
    "start_time": "2022-03-24T13:40:00.234Z"
   },
   {
    "duration": 0,
    "start_time": "2022-03-24T13:40:00.235Z"
   },
   {
    "duration": 0,
    "start_time": "2022-03-24T13:40:00.237Z"
   },
   {
    "duration": 0,
    "start_time": "2022-03-24T13:40:00.238Z"
   },
   {
    "duration": 0,
    "start_time": "2022-03-24T13:40:00.239Z"
   },
   {
    "duration": 0,
    "start_time": "2022-03-24T13:40:00.241Z"
   },
   {
    "duration": 0,
    "start_time": "2022-03-24T13:40:00.242Z"
   },
   {
    "duration": 0,
    "start_time": "2022-03-24T13:40:00.244Z"
   },
   {
    "duration": 0,
    "start_time": "2022-03-24T13:40:00.246Z"
   },
   {
    "duration": 0,
    "start_time": "2022-03-24T13:40:00.247Z"
   },
   {
    "duration": 0,
    "start_time": "2022-03-24T13:40:00.249Z"
   },
   {
    "duration": 0,
    "start_time": "2022-03-24T13:40:00.250Z"
   },
   {
    "duration": 0,
    "start_time": "2022-03-24T13:40:00.252Z"
   },
   {
    "duration": 0,
    "start_time": "2022-03-24T13:40:00.253Z"
   },
   {
    "duration": 0,
    "start_time": "2022-03-24T13:40:00.256Z"
   },
   {
    "duration": 0,
    "start_time": "2022-03-24T13:40:00.257Z"
   },
   {
    "duration": 0,
    "start_time": "2022-03-24T13:40:00.259Z"
   },
   {
    "duration": 0,
    "start_time": "2022-03-24T13:40:00.261Z"
   },
   {
    "duration": 0,
    "start_time": "2022-03-24T13:40:00.262Z"
   },
   {
    "duration": 4,
    "start_time": "2022-03-24T13:40:10.839Z"
   },
   {
    "duration": 116,
    "start_time": "2022-03-24T13:40:10.847Z"
   },
   {
    "duration": 19,
    "start_time": "2022-03-24T13:40:10.965Z"
   },
   {
    "duration": 14,
    "start_time": "2022-03-24T13:40:10.986Z"
   },
   {
    "duration": 39,
    "start_time": "2022-03-24T13:40:11.004Z"
   },
   {
    "duration": 11,
    "start_time": "2022-03-24T13:40:11.045Z"
   },
   {
    "duration": 18,
    "start_time": "2022-03-24T13:40:11.059Z"
   },
   {
    "duration": 6,
    "start_time": "2022-03-24T13:40:11.082Z"
   },
   {
    "duration": 64,
    "start_time": "2022-03-24T13:40:11.090Z"
   },
   {
    "duration": 23,
    "start_time": "2022-03-24T13:40:11.157Z"
   },
   {
    "duration": 6,
    "start_time": "2022-03-24T13:40:11.182Z"
   },
   {
    "duration": 70,
    "start_time": "2022-03-24T13:40:11.191Z"
   },
   {
    "duration": 11,
    "start_time": "2022-03-24T13:40:11.264Z"
   },
   {
    "duration": 5,
    "start_time": "2022-03-24T13:40:11.281Z"
   },
   {
    "duration": 11,
    "start_time": "2022-03-24T13:40:11.289Z"
   },
   {
    "duration": 44,
    "start_time": "2022-03-24T13:40:11.302Z"
   },
   {
    "duration": 60,
    "start_time": "2022-03-24T13:40:11.349Z"
   },
   {
    "duration": 8,
    "start_time": "2022-03-24T13:40:11.411Z"
   },
   {
    "duration": 10,
    "start_time": "2022-03-24T13:40:11.444Z"
   },
   {
    "duration": 7,
    "start_time": "2022-03-24T13:40:11.457Z"
   },
   {
    "duration": 8,
    "start_time": "2022-03-24T13:40:11.466Z"
   },
   {
    "duration": 10,
    "start_time": "2022-03-24T13:40:11.476Z"
   },
   {
    "duration": 55,
    "start_time": "2022-03-24T13:40:11.488Z"
   },
   {
    "duration": 24,
    "start_time": "2022-03-24T13:40:11.546Z"
   },
   {
    "duration": 30,
    "start_time": "2022-03-24T13:40:11.572Z"
   },
   {
    "duration": 42,
    "start_time": "2022-03-24T13:40:11.604Z"
   },
   {
    "duration": 6311,
    "start_time": "2022-03-24T13:40:11.648Z"
   },
   {
    "duration": 11,
    "start_time": "2022-03-24T13:40:17.962Z"
   },
   {
    "duration": 22,
    "start_time": "2022-03-24T13:40:17.976Z"
   },
   {
    "duration": 44,
    "start_time": "2022-03-24T13:40:18.000Z"
   },
   {
    "duration": 26,
    "start_time": "2022-03-24T13:40:18.047Z"
   },
   {
    "duration": 10,
    "start_time": "2022-03-24T13:40:18.075Z"
   },
   {
    "duration": 57,
    "start_time": "2022-03-24T13:40:18.087Z"
   },
   {
    "duration": 14,
    "start_time": "2022-03-24T13:40:18.147Z"
   },
   {
    "duration": 51,
    "start_time": "2022-03-24T13:40:18.164Z"
   },
   {
    "duration": 51,
    "start_time": "2022-03-24T13:40:18.218Z"
   },
   {
    "duration": 30,
    "start_time": "2022-03-24T13:40:18.272Z"
   },
   {
    "duration": 472,
    "start_time": "2022-03-24T13:42:15.878Z"
   },
   {
    "duration": 106,
    "start_time": "2022-03-24T13:42:16.353Z"
   },
   {
    "duration": 29,
    "start_time": "2022-03-24T13:42:16.461Z"
   },
   {
    "duration": 14,
    "start_time": "2022-03-24T13:42:16.494Z"
   },
   {
    "duration": 33,
    "start_time": "2022-03-24T13:42:16.513Z"
   },
   {
    "duration": 8,
    "start_time": "2022-03-24T13:42:16.548Z"
   },
   {
    "duration": 18,
    "start_time": "2022-03-24T13:42:16.559Z"
   },
   {
    "duration": 8,
    "start_time": "2022-03-24T13:42:16.579Z"
   },
   {
    "duration": 64,
    "start_time": "2022-03-24T13:42:16.589Z"
   },
   {
    "duration": 24,
    "start_time": "2022-03-24T13:42:16.659Z"
   },
   {
    "duration": 7,
    "start_time": "2022-03-24T13:42:16.686Z"
   },
   {
    "duration": 57,
    "start_time": "2022-03-24T13:42:16.695Z"
   },
   {
    "duration": 13,
    "start_time": "2022-03-24T13:42:16.754Z"
   },
   {
    "duration": 6,
    "start_time": "2022-03-24T13:42:16.769Z"
   },
   {
    "duration": 9,
    "start_time": "2022-03-24T13:42:16.777Z"
   },
   {
    "duration": 7,
    "start_time": "2022-03-24T13:42:16.788Z"
   },
   {
    "duration": 79,
    "start_time": "2022-03-24T13:42:16.798Z"
   },
   {
    "duration": 7,
    "start_time": "2022-03-24T13:42:16.879Z"
   },
   {
    "duration": 12,
    "start_time": "2022-03-24T13:42:16.888Z"
   },
   {
    "duration": 7,
    "start_time": "2022-03-24T13:42:16.903Z"
   },
   {
    "duration": 7,
    "start_time": "2022-03-24T13:42:16.943Z"
   },
   {
    "duration": 12,
    "start_time": "2022-03-24T13:42:16.953Z"
   },
   {
    "duration": 5,
    "start_time": "2022-03-24T13:42:16.968Z"
   },
   {
    "duration": 23,
    "start_time": "2022-03-24T13:42:16.975Z"
   },
   {
    "duration": 70,
    "start_time": "2022-03-24T13:42:17.000Z"
   },
   {
    "duration": 9,
    "start_time": "2022-03-24T13:42:17.073Z"
   },
   {
    "duration": 7319,
    "start_time": "2022-03-24T13:42:17.084Z"
   },
   {
    "duration": 12,
    "start_time": "2022-03-24T13:42:24.408Z"
   },
   {
    "duration": 18,
    "start_time": "2022-03-24T13:42:24.442Z"
   },
   {
    "duration": 18,
    "start_time": "2022-03-24T13:42:24.463Z"
   },
   {
    "duration": 35,
    "start_time": "2022-03-24T13:42:24.483Z"
   },
   {
    "duration": 30,
    "start_time": "2022-03-24T13:42:24.520Z"
   },
   {
    "duration": 45,
    "start_time": "2022-03-24T13:42:24.552Z"
   },
   {
    "duration": 20,
    "start_time": "2022-03-24T13:42:24.599Z"
   },
   {
    "duration": 56,
    "start_time": "2022-03-24T13:42:24.621Z"
   },
   {
    "duration": 30,
    "start_time": "2022-03-24T13:42:24.679Z"
   },
   {
    "duration": 54,
    "start_time": "2022-03-24T13:42:24.711Z"
   }
  ],
  "kernelspec": {
   "display_name": "Python 3 (ipykernel)",
   "language": "python",
   "name": "python3"
  },
  "language_info": {
   "codemirror_mode": {
    "name": "ipython",
    "version": 3
   },
   "file_extension": ".py",
   "mimetype": "text/x-python",
   "name": "python",
   "nbconvert_exporter": "python",
   "pygments_lexer": "ipython3",
   "version": "3.9.7"
  },
  "toc": {
   "base_numbering": 1,
   "nav_menu": {},
   "number_sections": true,
   "sideBar": true,
   "skip_h1_title": true,
   "title_cell": "Table of Contents",
   "title_sidebar": "Contents",
   "toc_cell": false,
   "toc_position": {},
   "toc_section_display": true,
   "toc_window_display": false
  }
 },
 "nbformat": 4,
 "nbformat_minor": 2
}
