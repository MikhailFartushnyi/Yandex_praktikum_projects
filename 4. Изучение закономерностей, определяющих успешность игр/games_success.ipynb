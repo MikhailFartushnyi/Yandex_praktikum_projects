{
 "cells": [
  {
   "cell_type": "markdown",
   "metadata": {},
   "source": [
    "# Исследование заномерностей, определяющих успешность компьютерной игры"
   ]
  },
  {
   "cell_type": "markdown",
   "metadata": {},
   "source": [
    "Из открытых источников доступны исторические данные о продажах игр, оценки пользователей и экспертов, жанры и платформы. \n",
    "\n",
    "**Цель исследования:**\n",
    "\n",
    "Выявить определяющие успешность игры закономерности. Это позволит сделать ставку на потенциально популярный продукт и спланировать рекламные кампании. Нужно отработать принцип работы с данными, вне зависимости от года исследования.\n"
   ]
  },
  {
   "cell_type": "markdown",
   "metadata": {},
   "source": [
    "## Изучение данных"
   ]
  },
  {
   "cell_type": "code",
   "execution_count": 1,
   "metadata": {},
   "outputs": [],
   "source": [
    "# импорт библиотек\n",
    "import pandas as pd\n",
    "import numpy as np\n",
    "import matplotlib.pyplot as plt \n",
    "import statistics\n",
    "import seaborn as sns\n",
    "from scipy import stats as st\n",
    "import warnings\n",
    "warnings.filterwarnings('ignore')"
   ]
  },
  {
   "cell_type": "code",
   "execution_count": 2,
   "metadata": {},
   "outputs": [],
   "source": [
    "# применим метод set_option для отображения всех столбцов\n",
    "pd.set_option('mode.chained_assignment', None)"
   ]
  },
  {
   "cell_type": "code",
   "execution_count": 3,
   "metadata": {},
   "outputs": [],
   "source": [
    "# загрузим таблицу\n",
    "try:\n",
    "    df = pd.read_csv('/datasets/games.csv')\n",
    "except:\n",
    "    df = pd.read_csv('games.csv')"
   ]
  },
  {
   "cell_type": "code",
   "execution_count": 4,
   "metadata": {
    "scrolled": true
   },
   "outputs": [
    {
     "data": {
      "text/html": [
       "<div>\n",
       "<style scoped>\n",
       "    .dataframe tbody tr th:only-of-type {\n",
       "        vertical-align: middle;\n",
       "    }\n",
       "\n",
       "    .dataframe tbody tr th {\n",
       "        vertical-align: top;\n",
       "    }\n",
       "\n",
       "    .dataframe thead th {\n",
       "        text-align: right;\n",
       "    }\n",
       "</style>\n",
       "<table border=\"1\" class=\"dataframe\">\n",
       "  <thead>\n",
       "    <tr style=\"text-align: right;\">\n",
       "      <th></th>\n",
       "      <th>Name</th>\n",
       "      <th>Platform</th>\n",
       "      <th>Year_of_Release</th>\n",
       "      <th>Genre</th>\n",
       "      <th>NA_sales</th>\n",
       "      <th>EU_sales</th>\n",
       "      <th>JP_sales</th>\n",
       "      <th>Other_sales</th>\n",
       "      <th>Critic_Score</th>\n",
       "      <th>User_Score</th>\n",
       "      <th>Rating</th>\n",
       "    </tr>\n",
       "  </thead>\n",
       "  <tbody>\n",
       "    <tr>\n",
       "      <td>12368</td>\n",
       "      <td>Mirror's Edge Catalyst</td>\n",
       "      <td>PC</td>\n",
       "      <td>2016.0</td>\n",
       "      <td>Platform</td>\n",
       "      <td>0.01</td>\n",
       "      <td>0.05</td>\n",
       "      <td>0.00</td>\n",
       "      <td>0.00</td>\n",
       "      <td>74.0</td>\n",
       "      <td>4.4</td>\n",
       "      <td>T</td>\n",
       "    </tr>\n",
       "    <tr>\n",
       "      <td>802</td>\n",
       "      <td>Final Fantasy III</td>\n",
       "      <td>DS</td>\n",
       "      <td>2006.0</td>\n",
       "      <td>Role-Playing</td>\n",
       "      <td>0.89</td>\n",
       "      <td>0.04</td>\n",
       "      <td>1.07</td>\n",
       "      <td>0.09</td>\n",
       "      <td>77.0</td>\n",
       "      <td>7.1</td>\n",
       "      <td>E10+</td>\n",
       "    </tr>\n",
       "    <tr>\n",
       "      <td>9222</td>\n",
       "      <td>RockMan &amp; Forte</td>\n",
       "      <td>SNES</td>\n",
       "      <td>1998.0</td>\n",
       "      <td>Platform</td>\n",
       "      <td>0.00</td>\n",
       "      <td>0.00</td>\n",
       "      <td>0.14</td>\n",
       "      <td>0.00</td>\n",
       "      <td>NaN</td>\n",
       "      <td>NaN</td>\n",
       "      <td>NaN</td>\n",
       "    </tr>\n",
       "    <tr>\n",
       "      <td>10926</td>\n",
       "      <td>Ribbit King</td>\n",
       "      <td>PS2</td>\n",
       "      <td>2003.0</td>\n",
       "      <td>Sports</td>\n",
       "      <td>0.05</td>\n",
       "      <td>0.04</td>\n",
       "      <td>0.00</td>\n",
       "      <td>0.01</td>\n",
       "      <td>58.0</td>\n",
       "      <td>6.5</td>\n",
       "      <td>E</td>\n",
       "    </tr>\n",
       "    <tr>\n",
       "      <td>2944</td>\n",
       "      <td>Minecraft: Story Mode</td>\n",
       "      <td>PS3</td>\n",
       "      <td>2015.0</td>\n",
       "      <td>Adventure</td>\n",
       "      <td>0.27</td>\n",
       "      <td>0.31</td>\n",
       "      <td>0.00</td>\n",
       "      <td>0.11</td>\n",
       "      <td>NaN</td>\n",
       "      <td>NaN</td>\n",
       "      <td>NaN</td>\n",
       "    </tr>\n",
       "  </tbody>\n",
       "</table>\n",
       "</div>"
      ],
      "text/plain": [
       "                         Name Platform  Year_of_Release         Genre  \\\n",
       "12368  Mirror's Edge Catalyst       PC           2016.0      Platform   \n",
       "802         Final Fantasy III       DS           2006.0  Role-Playing   \n",
       "9222          RockMan & Forte     SNES           1998.0      Platform   \n",
       "10926             Ribbit King      PS2           2003.0        Sports   \n",
       "2944    Minecraft: Story Mode      PS3           2015.0     Adventure   \n",
       "\n",
       "       NA_sales  EU_sales  JP_sales  Other_sales  Critic_Score User_Score  \\\n",
       "12368      0.01      0.05      0.00         0.00          74.0        4.4   \n",
       "802        0.89      0.04      1.07         0.09          77.0        7.1   \n",
       "9222       0.00      0.00      0.14         0.00           NaN        NaN   \n",
       "10926      0.05      0.04      0.00         0.01          58.0        6.5   \n",
       "2944       0.27      0.31      0.00         0.11           NaN        NaN   \n",
       "\n",
       "      Rating  \n",
       "12368      T  \n",
       "802     E10+  \n",
       "9222     NaN  \n",
       "10926      E  \n",
       "2944     NaN  "
      ]
     },
     "execution_count": 4,
     "metadata": {},
     "output_type": "execute_result"
    }
   ],
   "source": [
    "df.sample(5)"
   ]
  },
  {
   "cell_type": "markdown",
   "metadata": {},
   "source": [
    "Таблица выглядит корректно. Посмотрим на общую информацию о данных."
   ]
  },
  {
   "cell_type": "code",
   "execution_count": 5,
   "metadata": {},
   "outputs": [
    {
     "name": "stdout",
     "output_type": "stream",
     "text": [
      "<class 'pandas.core.frame.DataFrame'>\n",
      "RangeIndex: 16715 entries, 0 to 16714\n",
      "Data columns (total 11 columns):\n",
      "Name               16713 non-null object\n",
      "Platform           16715 non-null object\n",
      "Year_of_Release    16446 non-null float64\n",
      "Genre              16713 non-null object\n",
      "NA_sales           16715 non-null float64\n",
      "EU_sales           16715 non-null float64\n",
      "JP_sales           16715 non-null float64\n",
      "Other_sales        16715 non-null float64\n",
      "Critic_Score       8137 non-null float64\n",
      "User_Score         10014 non-null object\n",
      "Rating             9949 non-null object\n",
      "dtypes: float64(6), object(5)\n",
      "memory usage: 1.4+ MB\n"
     ]
    }
   ],
   "source": [
    "df.info()"
   ]
  },
  {
   "cell_type": "markdown",
   "metadata": {},
   "source": [
    "В таблице 11 столбцов. Согласно документации к данным:\n",
    "* `Name`— название игры\n",
    "* `Platform` — платформа\n",
    "* `Year_of_Release` — год выпуска\n",
    "* `Genre` — жанр игры\n",
    "* `NA_sales` — продажи в Северной Америке (миллионы проданных копий)\n",
    "* `EU_sales` — продажи в Европе (миллионы проданных копий)\n",
    "* `JP_sales` — продажи в Японии (миллионы проданных копий)\n",
    "* `Other_sales` — продажи в других странах (миллионы проданных копий)\n",
    "* `Critic_Score` — оценка критиков (максимум 100)\n",
    "* `User_Score` — оценка пользователей (максимум 10)\n",
    "* `Rating` — рейтинг от организации ESRB (англ. Entertainment Software Rating Board). Эта ассоциация определяет рейтинг компьютерных игр и присваивает им подходящую возрастную категорию."
   ]
  },
  {
   "cell_type": "markdown",
   "metadata": {},
   "source": [
    "### Вывод"
   ]
  },
  {
   "cell_type": "markdown",
   "metadata": {},
   "source": [
    "* Есть нарушения стиля в названиях столбцов (названия записаны в верхнем регистре)\n",
    "* В некоторых столбцах присутствуют пропуски\n",
    "* Столбцы `Year_of_Release` и `User_Score` имеют неверный тип данных\n",
    "\n",
    "Перед началом исследования необходимо исправить данные недочеты.\n"
   ]
  },
  {
   "cell_type": "markdown",
   "metadata": {},
   "source": [
    "## Предобработка данных"
   ]
  },
  {
   "cell_type": "markdown",
   "metadata": {},
   "source": [
    "Необходимо выполнить следующие шаги:\n",
    "* Привести названия столбцов к стилистически верному виду\n",
    "* произвести обработку пропусков\n",
    "* Привести данные в столбцах к верному типу данных\n",
    "* Посчитать суммарные продажи во всех регионах и записать их в отдельный столбец."
   ]
  },
  {
   "cell_type": "markdown",
   "metadata": {},
   "source": [
    "### Исправление названий столбцов"
   ]
  },
  {
   "cell_type": "markdown",
   "metadata": {},
   "source": [
    "Названия столбцов написаны в верхнем регистре. Переведем их в нижний регистр с помощью метода строк *lower()*"
   ]
  },
  {
   "cell_type": "code",
   "execution_count": 6,
   "metadata": {},
   "outputs": [
    {
     "data": {
      "text/plain": [
       "Index(['name', 'platform', 'year_of_release', 'genre', 'na_sales', 'eu_sales',\n",
       "       'jp_sales', 'other_sales', 'critic_score', 'user_score', 'rating'],\n",
       "      dtype='object')"
      ]
     },
     "execution_count": 6,
     "metadata": {},
     "output_type": "execute_result"
    }
   ],
   "source": [
    "df.columns = df.columns.str.lower()\n",
    "df.columns"
   ]
  },
  {
   "cell_type": "markdown",
   "metadata": {},
   "source": [
    "### Обработка пропусков"
   ]
  },
  {
   "cell_type": "code",
   "execution_count": 7,
   "metadata": {},
   "outputs": [
    {
     "data": {
      "text/plain": [
       "name                  2\n",
       "platform              0\n",
       "year_of_release     269\n",
       "genre                 2\n",
       "na_sales              0\n",
       "eu_sales              0\n",
       "jp_sales              0\n",
       "other_sales           0\n",
       "critic_score       8578\n",
       "user_score         6701\n",
       "rating             6766\n",
       "dtype: int64"
      ]
     },
     "execution_count": 7,
     "metadata": {},
     "output_type": "execute_result"
    }
   ],
   "source": [
    "df.isna().sum()"
   ]
  },
  {
   "cell_type": "markdown",
   "metadata": {},
   "source": [
    "* `name` - 2 пропуска. Причины пропусков неясны. Так как пропусков очень мало можно ими пренебречь и удалить эти строки.\n",
    "* `year_of_release` - 269 пропусков. Возможна ошибка в открытых источниках. Пропусков немного, но удалять строки не будем, т.к. они могут содержать полезную информацию в других столбцах.\n",
    "* `critic_score` - 8578 пропусков. Не все игры были оценены критиками. удалять пропуски нельзя (много ценной информации в других столбцах). Замена пропусков также неприемлима, т.к. очень исказит выводы. Оставим без изменений.\n",
    "* `user_score` - 6701 пропуск. Причины и действия те же.\n",
    "* `rating` - 6766 пропусков. Причины и действия те же."
   ]
  },
  {
   "cell_type": "code",
   "execution_count": 8,
   "metadata": {},
   "outputs": [],
   "source": [
    "# удаление строк с пропусками в столбце \"name\"\n",
    "df = df.dropna(subset=['name'])"
   ]
  },
  {
   "cell_type": "markdown",
   "metadata": {},
   "source": [
    "### Замена типов данных"
   ]
  },
  {
   "cell_type": "markdown",
   "metadata": {},
   "source": [
    "Столбцы, в которых нужно заменить тип данных:\n",
    "* `year_of_release` - необходимый тип данных - *int* (хоть это и столбец с датой, у нас дан только год, а тип данных *datetime* предполагает наличие нескольких временных составляющих)\n",
    "* `user_score` - необходимый тип данных - *float*"
   ]
  },
  {
   "cell_type": "code",
   "execution_count": 9,
   "metadata": {},
   "outputs": [],
   "source": [
    "# столбец \"year_of_release\" приведем к целочисленному типу\n",
    "df['year_of_release'] = df['year_of_release'].astype('Int64')"
   ]
  },
  {
   "cell_type": "markdown",
   "metadata": {},
   "source": [
    "Столбец `user_score` имеет тип *object*. Нужно проверить в чем причина."
   ]
  },
  {
   "cell_type": "code",
   "execution_count": 10,
   "metadata": {},
   "outputs": [
    {
     "data": {
      "text/plain": [
       "array(['8', nan, '8.3', '8.5', '6.6', '8.4', '8.6', '7.7', '6.3', '7.4',\n",
       "       '8.2', '9', '7.9', '8.1', '8.7', '7.1', '3.4', '5.3', '4.8', '3.2',\n",
       "       '8.9', '6.4', '7.8', '7.5', '2.6', '7.2', '9.2', '7', '7.3', '4.3',\n",
       "       '7.6', '5.7', '5', '9.1', '6.5', 'tbd', '8.8', '6.9', '9.4', '6.8',\n",
       "       '6.1', '6.7', '5.4', '4', '4.9', '4.5', '9.3', '6.2', '4.2', '6',\n",
       "       '3.7', '4.1', '5.8', '5.6', '5.5', '4.4', '4.6', '5.9', '3.9',\n",
       "       '3.1', '2.9', '5.2', '3.3', '4.7', '5.1', '3.5', '2.5', '1.9', '3',\n",
       "       '2.7', '2.2', '2', '9.5', '2.1', '3.6', '2.8', '1.8', '3.8', '0',\n",
       "       '1.6', '9.6', '2.4', '1.7', '1.1', '0.3', '1.5', '0.7', '1.2',\n",
       "       '2.3', '0.5', '1.3', '0.2', '0.6', '1.4', '0.9', '1', '9.7'],\n",
       "      dtype=object)"
      ]
     },
     "execution_count": 10,
     "metadata": {},
     "output_type": "execute_result"
    }
   ],
   "source": [
    "df['user_score'].unique()"
   ]
  },
  {
   "cell_type": "markdown",
   "metadata": {},
   "source": [
    "Столбец содержит значение 'tbd'. TBD - аббревиатура от английского To Be Determined (будет определено) или To Be Decided (будет решено). Используется, если какая-то информация еще не определена или решение по вопросу не принято.\n",
    "\n",
    "Другими словами это пропуски, поэтому приведем их к типу NaN а затем приведем столбец к типу *float*."
   ]
  },
  {
   "cell_type": "markdown",
   "metadata": {},
   "source": [
    "\n",
    "<div class=\"alert alert-success\">\n",
    "<b>✔️ Комментарий ревьюера:</b> Правльное решение..</div>"
   ]
  },
  {
   "cell_type": "code",
   "execution_count": 11,
   "metadata": {
    "scrolled": true
   },
   "outputs": [
    {
     "data": {
      "text/plain": [
       "dtype('float64')"
      ]
     },
     "execution_count": 11,
     "metadata": {},
     "output_type": "execute_result"
    }
   ],
   "source": [
    "# заменим 'tbd' на NaN\n",
    "df.loc[df['user_score'] == 'tbd', 'user_score'] = np.nan\n",
    "# приведем к типу float\n",
    "df['user_score'] = df['user_score'].astype('float')\n",
    "df['user_score'].dtypes"
   ]
  },
  {
   "cell_type": "markdown",
   "metadata": {},
   "source": [
    "### Подсчет суммарных продаж во всех регионах"
   ]
  },
  {
   "cell_type": "code",
   "execution_count": 12,
   "metadata": {},
   "outputs": [
    {
     "data": {
      "text/html": [
       "<div>\n",
       "<style scoped>\n",
       "    .dataframe tbody tr th:only-of-type {\n",
       "        vertical-align: middle;\n",
       "    }\n",
       "\n",
       "    .dataframe tbody tr th {\n",
       "        vertical-align: top;\n",
       "    }\n",
       "\n",
       "    .dataframe thead th {\n",
       "        text-align: right;\n",
       "    }\n",
       "</style>\n",
       "<table border=\"1\" class=\"dataframe\">\n",
       "  <thead>\n",
       "    <tr style=\"text-align: right;\">\n",
       "      <th></th>\n",
       "      <th>name</th>\n",
       "      <th>platform</th>\n",
       "      <th>year_of_release</th>\n",
       "      <th>genre</th>\n",
       "      <th>na_sales</th>\n",
       "      <th>eu_sales</th>\n",
       "      <th>jp_sales</th>\n",
       "      <th>other_sales</th>\n",
       "      <th>total_sales</th>\n",
       "      <th>critic_score</th>\n",
       "      <th>user_score</th>\n",
       "      <th>rating</th>\n",
       "    </tr>\n",
       "  </thead>\n",
       "  <tbody>\n",
       "    <tr>\n",
       "      <td>0</td>\n",
       "      <td>Wii Sports</td>\n",
       "      <td>Wii</td>\n",
       "      <td>2006</td>\n",
       "      <td>Sports</td>\n",
       "      <td>41.36</td>\n",
       "      <td>28.96</td>\n",
       "      <td>3.77</td>\n",
       "      <td>8.45</td>\n",
       "      <td>82.54</td>\n",
       "      <td>76.0</td>\n",
       "      <td>8.0</td>\n",
       "      <td>E</td>\n",
       "    </tr>\n",
       "    <tr>\n",
       "      <td>1</td>\n",
       "      <td>Super Mario Bros.</td>\n",
       "      <td>NES</td>\n",
       "      <td>1985</td>\n",
       "      <td>Platform</td>\n",
       "      <td>29.08</td>\n",
       "      <td>3.58</td>\n",
       "      <td>6.81</td>\n",
       "      <td>0.77</td>\n",
       "      <td>40.24</td>\n",
       "      <td>NaN</td>\n",
       "      <td>NaN</td>\n",
       "      <td>NaN</td>\n",
       "    </tr>\n",
       "    <tr>\n",
       "      <td>2</td>\n",
       "      <td>Mario Kart Wii</td>\n",
       "      <td>Wii</td>\n",
       "      <td>2008</td>\n",
       "      <td>Racing</td>\n",
       "      <td>15.68</td>\n",
       "      <td>12.76</td>\n",
       "      <td>3.79</td>\n",
       "      <td>3.29</td>\n",
       "      <td>35.52</td>\n",
       "      <td>82.0</td>\n",
       "      <td>8.3</td>\n",
       "      <td>E</td>\n",
       "    </tr>\n",
       "    <tr>\n",
       "      <td>3</td>\n",
       "      <td>Wii Sports Resort</td>\n",
       "      <td>Wii</td>\n",
       "      <td>2009</td>\n",
       "      <td>Sports</td>\n",
       "      <td>15.61</td>\n",
       "      <td>10.93</td>\n",
       "      <td>3.28</td>\n",
       "      <td>2.95</td>\n",
       "      <td>32.77</td>\n",
       "      <td>80.0</td>\n",
       "      <td>8.0</td>\n",
       "      <td>E</td>\n",
       "    </tr>\n",
       "    <tr>\n",
       "      <td>4</td>\n",
       "      <td>Pokemon Red/Pokemon Blue</td>\n",
       "      <td>GB</td>\n",
       "      <td>1996</td>\n",
       "      <td>Role-Playing</td>\n",
       "      <td>11.27</td>\n",
       "      <td>8.89</td>\n",
       "      <td>10.22</td>\n",
       "      <td>1.00</td>\n",
       "      <td>31.38</td>\n",
       "      <td>NaN</td>\n",
       "      <td>NaN</td>\n",
       "      <td>NaN</td>\n",
       "    </tr>\n",
       "  </tbody>\n",
       "</table>\n",
       "</div>"
      ],
      "text/plain": [
       "                       name platform  year_of_release         genre  na_sales  \\\n",
       "0                Wii Sports      Wii             2006        Sports     41.36   \n",
       "1         Super Mario Bros.      NES             1985      Platform     29.08   \n",
       "2            Mario Kart Wii      Wii             2008        Racing     15.68   \n",
       "3         Wii Sports Resort      Wii             2009        Sports     15.61   \n",
       "4  Pokemon Red/Pokemon Blue       GB             1996  Role-Playing     11.27   \n",
       "\n",
       "   eu_sales  jp_sales  other_sales  total_sales  critic_score  user_score  \\\n",
       "0     28.96      3.77         8.45        82.54          76.0         8.0   \n",
       "1      3.58      6.81         0.77        40.24           NaN         NaN   \n",
       "2     12.76      3.79         3.29        35.52          82.0         8.3   \n",
       "3     10.93      3.28         2.95        32.77          80.0         8.0   \n",
       "4      8.89     10.22         1.00        31.38           NaN         NaN   \n",
       "\n",
       "  rating  \n",
       "0      E  \n",
       "1    NaN  \n",
       "2      E  \n",
       "3      E  \n",
       "4    NaN  "
      ]
     },
     "execution_count": 12,
     "metadata": {},
     "output_type": "execute_result"
    }
   ],
   "source": [
    "# создадим столбец \"total_sales\" и расположим его после столбцов с продажами\n",
    "df.insert(8, 'total_sales', df['na_sales'] + df['eu_sales'] + df['jp_sales'] + df['other_sales'])\n",
    "df.head()"
   ]
  },
  {
   "cell_type": "markdown",
   "metadata": {},
   "source": [
    "### Вывод"
   ]
  },
  {
   "cell_type": "markdown",
   "metadata": {},
   "source": [
    "В данном разделе были проведены исправление названий столбцов, замена типов данных, обработка пропусков а также произведен подсчет суммарных продаж во всех регионах. Можно приступать к исследованию."
   ]
  },
  {
   "cell_type": "markdown",
   "metadata": {},
   "source": [
    "## Исследовательский анализ данных"
   ]
  },
  {
   "cell_type": "markdown",
   "metadata": {},
   "source": [
    "### Количество выпускаемых игр в разные периоды"
   ]
  },
  {
   "cell_type": "code",
   "execution_count": 13,
   "metadata": {},
   "outputs": [
    {
     "data": {
      "image/png": "[encoded data removed]",
      "text/plain": [
       "<Figure size 1080x432 with 1 Axes>"
      ]
     },
     "metadata": {
      "needs_background": "light"
     },
     "output_type": "display_data"
    }
   ],
   "source": [
    "# создадим сводную таблицу с количеством игр по годам и построим столбчатую диаграмму\n",
    "df.pivot_table(index='year_of_release', values='name', aggfunc='count').plot.bar(figsize=(15, 6), \n",
    "                                                                                 rot=45, \n",
    "                                                                                 grid=True, \n",
    "                                                                                 legend=False\n",
    "                                                                                )\n",
    "plt.title('Количество выпускаемых игр в разные периоды')\n",
    "plt.show()"
   ]
  },
  {
   "cell_type": "markdown",
   "metadata": {},
   "source": [
    "Из диаграммы видно что до 1995 года каждый год выпускалось всего несколько десятков игр. После 1995 года шел плавный рост с пиком в 2008-2009 годах (около 3000 игр за эти два года). После чего было плавное снижение до 2011 года включительно и резкий спад после 2011 года. С 2012 года график находтся в боковике.<br>\n",
    "Так как до 1995 года количество игр было незначительно эти данные можно не учитывать."
   ]
  },
  {
   "cell_type": "code",
   "execution_count": 14,
   "metadata": {},
   "outputs": [],
   "source": [
    "df_95 = df.query('year_of_release >= 1995')"
   ]
  },
  {
   "cell_type": "markdown",
   "metadata": {},
   "source": [
    "### Динамика продаж"
   ]
  },
  {
   "cell_type": "code",
   "execution_count": 15,
   "metadata": {},
   "outputs": [
    {
     "data": {
      "image/png": "[encoded data removed]",
      "text/plain": [
       "<Figure size 1080x432 with 1 Axes>"
      ]
     },
     "metadata": {
      "needs_background": "light"
     },
     "output_type": "display_data"
    }
   ],
   "source": [
    "# посмотрим на динамику продаж по годам\n",
    "df_95.pivot_table(index='year_of_release', values='total_sales', aggfunc='sum').plot.bar(figsize=(15, 6), \n",
    "                                                                                 rot=45, \n",
    "                                                                                 grid=True, \n",
    "                                                                                 legend=False\n",
    "                                                                                )\n",
    "plt.title('Динамика продаж по годам')\n",
    "plt.show()"
   ]
  },
  {
   "cell_type": "markdown",
   "metadata": {},
   "source": [
    "C 1995 начался последовательный рост с пиком в 2008 году (более 650 миллионов копий) и таким же плавным спадом до настоящего времени."
   ]
  },
  {
   "cell_type": "markdown",
   "metadata": {},
   "source": [
    "Теперь рассмотрим топовые платформы по количеству продаж."
   ]
  },
  {
   "cell_type": "code",
   "execution_count": 16,
   "metadata": {
    "scrolled": false
   },
   "outputs": [
    {
     "data": {
      "text/html": [
       "<div>\n",
       "<style scoped>\n",
       "    .dataframe tbody tr th:only-of-type {\n",
       "        vertical-align: middle;\n",
       "    }\n",
       "\n",
       "    .dataframe tbody tr th {\n",
       "        vertical-align: top;\n",
       "    }\n",
       "\n",
       "    .dataframe thead th {\n",
       "        text-align: right;\n",
       "    }\n",
       "</style>\n",
       "<table border=\"1\" class=\"dataframe\">\n",
       "  <thead>\n",
       "    <tr style=\"text-align: right;\">\n",
       "      <th></th>\n",
       "      <th>total_sales</th>\n",
       "    </tr>\n",
       "    <tr>\n",
       "      <th>platform</th>\n",
       "      <th></th>\n",
       "    </tr>\n",
       "  </thead>\n",
       "  <tbody>\n",
       "    <tr>\n",
       "      <td>PS2</td>\n",
       "      <td>1233.56</td>\n",
       "    </tr>\n",
       "    <tr>\n",
       "      <td>X360</td>\n",
       "      <td>961.24</td>\n",
       "    </tr>\n",
       "    <tr>\n",
       "      <td>PS3</td>\n",
       "      <td>931.34</td>\n",
       "    </tr>\n",
       "    <tr>\n",
       "      <td>Wii</td>\n",
       "      <td>891.18</td>\n",
       "    </tr>\n",
       "    <tr>\n",
       "      <td>DS</td>\n",
       "      <td>802.76</td>\n",
       "    </tr>\n",
       "    <tr>\n",
       "      <td>PS</td>\n",
       "      <td>721.55</td>\n",
       "    </tr>\n",
       "    <tr>\n",
       "      <td>PS4</td>\n",
       "      <td>314.14</td>\n",
       "    </tr>\n",
       "    <tr>\n",
       "      <td>GBA</td>\n",
       "      <td>312.88</td>\n",
       "    </tr>\n",
       "    <tr>\n",
       "      <td>PSP</td>\n",
       "      <td>289.53</td>\n",
       "    </tr>\n",
       "    <tr>\n",
       "      <td>3DS</td>\n",
       "      <td>257.81</td>\n",
       "    </tr>\n",
       "    <tr>\n",
       "      <td>XB</td>\n",
       "      <td>251.57</td>\n",
       "    </tr>\n",
       "    <tr>\n",
       "      <td>PC</td>\n",
       "      <td>239.79</td>\n",
       "    </tr>\n",
       "    <tr>\n",
       "      <td>N64</td>\n",
       "      <td>218.01</td>\n",
       "    </tr>\n",
       "    <tr>\n",
       "      <td>GC</td>\n",
       "      <td>196.73</td>\n",
       "    </tr>\n",
       "    <tr>\n",
       "      <td>XOne</td>\n",
       "      <td>159.32</td>\n",
       "    </tr>\n",
       "    <tr>\n",
       "      <td>GB</td>\n",
       "      <td>139.90</td>\n",
       "    </tr>\n",
       "    <tr>\n",
       "      <td>WiiU</td>\n",
       "      <td>82.19</td>\n",
       "    </tr>\n",
       "    <tr>\n",
       "      <td>PSV</td>\n",
       "      <td>53.81</td>\n",
       "    </tr>\n",
       "    <tr>\n",
       "      <td>SNES</td>\n",
       "      <td>49.59</td>\n",
       "    </tr>\n",
       "    <tr>\n",
       "      <td>SAT</td>\n",
       "      <td>29.94</td>\n",
       "    </tr>\n",
       "    <tr>\n",
       "      <td>DC</td>\n",
       "      <td>15.95</td>\n",
       "    </tr>\n",
       "    <tr>\n",
       "      <td>WS</td>\n",
       "      <td>1.42</td>\n",
       "    </tr>\n",
       "    <tr>\n",
       "      <td>NG</td>\n",
       "      <td>0.43</td>\n",
       "    </tr>\n",
       "    <tr>\n",
       "      <td>TG16</td>\n",
       "      <td>0.16</td>\n",
       "    </tr>\n",
       "    <tr>\n",
       "      <td>3DO</td>\n",
       "      <td>0.08</td>\n",
       "    </tr>\n",
       "    <tr>\n",
       "      <td>PCFX</td>\n",
       "      <td>0.03</td>\n",
       "    </tr>\n",
       "  </tbody>\n",
       "</table>\n",
       "</div>"
      ],
      "text/plain": [
       "          total_sales\n",
       "platform             \n",
       "PS2           1233.56\n",
       "X360           961.24\n",
       "PS3            931.34\n",
       "Wii            891.18\n",
       "DS             802.76\n",
       "PS             721.55\n",
       "PS4            314.14\n",
       "GBA            312.88\n",
       "PSP            289.53\n",
       "3DS            257.81\n",
       "XB             251.57\n",
       "PC             239.79\n",
       "N64            218.01\n",
       "GC             196.73\n",
       "XOne           159.32\n",
       "GB             139.90\n",
       "WiiU            82.19\n",
       "PSV             53.81\n",
       "SNES            49.59\n",
       "SAT             29.94\n",
       "DC              15.95\n",
       "WS               1.42\n",
       "NG               0.43\n",
       "TG16             0.16\n",
       "3DO              0.08\n",
       "PCFX             0.03"
      ]
     },
     "execution_count": 16,
     "metadata": {},
     "output_type": "execute_result"
    }
   ],
   "source": [
    "df_95.pivot_table(index='platform', values='total_sales', aggfunc='sum').sort_values('total_sales', ascending=False)"
   ]
  },
  {
   "cell_type": "markdown",
   "metadata": {},
   "source": [
    "Можно выделить шестерку лидеров, так как после *PS* идет двухкратный спад по продажам."
   ]
  },
  {
   "cell_type": "code",
   "execution_count": 17,
   "metadata": {},
   "outputs": [
    {
     "data": {
      "text/html": [
       "<div>\n",
       "<style scoped>\n",
       "    .dataframe tbody tr th:only-of-type {\n",
       "        vertical-align: middle;\n",
       "    }\n",
       "\n",
       "    .dataframe tbody tr th {\n",
       "        vertical-align: top;\n",
       "    }\n",
       "\n",
       "    .dataframe thead th {\n",
       "        text-align: right;\n",
       "    }\n",
       "</style>\n",
       "<table border=\"1\" class=\"dataframe\">\n",
       "  <thead>\n",
       "    <tr style=\"text-align: right;\">\n",
       "      <th></th>\n",
       "      <th>platform</th>\n",
       "      <th>year_of_release</th>\n",
       "      <th>total_sales</th>\n",
       "    </tr>\n",
       "  </thead>\n",
       "  <tbody>\n",
       "    <tr>\n",
       "      <td>0</td>\n",
       "      <td>DS</td>\n",
       "      <td>2004</td>\n",
       "      <td>17.27</td>\n",
       "    </tr>\n",
       "    <tr>\n",
       "      <td>1</td>\n",
       "      <td>DS</td>\n",
       "      <td>2005</td>\n",
       "      <td>130.14</td>\n",
       "    </tr>\n",
       "    <tr>\n",
       "      <td>2</td>\n",
       "      <td>DS</td>\n",
       "      <td>2006</td>\n",
       "      <td>119.81</td>\n",
       "    </tr>\n",
       "    <tr>\n",
       "      <td>3</td>\n",
       "      <td>DS</td>\n",
       "      <td>2007</td>\n",
       "      <td>146.94</td>\n",
       "    </tr>\n",
       "    <tr>\n",
       "      <td>4</td>\n",
       "      <td>DS</td>\n",
       "      <td>2008</td>\n",
       "      <td>145.31</td>\n",
       "    </tr>\n",
       "    <tr>\n",
       "      <td>5</td>\n",
       "      <td>DS</td>\n",
       "      <td>2009</td>\n",
       "      <td>119.54</td>\n",
       "    </tr>\n",
       "    <tr>\n",
       "      <td>6</td>\n",
       "      <td>DS</td>\n",
       "      <td>2010</td>\n",
       "      <td>85.02</td>\n",
       "    </tr>\n",
       "    <tr>\n",
       "      <td>7</td>\n",
       "      <td>DS</td>\n",
       "      <td>2011</td>\n",
       "      <td>26.18</td>\n",
       "    </tr>\n",
       "    <tr>\n",
       "      <td>8</td>\n",
       "      <td>DS</td>\n",
       "      <td>2012</td>\n",
       "      <td>11.01</td>\n",
       "    </tr>\n",
       "    <tr>\n",
       "      <td>9</td>\n",
       "      <td>DS</td>\n",
       "      <td>2013</td>\n",
       "      <td>1.54</td>\n",
       "    </tr>\n",
       "  </tbody>\n",
       "</table>\n",
       "</div>"
      ],
      "text/plain": [
       "  platform  year_of_release  total_sales\n",
       "0       DS             2004        17.27\n",
       "1       DS             2005       130.14\n",
       "2       DS             2006       119.81\n",
       "3       DS             2007       146.94\n",
       "4       DS             2008       145.31\n",
       "5       DS             2009       119.54\n",
       "6       DS             2010        85.02\n",
       "7       DS             2011        26.18\n",
       "8       DS             2012        11.01\n",
       "9       DS             2013         1.54"
      ]
     },
     "execution_count": 17,
     "metadata": {},
     "output_type": "execute_result"
    }
   ],
   "source": [
    "# создадим сводную таблицу с топ-платформами\n",
    "df_top = df_95[df_95['platform'].isin(('PS2', 'X360', 'PS3', 'Wii', 'DS', 'PS'))]\\\n",
    "                          .pivot_table(index=['platform', 'year_of_release'], values='total_sales', aggfunc='sum')\\\n",
    "                          .reset_index()\n",
    "df_top.head(10)"
   ]
  },
  {
   "cell_type": "code",
   "execution_count": 18,
   "metadata": {
    "scrolled": false
   },
   "outputs": [
    {
     "data": {
      "image/png": "[encoded data removed]",
      "text/plain": [
       "<Figure size 720x288 with 1 Axes>"
      ]
     },
     "metadata": {
      "needs_background": "light"
     },
     "output_type": "display_data"
    },
    {
     "data": {
      "image/png": "[encoded data removed]",
      "text/plain": [
       "<Figure size 720x288 with 1 Axes>"
      ]
     },
     "metadata": {
      "needs_background": "light"
     },
     "output_type": "display_data"
    },
    {
     "data": {
      "image/png": "[encoded data removed]",
      "text/plain": [
       "<Figure size 720x288 with 1 Axes>"
      ]
     },
     "metadata": {
      "needs_background": "light"
     },
     "output_type": "display_data"
    },
    {
     "data": {
      "image/png": "[encoded data removed]",
      "text/plain": [
       "<Figure size 720x288 with 1 Axes>"
      ]
     },
     "metadata": {
      "needs_background": "light"
     },
     "output_type": "display_data"
    },
    {
     "data": {
      "image/png": "[encoded data removed]",
      "text/plain": [
       "<Figure size 720x288 with 1 Axes>"
      ]
     },
     "metadata": {
      "needs_background": "light"
     },
     "output_type": "display_data"
    },
    {
     "data": {
      "image/png": "[encoded data removed]",
      "text/plain": [
       "<Figure size 720x288 with 1 Axes>"
      ]
     },
     "metadata": {
      "needs_background": "light"
     },
     "output_type": "display_data"
    }
   ],
   "source": [
    "# с помощью цикла построим столбчатые диаграммы с продажами по годам для топ-платформ\n",
    "lst = ['PS2', 'X360', 'PS3', 'Wii', 'DS', 'PS']\n",
    "for i in lst:\n",
    "    (df_top[df_top['platform'] == i]\n",
    "     .plot.bar('year_of_release', \n",
    "               'total_sales', \n",
    "               figsize=(10,4), \n",
    "               title=i, \n",
    "               grid=True, \n",
    "               rot=45)\n",
    "    )\n",
    "plt.show()"
   ]
  },
  {
   "cell_type": "markdown",
   "metadata": {},
   "source": [
    "Из диаграмм видно, что они в основном имеют близкое к нормальному распределение. Можно сказать что платформы имеют определенный цикл роста и падения, другими словами \"продолжительности жизни\" платформы."
   ]
  },
  {
   "cell_type": "markdown",
   "metadata": {},
   "source": [
    "### За какой характерный срок появляются новые и исчезают старые платформы?"
   ]
  },
  {
   "cell_type": "markdown",
   "metadata": {},
   "source": [
    "Большинство диаграмм имеют нормальное распределение по продажам. По ним видно цикл жизни платформы. Рассчитаем среднюю \"продолжительность жизни\" платформ."
   ]
  },
  {
   "cell_type": "code",
   "execution_count": 19,
   "metadata": {
    "scrolled": true
   },
   "outputs": [
    {
     "data": {
      "text/plain": [
       "Index(['2600', '3DO', 'DC', 'DS', 'GB', 'GBA', 'GC', 'GEN', 'GG', 'N64', 'NES',\n",
       "       'NG', 'PCFX', 'PS', 'PS2', 'PSP', 'SAT', 'SCD', 'SNES', 'TG16', 'WS',\n",
       "       'XB'],\n",
       "      dtype='object', name='platform')"
      ]
     },
     "execution_count": 19,
     "metadata": {},
     "output_type": "execute_result"
    }
   ],
   "source": [
    "# выделим платформы, которые уже прошли полный цикл (от старта продаж до их прекращения)\n",
    "dead_platforms = (df.pivot_table(index='platform', values='year_of_release', aggfunc='max')\n",
    "                  .query('year_of_release != 2016')\n",
    "                  .index\n",
    "                 )\n",
    "dead_platforms"
   ]
  },
  {
   "cell_type": "code",
   "execution_count": 20,
   "metadata": {},
   "outputs": [
    {
     "name": "stdout",
     "output_type": "stream",
     "text": [
      "Средняя продолжительность жизни платформы составляет 7 лет.\n"
     ]
    }
   ],
   "source": [
    "# найдем медианную \"продолжительность жизни\" платформы\n",
    "mean_life = []\n",
    "for i in dead_platforms:\n",
    "    platform_life = (df[df['platform'] == i]['year_of_release'].max() - df[df['platform'] == i]['year_of_release'].min())\n",
    "    mean_life.append(platform_life)\n",
    "\n",
    "print(f'Средняя продолжительность жизни платформы составляет {statistics.mean(mean_life)} лет.')"
   ]
  },
  {
   "cell_type": "markdown",
   "metadata": {},
   "source": [
    "Теперь попробуем найти медианное время роста платформы до пиковых показателей продаж."
   ]
  },
  {
   "cell_type": "code",
   "execution_count": 21,
   "metadata": {},
   "outputs": [
    {
     "data": {
      "text/html": [
       "<div>\n",
       "<style scoped>\n",
       "    .dataframe tbody tr th:only-of-type {\n",
       "        vertical-align: middle;\n",
       "    }\n",
       "\n",
       "    .dataframe tbody tr th {\n",
       "        vertical-align: top;\n",
       "    }\n",
       "\n",
       "    .dataframe thead th {\n",
       "        text-align: right;\n",
       "    }\n",
       "</style>\n",
       "<table border=\"1\" class=\"dataframe\">\n",
       "  <thead>\n",
       "    <tr style=\"text-align: right;\">\n",
       "      <th></th>\n",
       "      <th>platform</th>\n",
       "      <th>year_of_release</th>\n",
       "      <th>total_sales</th>\n",
       "    </tr>\n",
       "  </thead>\n",
       "  <tbody>\n",
       "    <tr>\n",
       "      <td>0</td>\n",
       "      <td>2600</td>\n",
       "      <td>1980</td>\n",
       "      <td>11.38</td>\n",
       "    </tr>\n",
       "    <tr>\n",
       "      <td>1</td>\n",
       "      <td>2600</td>\n",
       "      <td>1981</td>\n",
       "      <td>35.68</td>\n",
       "    </tr>\n",
       "    <tr>\n",
       "      <td>2</td>\n",
       "      <td>2600</td>\n",
       "      <td>1982</td>\n",
       "      <td>28.88</td>\n",
       "    </tr>\n",
       "    <tr>\n",
       "      <td>3</td>\n",
       "      <td>2600</td>\n",
       "      <td>1983</td>\n",
       "      <td>5.84</td>\n",
       "    </tr>\n",
       "    <tr>\n",
       "      <td>4</td>\n",
       "      <td>2600</td>\n",
       "      <td>1984</td>\n",
       "      <td>0.27</td>\n",
       "    </tr>\n",
       "  </tbody>\n",
       "</table>\n",
       "</div>"
      ],
      "text/plain": [
       "  platform  year_of_release  total_sales\n",
       "0     2600             1980        11.38\n",
       "1     2600             1981        35.68\n",
       "2     2600             1982        28.88\n",
       "3     2600             1983         5.84\n",
       "4     2600             1984         0.27"
      ]
     },
     "execution_count": 21,
     "metadata": {},
     "output_type": "execute_result"
    }
   ],
   "source": [
    "# сводная таблица с годовыми продажами\n",
    "peak = df.pivot_table(index=['platform', 'year_of_release'], values='total_sales', aggfunc='sum').reset_index()\n",
    "peak.head()"
   ]
  },
  {
   "cell_type": "code",
   "execution_count": 22,
   "metadata": {},
   "outputs": [
    {
     "data": {
      "text/html": [
       "<div>\n",
       "<style scoped>\n",
       "    .dataframe tbody tr th:only-of-type {\n",
       "        vertical-align: middle;\n",
       "    }\n",
       "\n",
       "    .dataframe tbody tr th {\n",
       "        vertical-align: top;\n",
       "    }\n",
       "\n",
       "    .dataframe thead th {\n",
       "        text-align: right;\n",
       "    }\n",
       "</style>\n",
       "<table border=\"1\" class=\"dataframe\">\n",
       "  <thead>\n",
       "    <tr style=\"text-align: right;\">\n",
       "      <th></th>\n",
       "      <th>platform</th>\n",
       "      <th>year_of_release</th>\n",
       "    </tr>\n",
       "  </thead>\n",
       "  <tbody>\n",
       "    <tr>\n",
       "      <td>23</td>\n",
       "      <td>SNES</td>\n",
       "      <td>1990</td>\n",
       "    </tr>\n",
       "    <tr>\n",
       "      <td>1</td>\n",
       "      <td>3DO</td>\n",
       "      <td>1994</td>\n",
       "    </tr>\n",
       "    <tr>\n",
       "      <td>24</td>\n",
       "      <td>TG16</td>\n",
       "      <td>1995</td>\n",
       "    </tr>\n",
       "    <tr>\n",
       "      <td>11</td>\n",
       "      <td>NES</td>\n",
       "      <td>1983</td>\n",
       "    </tr>\n",
       "    <tr>\n",
       "      <td>9</td>\n",
       "      <td>GG</td>\n",
       "      <td>1992</td>\n",
       "    </tr>\n",
       "  </tbody>\n",
       "</table>\n",
       "</div>"
      ],
      "text/plain": [
       "   platform  year_of_release\n",
       "23     SNES             1990\n",
       "1       3DO             1994\n",
       "24     TG16             1995\n",
       "11      NES             1983\n",
       "9        GG             1992"
      ]
     },
     "execution_count": 22,
     "metadata": {},
     "output_type": "execute_result"
    }
   ],
   "source": [
    "# начало продаж\n",
    "start_life = df.groupby('platform')[['year_of_release']].min().reset_index()\n",
    "# берем только платформы полного цикла\n",
    "start_life = start_life.query('platform in @dead_platforms')\n",
    "start_life.sample(5)"
   ]
  },
  {
   "cell_type": "code",
   "execution_count": 23,
   "metadata": {},
   "outputs": [
    {
     "data": {
      "text/html": [
       "<div>\n",
       "<style scoped>\n",
       "    .dataframe tbody tr th:only-of-type {\n",
       "        vertical-align: middle;\n",
       "    }\n",
       "\n",
       "    .dataframe tbody tr th {\n",
       "        vertical-align: top;\n",
       "    }\n",
       "\n",
       "    .dataframe thead th {\n",
       "        text-align: right;\n",
       "    }\n",
       "</style>\n",
       "<table border=\"1\" class=\"dataframe\">\n",
       "  <thead>\n",
       "    <tr style=\"text-align: right;\">\n",
       "      <th></th>\n",
       "      <th>platform</th>\n",
       "      <th>total_sales</th>\n",
       "    </tr>\n",
       "  </thead>\n",
       "  <tbody>\n",
       "    <tr>\n",
       "      <td>6</td>\n",
       "      <td>GBA</td>\n",
       "      <td>77.91</td>\n",
       "    </tr>\n",
       "    <tr>\n",
       "      <td>28</td>\n",
       "      <td>X360</td>\n",
       "      <td>170.03</td>\n",
       "    </tr>\n",
       "    <tr>\n",
       "      <td>29</td>\n",
       "      <td>XB</td>\n",
       "      <td>65.42</td>\n",
       "    </tr>\n",
       "    <tr>\n",
       "      <td>22</td>\n",
       "      <td>SCD</td>\n",
       "      <td>1.50</td>\n",
       "    </tr>\n",
       "    <tr>\n",
       "      <td>9</td>\n",
       "      <td>GG</td>\n",
       "      <td>0.04</td>\n",
       "    </tr>\n",
       "  </tbody>\n",
       "</table>\n",
       "</div>"
      ],
      "text/plain": [
       "   platform  total_sales\n",
       "6       GBA        77.91\n",
       "28     X360       170.03\n",
       "29       XB        65.42\n",
       "22      SCD         1.50\n",
       "9        GG         0.04"
      ]
     },
     "execution_count": 23,
     "metadata": {},
     "output_type": "execute_result"
    }
   ],
   "source": [
    "# находим наибольшее количество продаж по каждой платформе в определенный год\n",
    "peak_life = peak.groupby('platform')[['total_sales']].max().reset_index()\n",
    "peak_life.sample(5)"
   ]
  },
  {
   "cell_type": "code",
   "execution_count": 24,
   "metadata": {},
   "outputs": [
    {
     "data": {
      "text/html": [
       "<div>\n",
       "<style scoped>\n",
       "    .dataframe tbody tr th:only-of-type {\n",
       "        vertical-align: middle;\n",
       "    }\n",
       "\n",
       "    .dataframe tbody tr th {\n",
       "        vertical-align: top;\n",
       "    }\n",
       "\n",
       "    .dataframe thead th {\n",
       "        text-align: right;\n",
       "    }\n",
       "</style>\n",
       "<table border=\"1\" class=\"dataframe\">\n",
       "  <thead>\n",
       "    <tr style=\"text-align: right;\">\n",
       "      <th></th>\n",
       "      <th>platform</th>\n",
       "      <th>total_sales</th>\n",
       "      <th>peak_year</th>\n",
       "    </tr>\n",
       "  </thead>\n",
       "  <tbody>\n",
       "    <tr>\n",
       "      <td>0</td>\n",
       "      <td>2600</td>\n",
       "      <td>35.68</td>\n",
       "      <td>1981</td>\n",
       "    </tr>\n",
       "    <tr>\n",
       "      <td>1</td>\n",
       "      <td>3DO</td>\n",
       "      <td>0.08</td>\n",
       "      <td>1995</td>\n",
       "    </tr>\n",
       "    <tr>\n",
       "      <td>3</td>\n",
       "      <td>DC</td>\n",
       "      <td>5.99</td>\n",
       "      <td>2000</td>\n",
       "    </tr>\n",
       "    <tr>\n",
       "      <td>4</td>\n",
       "      <td>DS</td>\n",
       "      <td>146.94</td>\n",
       "      <td>2007</td>\n",
       "    </tr>\n",
       "    <tr>\n",
       "      <td>5</td>\n",
       "      <td>GB</td>\n",
       "      <td>64.97</td>\n",
       "      <td>1989</td>\n",
       "    </tr>\n",
       "  </tbody>\n",
       "</table>\n",
       "</div>"
      ],
      "text/plain": [
       "  platform  total_sales  peak_year\n",
       "0     2600        35.68       1981\n",
       "1      3DO         0.08       1995\n",
       "3       DC         5.99       2000\n",
       "4       DS       146.94       2007\n",
       "5       GB        64.97       1989"
      ]
     },
     "execution_count": 24,
     "metadata": {},
     "output_type": "execute_result"
    }
   ],
   "source": [
    "# объединяем таблицы\n",
    "peak_life = peak_life.merge(peak, how='inner')\n",
    "peak_life = peak_life.rename(columns={'year_of_release':'peak_year'})\n",
    "# берем только платформы полного цикла\n",
    "peak_life = peak_life.query('platform in @dead_platforms')\n",
    "peak_life.head()"
   ]
  },
  {
   "cell_type": "code",
   "execution_count": 25,
   "metadata": {},
   "outputs": [
    {
     "data": {
      "text/html": [
       "<div>\n",
       "<style scoped>\n",
       "    .dataframe tbody tr th:only-of-type {\n",
       "        vertical-align: middle;\n",
       "    }\n",
       "\n",
       "    .dataframe tbody tr th {\n",
       "        vertical-align: top;\n",
       "    }\n",
       "\n",
       "    .dataframe thead th {\n",
       "        text-align: right;\n",
       "    }\n",
       "</style>\n",
       "<table border=\"1\" class=\"dataframe\">\n",
       "  <thead>\n",
       "    <tr style=\"text-align: right;\">\n",
       "      <th></th>\n",
       "      <th>platform</th>\n",
       "      <th>total_sales</th>\n",
       "      <th>peak_year</th>\n",
       "      <th>year_of_release</th>\n",
       "      <th>growth_time</th>\n",
       "    </tr>\n",
       "  </thead>\n",
       "  <tbody>\n",
       "    <tr>\n",
       "      <td>20</td>\n",
       "      <td>WS</td>\n",
       "      <td>0.68</td>\n",
       "      <td>2000</td>\n",
       "      <td>1999</td>\n",
       "      <td>1</td>\n",
       "    </tr>\n",
       "    <tr>\n",
       "      <td>17</td>\n",
       "      <td>SCD</td>\n",
       "      <td>1.50</td>\n",
       "      <td>1993</td>\n",
       "      <td>1993</td>\n",
       "      <td>0</td>\n",
       "    </tr>\n",
       "    <tr>\n",
       "      <td>12</td>\n",
       "      <td>PCFX</td>\n",
       "      <td>0.03</td>\n",
       "      <td>1996</td>\n",
       "      <td>1996</td>\n",
       "      <td>0</td>\n",
       "    </tr>\n",
       "    <tr>\n",
       "      <td>7</td>\n",
       "      <td>GEN</td>\n",
       "      <td>12.64</td>\n",
       "      <td>1992</td>\n",
       "      <td>1990</td>\n",
       "      <td>2</td>\n",
       "    </tr>\n",
       "    <tr>\n",
       "      <td>4</td>\n",
       "      <td>GB</td>\n",
       "      <td>64.97</td>\n",
       "      <td>1989</td>\n",
       "      <td>1988</td>\n",
       "      <td>1</td>\n",
       "    </tr>\n",
       "  </tbody>\n",
       "</table>\n",
       "</div>"
      ],
      "text/plain": [
       "   platform  total_sales  peak_year  year_of_release  growth_time\n",
       "20       WS         0.68       2000             1999            1\n",
       "17      SCD         1.50       1993             1993            0\n",
       "12     PCFX         0.03       1996             1996            0\n",
       "7       GEN        12.64       1992             1990            2\n",
       "4        GB        64.97       1989             1988            1"
      ]
     },
     "execution_count": 25,
     "metadata": {},
     "output_type": "execute_result"
    }
   ],
   "source": [
    "# объединяем таблицы\n",
    "peak_life = peak_life.merge(start_life)\n",
    "peak_life['growth_time'] = peak_life['peak_year'] - peak_life['year_of_release']\n",
    "peak_life.sample(5)"
   ]
  },
  {
   "cell_type": "code",
   "execution_count": 26,
   "metadata": {},
   "outputs": [
    {
     "name": "stdout",
     "output_type": "stream",
     "text": [
      "Среднее время роста платформы до пиковых показателей продаж составляет 3 года.\n"
     ]
    }
   ],
   "source": [
    "print(f'Среднее время роста платформы до пиковых показателей продаж составляет {peak_life[\"growth_time\"].mean():.0f} года.')"
   ]
  },
  {
   "cell_type": "markdown",
   "metadata": {},
   "source": [
    "### Промежуточный вывод исследования"
   ]
  },
  {
   "cell_type": "markdown",
   "metadata": {},
   "source": [
    "В данном разделе мы отсекли годы с небольшим количеством продаж (до 1995г.). По диаграммам распределения продаж по годам по топ-платформам  было выявлено, что платформы имеют определенный цикл \"продолжительность жизни\" и в результате расчетов определено, что средняя **\"продолжительность жизни\"** платформы составляет **7 лет**, а среднее **время роста** платформы до пиковых показателей продаж составляет **3 года**.\n",
    "\n",
    "Также было выяснено что с 2008 года идет серьезный спад продаж."
   ]
  },
  {
   "cell_type": "markdown",
   "metadata": {},
   "source": [
    "### Выбор актуального периода"
   ]
  },
  {
   "cell_type": "markdown",
   "metadata": {},
   "source": [
    "За актуальный период выберем среднее время роста платформы до пиковых показателей продаж, т.е. 3 года."
   ]
  },
  {
   "cell_type": "code",
   "execution_count": 27,
   "metadata": {},
   "outputs": [
    {
     "data": {
      "text/plain": [
       "3"
      ]
     },
     "execution_count": 27,
     "metadata": {},
     "output_type": "execute_result"
    }
   ],
   "source": [
    "df_actual = df.query('year_of_release >= 2014')\n",
    "df_actual['year_of_release'].nunique()"
   ]
  },
  {
   "cell_type": "code",
   "execution_count": 28,
   "metadata": {},
   "outputs": [
    {
     "name": "stdout",
     "output_type": "stream",
     "text": [
      "Количество платформ: 10\n"
     ]
    }
   ],
   "source": [
    "print(f'Количество платформ: {df_actual[\"platform\"].nunique()}')"
   ]
  },
  {
   "cell_type": "markdown",
   "metadata": {},
   "source": [
    "### Поиск потенциально прибыльных платформ"
   ]
  },
  {
   "cell_type": "code",
   "execution_count": 29,
   "metadata": {},
   "outputs": [
    {
     "data": {
      "text/html": [
       "<div>\n",
       "<style scoped>\n",
       "    .dataframe tbody tr th:only-of-type {\n",
       "        vertical-align: middle;\n",
       "    }\n",
       "\n",
       "    .dataframe tbody tr th {\n",
       "        vertical-align: top;\n",
       "    }\n",
       "\n",
       "    .dataframe thead th {\n",
       "        text-align: right;\n",
       "    }\n",
       "</style>\n",
       "<table border=\"1\" class=\"dataframe\">\n",
       "  <thead>\n",
       "    <tr style=\"text-align: right;\">\n",
       "      <th></th>\n",
       "      <th>total_sales</th>\n",
       "    </tr>\n",
       "    <tr>\n",
       "      <th>platform</th>\n",
       "      <th></th>\n",
       "    </tr>\n",
       "  </thead>\n",
       "  <tbody>\n",
       "    <tr>\n",
       "      <td>PS4</td>\n",
       "      <td>288.15</td>\n",
       "    </tr>\n",
       "    <tr>\n",
       "      <td>XOne</td>\n",
       "      <td>140.36</td>\n",
       "    </tr>\n",
       "    <tr>\n",
       "      <td>3DS</td>\n",
       "      <td>86.68</td>\n",
       "    </tr>\n",
       "    <tr>\n",
       "      <td>PS3</td>\n",
       "      <td>68.18</td>\n",
       "    </tr>\n",
       "    <tr>\n",
       "      <td>X360</td>\n",
       "      <td>48.22</td>\n",
       "    </tr>\n",
       "    <tr>\n",
       "      <td>WiiU</td>\n",
       "      <td>42.98</td>\n",
       "    </tr>\n",
       "    <tr>\n",
       "      <td>PC</td>\n",
       "      <td>27.05</td>\n",
       "    </tr>\n",
       "    <tr>\n",
       "      <td>PSV</td>\n",
       "      <td>22.40</td>\n",
       "    </tr>\n",
       "    <tr>\n",
       "      <td>Wii</td>\n",
       "      <td>5.07</td>\n",
       "    </tr>\n",
       "    <tr>\n",
       "      <td>PSP</td>\n",
       "      <td>0.36</td>\n",
       "    </tr>\n",
       "  </tbody>\n",
       "</table>\n",
       "</div>"
      ],
      "text/plain": [
       "          total_sales\n",
       "platform             \n",
       "PS4            288.15\n",
       "XOne           140.36\n",
       "3DS             86.68\n",
       "PS3             68.18\n",
       "X360            48.22\n",
       "WiiU            42.98\n",
       "PC              27.05\n",
       "PSV             22.40\n",
       "Wii              5.07\n",
       "PSP              0.36"
      ]
     },
     "execution_count": 29,
     "metadata": {},
     "output_type": "execute_result"
    }
   ],
   "source": [
    "# продажи всех платформ за актуальный период\n",
    "df_actual.pivot_table(index='platform', values='total_sales', aggfunc='sum').sort_values('total_sales', ascending=False)"
   ]
  },
  {
   "cell_type": "markdown",
   "metadata": {},
   "source": [
    "Среди полученных платформ есть те, для которых уже были построены диаграммы, и все из них уже находятся в конце жизненного цикла. Уберем их из списка."
   ]
  },
  {
   "cell_type": "code",
   "execution_count": 30,
   "metadata": {
    "scrolled": false
   },
   "outputs": [
    {
     "data": {
      "text/html": [
       "<div>\n",
       "<style scoped>\n",
       "    .dataframe tbody tr th:only-of-type {\n",
       "        vertical-align: middle;\n",
       "    }\n",
       "\n",
       "    .dataframe tbody tr th {\n",
       "        vertical-align: top;\n",
       "    }\n",
       "\n",
       "    .dataframe thead th {\n",
       "        text-align: right;\n",
       "    }\n",
       "</style>\n",
       "<table border=\"1\" class=\"dataframe\">\n",
       "  <thead>\n",
       "    <tr style=\"text-align: right;\">\n",
       "      <th></th>\n",
       "      <th>platform</th>\n",
       "      <th>year_of_release</th>\n",
       "      <th>total_sales</th>\n",
       "    </tr>\n",
       "  </thead>\n",
       "  <tbody>\n",
       "    <tr>\n",
       "      <td>0</td>\n",
       "      <td>3DS</td>\n",
       "      <td>2014</td>\n",
       "      <td>43.76</td>\n",
       "    </tr>\n",
       "    <tr>\n",
       "      <td>1</td>\n",
       "      <td>3DS</td>\n",
       "      <td>2015</td>\n",
       "      <td>27.78</td>\n",
       "    </tr>\n",
       "    <tr>\n",
       "      <td>2</td>\n",
       "      <td>3DS</td>\n",
       "      <td>2016</td>\n",
       "      <td>15.14</td>\n",
       "    </tr>\n",
       "    <tr>\n",
       "      <td>3</td>\n",
       "      <td>PC</td>\n",
       "      <td>2014</td>\n",
       "      <td>13.28</td>\n",
       "    </tr>\n",
       "    <tr>\n",
       "      <td>4</td>\n",
       "      <td>PC</td>\n",
       "      <td>2015</td>\n",
       "      <td>8.52</td>\n",
       "    </tr>\n",
       "    <tr>\n",
       "      <td>5</td>\n",
       "      <td>PC</td>\n",
       "      <td>2016</td>\n",
       "      <td>5.25</td>\n",
       "    </tr>\n",
       "    <tr>\n",
       "      <td>6</td>\n",
       "      <td>PS4</td>\n",
       "      <td>2014</td>\n",
       "      <td>100.00</td>\n",
       "    </tr>\n",
       "    <tr>\n",
       "      <td>7</td>\n",
       "      <td>PS4</td>\n",
       "      <td>2015</td>\n",
       "      <td>118.90</td>\n",
       "    </tr>\n",
       "    <tr>\n",
       "      <td>8</td>\n",
       "      <td>PS4</td>\n",
       "      <td>2016</td>\n",
       "      <td>69.25</td>\n",
       "    </tr>\n",
       "    <tr>\n",
       "      <td>9</td>\n",
       "      <td>PSP</td>\n",
       "      <td>2014</td>\n",
       "      <td>0.24</td>\n",
       "    </tr>\n",
       "    <tr>\n",
       "      <td>10</td>\n",
       "      <td>PSP</td>\n",
       "      <td>2015</td>\n",
       "      <td>0.12</td>\n",
       "    </tr>\n",
       "    <tr>\n",
       "      <td>11</td>\n",
       "      <td>PSV</td>\n",
       "      <td>2014</td>\n",
       "      <td>11.90</td>\n",
       "    </tr>\n",
       "    <tr>\n",
       "      <td>12</td>\n",
       "      <td>PSV</td>\n",
       "      <td>2015</td>\n",
       "      <td>6.25</td>\n",
       "    </tr>\n",
       "    <tr>\n",
       "      <td>13</td>\n",
       "      <td>PSV</td>\n",
       "      <td>2016</td>\n",
       "      <td>4.25</td>\n",
       "    </tr>\n",
       "    <tr>\n",
       "      <td>14</td>\n",
       "      <td>WiiU</td>\n",
       "      <td>2014</td>\n",
       "      <td>22.03</td>\n",
       "    </tr>\n",
       "    <tr>\n",
       "      <td>15</td>\n",
       "      <td>WiiU</td>\n",
       "      <td>2015</td>\n",
       "      <td>16.35</td>\n",
       "    </tr>\n",
       "    <tr>\n",
       "      <td>16</td>\n",
       "      <td>WiiU</td>\n",
       "      <td>2016</td>\n",
       "      <td>4.60</td>\n",
       "    </tr>\n",
       "    <tr>\n",
       "      <td>17</td>\n",
       "      <td>XOne</td>\n",
       "      <td>2014</td>\n",
       "      <td>54.07</td>\n",
       "    </tr>\n",
       "    <tr>\n",
       "      <td>18</td>\n",
       "      <td>XOne</td>\n",
       "      <td>2015</td>\n",
       "      <td>60.14</td>\n",
       "    </tr>\n",
       "    <tr>\n",
       "      <td>19</td>\n",
       "      <td>XOne</td>\n",
       "      <td>2016</td>\n",
       "      <td>26.15</td>\n",
       "    </tr>\n",
       "  </tbody>\n",
       "</table>\n",
       "</div>"
      ],
      "text/plain": [
       "   platform  year_of_release  total_sales\n",
       "0       3DS             2014        43.76\n",
       "1       3DS             2015        27.78\n",
       "2       3DS             2016        15.14\n",
       "3        PC             2014        13.28\n",
       "4        PC             2015         8.52\n",
       "5        PC             2016         5.25\n",
       "6       PS4             2014       100.00\n",
       "7       PS4             2015       118.90\n",
       "8       PS4             2016        69.25\n",
       "9       PSP             2014         0.24\n",
       "10      PSP             2015         0.12\n",
       "11      PSV             2014        11.90\n",
       "12      PSV             2015         6.25\n",
       "13      PSV             2016         4.25\n",
       "14     WiiU             2014        22.03\n",
       "15     WiiU             2015        16.35\n",
       "16     WiiU             2016         4.60\n",
       "17     XOne             2014        54.07\n",
       "18     XOne             2015        60.14\n",
       "19     XOne             2016        26.15"
      ]
     },
     "execution_count": 30,
     "metadata": {},
     "output_type": "execute_result"
    }
   ],
   "source": [
    "df_actual_top = df_actual.pivot_table(index=['platform', 'year_of_release'], values='total_sales', aggfunc='sum')\n",
    "df_actual_top = df_actual_top.query('platform not in [\"X360\", \"PS3\", \"Wii\", \"PS\"]').reset_index()\n",
    "df_actual_top"
   ]
  },
  {
   "cell_type": "code",
   "execution_count": 31,
   "metadata": {
    "scrolled": false
   },
   "outputs": [
    {
     "data": {
      "image/png": "[encoded data removed]",
      "text/plain": [
       "<Figure size 432x288 with 1 Axes>"
      ]
     },
     "metadata": {
      "needs_background": "light"
     },
     "output_type": "display_data"
    },
    {
     "data": {
      "image/png": "[encoded data removed]",
      "text/plain": [
       "<Figure size 432x288 with 1 Axes>"
      ]
     },
     "metadata": {
      "needs_background": "light"
     },
     "output_type": "display_data"
    },
    {
     "data": {
      "image/png": "[encoded data removed]",
      "text/plain": [
       "<Figure size 432x288 with 1 Axes>"
      ]
     },
     "metadata": {
      "needs_background": "light"
     },
     "output_type": "display_data"
    },
    {
     "data": {
      "image/png": "[encoded data removed]",
      "text/plain": [
       "<Figure size 432x288 with 1 Axes>"
      ]
     },
     "metadata": {
      "needs_background": "light"
     },
     "output_type": "display_data"
    },
    {
     "data": {
      "image/png": "[encoded data removed]",
      "text/plain": [
       "<Figure size 432x288 with 1 Axes>"
      ]
     },
     "metadata": {
      "needs_background": "light"
     },
     "output_type": "display_data"
    },
    {
     "data": {
      "image/png": "[encoded data removed]",
      "text/plain": [
       "<Figure size 432x288 with 1 Axes>"
      ]
     },
     "metadata": {
      "needs_background": "light"
     },
     "output_type": "display_data"
    },
    {
     "data": {
      "image/png": "[encoded data removed]",
      "text/plain": [
       "<Figure size 432x288 with 1 Axes>"
      ]
     },
     "metadata": {
      "needs_background": "light"
     },
     "output_type": "display_data"
    }
   ],
   "source": [
    "# построим диаграммы распределения продаж по годам\n",
    "lst = ['3DS', 'PC', 'PS4', 'PSP', 'PSV', 'WiiU', 'XOne']\n",
    "for i in lst:\n",
    "    (df_actual_top[df_actual_top['platform'] == i]\n",
    "     .plot.bar('year_of_release', \n",
    "               'total_sales', \n",
    "               figsize=(6,4), \n",
    "               title=i, \n",
    "               grid=True, \n",
    "               rot=45)\n",
    "    )\n",
    "plt.show()"
   ]
  },
  {
   "cell_type": "markdown",
   "metadata": {},
   "source": [
    "Топ-платформы по продажам за данный период:\n",
    "* PS4\n",
    "* XOne\n",
    "\n",
    "Перспективные платформы:\n",
    "* PS4\n",
    "* XOne\n",
    "\n",
    "Угасающие платформы:\n",
    "* 3DS\n",
    "* PC\n",
    "* PSP\n",
    "* PSV\n",
    "* WiiU"
   ]
  },
  {
   "cell_type": "markdown",
   "metadata": {},
   "source": [
    "### Построение графиков «ящик с усами» по глобальным продажам игр в разбивке по платформам"
   ]
  },
  {
   "cell_type": "code",
   "execution_count": 32,
   "metadata": {},
   "outputs": [],
   "source": [
    "# выделим перспективные платформы\n",
    "df_growing = df_actual[df_actual['platform'].isin(('PS4', 'XOne'))]"
   ]
  },
  {
   "cell_type": "code",
   "execution_count": 33,
   "metadata": {
    "scrolled": false
   },
   "outputs": [
    {
     "data": {
      "image/png": "[encoded data removed]",
      "text/plain": [
       "<Figure size 1080x1080 with 1 Axes>"
      ]
     },
     "metadata": {
      "needs_background": "light"
     },
     "output_type": "display_data"
    }
   ],
   "source": [
    "# построим графики \"ящик с усами\"\n",
    "plt.figure(figsize=(15,15))\n",
    "sns.boxplot(data=df_growing,\n",
    "            x='platform',\n",
    "            y='total_sales'\n",
    "           )\n",
    "plt.ylim(0, 5)\n",
    "plt.show()"
   ]
  },
  {
   "cell_type": "markdown",
   "metadata": {},
   "source": [
    "Графики платформ *PS4* и *Xbox One*  очень похожи. Вероятно это связано с тем, что они являются прямыми конкурентами, т.к. сами эти платформы схожи друг с другом по функционалу. "
   ]
  },
  {
   "cell_type": "markdown",
   "metadata": {},
   "source": [
    "### Влияние на продажи отзывов пользователей и критиков внутри одной популярной платформы . Построение диаграммы рассеяния и рассчет корреляции между отзывами и продажами"
   ]
  },
  {
   "cell_type": "markdown",
   "metadata": {},
   "source": [
    "Для исследования возьмем платформу PS4."
   ]
  },
  {
   "cell_type": "code",
   "execution_count": 34,
   "metadata": {},
   "outputs": [
    {
     "name": "stdout",
     "output_type": "stream",
     "text": [
      "Корреляция продажи/отзывы критиков для PS4: 0.40\n",
      "Корреляция продажи/отзывы пользователей для PS4: -0.04\n"
     ]
    }
   ],
   "source": [
    "df_ps4 = df_growing.query('platform == \"PS4\"')\n",
    "print(f'Корреляция продажи/отзывы критиков для PS4: {df_ps4[\"total_sales\"].corr(df_ps4[\"critic_score\"]):.2f}')\n",
    "print(f'Корреляция продажи/отзывы пользователей для PS4: {df_ps4[\"total_sales\"].corr(df_ps4[\"user_score\"]):.2f}')"
   ]
  },
  {
   "cell_type": "markdown",
   "metadata": {},
   "source": [
    "Результат говорит о том, что есть средняя зависимость между продажами и отзывами критиков, а зависимость между продажами и отзывами пользователей отсутствует.\n",
    "\n",
    "Построим диаграммы рассеяния."
   ]
  },
  {
   "cell_type": "code",
   "execution_count": 35,
   "metadata": {},
   "outputs": [
    {
     "data": {
      "image/png": "[encoded data removed]",
      "text/plain": [
       "<Figure size 1080x432 with 2 Axes>"
      ]
     },
     "metadata": {
      "needs_background": "light"
     },
     "output_type": "display_data"
    }
   ],
   "source": [
    "fig = plt.figure(figsize=(15,6))\n",
    "ax_1 = fig.add_subplot(1, 2, 1)\n",
    "ax_1 = sns.regplot(x=df_ps4['user_score'], y=df_ps4['total_sales'], fit_reg=False)\n",
    "ax_1.set_title('Влияние на продажи отзывов пользователей')\n",
    "ax_2 = fig.add_subplot(1, 2, 2)\n",
    "ax_2 = sns.regplot(x=df_ps4['critic_score'], y=df_ps4['total_sales'], fit_reg=False)\n",
    "ax_2.set_title('Влияние на продажи отзывов критиков')\n",
    "fig.show()"
   ]
  },
  {
   "cell_type": "markdown",
   "metadata": {},
   "source": [
    "Действительно между отзывами пользователей и продажами сложно найти зависимость. По диаграмме продаж и отзывов критиков можно увидить, что если рейтинг выше 60, то увеличивается количество хорошо продаваемых игр."
   ]
  },
  {
   "cell_type": "markdown",
   "metadata": {},
   "source": [
    "### Сравнение выводов с продажами игр на других платформах"
   ]
  },
  {
   "cell_type": "code",
   "execution_count": 36,
   "metadata": {
    "scrolled": false
   },
   "outputs": [
    {
     "data": {
      "text/html": [
       "<div>\n",
       "<style scoped>\n",
       "    .dataframe tbody tr th:only-of-type {\n",
       "        vertical-align: middle;\n",
       "    }\n",
       "\n",
       "    .dataframe tbody tr th {\n",
       "        vertical-align: top;\n",
       "    }\n",
       "\n",
       "    .dataframe thead th {\n",
       "        text-align: right;\n",
       "    }\n",
       "</style>\n",
       "<table border=\"1\" class=\"dataframe\">\n",
       "  <thead>\n",
       "    <tr style=\"text-align: right;\">\n",
       "      <th></th>\n",
       "      <th>platform</th>\n",
       "      <th>critic</th>\n",
       "      <th>user</th>\n",
       "    </tr>\n",
       "  </thead>\n",
       "  <tbody>\n",
       "    <tr>\n",
       "      <td>0</td>\n",
       "      <td>PS4</td>\n",
       "      <td>0.40</td>\n",
       "      <td>-0.04</td>\n",
       "    </tr>\n",
       "    <tr>\n",
       "      <td>1</td>\n",
       "      <td>3DS</td>\n",
       "      <td>0.31</td>\n",
       "      <td>0.22</td>\n",
       "    </tr>\n",
       "    <tr>\n",
       "      <td>2</td>\n",
       "      <td>XOne</td>\n",
       "      <td>0.43</td>\n",
       "      <td>-0.07</td>\n",
       "    </tr>\n",
       "    <tr>\n",
       "      <td>3</td>\n",
       "      <td>WiiU</td>\n",
       "      <td>0.37</td>\n",
       "      <td>0.41</td>\n",
       "    </tr>\n",
       "    <tr>\n",
       "      <td>4</td>\n",
       "      <td>PS3</td>\n",
       "      <td>0.45</td>\n",
       "      <td>-0.17</td>\n",
       "    </tr>\n",
       "    <tr>\n",
       "      <td>5</td>\n",
       "      <td>X360</td>\n",
       "      <td>0.53</td>\n",
       "      <td>-0.14</td>\n",
       "    </tr>\n",
       "    <tr>\n",
       "      <td>6</td>\n",
       "      <td>PC</td>\n",
       "      <td>0.17</td>\n",
       "      <td>-0.07</td>\n",
       "    </tr>\n",
       "    <tr>\n",
       "      <td>7</td>\n",
       "      <td>Wii</td>\n",
       "      <td>NaN</td>\n",
       "      <td>1.00</td>\n",
       "    </tr>\n",
       "    <tr>\n",
       "      <td>8</td>\n",
       "      <td>PSV</td>\n",
       "      <td>0.04</td>\n",
       "      <td>-0.17</td>\n",
       "    </tr>\n",
       "    <tr>\n",
       "      <td>9</td>\n",
       "      <td>PSP</td>\n",
       "      <td>NaN</td>\n",
       "      <td>NaN</td>\n",
       "    </tr>\n",
       "  </tbody>\n",
       "</table>\n",
       "</div>"
      ],
      "text/plain": [
       "  platform  critic  user\n",
       "0      PS4    0.40 -0.04\n",
       "1      3DS    0.31  0.22\n",
       "2     XOne    0.43 -0.07\n",
       "3     WiiU    0.37  0.41\n",
       "4      PS3    0.45 -0.17\n",
       "5     X360    0.53 -0.14\n",
       "6       PC    0.17 -0.07\n",
       "7      Wii     NaN  1.00\n",
       "8      PSV    0.04 -0.17\n",
       "9      PSP     NaN   NaN"
      ]
     },
     "execution_count": 36,
     "metadata": {},
     "output_type": "execute_result"
    }
   ],
   "source": [
    "# построим таблицу корреляции отзывов и продаж для остальных платформ за актуальный период\n",
    "critic = []\n",
    "user = []\n",
    "\n",
    "for i in df_actual['platform'].unique():\n",
    "    rel = df_actual[df_actual['platform'] == i]\n",
    "    critic.append(rel[\"total_sales\"].corr(rel[\"critic_score\"]))\n",
    "    user.append(rel[\"total_sales\"].corr(rel[\"user_score\"]))\n",
    "\n",
    "platform = pd.DataFrame(df_actual['platform'].unique())\n",
    "platform['critic'] = critic\n",
    "platform['user'] = user\n",
    "platform.columns = ['platform', 'critic', 'user'] \n",
    "platform = platform.round(2)\n",
    "platform"
   ]
  },
  {
   "cell_type": "markdown",
   "metadata": {},
   "source": [
    "Выводы из прошлого пункта применимы практически для всех платформ. Исключением является WiiU, у которой существует средняя зависимость между продажами и отзывами пользователей. "
   ]
  },
  {
   "cell_type": "code",
   "execution_count": 37,
   "metadata": {},
   "outputs": [
    {
     "data": {
      "image/png": "[encoded data removed]",
      "text/plain": [
       "<Figure size 783.125x360 with 1 Axes>"
      ]
     },
     "metadata": {
      "needs_background": "light"
     },
     "output_type": "display_data"
    },
    {
     "data": {
      "image/png": "[encoded data removed]",
      "text/plain": [
       "<Figure size 783.125x360 with 1 Axes>"
      ]
     },
     "metadata": {
      "needs_background": "light"
     },
     "output_type": "display_data"
    }
   ],
   "source": [
    "sns.lmplot('user_score', 'total_sales', data=df_actual, hue='platform', fit_reg=False, height=5, aspect=2)\n",
    "plt.title('Влияние на продажи отзывов пользователей')\n",
    "plt.show()\n",
    "sns.lmplot('critic_score', 'total_sales', data=df_actual, hue='platform', fit_reg=False, height=5, aspect=2)\n",
    "plt.title('Влияние на продажи отзывов критиков')\n",
    "plt.show()"
   ]
  },
  {
   "cell_type": "markdown",
   "metadata": {},
   "source": [
    "Графики распределения для всех платформ подобны графикам распределения для PS4."
   ]
  },
  {
   "cell_type": "markdown",
   "metadata": {},
   "source": [
    "Можно сделать вывод о том, что между продажами и отзывами критиков есть средняя прямая зависимость. Между продажами и отзывами Пользователей лишь для одной платформы (WiiU) есть средняя прямая зависимость, для остальных она отсутствует."
   ]
  },
  {
   "cell_type": "markdown",
   "metadata": {},
   "source": [
    "### Общее распределение игр по жанрам"
   ]
  },
  {
   "cell_type": "code",
   "execution_count": 38,
   "metadata": {},
   "outputs": [
    {
     "data": {
      "image/png": "[encoded data removed]",
      "text/plain": [
       "<Figure size 864x576 with 1 Axes>"
      ]
     },
     "metadata": {
      "needs_background": "light"
     },
     "output_type": "display_data"
    }
   ],
   "source": [
    "# по столбчатой диаграмме посмотрим на общее распределение прибыльности жанров\n",
    "df_actual.pivot_table(index='genre', values='total_sales', aggfunc='median').sort_values('total_sales', ascending=False)\\\n",
    ".plot.bar(figsize=(12, 8), rot=15, title='Распределение прибыльности жанров')\n",
    "plt.show()"
   ]
  },
  {
   "cell_type": "markdown",
   "metadata": {},
   "source": [
    "Можно выделить пятерку лидеров:\n",
    "* *Shooter* - лидер с большим отрывом от остальных\n",
    "* *Sports*\n",
    "* *Platform*\n",
    "* *Fighting*\n",
    "* *Role-Playing*\n",
    "\n",
    "Самый непопулярый жанр - *Adventure*"
   ]
  },
  {
   "cell_type": "markdown",
   "metadata": {},
   "source": [
    "## Портрет пользователя каждого региона"
   ]
  },
  {
   "cell_type": "markdown",
   "metadata": {},
   "source": [
    "### Самые популярные платформы (топ-5)"
   ]
  },
  {
   "cell_type": "code",
   "execution_count": 39,
   "metadata": {
    "scrolled": false
   },
   "outputs": [
    {
     "data": {
      "text/html": [
       "<div>\n",
       "<style scoped>\n",
       "    .dataframe tbody tr th:only-of-type {\n",
       "        vertical-align: middle;\n",
       "    }\n",
       "\n",
       "    .dataframe tbody tr th {\n",
       "        vertical-align: top;\n",
       "    }\n",
       "\n",
       "    .dataframe thead th {\n",
       "        text-align: right;\n",
       "    }\n",
       "</style>\n",
       "<table border=\"1\" class=\"dataframe\">\n",
       "  <thead>\n",
       "    <tr style=\"text-align: right;\">\n",
       "      <th></th>\n",
       "      <th>na_sales</th>\n",
       "    </tr>\n",
       "    <tr>\n",
       "      <th>platform</th>\n",
       "      <th></th>\n",
       "    </tr>\n",
       "  </thead>\n",
       "  <tbody>\n",
       "    <tr>\n",
       "      <td>PS4</td>\n",
       "      <td>98.61</td>\n",
       "    </tr>\n",
       "    <tr>\n",
       "      <td>XOne</td>\n",
       "      <td>81.27</td>\n",
       "    </tr>\n",
       "    <tr>\n",
       "      <td>X360</td>\n",
       "      <td>28.30</td>\n",
       "    </tr>\n",
       "    <tr>\n",
       "      <td>3DS</td>\n",
       "      <td>22.64</td>\n",
       "    </tr>\n",
       "    <tr>\n",
       "      <td>PS3</td>\n",
       "      <td>22.05</td>\n",
       "    </tr>\n",
       "  </tbody>\n",
       "</table>\n",
       "</div>"
      ],
      "text/plain": [
       "          na_sales\n",
       "platform          \n",
       "PS4          98.61\n",
       "XOne         81.27\n",
       "X360         28.30\n",
       "3DS          22.64\n",
       "PS3          22.05"
      ]
     },
     "metadata": {},
     "output_type": "display_data"
    },
    {
     "data": {
      "text/html": [
       "<div>\n",
       "<style scoped>\n",
       "    .dataframe tbody tr th:only-of-type {\n",
       "        vertical-align: middle;\n",
       "    }\n",
       "\n",
       "    .dataframe tbody tr th {\n",
       "        vertical-align: top;\n",
       "    }\n",
       "\n",
       "    .dataframe thead th {\n",
       "        text-align: right;\n",
       "    }\n",
       "</style>\n",
       "<table border=\"1\" class=\"dataframe\">\n",
       "  <thead>\n",
       "    <tr style=\"text-align: right;\">\n",
       "      <th></th>\n",
       "      <th>eu_sales</th>\n",
       "    </tr>\n",
       "    <tr>\n",
       "      <th>platform</th>\n",
       "      <th></th>\n",
       "    </tr>\n",
       "  </thead>\n",
       "  <tbody>\n",
       "    <tr>\n",
       "      <td>PS4</td>\n",
       "      <td>130.04</td>\n",
       "    </tr>\n",
       "    <tr>\n",
       "      <td>XOne</td>\n",
       "      <td>46.25</td>\n",
       "    </tr>\n",
       "    <tr>\n",
       "      <td>PS3</td>\n",
       "      <td>25.54</td>\n",
       "    </tr>\n",
       "    <tr>\n",
       "      <td>PC</td>\n",
       "      <td>17.97</td>\n",
       "    </tr>\n",
       "    <tr>\n",
       "      <td>3DS</td>\n",
       "      <td>16.12</td>\n",
       "    </tr>\n",
       "  </tbody>\n",
       "</table>\n",
       "</div>"
      ],
      "text/plain": [
       "          eu_sales\n",
       "platform          \n",
       "PS4         130.04\n",
       "XOne         46.25\n",
       "PS3          25.54\n",
       "PC           17.97\n",
       "3DS          16.12"
      ]
     },
     "metadata": {},
     "output_type": "display_data"
    },
    {
     "data": {
      "text/html": [
       "<div>\n",
       "<style scoped>\n",
       "    .dataframe tbody tr th:only-of-type {\n",
       "        vertical-align: middle;\n",
       "    }\n",
       "\n",
       "    .dataframe tbody tr th {\n",
       "        vertical-align: top;\n",
       "    }\n",
       "\n",
       "    .dataframe thead th {\n",
       "        text-align: right;\n",
       "    }\n",
       "</style>\n",
       "<table border=\"1\" class=\"dataframe\">\n",
       "  <thead>\n",
       "    <tr style=\"text-align: right;\">\n",
       "      <th></th>\n",
       "      <th>jp_sales</th>\n",
       "    </tr>\n",
       "    <tr>\n",
       "      <th>platform</th>\n",
       "      <th></th>\n",
       "    </tr>\n",
       "  </thead>\n",
       "  <tbody>\n",
       "    <tr>\n",
       "      <td>3DS</td>\n",
       "      <td>44.24</td>\n",
       "    </tr>\n",
       "    <tr>\n",
       "      <td>PS4</td>\n",
       "      <td>15.02</td>\n",
       "    </tr>\n",
       "    <tr>\n",
       "      <td>PSV</td>\n",
       "      <td>14.54</td>\n",
       "    </tr>\n",
       "    <tr>\n",
       "      <td>PS3</td>\n",
       "      <td>11.22</td>\n",
       "    </tr>\n",
       "    <tr>\n",
       "      <td>WiiU</td>\n",
       "      <td>7.31</td>\n",
       "    </tr>\n",
       "  </tbody>\n",
       "</table>\n",
       "</div>"
      ],
      "text/plain": [
       "          jp_sales\n",
       "platform          \n",
       "3DS          44.24\n",
       "PS4          15.02\n",
       "PSV          14.54\n",
       "PS3          11.22\n",
       "WiiU          7.31"
      ]
     },
     "metadata": {},
     "output_type": "display_data"
    }
   ],
   "source": [
    "for i in df.iloc[:,4:7].columns:\n",
    "    display(df_actual.pivot_table(index='platform', values=i, aggfunc='sum').sort_values(i, ascending=False).head())"
   ]
  },
  {
   "cell_type": "markdown",
   "metadata": {},
   "source": [
    "Среди всех платформ только *PS3* занимает верхние строчки у всех регионов. При этом вкусы европейцев и жителей Северной Америки схожи. Четыре из пяти платформ совпадают. У жителей Японии совсем другие предпочтения с лидером *3DS*."
   ]
  },
  {
   "cell_type": "markdown",
   "metadata": {},
   "source": [
    "### Самые популярные жанры (топ-5)"
   ]
  },
  {
   "cell_type": "code",
   "execution_count": 40,
   "metadata": {},
   "outputs": [
    {
     "data": {
      "text/html": [
       "<div>\n",
       "<style scoped>\n",
       "    .dataframe tbody tr th:only-of-type {\n",
       "        vertical-align: middle;\n",
       "    }\n",
       "\n",
       "    .dataframe tbody tr th {\n",
       "        vertical-align: top;\n",
       "    }\n",
       "\n",
       "    .dataframe thead th {\n",
       "        text-align: right;\n",
       "    }\n",
       "</style>\n",
       "<table border=\"1\" class=\"dataframe\">\n",
       "  <thead>\n",
       "    <tr style=\"text-align: right;\">\n",
       "      <th></th>\n",
       "      <th>na_sales</th>\n",
       "    </tr>\n",
       "    <tr>\n",
       "      <th>genre</th>\n",
       "      <th></th>\n",
       "    </tr>\n",
       "  </thead>\n",
       "  <tbody>\n",
       "    <tr>\n",
       "      <td>Shooter</td>\n",
       "      <td>79.02</td>\n",
       "    </tr>\n",
       "    <tr>\n",
       "      <td>Action</td>\n",
       "      <td>72.53</td>\n",
       "    </tr>\n",
       "    <tr>\n",
       "      <td>Sports</td>\n",
       "      <td>46.13</td>\n",
       "    </tr>\n",
       "    <tr>\n",
       "      <td>Role-Playing</td>\n",
       "      <td>33.47</td>\n",
       "    </tr>\n",
       "    <tr>\n",
       "      <td>Misc</td>\n",
       "      <td>15.05</td>\n",
       "    </tr>\n",
       "  </tbody>\n",
       "</table>\n",
       "</div>"
      ],
      "text/plain": [
       "              na_sales\n",
       "genre                 \n",
       "Shooter          79.02\n",
       "Action           72.53\n",
       "Sports           46.13\n",
       "Role-Playing     33.47\n",
       "Misc             15.05"
      ]
     },
     "metadata": {},
     "output_type": "display_data"
    },
    {
     "data": {
      "text/html": [
       "<div>\n",
       "<style scoped>\n",
       "    .dataframe tbody tr th:only-of-type {\n",
       "        vertical-align: middle;\n",
       "    }\n",
       "\n",
       "    .dataframe tbody tr th {\n",
       "        vertical-align: top;\n",
       "    }\n",
       "\n",
       "    .dataframe thead th {\n",
       "        text-align: right;\n",
       "    }\n",
       "</style>\n",
       "<table border=\"1\" class=\"dataframe\">\n",
       "  <thead>\n",
       "    <tr style=\"text-align: right;\">\n",
       "      <th></th>\n",
       "      <th>eu_sales</th>\n",
       "    </tr>\n",
       "    <tr>\n",
       "      <th>genre</th>\n",
       "      <th></th>\n",
       "    </tr>\n",
       "  </thead>\n",
       "  <tbody>\n",
       "    <tr>\n",
       "      <td>Action</td>\n",
       "      <td>74.68</td>\n",
       "    </tr>\n",
       "    <tr>\n",
       "      <td>Shooter</td>\n",
       "      <td>65.52</td>\n",
       "    </tr>\n",
       "    <tr>\n",
       "      <td>Sports</td>\n",
       "      <td>45.73</td>\n",
       "    </tr>\n",
       "    <tr>\n",
       "      <td>Role-Playing</td>\n",
       "      <td>28.17</td>\n",
       "    </tr>\n",
       "    <tr>\n",
       "      <td>Racing</td>\n",
       "      <td>14.13</td>\n",
       "    </tr>\n",
       "  </tbody>\n",
       "</table>\n",
       "</div>"
      ],
      "text/plain": [
       "              eu_sales\n",
       "genre                 \n",
       "Action           74.68\n",
       "Shooter          65.52\n",
       "Sports           45.73\n",
       "Role-Playing     28.17\n",
       "Racing           14.13"
      ]
     },
     "metadata": {},
     "output_type": "display_data"
    },
    {
     "data": {
      "text/html": [
       "<div>\n",
       "<style scoped>\n",
       "    .dataframe tbody tr th:only-of-type {\n",
       "        vertical-align: middle;\n",
       "    }\n",
       "\n",
       "    .dataframe tbody tr th {\n",
       "        vertical-align: top;\n",
       "    }\n",
       "\n",
       "    .dataframe thead th {\n",
       "        text-align: right;\n",
       "    }\n",
       "</style>\n",
       "<table border=\"1\" class=\"dataframe\">\n",
       "  <thead>\n",
       "    <tr style=\"text-align: right;\">\n",
       "      <th></th>\n",
       "      <th>jp_sales</th>\n",
       "    </tr>\n",
       "    <tr>\n",
       "      <th>genre</th>\n",
       "      <th></th>\n",
       "    </tr>\n",
       "  </thead>\n",
       "  <tbody>\n",
       "    <tr>\n",
       "      <td>Role-Playing</td>\n",
       "      <td>31.16</td>\n",
       "    </tr>\n",
       "    <tr>\n",
       "      <td>Action</td>\n",
       "      <td>29.58</td>\n",
       "    </tr>\n",
       "    <tr>\n",
       "      <td>Fighting</td>\n",
       "      <td>6.37</td>\n",
       "    </tr>\n",
       "    <tr>\n",
       "      <td>Misc</td>\n",
       "      <td>5.61</td>\n",
       "    </tr>\n",
       "    <tr>\n",
       "      <td>Shooter</td>\n",
       "      <td>4.87</td>\n",
       "    </tr>\n",
       "  </tbody>\n",
       "</table>\n",
       "</div>"
      ],
      "text/plain": [
       "              jp_sales\n",
       "genre                 \n",
       "Role-Playing     31.16\n",
       "Action           29.58\n",
       "Fighting          6.37\n",
       "Misc              5.61\n",
       "Shooter           4.87"
      ]
     },
     "metadata": {},
     "output_type": "display_data"
    }
   ],
   "source": [
    "for i in df.iloc[:,4:7].columns:\n",
    "    display(df_actual.pivot_table(index='genre', values=i, aggfunc='sum').sort_values(i, ascending=False).head())"
   ]
  },
  {
   "cell_type": "markdown",
   "metadata": {},
   "source": [
    "У европейцев и американцев весь топ жанров одинаков. Возможно это связано со схожей культурой. Лидеры *Action, Shooter, Sports*. У японцев похожий топ-5 но лидеры *Role-Playing, Action, Misc*."
   ]
  },
  {
   "cell_type": "markdown",
   "metadata": {},
   "source": [
    "### Влияние рейтинга ESRB на продажи в отдельном регионе"
   ]
  },
  {
   "cell_type": "markdown",
   "metadata": {},
   "source": [
    "Рейтинг ESRB:\n",
    "* AO (Adults only 18+) — только для взрослых\n",
    "* E - everyone - для всех\n",
    "* M (Mature 17+) — от 17 лет\n",
    "* T (Teen) — для подростков 13-19 лет\n",
    "* K-A (Kids to Adults)— для детей и взрослых\n",
    "* E10+ (Everyone 10+) — для всех старше 10 лет\n",
    "* EC (Early Childhood) — для детей младшего возраста\n",
    "* RP (Rating pending)"
   ]
  },
  {
   "cell_type": "code",
   "execution_count": 41,
   "metadata": {},
   "outputs": [],
   "source": [
    "df_actual['rating'] = df_actual['rating'].fillna('unknown')"
   ]
  },
  {
   "cell_type": "code",
   "execution_count": 42,
   "metadata": {},
   "outputs": [
    {
     "data": {
      "text/html": [
       "<div>\n",
       "<style scoped>\n",
       "    .dataframe tbody tr th:only-of-type {\n",
       "        vertical-align: middle;\n",
       "    }\n",
       "\n",
       "    .dataframe tbody tr th {\n",
       "        vertical-align: top;\n",
       "    }\n",
       "\n",
       "    .dataframe thead th {\n",
       "        text-align: right;\n",
       "    }\n",
       "</style>\n",
       "<table border=\"1\" class=\"dataframe\">\n",
       "  <thead>\n",
       "    <tr style=\"text-align: right;\">\n",
       "      <th></th>\n",
       "      <th>na_sales</th>\n",
       "    </tr>\n",
       "    <tr>\n",
       "      <th>rating</th>\n",
       "      <th></th>\n",
       "    </tr>\n",
       "  </thead>\n",
       "  <tbody>\n",
       "    <tr>\n",
       "      <td>M</td>\n",
       "      <td>96.42</td>\n",
       "    </tr>\n",
       "    <tr>\n",
       "      <td>unknown</td>\n",
       "      <td>64.72</td>\n",
       "    </tr>\n",
       "    <tr>\n",
       "      <td>E</td>\n",
       "      <td>50.74</td>\n",
       "    </tr>\n",
       "    <tr>\n",
       "      <td>T</td>\n",
       "      <td>38.95</td>\n",
       "    </tr>\n",
       "    <tr>\n",
       "      <td>E10+</td>\n",
       "      <td>33.23</td>\n",
       "    </tr>\n",
       "  </tbody>\n",
       "</table>\n",
       "</div>"
      ],
      "text/plain": [
       "         na_sales\n",
       "rating           \n",
       "M           96.42\n",
       "unknown     64.72\n",
       "E           50.74\n",
       "T           38.95\n",
       "E10+        33.23"
      ]
     },
     "metadata": {},
     "output_type": "display_data"
    },
    {
     "data": {
      "text/html": [
       "<div>\n",
       "<style scoped>\n",
       "    .dataframe tbody tr th:only-of-type {\n",
       "        vertical-align: middle;\n",
       "    }\n",
       "\n",
       "    .dataframe tbody tr th {\n",
       "        vertical-align: top;\n",
       "    }\n",
       "\n",
       "    .dataframe thead th {\n",
       "        text-align: right;\n",
       "    }\n",
       "</style>\n",
       "<table border=\"1\" class=\"dataframe\">\n",
       "  <thead>\n",
       "    <tr style=\"text-align: right;\">\n",
       "      <th></th>\n",
       "      <th>eu_sales</th>\n",
       "    </tr>\n",
       "    <tr>\n",
       "      <th>rating</th>\n",
       "      <th></th>\n",
       "    </tr>\n",
       "  </thead>\n",
       "  <tbody>\n",
       "    <tr>\n",
       "      <td>M</td>\n",
       "      <td>93.44</td>\n",
       "    </tr>\n",
       "    <tr>\n",
       "      <td>unknown</td>\n",
       "      <td>58.95</td>\n",
       "    </tr>\n",
       "    <tr>\n",
       "      <td>E</td>\n",
       "      <td>58.06</td>\n",
       "    </tr>\n",
       "    <tr>\n",
       "      <td>T</td>\n",
       "      <td>34.07</td>\n",
       "    </tr>\n",
       "    <tr>\n",
       "      <td>E10+</td>\n",
       "      <td>26.16</td>\n",
       "    </tr>\n",
       "  </tbody>\n",
       "</table>\n",
       "</div>"
      ],
      "text/plain": [
       "         eu_sales\n",
       "rating           \n",
       "M           93.44\n",
       "unknown     58.95\n",
       "E           58.06\n",
       "T           34.07\n",
       "E10+        26.16"
      ]
     },
     "metadata": {},
     "output_type": "display_data"
    },
    {
     "data": {
      "text/html": [
       "<div>\n",
       "<style scoped>\n",
       "    .dataframe tbody tr th:only-of-type {\n",
       "        vertical-align: middle;\n",
       "    }\n",
       "\n",
       "    .dataframe tbody tr th {\n",
       "        vertical-align: top;\n",
       "    }\n",
       "\n",
       "    .dataframe thead th {\n",
       "        text-align: right;\n",
       "    }\n",
       "</style>\n",
       "<table border=\"1\" class=\"dataframe\">\n",
       "  <thead>\n",
       "    <tr style=\"text-align: right;\">\n",
       "      <th></th>\n",
       "      <th>jp_sales</th>\n",
       "    </tr>\n",
       "    <tr>\n",
       "      <th>rating</th>\n",
       "      <th></th>\n",
       "    </tr>\n",
       "  </thead>\n",
       "  <tbody>\n",
       "    <tr>\n",
       "      <td>unknown</td>\n",
       "      <td>56.90</td>\n",
       "    </tr>\n",
       "    <tr>\n",
       "      <td>T</td>\n",
       "      <td>14.78</td>\n",
       "    </tr>\n",
       "    <tr>\n",
       "      <td>E</td>\n",
       "      <td>8.94</td>\n",
       "    </tr>\n",
       "    <tr>\n",
       "      <td>M</td>\n",
       "      <td>8.01</td>\n",
       "    </tr>\n",
       "    <tr>\n",
       "      <td>E10+</td>\n",
       "      <td>4.46</td>\n",
       "    </tr>\n",
       "  </tbody>\n",
       "</table>\n",
       "</div>"
      ],
      "text/plain": [
       "         jp_sales\n",
       "rating           \n",
       "unknown     56.90\n",
       "T           14.78\n",
       "E            8.94\n",
       "M            8.01\n",
       "E10+         4.46"
      ]
     },
     "metadata": {},
     "output_type": "display_data"
    }
   ],
   "source": [
    "for i in df.iloc[:,4:7].columns:\n",
    "    display(df_actual.pivot_table(index='rating', values=i, aggfunc='sum').sort_values(i, ascending=False).head())"
   ]
  },
  {
   "cell_type": "markdown",
   "metadata": {},
   "source": [
    "Игры для подростков и взрослых игроков продаются в больших количествах, чем для детей. Также очень велика доля игр вовсе без рейтинга (в Японии таких большинство)."
   ]
  },
  {
   "cell_type": "markdown",
   "metadata": {},
   "source": [
    "## Проверка гипотез"
   ]
  },
  {
   "cell_type": "markdown",
   "metadata": {},
   "source": [
    "### Средние пользовательские рейтинги платформ Xbox One и PC одинаковые"
   ]
  },
  {
   "cell_type": "markdown",
   "metadata": {},
   "source": [
    "*Нулевая гипотеза $Н_0$*: cредние пользовательские рейтинги платформ Xbox One и PC равны.<br>\n",
    "*Альтернативная гипотеза $Н_1$*: cредние пользовательские рейтинги платформ Xbox One и PC не равны.\n",
    "\n",
    "Для проверки гипотезы будем применять t-тест, т.к. выборки по рейтингам двух платформ можно считать независимыми.<br>\n",
    "Чтобы понять считать ли дисперсии выборок равными посмотри на их размеры."
   ]
  },
  {
   "cell_type": "code",
   "execution_count": 43,
   "metadata": {},
   "outputs": [
    {
     "name": "stdout",
     "output_type": "stream",
     "text": [
      "Количество отзывов о XOne: 165\n",
      "Количество отзывов о PC: 122\n"
     ]
    }
   ],
   "source": [
    "print(f'Количество отзывов о XOne: {df_actual[df_actual[\"platform\"] == \"XOne\"][\"user_score\"].count()}')\n",
    "print(f'Количество отзывов о PC: {df_actual[df_actual[\"platform\"] == \"PC\"][\"user_score\"].count()}')"
   ]
  },
  {
   "cell_type": "markdown",
   "metadata": {},
   "source": [
    "Выборки сильно отличаются по размерам, поэтому дисперсии будет считать различными."
   ]
  },
  {
   "cell_type": "code",
   "execution_count": 44,
   "metadata": {
    "scrolled": true
   },
   "outputs": [
    {
     "name": "stdout",
     "output_type": "stream",
     "text": [
      "p-значение:  0.11601398086668985\n",
      "Не получилось отвергнуть нулевую гипотезу\n"
     ]
    }
   ],
   "source": [
    "xone = df_actual[df_actual[\"platform\"] == \"XOne\"][\"user_score\"]\n",
    "pc = df_actual[df_actual[\"platform\"] == \"PC\"][\"user_score\"]\n",
    "results_1 = st.ttest_ind(xone, pc, equal_var=False, nan_policy='omit')\n",
    "alpha = 0.05\n",
    "print('p-значение: ', results_1.pvalue)\n",
    "\n",
    "if results_1.pvalue < alpha:\n",
    "    print(\"Отвергаем нулевую гипотезу\")\n",
    "else:\n",
    "    print(\"Не получилось отвергнуть нулевую гипотезу\") "
   ]
  },
  {
   "cell_type": "markdown",
   "metadata": {},
   "source": [
    "Делаем вывод что скорее всего cредние пользовательские рейтинги платформ Xbox One и PC равны."
   ]
  },
  {
   "cell_type": "markdown",
   "metadata": {},
   "source": [
    "### Средние пользовательские рейтинги жанров Action  и Sports  разные"
   ]
  },
  {
   "cell_type": "markdown",
   "metadata": {},
   "source": [
    "*Нулевая гипотеза $Н_0$*: средние пользовательские рейтинги жанров Action и Sports равны.<br>\n",
    "*Альтернативная гипотеза $Н_1$*: средние пользовательские рейтинги жанров Action и Sports не равны.\n",
    "\n",
    "Для проверки гипотезы будем применять t-тест, т.к. выборки по рейтингам двух платформ можно считать независимыми.<br>\n",
    "Чтобы понять считать ли дисперсии выборок равными посмотри на их размеры."
   ]
  },
  {
   "cell_type": "code",
   "execution_count": 45,
   "metadata": {},
   "outputs": [
    {
     "name": "stdout",
     "output_type": "stream",
     "text": [
      "Количество отзывов о Action: 297\n",
      "Количество отзывов о Sports: 127\n"
     ]
    }
   ],
   "source": [
    "print(f'Количество отзывов о Action: {df_actual[df_actual[\"genre\"] == \"Action\"][\"user_score\"].count()}')\n",
    "print(f'Количество отзывов о Sports: {df_actual[df_actual[\"genre\"] == \"Sports\"][\"user_score\"].count()}')"
   ]
  },
  {
   "cell_type": "markdown",
   "metadata": {},
   "source": [
    "Выборки сильно отличаются по размерам, поэтому дисперсии будет считать различными."
   ]
  },
  {
   "cell_type": "code",
   "execution_count": 46,
   "metadata": {},
   "outputs": [
    {
     "name": "stdout",
     "output_type": "stream",
     "text": [
      "p-значение:  1.1825550382644845e-14\n",
      "Отвергаем нулевую гипотезу\n"
     ]
    }
   ],
   "source": [
    "action = df_actual[df_actual[\"genre\"] == \"Action\"][\"user_score\"]\n",
    "sports = df_actual[df_actual[\"genre\"] == \"Sports\"][\"user_score\"]\n",
    "results_2 = st.ttest_ind(action, sports, equal_var=False, nan_policy='omit')\n",
    "alpha = 0.05\n",
    "print('p-значение: ', results_2.pvalue)\n",
    "\n",
    "if results_2.pvalue < alpha:\n",
    "    print(\"Отвергаем нулевую гипотезу\")\n",
    "else:\n",
    "    print(\"Не получилось отвергнуть нулевую гипотезу\") "
   ]
  },
  {
   "cell_type": "markdown",
   "metadata": {},
   "source": [
    "Делаем вывод что скорее всего средние пользовательские рейтинги жанров Action и Sports не  равны."
   ]
  },
  {
   "cell_type": "markdown",
   "metadata": {},
   "source": [
    "## Общий вывод"
   ]
  },
  {
   "cell_type": "markdown",
   "metadata": {},
   "source": [
    "**После выполнения предобработки данных и проведения исседования были получены следующие результаты:**\n",
    "* До 1995 года каждый год выпускалось всего несколько десятков игр. После 1995 года шел плавный рост с пиком в 2008-2009 годах. После чего было плавное снижение до 2011 года включительно и резкий спад после 2011 года. С 2012 года график находтся в боковике.\n",
    "* C 1995 начался последовательный рост продаж с пиком в 2008 году (более 650 миллионов копий) и таким же плавным спадом до настоящего времени(не более 150 млн проданных копий за неполный 2016г.).\n",
    "* С 2008 года идет серьезный спад продаж.\n",
    "* Лидерами продаж можно выделить 6 платформ: *PS2, X360, PS3, Wii, DS, PS*.\n",
    "\n",
    "* медианная \"продолжительность жизни\" платформы составляет 7 лет. \n",
    "* медианное время роста платформы до пиковых показателей продаж составляет 3 года.\n",
    "\n",
    "**Для плана рекламной компании на грядущий год был применен следующий принцип работы с данными:**\n",
    "* Актуальный период - последние 3 года.\n",
    "* Перспективными считаются платформы с растущими показателями продаж. На следующий год это *`PS4 и XOne`*.\n",
    "\n",
    "**Дополнительные выводы:**\n",
    "* Между продажами и отзывами критиков есть средняя прямая зависимость. Между продажами и отзывами пользователей лишь для одной платформы (WiiU) есть средняя прямая зависимость, для остальных она отсутствует.\n",
    "* Можно выделить пятерку лидеров по жанрам:\n",
    "    * *Shooter* - лидер с большим отрывом от остальных\n",
    "    * *Sports*\n",
    "    * *Platform*\n",
    "    * *Fighting*\n",
    "    * *Role-Playing*\n",
    "* Самый непопулярый жанр - *Puzzle*\n",
    "\n",
    "**Портрет пользователя по регионам (Европа, Северная Америка, Япония):**\n",
    "* Самые популярные платформы (топ-5):\n",
    "    * Европа - *`PS4, XOne, PS3, PC, 3DS.`*\n",
    "    * Северная Америка - *`PS4, XOne, X360, 3DS, PS3.`*\n",
    "    * Япония - *`3DS, PS4, PSV, PS3, WiiU.`*\n",
    "* Самые популярные жанры (топ-5):\n",
    "    * Европа - *`Action, Shooter, Sports, Role-Playing, Racing.`*\n",
    "    * Северная Америка - *`Shooter, Action, Sports, Role-Playing, Misc.`*\n",
    "    * Япония - *`Role-Playing, Action, Fighting, Misc, Shooter.`*\n",
    "*  Чем выше рейтинг ESRB (старше игрок), тем больше продаж.\n",
    "\n",
    "**Результаты проверок гипотез:**\n",
    "* Средние пользовательские рейтинги платформ Xbox One и PC равны.\n",
    "* Средние пользовательские рейтинги жанров Action и Sports не равны."
   ]
  }
 ],
 "metadata": {
  "ExecuteTimeLog": [
   {
    "duration": 554,
    "start_time": "2022-01-17T11:43:01.607Z"
   },
   {
    "duration": 3,
    "start_time": "2022-01-17T11:43:55.305Z"
   },
   {
    "duration": 33,
    "start_time": "2022-01-17T11:44:22.695Z"
   },
   {
    "duration": 16,
    "start_time": "2022-01-17T11:44:29.814Z"
   },
   {
    "duration": 12,
    "start_time": "2022-01-17T11:44:57.195Z"
   },
   {
    "duration": 9,
    "start_time": "2022-01-17T11:46:15.075Z"
   },
   {
    "duration": 5,
    "start_time": "2022-01-17T12:03:59.743Z"
   },
   {
    "duration": 3,
    "start_time": "2022-01-17T12:04:10.785Z"
   },
   {
    "duration": 5,
    "start_time": "2022-01-17T12:04:17.958Z"
   },
   {
    "duration": 8,
    "start_time": "2022-01-17T12:07:13.658Z"
   },
   {
    "duration": 13,
    "start_time": "2022-01-17T12:08:50.546Z"
   },
   {
    "duration": 18,
    "start_time": "2022-01-17T12:10:01.496Z"
   },
   {
    "duration": 19,
    "start_time": "2022-01-17T12:18:54.556Z"
   },
   {
    "duration": 14,
    "start_time": "2022-01-17T12:19:42.506Z"
   },
   {
    "duration": 15,
    "start_time": "2022-01-17T12:19:57.746Z"
   },
   {
    "duration": 6,
    "start_time": "2022-01-17T12:20:44.487Z"
   },
   {
    "duration": 12,
    "start_time": "2022-01-17T12:21:41.585Z"
   },
   {
    "duration": 14,
    "start_time": "2022-01-17T12:21:45.171Z"
   },
   {
    "duration": 264,
    "start_time": "2022-01-17T12:38:36.737Z"
   },
   {
    "duration": 189,
    "start_time": "2022-01-17T12:38:48.844Z"
   },
   {
    "duration": 5,
    "start_time": "2022-01-17T12:40:40.414Z"
   },
   {
    "duration": 8,
    "start_time": "2022-01-17T12:40:49.666Z"
   },
   {
    "duration": 5,
    "start_time": "2022-01-17T12:40:52.406Z"
   },
   {
    "duration": 8,
    "start_time": "2022-01-17T12:40:53.106Z"
   },
   {
    "duration": 606,
    "start_time": "2022-01-17T12:41:39.676Z"
   },
   {
    "duration": 7,
    "start_time": "2022-01-17T12:41:50.148Z"
   },
   {
    "duration": 8,
    "start_time": "2022-01-17T12:42:00.183Z"
   },
   {
    "duration": 8,
    "start_time": "2022-01-17T12:42:45.041Z"
   },
   {
    "duration": 199,
    "start_time": "2022-01-17T12:47:09.272Z"
   },
   {
    "duration": 5,
    "start_time": "2022-01-17T12:47:31.484Z"
   },
   {
    "duration": 202,
    "start_time": "2022-01-17T12:47:37.934Z"
   },
   {
    "duration": 6,
    "start_time": "2022-01-17T12:47:41.261Z"
   },
   {
    "duration": 7,
    "start_time": "2022-01-17T12:48:52.163Z"
   },
   {
    "duration": 8,
    "start_time": "2022-01-17T12:49:05.954Z"
   },
   {
    "duration": 9,
    "start_time": "2022-01-17T12:49:34.851Z"
   },
   {
    "duration": 8,
    "start_time": "2022-01-17T12:50:24.166Z"
   },
   {
    "duration": 8,
    "start_time": "2022-01-17T12:51:30.092Z"
   },
   {
    "duration": 1738,
    "start_time": "2022-01-17T12:52:13.954Z"
   },
   {
    "duration": 977,
    "start_time": "2022-01-17T12:52:26.464Z"
   },
   {
    "duration": 761,
    "start_time": "2022-01-17T12:54:07.048Z"
   },
   {
    "duration": 7,
    "start_time": "2022-01-17T12:54:43.667Z"
   },
   {
    "duration": 9,
    "start_time": "2022-01-17T12:56:11.336Z"
   },
   {
    "duration": 240,
    "start_time": "2022-01-17T12:56:18.793Z"
   },
   {
    "duration": 222,
    "start_time": "2022-01-17T12:56:26.261Z"
   },
   {
    "duration": 327,
    "start_time": "2022-01-17T12:56:29.328Z"
   },
   {
    "duration": 2,
    "start_time": "2022-01-17T12:56:32.152Z"
   },
   {
    "duration": 3,
    "start_time": "2022-01-17T12:56:32.188Z"
   },
   {
    "duration": 34,
    "start_time": "2022-01-17T12:56:32.200Z"
   },
   {
    "duration": 11,
    "start_time": "2022-01-17T12:56:32.236Z"
   },
   {
    "duration": 10,
    "start_time": "2022-01-17T12:56:32.250Z"
   },
   {
    "duration": 5,
    "start_time": "2022-01-17T12:56:32.262Z"
   },
   {
    "duration": 15,
    "start_time": "2022-01-17T12:56:32.269Z"
   },
   {
    "duration": 8,
    "start_time": "2022-01-17T12:56:32.288Z"
   },
   {
    "duration": 12,
    "start_time": "2022-01-17T12:56:32.313Z"
   },
   {
    "duration": 246,
    "start_time": "2022-01-17T12:56:48.148Z"
   },
   {
    "duration": 214,
    "start_time": "2022-01-17T12:56:51.667Z"
   },
   {
    "duration": 328,
    "start_time": "2022-01-17T12:57:08.657Z"
   },
   {
    "duration": 228,
    "start_time": "2022-01-17T12:58:50.830Z"
   },
   {
    "duration": 2,
    "start_time": "2022-01-17T12:58:56.276Z"
   },
   {
    "duration": 4,
    "start_time": "2022-01-17T12:58:56.282Z"
   },
   {
    "duration": 40,
    "start_time": "2022-01-17T12:58:56.287Z"
   },
   {
    "duration": 12,
    "start_time": "2022-01-17T12:58:56.329Z"
   },
   {
    "duration": 11,
    "start_time": "2022-01-17T12:58:56.343Z"
   },
   {
    "duration": 6,
    "start_time": "2022-01-17T12:58:56.355Z"
   },
   {
    "duration": 10,
    "start_time": "2022-01-17T12:58:56.362Z"
   },
   {
    "duration": 9,
    "start_time": "2022-01-17T12:58:56.374Z"
   },
   {
    "duration": 206,
    "start_time": "2022-01-17T12:58:56.384Z"
   },
   {
    "duration": 2,
    "start_time": "2022-01-17T12:59:05.658Z"
   },
   {
    "duration": 2,
    "start_time": "2022-01-17T12:59:05.671Z"
   },
   {
    "duration": 32,
    "start_time": "2022-01-17T12:59:05.694Z"
   },
   {
    "duration": 12,
    "start_time": "2022-01-17T12:59:05.728Z"
   },
   {
    "duration": 9,
    "start_time": "2022-01-17T12:59:05.741Z"
   },
   {
    "duration": 4,
    "start_time": "2022-01-17T12:59:05.752Z"
   },
   {
    "duration": 15,
    "start_time": "2022-01-17T12:59:05.757Z"
   },
   {
    "duration": 12,
    "start_time": "2022-01-17T12:59:05.773Z"
   },
   {
    "duration": 9,
    "start_time": "2022-01-17T12:59:05.786Z"
   },
   {
    "duration": 217,
    "start_time": "2022-01-17T12:59:16.382Z"
   },
   {
    "duration": 2,
    "start_time": "2022-01-17T12:59:21.361Z"
   },
   {
    "duration": 8,
    "start_time": "2022-01-17T12:59:21.365Z"
   },
   {
    "duration": 39,
    "start_time": "2022-01-17T12:59:21.374Z"
   },
   {
    "duration": 13,
    "start_time": "2022-01-17T12:59:21.414Z"
   },
   {
    "duration": 12,
    "start_time": "2022-01-17T12:59:21.428Z"
   },
   {
    "duration": 5,
    "start_time": "2022-01-17T12:59:21.442Z"
   },
   {
    "duration": 15,
    "start_time": "2022-01-17T12:59:21.449Z"
   },
   {
    "duration": 6,
    "start_time": "2022-01-17T12:59:21.466Z"
   },
   {
    "duration": 6,
    "start_time": "2022-01-17T12:59:21.473Z"
   },
   {
    "duration": 6,
    "start_time": "2022-01-17T12:59:23.679Z"
   },
   {
    "duration": 201,
    "start_time": "2022-01-17T13:01:08.160Z"
   },
   {
    "duration": 203,
    "start_time": "2022-01-17T13:02:36.767Z"
   },
   {
    "duration": 5156,
    "start_time": "2022-01-17T13:03:26.930Z"
   },
   {
    "duration": 193,
    "start_time": "2022-01-17T13:03:57.210Z"
   },
   {
    "duration": 4758,
    "start_time": "2022-01-17T13:04:07.634Z"
   },
   {
    "duration": 188,
    "start_time": "2022-01-17T13:10:35.662Z"
   },
   {
    "duration": 3,
    "start_time": "2022-01-17T13:10:38.602Z"
   },
   {
    "duration": 6,
    "start_time": "2022-01-17T13:10:41.442Z"
   },
   {
    "duration": 9,
    "start_time": "2022-01-17T13:11:31.054Z"
   },
   {
    "duration": 9,
    "start_time": "2022-01-17T13:11:35.963Z"
   },
   {
    "duration": 10,
    "start_time": "2022-01-17T13:11:46.003Z"
   },
   {
    "duration": 22,
    "start_time": "2022-01-17T13:12:02.374Z"
   },
   {
    "duration": 20,
    "start_time": "2022-01-17T13:12:13.053Z"
   },
   {
    "duration": 20,
    "start_time": "2022-01-17T13:12:52.442Z"
   },
   {
    "duration": 4887,
    "start_time": "2022-01-17T13:13:06.982Z"
   },
   {
    "duration": 5339,
    "start_time": "2022-01-17T13:22:19.339Z"
   },
   {
    "duration": 5,
    "start_time": "2022-01-17T13:25:39.046Z"
   },
   {
    "duration": 6,
    "start_time": "2022-01-17T13:39:47.693Z"
   },
   {
    "duration": 2,
    "start_time": "2022-01-17T13:44:44.118Z"
   },
   {
    "duration": 6,
    "start_time": "2022-01-17T13:44:57.219Z"
   },
   {
    "duration": 5,
    "start_time": "2022-01-17T13:45:02.818Z"
   },
   {
    "duration": 5,
    "start_time": "2022-01-17T13:45:17.469Z"
   },
   {
    "duration": 8,
    "start_time": "2022-01-17T13:46:48.409Z"
   },
   {
    "duration": 9,
    "start_time": "2022-01-17T13:46:57.189Z"
   },
   {
    "duration": 2,
    "start_time": "2022-01-17T13:47:10.580Z"
   },
   {
    "duration": 5,
    "start_time": "2022-01-17T13:47:10.584Z"
   },
   {
    "duration": 34,
    "start_time": "2022-01-17T13:47:10.590Z"
   },
   {
    "duration": 11,
    "start_time": "2022-01-17T13:47:10.626Z"
   },
   {
    "duration": 9,
    "start_time": "2022-01-17T13:47:10.638Z"
   },
   {
    "duration": 3,
    "start_time": "2022-01-17T13:47:10.649Z"
   },
   {
    "duration": 8,
    "start_time": "2022-01-17T13:47:10.654Z"
   },
   {
    "duration": 6,
    "start_time": "2022-01-17T13:47:10.663Z"
   },
   {
    "duration": 6,
    "start_time": "2022-01-17T13:47:10.671Z"
   },
   {
    "duration": 35,
    "start_time": "2022-01-17T13:47:10.678Z"
   },
   {
    "duration": 8,
    "start_time": "2022-01-17T13:47:10.714Z"
   },
   {
    "duration": 14,
    "start_time": "2022-01-17T13:49:36.376Z"
   },
   {
    "duration": 6,
    "start_time": "2022-01-17T13:50:31.201Z"
   },
   {
    "duration": 4,
    "start_time": "2022-01-17T13:51:25.273Z"
   },
   {
    "duration": 5,
    "start_time": "2022-01-17T13:51:55.955Z"
   },
   {
    "duration": 6,
    "start_time": "2022-01-17T13:52:23.389Z"
   },
   {
    "duration": 15,
    "start_time": "2022-01-17T13:56:55.791Z"
   },
   {
    "duration": 2,
    "start_time": "2022-01-17T14:08:29.968Z"
   },
   {
    "duration": 4,
    "start_time": "2022-01-17T14:08:29.972Z"
   },
   {
    "duration": 33,
    "start_time": "2022-01-17T14:08:29.979Z"
   },
   {
    "duration": 12,
    "start_time": "2022-01-17T14:08:30.014Z"
   },
   {
    "duration": 13,
    "start_time": "2022-01-17T14:08:30.028Z"
   },
   {
    "duration": 7,
    "start_time": "2022-01-17T14:08:30.043Z"
   },
   {
    "duration": 13,
    "start_time": "2022-01-17T14:08:30.051Z"
   },
   {
    "duration": 6,
    "start_time": "2022-01-17T14:08:30.065Z"
   },
   {
    "duration": 6,
    "start_time": "2022-01-17T14:08:30.073Z"
   },
   {
    "duration": 4,
    "start_time": "2022-01-17T14:08:30.081Z"
   },
   {
    "duration": 32,
    "start_time": "2022-01-17T14:08:30.087Z"
   },
   {
    "duration": 3,
    "start_time": "2022-01-17T14:08:30.121Z"
   },
   {
    "duration": 207,
    "start_time": "2022-01-17T14:08:41.661Z"
   },
   {
    "duration": 2,
    "start_time": "2022-01-17T14:08:52.221Z"
   },
   {
    "duration": 4,
    "start_time": "2022-01-17T14:08:52.225Z"
   },
   {
    "duration": 35,
    "start_time": "2022-01-17T14:08:52.231Z"
   },
   {
    "duration": 13,
    "start_time": "2022-01-17T14:08:52.268Z"
   },
   {
    "duration": 12,
    "start_time": "2022-01-17T14:08:52.282Z"
   },
   {
    "duration": 8,
    "start_time": "2022-01-17T14:08:52.296Z"
   },
   {
    "duration": 14,
    "start_time": "2022-01-17T14:08:52.305Z"
   },
   {
    "duration": 7,
    "start_time": "2022-01-17T14:08:52.320Z"
   },
   {
    "duration": 6,
    "start_time": "2022-01-17T14:08:52.329Z"
   },
   {
    "duration": 5,
    "start_time": "2022-01-17T14:08:52.337Z"
   },
   {
    "duration": 10,
    "start_time": "2022-01-17T14:08:52.343Z"
   },
   {
    "duration": 14,
    "start_time": "2022-01-17T14:08:52.354Z"
   },
   {
    "duration": 3,
    "start_time": "2022-01-17T14:12:36.768Z"
   },
   {
    "duration": 7,
    "start_time": "2022-01-17T14:12:36.772Z"
   },
   {
    "duration": 34,
    "start_time": "2022-01-17T14:12:36.780Z"
   },
   {
    "duration": 13,
    "start_time": "2022-01-17T14:12:36.816Z"
   },
   {
    "duration": 10,
    "start_time": "2022-01-17T14:12:36.831Z"
   },
   {
    "duration": 4,
    "start_time": "2022-01-17T14:12:36.843Z"
   },
   {
    "duration": 8,
    "start_time": "2022-01-17T14:12:36.849Z"
   },
   {
    "duration": 7,
    "start_time": "2022-01-17T14:12:36.858Z"
   },
   {
    "duration": 7,
    "start_time": "2022-01-17T14:12:36.866Z"
   },
   {
    "duration": 6,
    "start_time": "2022-01-17T14:12:36.911Z"
   },
   {
    "duration": 10,
    "start_time": "2022-01-17T14:12:36.919Z"
   },
   {
    "duration": 14,
    "start_time": "2022-01-17T14:12:36.930Z"
   },
   {
    "duration": 61,
    "start_time": "2022-01-17T14:18:39.739Z"
   },
   {
    "duration": 74,
    "start_time": "2022-01-17T14:19:52.078Z"
   },
   {
    "duration": 73,
    "start_time": "2022-01-17T14:19:55.795Z"
   },
   {
    "duration": 60,
    "start_time": "2022-01-17T14:20:05.229Z"
   },
   {
    "duration": 65,
    "start_time": "2022-01-17T14:20:15.264Z"
   },
   {
    "duration": 70,
    "start_time": "2022-01-17T14:20:31.058Z"
   },
   {
    "duration": 11,
    "start_time": "2022-01-17T14:21:04.966Z"
   },
   {
    "duration": 188,
    "start_time": "2022-01-17T14:21:13.194Z"
   },
   {
    "duration": 5,
    "start_time": "2022-01-17T14:22:26.455Z"
   },
   {
    "duration": 2,
    "start_time": "2022-01-17T14:22:53.547Z"
   },
   {
    "duration": 10,
    "start_time": "2022-01-17T14:22:53.551Z"
   },
   {
    "duration": 39,
    "start_time": "2022-01-17T14:22:53.562Z"
   },
   {
    "duration": 13,
    "start_time": "2022-01-17T14:22:53.602Z"
   },
   {
    "duration": 12,
    "start_time": "2022-01-17T14:22:53.617Z"
   },
   {
    "duration": 5,
    "start_time": "2022-01-17T14:22:53.645Z"
   },
   {
    "duration": 10,
    "start_time": "2022-01-17T14:22:53.748Z"
   },
   {
    "duration": 7,
    "start_time": "2022-01-17T14:22:53.760Z"
   },
   {
    "duration": 7,
    "start_time": "2022-01-17T14:22:53.769Z"
   },
   {
    "duration": 4,
    "start_time": "2022-01-17T14:22:53.805Z"
   },
   {
    "duration": 8,
    "start_time": "2022-01-17T14:22:53.811Z"
   },
   {
    "duration": 16,
    "start_time": "2022-01-17T14:22:53.821Z"
   },
   {
    "duration": 5,
    "start_time": "2022-01-17T14:22:53.853Z"
   },
   {
    "duration": 2,
    "start_time": "2022-01-17T14:23:33.593Z"
   },
   {
    "duration": 4,
    "start_time": "2022-01-17T14:23:33.597Z"
   },
   {
    "duration": 34,
    "start_time": "2022-01-17T14:23:33.602Z"
   },
   {
    "duration": 10,
    "start_time": "2022-01-17T14:23:33.638Z"
   },
   {
    "duration": 11,
    "start_time": "2022-01-17T14:23:33.650Z"
   },
   {
    "duration": 3,
    "start_time": "2022-01-17T14:23:33.663Z"
   },
   {
    "duration": 9,
    "start_time": "2022-01-17T14:23:33.667Z"
   },
   {
    "duration": 6,
    "start_time": "2022-01-17T14:23:33.685Z"
   },
   {
    "duration": 10,
    "start_time": "2022-01-17T14:23:33.703Z"
   },
   {
    "duration": 4,
    "start_time": "2022-01-17T14:23:33.716Z"
   },
   {
    "duration": 8,
    "start_time": "2022-01-17T14:23:33.726Z"
   },
   {
    "duration": 184,
    "start_time": "2022-01-17T14:23:33.752Z"
   },
   {
    "duration": 2,
    "start_time": "2022-01-17T14:23:40.705Z"
   },
   {
    "duration": 2,
    "start_time": "2022-01-17T14:23:40.716Z"
   },
   {
    "duration": 34,
    "start_time": "2022-01-17T14:23:40.720Z"
   },
   {
    "duration": 12,
    "start_time": "2022-01-17T14:23:40.755Z"
   },
   {
    "duration": 13,
    "start_time": "2022-01-17T14:23:40.768Z"
   },
   {
    "duration": 5,
    "start_time": "2022-01-17T14:23:40.782Z"
   },
   {
    "duration": 7,
    "start_time": "2022-01-17T14:23:40.829Z"
   },
   {
    "duration": 7,
    "start_time": "2022-01-17T14:23:40.890Z"
   },
   {
    "duration": 6,
    "start_time": "2022-01-17T14:23:40.899Z"
   },
   {
    "duration": 3,
    "start_time": "2022-01-17T14:23:40.907Z"
   },
   {
    "duration": 8,
    "start_time": "2022-01-17T14:23:40.912Z"
   },
   {
    "duration": 13,
    "start_time": "2022-01-17T14:23:40.921Z"
   },
   {
    "duration": 2,
    "start_time": "2022-01-17T15:38:10.826Z"
   },
   {
    "duration": 6,
    "start_time": "2022-01-17T15:38:10.830Z"
   },
   {
    "duration": 35,
    "start_time": "2022-01-17T15:38:10.838Z"
   },
   {
    "duration": 13,
    "start_time": "2022-01-17T15:38:10.875Z"
   },
   {
    "duration": 14,
    "start_time": "2022-01-17T15:38:10.889Z"
   },
   {
    "duration": 8,
    "start_time": "2022-01-17T15:38:10.905Z"
   },
   {
    "duration": 7,
    "start_time": "2022-01-17T15:38:10.914Z"
   },
   {
    "duration": 7,
    "start_time": "2022-01-17T15:38:10.923Z"
   },
   {
    "duration": 6,
    "start_time": "2022-01-17T15:38:10.933Z"
   },
   {
    "duration": 5,
    "start_time": "2022-01-17T15:38:10.941Z"
   },
   {
    "duration": 10,
    "start_time": "2022-01-17T15:38:10.947Z"
   },
   {
    "duration": 56,
    "start_time": "2022-01-17T15:38:10.958Z"
   },
   {
    "duration": 207,
    "start_time": "2022-01-17T15:40:07.693Z"
   },
   {
    "duration": 216,
    "start_time": "2022-01-17T15:40:12.928Z"
   },
   {
    "duration": 14,
    "start_time": "2022-01-17T15:40:27.755Z"
   },
   {
    "duration": 282,
    "start_time": "2022-01-17T15:57:34.353Z"
   },
   {
    "duration": 262,
    "start_time": "2022-01-17T15:57:44.836Z"
   },
   {
    "duration": 390,
    "start_time": "2022-01-17T15:58:04.253Z"
   },
   {
    "duration": 454,
    "start_time": "2022-01-17T15:58:30.659Z"
   },
   {
    "duration": 434,
    "start_time": "2022-01-17T15:58:34.446Z"
   },
   {
    "duration": 202,
    "start_time": "2022-01-17T16:02:29.725Z"
   },
   {
    "duration": 202,
    "start_time": "2022-01-17T16:02:40.085Z"
   },
   {
    "duration": 12,
    "start_time": "2022-01-17T16:03:00.645Z"
   },
   {
    "duration": 11,
    "start_time": "2022-01-17T16:03:43.224Z"
   },
   {
    "duration": 10,
    "start_time": "2022-01-17T16:03:53.332Z"
   },
   {
    "duration": 2,
    "start_time": "2022-01-17T16:03:58.624Z"
   },
   {
    "duration": 4,
    "start_time": "2022-01-17T16:03:58.628Z"
   },
   {
    "duration": 35,
    "start_time": "2022-01-17T16:03:58.634Z"
   },
   {
    "duration": 11,
    "start_time": "2022-01-17T16:03:58.671Z"
   },
   {
    "duration": 9,
    "start_time": "2022-01-17T16:03:58.684Z"
   },
   {
    "duration": 4,
    "start_time": "2022-01-17T16:03:58.695Z"
   },
   {
    "duration": 7,
    "start_time": "2022-01-17T16:03:58.712Z"
   },
   {
    "duration": 7,
    "start_time": "2022-01-17T16:03:58.721Z"
   },
   {
    "duration": 10,
    "start_time": "2022-01-17T16:03:58.730Z"
   },
   {
    "duration": 5,
    "start_time": "2022-01-17T16:03:58.741Z"
   },
   {
    "duration": 9,
    "start_time": "2022-01-17T16:03:58.748Z"
   },
   {
    "duration": 58,
    "start_time": "2022-01-17T16:03:58.758Z"
   },
   {
    "duration": 455,
    "start_time": "2022-01-17T16:03:58.817Z"
   },
   {
    "duration": 11,
    "start_time": "2022-01-17T16:04:13.674Z"
   },
   {
    "duration": 9,
    "start_time": "2022-01-17T16:04:18.095Z"
   },
   {
    "duration": 2,
    "start_time": "2022-01-17T16:04:24.944Z"
   },
   {
    "duration": 7,
    "start_time": "2022-01-17T16:04:24.948Z"
   },
   {
    "duration": 34,
    "start_time": "2022-01-17T16:04:24.957Z"
   },
   {
    "duration": 12,
    "start_time": "2022-01-17T16:04:24.993Z"
   },
   {
    "duration": 10,
    "start_time": "2022-01-17T16:04:25.007Z"
   },
   {
    "duration": 4,
    "start_time": "2022-01-17T16:04:25.018Z"
   },
   {
    "duration": 8,
    "start_time": "2022-01-17T16:04:25.024Z"
   },
   {
    "duration": 6,
    "start_time": "2022-01-17T16:04:25.035Z"
   },
   {
    "duration": 9,
    "start_time": "2022-01-17T16:04:25.043Z"
   },
   {
    "duration": 5,
    "start_time": "2022-01-17T16:04:25.054Z"
   },
   {
    "duration": 52,
    "start_time": "2022-01-17T16:04:25.060Z"
   },
   {
    "duration": 15,
    "start_time": "2022-01-17T16:04:25.114Z"
   },
   {
    "duration": 421,
    "start_time": "2022-01-17T16:04:25.130Z"
   },
   {
    "duration": 2,
    "start_time": "2022-01-17T16:05:05.123Z"
   },
   {
    "duration": 5,
    "start_time": "2022-01-17T16:05:05.127Z"
   },
   {
    "duration": 35,
    "start_time": "2022-01-17T16:05:05.134Z"
   },
   {
    "duration": 13,
    "start_time": "2022-01-17T16:05:05.171Z"
   },
   {
    "duration": 11,
    "start_time": "2022-01-17T16:05:05.185Z"
   },
   {
    "duration": 15,
    "start_time": "2022-01-17T16:05:05.198Z"
   },
   {
    "duration": 9,
    "start_time": "2022-01-17T16:05:05.214Z"
   },
   {
    "duration": 6,
    "start_time": "2022-01-17T16:05:05.225Z"
   },
   {
    "duration": 6,
    "start_time": "2022-01-17T16:05:05.234Z"
   },
   {
    "duration": 4,
    "start_time": "2022-01-17T16:05:05.242Z"
   },
   {
    "duration": 9,
    "start_time": "2022-01-17T16:05:05.248Z"
   },
   {
    "duration": 59,
    "start_time": "2022-01-17T16:05:05.259Z"
   },
   {
    "duration": 212,
    "start_time": "2022-01-17T16:05:05.319Z"
   },
   {
    "duration": 18,
    "start_time": "2022-01-17T16:05:23.795Z"
   },
   {
    "duration": 7,
    "start_time": "2022-01-17T16:05:28.615Z"
   },
   {
    "duration": 2,
    "start_time": "2022-01-17T16:05:31.594Z"
   },
   {
    "duration": 27,
    "start_time": "2022-01-17T16:05:31.598Z"
   },
   {
    "duration": 38,
    "start_time": "2022-01-17T16:05:31.627Z"
   },
   {
    "duration": 13,
    "start_time": "2022-01-17T16:05:31.666Z"
   },
   {
    "duration": 10,
    "start_time": "2022-01-17T16:05:31.680Z"
   },
   {
    "duration": 4,
    "start_time": "2022-01-17T16:05:31.692Z"
   },
   {
    "duration": 16,
    "start_time": "2022-01-17T16:05:31.697Z"
   },
   {
    "duration": 7,
    "start_time": "2022-01-17T16:05:31.714Z"
   },
   {
    "duration": 9,
    "start_time": "2022-01-17T16:05:31.723Z"
   },
   {
    "duration": 6,
    "start_time": "2022-01-17T16:05:31.734Z"
   },
   {
    "duration": 10,
    "start_time": "2022-01-17T16:05:31.742Z"
   },
   {
    "duration": 61,
    "start_time": "2022-01-17T16:05:31.754Z"
   },
   {
    "duration": 232,
    "start_time": "2022-01-17T16:05:31.817Z"
   },
   {
    "duration": 7,
    "start_time": "2022-01-17T16:06:57.925Z"
   },
   {
    "duration": 6,
    "start_time": "2022-01-17T16:07:00.875Z"
   },
   {
    "duration": 10,
    "start_time": "2022-01-17T16:07:06.416Z"
   },
   {
    "duration": 3,
    "start_time": "2022-01-17T16:07:09.844Z"
   },
   {
    "duration": 11,
    "start_time": "2022-01-17T16:07:09.849Z"
   },
   {
    "duration": 36,
    "start_time": "2022-01-17T16:07:09.862Z"
   },
   {
    "duration": 13,
    "start_time": "2022-01-17T16:07:09.900Z"
   },
   {
    "duration": 10,
    "start_time": "2022-01-17T16:07:09.914Z"
   },
   {
    "duration": 4,
    "start_time": "2022-01-17T16:07:09.926Z"
   },
   {
    "duration": 9,
    "start_time": "2022-01-17T16:07:09.931Z"
   },
   {
    "duration": 7,
    "start_time": "2022-01-17T16:07:09.941Z"
   },
   {
    "duration": 9,
    "start_time": "2022-01-17T16:07:09.950Z"
   },
   {
    "duration": 4,
    "start_time": "2022-01-17T16:07:09.961Z"
   },
   {
    "duration": 51,
    "start_time": "2022-01-17T16:07:09.967Z"
   },
   {
    "duration": 15,
    "start_time": "2022-01-17T16:07:10.020Z"
   },
   {
    "duration": 419,
    "start_time": "2022-01-17T16:07:10.037Z"
   },
   {
    "duration": 7,
    "start_time": "2022-01-17T16:07:24.324Z"
   },
   {
    "duration": 3,
    "start_time": "2022-01-17T16:07:26.476Z"
   },
   {
    "duration": 7,
    "start_time": "2022-01-17T16:07:26.480Z"
   },
   {
    "duration": 36,
    "start_time": "2022-01-17T16:07:26.489Z"
   },
   {
    "duration": 13,
    "start_time": "2022-01-17T16:07:26.526Z"
   },
   {
    "duration": 9,
    "start_time": "2022-01-17T16:07:26.540Z"
   },
   {
    "duration": 4,
    "start_time": "2022-01-17T16:07:26.551Z"
   },
   {
    "duration": 8,
    "start_time": "2022-01-17T16:07:26.556Z"
   },
   {
    "duration": 6,
    "start_time": "2022-01-17T16:07:26.566Z"
   },
   {
    "duration": 44,
    "start_time": "2022-01-17T16:07:26.574Z"
   },
   {
    "duration": 5,
    "start_time": "2022-01-17T16:07:26.619Z"
   },
   {
    "duration": 9,
    "start_time": "2022-01-17T16:07:26.625Z"
   },
   {
    "duration": 14,
    "start_time": "2022-01-17T16:07:26.635Z"
   },
   {
    "duration": 440,
    "start_time": "2022-01-17T16:07:26.651Z"
   },
   {
    "duration": 7,
    "start_time": "2022-01-17T16:07:43.025Z"
   },
   {
    "duration": 2,
    "start_time": "2022-01-17T16:08:04.034Z"
   },
   {
    "duration": 6,
    "start_time": "2022-01-17T16:08:04.038Z"
   },
   {
    "duration": 36,
    "start_time": "2022-01-17T16:08:04.045Z"
   },
   {
    "duration": 12,
    "start_time": "2022-01-17T16:08:04.083Z"
   },
   {
    "duration": 10,
    "start_time": "2022-01-17T16:08:04.097Z"
   },
   {
    "duration": 3,
    "start_time": "2022-01-17T16:08:04.109Z"
   },
   {
    "duration": 13,
    "start_time": "2022-01-17T16:08:04.114Z"
   },
   {
    "duration": 6,
    "start_time": "2022-01-17T16:08:04.128Z"
   },
   {
    "duration": 10,
    "start_time": "2022-01-17T16:08:04.135Z"
   },
   {
    "duration": 5,
    "start_time": "2022-01-17T16:08:04.146Z"
   },
   {
    "duration": 9,
    "start_time": "2022-01-17T16:08:04.153Z"
   },
   {
    "duration": 56,
    "start_time": "2022-01-17T16:08:04.164Z"
   },
   {
    "duration": 425,
    "start_time": "2022-01-17T16:08:04.222Z"
   },
   {
    "duration": 4,
    "start_time": "2022-01-17T16:08:26.466Z"
   },
   {
    "duration": 5,
    "start_time": "2022-01-17T16:08:26.472Z"
   },
   {
    "duration": 36,
    "start_time": "2022-01-17T16:08:26.479Z"
   },
   {
    "duration": 13,
    "start_time": "2022-01-17T16:08:26.517Z"
   },
   {
    "duration": 13,
    "start_time": "2022-01-17T16:08:26.532Z"
   },
   {
    "duration": 5,
    "start_time": "2022-01-17T16:08:26.547Z"
   },
   {
    "duration": 11,
    "start_time": "2022-01-17T16:08:26.554Z"
   },
   {
    "duration": 49,
    "start_time": "2022-01-17T16:08:26.567Z"
   },
   {
    "duration": 11,
    "start_time": "2022-01-17T16:08:26.619Z"
   },
   {
    "duration": 5,
    "start_time": "2022-01-17T16:08:26.632Z"
   },
   {
    "duration": 12,
    "start_time": "2022-01-17T16:08:26.639Z"
   },
   {
    "duration": 15,
    "start_time": "2022-01-17T16:08:26.653Z"
   },
   {
    "duration": 470,
    "start_time": "2022-01-17T16:08:26.713Z"
   },
   {
    "duration": 214,
    "start_time": "2022-01-17T16:09:40.967Z"
   },
   {
    "duration": 199,
    "start_time": "2022-01-17T16:09:50.696Z"
   },
   {
    "duration": 15,
    "start_time": "2022-01-17T16:09:56.624Z"
   },
   {
    "duration": 1713,
    "start_time": "2022-01-17T16:10:07.745Z"
   },
   {
    "duration": 2,
    "start_time": "2022-01-17T16:10:17.274Z"
   },
   {
    "duration": 7,
    "start_time": "2022-01-17T16:10:17.278Z"
   },
   {
    "duration": 36,
    "start_time": "2022-01-17T16:10:17.288Z"
   },
   {
    "duration": 15,
    "start_time": "2022-01-17T16:10:17.326Z"
   },
   {
    "duration": 12,
    "start_time": "2022-01-17T16:10:17.343Z"
   },
   {
    "duration": 5,
    "start_time": "2022-01-17T16:10:17.357Z"
   },
   {
    "duration": 48,
    "start_time": "2022-01-17T16:10:17.365Z"
   },
   {
    "duration": 9,
    "start_time": "2022-01-17T16:10:17.415Z"
   },
   {
    "duration": 910,
    "start_time": "2022-01-17T16:10:17.426Z"
   },
   {
    "duration": -6024,
    "start_time": "2022-01-17T16:10:24.363Z"
   },
   {
    "duration": -6026,
    "start_time": "2022-01-17T16:10:24.366Z"
   },
   {
    "duration": -6026,
    "start_time": "2022-01-17T16:10:24.367Z"
   },
   {
    "duration": -6026,
    "start_time": "2022-01-17T16:10:24.368Z"
   },
   {
    "duration": 799,
    "start_time": "2022-01-17T16:10:23.446Z"
   },
   {
    "duration": 3,
    "start_time": "2022-01-17T16:10:30.196Z"
   },
   {
    "duration": 4,
    "start_time": "2022-01-17T16:10:30.253Z"
   },
   {
    "duration": 38,
    "start_time": "2022-01-17T16:10:30.259Z"
   },
   {
    "duration": 12,
    "start_time": "2022-01-17T16:10:30.299Z"
   },
   {
    "duration": 12,
    "start_time": "2022-01-17T16:10:30.312Z"
   },
   {
    "duration": 4,
    "start_time": "2022-01-17T16:10:30.326Z"
   },
   {
    "duration": 8,
    "start_time": "2022-01-17T16:10:30.361Z"
   },
   {
    "duration": 7,
    "start_time": "2022-01-17T16:10:30.371Z"
   },
   {
    "duration": 14,
    "start_time": "2022-01-17T16:10:30.380Z"
   },
   {
    "duration": 19,
    "start_time": "2022-01-17T16:10:30.396Z"
   },
   {
    "duration": 12,
    "start_time": "2022-01-17T16:10:30.417Z"
   },
   {
    "duration": 14,
    "start_time": "2022-01-17T16:10:30.431Z"
   },
   {
    "duration": 443,
    "start_time": "2022-01-17T16:10:30.447Z"
   },
   {
    "duration": 6,
    "start_time": "2022-01-17T16:37:52.719Z"
   },
   {
    "duration": 10,
    "start_time": "2022-01-17T16:38:02.762Z"
   },
   {
    "duration": 2,
    "start_time": "2022-01-17T16:40:35.692Z"
   },
   {
    "duration": 5,
    "start_time": "2022-01-17T16:40:35.696Z"
   },
   {
    "duration": 32,
    "start_time": "2022-01-17T16:40:35.704Z"
   },
   {
    "duration": 11,
    "start_time": "2022-01-17T16:40:35.738Z"
   },
   {
    "duration": 8,
    "start_time": "2022-01-17T16:40:35.751Z"
   },
   {
    "duration": 4,
    "start_time": "2022-01-17T16:40:35.761Z"
   },
   {
    "duration": 8,
    "start_time": "2022-01-17T16:40:35.767Z"
   },
   {
    "duration": 6,
    "start_time": "2022-01-17T16:40:35.792Z"
   },
   {
    "duration": 19,
    "start_time": "2022-01-17T16:40:35.800Z"
   },
   {
    "duration": 4,
    "start_time": "2022-01-17T16:40:35.821Z"
   },
   {
    "duration": 18,
    "start_time": "2022-01-17T16:40:35.826Z"
   },
   {
    "duration": 13,
    "start_time": "2022-01-17T16:40:35.845Z"
   },
   {
    "duration": 387,
    "start_time": "2022-01-17T16:40:35.860Z"
   },
   {
    "duration": 3,
    "start_time": "2022-01-17T16:45:16.900Z"
   },
   {
    "duration": 4,
    "start_time": "2022-01-17T16:45:16.905Z"
   },
   {
    "duration": 32,
    "start_time": "2022-01-17T16:45:16.911Z"
   },
   {
    "duration": 12,
    "start_time": "2022-01-17T16:45:16.945Z"
   },
   {
    "duration": 10,
    "start_time": "2022-01-17T16:45:16.959Z"
   },
   {
    "duration": 5,
    "start_time": "2022-01-17T16:45:16.970Z"
   },
   {
    "duration": 9,
    "start_time": "2022-01-17T16:45:16.977Z"
   },
   {
    "duration": 28,
    "start_time": "2022-01-17T16:45:16.988Z"
   },
   {
    "duration": 6,
    "start_time": "2022-01-17T16:45:17.018Z"
   },
   {
    "duration": 6,
    "start_time": "2022-01-17T16:45:17.025Z"
   },
   {
    "duration": 10,
    "start_time": "2022-01-17T16:45:17.033Z"
   },
   {
    "duration": 13,
    "start_time": "2022-01-17T16:45:17.044Z"
   },
   {
    "duration": 397,
    "start_time": "2022-01-17T16:45:17.058Z"
   },
   {
    "duration": 12,
    "start_time": "2022-01-17T16:45:40.924Z"
   },
   {
    "duration": 255,
    "start_time": "2022-01-17T16:45:46.010Z"
   },
   {
    "duration": 3,
    "start_time": "2022-01-17T16:45:59.650Z"
   },
   {
    "duration": 4,
    "start_time": "2022-01-17T16:45:59.655Z"
   },
   {
    "duration": 32,
    "start_time": "2022-01-17T16:45:59.661Z"
   },
   {
    "duration": 12,
    "start_time": "2022-01-17T16:45:59.695Z"
   },
   {
    "duration": 10,
    "start_time": "2022-01-17T16:45:59.708Z"
   },
   {
    "duration": 4,
    "start_time": "2022-01-17T16:45:59.719Z"
   },
   {
    "duration": 8,
    "start_time": "2022-01-17T16:45:59.724Z"
   },
   {
    "duration": 6,
    "start_time": "2022-01-17T16:45:59.791Z"
   },
   {
    "duration": 13,
    "start_time": "2022-01-17T16:45:59.798Z"
   },
   {
    "duration": 4,
    "start_time": "2022-01-17T16:45:59.813Z"
   },
   {
    "duration": 10,
    "start_time": "2022-01-17T16:45:59.818Z"
   },
   {
    "duration": 14,
    "start_time": "2022-01-17T16:45:59.829Z"
   },
   {
    "duration": 402,
    "start_time": "2022-01-17T16:45:59.844Z"
   },
   {
    "duration": 2,
    "start_time": "2022-01-17T16:46:26.761Z"
   },
   {
    "duration": 4,
    "start_time": "2022-01-17T16:46:26.765Z"
   },
   {
    "duration": 34,
    "start_time": "2022-01-17T16:46:26.771Z"
   },
   {
    "duration": 11,
    "start_time": "2022-01-17T16:46:26.807Z"
   },
   {
    "duration": 10,
    "start_time": "2022-01-17T16:46:26.820Z"
   },
   {
    "duration": 4,
    "start_time": "2022-01-17T16:46:26.831Z"
   },
   {
    "duration": 9,
    "start_time": "2022-01-17T16:46:26.837Z"
   },
   {
    "duration": 7,
    "start_time": "2022-01-17T16:46:26.930Z"
   },
   {
    "duration": 11,
    "start_time": "2022-01-17T16:46:26.939Z"
   },
   {
    "duration": 3,
    "start_time": "2022-01-17T16:46:26.952Z"
   },
   {
    "duration": 9,
    "start_time": "2022-01-17T16:46:26.957Z"
   },
   {
    "duration": 14,
    "start_time": "2022-01-17T16:46:26.967Z"
   },
   {
    "duration": 500,
    "start_time": "2022-01-17T16:46:26.983Z"
   },
   {
    "duration": 205,
    "start_time": "2022-01-17T16:47:31.861Z"
   },
   {
    "duration": 2,
    "start_time": "2022-01-17T16:47:37.441Z"
   },
   {
    "duration": 5,
    "start_time": "2022-01-17T16:47:37.445Z"
   },
   {
    "duration": 35,
    "start_time": "2022-01-17T16:47:37.451Z"
   },
   {
    "duration": 12,
    "start_time": "2022-01-17T16:47:37.487Z"
   },
   {
    "duration": 9,
    "start_time": "2022-01-17T16:47:37.500Z"
   },
   {
    "duration": 3,
    "start_time": "2022-01-17T16:47:37.511Z"
   },
   {
    "duration": 10,
    "start_time": "2022-01-17T16:47:37.516Z"
   },
   {
    "duration": 7,
    "start_time": "2022-01-17T16:47:37.602Z"
   },
   {
    "duration": 14,
    "start_time": "2022-01-17T16:47:37.610Z"
   },
   {
    "duration": 6,
    "start_time": "2022-01-17T16:47:37.626Z"
   },
   {
    "duration": 8,
    "start_time": "2022-01-17T16:47:37.639Z"
   },
   {
    "duration": 13,
    "start_time": "2022-01-17T16:47:37.649Z"
   },
   {
    "duration": 442,
    "start_time": "2022-01-17T16:47:37.664Z"
   },
   {
    "duration": 3,
    "start_time": "2022-01-17T16:47:55.630Z"
   },
   {
    "duration": 4,
    "start_time": "2022-01-17T16:47:55.634Z"
   },
   {
    "duration": 32,
    "start_time": "2022-01-17T16:47:55.640Z"
   },
   {
    "duration": 12,
    "start_time": "2022-01-17T16:47:55.674Z"
   },
   {
    "duration": 9,
    "start_time": "2022-01-17T16:47:55.687Z"
   },
   {
    "duration": 3,
    "start_time": "2022-01-17T16:47:55.698Z"
   },
   {
    "duration": 9,
    "start_time": "2022-01-17T16:47:55.702Z"
   },
   {
    "duration": 6,
    "start_time": "2022-01-17T16:47:55.721Z"
   },
   {
    "duration": 4,
    "start_time": "2022-01-17T16:47:55.729Z"
   },
   {
    "duration": 9,
    "start_time": "2022-01-17T16:47:55.735Z"
   },
   {
    "duration": 14,
    "start_time": "2022-01-17T16:47:55.745Z"
   },
   {
    "duration": 403,
    "start_time": "2022-01-17T16:47:55.761Z"
   },
   {
    "duration": 29,
    "start_time": "2022-01-17T16:56:22.249Z"
   },
   {
    "duration": 4,
    "start_time": "2022-01-17T16:56:42.808Z"
   },
   {
    "duration": 2,
    "start_time": "2022-01-17T16:56:46.689Z"
   },
   {
    "duration": 4,
    "start_time": "2022-01-17T16:56:46.693Z"
   },
   {
    "duration": 33,
    "start_time": "2022-01-17T16:56:46.699Z"
   },
   {
    "duration": 12,
    "start_time": "2022-01-17T16:56:46.733Z"
   },
   {
    "duration": 9,
    "start_time": "2022-01-17T16:56:46.747Z"
   },
   {
    "duration": 4,
    "start_time": "2022-01-17T16:56:46.758Z"
   },
   {
    "duration": 9,
    "start_time": "2022-01-17T16:56:46.764Z"
   },
   {
    "duration": 8,
    "start_time": "2022-01-17T16:56:46.850Z"
   },
   {
    "duration": 19,
    "start_time": "2022-01-17T16:56:46.860Z"
   },
   {
    "duration": 4,
    "start_time": "2022-01-17T16:56:46.882Z"
   },
   {
    "duration": 9,
    "start_time": "2022-01-17T16:56:46.888Z"
   },
   {
    "duration": 12,
    "start_time": "2022-01-17T16:56:46.899Z"
   },
   {
    "duration": 464,
    "start_time": "2022-01-17T16:56:46.913Z"
   },
   {
    "duration": 9,
    "start_time": "2022-01-17T17:02:42.481Z"
   },
   {
    "duration": 200,
    "start_time": "2022-01-17T17:02:45.482Z"
   },
   {
    "duration": 2,
    "start_time": "2022-01-17T17:02:51.328Z"
   },
   {
    "duration": 2,
    "start_time": "2022-01-17T17:02:51.342Z"
   },
   {
    "duration": 32,
    "start_time": "2022-01-17T17:02:51.350Z"
   },
   {
    "duration": 11,
    "start_time": "2022-01-17T17:02:51.384Z"
   },
   {
    "duration": 8,
    "start_time": "2022-01-17T17:02:51.397Z"
   },
   {
    "duration": 4,
    "start_time": "2022-01-17T17:02:51.406Z"
   },
   {
    "duration": 7,
    "start_time": "2022-01-17T17:02:51.412Z"
   },
   {
    "duration": 7,
    "start_time": "2022-01-17T17:02:51.530Z"
   },
   {
    "duration": 187,
    "start_time": "2022-01-17T17:02:51.539Z"
   },
   {
    "duration": -5726,
    "start_time": "2022-01-17T17:02:57.454Z"
   },
   {
    "duration": -5728,
    "start_time": "2022-01-17T17:02:57.457Z"
   },
   {
    "duration": -5728,
    "start_time": "2022-01-17T17:02:57.458Z"
   },
   {
    "duration": -5729,
    "start_time": "2022-01-17T17:02:57.460Z"
   },
   {
    "duration": 2,
    "start_time": "2022-01-17T17:02:59.541Z"
   },
   {
    "duration": 3,
    "start_time": "2022-01-17T17:02:59.547Z"
   },
   {
    "duration": 33,
    "start_time": "2022-01-17T17:02:59.553Z"
   },
   {
    "duration": 11,
    "start_time": "2022-01-17T17:02:59.587Z"
   },
   {
    "duration": 10,
    "start_time": "2022-01-17T17:02:59.600Z"
   },
   {
    "duration": 4,
    "start_time": "2022-01-17T17:02:59.611Z"
   },
   {
    "duration": 10,
    "start_time": "2022-01-17T17:02:59.616Z"
   },
   {
    "duration": 7,
    "start_time": "2022-01-17T17:02:59.733Z"
   },
   {
    "duration": 10,
    "start_time": "2022-01-17T17:02:59.741Z"
   },
   {
    "duration": 4,
    "start_time": "2022-01-17T17:02:59.753Z"
   },
   {
    "duration": 9,
    "start_time": "2022-01-17T17:02:59.758Z"
   },
   {
    "duration": 13,
    "start_time": "2022-01-17T17:02:59.769Z"
   },
   {
    "duration": 205,
    "start_time": "2022-01-17T17:02:59.783Z"
   },
   {
    "duration": 214,
    "start_time": "2022-01-17T17:03:14.110Z"
   },
   {
    "duration": 202,
    "start_time": "2022-01-17T17:03:28.296Z"
   },
   {
    "duration": 9,
    "start_time": "2022-01-17T17:03:34.766Z"
   },
   {
    "duration": 220,
    "start_time": "2022-01-17T17:04:16.375Z"
   },
   {
    "duration": 2,
    "start_time": "2022-01-17T17:04:22.450Z"
   },
   {
    "duration": 4,
    "start_time": "2022-01-17T17:04:22.456Z"
   },
   {
    "duration": 34,
    "start_time": "2022-01-17T17:04:22.462Z"
   },
   {
    "duration": 11,
    "start_time": "2022-01-17T17:04:22.497Z"
   },
   {
    "duration": 9,
    "start_time": "2022-01-17T17:04:22.510Z"
   },
   {
    "duration": 4,
    "start_time": "2022-01-17T17:04:22.520Z"
   },
   {
    "duration": 9,
    "start_time": "2022-01-17T17:04:22.525Z"
   },
   {
    "duration": 6,
    "start_time": "2022-01-17T17:04:22.557Z"
   },
   {
    "duration": 9,
    "start_time": "2022-01-17T17:04:22.564Z"
   },
   {
    "duration": 3,
    "start_time": "2022-01-17T17:04:22.575Z"
   },
   {
    "duration": 9,
    "start_time": "2022-01-17T17:04:22.644Z"
   },
   {
    "duration": 14,
    "start_time": "2022-01-17T17:04:22.654Z"
   },
   {
    "duration": 459,
    "start_time": "2022-01-17T17:04:22.669Z"
   },
   {
    "duration": 2,
    "start_time": "2022-01-17T17:04:34.636Z"
   },
   {
    "duration": 3,
    "start_time": "2022-01-17T17:04:34.649Z"
   },
   {
    "duration": 32,
    "start_time": "2022-01-17T17:04:34.655Z"
   },
   {
    "duration": 11,
    "start_time": "2022-01-17T17:04:34.689Z"
   },
   {
    "duration": 10,
    "start_time": "2022-01-17T17:04:34.701Z"
   },
   {
    "duration": 3,
    "start_time": "2022-01-17T17:04:34.713Z"
   },
   {
    "duration": 8,
    "start_time": "2022-01-17T17:04:34.717Z"
   },
   {
    "duration": 7,
    "start_time": "2022-01-17T17:04:34.727Z"
   },
   {
    "duration": 13,
    "start_time": "2022-01-17T17:04:34.735Z"
   },
   {
    "duration": 4,
    "start_time": "2022-01-17T17:04:34.749Z"
   },
   {
    "duration": 8,
    "start_time": "2022-01-17T17:04:34.755Z"
   },
   {
    "duration": 14,
    "start_time": "2022-01-17T17:04:34.847Z"
   },
   {
    "duration": 466,
    "start_time": "2022-01-17T17:04:34.863Z"
   },
   {
    "duration": 3,
    "start_time": "2022-01-17T17:04:45.941Z"
   },
   {
    "duration": 2,
    "start_time": "2022-01-17T17:04:45.948Z"
   },
   {
    "duration": 33,
    "start_time": "2022-01-17T17:04:45.954Z"
   },
   {
    "duration": 11,
    "start_time": "2022-01-17T17:04:45.988Z"
   },
   {
    "duration": 10,
    "start_time": "2022-01-17T17:04:46.001Z"
   },
   {
    "duration": 4,
    "start_time": "2022-01-17T17:04:46.013Z"
   },
   {
    "duration": 8,
    "start_time": "2022-01-17T17:04:46.018Z"
   },
   {
    "duration": 6,
    "start_time": "2022-01-17T17:04:46.027Z"
   },
   {
    "duration": 13,
    "start_time": "2022-01-17T17:04:46.034Z"
   },
   {
    "duration": 4,
    "start_time": "2022-01-17T17:04:46.049Z"
   },
   {
    "duration": 10,
    "start_time": "2022-01-17T17:04:46.054Z"
   },
   {
    "duration": 13,
    "start_time": "2022-01-17T17:04:46.244Z"
   },
   {
    "duration": 546,
    "start_time": "2022-01-17T17:04:46.259Z"
   },
   {
    "duration": 496,
    "start_time": "2022-01-17T17:04:53.974Z"
   },
   {
    "duration": 2,
    "start_time": "2022-01-17T17:04:54.472Z"
   },
   {
    "duration": 37,
    "start_time": "2022-01-17T17:04:54.477Z"
   },
   {
    "duration": 20,
    "start_time": "2022-01-17T17:04:54.516Z"
   },
   {
    "duration": 9,
    "start_time": "2022-01-17T17:04:54.537Z"
   },
   {
    "duration": 4,
    "start_time": "2022-01-17T17:04:54.548Z"
   },
   {
    "duration": 8,
    "start_time": "2022-01-17T17:04:54.554Z"
   },
   {
    "duration": 10,
    "start_time": "2022-01-17T17:04:54.564Z"
   },
   {
    "duration": 39,
    "start_time": "2022-01-17T17:04:54.576Z"
   },
   {
    "duration": 4,
    "start_time": "2022-01-17T17:04:54.617Z"
   },
   {
    "duration": 11,
    "start_time": "2022-01-17T17:04:54.623Z"
   },
   {
    "duration": 19,
    "start_time": "2022-01-17T17:04:54.636Z"
   },
   {
    "duration": 647,
    "start_time": "2022-01-17T17:04:54.657Z"
   },
   {
    "duration": 5,
    "start_time": "2022-01-17T17:07:49.350Z"
   },
   {
    "duration": 3,
    "start_time": "2022-01-17T17:07:59.303Z"
   },
   {
    "duration": 2,
    "start_time": "2022-01-17T17:07:59.334Z"
   },
   {
    "duration": 37,
    "start_time": "2022-01-17T17:07:59.337Z"
   },
   {
    "duration": 12,
    "start_time": "2022-01-17T17:07:59.376Z"
   },
   {
    "duration": 9,
    "start_time": "2022-01-17T17:07:59.390Z"
   },
   {
    "duration": 3,
    "start_time": "2022-01-17T17:07:59.401Z"
   },
   {
    "duration": 8,
    "start_time": "2022-01-17T17:07:59.406Z"
   },
   {
    "duration": 6,
    "start_time": "2022-01-17T17:07:59.416Z"
   },
   {
    "duration": 7,
    "start_time": "2022-01-17T17:07:59.423Z"
   },
   {
    "duration": 9,
    "start_time": "2022-01-17T17:07:59.432Z"
   },
   {
    "duration": 13,
    "start_time": "2022-01-17T17:07:59.443Z"
   },
   {
    "duration": 428,
    "start_time": "2022-01-17T17:07:59.458Z"
   },
   {
    "duration": 4,
    "start_time": "2022-01-17T17:07:59.888Z"
   },
   {
    "duration": 4,
    "start_time": "2022-01-17T17:08:17.372Z"
   },
   {
    "duration": 813,
    "start_time": "2022-01-18T06:35:27.517Z"
   },
   {
    "duration": 2,
    "start_time": "2022-01-18T06:35:28.332Z"
   },
   {
    "duration": 38,
    "start_time": "2022-01-18T06:35:28.335Z"
   },
   {
    "duration": 17,
    "start_time": "2022-01-18T06:35:28.375Z"
   },
   {
    "duration": 9,
    "start_time": "2022-01-18T06:35:28.393Z"
   },
   {
    "duration": 3,
    "start_time": "2022-01-18T06:35:28.403Z"
   },
   {
    "duration": 9,
    "start_time": "2022-01-18T06:35:28.408Z"
   },
   {
    "duration": 7,
    "start_time": "2022-01-18T06:35:28.419Z"
   },
   {
    "duration": 4,
    "start_time": "2022-01-18T06:35:28.427Z"
   },
   {
    "duration": 9,
    "start_time": "2022-01-18T06:35:28.471Z"
   },
   {
    "duration": 15,
    "start_time": "2022-01-18T06:35:28.481Z"
   },
   {
    "duration": 451,
    "start_time": "2022-01-18T06:35:28.498Z"
   },
   {
    "duration": 5,
    "start_time": "2022-01-18T06:35:28.951Z"
   },
   {
    "duration": 441,
    "start_time": "2022-01-18T06:38:24.291Z"
   },
   {
    "duration": 2,
    "start_time": "2022-01-18T06:38:30.340Z"
   },
   {
    "duration": 2,
    "start_time": "2022-01-18T06:38:30.349Z"
   },
   {
    "duration": 39,
    "start_time": "2022-01-18T06:38:30.353Z"
   },
   {
    "duration": 12,
    "start_time": "2022-01-18T06:38:30.394Z"
   },
   {
    "duration": 10,
    "start_time": "2022-01-18T06:38:30.408Z"
   },
   {
    "duration": 5,
    "start_time": "2022-01-18T06:38:30.419Z"
   },
   {
    "duration": 10,
    "start_time": "2022-01-18T06:38:30.426Z"
   },
   {
    "duration": 39,
    "start_time": "2022-01-18T06:38:30.437Z"
   },
   {
    "duration": 7,
    "start_time": "2022-01-18T06:38:30.477Z"
   },
   {
    "duration": 4,
    "start_time": "2022-01-18T06:38:30.487Z"
   },
   {
    "duration": 16,
    "start_time": "2022-01-18T06:38:30.493Z"
   },
   {
    "duration": 23,
    "start_time": "2022-01-18T06:38:30.510Z"
   },
   {
    "duration": 447,
    "start_time": "2022-01-18T06:38:30.535Z"
   },
   {
    "duration": 11,
    "start_time": "2022-01-18T06:38:30.985Z"
   },
   {
    "duration": 2,
    "start_time": "2022-01-18T06:38:48.835Z"
   },
   {
    "duration": 4,
    "start_time": "2022-01-18T06:38:48.839Z"
   },
   {
    "duration": 39,
    "start_time": "2022-01-18T06:38:48.846Z"
   },
   {
    "duration": 13,
    "start_time": "2022-01-18T06:38:48.887Z"
   },
   {
    "duration": 11,
    "start_time": "2022-01-18T06:38:48.902Z"
   },
   {
    "duration": 4,
    "start_time": "2022-01-18T06:38:48.914Z"
   },
   {
    "duration": 9,
    "start_time": "2022-01-18T06:38:48.920Z"
   },
   {
    "duration": 6,
    "start_time": "2022-01-18T06:38:48.931Z"
   },
   {
    "duration": 4,
    "start_time": "2022-01-18T06:38:48.971Z"
   },
   {
    "duration": 10,
    "start_time": "2022-01-18T06:38:48.976Z"
   },
   {
    "duration": 9,
    "start_time": "2022-01-18T06:38:48.988Z"
   },
   {
    "duration": 15,
    "start_time": "2022-01-18T06:38:48.999Z"
   },
   {
    "duration": 393,
    "start_time": "2022-01-18T06:38:49.016Z"
   },
   {
    "duration": 367,
    "start_time": "2022-01-18T06:47:40.205Z"
   },
   {
    "duration": 389,
    "start_time": "2022-01-18T06:50:52.171Z"
   },
   {
    "duration": 371,
    "start_time": "2022-01-18T06:50:57.242Z"
   },
   {
    "duration": 366,
    "start_time": "2022-01-18T06:51:05.309Z"
   },
   {
    "duration": 425,
    "start_time": "2022-01-18T06:51:18.800Z"
   },
   {
    "duration": 2,
    "start_time": "2022-01-18T06:52:12.181Z"
   },
   {
    "duration": 3,
    "start_time": "2022-01-18T06:52:29.629Z"
   },
   {
    "duration": 685,
    "start_time": "2022-01-18T06:52:38.342Z"
   },
   {
    "duration": 717,
    "start_time": "2022-01-18T06:53:17.321Z"
   },
   {
    "duration": 3,
    "start_time": "2022-01-18T06:54:16.529Z"
   },
   {
    "duration": 381,
    "start_time": "2022-01-18T06:54:20.081Z"
   },
   {
    "duration": 353,
    "start_time": "2022-01-18T07:00:08.349Z"
   },
   {
    "duration": 5,
    "start_time": "2022-01-18T07:06:47.581Z"
   },
   {
    "duration": 13,
    "start_time": "2022-01-18T07:09:28.370Z"
   },
   {
    "duration": 325,
    "start_time": "2022-01-18T07:11:33.743Z"
   },
   {
    "duration": 14,
    "start_time": "2022-01-18T07:11:45.039Z"
   },
   {
    "duration": 14,
    "start_time": "2022-01-18T07:11:53.172Z"
   },
   {
    "duration": 17,
    "start_time": "2022-01-18T07:21:16.762Z"
   },
   {
    "duration": 16,
    "start_time": "2022-01-18T07:21:23.586Z"
   },
   {
    "duration": 421,
    "start_time": "2022-01-18T07:22:13.047Z"
   },
   {
    "duration": 14,
    "start_time": "2022-01-18T07:35:10.957Z"
   },
   {
    "duration": 6,
    "start_time": "2022-01-18T07:40:08.510Z"
   },
   {
    "duration": 16,
    "start_time": "2022-01-18T07:40:12.148Z"
   },
   {
    "duration": 584,
    "start_time": "2022-01-18T08:00:26.240Z"
   },
   {
    "duration": 6,
    "start_time": "2022-01-18T08:00:41.060Z"
   },
   {
    "duration": 582,
    "start_time": "2022-01-18T08:00:43.151Z"
   },
   {
    "duration": 337,
    "start_time": "2022-01-18T08:00:49.699Z"
   },
   {
    "duration": 2,
    "start_time": "2022-01-18T08:01:04.030Z"
   },
   {
    "duration": 6,
    "start_time": "2022-01-18T08:01:04.034Z"
   },
   {
    "duration": 36,
    "start_time": "2022-01-18T08:01:04.042Z"
   },
   {
    "duration": 12,
    "start_time": "2022-01-18T08:01:04.080Z"
   },
   {
    "duration": 12,
    "start_time": "2022-01-18T08:01:04.093Z"
   },
   {
    "duration": 4,
    "start_time": "2022-01-18T08:01:04.106Z"
   },
   {
    "duration": 11,
    "start_time": "2022-01-18T08:01:04.111Z"
   },
   {
    "duration": 6,
    "start_time": "2022-01-18T08:01:04.124Z"
   },
   {
    "duration": 41,
    "start_time": "2022-01-18T08:01:04.131Z"
   },
   {
    "duration": 5,
    "start_time": "2022-01-18T08:01:04.173Z"
   },
   {
    "duration": 10,
    "start_time": "2022-01-18T08:01:04.179Z"
   },
   {
    "duration": 13,
    "start_time": "2022-01-18T08:01:04.191Z"
   },
   {
    "duration": 397,
    "start_time": "2022-01-18T08:01:04.205Z"
   },
   {
    "duration": 4,
    "start_time": "2022-01-18T08:01:04.603Z"
   },
   {
    "duration": 369,
    "start_time": "2022-01-18T08:01:04.609Z"
   },
   {
    "duration": 13,
    "start_time": "2022-01-18T08:01:04.979Z"
   },
   {
    "duration": 2151,
    "start_time": "2022-01-18T08:01:04.994Z"
   },
   {
    "duration": -6730,
    "start_time": "2022-01-18T08:01:13.877Z"
   },
   {
    "duration": 16,
    "start_time": "2022-01-18T08:01:31.251Z"
   },
   {
    "duration": 15,
    "start_time": "2022-01-18T08:02:34.040Z"
   },
   {
    "duration": 16,
    "start_time": "2022-01-18T08:02:46.506Z"
   },
   {
    "duration": 16,
    "start_time": "2022-01-18T08:03:06.700Z"
   },
   {
    "duration": 17,
    "start_time": "2022-01-18T08:03:14.648Z"
   },
   {
    "duration": 428,
    "start_time": "2022-01-18T08:03:17.326Z"
   },
   {
    "duration": 14,
    "start_time": "2022-01-18T08:03:39.109Z"
   },
   {
    "duration": 21,
    "start_time": "2022-01-18T08:03:55.731Z"
   },
   {
    "duration": 22,
    "start_time": "2022-01-18T08:04:19.458Z"
   },
   {
    "duration": 325,
    "start_time": "2022-01-18T08:04:56.579Z"
   },
   {
    "duration": 392,
    "start_time": "2022-01-18T08:05:21.689Z"
   },
   {
    "duration": 327,
    "start_time": "2022-01-18T08:05:40.279Z"
   },
   {
    "duration": 24,
    "start_time": "2022-01-18T08:05:55.469Z"
   },
   {
    "duration": 23,
    "start_time": "2022-01-18T08:06:04.860Z"
   },
   {
    "duration": 23,
    "start_time": "2022-01-18T08:06:09.391Z"
   },
   {
    "duration": 4193,
    "start_time": "2022-01-18T08:06:24.088Z"
   },
   {
    "duration": 4222,
    "start_time": "2022-01-18T08:06:58.239Z"
   },
   {
    "duration": 4197,
    "start_time": "2022-01-18T08:08:14.380Z"
   },
   {
    "duration": 3839,
    "start_time": "2022-01-18T08:08:37.349Z"
   },
   {
    "duration": 3970,
    "start_time": "2022-01-18T08:12:02.803Z"
   },
   {
    "duration": 4010,
    "start_time": "2022-01-18T08:12:11.339Z"
   },
   {
    "duration": 301,
    "start_time": "2022-01-18T08:12:51.977Z"
   },
   {
    "duration": 4151,
    "start_time": "2022-01-18T08:20:03.924Z"
   },
   {
    "duration": 4389,
    "start_time": "2022-01-18T08:20:21.499Z"
   },
   {
    "duration": 4475,
    "start_time": "2022-01-18T08:20:46.875Z"
   },
   {
    "duration": 131,
    "start_time": "2022-01-18T08:42:54.228Z"
   },
   {
    "duration": 131,
    "start_time": "2022-01-18T08:43:03.368Z"
   },
   {
    "duration": 120,
    "start_time": "2022-01-18T08:43:08.049Z"
   },
   {
    "duration": 218,
    "start_time": "2022-01-18T08:43:20.158Z"
   },
   {
    "duration": 225,
    "start_time": "2022-01-18T08:43:35.638Z"
   },
   {
    "duration": 194,
    "start_time": "2022-01-18T08:43:47.949Z"
   },
   {
    "duration": 5,
    "start_time": "2022-01-18T08:43:56.938Z"
   },
   {
    "duration": 206,
    "start_time": "2022-01-18T08:43:59.976Z"
   },
   {
    "duration": 199,
    "start_time": "2022-01-18T08:44:35.180Z"
   },
   {
    "duration": 210,
    "start_time": "2022-01-18T08:44:42.460Z"
   },
   {
    "duration": 114,
    "start_time": "2022-01-18T08:44:49.235Z"
   },
   {
    "duration": 126,
    "start_time": "2022-01-18T08:44:52.538Z"
   },
   {
    "duration": 135,
    "start_time": "2022-01-18T08:45:00.891Z"
   },
   {
    "duration": 126,
    "start_time": "2022-01-18T08:54:03.479Z"
   },
   {
    "duration": 207,
    "start_time": "2022-01-18T08:58:35.388Z"
   },
   {
    "duration": 384,
    "start_time": "2022-01-18T08:59:41.499Z"
   },
   {
    "duration": 522,
    "start_time": "2022-01-18T09:04:19.781Z"
   },
   {
    "duration": 848,
    "start_time": "2022-01-18T09:06:41.620Z"
   },
   {
    "duration": 867,
    "start_time": "2022-01-18T09:11:02.606Z"
   },
   {
    "duration": 911,
    "start_time": "2022-01-18T09:11:24.239Z"
   },
   {
    "duration": 872,
    "start_time": "2022-01-18T09:12:52.759Z"
   },
   {
    "duration": 439,
    "start_time": "2022-01-18T09:13:17.667Z"
   },
   {
    "duration": 6598,
    "start_time": "2022-01-18T09:13:54.289Z"
   },
   {
    "duration": 6522,
    "start_time": "2022-01-18T09:14:07.071Z"
   },
   {
    "duration": 860,
    "start_time": "2022-01-18T09:15:15.770Z"
   },
   {
    "duration": 836,
    "start_time": "2022-01-18T09:15:33.617Z"
   },
   {
    "duration": 7284,
    "start_time": "2022-01-18T09:15:48.239Z"
   },
   {
    "duration": 6311,
    "start_time": "2022-01-18T09:16:12.000Z"
   },
   {
    "duration": 6309,
    "start_time": "2022-01-18T09:16:30.748Z"
   },
   {
    "duration": 6486,
    "start_time": "2022-01-18T09:16:59.449Z"
   },
   {
    "duration": 6436,
    "start_time": "2022-01-18T09:17:15.429Z"
   },
   {
    "duration": 6373,
    "start_time": "2022-01-18T09:17:30.685Z"
   },
   {
    "duration": 8179,
    "start_time": "2022-01-18T09:18:40.990Z"
   },
   {
    "duration": 6700,
    "start_time": "2022-01-18T09:20:44.360Z"
   },
   {
    "duration": 6898,
    "start_time": "2022-01-18T09:20:58.490Z"
   },
   {
    "duration": 4444,
    "start_time": "2022-01-18T09:23:08.105Z"
   },
   {
    "duration": 6650,
    "start_time": "2022-01-18T09:25:31.885Z"
   },
   {
    "duration": 32,
    "start_time": "2022-01-18T09:27:04.443Z"
   },
   {
    "duration": 29,
    "start_time": "2022-01-18T09:27:26.578Z"
   },
   {
    "duration": 30,
    "start_time": "2022-01-18T09:27:50.691Z"
   },
   {
    "duration": 31,
    "start_time": "2022-01-18T09:28:11.941Z"
   },
   {
    "duration": 21,
    "start_time": "2022-01-18T09:28:47.662Z"
   },
   {
    "duration": 22,
    "start_time": "2022-01-18T09:29:15.789Z"
   },
   {
    "duration": 325,
    "start_time": "2022-01-18T09:29:31.729Z"
   },
   {
    "duration": 22,
    "start_time": "2022-01-18T09:30:00.368Z"
   },
   {
    "duration": 410,
    "start_time": "2022-01-18T09:30:08.798Z"
   },
   {
    "duration": 760,
    "start_time": "2022-01-18T09:32:39.050Z"
   },
   {
    "duration": 150,
    "start_time": "2022-01-18T09:54:58.431Z"
   },
   {
    "duration": 156,
    "start_time": "2022-01-18T09:55:04.288Z"
   },
   {
    "duration": 660,
    "start_time": "2022-01-18T09:55:22.736Z"
   },
   {
    "duration": 150,
    "start_time": "2022-01-18T09:55:38.800Z"
   },
   {
    "duration": 154,
    "start_time": "2022-01-18T09:56:22.146Z"
   },
   {
    "duration": 158,
    "start_time": "2022-01-18T09:56:26.657Z"
   },
   {
    "duration": 327,
    "start_time": "2022-01-18T09:58:02.039Z"
   },
   {
    "duration": 269,
    "start_time": "2022-01-18T09:59:47.772Z"
   },
   {
    "duration": 1085,
    "start_time": "2022-01-18T09:59:56.059Z"
   },
   {
    "duration": 330,
    "start_time": "2022-01-18T10:00:04.360Z"
   },
   {
    "duration": 375,
    "start_time": "2022-01-18T10:00:10.169Z"
   },
   {
    "duration": 460,
    "start_time": "2022-01-18T10:00:17.060Z"
   },
   {
    "duration": 493,
    "start_time": "2022-01-18T10:00:59.829Z"
   },
   {
    "duration": 453,
    "start_time": "2022-01-18T10:01:28.799Z"
   },
   {
    "duration": 19,
    "start_time": "2022-01-18T10:15:10.688Z"
   },
   {
    "duration": 802,
    "start_time": "2022-01-18T10:21:54.388Z"
   },
   {
    "duration": 915,
    "start_time": "2022-01-18T10:22:10.543Z"
   },
   {
    "duration": 849,
    "start_time": "2022-01-18T10:22:41.632Z"
   },
   {
    "duration": 810,
    "start_time": "2022-01-18T10:23:12.995Z"
   },
   {
    "duration": 1446,
    "start_time": "2022-01-18T10:24:25.511Z"
   },
   {
    "duration": 754,
    "start_time": "2022-01-18T10:24:42.626Z"
   },
   {
    "duration": 878,
    "start_time": "2022-01-18T10:24:56.341Z"
   },
   {
    "duration": 7,
    "start_time": "2022-01-18T10:26:02.022Z"
   },
   {
    "duration": 7,
    "start_time": "2022-01-18T10:26:46.855Z"
   },
   {
    "duration": 451,
    "start_time": "2022-01-18T10:27:17.755Z"
   },
   {
    "duration": 418,
    "start_time": "2022-01-18T10:27:31.912Z"
   },
   {
    "duration": 379,
    "start_time": "2022-01-18T10:28:39.864Z"
   },
   {
    "duration": 819,
    "start_time": "2022-01-18T10:36:55.640Z"
   },
   {
    "duration": 470,
    "start_time": "2022-01-18T10:37:22.687Z"
   },
   {
    "duration": 479,
    "start_time": "2022-01-18T10:37:45.838Z"
   },
   {
    "duration": 446,
    "start_time": "2022-01-18T10:38:03.128Z"
   },
   {
    "duration": 386,
    "start_time": "2022-01-18T10:38:21.080Z"
   },
   {
    "duration": 172,
    "start_time": "2022-01-18T10:38:35.201Z"
   },
   {
    "duration": 198,
    "start_time": "2022-01-18T10:38:39.888Z"
   },
   {
    "duration": 168,
    "start_time": "2022-01-18T10:39:58.920Z"
   },
   {
    "duration": 215,
    "start_time": "2022-01-18T10:40:30.602Z"
   },
   {
    "duration": 190,
    "start_time": "2022-01-18T10:40:44.060Z"
   },
   {
    "duration": 303,
    "start_time": "2022-01-18T10:41:08.521Z"
   },
   {
    "duration": 178,
    "start_time": "2022-01-18T10:41:16.179Z"
   },
   {
    "duration": 373,
    "start_time": "2022-01-18T10:42:01.229Z"
   },
   {
    "duration": 179,
    "start_time": "2022-01-18T10:42:11.062Z"
   },
   {
    "duration": 692,
    "start_time": "2022-01-18T10:55:36.173Z"
   },
   {
    "duration": 168,
    "start_time": "2022-01-18T10:58:46.622Z"
   },
   {
    "duration": 20,
    "start_time": "2022-01-18T11:10:45.100Z"
   },
   {
    "duration": 187,
    "start_time": "2022-01-18T11:14:32.480Z"
   },
   {
    "duration": 171,
    "start_time": "2022-01-18T11:15:07.046Z"
   },
   {
    "duration": 162,
    "start_time": "2022-01-18T11:15:17.244Z"
   },
   {
    "duration": 172,
    "start_time": "2022-01-18T11:15:30.342Z"
   },
   {
    "duration": 157,
    "start_time": "2022-01-18T11:15:38.544Z"
   },
   {
    "duration": 170,
    "start_time": "2022-01-18T11:15:50.164Z"
   },
   {
    "duration": 838,
    "start_time": "2022-01-18T11:16:03.754Z"
   },
   {
    "duration": 316,
    "start_time": "2022-01-18T11:16:14.145Z"
   },
   {
    "duration": 166,
    "start_time": "2022-01-18T11:16:21.654Z"
   },
   {
    "duration": 242,
    "start_time": "2022-01-18T11:24:27.417Z"
   },
   {
    "duration": 148,
    "start_time": "2022-01-18T11:24:33.948Z"
   },
   {
    "duration": 21,
    "start_time": "2022-01-18T11:30:40.755Z"
   },
   {
    "duration": 18,
    "start_time": "2022-01-18T11:30:53.162Z"
   },
   {
    "duration": 198,
    "start_time": "2022-01-18T11:32:58.321Z"
   },
   {
    "duration": 182,
    "start_time": "2022-01-18T11:33:06.423Z"
   },
   {
    "duration": 244,
    "start_time": "2022-01-18T11:33:22.381Z"
   },
   {
    "duration": 172,
    "start_time": "2022-01-18T11:33:27.231Z"
   },
   {
    "duration": 228,
    "start_time": "2022-01-18T11:33:30.400Z"
   },
   {
    "duration": 224,
    "start_time": "2022-01-18T11:33:35.531Z"
   },
   {
    "duration": 292,
    "start_time": "2022-01-18T11:33:39.972Z"
   },
   {
    "duration": 258,
    "start_time": "2022-01-18T11:35:02.053Z"
   },
   {
    "duration": 897,
    "start_time": "2022-01-18T11:36:08.061Z"
   },
   {
    "duration": 824,
    "start_time": "2022-01-18T11:36:18.801Z"
   },
   {
    "duration": 191,
    "start_time": "2022-01-18T11:36:27.843Z"
   },
   {
    "duration": 197,
    "start_time": "2022-01-18T11:37:30.133Z"
   },
   {
    "duration": 332,
    "start_time": "2022-01-18T11:38:47.869Z"
   },
   {
    "duration": 1936,
    "start_time": "2022-01-18T11:39:46.052Z"
   },
   {
    "duration": 12,
    "start_time": "2022-01-18T11:55:33.122Z"
   },
   {
    "duration": 22,
    "start_time": "2022-01-18T11:56:37.872Z"
   },
   {
    "duration": 2713,
    "start_time": "2022-01-18T11:56:50.033Z"
   },
   {
    "duration": 3231,
    "start_time": "2022-01-18T11:57:53.233Z"
   },
   {
    "duration": 3254,
    "start_time": "2022-01-18T11:58:23.943Z"
   },
   {
    "duration": 3245,
    "start_time": "2022-01-18T11:58:32.808Z"
   },
   {
    "duration": 3200,
    "start_time": "2022-01-18T11:59:14.103Z"
   },
   {
    "duration": 855,
    "start_time": "2022-01-18T12:00:50.080Z"
   },
   {
    "duration": 3184,
    "start_time": "2022-01-18T12:08:16.094Z"
   },
   {
    "duration": 2838,
    "start_time": "2022-01-18T12:08:35.063Z"
   },
   {
    "duration": 262,
    "start_time": "2022-01-18T12:10:57.045Z"
   },
   {
    "duration": 4,
    "start_time": "2022-01-18T12:11:41.944Z"
   },
   {
    "duration": 8,
    "start_time": "2022-01-18T12:11:56.954Z"
   },
   {
    "duration": 21,
    "start_time": "2022-01-18T12:13:00.625Z"
   },
   {
    "duration": 146,
    "start_time": "2022-01-18T12:13:56.983Z"
   },
   {
    "duration": 232,
    "start_time": "2022-01-18T12:14:12.045Z"
   },
   {
    "duration": 2852,
    "start_time": "2022-01-18T12:14:38.605Z"
   },
   {
    "duration": 39,
    "start_time": "2022-01-18T12:16:17.876Z"
   },
   {
    "duration": 42,
    "start_time": "2022-01-18T12:16:25.177Z"
   },
   {
    "duration": 42,
    "start_time": "2022-01-18T12:16:45.543Z"
   },
   {
    "duration": 3206,
    "start_time": "2022-01-18T12:17:10.233Z"
   },
   {
    "duration": 23,
    "start_time": "2022-01-18T12:28:52.153Z"
   },
   {
    "duration": 8,
    "start_time": "2022-01-18T12:29:19.884Z"
   },
   {
    "duration": 7,
    "start_time": "2022-01-18T12:29:26.649Z"
   },
   {
    "duration": 10,
    "start_time": "2022-01-18T12:29:38.635Z"
   },
   {
    "duration": 10,
    "start_time": "2022-01-18T12:30:23.463Z"
   },
   {
    "duration": 20,
    "start_time": "2022-01-18T12:34:55.949Z"
   },
   {
    "duration": 21,
    "start_time": "2022-01-18T12:35:05.217Z"
   },
   {
    "duration": 9,
    "start_time": "2022-01-18T12:36:05.320Z"
   },
   {
    "duration": 450,
    "start_time": "2022-01-18T12:36:13.202Z"
   },
   {
    "duration": 7,
    "start_time": "2022-01-18T12:36:29.285Z"
   },
   {
    "duration": 8,
    "start_time": "2022-01-18T12:37:02.760Z"
   },
   {
    "duration": 21,
    "start_time": "2022-01-18T12:38:39.818Z"
   },
   {
    "duration": 8,
    "start_time": "2022-01-18T12:41:02.208Z"
   },
   {
    "duration": 8057,
    "start_time": "2022-01-18T12:41:25.370Z"
   },
   {
    "duration": 15,
    "start_time": "2022-01-18T12:42:45.468Z"
   },
   {
    "duration": 11,
    "start_time": "2022-01-18T12:43:10.966Z"
   },
   {
    "duration": 16,
    "start_time": "2022-01-18T12:43:39.415Z"
   },
   {
    "duration": 17,
    "start_time": "2022-01-18T12:43:50.074Z"
   },
   {
    "duration": 316,
    "start_time": "2022-01-18T12:44:09.455Z"
   },
   {
    "duration": 15,
    "start_time": "2022-01-18T12:44:12.510Z"
   },
   {
    "duration": 12,
    "start_time": "2022-01-18T12:44:20.809Z"
   },
   {
    "duration": 16,
    "start_time": "2022-01-18T12:44:49.279Z"
   },
   {
    "duration": 14,
    "start_time": "2022-01-18T12:44:56.239Z"
   },
   {
    "duration": 364,
    "start_time": "2022-01-18T12:47:14.969Z"
   },
   {
    "duration": 400,
    "start_time": "2022-01-18T12:47:34.328Z"
   },
   {
    "duration": 410,
    "start_time": "2022-01-18T12:47:44.832Z"
   },
   {
    "duration": 399,
    "start_time": "2022-01-18T12:48:04.469Z"
   },
   {
    "duration": 84,
    "start_time": "2022-01-18T12:48:14.279Z"
   },
   {
    "duration": 99,
    "start_time": "2022-01-18T12:48:54.829Z"
   },
   {
    "duration": 89,
    "start_time": "2022-01-18T12:49:01.467Z"
   },
   {
    "duration": 78,
    "start_time": "2022-01-18T12:51:47.918Z"
   },
   {
    "duration": 4,
    "start_time": "2022-01-18T12:52:40.171Z"
   },
   {
    "duration": 92,
    "start_time": "2022-01-18T12:53:51.980Z"
   },
   {
    "duration": 80,
    "start_time": "2022-01-18T12:54:09.089Z"
   },
   {
    "duration": 81,
    "start_time": "2022-01-18T12:55:33.289Z"
   },
   {
    "duration": 150,
    "start_time": "2022-01-18T12:58:17.603Z"
   },
   {
    "duration": 16,
    "start_time": "2022-01-18T12:58:27.747Z"
   },
   {
    "duration": 13,
    "start_time": "2022-01-18T13:00:48.768Z"
   },
   {
    "duration": 9,
    "start_time": "2022-01-18T13:01:01.100Z"
   },
   {
    "duration": 14,
    "start_time": "2022-01-18T13:01:58.267Z"
   },
   {
    "duration": 14,
    "start_time": "2022-01-18T13:02:44.127Z"
   },
   {
    "duration": 22,
    "start_time": "2022-01-18T13:02:58.163Z"
   },
   {
    "duration": 328,
    "start_time": "2022-01-18T13:03:48.168Z"
   },
   {
    "duration": 17,
    "start_time": "2022-01-18T13:03:51.692Z"
   },
   {
    "duration": 22,
    "start_time": "2022-01-18T13:03:56.388Z"
   },
   {
    "duration": 22,
    "start_time": "2022-01-18T13:04:35.199Z"
   },
   {
    "duration": 16,
    "start_time": "2022-01-18T13:04:46.048Z"
   },
   {
    "duration": 20,
    "start_time": "2022-01-18T13:04:50.888Z"
   },
   {
    "duration": 20,
    "start_time": "2022-01-18T13:05:02.018Z"
   },
   {
    "duration": 20,
    "start_time": "2022-01-18T13:05:11.675Z"
   },
   {
    "duration": 21,
    "start_time": "2022-01-18T13:05:25.198Z"
   },
   {
    "duration": 7,
    "start_time": "2022-01-18T13:06:42.039Z"
   },
   {
    "duration": 21,
    "start_time": "2022-01-18T13:07:13.910Z"
   },
   {
    "duration": 27,
    "start_time": "2022-01-18T13:07:36.819Z"
   },
   {
    "duration": 23,
    "start_time": "2022-01-18T13:07:52.429Z"
   },
   {
    "duration": 28,
    "start_time": "2022-01-18T13:08:20.739Z"
   },
   {
    "duration": 46,
    "start_time": "2022-01-18T13:08:55.449Z"
   },
   {
    "duration": 26,
    "start_time": "2022-01-18T13:09:05.227Z"
   },
   {
    "duration": 17,
    "start_time": "2022-01-18T13:09:24.149Z"
   },
   {
    "duration": 22,
    "start_time": "2022-01-18T13:09:30.043Z"
   },
   {
    "duration": 22,
    "start_time": "2022-01-18T13:11:50.613Z"
   },
   {
    "duration": 23,
    "start_time": "2022-01-18T13:12:08.658Z"
   },
   {
    "duration": 22,
    "start_time": "2022-01-18T13:12:21.137Z"
   },
   {
    "duration": 30,
    "start_time": "2022-01-18T13:13:04.137Z"
   },
   {
    "duration": 16,
    "start_time": "2022-01-18T13:13:26.258Z"
   },
   {
    "duration": 24,
    "start_time": "2022-01-18T13:13:30.338Z"
   },
   {
    "duration": 20,
    "start_time": "2022-01-18T13:16:02.603Z"
   },
   {
    "duration": 4040,
    "start_time": "2022-01-18T13:16:26.785Z"
   },
   {
    "duration": 3929,
    "start_time": "2022-01-18T13:26:49.073Z"
   },
   {
    "duration": 1225,
    "start_time": "2022-01-18T13:36:51.802Z"
   },
   {
    "duration": 7743,
    "start_time": "2022-01-18T13:37:14.994Z"
   },
   {
    "duration": 311,
    "start_time": "2022-01-18T13:37:32.644Z"
   },
   {
    "duration": 4201,
    "start_time": "2022-01-18T13:38:15.474Z"
   },
   {
    "duration": 19,
    "start_time": "2022-01-18T13:38:38.325Z"
   },
   {
    "duration": 324,
    "start_time": "2022-01-18T13:40:51.032Z"
   },
   {
    "duration": 23,
    "start_time": "2022-01-18T13:41:04.204Z"
   },
   {
    "duration": 23,
    "start_time": "2022-01-18T13:41:38.726Z"
   },
   {
    "duration": 30,
    "start_time": "2022-01-18T13:44:21.465Z"
   },
   {
    "duration": 7,
    "start_time": "2022-01-18T14:01:03.558Z"
   },
   {
    "duration": 6,
    "start_time": "2022-01-18T14:05:16.141Z"
   },
   {
    "duration": 11,
    "start_time": "2022-01-18T14:05:22.159Z"
   },
   {
    "duration": 6,
    "start_time": "2022-01-18T14:08:19.303Z"
   },
   {
    "duration": 320,
    "start_time": "2022-01-18T14:08:56.740Z"
   },
   {
    "duration": 8458,
    "start_time": "2022-01-18T14:09:25.941Z"
   },
   {
    "duration": 6,
    "start_time": "2022-01-18T14:09:57.009Z"
   },
   {
    "duration": 369,
    "start_time": "2022-01-18T14:11:09.540Z"
   },
   {
    "duration": 10,
    "start_time": "2022-01-18T14:11:17.491Z"
   },
   {
    "duration": 10,
    "start_time": "2022-01-18T14:11:26.909Z"
   },
   {
    "duration": 28,
    "start_time": "2022-01-18T14:12:31.709Z"
   },
   {
    "duration": 26,
    "start_time": "2022-01-18T14:12:59.150Z"
   },
   {
    "duration": 21,
    "start_time": "2022-01-18T14:13:55.815Z"
   },
   {
    "duration": 19,
    "start_time": "2022-01-18T14:14:19.189Z"
   },
   {
    "duration": 139,
    "start_time": "2022-01-18T14:14:23.792Z"
   },
   {
    "duration": 126,
    "start_time": "2022-01-18T14:14:33.949Z"
   },
   {
    "duration": 146,
    "start_time": "2022-01-18T14:14:43.368Z"
   },
   {
    "duration": 138,
    "start_time": "2022-01-18T14:14:53.220Z"
   },
   {
    "duration": 130,
    "start_time": "2022-01-18T14:15:14.019Z"
   },
   {
    "duration": 422,
    "start_time": "2022-01-18T14:15:19.136Z"
   },
   {
    "duration": 21,
    "start_time": "2022-01-18T14:15:27.373Z"
   },
   {
    "duration": 73,
    "start_time": "2022-01-18T14:15:30.660Z"
   },
   {
    "duration": 71,
    "start_time": "2022-01-18T14:15:38.810Z"
   },
   {
    "duration": 5,
    "start_time": "2022-01-18T14:16:01.431Z"
   },
   {
    "duration": 8,
    "start_time": "2022-01-18T14:16:08.831Z"
   },
   {
    "duration": 9,
    "start_time": "2022-01-18T14:16:42.094Z"
   },
   {
    "duration": 6,
    "start_time": "2022-01-18T14:20:50.711Z"
   },
   {
    "duration": 384,
    "start_time": "2022-01-18T14:21:06.065Z"
   },
   {
    "duration": 6,
    "start_time": "2022-01-18T14:21:10.286Z"
   },
   {
    "duration": 6,
    "start_time": "2022-01-18T14:21:28.537Z"
   },
   {
    "duration": 6,
    "start_time": "2022-01-18T14:21:32.607Z"
   },
   {
    "duration": 9,
    "start_time": "2022-01-18T14:21:42.747Z"
   },
   {
    "duration": 12,
    "start_time": "2022-01-18T14:21:53.066Z"
   },
   {
    "duration": 13,
    "start_time": "2022-01-18T14:26:41.953Z"
   },
   {
    "duration": 7961,
    "start_time": "2022-01-18T14:26:58.323Z"
   },
   {
    "duration": 3136,
    "start_time": "2022-01-18T14:28:59.272Z"
   },
   {
    "duration": 11,
    "start_time": "2022-01-18T14:29:27.765Z"
   },
   {
    "duration": 11,
    "start_time": "2022-01-18T14:30:51.382Z"
   },
   {
    "duration": 16,
    "start_time": "2022-01-18T14:30:58.043Z"
   },
   {
    "duration": 99,
    "start_time": "2022-01-18T14:33:30.123Z"
   },
   {
    "duration": 19,
    "start_time": "2022-01-18T14:33:33.152Z"
   },
   {
    "duration": 20,
    "start_time": "2022-01-18T14:33:54.863Z"
   },
   {
    "duration": 7,
    "start_time": "2022-01-18T14:34:11.622Z"
   },
   {
    "duration": 14,
    "start_time": "2022-01-18T14:35:39.673Z"
   },
   {
    "duration": 913,
    "start_time": "2022-01-18T18:34:58.510Z"
   },
   {
    "duration": 4,
    "start_time": "2022-01-18T18:34:59.426Z"
   },
   {
    "duration": 69,
    "start_time": "2022-01-18T18:34:59.436Z"
   },
   {
    "duration": 26,
    "start_time": "2022-01-18T18:34:59.510Z"
   },
   {
    "duration": 16,
    "start_time": "2022-01-18T18:34:59.568Z"
   },
   {
    "duration": 7,
    "start_time": "2022-01-18T18:34:59.588Z"
   },
   {
    "duration": 12,
    "start_time": "2022-01-18T18:34:59.598Z"
   },
   {
    "duration": 57,
    "start_time": "2022-01-18T18:34:59.613Z"
   },
   {
    "duration": 6,
    "start_time": "2022-01-18T18:34:59.673Z"
   },
   {
    "duration": 17,
    "start_time": "2022-01-18T18:34:59.681Z"
   },
   {
    "duration": 20,
    "start_time": "2022-01-18T18:34:59.701Z"
   },
   {
    "duration": 61,
    "start_time": "2022-01-18T18:34:59.724Z"
   },
   {
    "duration": 687,
    "start_time": "2022-01-18T18:34:59.787Z"
   },
   {
    "duration": 7,
    "start_time": "2022-01-18T18:35:00.476Z"
   },
   {
    "duration": 697,
    "start_time": "2022-01-18T18:35:00.485Z"
   },
   {
    "duration": 22,
    "start_time": "2022-01-18T18:35:01.185Z"
   },
   {
    "duration": 25,
    "start_time": "2022-01-18T18:35:01.210Z"
   },
   {
    "duration": 2350,
    "start_time": "2022-01-18T18:35:01.271Z"
   },
   {
    "duration": 150,
    "start_time": "2022-01-18T18:35:03.623Z"
   },
   {
    "duration": 32,
    "start_time": "2022-01-18T18:35:03.775Z"
   },
   {
    "duration": 74,
    "start_time": "2022-01-18T18:35:03.814Z"
   },
   {
    "duration": 398,
    "start_time": "2022-01-18T18:37:27.920Z"
   },
   {
    "duration": 5,
    "start_time": "2022-01-18T18:37:33.186Z"
   },
   {
    "duration": 19,
    "start_time": "2022-01-18T18:37:33.194Z"
   },
   {
    "duration": 53,
    "start_time": "2022-01-18T18:37:33.216Z"
   },
   {
    "duration": 25,
    "start_time": "2022-01-18T18:37:33.273Z"
   },
   {
    "duration": 16,
    "start_time": "2022-01-18T18:37:33.300Z"
   },
   {
    "duration": 6,
    "start_time": "2022-01-18T18:37:33.318Z"
   },
   {
    "duration": 59,
    "start_time": "2022-01-18T18:37:33.326Z"
   },
   {
    "duration": 14,
    "start_time": "2022-01-18T18:37:33.388Z"
   },
   {
    "duration": 17,
    "start_time": "2022-01-18T18:37:33.406Z"
   },
   {
    "duration": 12,
    "start_time": "2022-01-18T18:37:33.426Z"
   },
   {
    "duration": 49,
    "start_time": "2022-01-18T18:37:33.441Z"
   },
   {
    "duration": 26,
    "start_time": "2022-01-18T18:37:33.493Z"
   },
   {
    "duration": 756,
    "start_time": "2022-01-18T18:37:33.521Z"
   },
   {
    "duration": 8,
    "start_time": "2022-01-18T18:37:34.280Z"
   },
   {
    "duration": 798,
    "start_time": "2022-01-18T18:37:34.291Z"
   },
   {
    "duration": 24,
    "start_time": "2022-01-18T18:37:35.092Z"
   },
   {
    "duration": 54,
    "start_time": "2022-01-18T18:37:35.118Z"
   },
   {
    "duration": 2502,
    "start_time": "2022-01-18T18:37:35.174Z"
   },
   {
    "duration": 151,
    "start_time": "2022-01-18T18:37:37.678Z"
   },
   {
    "duration": 57,
    "start_time": "2022-01-18T18:37:37.831Z"
   },
   {
    "duration": 302,
    "start_time": "2022-01-18T18:37:37.891Z"
   },
   {
    "duration": 28,
    "start_time": "2022-01-18T18:40:57.283Z"
   },
   {
    "duration": 1102,
    "start_time": "2022-01-18T18:41:04.059Z"
   },
   {
    "duration": 25,
    "start_time": "2022-01-18T18:42:00.734Z"
   },
   {
    "duration": 38,
    "start_time": "2022-01-18T18:43:06.477Z"
   },
   {
    "duration": 26,
    "start_time": "2022-01-18T18:43:31.722Z"
   },
   {
    "duration": 27,
    "start_time": "2022-01-18T18:43:35.442Z"
   },
   {
    "duration": 4,
    "start_time": "2022-01-18T18:44:28.474Z"
   },
   {
    "duration": 7,
    "start_time": "2022-01-18T18:44:28.482Z"
   },
   {
    "duration": 76,
    "start_time": "2022-01-18T18:44:28.494Z"
   },
   {
    "duration": 25,
    "start_time": "2022-01-18T18:44:28.573Z"
   },
   {
    "duration": 15,
    "start_time": "2022-01-18T18:44:28.601Z"
   },
   {
    "duration": 7,
    "start_time": "2022-01-18T18:44:28.618Z"
   },
   {
    "duration": 53,
    "start_time": "2022-01-18T18:44:28.627Z"
   },
   {
    "duration": 14,
    "start_time": "2022-01-18T18:44:28.683Z"
   },
   {
    "duration": 6,
    "start_time": "2022-01-18T18:44:28.701Z"
   },
   {
    "duration": 8,
    "start_time": "2022-01-18T18:44:28.710Z"
   },
   {
    "duration": 65,
    "start_time": "2022-01-18T18:44:28.721Z"
   },
   {
    "duration": 30,
    "start_time": "2022-01-18T18:44:28.789Z"
   },
   {
    "duration": 744,
    "start_time": "2022-01-18T18:44:28.822Z"
   },
   {
    "duration": 9,
    "start_time": "2022-01-18T18:44:29.569Z"
   },
   {
    "duration": 937,
    "start_time": "2022-01-18T18:44:29.585Z"
   },
   {
    "duration": 22,
    "start_time": "2022-01-18T18:44:30.525Z"
   },
   {
    "duration": 29,
    "start_time": "2022-01-18T18:44:30.570Z"
   },
   {
    "duration": 2391,
    "start_time": "2022-01-18T18:44:30.602Z"
   },
   {
    "duration": 145,
    "start_time": "2022-01-18T18:44:32.995Z"
   },
   {
    "duration": 52,
    "start_time": "2022-01-18T18:44:33.143Z"
   },
   {
    "duration": 27,
    "start_time": "2022-01-18T18:44:33.198Z"
   },
   {
    "duration": 29,
    "start_time": "2022-01-18T18:44:47.654Z"
   },
   {
    "duration": 13,
    "start_time": "2022-01-18T18:47:10.708Z"
   },
   {
    "duration": 22,
    "start_time": "2022-01-18T18:47:21.627Z"
   },
   {
    "duration": 17,
    "start_time": "2022-01-18T18:47:27.611Z"
   },
   {
    "duration": 27,
    "start_time": "2022-01-18T18:47:53.253Z"
   },
   {
    "duration": 7,
    "start_time": "2022-01-18T18:47:57.921Z"
   },
   {
    "duration": 22,
    "start_time": "2022-01-18T18:48:06.293Z"
   },
   {
    "duration": 15,
    "start_time": "2022-01-18T18:48:09.184Z"
   },
   {
    "duration": 467,
    "start_time": "2022-01-18T18:48:20.322Z"
   },
   {
    "duration": 31,
    "start_time": "2022-01-18T18:48:24.166Z"
   },
   {
    "duration": 18,
    "start_time": "2022-01-18T18:48:26.165Z"
   },
   {
    "duration": 269,
    "start_time": "2022-01-18T18:48:53.355Z"
   },
   {
    "duration": 15,
    "start_time": "2022-01-18T18:49:02.128Z"
   },
   {
    "duration": 9,
    "start_time": "2022-01-18T18:49:23.458Z"
   },
   {
    "duration": 17,
    "start_time": "2022-01-18T18:49:26.788Z"
   },
   {
    "duration": 30,
    "start_time": "2022-01-18T18:49:52.851Z"
   },
   {
    "duration": 15,
    "start_time": "2022-01-18T18:49:53.560Z"
   },
   {
    "duration": 252,
    "start_time": "2022-01-18T18:51:50.512Z"
   },
   {
    "duration": 15,
    "start_time": "2022-01-18T18:52:00.686Z"
   },
   {
    "duration": 273,
    "start_time": "2022-01-18T18:52:19.661Z"
   },
   {
    "duration": 16,
    "start_time": "2022-01-18T18:52:35.891Z"
   },
   {
    "duration": 5,
    "start_time": "2022-01-18T18:52:49.301Z"
   },
   {
    "duration": 4,
    "start_time": "2022-01-18T18:53:01.156Z"
   },
   {
    "duration": 51,
    "start_time": "2022-01-18T18:53:01.163Z"
   },
   {
    "duration": 67,
    "start_time": "2022-01-18T18:53:01.218Z"
   },
   {
    "duration": 23,
    "start_time": "2022-01-18T18:53:01.288Z"
   },
   {
    "duration": 41,
    "start_time": "2022-01-18T18:53:01.313Z"
   },
   {
    "duration": 24,
    "start_time": "2022-01-18T18:53:01.357Z"
   },
   {
    "duration": 35,
    "start_time": "2022-01-18T18:53:01.384Z"
   },
   {
    "duration": 42,
    "start_time": "2022-01-18T18:53:01.422Z"
   },
   {
    "duration": 38,
    "start_time": "2022-01-18T18:53:01.468Z"
   },
   {
    "duration": 41,
    "start_time": "2022-01-18T18:53:01.511Z"
   },
   {
    "duration": 30,
    "start_time": "2022-01-18T18:53:01.554Z"
   },
   {
    "duration": 38,
    "start_time": "2022-01-18T18:53:01.587Z"
   },
   {
    "duration": 714,
    "start_time": "2022-01-18T18:53:01.628Z"
   },
   {
    "duration": 6,
    "start_time": "2022-01-18T18:53:02.345Z"
   },
   {
    "duration": 814,
    "start_time": "2022-01-18T18:53:02.369Z"
   },
   {
    "duration": 23,
    "start_time": "2022-01-18T18:53:03.186Z"
   },
   {
    "duration": 23,
    "start_time": "2022-01-18T18:53:03.211Z"
   },
   {
    "duration": 2308,
    "start_time": "2022-01-18T18:53:03.271Z"
   },
   {
    "duration": 160,
    "start_time": "2022-01-18T18:53:05.582Z"
   },
   {
    "duration": 53,
    "start_time": "2022-01-18T18:53:05.746Z"
   },
   {
    "duration": 25,
    "start_time": "2022-01-18T18:53:05.802Z"
   },
   {
    "duration": 273,
    "start_time": "2022-01-18T18:53:05.830Z"
   },
   {
    "duration": 25,
    "start_time": "2022-01-18T18:53:19.158Z"
   },
   {
    "duration": 33,
    "start_time": "2022-01-18T18:53:42.423Z"
   },
   {
    "duration": 12,
    "start_time": "2022-01-18T18:54:15.809Z"
   },
   {
    "duration": 10,
    "start_time": "2022-01-18T18:54:40.295Z"
   },
   {
    "duration": 33,
    "start_time": "2022-01-18T18:55:10.338Z"
   },
   {
    "duration": 32,
    "start_time": "2022-01-18T18:56:04.010Z"
   },
   {
    "duration": 353,
    "start_time": "2022-01-18T18:58:17.943Z"
   },
   {
    "duration": 32,
    "start_time": "2022-01-18T18:58:33.592Z"
   },
   {
    "duration": 17,
    "start_time": "2022-01-18T18:58:39.113Z"
   },
   {
    "duration": 7,
    "start_time": "2022-01-18T18:59:44.664Z"
   },
   {
    "duration": 12,
    "start_time": "2022-01-18T18:59:55.568Z"
   },
   {
    "duration": 6,
    "start_time": "2022-01-18T18:59:59.857Z"
   },
   {
    "duration": 421,
    "start_time": "2022-01-18T19:00:41.171Z"
   },
   {
    "duration": 405,
    "start_time": "2022-01-18T19:00:48.889Z"
   },
   {
    "duration": 8,
    "start_time": "2022-01-18T19:03:09.205Z"
   },
   {
    "duration": 131,
    "start_time": "2022-01-18T19:03:33.305Z"
   },
   {
    "duration": 128,
    "start_time": "2022-01-18T19:03:45.143Z"
   },
   {
    "duration": 31,
    "start_time": "2022-01-18T19:13:10.756Z"
   },
   {
    "duration": 46,
    "start_time": "2022-01-18T19:17:44.155Z"
   },
   {
    "duration": 43,
    "start_time": "2022-01-18T19:17:55.627Z"
   },
   {
    "duration": 105,
    "start_time": "2022-01-18T19:18:31.748Z"
   },
   {
    "duration": 6,
    "start_time": "2022-01-18T19:18:47.209Z"
   },
   {
    "duration": 6,
    "start_time": "2022-01-18T19:19:00.819Z"
   },
   {
    "duration": 5,
    "start_time": "2022-01-18T19:19:09.647Z"
   },
   {
    "duration": 9,
    "start_time": "2022-01-18T19:28:11.618Z"
   },
   {
    "duration": 8,
    "start_time": "2022-01-18T19:28:17.119Z"
   },
   {
    "duration": 537,
    "start_time": "2022-01-18T19:28:28.381Z"
   },
   {
    "duration": 23,
    "start_time": "2022-01-18T19:30:10.601Z"
   },
   {
    "duration": 26,
    "start_time": "2022-01-18T19:30:25.767Z"
   },
   {
    "duration": 4,
    "start_time": "2022-01-18T19:30:34.756Z"
   },
   {
    "duration": 8,
    "start_time": "2022-01-18T19:30:34.764Z"
   },
   {
    "duration": 55,
    "start_time": "2022-01-18T19:30:34.776Z"
   },
   {
    "duration": 36,
    "start_time": "2022-01-18T19:30:34.833Z"
   },
   {
    "duration": 14,
    "start_time": "2022-01-18T19:30:34.872Z"
   },
   {
    "duration": 6,
    "start_time": "2022-01-18T19:30:34.888Z"
   },
   {
    "duration": 13,
    "start_time": "2022-01-18T19:30:34.897Z"
   },
   {
    "duration": 56,
    "start_time": "2022-01-18T19:30:34.913Z"
   },
   {
    "duration": 6,
    "start_time": "2022-01-18T19:30:34.973Z"
   },
   {
    "duration": 8,
    "start_time": "2022-01-18T19:30:34.982Z"
   },
   {
    "duration": 14,
    "start_time": "2022-01-18T19:30:34.993Z"
   },
   {
    "duration": 74,
    "start_time": "2022-01-18T19:30:35.010Z"
   },
   {
    "duration": 785,
    "start_time": "2022-01-18T19:30:35.087Z"
   },
   {
    "duration": 11,
    "start_time": "2022-01-18T19:30:35.874Z"
   },
   {
    "duration": 8,
    "start_time": "2022-01-18T19:30:35.887Z"
   },
   {
    "duration": 825,
    "start_time": "2022-01-18T19:30:35.897Z"
   },
   {
    "duration": 23,
    "start_time": "2022-01-18T19:30:36.724Z"
   },
   {
    "duration": 26,
    "start_time": "2022-01-18T19:30:36.769Z"
   },
   {
    "duration": 2862,
    "start_time": "2022-01-18T19:30:36.798Z"
   },
   {
    "duration": 155,
    "start_time": "2022-01-18T19:30:39.663Z"
   },
   {
    "duration": 50,
    "start_time": "2022-01-18T19:30:39.821Z"
   },
   {
    "duration": 46,
    "start_time": "2022-01-18T19:30:39.874Z"
   },
   {
    "duration": 5,
    "start_time": "2022-01-18T19:30:39.923Z"
   },
   {
    "duration": 109,
    "start_time": "2022-01-18T19:31:56.195Z"
   },
   {
    "duration": 29,
    "start_time": "2022-01-18T19:32:05.907Z"
   },
   {
    "duration": 56,
    "start_time": "2022-01-18T19:32:27.954Z"
   },
   {
    "duration": 6,
    "start_time": "2022-01-18T19:32:30.885Z"
   },
   {
    "duration": 6,
    "start_time": "2022-01-18T19:36:30.807Z"
   },
   {
    "duration": 53,
    "start_time": "2022-01-18T19:48:50.282Z"
   },
   {
    "duration": 9,
    "start_time": "2022-01-18T19:49:03.479Z"
   },
   {
    "duration": 7,
    "start_time": "2022-01-18T19:49:42.541Z"
   },
   {
    "duration": 6,
    "start_time": "2022-01-18T19:49:46.086Z"
   },
   {
    "duration": 22,
    "start_time": "2022-01-18T19:51:28.029Z"
   },
   {
    "duration": 1029,
    "start_time": "2022-01-18T19:52:55.827Z"
   },
   {
    "duration": 98,
    "start_time": "2022-01-18T19:53:07.808Z"
   },
   {
    "duration": 36895,
    "start_time": "2022-01-18T19:54:01.020Z"
   },
   {
    "duration": 25,
    "start_time": "2022-01-18T19:55:13.978Z"
   },
   {
    "duration": 988,
    "start_time": "2022-01-18T19:55:22.414Z"
   },
   {
    "duration": 23,
    "start_time": "2022-01-18T19:56:41.613Z"
   },
   {
    "duration": 21,
    "start_time": "2022-01-18T19:57:06.159Z"
   },
   {
    "duration": 32,
    "start_time": "2022-01-18T20:02:23.848Z"
   },
   {
    "duration": 34,
    "start_time": "2022-01-18T20:02:36.471Z"
   },
   {
    "duration": 9,
    "start_time": "2022-01-18T20:05:31.660Z"
   },
   {
    "duration": 7,
    "start_time": "2022-01-18T20:05:32.710Z"
   },
   {
    "duration": 32,
    "start_time": "2022-01-18T20:05:34.321Z"
   },
   {
    "duration": 28,
    "start_time": "2022-01-18T20:10:25.379Z"
   },
   {
    "duration": 27,
    "start_time": "2022-01-18T20:10:48.850Z"
   },
   {
    "duration": 24,
    "start_time": "2022-01-18T20:13:21.353Z"
   },
   {
    "duration": 28,
    "start_time": "2022-01-18T20:13:26.975Z"
   },
   {
    "duration": 6,
    "start_time": "2022-01-18T20:14:58.357Z"
   },
   {
    "duration": 12,
    "start_time": "2022-01-18T20:15:03.847Z"
   },
   {
    "duration": 6,
    "start_time": "2022-01-18T20:15:37.302Z"
   },
   {
    "duration": 13,
    "start_time": "2022-01-18T20:15:41.694Z"
   },
   {
    "duration": 31,
    "start_time": "2022-01-18T20:16:50.496Z"
   },
   {
    "duration": 14,
    "start_time": "2022-01-18T20:16:54.149Z"
   },
   {
    "duration": 95,
    "start_time": "2022-01-18T20:17:12.237Z"
   },
   {
    "duration": 14,
    "start_time": "2022-01-18T20:17:42.809Z"
   },
   {
    "duration": 13,
    "start_time": "2022-01-18T20:17:59.515Z"
   },
   {
    "duration": 318,
    "start_time": "2022-01-18T20:18:09.937Z"
   },
   {
    "duration": 31,
    "start_time": "2022-01-18T20:19:22.356Z"
   },
   {
    "duration": 31,
    "start_time": "2022-01-18T20:21:53.217Z"
   },
   {
    "duration": 41,
    "start_time": "2022-01-18T20:22:00.923Z"
   },
   {
    "duration": 19,
    "start_time": "2022-01-18T20:22:07.653Z"
   },
   {
    "duration": 23,
    "start_time": "2022-01-18T20:22:47.176Z"
   },
   {
    "duration": 2083,
    "start_time": "2022-01-18T20:23:40.580Z"
   },
   {
    "duration": 2448,
    "start_time": "2022-01-18T20:24:25.057Z"
   },
   {
    "duration": 23,
    "start_time": "2022-01-18T20:36:37.990Z"
   },
   {
    "duration": 21,
    "start_time": "2022-01-18T20:36:47.569Z"
   },
   {
    "duration": 37,
    "start_time": "2022-01-18T20:37:47.331Z"
   },
   {
    "duration": 371,
    "start_time": "2022-01-18T20:44:24.956Z"
   },
   {
    "duration": 32,
    "start_time": "2022-01-18T20:46:55.731Z"
   },
   {
    "duration": 6,
    "start_time": "2022-01-18T20:47:03.006Z"
   },
   {
    "duration": 445,
    "start_time": "2022-01-18T20:47:32.466Z"
   },
   {
    "duration": 417,
    "start_time": "2022-01-18T20:47:54.912Z"
   },
   {
    "duration": 440,
    "start_time": "2022-01-18T20:48:15.039Z"
   },
   {
    "duration": 441,
    "start_time": "2022-01-18T20:48:31.358Z"
   },
   {
    "duration": 311,
    "start_time": "2022-01-18T20:48:47.457Z"
   },
   {
    "duration": 330,
    "start_time": "2022-01-18T20:49:21.584Z"
   },
   {
    "duration": 236,
    "start_time": "2022-01-18T20:49:45.117Z"
   },
   {
    "duration": 364,
    "start_time": "2022-01-18T20:50:14.761Z"
   },
   {
    "duration": 9,
    "start_time": "2022-01-18T20:50:44.980Z"
   },
   {
    "duration": 9,
    "start_time": "2022-01-18T20:50:59.061Z"
   },
   {
    "duration": 9,
    "start_time": "2022-01-18T20:51:06.572Z"
   },
   {
    "duration": 352,
    "start_time": "2022-01-18T20:52:00.478Z"
   },
   {
    "duration": 35,
    "start_time": "2022-01-18T20:52:41.970Z"
   },
   {
    "duration": 18,
    "start_time": "2022-01-18T20:54:17.225Z"
   },
   {
    "duration": 12,
    "start_time": "2022-01-18T20:54:47.188Z"
   },
   {
    "duration": 372,
    "start_time": "2022-01-18T20:55:10.352Z"
   },
   {
    "duration": 351,
    "start_time": "2022-01-18T20:55:30.205Z"
   },
   {
    "duration": 350,
    "start_time": "2022-01-18T20:55:44.825Z"
   },
   {
    "duration": 288,
    "start_time": "2022-01-18T20:59:52.660Z"
   },
   {
    "duration": 310,
    "start_time": "2022-01-18T21:00:00.957Z"
   },
   {
    "duration": 303,
    "start_time": "2022-01-18T21:00:35.011Z"
   },
   {
    "duration": 39,
    "start_time": "2022-01-18T21:00:45.651Z"
   },
   {
    "duration": 268,
    "start_time": "2022-01-18T21:01:27.389Z"
   },
   {
    "duration": 321,
    "start_time": "2022-01-18T21:01:44.204Z"
   },
   {
    "duration": 10,
    "start_time": "2022-01-18T21:01:50.813Z"
   },
   {
    "duration": 11,
    "start_time": "2022-01-18T21:02:13.278Z"
   },
   {
    "duration": 11,
    "start_time": "2022-01-18T21:02:25.063Z"
   },
   {
    "duration": 286,
    "start_time": "2022-01-18T21:03:33.018Z"
   },
   {
    "duration": 391,
    "start_time": "2022-01-18T21:03:48.481Z"
   },
   {
    "duration": 422,
    "start_time": "2022-01-18T21:04:00.139Z"
   },
   {
    "duration": 434,
    "start_time": "2022-01-18T21:04:05.959Z"
   },
   {
    "duration": 421,
    "start_time": "2022-01-18T21:04:54.678Z"
   },
   {
    "duration": 11,
    "start_time": "2022-01-18T21:05:28.402Z"
   },
   {
    "duration": 12,
    "start_time": "2022-01-18T21:05:30.515Z"
   },
   {
    "duration": 508,
    "start_time": "2022-01-18T21:05:34.915Z"
   },
   {
    "duration": 435,
    "start_time": "2022-01-18T21:05:37.748Z"
   },
   {
    "duration": 11,
    "start_time": "2022-01-18T21:05:59.578Z"
   },
   {
    "duration": 11,
    "start_time": "2022-01-18T21:06:00.265Z"
   },
   {
    "duration": 420,
    "start_time": "2022-01-18T21:06:01.445Z"
   },
   {
    "duration": 397,
    "start_time": "2022-01-18T21:06:03.592Z"
   },
   {
    "duration": 11,
    "start_time": "2022-01-18T21:06:28.281Z"
   },
   {
    "duration": 10,
    "start_time": "2022-01-18T21:06:29.175Z"
   },
   {
    "duration": 389,
    "start_time": "2022-01-18T21:06:29.676Z"
   },
   {
    "duration": 413,
    "start_time": "2022-01-18T21:06:30.819Z"
   },
   {
    "duration": 20,
    "start_time": "2022-01-18T21:14:05.040Z"
   },
   {
    "duration": 85,
    "start_time": "2022-01-18T21:14:29.746Z"
   },
   {
    "duration": 20,
    "start_time": "2022-01-18T21:14:40.591Z"
   },
   {
    "duration": 383,
    "start_time": "2022-01-18T21:15:15.918Z"
   },
   {
    "duration": 498,
    "start_time": "2022-01-18T21:15:35.820Z"
   },
   {
    "duration": 1956,
    "start_time": "2022-01-18T21:15:41.003Z"
   },
   {
    "duration": 455,
    "start_time": "2022-01-18T21:15:48.938Z"
   },
   {
    "duration": 454,
    "start_time": "2022-01-18T21:15:58.331Z"
   },
   {
    "duration": 553,
    "start_time": "2022-01-18T21:16:04.550Z"
   },
   {
    "duration": 456,
    "start_time": "2022-01-18T21:16:10.485Z"
   },
   {
    "duration": 9,
    "start_time": "2022-01-18T21:19:30.534Z"
   },
   {
    "duration": 10,
    "start_time": "2022-01-18T21:19:42.798Z"
   },
   {
    "duration": 10,
    "start_time": "2022-01-18T21:19:55.444Z"
   },
   {
    "duration": 10,
    "start_time": "2022-01-18T21:20:06.870Z"
   },
   {
    "duration": 10,
    "start_time": "2022-01-18T21:20:17.033Z"
   },
   {
    "duration": 11,
    "start_time": "2022-01-18T21:20:32.932Z"
   },
   {
    "duration": 11,
    "start_time": "2022-01-18T21:21:30.031Z"
   },
   {
    "duration": 10,
    "start_time": "2022-01-18T21:21:39.880Z"
   },
   {
    "duration": 10,
    "start_time": "2022-01-18T21:21:49.468Z"
   },
   {
    "duration": 10,
    "start_time": "2022-01-18T21:23:38.761Z"
   },
   {
    "duration": 10,
    "start_time": "2022-01-18T21:24:29.862Z"
   },
   {
    "duration": 884,
    "start_time": "2022-01-19T07:04:13.910Z"
   },
   {
    "duration": 3,
    "start_time": "2022-01-19T07:04:14.797Z"
   },
   {
    "duration": 52,
    "start_time": "2022-01-19T07:04:14.803Z"
   },
   {
    "duration": 25,
    "start_time": "2022-01-19T07:04:14.857Z"
   },
   {
    "duration": 16,
    "start_time": "2022-01-19T07:04:14.884Z"
   },
   {
    "duration": 7,
    "start_time": "2022-01-19T07:04:14.922Z"
   },
   {
    "duration": 15,
    "start_time": "2022-01-19T07:04:14.931Z"
   },
   {
    "duration": 10,
    "start_time": "2022-01-19T07:04:14.951Z"
   },
   {
    "duration": 7,
    "start_time": "2022-01-19T07:04:14.964Z"
   },
   {
    "duration": 50,
    "start_time": "2022-01-19T07:04:14.973Z"
   },
   {
    "duration": 14,
    "start_time": "2022-01-19T07:04:15.026Z"
   },
   {
    "duration": 28,
    "start_time": "2022-01-19T07:04:15.042Z"
   },
   {
    "duration": 682,
    "start_time": "2022-01-19T07:04:15.073Z"
   },
   {
    "duration": 10,
    "start_time": "2022-01-19T07:04:15.757Z"
   },
   {
    "duration": 6,
    "start_time": "2022-01-19T07:04:15.770Z"
   },
   {
    "duration": 549,
    "start_time": "2022-01-19T07:04:15.779Z"
   },
   {
    "duration": 21,
    "start_time": "2022-01-19T07:04:16.331Z"
   },
   {
    "duration": 26,
    "start_time": "2022-01-19T07:04:16.354Z"
   },
   {
    "duration": 2723,
    "start_time": "2022-01-19T07:04:16.383Z"
   },
   {
    "duration": 114,
    "start_time": "2022-01-19T07:04:19.109Z"
   },
   {
    "duration": 29,
    "start_time": "2022-01-19T07:04:19.226Z"
   },
   {
    "duration": 67,
    "start_time": "2022-01-19T07:04:19.257Z"
   },
   {
    "duration": 5,
    "start_time": "2022-01-19T07:04:19.330Z"
   },
   {
    "duration": 13,
    "start_time": "2022-01-19T07:04:19.338Z"
   },
   {
    "duration": 7,
    "start_time": "2022-01-19T07:04:19.353Z"
   },
   {
    "duration": 20,
    "start_time": "2022-01-19T07:04:19.362Z"
   },
   {
    "duration": 69,
    "start_time": "2022-01-19T07:04:19.384Z"
   },
   {
    "duration": 1935,
    "start_time": "2022-01-19T07:04:19.455Z"
   },
   {
    "duration": 6,
    "start_time": "2022-01-19T07:04:21.393Z"
   },
   {
    "duration": 376,
    "start_time": "2022-01-19T07:04:21.402Z"
   },
   {
    "duration": 469,
    "start_time": "2022-01-19T07:04:21.781Z"
   },
   {
    "duration": 375,
    "start_time": "2022-01-19T07:04:22.252Z"
   },
   {
    "duration": 11,
    "start_time": "2022-01-19T07:04:22.629Z"
   },
   {
    "duration": 12,
    "start_time": "2022-01-19T07:04:22.642Z"
   },
   {
    "duration": 470,
    "start_time": "2022-01-19T07:04:22.656Z"
   },
   {
    "duration": 495,
    "start_time": "2022-01-19T07:04:23.128Z"
   },
   {
    "duration": 460,
    "start_time": "2022-01-19T07:04:23.625Z"
   },
   {
    "duration": 11,
    "start_time": "2022-01-19T07:04:24.087Z"
   },
   {
    "duration": 32,
    "start_time": "2022-01-19T07:04:24.101Z"
   },
   {
    "duration": 12,
    "start_time": "2022-01-19T07:04:24.136Z"
   },
   {
    "duration": 11,
    "start_time": "2022-01-19T07:04:24.151Z"
   },
   {
    "duration": 9,
    "start_time": "2022-01-19T07:04:24.165Z"
   },
   {
    "duration": 54,
    "start_time": "2022-01-19T07:04:24.177Z"
   },
   {
    "duration": 11,
    "start_time": "2022-01-19T07:04:24.234Z"
   },
   {
    "duration": 9724,
    "start_time": "2022-01-19T07:09:21.171Z"
   },
   {
    "duration": 327,
    "start_time": "2022-01-19T07:11:55.813Z"
   },
   {
    "duration": 567,
    "start_time": "2022-01-19T07:15:21.002Z"
   },
   {
    "duration": 332,
    "start_time": "2022-01-19T07:17:54.455Z"
   },
   {
    "duration": 304,
    "start_time": "2022-01-19T07:18:03.436Z"
   },
   {
    "duration": 543,
    "start_time": "2022-01-19T07:18:12.821Z"
   },
   {
    "duration": 606,
    "start_time": "2022-01-19T07:18:56.240Z"
   },
   {
    "duration": 510,
    "start_time": "2022-01-19T07:20:47.088Z"
   },
   {
    "duration": 610,
    "start_time": "2022-01-19T07:20:51.240Z"
   },
   {
    "duration": 540,
    "start_time": "2022-01-19T07:24:06.429Z"
   },
   {
    "duration": 721,
    "start_time": "2022-01-19T07:24:12.820Z"
   },
   {
    "duration": 777,
    "start_time": "2022-01-19T07:24:51.500Z"
   },
   {
    "duration": 493,
    "start_time": "2022-01-19T07:24:59.081Z"
   },
   {
    "duration": 518,
    "start_time": "2022-01-19T07:26:10.849Z"
   },
   {
    "duration": 638,
    "start_time": "2022-01-19T07:26:18.285Z"
   },
   {
    "duration": 449,
    "start_time": "2022-01-19T07:28:48.110Z"
   },
   {
    "duration": 947,
    "start_time": "2022-01-19T07:29:57.842Z"
   },
   {
    "duration": 782,
    "start_time": "2022-01-19T07:30:15.170Z"
   },
   {
    "duration": 573,
    "start_time": "2022-01-19T07:30:22.113Z"
   },
   {
    "duration": 594,
    "start_time": "2022-01-19T07:30:37.302Z"
   },
   {
    "duration": 563,
    "start_time": "2022-01-19T07:30:40.969Z"
   },
   {
    "duration": 576,
    "start_time": "2022-01-19T07:33:01.480Z"
   },
   {
    "duration": 5,
    "start_time": "2022-01-19T07:33:05.722Z"
   },
   {
    "duration": 11,
    "start_time": "2022-01-19T07:33:05.731Z"
   },
   {
    "duration": 89,
    "start_time": "2022-01-19T07:33:05.746Z"
   },
   {
    "duration": 21,
    "start_time": "2022-01-19T07:33:05.839Z"
   },
   {
    "duration": 23,
    "start_time": "2022-01-19T07:33:05.862Z"
   },
   {
    "duration": 7,
    "start_time": "2022-01-19T07:33:05.887Z"
   },
   {
    "duration": 34,
    "start_time": "2022-01-19T07:33:05.896Z"
   },
   {
    "duration": 11,
    "start_time": "2022-01-19T07:33:05.933Z"
   },
   {
    "duration": 11,
    "start_time": "2022-01-19T07:33:05.948Z"
   },
   {
    "duration": 7,
    "start_time": "2022-01-19T07:33:05.962Z"
   },
   {
    "duration": 17,
    "start_time": "2022-01-19T07:33:05.972Z"
   },
   {
    "duration": 24,
    "start_time": "2022-01-19T07:33:06.024Z"
   },
   {
    "duration": 1245,
    "start_time": "2022-01-19T07:33:06.051Z"
   },
   {
    "duration": 24,
    "start_time": "2022-01-19T07:33:07.299Z"
   },
   {
    "duration": 7,
    "start_time": "2022-01-19T07:33:07.326Z"
   },
   {
    "duration": 926,
    "start_time": "2022-01-19T07:33:07.336Z"
   },
   {
    "duration": 24,
    "start_time": "2022-01-19T07:33:08.265Z"
   },
   {
    "duration": 48,
    "start_time": "2022-01-19T07:33:08.291Z"
   },
   {
    "duration": 2775,
    "start_time": "2022-01-19T07:33:08.342Z"
   },
   {
    "duration": 164,
    "start_time": "2022-01-19T07:33:11.124Z"
   },
   {
    "duration": 53,
    "start_time": "2022-01-19T07:33:11.291Z"
   },
   {
    "duration": 61,
    "start_time": "2022-01-19T07:33:11.347Z"
   },
   {
    "duration": 6,
    "start_time": "2022-01-19T07:33:11.424Z"
   },
   {
    "duration": 15,
    "start_time": "2022-01-19T07:33:11.433Z"
   },
   {
    "duration": 7,
    "start_time": "2022-01-19T07:33:11.451Z"
   },
   {
    "duration": 22,
    "start_time": "2022-01-19T07:33:11.461Z"
   },
   {
    "duration": 35,
    "start_time": "2022-01-19T07:33:11.527Z"
   },
   {
    "duration": 2112,
    "start_time": "2022-01-19T07:33:11.565Z"
   },
   {
    "duration": 7,
    "start_time": "2022-01-19T07:33:13.680Z"
   },
   {
    "duration": 756,
    "start_time": "2022-01-19T07:33:13.690Z"
   },
   {
    "duration": 15,
    "start_time": "2022-01-19T07:33:14.449Z"
   },
   {
    "duration": 850,
    "start_time": "2022-01-19T07:33:14.467Z"
   },
   {
    "duration": 775,
    "start_time": "2022-01-19T07:33:15.321Z"
   },
   {
    "duration": 547,
    "start_time": "2022-01-19T07:33:16.100Z"
   },
   {
    "duration": 9,
    "start_time": "2022-01-19T07:33:16.650Z"
   },
   {
    "duration": 15,
    "start_time": "2022-01-19T07:33:16.662Z"
   },
   {
    "duration": 13,
    "start_time": "2022-01-19T07:33:16.680Z"
   },
   {
    "duration": 33,
    "start_time": "2022-01-19T07:33:16.696Z"
   },
   {
    "duration": 10,
    "start_time": "2022-01-19T07:33:16.733Z"
   },
   {
    "duration": 27,
    "start_time": "2022-01-19T07:33:16.745Z"
   },
   {
    "duration": 10,
    "start_time": "2022-01-19T07:33:16.774Z"
   },
   {
    "duration": 522,
    "start_time": "2022-01-19T07:35:26.049Z"
   },
   {
    "duration": 732,
    "start_time": "2022-01-19T07:35:31.009Z"
   },
   {
    "duration": 720,
    "start_time": "2022-01-19T07:41:09.190Z"
   },
   {
    "duration": 490,
    "start_time": "2022-01-19T07:41:54.837Z"
   },
   {
    "duration": 1006,
    "start_time": "2022-01-19T07:45:08.008Z"
   },
   {
    "duration": 865,
    "start_time": "2022-01-19T07:45:57.850Z"
   },
   {
    "duration": 1842,
    "start_time": "2022-01-19T07:46:10.075Z"
   },
   {
    "duration": 2045,
    "start_time": "2022-01-19T07:46:18.837Z"
   },
   {
    "duration": 1471,
    "start_time": "2022-01-19T07:49:53.902Z"
   },
   {
    "duration": 15,
    "start_time": "2022-01-19T07:51:43.399Z"
   },
   {
    "duration": 18,
    "start_time": "2022-01-19T07:51:49.818Z"
   },
   {
    "duration": 16,
    "start_time": "2022-01-19T07:52:00.688Z"
   },
   {
    "duration": 13,
    "start_time": "2022-01-19T07:52:04.471Z"
   },
   {
    "duration": 14,
    "start_time": "2022-01-19T07:52:30.817Z"
   },
   {
    "duration": 11,
    "start_time": "2022-01-19T07:52:41.190Z"
   },
   {
    "duration": 1190,
    "start_time": "2022-01-19T07:54:16.457Z"
   },
   {
    "duration": 9,
    "start_time": "2022-01-19T07:56:34.024Z"
   },
   {
    "duration": 9,
    "start_time": "2022-01-19T07:56:43.115Z"
   },
   {
    "duration": 12,
    "start_time": "2022-01-19T07:58:39.237Z"
   },
   {
    "duration": 8,
    "start_time": "2022-01-19T07:58:46.063Z"
   },
   {
    "duration": 1486,
    "start_time": "2022-01-19T07:59:10.762Z"
   },
   {
    "duration": 92,
    "start_time": "2022-01-19T08:01:51.318Z"
   },
   {
    "duration": 312,
    "start_time": "2022-01-19T08:01:56.535Z"
   },
   {
    "duration": 348,
    "start_time": "2022-01-19T08:02:15.640Z"
   },
   {
    "duration": 1638,
    "start_time": "2022-01-19T08:02:25.776Z"
   },
   {
    "duration": 2194,
    "start_time": "2022-01-19T08:03:10.534Z"
   },
   {
    "duration": 3263,
    "start_time": "2022-01-19T08:03:38.326Z"
   },
   {
    "duration": 5013,
    "start_time": "2022-01-19T08:03:59.830Z"
   },
   {
    "duration": 9386,
    "start_time": "2022-01-19T08:04:10.791Z"
   },
   {
    "duration": 2175,
    "start_time": "2022-01-19T08:04:25.457Z"
   },
   {
    "duration": 2327,
    "start_time": "2022-01-19T08:04:40.425Z"
   },
   {
    "duration": 2151,
    "start_time": "2022-01-19T08:04:45.800Z"
   },
   {
    "duration": 2370,
    "start_time": "2022-01-19T08:04:50.860Z"
   },
   {
    "duration": 2440,
    "start_time": "2022-01-19T08:04:54.807Z"
   },
   {
    "duration": 2460,
    "start_time": "2022-01-19T08:05:00.807Z"
   },
   {
    "duration": 3104,
    "start_time": "2022-01-19T08:05:20.547Z"
   },
   {
    "duration": 2928,
    "start_time": "2022-01-19T08:05:36.916Z"
   },
   {
    "duration": 2495,
    "start_time": "2022-01-19T08:05:42.737Z"
   },
   {
    "duration": 2803,
    "start_time": "2022-01-19T08:06:18.862Z"
   },
   {
    "duration": 3662,
    "start_time": "2022-01-19T08:06:30.025Z"
   },
   {
    "duration": 7,
    "start_time": "2022-01-19T08:16:33.123Z"
   },
   {
    "duration": 7,
    "start_time": "2022-01-19T08:22:50.028Z"
   },
   {
    "duration": 361,
    "start_time": "2022-01-19T08:25:25.419Z"
   },
   {
    "duration": 352,
    "start_time": "2022-01-19T08:25:46.763Z"
   },
   {
    "duration": 27,
    "start_time": "2022-01-19T08:25:56.616Z"
   },
   {
    "duration": 479,
    "start_time": "2022-01-19T08:35:00.863Z"
   },
   {
    "duration": 349,
    "start_time": "2022-01-19T08:35:52.089Z"
   },
   {
    "duration": 251,
    "start_time": "2022-01-19T08:36:23.200Z"
   },
   {
    "duration": 49,
    "start_time": "2022-01-19T08:36:27.309Z"
   },
   {
    "duration": 41,
    "start_time": "2022-01-19T08:37:25.538Z"
   },
   {
    "duration": 60,
    "start_time": "2022-01-19T08:37:55.504Z"
   },
   {
    "duration": 66,
    "start_time": "2022-01-19T08:38:12.353Z"
   },
   {
    "duration": 51,
    "start_time": "2022-01-19T08:38:23.842Z"
   },
   {
    "duration": 357,
    "start_time": "2022-01-19T08:38:57.045Z"
   },
   {
    "duration": 64,
    "start_time": "2022-01-19T08:39:18.898Z"
   },
   {
    "duration": 54,
    "start_time": "2022-01-19T08:41:35.243Z"
   },
   {
    "duration": 59,
    "start_time": "2022-01-19T08:41:41.411Z"
   },
   {
    "duration": 372,
    "start_time": "2022-01-19T08:42:21.558Z"
   },
   {
    "duration": 53,
    "start_time": "2022-01-19T08:42:27.647Z"
   },
   {
    "duration": 59,
    "start_time": "2022-01-19T08:42:30.876Z"
   },
   {
    "duration": 59,
    "start_time": "2022-01-19T08:42:47.021Z"
   },
   {
    "duration": 46,
    "start_time": "2022-01-19T08:43:28.501Z"
   },
   {
    "duration": 55,
    "start_time": "2022-01-19T08:43:36.942Z"
   },
   {
    "duration": 57,
    "start_time": "2022-01-19T08:45:01.058Z"
   },
   {
    "duration": 350,
    "start_time": "2022-01-19T08:45:29.348Z"
   },
   {
    "duration": 50,
    "start_time": "2022-01-19T08:45:38.563Z"
   },
   {
    "duration": 58,
    "start_time": "2022-01-19T08:46:26.237Z"
   },
   {
    "duration": 52,
    "start_time": "2022-01-19T08:46:47.986Z"
   },
   {
    "duration": 57,
    "start_time": "2022-01-19T08:47:03.893Z"
   },
   {
    "duration": 11,
    "start_time": "2022-01-19T08:50:28.848Z"
   },
   {
    "duration": 11,
    "start_time": "2022-01-19T08:50:35.112Z"
   },
   {
    "duration": 10,
    "start_time": "2022-01-19T08:50:36.826Z"
   },
   {
    "duration": 298,
    "start_time": "2022-01-19T08:50:58.206Z"
   },
   {
    "duration": 10,
    "start_time": "2022-01-19T08:51:04.804Z"
   },
   {
    "duration": 10,
    "start_time": "2022-01-19T08:56:26.132Z"
   },
   {
    "duration": 10,
    "start_time": "2022-01-19T08:56:28.428Z"
   },
   {
    "duration": 13,
    "start_time": "2022-01-19T08:56:30.214Z"
   },
   {
    "duration": 86,
    "start_time": "2022-01-19T08:59:20.917Z"
   },
   {
    "duration": 41,
    "start_time": "2022-01-19T08:59:42.440Z"
   },
   {
    "duration": 46,
    "start_time": "2022-01-19T09:00:17.625Z"
   },
   {
    "duration": 24,
    "start_time": "2022-01-19T09:00:46.302Z"
   },
   {
    "duration": 795,
    "start_time": "2022-01-19T09:04:22.811Z"
   },
   {
    "duration": 51,
    "start_time": "2022-01-19T09:04:57.147Z"
   },
   {
    "duration": 49,
    "start_time": "2022-01-19T09:06:26.285Z"
   },
   {
    "duration": 321,
    "start_time": "2022-01-19T09:07:14.452Z"
   },
   {
    "duration": 48,
    "start_time": "2022-01-19T09:07:22.714Z"
   },
   {
    "duration": 46,
    "start_time": "2022-01-19T09:07:32.390Z"
   },
   {
    "duration": 49,
    "start_time": "2022-01-19T09:08:40.880Z"
   },
   {
    "duration": 45,
    "start_time": "2022-01-19T09:09:49.397Z"
   },
   {
    "duration": 40,
    "start_time": "2022-01-19T09:13:13.856Z"
   },
   {
    "duration": 10,
    "start_time": "2022-01-19T09:26:48.517Z"
   },
   {
    "duration": 10,
    "start_time": "2022-01-19T09:26:57.958Z"
   },
   {
    "duration": 7,
    "start_time": "2022-01-19T10:11:31.910Z"
   },
   {
    "duration": 12,
    "start_time": "2022-01-19T10:11:54.300Z"
   },
   {
    "duration": 15,
    "start_time": "2022-01-19T10:12:06.349Z"
   },
   {
    "duration": 361,
    "start_time": "2022-01-19T10:13:42.856Z"
   },
   {
    "duration": 108,
    "start_time": "2022-01-19T10:14:01.567Z"
   },
   {
    "duration": 4,
    "start_time": "2022-01-19T10:15:29.379Z"
   },
   {
    "duration": 11,
    "start_time": "2022-01-19T10:16:40.878Z"
   },
   {
    "duration": 18,
    "start_time": "2022-01-19T10:17:49.013Z"
   },
   {
    "duration": 19,
    "start_time": "2022-01-19T10:18:33.495Z"
   },
   {
    "duration": 9,
    "start_time": "2022-01-19T10:18:42.578Z"
   },
   {
    "duration": 16,
    "start_time": "2022-01-19T10:22:00.416Z"
   },
   {
    "duration": 16,
    "start_time": "2022-01-19T10:22:05.748Z"
   },
   {
    "duration": 11,
    "start_time": "2022-01-19T10:22:09.723Z"
   },
   {
    "duration": 9,
    "start_time": "2022-01-19T10:22:29.635Z"
   },
   {
    "duration": 19,
    "start_time": "2022-01-19T10:22:45.326Z"
   },
   {
    "duration": 12,
    "start_time": "2022-01-19T10:22:55.506Z"
   },
   {
    "duration": 12,
    "start_time": "2022-01-19T10:23:03.419Z"
   },
   {
    "duration": 18,
    "start_time": "2022-01-19T10:23:27.414Z"
   },
   {
    "duration": 11,
    "start_time": "2022-01-19T10:23:35.685Z"
   },
   {
    "duration": 17,
    "start_time": "2022-01-19T10:23:41.533Z"
   },
   {
    "duration": 13,
    "start_time": "2022-01-19T10:23:51.913Z"
   },
   {
    "duration": 17,
    "start_time": "2022-01-19T10:24:04.364Z"
   },
   {
    "duration": 13,
    "start_time": "2022-01-19T10:24:20.473Z"
   },
   {
    "duration": 11,
    "start_time": "2022-01-19T10:24:29.394Z"
   },
   {
    "duration": 15,
    "start_time": "2022-01-19T10:25:01.038Z"
   },
   {
    "duration": 17,
    "start_time": "2022-01-19T10:25:04.722Z"
   },
   {
    "duration": 8,
    "start_time": "2022-01-19T10:25:15.985Z"
   },
   {
    "duration": 6,
    "start_time": "2022-01-19T10:25:36.259Z"
   },
   {
    "duration": 6,
    "start_time": "2022-01-19T10:25:43.753Z"
   },
   {
    "duration": 17,
    "start_time": "2022-01-19T10:25:49.039Z"
   },
   {
    "duration": 16,
    "start_time": "2022-01-19T10:25:52.953Z"
   },
   {
    "duration": 11,
    "start_time": "2022-01-19T10:26:06.302Z"
   },
   {
    "duration": 11,
    "start_time": "2022-01-19T10:26:11.926Z"
   },
   {
    "duration": 6,
    "start_time": "2022-01-19T10:26:42.761Z"
   },
   {
    "duration": 18,
    "start_time": "2022-01-19T10:26:57.251Z"
   },
   {
    "duration": 20,
    "start_time": "2022-01-19T10:31:43.115Z"
   },
   {
    "duration": 9216,
    "start_time": "2022-01-19T10:32:02.544Z"
   },
   {
    "duration": 8221,
    "start_time": "2022-01-19T10:32:28.865Z"
   },
   {
    "duration": 16,
    "start_time": "2022-01-19T10:32:38.358Z"
   },
   {
    "duration": 7,
    "start_time": "2022-01-19T10:33:00.195Z"
   },
   {
    "duration": 5,
    "start_time": "2022-01-19T10:33:06.561Z"
   },
   {
    "duration": 7,
    "start_time": "2022-01-19T10:33:24.499Z"
   },
   {
    "duration": 6,
    "start_time": "2022-01-19T10:33:33.056Z"
   },
   {
    "duration": 1144,
    "start_time": "2022-01-19T16:43:29.578Z"
   },
   {
    "duration": 2,
    "start_time": "2022-01-19T16:43:30.723Z"
   },
   {
    "duration": 40,
    "start_time": "2022-01-19T16:43:30.727Z"
   },
   {
    "duration": 16,
    "start_time": "2022-01-19T16:43:30.769Z"
   },
   {
    "duration": 15,
    "start_time": "2022-01-19T16:43:30.786Z"
   },
   {
    "duration": 16,
    "start_time": "2022-01-19T16:43:30.803Z"
   },
   {
    "duration": 20,
    "start_time": "2022-01-19T16:43:30.821Z"
   },
   {
    "duration": 11,
    "start_time": "2022-01-19T16:43:30.843Z"
   },
   {
    "duration": 10,
    "start_time": "2022-01-19T16:43:30.856Z"
   },
   {
    "duration": 20,
    "start_time": "2022-01-19T16:43:30.868Z"
   },
   {
    "duration": 18,
    "start_time": "2022-01-19T16:43:30.889Z"
   },
   {
    "duration": 18,
    "start_time": "2022-01-19T16:43:30.909Z"
   },
   {
    "duration": 379,
    "start_time": "2022-01-19T16:43:30.928Z"
   },
   {
    "duration": 7,
    "start_time": "2022-01-19T16:43:31.309Z"
   },
   {
    "duration": 6,
    "start_time": "2022-01-19T16:43:31.318Z"
   },
   {
    "duration": 297,
    "start_time": "2022-01-19T16:43:31.325Z"
   },
   {
    "duration": 13,
    "start_time": "2022-01-19T16:43:31.624Z"
   },
   {
    "duration": 15,
    "start_time": "2022-01-19T16:43:31.638Z"
   },
   {
    "duration": 1232,
    "start_time": "2022-01-19T16:43:31.654Z"
   },
   {
    "duration": 65,
    "start_time": "2022-01-19T16:43:32.889Z"
   },
   {
    "duration": 93,
    "start_time": "2022-01-19T16:43:32.956Z"
   },
   {
    "duration": 39,
    "start_time": "2022-01-19T16:43:33.050Z"
   },
   {
    "duration": 4,
    "start_time": "2022-01-19T16:43:33.090Z"
   },
   {
    "duration": 8,
    "start_time": "2022-01-19T16:43:33.095Z"
   },
   {
    "duration": 4,
    "start_time": "2022-01-19T16:43:33.104Z"
   },
   {
    "duration": 12,
    "start_time": "2022-01-19T16:43:33.110Z"
   },
   {
    "duration": 55,
    "start_time": "2022-01-19T16:43:33.126Z"
   },
   {
    "duration": 1095,
    "start_time": "2022-01-19T16:43:33.184Z"
   },
   {
    "duration": 4,
    "start_time": "2022-01-19T16:43:34.281Z"
   },
   {
    "duration": 273,
    "start_time": "2022-01-19T16:43:34.287Z"
   },
   {
    "duration": 12,
    "start_time": "2022-01-19T16:43:34.561Z"
   },
   {
    "duration": 617,
    "start_time": "2022-01-19T16:43:34.575Z"
   },
   {
    "duration": 33,
    "start_time": "2022-01-19T16:43:35.193Z"
   },
   {
    "duration": 2022,
    "start_time": "2022-01-19T16:43:35.228Z"
   },
   {
    "duration": 273,
    "start_time": "2022-01-19T16:43:37.251Z"
   },
   {
    "duration": 528,
    "start_time": "2022-01-19T16:43:37.526Z"
   },
   {
    "duration": 28,
    "start_time": "2022-01-19T16:43:38.056Z"
   },
   {
    "duration": 22,
    "start_time": "2022-01-19T16:43:38.086Z"
   },
   {
    "duration": 8,
    "start_time": "2022-01-19T16:43:38.109Z"
   },
   {
    "duration": 11,
    "start_time": "2022-01-19T16:43:38.118Z"
   },
   {
    "duration": 10,
    "start_time": "2022-01-19T16:43:38.130Z"
   },
   {
    "duration": 20,
    "start_time": "2022-01-19T16:55:10.980Z"
   },
   {
    "duration": 29,
    "start_time": "2022-01-19T16:55:17.864Z"
   },
   {
    "duration": 23,
    "start_time": "2022-01-19T16:55:25.309Z"
   },
   {
    "duration": 20,
    "start_time": "2022-01-19T16:55:36.512Z"
   },
   {
    "duration": 1470,
    "start_time": "2022-01-19T16:56:25.084Z"
   },
   {
    "duration": 4,
    "start_time": "2022-01-19T16:56:31.335Z"
   },
   {
    "duration": 7,
    "start_time": "2022-01-19T16:56:31.341Z"
   },
   {
    "duration": 45,
    "start_time": "2022-01-19T16:56:31.350Z"
   },
   {
    "duration": 17,
    "start_time": "2022-01-19T16:56:31.397Z"
   },
   {
    "duration": 11,
    "start_time": "2022-01-19T16:56:31.415Z"
   },
   {
    "duration": 4,
    "start_time": "2022-01-19T16:56:31.428Z"
   },
   {
    "duration": 39,
    "start_time": "2022-01-19T16:56:31.433Z"
   },
   {
    "duration": 10,
    "start_time": "2022-01-19T16:56:31.476Z"
   },
   {
    "duration": 4,
    "start_time": "2022-01-19T16:56:31.489Z"
   },
   {
    "duration": 9,
    "start_time": "2022-01-19T16:56:31.495Z"
   },
   {
    "duration": 19,
    "start_time": "2022-01-19T16:56:31.506Z"
   },
   {
    "duration": 31,
    "start_time": "2022-01-19T16:56:31.527Z"
   },
   {
    "duration": 428,
    "start_time": "2022-01-19T16:56:31.560Z"
   },
   {
    "duration": 9,
    "start_time": "2022-01-19T16:56:31.990Z"
   },
   {
    "duration": 337,
    "start_time": "2022-01-19T16:56:32.001Z"
   },
   {
    "duration": 13,
    "start_time": "2022-01-19T16:56:32.340Z"
   },
   {
    "duration": 35,
    "start_time": "2022-01-19T16:56:32.354Z"
   },
   {
    "duration": 1471,
    "start_time": "2022-01-19T16:56:32.391Z"
   },
   {
    "duration": 87,
    "start_time": "2022-01-19T16:56:33.863Z"
   },
   {
    "duration": 33,
    "start_time": "2022-01-19T16:56:33.952Z"
   },
   {
    "duration": 32,
    "start_time": "2022-01-19T16:56:33.986Z"
   },
   {
    "duration": 3,
    "start_time": "2022-01-19T16:56:34.020Z"
   },
   {
    "duration": 6,
    "start_time": "2022-01-19T16:56:34.026Z"
   },
   {
    "duration": 4,
    "start_time": "2022-01-19T16:56:34.034Z"
   },
   {
    "duration": 43,
    "start_time": "2022-01-19T16:56:34.040Z"
   },
   {
    "duration": 25,
    "start_time": "2022-01-19T16:56:34.085Z"
   },
   {
    "duration": 1172,
    "start_time": "2022-01-19T16:56:34.112Z"
   },
   {
    "duration": 6,
    "start_time": "2022-01-19T16:56:35.286Z"
   },
   {
    "duration": 314,
    "start_time": "2022-01-19T16:56:35.294Z"
   },
   {
    "duration": 7,
    "start_time": "2022-01-19T16:56:35.610Z"
   },
   {
    "duration": 679,
    "start_time": "2022-01-19T16:56:35.619Z"
   },
   {
    "duration": 38,
    "start_time": "2022-01-19T16:56:36.300Z"
   },
   {
    "duration": 1767,
    "start_time": "2022-01-19T16:56:36.340Z"
   },
   {
    "duration": 369,
    "start_time": "2022-01-19T16:56:38.109Z"
   },
   {
    "duration": 28,
    "start_time": "2022-01-19T16:56:38.480Z"
   },
   {
    "duration": 26,
    "start_time": "2022-01-19T16:56:38.510Z"
   },
   {
    "duration": 61,
    "start_time": "2022-01-19T16:56:38.538Z"
   },
   {
    "duration": 10,
    "start_time": "2022-01-19T16:56:38.601Z"
   },
   {
    "duration": 13,
    "start_time": "2022-01-19T16:56:38.613Z"
   },
   {
    "duration": 12,
    "start_time": "2022-01-19T16:56:38.627Z"
   },
   {
    "duration": 14,
    "start_time": "2022-01-19T17:00:58.822Z"
   },
   {
    "duration": 62,
    "start_time": "2022-01-19T17:01:47.331Z"
   },
   {
    "duration": 15,
    "start_time": "2022-01-19T17:03:03.110Z"
   },
   {
    "duration": 12,
    "start_time": "2022-01-19T17:03:15.133Z"
   },
   {
    "duration": 16,
    "start_time": "2022-01-19T17:04:01.960Z"
   },
   {
    "duration": 10,
    "start_time": "2022-01-19T17:04:30.956Z"
   },
   {
    "duration": 12,
    "start_time": "2022-01-19T17:04:38.977Z"
   },
   {
    "duration": 13,
    "start_time": "2022-01-19T17:05:03.743Z"
   },
   {
    "duration": 13,
    "start_time": "2022-01-19T17:05:05.270Z"
   },
   {
    "duration": 15,
    "start_time": "2022-01-19T17:05:56.484Z"
   },
   {
    "duration": 10,
    "start_time": "2022-01-19T17:07:42.259Z"
   },
   {
    "duration": 18,
    "start_time": "2022-01-19T17:08:06.976Z"
   },
   {
    "duration": 13,
    "start_time": "2022-01-19T17:08:13.361Z"
   },
   {
    "duration": 24,
    "start_time": "2022-01-19T17:08:29.763Z"
   },
   {
    "duration": 15,
    "start_time": "2022-01-19T17:08:30.919Z"
   },
   {
    "duration": 15,
    "start_time": "2022-01-19T17:08:32.819Z"
   },
   {
    "duration": 17,
    "start_time": "2022-01-19T17:08:34.038Z"
   },
   {
    "duration": 16,
    "start_time": "2022-01-19T17:08:56.411Z"
   },
   {
    "duration": 18,
    "start_time": "2022-01-19T17:09:01.878Z"
   },
   {
    "duration": 18,
    "start_time": "2022-01-19T17:09:06.798Z"
   },
   {
    "duration": 14,
    "start_time": "2022-01-19T17:09:07.848Z"
   },
   {
    "duration": 11,
    "start_time": "2022-01-19T17:09:09.022Z"
   },
   {
    "duration": 14,
    "start_time": "2022-01-19T17:09:10.448Z"
   },
   {
    "duration": 14,
    "start_time": "2022-01-19T17:09:43.052Z"
   },
   {
    "duration": 3,
    "start_time": "2022-01-19T17:09:49.132Z"
   },
   {
    "duration": 8,
    "start_time": "2022-01-19T17:12:10.752Z"
   },
   {
    "duration": 8,
    "start_time": "2022-01-19T17:12:18.925Z"
   },
   {
    "duration": 4,
    "start_time": "2022-01-19T17:12:21.261Z"
   },
   {
    "duration": 106,
    "start_time": "2022-01-19T17:13:22.924Z"
   },
   {
    "duration": 3,
    "start_time": "2022-01-19T17:13:35.667Z"
   },
   {
    "duration": 13,
    "start_time": "2022-01-19T17:13:40.272Z"
   },
   {
    "duration": 19,
    "start_time": "2022-01-19T17:14:03.779Z"
   },
   {
    "duration": 12,
    "start_time": "2022-01-19T17:16:24.391Z"
   },
   {
    "duration": 1018,
    "start_time": "2022-01-19T17:19:19.976Z"
   },
   {
    "duration": 285,
    "start_time": "2022-01-19T17:22:23.839Z"
   },
   {
    "duration": 239,
    "start_time": "2022-01-19T17:22:47.595Z"
   },
   {
    "duration": 170,
    "start_time": "2022-01-19T17:23:38.034Z"
   },
   {
    "duration": 328,
    "start_time": "2022-01-19T17:23:43.985Z"
   },
   {
    "duration": 4,
    "start_time": "2022-01-19T17:29:35.128Z"
   },
   {
    "duration": 314,
    "start_time": "2022-01-19T17:29:36.427Z"
   },
   {
    "duration": 33,
    "start_time": "2022-01-19T17:42:13.337Z"
   },
   {
    "duration": 3,
    "start_time": "2022-01-19T17:42:20.517Z"
   },
   {
    "duration": 10,
    "start_time": "2022-01-19T17:42:20.522Z"
   },
   {
    "duration": 47,
    "start_time": "2022-01-19T17:42:20.534Z"
   },
   {
    "duration": 14,
    "start_time": "2022-01-19T17:42:20.583Z"
   },
   {
    "duration": 26,
    "start_time": "2022-01-19T17:42:20.598Z"
   },
   {
    "duration": 12,
    "start_time": "2022-01-19T17:42:20.626Z"
   },
   {
    "duration": 22,
    "start_time": "2022-01-19T17:42:20.639Z"
   },
   {
    "duration": 14,
    "start_time": "2022-01-19T17:42:20.664Z"
   },
   {
    "duration": 11,
    "start_time": "2022-01-19T17:42:20.680Z"
   },
   {
    "duration": 23,
    "start_time": "2022-01-19T17:42:20.692Z"
   },
   {
    "duration": 17,
    "start_time": "2022-01-19T17:42:20.717Z"
   },
   {
    "duration": 14,
    "start_time": "2022-01-19T17:42:20.735Z"
   },
   {
    "duration": 459,
    "start_time": "2022-01-19T17:42:20.750Z"
   },
   {
    "duration": 8,
    "start_time": "2022-01-19T17:42:21.211Z"
   },
   {
    "duration": 313,
    "start_time": "2022-01-19T17:42:21.220Z"
   },
   {
    "duration": 15,
    "start_time": "2022-01-19T17:42:21.535Z"
   },
   {
    "duration": 37,
    "start_time": "2022-01-19T17:42:21.552Z"
   },
   {
    "duration": 1210,
    "start_time": "2022-01-19T17:42:21.591Z"
   },
   {
    "duration": 13,
    "start_time": "2022-01-19T17:42:22.802Z"
   },
   {
    "duration": 80,
    "start_time": "2022-01-19T17:42:22.817Z"
   },
   {
    "duration": 19,
    "start_time": "2022-01-19T17:42:22.899Z"
   },
   {
    "duration": 15,
    "start_time": "2022-01-19T17:42:22.919Z"
   },
   {
    "duration": 38,
    "start_time": "2022-01-19T17:42:22.939Z"
   },
   {
    "duration": 15,
    "start_time": "2022-01-19T17:42:22.979Z"
   },
   {
    "duration": 15,
    "start_time": "2022-01-19T17:42:22.996Z"
   },
   {
    "duration": 4,
    "start_time": "2022-01-19T17:42:23.012Z"
   },
   {
    "duration": 10,
    "start_time": "2022-01-19T17:42:23.018Z"
   },
   {
    "duration": 5,
    "start_time": "2022-01-19T17:42:23.029Z"
   },
   {
    "duration": 13,
    "start_time": "2022-01-19T17:42:23.071Z"
   },
   {
    "duration": 20,
    "start_time": "2022-01-19T17:42:23.085Z"
   },
   {
    "duration": 1047,
    "start_time": "2022-01-19T17:42:23.106Z"
   },
   {
    "duration": 4,
    "start_time": "2022-01-19T17:42:24.155Z"
   },
   {
    "duration": 335,
    "start_time": "2022-01-19T17:42:24.160Z"
   },
   {
    "duration": 8,
    "start_time": "2022-01-19T17:42:24.496Z"
   },
   {
    "duration": 690,
    "start_time": "2022-01-19T17:42:24.505Z"
   },
   {
    "duration": 32,
    "start_time": "2022-01-19T17:42:25.197Z"
   },
   {
    "duration": 1850,
    "start_time": "2022-01-19T17:42:25.230Z"
   },
   {
    "duration": 259,
    "start_time": "2022-01-19T17:42:27.082Z"
   },
   {
    "duration": 36,
    "start_time": "2022-01-19T17:42:27.342Z"
   },
   {
    "duration": 28,
    "start_time": "2022-01-19T17:42:27.380Z"
   },
   {
    "duration": 21,
    "start_time": "2022-01-19T17:42:27.410Z"
   },
   {
    "duration": 8,
    "start_time": "2022-01-19T17:42:27.432Z"
   },
   {
    "duration": 39,
    "start_time": "2022-01-19T17:42:27.442Z"
   },
   {
    "duration": 9,
    "start_time": "2022-01-19T17:42:27.483Z"
   },
   {
    "duration": 33,
    "start_time": "2022-01-19T17:46:53.936Z"
   },
   {
    "duration": 32,
    "start_time": "2022-01-19T17:46:59.335Z"
   },
   {
    "duration": 3,
    "start_time": "2022-01-19T17:47:02.769Z"
   },
   {
    "duration": 12,
    "start_time": "2022-01-19T17:47:02.774Z"
   },
   {
    "duration": 53,
    "start_time": "2022-01-19T17:47:02.788Z"
   },
   {
    "duration": 12,
    "start_time": "2022-01-19T17:47:02.843Z"
   },
   {
    "duration": 28,
    "start_time": "2022-01-19T17:47:02.856Z"
   },
   {
    "duration": 10,
    "start_time": "2022-01-19T17:47:02.885Z"
   },
   {
    "duration": 25,
    "start_time": "2022-01-19T17:47:02.897Z"
   },
   {
    "duration": 25,
    "start_time": "2022-01-19T17:47:02.923Z"
   },
   {
    "duration": 15,
    "start_time": "2022-01-19T17:47:02.951Z"
   },
   {
    "duration": 25,
    "start_time": "2022-01-19T17:47:02.968Z"
   },
   {
    "duration": 13,
    "start_time": "2022-01-19T17:47:02.994Z"
   },
   {
    "duration": 39,
    "start_time": "2022-01-19T17:47:03.008Z"
   },
   {
    "duration": 387,
    "start_time": "2022-01-19T17:47:03.049Z"
   },
   {
    "duration": 6,
    "start_time": "2022-01-19T17:47:03.439Z"
   },
   {
    "duration": 308,
    "start_time": "2022-01-19T17:47:03.447Z"
   },
   {
    "duration": 22,
    "start_time": "2022-01-19T17:47:03.757Z"
   },
   {
    "duration": 20,
    "start_time": "2022-01-19T17:47:03.780Z"
   },
   {
    "duration": 1324,
    "start_time": "2022-01-19T17:47:03.801Z"
   },
   {
    "duration": 13,
    "start_time": "2022-01-19T17:47:05.127Z"
   },
   {
    "duration": 77,
    "start_time": "2022-01-19T17:47:05.141Z"
   },
   {
    "duration": 24,
    "start_time": "2022-01-19T17:47:05.220Z"
   },
   {
    "duration": 30,
    "start_time": "2022-01-19T17:47:05.246Z"
   },
   {
    "duration": 10,
    "start_time": "2022-01-19T17:47:05.278Z"
   },
   {
    "duration": 14,
    "start_time": "2022-01-19T17:47:05.290Z"
   },
   {
    "duration": 14,
    "start_time": "2022-01-19T17:47:05.306Z"
   },
   {
    "duration": 6,
    "start_time": "2022-01-19T17:47:05.322Z"
   },
   {
    "duration": 40,
    "start_time": "2022-01-19T17:47:05.332Z"
   },
   {
    "duration": 3,
    "start_time": "2022-01-19T17:47:05.374Z"
   },
   {
    "duration": 15,
    "start_time": "2022-01-19T17:47:05.379Z"
   },
   {
    "duration": 20,
    "start_time": "2022-01-19T17:47:05.395Z"
   },
   {
    "duration": 1092,
    "start_time": "2022-01-19T17:47:05.416Z"
   },
   {
    "duration": 4,
    "start_time": "2022-01-19T17:47:06.510Z"
   },
   {
    "duration": 333,
    "start_time": "2022-01-19T17:47:06.516Z"
   },
   {
    "duration": 8,
    "start_time": "2022-01-19T17:47:06.851Z"
   },
   {
    "duration": 611,
    "start_time": "2022-01-19T17:47:06.860Z"
   },
   {
    "duration": 35,
    "start_time": "2022-01-19T17:47:07.473Z"
   },
   {
    "duration": 1477,
    "start_time": "2022-01-19T17:47:07.510Z"
   },
   {
    "duration": 263,
    "start_time": "2022-01-19T17:47:08.989Z"
   },
   {
    "duration": 33,
    "start_time": "2022-01-19T17:47:09.254Z"
   },
   {
    "duration": 134,
    "start_time": "2022-01-19T17:47:09.289Z"
   },
   {
    "duration": 25,
    "start_time": "2022-01-19T17:47:09.424Z"
   },
   {
    "duration": 24,
    "start_time": "2022-01-19T17:47:09.450Z"
   },
   {
    "duration": 11,
    "start_time": "2022-01-19T17:47:09.475Z"
   },
   {
    "duration": 12,
    "start_time": "2022-01-19T17:47:09.488Z"
   },
   {
    "duration": 4,
    "start_time": "2022-01-19T17:48:12.577Z"
   },
   {
    "duration": 3,
    "start_time": "2022-01-19T17:48:15.426Z"
   },
   {
    "duration": 5,
    "start_time": "2022-01-19T17:48:15.431Z"
   },
   {
    "duration": 38,
    "start_time": "2022-01-19T17:48:15.438Z"
   },
   {
    "duration": 14,
    "start_time": "2022-01-19T17:48:15.478Z"
   },
   {
    "duration": 11,
    "start_time": "2022-01-19T17:48:15.494Z"
   },
   {
    "duration": 4,
    "start_time": "2022-01-19T17:48:15.507Z"
   },
   {
    "duration": 11,
    "start_time": "2022-01-19T17:48:15.513Z"
   },
   {
    "duration": 49,
    "start_time": "2022-01-19T17:48:15.526Z"
   },
   {
    "duration": 6,
    "start_time": "2022-01-19T17:48:15.578Z"
   },
   {
    "duration": 6,
    "start_time": "2022-01-19T17:48:15.586Z"
   },
   {
    "duration": 10,
    "start_time": "2022-01-19T17:48:15.594Z"
   },
   {
    "duration": 18,
    "start_time": "2022-01-19T17:48:15.605Z"
   },
   {
    "duration": 453,
    "start_time": "2022-01-19T17:48:15.624Z"
   },
   {
    "duration": 7,
    "start_time": "2022-01-19T17:48:16.079Z"
   },
   {
    "duration": 321,
    "start_time": "2022-01-19T17:48:16.091Z"
   },
   {
    "duration": 13,
    "start_time": "2022-01-19T17:48:16.414Z"
   },
   {
    "duration": 19,
    "start_time": "2022-01-19T17:48:16.428Z"
   },
   {
    "duration": 1298,
    "start_time": "2022-01-19T17:48:16.449Z"
   },
   {
    "duration": 27,
    "start_time": "2022-01-19T17:48:17.749Z"
   },
   {
    "duration": 61,
    "start_time": "2022-01-19T17:48:17.777Z"
   },
   {
    "duration": 40,
    "start_time": "2022-01-19T17:48:17.840Z"
   },
   {
    "duration": 18,
    "start_time": "2022-01-19T17:48:17.882Z"
   },
   {
    "duration": 11,
    "start_time": "2022-01-19T17:48:17.901Z"
   },
   {
    "duration": 14,
    "start_time": "2022-01-19T17:48:17.914Z"
   },
   {
    "duration": 44,
    "start_time": "2022-01-19T17:48:17.929Z"
   },
   {
    "duration": 4,
    "start_time": "2022-01-19T17:48:17.975Z"
   },
   {
    "duration": 9,
    "start_time": "2022-01-19T17:48:17.983Z"
   },
   {
    "duration": 3,
    "start_time": "2022-01-19T17:48:17.994Z"
   },
   {
    "duration": 14,
    "start_time": "2022-01-19T17:48:17.999Z"
   },
   {
    "duration": 58,
    "start_time": "2022-01-19T17:48:18.015Z"
   },
   {
    "duration": 1068,
    "start_time": "2022-01-19T17:48:18.074Z"
   },
   {
    "duration": 4,
    "start_time": "2022-01-19T17:48:19.143Z"
   },
   {
    "duration": 407,
    "start_time": "2022-01-19T17:48:19.148Z"
   },
   {
    "duration": 16,
    "start_time": "2022-01-19T17:48:19.556Z"
   },
   {
    "duration": 623,
    "start_time": "2022-01-19T17:48:19.573Z"
   },
   {
    "duration": 31,
    "start_time": "2022-01-19T17:48:20.198Z"
   },
   {
    "duration": 1645,
    "start_time": "2022-01-19T17:48:20.231Z"
   },
   {
    "duration": 270,
    "start_time": "2022-01-19T17:48:21.877Z"
   },
   {
    "duration": 37,
    "start_time": "2022-01-19T17:48:22.148Z"
   },
   {
    "duration": 28,
    "start_time": "2022-01-19T17:48:22.186Z"
   },
   {
    "duration": 23,
    "start_time": "2022-01-19T17:48:22.215Z"
   },
   {
    "duration": 33,
    "start_time": "2022-01-19T17:48:22.239Z"
   },
   {
    "duration": 12,
    "start_time": "2022-01-19T17:48:22.273Z"
   },
   {
    "duration": 11,
    "start_time": "2022-01-19T17:48:22.286Z"
   },
   {
    "duration": 35,
    "start_time": "2022-01-19T17:48:37.606Z"
   },
   {
    "duration": 3,
    "start_time": "2022-01-19T17:48:44.197Z"
   },
   {
    "duration": 32,
    "start_time": "2022-01-19T17:48:49.149Z"
   },
   {
    "duration": 2,
    "start_time": "2022-01-19T17:48:51.826Z"
   },
   {
    "duration": 7,
    "start_time": "2022-01-19T17:48:51.830Z"
   },
   {
    "duration": 36,
    "start_time": "2022-01-19T17:48:51.839Z"
   },
   {
    "duration": 12,
    "start_time": "2022-01-19T17:48:51.877Z"
   },
   {
    "duration": 13,
    "start_time": "2022-01-19T17:48:51.891Z"
   },
   {
    "duration": 4,
    "start_time": "2022-01-19T17:48:51.906Z"
   },
   {
    "duration": 10,
    "start_time": "2022-01-19T17:48:51.911Z"
   },
   {
    "duration": 7,
    "start_time": "2022-01-19T17:48:51.923Z"
   },
   {
    "duration": 40,
    "start_time": "2022-01-19T17:48:51.932Z"
   },
   {
    "duration": 4,
    "start_time": "2022-01-19T17:48:51.975Z"
   },
   {
    "duration": 10,
    "start_time": "2022-01-19T17:48:51.980Z"
   },
   {
    "duration": 14,
    "start_time": "2022-01-19T17:48:51.992Z"
   },
   {
    "duration": 387,
    "start_time": "2022-01-19T17:48:52.008Z"
   },
   {
    "duration": 6,
    "start_time": "2022-01-19T17:48:52.397Z"
   },
   {
    "duration": 310,
    "start_time": "2022-01-19T17:48:52.405Z"
   },
   {
    "duration": 15,
    "start_time": "2022-01-19T17:48:52.716Z"
   },
   {
    "duration": 20,
    "start_time": "2022-01-19T17:48:52.733Z"
   },
   {
    "duration": 1296,
    "start_time": "2022-01-19T17:48:52.772Z"
   },
   {
    "duration": 13,
    "start_time": "2022-01-19T17:48:54.072Z"
   },
   {
    "duration": 60,
    "start_time": "2022-01-19T17:48:54.087Z"
   },
   {
    "duration": 37,
    "start_time": "2022-01-19T17:48:54.149Z"
   },
   {
    "duration": 14,
    "start_time": "2022-01-19T17:48:54.187Z"
   },
   {
    "duration": 11,
    "start_time": "2022-01-19T17:48:54.202Z"
   },
   {
    "duration": 13,
    "start_time": "2022-01-19T17:48:54.214Z"
   },
   {
    "duration": 47,
    "start_time": "2022-01-19T17:48:54.229Z"
   },
   {
    "duration": 6,
    "start_time": "2022-01-19T17:48:54.278Z"
   },
   {
    "duration": 9,
    "start_time": "2022-01-19T17:48:54.288Z"
   },
   {
    "duration": 4,
    "start_time": "2022-01-19T17:48:54.299Z"
   },
   {
    "duration": 15,
    "start_time": "2022-01-19T17:48:54.304Z"
   },
   {
    "duration": 53,
    "start_time": "2022-01-19T17:48:54.320Z"
   },
   {
    "duration": 1066,
    "start_time": "2022-01-19T17:48:54.375Z"
   },
   {
    "duration": 5,
    "start_time": "2022-01-19T17:48:55.443Z"
   },
   {
    "duration": 330,
    "start_time": "2022-01-19T17:48:55.450Z"
   },
   {
    "duration": 7,
    "start_time": "2022-01-19T17:48:55.782Z"
   },
   {
    "duration": 602,
    "start_time": "2022-01-19T17:48:55.791Z"
   },
   {
    "duration": 33,
    "start_time": "2022-01-19T17:48:56.395Z"
   },
   {
    "duration": 1726,
    "start_time": "2022-01-19T17:48:56.429Z"
   },
   {
    "duration": 352,
    "start_time": "2022-01-19T17:48:58.157Z"
   },
   {
    "duration": 25,
    "start_time": "2022-01-19T17:48:58.511Z"
   },
   {
    "duration": 42,
    "start_time": "2022-01-19T17:48:58.537Z"
   },
   {
    "duration": 22,
    "start_time": "2022-01-19T17:48:58.581Z"
   },
   {
    "duration": 7,
    "start_time": "2022-01-19T17:48:58.604Z"
   },
   {
    "duration": 11,
    "start_time": "2022-01-19T17:48:58.613Z"
   },
   {
    "duration": 10,
    "start_time": "2022-01-19T17:48:58.625Z"
   },
   {
    "duration": 3,
    "start_time": "2022-01-19T17:49:13.175Z"
   },
   {
    "duration": 33,
    "start_time": "2022-01-19T17:49:18.004Z"
   },
   {
    "duration": 26,
    "start_time": "2022-01-19T17:50:00.419Z"
   },
   {
    "duration": 29,
    "start_time": "2022-01-19T17:50:27.789Z"
   },
   {
    "duration": 9,
    "start_time": "2022-01-19T17:50:49.158Z"
   },
   {
    "duration": 8,
    "start_time": "2022-01-19T17:51:11.557Z"
   },
   {
    "duration": 9,
    "start_time": "2022-01-19T17:51:23.495Z"
   },
   {
    "duration": 8,
    "start_time": "2022-01-19T17:51:27.459Z"
   },
   {
    "duration": 8,
    "start_time": "2022-01-19T17:51:32.529Z"
   },
   {
    "duration": 7,
    "start_time": "2022-01-19T17:51:39.469Z"
   },
   {
    "duration": 9,
    "start_time": "2022-01-19T17:51:41.513Z"
   },
   {
    "duration": 8,
    "start_time": "2022-01-19T17:52:15.516Z"
   },
   {
    "duration": 9,
    "start_time": "2022-01-19T17:52:24.451Z"
   },
   {
    "duration": 9,
    "start_time": "2022-01-19T17:53:23.240Z"
   },
   {
    "duration": 11,
    "start_time": "2022-01-19T17:53:39.883Z"
   },
   {
    "duration": 6,
    "start_time": "2022-01-19T17:54:28.343Z"
   },
   {
    "duration": 24,
    "start_time": "2022-01-19T17:54:43.501Z"
   },
   {
    "duration": 20,
    "start_time": "2022-01-19T17:54:57.929Z"
   },
   {
    "duration": 25,
    "start_time": "2022-01-19T18:10:34.914Z"
   },
   {
    "duration": 26,
    "start_time": "2022-01-19T18:10:54.512Z"
   },
   {
    "duration": 12,
    "start_time": "2022-01-19T18:16:48.288Z"
   },
   {
    "duration": 12,
    "start_time": "2022-01-19T18:16:53.672Z"
   },
   {
    "duration": 387,
    "start_time": "2022-01-19T18:19:56.479Z"
   },
   {
    "duration": 105,
    "start_time": "2022-01-19T18:20:46.744Z"
   },
   {
    "duration": 121,
    "start_time": "2022-01-19T18:20:56.572Z"
   },
   {
    "duration": 5,
    "start_time": "2022-01-19T18:21:00.391Z"
   },
   {
    "duration": 5,
    "start_time": "2022-01-19T18:21:04.307Z"
   },
   {
    "duration": 102,
    "start_time": "2022-01-19T18:21:15.571Z"
   },
   {
    "duration": 5,
    "start_time": "2022-01-19T18:21:21.612Z"
   },
   {
    "duration": 100,
    "start_time": "2022-01-19T18:21:54.003Z"
   },
   {
    "duration": 23,
    "start_time": "2022-01-19T18:22:01.040Z"
   },
   {
    "duration": 21,
    "start_time": "2022-01-19T18:22:25.470Z"
   },
   {
    "duration": 19,
    "start_time": "2022-01-19T18:22:42.881Z"
   },
   {
    "duration": 26,
    "start_time": "2022-01-19T18:22:47.695Z"
   },
   {
    "duration": 29,
    "start_time": "2022-01-19T18:23:01.823Z"
   },
   {
    "duration": 32,
    "start_time": "2022-01-19T18:23:12.989Z"
   },
   {
    "duration": 29,
    "start_time": "2022-01-19T18:33:08.952Z"
   },
   {
    "duration": 29,
    "start_time": "2022-01-19T18:37:18.946Z"
   },
   {
    "duration": 5,
    "start_time": "2022-01-19T18:38:28.598Z"
   },
   {
    "duration": 304,
    "start_time": "2022-01-19T18:49:38.092Z"
   },
   {
    "duration": 10,
    "start_time": "2022-01-19T18:49:43.657Z"
   },
   {
    "duration": 11,
    "start_time": "2022-01-19T18:50:00.842Z"
   },
   {
    "duration": 10,
    "start_time": "2022-01-19T18:53:07.567Z"
   },
   {
    "duration": 12,
    "start_time": "2022-01-19T18:53:26.067Z"
   },
   {
    "duration": 3,
    "start_time": "2022-01-19T19:08:49.693Z"
   },
   {
    "duration": 4,
    "start_time": "2022-01-19T19:08:49.698Z"
   },
   {
    "duration": 40,
    "start_time": "2022-01-19T19:08:49.704Z"
   },
   {
    "duration": 11,
    "start_time": "2022-01-19T19:08:49.746Z"
   },
   {
    "duration": 12,
    "start_time": "2022-01-19T19:08:49.759Z"
   },
   {
    "duration": 4,
    "start_time": "2022-01-19T19:08:49.773Z"
   },
   {
    "duration": 10,
    "start_time": "2022-01-19T19:08:49.779Z"
   },
   {
    "duration": 7,
    "start_time": "2022-01-19T19:08:49.790Z"
   },
   {
    "duration": 4,
    "start_time": "2022-01-19T19:08:49.799Z"
   },
   {
    "duration": 10,
    "start_time": "2022-01-19T19:08:49.805Z"
   },
   {
    "duration": 13,
    "start_time": "2022-01-19T19:08:49.816Z"
   },
   {
    "duration": 51,
    "start_time": "2022-01-19T19:08:49.831Z"
   },
   {
    "duration": 392,
    "start_time": "2022-01-19T19:08:49.884Z"
   },
   {
    "duration": 7,
    "start_time": "2022-01-19T19:08:50.278Z"
   },
   {
    "duration": 317,
    "start_time": "2022-01-19T19:08:50.287Z"
   },
   {
    "duration": 13,
    "start_time": "2022-01-19T19:08:50.606Z"
   },
   {
    "duration": 19,
    "start_time": "2022-01-19T19:08:50.620Z"
   },
   {
    "duration": 1219,
    "start_time": "2022-01-19T19:08:50.640Z"
   },
   {
    "duration": 19,
    "start_time": "2022-01-19T19:08:51.860Z"
   },
   {
    "duration": 57,
    "start_time": "2022-01-19T19:08:51.881Z"
   },
   {
    "duration": 51,
    "start_time": "2022-01-19T19:08:51.940Z"
   },
   {
    "duration": 22,
    "start_time": "2022-01-19T19:08:51.993Z"
   },
   {
    "duration": 16,
    "start_time": "2022-01-19T19:08:52.017Z"
   },
   {
    "duration": 40,
    "start_time": "2022-01-19T19:08:52.035Z"
   },
   {
    "duration": 14,
    "start_time": "2022-01-19T19:08:52.077Z"
   },
   {
    "duration": 8,
    "start_time": "2022-01-19T19:08:52.094Z"
   },
   {
    "duration": 10,
    "start_time": "2022-01-19T19:08:52.104Z"
   },
   {
    "duration": 4,
    "start_time": "2022-01-19T19:08:52.115Z"
   },
   {
    "duration": 13,
    "start_time": "2022-01-19T19:08:52.121Z"
   },
   {
    "duration": 20,
    "start_time": "2022-01-19T19:08:52.172Z"
   },
   {
    "duration": 1151,
    "start_time": "2022-01-19T19:08:52.194Z"
   },
   {
    "duration": 4,
    "start_time": "2022-01-19T19:08:53.347Z"
   },
   {
    "duration": 325,
    "start_time": "2022-01-19T19:08:53.353Z"
   },
   {
    "duration": 7,
    "start_time": "2022-01-19T19:08:53.680Z"
   },
   {
    "duration": 609,
    "start_time": "2022-01-19T19:08:53.689Z"
   },
   {
    "duration": 30,
    "start_time": "2022-01-19T19:08:54.300Z"
   },
   {
    "duration": 1852,
    "start_time": "2022-01-19T19:08:54.331Z"
   },
   {
    "duration": 267,
    "start_time": "2022-01-19T19:08:56.184Z"
   },
   {
    "duration": 39,
    "start_time": "2022-01-19T19:08:56.453Z"
   },
   {
    "duration": 27,
    "start_time": "2022-01-19T19:08:56.494Z"
   },
   {
    "duration": 57,
    "start_time": "2022-01-19T19:08:56.522Z"
   },
   {
    "duration": 8,
    "start_time": "2022-01-19T19:08:56.581Z"
   },
   {
    "duration": 29,
    "start_time": "2022-01-19T19:08:56.591Z"
   },
   {
    "duration": 16,
    "start_time": "2022-01-19T19:08:56.623Z"
   },
   {
    "duration": 10,
    "start_time": "2022-01-19T19:08:56.640Z"
   },
   {
    "duration": 3,
    "start_time": "2022-01-19T19:09:31.961Z"
   },
   {
    "duration": 4,
    "start_time": "2022-01-19T19:09:31.966Z"
   },
   {
    "duration": 35,
    "start_time": "2022-01-19T19:09:31.972Z"
   },
   {
    "duration": 12,
    "start_time": "2022-01-19T19:09:32.008Z"
   },
   {
    "duration": 10,
    "start_time": "2022-01-19T19:09:32.021Z"
   },
   {
    "duration": 4,
    "start_time": "2022-01-19T19:09:32.033Z"
   },
   {
    "duration": 37,
    "start_time": "2022-01-19T19:09:32.038Z"
   },
   {
    "duration": 8,
    "start_time": "2022-01-19T19:09:32.077Z"
   },
   {
    "duration": 4,
    "start_time": "2022-01-19T19:09:32.088Z"
   },
   {
    "duration": 7,
    "start_time": "2022-01-19T19:09:32.094Z"
   },
   {
    "duration": 9,
    "start_time": "2022-01-19T19:09:32.103Z"
   },
   {
    "duration": 13,
    "start_time": "2022-01-19T19:09:32.114Z"
   },
   {
    "duration": 403,
    "start_time": "2022-01-19T19:09:32.129Z"
   },
   {
    "duration": 6,
    "start_time": "2022-01-19T19:09:32.533Z"
   },
   {
    "duration": 323,
    "start_time": "2022-01-19T19:09:32.541Z"
   },
   {
    "duration": 17,
    "start_time": "2022-01-19T19:09:32.866Z"
   },
   {
    "duration": 20,
    "start_time": "2022-01-19T19:09:32.885Z"
   },
   {
    "duration": 1294,
    "start_time": "2022-01-19T19:09:32.906Z"
   },
   {
    "duration": 13,
    "start_time": "2022-01-19T19:09:34.201Z"
   },
   {
    "duration": 71,
    "start_time": "2022-01-19T19:09:34.215Z"
   },
   {
    "duration": 17,
    "start_time": "2022-01-19T19:09:34.287Z"
   },
   {
    "duration": 13,
    "start_time": "2022-01-19T19:09:34.306Z"
   },
   {
    "duration": 10,
    "start_time": "2022-01-19T19:09:34.320Z"
   },
   {
    "duration": 43,
    "start_time": "2022-01-19T19:09:34.331Z"
   },
   {
    "duration": 14,
    "start_time": "2022-01-19T19:09:34.376Z"
   },
   {
    "duration": 3,
    "start_time": "2022-01-19T19:09:34.392Z"
   },
   {
    "duration": 7,
    "start_time": "2022-01-19T19:09:34.398Z"
   },
   {
    "duration": 3,
    "start_time": "2022-01-19T19:09:34.407Z"
   },
   {
    "duration": 12,
    "start_time": "2022-01-19T19:09:34.412Z"
   },
   {
    "duration": 47,
    "start_time": "2022-01-19T19:09:34.425Z"
   },
   {
    "duration": 1026,
    "start_time": "2022-01-19T19:09:34.474Z"
   },
   {
    "duration": 5,
    "start_time": "2022-01-19T19:09:35.502Z"
   },
   {
    "duration": 327,
    "start_time": "2022-01-19T19:09:35.509Z"
   },
   {
    "duration": 9,
    "start_time": "2022-01-19T19:09:35.838Z"
   },
   {
    "duration": 611,
    "start_time": "2022-01-19T19:09:35.848Z"
   },
   {
    "duration": 40,
    "start_time": "2022-01-19T19:09:36.461Z"
   },
   {
    "duration": 1971,
    "start_time": "2022-01-19T19:09:36.503Z"
   },
   {
    "duration": 261,
    "start_time": "2022-01-19T19:09:38.475Z"
   },
   {
    "duration": 38,
    "start_time": "2022-01-19T19:09:38.737Z"
   },
   {
    "duration": 28,
    "start_time": "2022-01-19T19:09:38.776Z"
   },
   {
    "duration": 29,
    "start_time": "2022-01-19T19:09:38.805Z"
   },
   {
    "duration": 38,
    "start_time": "2022-01-19T19:09:38.836Z"
   },
   {
    "duration": 9,
    "start_time": "2022-01-19T19:09:38.875Z"
   },
   {
    "duration": 8,
    "start_time": "2022-01-19T19:09:38.886Z"
   },
   {
    "duration": 9,
    "start_time": "2022-01-19T19:09:38.895Z"
   },
   {
    "duration": 1147,
    "start_time": "2022-01-19T19:37:44.960Z"
   },
   {
    "duration": 3,
    "start_time": "2022-01-19T19:37:46.109Z"
   },
   {
    "duration": 40,
    "start_time": "2022-01-19T19:37:46.115Z"
   },
   {
    "duration": 15,
    "start_time": "2022-01-19T19:37:46.157Z"
   },
   {
    "duration": 9,
    "start_time": "2022-01-19T19:37:46.174Z"
   },
   {
    "duration": 3,
    "start_time": "2022-01-19T19:37:46.185Z"
   },
   {
    "duration": 9,
    "start_time": "2022-01-19T19:37:46.189Z"
   },
   {
    "duration": 7,
    "start_time": "2022-01-19T19:37:46.200Z"
   },
   {
    "duration": 4,
    "start_time": "2022-01-19T19:37:46.209Z"
   },
   {
    "duration": 6,
    "start_time": "2022-01-19T19:37:46.215Z"
   },
   {
    "duration": 13,
    "start_time": "2022-01-19T19:37:46.223Z"
   },
   {
    "duration": 47,
    "start_time": "2022-01-19T19:37:46.238Z"
   },
   {
    "duration": 394,
    "start_time": "2022-01-19T19:37:46.287Z"
   },
   {
    "duration": 8,
    "start_time": "2022-01-19T19:37:46.683Z"
   },
   {
    "duration": 323,
    "start_time": "2022-01-19T19:37:46.693Z"
   },
   {
    "duration": 21,
    "start_time": "2022-01-19T19:37:47.019Z"
   },
   {
    "duration": 45,
    "start_time": "2022-01-19T19:37:47.042Z"
   },
   {
    "duration": 1388,
    "start_time": "2022-01-19T19:37:47.089Z"
   },
   {
    "duration": 16,
    "start_time": "2022-01-19T19:37:48.480Z"
   },
   {
    "duration": 84,
    "start_time": "2022-01-19T19:37:48.497Z"
   },
   {
    "duration": 27,
    "start_time": "2022-01-19T19:37:48.583Z"
   },
   {
    "duration": 131,
    "start_time": "2022-01-19T19:37:48.612Z"
   },
   {
    "duration": 11,
    "start_time": "2022-01-19T19:37:48.745Z"
   },
   {
    "duration": 22,
    "start_time": "2022-01-19T19:37:48.757Z"
   },
   {
    "duration": 15,
    "start_time": "2022-01-19T19:37:48.781Z"
   },
   {
    "duration": 8,
    "start_time": "2022-01-19T19:37:48.797Z"
   },
   {
    "duration": 8,
    "start_time": "2022-01-19T19:37:48.809Z"
   },
   {
    "duration": 4,
    "start_time": "2022-01-19T19:37:48.819Z"
   },
   {
    "duration": 49,
    "start_time": "2022-01-19T19:37:48.824Z"
   },
   {
    "duration": 32,
    "start_time": "2022-01-19T19:37:48.875Z"
   },
   {
    "duration": 1386,
    "start_time": "2022-01-19T19:37:48.909Z"
   },
   {
    "duration": 6,
    "start_time": "2022-01-19T19:37:50.297Z"
   },
   {
    "duration": 418,
    "start_time": "2022-01-19T19:37:50.305Z"
   },
   {
    "duration": 9,
    "start_time": "2022-01-19T19:37:50.725Z"
   },
   {
    "duration": 663,
    "start_time": "2022-01-19T19:37:50.736Z"
   },
   {
    "duration": 44,
    "start_time": "2022-01-19T19:37:51.401Z"
   },
   {
    "duration": 1762,
    "start_time": "2022-01-19T19:37:51.447Z"
   },
   {
    "duration": 277,
    "start_time": "2022-01-19T19:37:53.211Z"
   },
   {
    "duration": 39,
    "start_time": "2022-01-19T19:37:53.489Z"
   },
   {
    "duration": 70,
    "start_time": "2022-01-19T19:37:53.530Z"
   },
   {
    "duration": 44,
    "start_time": "2022-01-19T19:37:53.602Z"
   },
   {
    "duration": 25,
    "start_time": "2022-01-19T19:37:53.648Z"
   },
   {
    "duration": 14,
    "start_time": "2022-01-19T19:37:53.675Z"
   },
   {
    "duration": 10,
    "start_time": "2022-01-19T19:37:53.691Z"
   },
   {
    "duration": 10,
    "start_time": "2022-01-19T19:37:53.703Z"
   },
   {
    "duration": 113,
    "start_time": "2022-01-24T01:21:36.965Z"
   },
   {
    "duration": 413,
    "start_time": "2022-01-24T01:26:37.906Z"
   },
   {
    "duration": 1456,
    "start_time": "2022-01-24T01:26:53.442Z"
   },
   {
    "duration": 3,
    "start_time": "2022-01-24T01:26:54.901Z"
   },
   {
    "duration": 50,
    "start_time": "2022-01-24T01:26:54.907Z"
   },
   {
    "duration": 24,
    "start_time": "2022-01-24T01:26:54.959Z"
   },
   {
    "duration": 13,
    "start_time": "2022-01-24T01:26:54.985Z"
   },
   {
    "duration": 34,
    "start_time": "2022-01-24T01:26:55.000Z"
   },
   {
    "duration": 17,
    "start_time": "2022-01-24T01:26:55.036Z"
   },
   {
    "duration": 9,
    "start_time": "2022-01-24T01:26:55.057Z"
   },
   {
    "duration": 5,
    "start_time": "2022-01-24T01:26:55.069Z"
   },
   {
    "duration": 9,
    "start_time": "2022-01-24T01:26:55.076Z"
   },
   {
    "duration": 52,
    "start_time": "2022-01-24T01:26:55.087Z"
   },
   {
    "duration": 25,
    "start_time": "2022-01-24T01:26:55.141Z"
   },
   {
    "duration": 728,
    "start_time": "2022-01-24T01:26:55.169Z"
   },
   {
    "duration": 10,
    "start_time": "2022-01-24T01:26:55.900Z"
   },
   {
    "duration": 545,
    "start_time": "2022-01-24T01:26:55.912Z"
   },
   {
    "duration": 577,
    "start_time": "2022-01-24T01:26:56.459Z"
   },
   {
    "duration": 29,
    "start_time": "2022-01-24T01:26:57.039Z"
   },
   {
    "duration": 65,
    "start_time": "2022-01-24T01:26:57.071Z"
   },
   {
    "duration": 2867,
    "start_time": "2022-01-24T01:26:57.139Z"
   },
   {
    "duration": 34,
    "start_time": "2022-01-24T01:27:00.008Z"
   },
   {
    "duration": 98,
    "start_time": "2022-01-24T01:27:00.044Z"
   },
   {
    "duration": 28,
    "start_time": "2022-01-24T01:27:00.145Z"
   },
   {
    "duration": 22,
    "start_time": "2022-01-24T01:27:00.179Z"
   },
   {
    "duration": 49,
    "start_time": "2022-01-24T01:27:00.204Z"
   },
   {
    "duration": 40,
    "start_time": "2022-01-24T01:27:00.256Z"
   },
   {
    "duration": 47,
    "start_time": "2022-01-24T01:27:00.299Z"
   },
   {
    "duration": 9,
    "start_time": "2022-01-24T01:27:00.348Z"
   },
   {
    "duration": 24,
    "start_time": "2022-01-24T01:27:00.359Z"
   },
   {
    "duration": 4,
    "start_time": "2022-01-24T01:27:00.386Z"
   },
   {
    "duration": 45,
    "start_time": "2022-01-24T01:27:00.392Z"
   },
   {
    "duration": 33,
    "start_time": "2022-01-24T01:27:00.440Z"
   },
   {
    "duration": 1833,
    "start_time": "2022-01-24T01:27:00.476Z"
   },
   {
    "duration": 7,
    "start_time": "2022-01-24T01:27:02.312Z"
   },
   {
    "duration": 571,
    "start_time": "2022-01-24T01:27:02.333Z"
   },
   {
    "duration": 11,
    "start_time": "2022-01-24T01:27:02.906Z"
   },
   {
    "duration": 829,
    "start_time": "2022-01-24T01:27:02.933Z"
   },
   {
    "duration": 67,
    "start_time": "2022-01-24T01:27:03.765Z"
   },
   {
    "duration": 3041,
    "start_time": "2022-01-24T01:27:03.834Z"
   },
   {
    "duration": 466,
    "start_time": "2022-01-24T01:27:06.878Z"
   },
   {
    "duration": 51,
    "start_time": "2022-01-24T01:27:07.347Z"
   },
   {
    "duration": 80,
    "start_time": "2022-01-24T01:27:07.401Z"
   },
   {
    "duration": 193,
    "start_time": "2022-01-24T01:27:07.484Z"
   },
   {
    "duration": 11,
    "start_time": "2022-01-24T01:27:07.680Z"
   },
   {
    "duration": 51,
    "start_time": "2022-01-24T01:27:07.693Z"
   },
   {
    "duration": 12,
    "start_time": "2022-01-24T01:27:07.746Z"
   },
   {
    "duration": 13,
    "start_time": "2022-01-24T01:27:07.760Z"
   },
   {
    "duration": 1190,
    "start_time": "2022-01-24T09:57:44.648Z"
   },
   {
    "duration": 2,
    "start_time": "2022-01-24T09:57:45.840Z"
   },
   {
    "duration": 70,
    "start_time": "2022-01-24T09:57:45.844Z"
   },
   {
    "duration": 17,
    "start_time": "2022-01-24T09:57:45.916Z"
   },
   {
    "duration": 36,
    "start_time": "2022-01-24T09:57:45.934Z"
   },
   {
    "duration": 30,
    "start_time": "2022-01-24T09:57:45.972Z"
   },
   {
    "duration": 31,
    "start_time": "2022-01-24T09:57:46.003Z"
   },
   {
    "duration": 9,
    "start_time": "2022-01-24T09:57:46.035Z"
   },
   {
    "duration": 14,
    "start_time": "2022-01-24T09:57:46.047Z"
   },
   {
    "duration": 6,
    "start_time": "2022-01-24T09:57:46.063Z"
   },
   {
    "duration": 12,
    "start_time": "2022-01-24T09:57:46.071Z"
   },
   {
    "duration": 21,
    "start_time": "2022-01-24T09:57:46.084Z"
   },
   {
    "duration": 409,
    "start_time": "2022-01-24T09:57:46.106Z"
   },
   {
    "duration": 7,
    "start_time": "2022-01-24T09:57:46.516Z"
   },
   {
    "duration": 335,
    "start_time": "2022-01-24T09:57:46.525Z"
   },
   {
    "duration": 334,
    "start_time": "2022-01-24T09:57:46.862Z"
   },
   {
    "duration": 16,
    "start_time": "2022-01-24T09:57:47.198Z"
   },
   {
    "duration": 25,
    "start_time": "2022-01-24T09:57:47.216Z"
   },
   {
    "duration": 1414,
    "start_time": "2022-01-24T09:57:47.242Z"
   },
   {
    "duration": 15,
    "start_time": "2022-01-24T09:57:48.658Z"
   },
   {
    "duration": 62,
    "start_time": "2022-01-24T09:57:48.675Z"
   },
   {
    "duration": 41,
    "start_time": "2022-01-24T09:57:48.739Z"
   },
   {
    "duration": 17,
    "start_time": "2022-01-24T09:57:48.782Z"
   },
   {
    "duration": 13,
    "start_time": "2022-01-24T09:57:48.801Z"
   },
   {
    "duration": 49,
    "start_time": "2022-01-24T09:57:48.816Z"
   },
   {
    "duration": 16,
    "start_time": "2022-01-24T09:57:48.867Z"
   },
   {
    "duration": 4,
    "start_time": "2022-01-24T09:57:48.888Z"
   },
   {
    "duration": 9,
    "start_time": "2022-01-24T09:57:48.895Z"
   },
   {
    "duration": 5,
    "start_time": "2022-01-24T09:57:48.906Z"
   },
   {
    "duration": 57,
    "start_time": "2022-01-24T09:57:48.913Z"
   },
   {
    "duration": 23,
    "start_time": "2022-01-24T09:57:48.972Z"
   },
   {
    "duration": 1150,
    "start_time": "2022-01-24T09:57:48.998Z"
   },
   {
    "duration": 13,
    "start_time": "2022-01-24T09:57:50.150Z"
   },
   {
    "duration": 347,
    "start_time": "2022-01-24T09:57:50.165Z"
   },
   {
    "duration": 8,
    "start_time": "2022-01-24T09:57:50.515Z"
   },
   {
    "duration": 653,
    "start_time": "2022-01-24T09:57:50.525Z"
   },
   {
    "duration": 34,
    "start_time": "2022-01-24T09:57:51.180Z"
   },
   {
    "duration": 1860,
    "start_time": "2022-01-24T09:57:51.215Z"
   },
   {
    "duration": 298,
    "start_time": "2022-01-24T09:57:53.077Z"
   },
   {
    "duration": 33,
    "start_time": "2022-01-24T09:57:53.377Z"
   },
   {
    "duration": 55,
    "start_time": "2022-01-24T09:57:53.411Z"
   },
   {
    "duration": 153,
    "start_time": "2022-01-24T09:57:53.468Z"
   },
   {
    "duration": 8,
    "start_time": "2022-01-24T09:57:53.623Z"
   },
   {
    "duration": 34,
    "start_time": "2022-01-24T09:57:53.633Z"
   },
   {
    "duration": 9,
    "start_time": "2022-01-24T09:57:53.668Z"
   },
   {
    "duration": 10,
    "start_time": "2022-01-24T09:57:53.679Z"
   },
   {
    "duration": 4,
    "start_time": "2022-01-24T09:58:02.007Z"
   },
   {
    "duration": 16,
    "start_time": "2022-01-24T10:09:11.756Z"
   },
   {
    "duration": 81,
    "start_time": "2022-01-24T10:09:28.583Z"
   },
   {
    "duration": 21,
    "start_time": "2022-01-24T10:09:42.508Z"
   },
   {
    "duration": 23,
    "start_time": "2022-01-24T10:09:55.119Z"
   },
   {
    "duration": 13,
    "start_time": "2022-01-24T10:10:00.011Z"
   },
   {
    "duration": 14,
    "start_time": "2022-01-24T10:10:02.905Z"
   },
   {
    "duration": 15,
    "start_time": "2022-01-24T10:10:06.164Z"
   },
   {
    "duration": 4,
    "start_time": "2022-01-24T10:10:08.310Z"
   },
   {
    "duration": 4,
    "start_time": "2022-01-24T10:11:18.617Z"
   },
   {
    "duration": 81,
    "start_time": "2022-01-24T10:12:52.178Z"
   },
   {
    "duration": 3,
    "start_time": "2022-01-24T10:13:10.677Z"
   },
   {
    "duration": 282,
    "start_time": "2022-01-24T10:24:26.598Z"
   },
   {
    "duration": 9,
    "start_time": "2022-01-24T10:39:53.509Z"
   },
   {
    "duration": 4,
    "start_time": "2022-01-24T10:39:56.330Z"
   },
   {
    "duration": 15,
    "start_time": "2022-01-24T10:39:58.671Z"
   },
   {
    "duration": 20,
    "start_time": "2022-01-24T10:40:00.366Z"
   },
   {
    "duration": 1018,
    "start_time": "2022-01-24T10:40:01.894Z"
   },
   {
    "duration": 1099,
    "start_time": "2022-01-24T15:41:32.124Z"
   },
   {
    "duration": 2,
    "start_time": "2022-01-24T15:41:33.225Z"
   },
   {
    "duration": 37,
    "start_time": "2022-01-24T15:41:33.230Z"
   },
   {
    "duration": 22,
    "start_time": "2022-01-24T15:41:33.269Z"
   },
   {
    "duration": 10,
    "start_time": "2022-01-24T15:41:33.293Z"
   },
   {
    "duration": 5,
    "start_time": "2022-01-24T15:41:33.305Z"
   },
   {
    "duration": 9,
    "start_time": "2022-01-24T15:41:33.311Z"
   },
   {
    "duration": 8,
    "start_time": "2022-01-24T15:41:33.323Z"
   },
   {
    "duration": 4,
    "start_time": "2022-01-24T15:41:33.333Z"
   },
   {
    "duration": 7,
    "start_time": "2022-01-24T15:41:33.373Z"
   },
   {
    "duration": 10,
    "start_time": "2022-01-24T15:41:33.383Z"
   },
   {
    "duration": 15,
    "start_time": "2022-01-24T15:41:33.394Z"
   },
   {
    "duration": 411,
    "start_time": "2022-01-24T15:41:33.410Z"
   },
   {
    "duration": 7,
    "start_time": "2022-01-24T15:41:33.822Z"
   },
   {
    "duration": 319,
    "start_time": "2022-01-24T15:41:33.830Z"
   },
   {
    "duration": 335,
    "start_time": "2022-01-24T15:41:34.151Z"
   },
   {
    "duration": 13,
    "start_time": "2022-01-24T15:41:34.488Z"
   },
   {
    "duration": 19,
    "start_time": "2022-01-24T15:41:34.502Z"
   },
   {
    "duration": 1315,
    "start_time": "2022-01-24T15:41:34.523Z"
   },
   {
    "duration": 14,
    "start_time": "2022-01-24T15:41:35.839Z"
   },
   {
    "duration": 89,
    "start_time": "2022-01-24T15:41:35.855Z"
   },
   {
    "duration": 37,
    "start_time": "2022-01-24T15:41:35.946Z"
   },
   {
    "duration": 18,
    "start_time": "2022-01-24T15:41:35.988Z"
   },
   {
    "duration": 11,
    "start_time": "2022-01-24T15:41:36.008Z"
   },
   {
    "duration": 20,
    "start_time": "2022-01-24T15:41:36.021Z"
   },
   {
    "duration": 38,
    "start_time": "2022-01-24T15:41:36.042Z"
   },
   {
    "duration": 4,
    "start_time": "2022-01-24T15:41:36.083Z"
   },
   {
    "duration": 23,
    "start_time": "2022-01-24T15:41:36.089Z"
   },
   {
    "duration": 9,
    "start_time": "2022-01-24T15:41:36.114Z"
   },
   {
    "duration": 24,
    "start_time": "2022-01-24T15:41:36.125Z"
   },
   {
    "duration": 19,
    "start_time": "2022-01-24T15:41:36.150Z"
   },
   {
    "duration": 953,
    "start_time": "2022-01-24T15:41:36.170Z"
   },
   {
    "duration": 4,
    "start_time": "2022-01-24T15:41:37.125Z"
   },
   {
    "duration": 325,
    "start_time": "2022-01-24T15:41:37.130Z"
   },
   {
    "duration": 7,
    "start_time": "2022-01-24T15:41:37.457Z"
   },
   {
    "duration": 608,
    "start_time": "2022-01-24T15:41:37.472Z"
   },
   {
    "duration": 26,
    "start_time": "2022-01-24T15:41:38.081Z"
   },
   {
    "duration": 1277,
    "start_time": "2022-01-24T15:41:38.109Z"
   },
   {
    "duration": 255,
    "start_time": "2022-01-24T15:41:39.388Z"
   },
   {
    "duration": 46,
    "start_time": "2022-01-24T15:41:39.645Z"
   },
   {
    "duration": 49,
    "start_time": "2022-01-24T15:41:39.692Z"
   },
   {
    "duration": 116,
    "start_time": "2022-01-24T15:41:39.743Z"
   },
   {
    "duration": 18,
    "start_time": "2022-01-24T15:41:39.860Z"
   },
   {
    "duration": 33,
    "start_time": "2022-01-24T15:41:39.881Z"
   },
   {
    "duration": 21,
    "start_time": "2022-01-24T15:41:39.915Z"
   },
   {
    "duration": 31,
    "start_time": "2022-01-24T15:41:39.938Z"
   },
   {
    "duration": 19,
    "start_time": "2022-01-24T15:43:15.830Z"
   },
   {
    "duration": 259,
    "start_time": "2022-01-24T15:46:47.957Z"
   },
   {
    "duration": 270,
    "start_time": "2022-01-24T15:49:18.809Z"
   },
   {
    "duration": 406,
    "start_time": "2022-01-24T15:50:30.063Z"
   },
   {
    "duration": 250,
    "start_time": "2022-01-24T15:50:36.293Z"
   },
   {
    "duration": 143,
    "start_time": "2022-01-24T15:52:53.589Z"
   },
   {
    "duration": 99,
    "start_time": "2022-01-24T15:52:58.253Z"
   },
   {
    "duration": 109,
    "start_time": "2022-01-24T15:53:26.108Z"
   },
   {
    "duration": 112,
    "start_time": "2022-01-24T15:54:02.694Z"
   },
   {
    "duration": 107,
    "start_time": "2022-01-24T15:54:10.264Z"
   },
   {
    "duration": 105,
    "start_time": "2022-01-24T15:54:26.913Z"
   },
   {
    "duration": 271,
    "start_time": "2022-01-24T15:55:27.181Z"
   },
   {
    "duration": 31,
    "start_time": "2022-01-24T15:56:15.833Z"
   },
   {
    "duration": 35,
    "start_time": "2022-01-24T15:56:30.069Z"
   },
   {
    "duration": 29,
    "start_time": "2022-01-24T16:12:11.727Z"
   },
   {
    "duration": 40,
    "start_time": "2022-01-24T16:12:24.125Z"
   },
   {
    "duration": 29,
    "start_time": "2022-01-24T16:13:14.970Z"
   },
   {
    "duration": 31,
    "start_time": "2022-01-24T16:13:28.218Z"
   },
   {
    "duration": 23,
    "start_time": "2022-01-24T16:25:23.758Z"
   },
   {
    "duration": 21,
    "start_time": "2022-01-24T16:25:36.714Z"
   },
   {
    "duration": 103,
    "start_time": "2022-01-24T16:25:43.584Z"
   },
   {
    "duration": 45,
    "start_time": "2022-01-24T16:25:48.482Z"
   },
   {
    "duration": 31,
    "start_time": "2022-01-24T16:25:58.303Z"
   },
   {
    "duration": 3,
    "start_time": "2022-01-24T16:26:00.828Z"
   },
   {
    "duration": 6,
    "start_time": "2022-01-24T16:26:00.833Z"
   },
   {
    "duration": 53,
    "start_time": "2022-01-24T16:26:00.841Z"
   },
   {
    "duration": 18,
    "start_time": "2022-01-24T16:26:00.896Z"
   },
   {
    "duration": 11,
    "start_time": "2022-01-24T16:26:00.916Z"
   },
   {
    "duration": 5,
    "start_time": "2022-01-24T16:26:00.930Z"
   },
   {
    "duration": 42,
    "start_time": "2022-01-24T16:26:00.937Z"
   },
   {
    "duration": 25,
    "start_time": "2022-01-24T16:26:00.981Z"
   },
   {
    "duration": 8,
    "start_time": "2022-01-24T16:26:01.009Z"
   },
   {
    "duration": 10,
    "start_time": "2022-01-24T16:26:01.019Z"
   },
   {
    "duration": 11,
    "start_time": "2022-01-24T16:26:01.031Z"
   },
   {
    "duration": 31,
    "start_time": "2022-01-24T16:26:01.044Z"
   },
   {
    "duration": 564,
    "start_time": "2022-01-24T16:26:01.077Z"
   },
   {
    "duration": 8,
    "start_time": "2022-01-24T16:26:01.643Z"
   },
   {
    "duration": 322,
    "start_time": "2022-01-24T16:26:01.652Z"
   },
   {
    "duration": 314,
    "start_time": "2022-01-24T16:26:01.975Z"
   },
   {
    "duration": 13,
    "start_time": "2022-01-24T16:26:02.290Z"
   },
   {
    "duration": 17,
    "start_time": "2022-01-24T16:26:02.304Z"
   },
   {
    "duration": 1316,
    "start_time": "2022-01-24T16:26:02.323Z"
   },
   {
    "duration": 14,
    "start_time": "2022-01-24T16:26:03.640Z"
   },
   {
    "duration": 87,
    "start_time": "2022-01-24T16:26:03.655Z"
   },
   {
    "duration": 32,
    "start_time": "2022-01-24T16:26:03.744Z"
   },
   {
    "duration": 14,
    "start_time": "2022-01-24T16:26:03.778Z"
   },
   {
    "duration": 11,
    "start_time": "2022-01-24T16:26:03.794Z"
   },
   {
    "duration": 13,
    "start_time": "2022-01-24T16:26:03.806Z"
   },
   {
    "duration": 13,
    "start_time": "2022-01-24T16:26:03.823Z"
   },
   {
    "duration": 37,
    "start_time": "2022-01-24T16:26:03.837Z"
   },
   {
    "duration": 7,
    "start_time": "2022-01-24T16:26:03.875Z"
   },
   {
    "duration": 3,
    "start_time": "2022-01-24T16:26:03.884Z"
   },
   {
    "duration": 12,
    "start_time": "2022-01-24T16:26:03.888Z"
   },
   {
    "duration": 17,
    "start_time": "2022-01-24T16:26:03.901Z"
   },
   {
    "duration": 976,
    "start_time": "2022-01-24T16:26:03.920Z"
   },
   {
    "duration": 4,
    "start_time": "2022-01-24T16:26:04.897Z"
   },
   {
    "duration": 453,
    "start_time": "2022-01-24T16:26:04.903Z"
   },
   {
    "duration": 14,
    "start_time": "2022-01-24T16:26:05.357Z"
   },
   {
    "duration": 599,
    "start_time": "2022-01-24T16:26:05.373Z"
   },
   {
    "duration": 27,
    "start_time": "2022-01-24T16:26:05.973Z"
   },
   {
    "duration": 1259,
    "start_time": "2022-01-24T16:26:06.002Z"
   },
   {
    "duration": 269,
    "start_time": "2022-01-24T16:26:07.263Z"
   },
   {
    "duration": 471,
    "start_time": "2022-01-24T16:26:07.533Z"
   },
   {
    "duration": 28,
    "start_time": "2022-01-24T16:26:08.006Z"
   },
   {
    "duration": 53,
    "start_time": "2022-01-24T16:26:08.036Z"
   },
   {
    "duration": 32,
    "start_time": "2022-01-24T16:26:08.091Z"
   },
   {
    "duration": 10,
    "start_time": "2022-01-24T16:26:08.125Z"
   },
   {
    "duration": 39,
    "start_time": "2022-01-24T16:26:08.137Z"
   },
   {
    "duration": 10,
    "start_time": "2022-01-24T16:26:08.178Z"
   },
   {
    "duration": 13,
    "start_time": "2022-01-24T16:26:08.190Z"
   },
   {
    "duration": 321,
    "start_time": "2022-01-24T16:27:01.730Z"
   },
   {
    "duration": 4,
    "start_time": "2022-01-24T16:27:07.650Z"
   },
   {
    "duration": 5,
    "start_time": "2022-01-24T16:27:27.538Z"
   },
   {
    "duration": 4,
    "start_time": "2022-01-24T16:27:53.288Z"
   },
   {
    "duration": 22,
    "start_time": "2022-01-24T16:29:06.495Z"
   },
   {
    "duration": 27,
    "start_time": "2022-01-24T16:31:53.664Z"
   },
   {
    "duration": 31,
    "start_time": "2022-01-24T16:32:05.256Z"
   },
   {
    "duration": 8,
    "start_time": "2022-01-24T16:37:00.715Z"
   },
   {
    "duration": 9,
    "start_time": "2022-01-24T16:37:13.709Z"
   },
   {
    "duration": 7,
    "start_time": "2022-01-24T16:38:36.197Z"
   },
   {
    "duration": 10,
    "start_time": "2022-01-24T16:39:16.541Z"
   },
   {
    "duration": 1312,
    "start_time": "2022-01-24T18:02:19.616Z"
   },
   {
    "duration": 2,
    "start_time": "2022-01-24T18:02:20.930Z"
   },
   {
    "duration": 54,
    "start_time": "2022-01-24T18:02:20.935Z"
   },
   {
    "duration": 21,
    "start_time": "2022-01-24T18:02:20.992Z"
   },
   {
    "duration": 11,
    "start_time": "2022-01-24T18:02:21.015Z"
   },
   {
    "duration": 14,
    "start_time": "2022-01-24T18:02:21.028Z"
   },
   {
    "duration": 19,
    "start_time": "2022-01-24T18:02:21.043Z"
   },
   {
    "duration": 15,
    "start_time": "2022-01-24T18:02:21.064Z"
   },
   {
    "duration": 11,
    "start_time": "2022-01-24T18:02:21.083Z"
   },
   {
    "duration": 19,
    "start_time": "2022-01-24T18:02:21.096Z"
   },
   {
    "duration": 23,
    "start_time": "2022-01-24T18:02:21.118Z"
   },
   {
    "duration": 26,
    "start_time": "2022-01-24T18:02:21.142Z"
   },
   {
    "duration": 469,
    "start_time": "2022-01-24T18:02:21.169Z"
   },
   {
    "duration": 7,
    "start_time": "2022-01-24T18:02:21.639Z"
   },
   {
    "duration": 352,
    "start_time": "2022-01-24T18:02:21.647Z"
   },
   {
    "duration": 394,
    "start_time": "2022-01-24T18:02:22.001Z"
   },
   {
    "duration": 15,
    "start_time": "2022-01-24T18:02:22.398Z"
   },
   {
    "duration": 22,
    "start_time": "2022-01-24T18:02:22.415Z"
   },
   {
    "duration": 1523,
    "start_time": "2022-01-24T18:02:22.439Z"
   },
   {
    "duration": 33,
    "start_time": "2022-01-24T18:02:23.964Z"
   },
   {
    "duration": 95,
    "start_time": "2022-01-24T18:02:23.999Z"
   },
   {
    "duration": 18,
    "start_time": "2022-01-24T18:02:24.096Z"
   },
   {
    "duration": 14,
    "start_time": "2022-01-24T18:02:24.118Z"
   },
   {
    "duration": 23,
    "start_time": "2022-01-24T18:02:24.134Z"
   },
   {
    "duration": 39,
    "start_time": "2022-01-24T18:02:24.159Z"
   },
   {
    "duration": 20,
    "start_time": "2022-01-24T18:02:24.200Z"
   },
   {
    "duration": 19,
    "start_time": "2022-01-24T18:02:24.222Z"
   },
   {
    "duration": 14,
    "start_time": "2022-01-24T18:02:24.243Z"
   },
   {
    "duration": 28,
    "start_time": "2022-01-24T18:02:24.258Z"
   },
   {
    "duration": 25,
    "start_time": "2022-01-24T18:02:24.288Z"
   },
   {
    "duration": 32,
    "start_time": "2022-01-24T18:02:24.315Z"
   },
   {
    "duration": 1112,
    "start_time": "2022-01-24T18:02:24.349Z"
   },
   {
    "duration": 12,
    "start_time": "2022-01-24T18:02:25.463Z"
   },
   {
    "duration": 368,
    "start_time": "2022-01-24T18:02:25.478Z"
   },
   {
    "duration": 8,
    "start_time": "2022-01-24T18:02:25.848Z"
   },
   {
    "duration": 638,
    "start_time": "2022-01-24T18:02:25.857Z"
   },
   {
    "duration": 30,
    "start_time": "2022-01-24T18:02:26.497Z"
   },
   {
    "duration": 1502,
    "start_time": "2022-01-24T18:02:26.529Z"
   },
   {
    "duration": 300,
    "start_time": "2022-01-24T18:02:28.034Z"
   },
   {
    "duration": 42,
    "start_time": "2022-01-24T18:02:28.335Z"
   },
   {
    "duration": 36,
    "start_time": "2022-01-24T18:02:28.379Z"
   },
   {
    "duration": 137,
    "start_time": "2022-01-24T18:02:28.416Z"
   },
   {
    "duration": 18,
    "start_time": "2022-01-24T18:02:28.554Z"
   },
   {
    "duration": 12,
    "start_time": "2022-01-24T18:02:28.574Z"
   },
   {
    "duration": 8,
    "start_time": "2022-01-24T18:02:28.589Z"
   },
   {
    "duration": 11,
    "start_time": "2022-01-24T18:02:28.601Z"
   },
   {
    "duration": 1159,
    "start_time": "2022-01-24T18:28:25.294Z"
   },
   {
    "duration": 2,
    "start_time": "2022-01-24T18:28:26.455Z"
   },
   {
    "duration": 45,
    "start_time": "2022-01-24T18:28:26.459Z"
   },
   {
    "duration": 18,
    "start_time": "2022-01-24T18:28:26.506Z"
   },
   {
    "duration": 9,
    "start_time": "2022-01-24T18:28:26.526Z"
   },
   {
    "duration": 8,
    "start_time": "2022-01-24T18:28:26.537Z"
   },
   {
    "duration": 15,
    "start_time": "2022-01-24T18:28:26.547Z"
   },
   {
    "duration": 34,
    "start_time": "2022-01-24T18:28:26.565Z"
   },
   {
    "duration": 17,
    "start_time": "2022-01-24T18:28:26.601Z"
   },
   {
    "duration": 7,
    "start_time": "2022-01-24T18:28:26.620Z"
   },
   {
    "duration": 12,
    "start_time": "2022-01-24T18:28:26.629Z"
   },
   {
    "duration": 21,
    "start_time": "2022-01-24T18:28:26.643Z"
   },
   {
    "duration": 455,
    "start_time": "2022-01-24T18:28:26.666Z"
   },
   {
    "duration": 7,
    "start_time": "2022-01-24T18:28:27.123Z"
   },
   {
    "duration": 371,
    "start_time": "2022-01-24T18:28:27.132Z"
   },
   {
    "duration": 384,
    "start_time": "2022-01-24T18:28:27.505Z"
   },
   {
    "duration": 18,
    "start_time": "2022-01-24T18:28:27.891Z"
   },
   {
    "duration": 21,
    "start_time": "2022-01-24T18:28:27.911Z"
   },
   {
    "duration": 1549,
    "start_time": "2022-01-24T18:28:27.934Z"
   },
   {
    "duration": 18,
    "start_time": "2022-01-24T18:28:29.485Z"
   },
   {
    "duration": 96,
    "start_time": "2022-01-24T18:28:29.505Z"
   },
   {
    "duration": 21,
    "start_time": "2022-01-24T18:28:29.604Z"
   },
   {
    "duration": 14,
    "start_time": "2022-01-24T18:28:29.630Z"
   },
   {
    "duration": 10,
    "start_time": "2022-01-24T18:28:29.647Z"
   },
   {
    "duration": 49,
    "start_time": "2022-01-24T18:28:29.659Z"
   },
   {
    "duration": 20,
    "start_time": "2022-01-24T18:28:29.710Z"
   },
   {
    "duration": 7,
    "start_time": "2022-01-24T18:28:29.731Z"
   },
   {
    "duration": 10,
    "start_time": "2022-01-24T18:28:29.739Z"
   },
   {
    "duration": 6,
    "start_time": "2022-01-24T18:28:29.751Z"
   },
   {
    "duration": 42,
    "start_time": "2022-01-24T18:28:29.759Z"
   },
   {
    "duration": 19,
    "start_time": "2022-01-24T18:28:29.803Z"
   },
   {
    "duration": 1151,
    "start_time": "2022-01-24T18:28:29.824Z"
   },
   {
    "duration": 5,
    "start_time": "2022-01-24T18:28:30.977Z"
   },
   {
    "duration": 357,
    "start_time": "2022-01-24T18:28:30.997Z"
   },
   {
    "duration": 8,
    "start_time": "2022-01-24T18:28:31.356Z"
   },
   {
    "duration": 668,
    "start_time": "2022-01-24T18:28:31.366Z"
   },
   {
    "duration": 31,
    "start_time": "2022-01-24T18:28:32.035Z"
   },
   {
    "duration": 1475,
    "start_time": "2022-01-24T18:28:32.067Z"
   },
   {
    "duration": 311,
    "start_time": "2022-01-24T18:28:33.544Z"
   },
   {
    "duration": 56,
    "start_time": "2022-01-24T18:28:33.857Z"
   },
   {
    "duration": 45,
    "start_time": "2022-01-24T18:28:33.915Z"
   },
   {
    "duration": 173,
    "start_time": "2022-01-24T18:28:33.962Z"
   },
   {
    "duration": 6,
    "start_time": "2022-01-24T18:28:34.137Z"
   },
   {
    "duration": 15,
    "start_time": "2022-01-24T18:28:34.145Z"
   },
   {
    "duration": 12,
    "start_time": "2022-01-24T18:28:34.162Z"
   },
   {
    "duration": 26,
    "start_time": "2022-01-24T18:28:34.176Z"
   },
   {
    "duration": 10,
    "start_time": "2022-01-24T18:30:56.366Z"
   },
   {
    "duration": 1208,
    "start_time": "2022-01-24T19:45:03.774Z"
   },
   {
    "duration": 2,
    "start_time": "2022-01-24T19:45:04.984Z"
   },
   {
    "duration": 46,
    "start_time": "2022-01-24T19:45:04.988Z"
   },
   {
    "duration": 17,
    "start_time": "2022-01-24T19:45:05.036Z"
   },
   {
    "duration": 15,
    "start_time": "2022-01-24T19:45:05.055Z"
   },
   {
    "duration": 5,
    "start_time": "2022-01-24T19:45:05.072Z"
   },
   {
    "duration": 25,
    "start_time": "2022-01-24T19:45:05.079Z"
   },
   {
    "duration": 8,
    "start_time": "2022-01-24T19:45:05.106Z"
   },
   {
    "duration": 6,
    "start_time": "2022-01-24T19:45:05.117Z"
   },
   {
    "duration": 8,
    "start_time": "2022-01-24T19:45:05.126Z"
   },
   {
    "duration": 12,
    "start_time": "2022-01-24T19:45:05.135Z"
   },
   {
    "duration": 18,
    "start_time": "2022-01-24T19:45:05.148Z"
   },
   {
    "duration": 446,
    "start_time": "2022-01-24T19:45:05.167Z"
   },
   {
    "duration": 8,
    "start_time": "2022-01-24T19:45:05.615Z"
   },
   {
    "duration": 348,
    "start_time": "2022-01-24T19:45:05.625Z"
   },
   {
    "duration": 361,
    "start_time": "2022-01-24T19:45:05.975Z"
   },
   {
    "duration": 16,
    "start_time": "2022-01-24T19:45:06.337Z"
   },
   {
    "duration": 21,
    "start_time": "2022-01-24T19:45:06.355Z"
   },
   {
    "duration": 1442,
    "start_time": "2022-01-24T19:45:06.378Z"
   },
   {
    "duration": 15,
    "start_time": "2022-01-24T19:45:07.821Z"
   },
   {
    "duration": 90,
    "start_time": "2022-01-24T19:45:07.838Z"
   },
   {
    "duration": 20,
    "start_time": "2022-01-24T19:45:07.931Z"
   },
   {
    "duration": 16,
    "start_time": "2022-01-24T19:45:07.953Z"
   },
   {
    "duration": 31,
    "start_time": "2022-01-24T19:45:07.971Z"
   },
   {
    "duration": 14,
    "start_time": "2022-01-24T19:45:08.005Z"
   },
   {
    "duration": 35,
    "start_time": "2022-01-24T19:45:08.021Z"
   },
   {
    "duration": 9,
    "start_time": "2022-01-24T19:45:08.061Z"
   },
   {
    "duration": 19,
    "start_time": "2022-01-24T19:45:08.073Z"
   },
   {
    "duration": 4,
    "start_time": "2022-01-24T19:45:08.098Z"
   },
   {
    "duration": 22,
    "start_time": "2022-01-24T19:45:08.105Z"
   },
   {
    "duration": 27,
    "start_time": "2022-01-24T19:45:08.128Z"
   },
   {
    "duration": 1087,
    "start_time": "2022-01-24T19:45:08.156Z"
   },
   {
    "duration": 5,
    "start_time": "2022-01-24T19:45:09.244Z"
   },
   {
    "duration": 348,
    "start_time": "2022-01-24T19:45:09.251Z"
   },
   {
    "duration": 8,
    "start_time": "2022-01-24T19:45:09.601Z"
   },
   {
    "duration": 605,
    "start_time": "2022-01-24T19:45:09.611Z"
   },
   {
    "duration": 30,
    "start_time": "2022-01-24T19:45:10.218Z"
   },
   {
    "duration": 1375,
    "start_time": "2022-01-24T19:45:10.249Z"
   },
   {
    "duration": 298,
    "start_time": "2022-01-24T19:45:11.625Z"
   },
   {
    "duration": 33,
    "start_time": "2022-01-24T19:45:11.925Z"
   },
   {
    "duration": 53,
    "start_time": "2022-01-24T19:45:11.961Z"
   },
   {
    "duration": 162,
    "start_time": "2022-01-24T19:45:12.016Z"
   },
   {
    "duration": 18,
    "start_time": "2022-01-24T19:45:12.180Z"
   },
   {
    "duration": 11,
    "start_time": "2022-01-24T19:45:12.200Z"
   },
   {
    "duration": 9,
    "start_time": "2022-01-24T19:45:12.212Z"
   },
   {
    "duration": 7,
    "start_time": "2022-01-24T19:45:12.223Z"
   },
   {
    "duration": 4,
    "start_time": "2022-01-24T19:47:13.046Z"
   },
   {
    "duration": 34,
    "start_time": "2022-01-24T19:47:16.305Z"
   },
   {
    "duration": 1121,
    "start_time": "2022-01-24T20:07:54.842Z"
   },
   {
    "duration": 3,
    "start_time": "2022-01-24T20:07:55.964Z"
   },
   {
    "duration": 46,
    "start_time": "2022-01-24T20:07:55.969Z"
   },
   {
    "duration": 17,
    "start_time": "2022-01-24T20:07:56.017Z"
   },
   {
    "duration": 9,
    "start_time": "2022-01-24T20:07:56.036Z"
   },
   {
    "duration": 5,
    "start_time": "2022-01-24T20:07:56.047Z"
   },
   {
    "duration": 10,
    "start_time": "2022-01-24T20:07:56.053Z"
   },
   {
    "duration": 36,
    "start_time": "2022-01-24T20:07:56.066Z"
   },
   {
    "duration": 4,
    "start_time": "2022-01-24T20:07:56.105Z"
   },
   {
    "duration": 8,
    "start_time": "2022-01-24T20:07:56.110Z"
   },
   {
    "duration": 11,
    "start_time": "2022-01-24T20:07:56.120Z"
   },
   {
    "duration": 19,
    "start_time": "2022-01-24T20:07:56.133Z"
   },
   {
    "duration": 456,
    "start_time": "2022-01-24T20:07:56.154Z"
   },
   {
    "duration": 8,
    "start_time": "2022-01-24T20:07:56.612Z"
   },
   {
    "duration": 343,
    "start_time": "2022-01-24T20:07:56.622Z"
   },
   {
    "duration": 334,
    "start_time": "2022-01-24T20:07:56.967Z"
   },
   {
    "duration": 14,
    "start_time": "2022-01-24T20:07:57.302Z"
   },
   {
    "duration": 21,
    "start_time": "2022-01-24T20:07:57.318Z"
   },
   {
    "duration": 1447,
    "start_time": "2022-01-24T20:07:57.340Z"
   },
   {
    "duration": 18,
    "start_time": "2022-01-24T20:07:58.789Z"
   },
   {
    "duration": 89,
    "start_time": "2022-01-24T20:07:58.809Z"
   },
   {
    "duration": 19,
    "start_time": "2022-01-24T20:07:58.900Z"
   },
   {
    "duration": 14,
    "start_time": "2022-01-24T20:07:58.922Z"
   },
   {
    "duration": 11,
    "start_time": "2022-01-24T20:07:58.938Z"
   },
   {
    "duration": 47,
    "start_time": "2022-01-24T20:07:58.951Z"
   },
   {
    "duration": 16,
    "start_time": "2022-01-24T20:07:59.000Z"
   },
   {
    "duration": 6,
    "start_time": "2022-01-24T20:07:59.018Z"
   },
   {
    "duration": 13,
    "start_time": "2022-01-24T20:07:59.025Z"
   },
   {
    "duration": 3,
    "start_time": "2022-01-24T20:07:59.040Z"
   },
   {
    "duration": 15,
    "start_time": "2022-01-24T20:07:59.045Z"
   },
   {
    "duration": 49,
    "start_time": "2022-01-24T20:07:59.062Z"
   },
   {
    "duration": 1138,
    "start_time": "2022-01-24T20:07:59.113Z"
   },
   {
    "duration": 5,
    "start_time": "2022-01-24T20:08:00.253Z"
   },
   {
    "duration": 367,
    "start_time": "2022-01-24T20:08:00.260Z"
   },
   {
    "duration": 8,
    "start_time": "2022-01-24T20:08:00.628Z"
   },
   {
    "duration": 606,
    "start_time": "2022-01-24T20:08:00.637Z"
   },
   {
    "duration": 32,
    "start_time": "2022-01-24T20:08:01.244Z"
   },
   {
    "duration": 1495,
    "start_time": "2022-01-24T20:08:01.278Z"
   },
   {
    "duration": 325,
    "start_time": "2022-01-24T20:08:02.775Z"
   },
   {
    "duration": 37,
    "start_time": "2022-01-24T20:08:03.102Z"
   },
   {
    "duration": 63,
    "start_time": "2022-01-24T20:08:03.140Z"
   },
   {
    "duration": 4,
    "start_time": "2022-01-24T20:08:03.204Z"
   },
   {
    "duration": 162,
    "start_time": "2022-01-24T20:08:03.210Z"
   },
   {
    "duration": 6,
    "start_time": "2022-01-24T20:08:03.374Z"
   },
   {
    "duration": 23,
    "start_time": "2022-01-24T20:08:03.381Z"
   },
   {
    "duration": 12,
    "start_time": "2022-01-24T20:08:03.405Z"
   },
   {
    "duration": 15,
    "start_time": "2022-01-24T20:08:03.419Z"
   }
  ],
  "kernelspec": {
   "display_name": "Python 3 (ipykernel)",
   "language": "python",
   "name": "python3"
  },
  "language_info": {
   "codemirror_mode": {
    "name": "ipython",
    "version": 3
   },
   "file_extension": ".py",
   "mimetype": "text/x-python",
   "name": "python",
   "nbconvert_exporter": "python",
   "pygments_lexer": "ipython3",
   "version": "3.7.8"
  },
  "toc": {
   "base_numbering": 1,
   "nav_menu": {},
   "number_sections": true,
   "sideBar": true,
   "skip_h1_title": true,
   "title_cell": "Table of Contents",
   "title_sidebar": "Contents",
   "toc_cell": false,
   "toc_position": {},
   "toc_section_display": true,
   "toc_window_display": true
  }
 },
 "nbformat": 4,
 "nbformat_minor": 2
}
