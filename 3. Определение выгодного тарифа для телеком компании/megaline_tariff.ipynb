{
 "cells": [
  {
   "cell_type": "markdown",
   "metadata": {},
   "source": [
    "# Определение перспективного тарифа для телеком-компании"
   ]
  },
  {
   "cell_type": "markdown",
   "metadata": {},
   "source": [
    "**Описание исследования:**\n",
    "\n",
    "Клиентам компании «Мегалайн» предлагают два тарифных плана: «Смарт» и «Ультра». Чтобы скорректировать рекламный бюджет, коммерческий департамент хочет понять, какой тариф приносит больше денег.<br>\n",
    "\n",
    "**Цель исследования:**\n",
    "\n",
    "* Выполнить предварительный анализ тарифов на небольшой выборке клиентов - 500 пользователей «Мегалайна»: кто они, откуда, каким тарифом пользуются, сколько звонков и сообщений каждый отправил за 2018 год. \n",
    "* Проанализировать поведение клиентов и сделать вывод — какой тариф лучше.\n",
    "***"
   ]
  },
  {
   "cell_type": "markdown",
   "metadata": {},
   "source": [
    "**Описание тарифов**\n",
    "\n",
    "*Тариф «Смарт»*\n",
    "* Ежемесячная плата: 550 рублей\n",
    "* Включено 500 минут разговора, 50 сообщений и 15 Гб интернет-трафика\n",
    "* Стоимость услуг сверх тарифного пакета: \n",
    "    * минута разговора: 3 рубля; \n",
    "    * сообщение: 3 рубля; \n",
    "    * 1 Гб интернет-трафика: 200 рублей.\n",
    "\n",
    "*Тариф «Ультра»*\n",
    "* Ежемесячная плата: 1950 рублей\n",
    "* Включено 3000 минут разговора, 1000 сообщений и 30 Гб интернет-трафика\n",
    "* Стоимость услуг сверх тарифного пакета: \n",
    "    * минута разговора: 1 рубль; \n",
    "    * сообщение: 1 рубль; \n",
    "    * 1 Гб интернет-трафика: 150 рублей.\n",
    "\n",
    "**Примечание:** \n",
    "\n",
    "«Мегалайн» всегда округляет секунды до минут, а мегабайты — до гигабайт. Каждый звонок округляется отдельно: даже если он длился всего 1 секунду, будет засчитан как 1 минута.\n",
    "\n",
    "Для веб-трафика отдельные сессии не считаются. Вместо этого общая сумма за месяц округляется в бо́льшую сторону. Если абонент использует 1025 мегабайт в этом месяце, с него возьмут плату за 2 гигабайта.\n",
    "***"
   ]
  },
  {
   "cell_type": "markdown",
   "metadata": {},
   "source": [
    "## Изучение данных из файла"
   ]
  },
  {
   "cell_type": "markdown",
   "metadata": {},
   "source": [
    "Данные содержатся в пяти файлах:\n",
    "* *users* (информация о пользователях)\n",
    "* *calls* (информация о звонках)\n",
    "* *messages* (информация о сообщениях)\n",
    "* *internet* (информация об интернет-сессиях)\n",
    "* *tariffs* (информация о тарифах)\n",
    "\n",
    "Последовательно изучим данные из каждого файла."
   ]
  },
  {
   "cell_type": "code",
   "execution_count": 1,
   "metadata": {},
   "outputs": [],
   "source": [
    "#импорт необходимых для работы библиотек\n",
    "import matplotlib.pyplot as plt\n",
    "import pandas as pd\n",
    "import math\n",
    "import numpy as np\n",
    "from scipy import stats as st"
   ]
  },
  {
   "cell_type": "code",
   "execution_count": 2,
   "metadata": {},
   "outputs": [],
   "source": [
    "# применим метод set_option для отображения всех столбцов\n",
    "pd.set_option('mode.chained_assignment', None)"
   ]
  },
  {
   "cell_type": "markdown",
   "metadata": {},
   "source": [
    "### Таблица *users*"
   ]
  },
  {
   "cell_type": "code",
   "execution_count": 3,
   "metadata": {},
   "outputs": [
    {
     "data": {
      "text/html": [
       "<div>\n",
       "<style scoped>\n",
       "    .dataframe tbody tr th:only-of-type {\n",
       "        vertical-align: middle;\n",
       "    }\n",
       "\n",
       "    .dataframe tbody tr th {\n",
       "        vertical-align: top;\n",
       "    }\n",
       "\n",
       "    .dataframe thead th {\n",
       "        text-align: right;\n",
       "    }\n",
       "</style>\n",
       "<table border=\"1\" class=\"dataframe\">\n",
       "  <thead>\n",
       "    <tr style=\"text-align: right;\">\n",
       "      <th></th>\n",
       "      <th>user_id</th>\n",
       "      <th>age</th>\n",
       "      <th>churn_date</th>\n",
       "      <th>city</th>\n",
       "      <th>first_name</th>\n",
       "      <th>last_name</th>\n",
       "      <th>reg_date</th>\n",
       "      <th>tariff</th>\n",
       "    </tr>\n",
       "  </thead>\n",
       "  <tbody>\n",
       "    <tr>\n",
       "      <td>0</td>\n",
       "      <td>1000</td>\n",
       "      <td>52</td>\n",
       "      <td>NaN</td>\n",
       "      <td>Краснодар</td>\n",
       "      <td>Рафаил</td>\n",
       "      <td>Верещагин</td>\n",
       "      <td>2018-05-25</td>\n",
       "      <td>ultra</td>\n",
       "    </tr>\n",
       "    <tr>\n",
       "      <td>1</td>\n",
       "      <td>1001</td>\n",
       "      <td>41</td>\n",
       "      <td>NaN</td>\n",
       "      <td>Москва</td>\n",
       "      <td>Иван</td>\n",
       "      <td>Ежов</td>\n",
       "      <td>2018-11-01</td>\n",
       "      <td>smart</td>\n",
       "    </tr>\n",
       "    <tr>\n",
       "      <td>2</td>\n",
       "      <td>1002</td>\n",
       "      <td>59</td>\n",
       "      <td>NaN</td>\n",
       "      <td>Стерлитамак</td>\n",
       "      <td>Евгений</td>\n",
       "      <td>Абрамович</td>\n",
       "      <td>2018-06-17</td>\n",
       "      <td>smart</td>\n",
       "    </tr>\n",
       "  </tbody>\n",
       "</table>\n",
       "</div>"
      ],
      "text/plain": [
       "   user_id  age  churn_date         city first_name  last_name    reg_date  \\\n",
       "0     1000   52         NaN    Краснодар     Рафаил  Верещагин  2018-05-25   \n",
       "1     1001   41         NaN       Москва       Иван       Ежов  2018-11-01   \n",
       "2     1002   59         NaN  Стерлитамак    Евгений  Абрамович  2018-06-17   \n",
       "\n",
       "  tariff  \n",
       "0  ultra  \n",
       "1  smart  \n",
       "2  smart  "
      ]
     },
     "execution_count": 3,
     "metadata": {},
     "output_type": "execute_result"
    }
   ],
   "source": [
    "# загрузим первые три строки файла users\n",
    "try:\n",
    "    users = pd.read_csv('/datasets/users.csv', nrows = 3)\n",
    "except:\n",
    "    users = pd.read_csv('users.csv', nrows = 3)\n",
    "users"
   ]
  },
  {
   "cell_type": "markdown",
   "metadata": {},
   "source": [
    "Данные отображены верно, загрузим всю таблицу."
   ]
  },
  {
   "cell_type": "code",
   "execution_count": 4,
   "metadata": {},
   "outputs": [],
   "source": [
    "try:\n",
    "    users = pd.read_csv('/datasets/users.csv')\n",
    "except:\n",
    "    users = pd.read_csv('users.csv')"
   ]
  },
  {
   "cell_type": "markdown",
   "metadata": {},
   "source": [
    "Проверим общую информацию о таблице *users*."
   ]
  },
  {
   "cell_type": "code",
   "execution_count": 5,
   "metadata": {},
   "outputs": [
    {
     "name": "stdout",
     "output_type": "stream",
     "text": [
      "<class 'pandas.core.frame.DataFrame'>\n",
      "RangeIndex: 500 entries, 0 to 499\n",
      "Data columns (total 8 columns):\n",
      "user_id       500 non-null int64\n",
      "age           500 non-null int64\n",
      "churn_date    38 non-null object\n",
      "city          500 non-null object\n",
      "first_name    500 non-null object\n",
      "last_name     500 non-null object\n",
      "reg_date      500 non-null object\n",
      "tariff        500 non-null object\n",
      "dtypes: int64(2), object(6)\n",
      "memory usage: 31.4+ KB\n"
     ]
    }
   ],
   "source": [
    "users.info()"
   ]
  },
  {
   "cell_type": "markdown",
   "metadata": {},
   "source": [
    "В таблице есть 8 столбцов. Согласно документации к данным:\n",
    "* `user_id` — уникальный идентификатор пользователя\n",
    "* `first_name` — имя пользователя\n",
    "* `last_name` — фамилия пользователя\n",
    "* `age` — возраст пользователя (годы)\n",
    "* `reg_date` — дата подключения тарифа (день, месяц, год)\n",
    "* `churn_date` — дата прекращения пользования тарифом (если значение пропущено, то тариф ещё действовал на момент выгрузки данных)\n",
    "* `city` — город проживания пользователя\n",
    "* `tarif` — название тарифного плана\n",
    "\n",
    "Нарушений стиля в названиях столбцов нет.<br>\n",
    "Столбец `reg_date` нужно привести к временному типу данных. <br>\n",
    "Есть пропуски в столбце `churn_date`, но как сказано в документации: если значение пропущено, то тариф ещё действовал на момент выгрузки данных."
   ]
  },
  {
   "cell_type": "markdown",
   "metadata": {},
   "source": [
    "### Таблица *calls*"
   ]
  },
  {
   "cell_type": "code",
   "execution_count": 6,
   "metadata": {},
   "outputs": [
    {
     "data": {
      "text/html": [
       "<div>\n",
       "<style scoped>\n",
       "    .dataframe tbody tr th:only-of-type {\n",
       "        vertical-align: middle;\n",
       "    }\n",
       "\n",
       "    .dataframe tbody tr th {\n",
       "        vertical-align: top;\n",
       "    }\n",
       "\n",
       "    .dataframe thead th {\n",
       "        text-align: right;\n",
       "    }\n",
       "</style>\n",
       "<table border=\"1\" class=\"dataframe\">\n",
       "  <thead>\n",
       "    <tr style=\"text-align: right;\">\n",
       "      <th></th>\n",
       "      <th>id</th>\n",
       "      <th>call_date</th>\n",
       "      <th>duration</th>\n",
       "      <th>user_id</th>\n",
       "    </tr>\n",
       "  </thead>\n",
       "  <tbody>\n",
       "    <tr>\n",
       "      <td>0</td>\n",
       "      <td>1000_0</td>\n",
       "      <td>2018-07-25</td>\n",
       "      <td>0.00</td>\n",
       "      <td>1000</td>\n",
       "    </tr>\n",
       "    <tr>\n",
       "      <td>1</td>\n",
       "      <td>1000_1</td>\n",
       "      <td>2018-08-17</td>\n",
       "      <td>0.00</td>\n",
       "      <td>1000</td>\n",
       "    </tr>\n",
       "    <tr>\n",
       "      <td>2</td>\n",
       "      <td>1000_2</td>\n",
       "      <td>2018-06-11</td>\n",
       "      <td>2.85</td>\n",
       "      <td>1000</td>\n",
       "    </tr>\n",
       "  </tbody>\n",
       "</table>\n",
       "</div>"
      ],
      "text/plain": [
       "       id   call_date  duration  user_id\n",
       "0  1000_0  2018-07-25      0.00     1000\n",
       "1  1000_1  2018-08-17      0.00     1000\n",
       "2  1000_2  2018-06-11      2.85     1000"
      ]
     },
     "execution_count": 6,
     "metadata": {},
     "output_type": "execute_result"
    }
   ],
   "source": [
    "# загрузим первые три строки файла calls\n",
    "try:\n",
    "    calls = pd.read_csv('/datasets/calls.csv', nrows = 3)\n",
    "except:\n",
    "    calls = pd.read_csv('calls.csv', nrows = 3)\n",
    "calls"
   ]
  },
  {
   "cell_type": "markdown",
   "metadata": {},
   "source": [
    "Данные отображены верно, загрузим всю таблицу."
   ]
  },
  {
   "cell_type": "code",
   "execution_count": 7,
   "metadata": {},
   "outputs": [],
   "source": [
    "try:\n",
    "    calls = pd.read_csv('/datasets/calls.csv')\n",
    "except:\n",
    "    calls = pd.read_csv('calls.csv')"
   ]
  },
  {
   "cell_type": "markdown",
   "metadata": {},
   "source": [
    "Проверим общую информацию о таблице *calls*."
   ]
  },
  {
   "cell_type": "code",
   "execution_count": 8,
   "metadata": {},
   "outputs": [
    {
     "name": "stdout",
     "output_type": "stream",
     "text": [
      "<class 'pandas.core.frame.DataFrame'>\n",
      "RangeIndex: 202607 entries, 0 to 202606\n",
      "Data columns (total 4 columns):\n",
      "id           202607 non-null object\n",
      "call_date    202607 non-null object\n",
      "duration     202607 non-null float64\n",
      "user_id      202607 non-null int64\n",
      "dtypes: float64(1), int64(1), object(2)\n",
      "memory usage: 6.2+ MB\n"
     ]
    }
   ],
   "source": [
    "calls.info()"
   ]
  },
  {
   "cell_type": "markdown",
   "metadata": {},
   "source": [
    "В таблице есть 4 столбца. Согласно документации к данным:\n",
    "* `id` — уникальный номер звонка\n",
    "* `call_date` — дата звонка\n",
    "* `duration` — длительность звонка в минутах\n",
    "* `user_id` — идентификатор пользователя, сделавшего звонок\n",
    "\n",
    "Нарушений стиля в названиях столбцов нет.<br>\n",
    "Столбец `call_date` нужно привести к временному типу данных.<br>\n",
    "Пропусков нет."
   ]
  },
  {
   "cell_type": "markdown",
   "metadata": {},
   "source": [
    "### Таблица *messages*"
   ]
  },
  {
   "cell_type": "code",
   "execution_count": 9,
   "metadata": {},
   "outputs": [
    {
     "data": {
      "text/html": [
       "<div>\n",
       "<style scoped>\n",
       "    .dataframe tbody tr th:only-of-type {\n",
       "        vertical-align: middle;\n",
       "    }\n",
       "\n",
       "    .dataframe tbody tr th {\n",
       "        vertical-align: top;\n",
       "    }\n",
       "\n",
       "    .dataframe thead th {\n",
       "        text-align: right;\n",
       "    }\n",
       "</style>\n",
       "<table border=\"1\" class=\"dataframe\">\n",
       "  <thead>\n",
       "    <tr style=\"text-align: right;\">\n",
       "      <th></th>\n",
       "      <th>id</th>\n",
       "      <th>message_date</th>\n",
       "      <th>user_id</th>\n",
       "    </tr>\n",
       "  </thead>\n",
       "  <tbody>\n",
       "    <tr>\n",
       "      <td>0</td>\n",
       "      <td>1000_0</td>\n",
       "      <td>2018-06-27</td>\n",
       "      <td>1000</td>\n",
       "    </tr>\n",
       "    <tr>\n",
       "      <td>1</td>\n",
       "      <td>1000_1</td>\n",
       "      <td>2018-10-08</td>\n",
       "      <td>1000</td>\n",
       "    </tr>\n",
       "    <tr>\n",
       "      <td>2</td>\n",
       "      <td>1000_2</td>\n",
       "      <td>2018-08-04</td>\n",
       "      <td>1000</td>\n",
       "    </tr>\n",
       "  </tbody>\n",
       "</table>\n",
       "</div>"
      ],
      "text/plain": [
       "       id message_date  user_id\n",
       "0  1000_0   2018-06-27     1000\n",
       "1  1000_1   2018-10-08     1000\n",
       "2  1000_2   2018-08-04     1000"
      ]
     },
     "execution_count": 9,
     "metadata": {},
     "output_type": "execute_result"
    }
   ],
   "source": [
    "# загрузим первые три строки файла messages\n",
    "try:\n",
    "    messages = pd.read_csv('/datasets/messages.csv', nrows = 3)\n",
    "except:\n",
    "    messages = pd.read_csv('messages.csv', nrows = 3)\n",
    "messages"
   ]
  },
  {
   "cell_type": "markdown",
   "metadata": {},
   "source": [
    "Данные отображены верно, загрузим всю таблицу."
   ]
  },
  {
   "cell_type": "code",
   "execution_count": 10,
   "metadata": {},
   "outputs": [],
   "source": [
    "try:\n",
    "    messages = pd.read_csv('/datasets/messages.csv')\n",
    "except:\n",
    "    messages = pd.read_csv('messages.csv')"
   ]
  },
  {
   "cell_type": "markdown",
   "metadata": {},
   "source": [
    "Проверим общую информацию о таблице *messages*"
   ]
  },
  {
   "cell_type": "code",
   "execution_count": 11,
   "metadata": {},
   "outputs": [
    {
     "name": "stdout",
     "output_type": "stream",
     "text": [
      "<class 'pandas.core.frame.DataFrame'>\n",
      "RangeIndex: 123036 entries, 0 to 123035\n",
      "Data columns (total 3 columns):\n",
      "id              123036 non-null object\n",
      "message_date    123036 non-null object\n",
      "user_id         123036 non-null int64\n",
      "dtypes: int64(1), object(2)\n",
      "memory usage: 2.8+ MB\n"
     ]
    }
   ],
   "source": [
    "messages.info()"
   ]
  },
  {
   "cell_type": "markdown",
   "metadata": {},
   "source": [
    "В таблице есть 3 столбца. Согласно документации к данным:\n",
    "* `id` — уникальный номер сообщения\n",
    "* `message_date` — дата сообщения\n",
    "* `user_id` — идентификатор пользователя, отправившего сообщение\n",
    "\n",
    "Нарушений стиля в названиях столбцов нет. <br>\n",
    "Столбец `message_date` нужно привести к временному типу данных.<br>\n",
    "Пропусков нет."
   ]
  },
  {
   "cell_type": "markdown",
   "metadata": {},
   "source": [
    "### Таблица *internet*"
   ]
  },
  {
   "cell_type": "code",
   "execution_count": 12,
   "metadata": {
    "scrolled": true
   },
   "outputs": [
    {
     "data": {
      "text/html": [
       "<div>\n",
       "<style scoped>\n",
       "    .dataframe tbody tr th:only-of-type {\n",
       "        vertical-align: middle;\n",
       "    }\n",
       "\n",
       "    .dataframe tbody tr th {\n",
       "        vertical-align: top;\n",
       "    }\n",
       "\n",
       "    .dataframe thead th {\n",
       "        text-align: right;\n",
       "    }\n",
       "</style>\n",
       "<table border=\"1\" class=\"dataframe\">\n",
       "  <thead>\n",
       "    <tr style=\"text-align: right;\">\n",
       "      <th></th>\n",
       "      <th>Unnamed: 0</th>\n",
       "      <th>id</th>\n",
       "      <th>mb_used</th>\n",
       "      <th>session_date</th>\n",
       "      <th>user_id</th>\n",
       "    </tr>\n",
       "  </thead>\n",
       "  <tbody>\n",
       "    <tr>\n",
       "      <td>0</td>\n",
       "      <td>0</td>\n",
       "      <td>1000_0</td>\n",
       "      <td>112.95</td>\n",
       "      <td>2018-11-25</td>\n",
       "      <td>1000</td>\n",
       "    </tr>\n",
       "    <tr>\n",
       "      <td>1</td>\n",
       "      <td>1</td>\n",
       "      <td>1000_1</td>\n",
       "      <td>1052.81</td>\n",
       "      <td>2018-09-07</td>\n",
       "      <td>1000</td>\n",
       "    </tr>\n",
       "    <tr>\n",
       "      <td>2</td>\n",
       "      <td>2</td>\n",
       "      <td>1000_2</td>\n",
       "      <td>1197.26</td>\n",
       "      <td>2018-06-25</td>\n",
       "      <td>1000</td>\n",
       "    </tr>\n",
       "  </tbody>\n",
       "</table>\n",
       "</div>"
      ],
      "text/plain": [
       "   Unnamed: 0      id  mb_used session_date  user_id\n",
       "0           0  1000_0   112.95   2018-11-25     1000\n",
       "1           1  1000_1  1052.81   2018-09-07     1000\n",
       "2           2  1000_2  1197.26   2018-06-25     1000"
      ]
     },
     "execution_count": 12,
     "metadata": {},
     "output_type": "execute_result"
    }
   ],
   "source": [
    "# загрузим первые три строки файла internet\n",
    "try:\n",
    "    internet = pd.read_csv('/datasets/internet.csv', nrows = 3)\n",
    "except:\n",
    "    internet = pd.read_csv('internet.csv', nrows = 3)\n",
    "internet"
   ]
  },
  {
   "cell_type": "markdown",
   "metadata": {},
   "source": [
    "Данные отображены верно, но содержат лишний столбец `Unnamed: 0`. Загрузим всю таблицу, но без этого столбца."
   ]
  },
  {
   "cell_type": "code",
   "execution_count": 13,
   "metadata": {},
   "outputs": [
    {
     "data": {
      "text/html": [
       "<div>\n",
       "<style scoped>\n",
       "    .dataframe tbody tr th:only-of-type {\n",
       "        vertical-align: middle;\n",
       "    }\n",
       "\n",
       "    .dataframe tbody tr th {\n",
       "        vertical-align: top;\n",
       "    }\n",
       "\n",
       "    .dataframe thead th {\n",
       "        text-align: right;\n",
       "    }\n",
       "</style>\n",
       "<table border=\"1\" class=\"dataframe\">\n",
       "  <thead>\n",
       "    <tr style=\"text-align: right;\">\n",
       "      <th></th>\n",
       "      <th>id</th>\n",
       "      <th>mb_used</th>\n",
       "      <th>session_date</th>\n",
       "      <th>user_id</th>\n",
       "    </tr>\n",
       "  </thead>\n",
       "  <tbody>\n",
       "    <tr>\n",
       "      <td>0</td>\n",
       "      <td>1000_0</td>\n",
       "      <td>112.95</td>\n",
       "      <td>2018-11-25</td>\n",
       "      <td>1000</td>\n",
       "    </tr>\n",
       "    <tr>\n",
       "      <td>1</td>\n",
       "      <td>1000_1</td>\n",
       "      <td>1052.81</td>\n",
       "      <td>2018-09-07</td>\n",
       "      <td>1000</td>\n",
       "    </tr>\n",
       "    <tr>\n",
       "      <td>2</td>\n",
       "      <td>1000_2</td>\n",
       "      <td>1197.26</td>\n",
       "      <td>2018-06-25</td>\n",
       "      <td>1000</td>\n",
       "    </tr>\n",
       "    <tr>\n",
       "      <td>3</td>\n",
       "      <td>1000_3</td>\n",
       "      <td>550.27</td>\n",
       "      <td>2018-08-22</td>\n",
       "      <td>1000</td>\n",
       "    </tr>\n",
       "    <tr>\n",
       "      <td>4</td>\n",
       "      <td>1000_4</td>\n",
       "      <td>302.56</td>\n",
       "      <td>2018-09-24</td>\n",
       "      <td>1000</td>\n",
       "    </tr>\n",
       "  </tbody>\n",
       "</table>\n",
       "</div>"
      ],
      "text/plain": [
       "       id  mb_used session_date  user_id\n",
       "0  1000_0   112.95   2018-11-25     1000\n",
       "1  1000_1  1052.81   2018-09-07     1000\n",
       "2  1000_2  1197.26   2018-06-25     1000\n",
       "3  1000_3   550.27   2018-08-22     1000\n",
       "4  1000_4   302.56   2018-09-24     1000"
      ]
     },
     "execution_count": 13,
     "metadata": {},
     "output_type": "execute_result"
    }
   ],
   "source": [
    "# загрузим первые три строки файла internet\n",
    "try:\n",
    "    internet = pd.read_csv('/datasets/internet.csv', index_col=0)\n",
    "except:\n",
    "    internet = pd.read_csv('internet.csv', index_col=0)\n",
    "internet.head()"
   ]
  },
  {
   "cell_type": "markdown",
   "metadata": {},
   "source": [
    "Проверим общую информацию о таблице *internet*"
   ]
  },
  {
   "cell_type": "code",
   "execution_count": 14,
   "metadata": {},
   "outputs": [
    {
     "name": "stdout",
     "output_type": "stream",
     "text": [
      "<class 'pandas.core.frame.DataFrame'>\n",
      "Int64Index: 149396 entries, 0 to 149395\n",
      "Data columns (total 4 columns):\n",
      "id              149396 non-null object\n",
      "mb_used         149396 non-null float64\n",
      "session_date    149396 non-null object\n",
      "user_id         149396 non-null int64\n",
      "dtypes: float64(1), int64(1), object(2)\n",
      "memory usage: 5.7+ MB\n"
     ]
    }
   ],
   "source": [
    "internet.info()"
   ]
  },
  {
   "cell_type": "markdown",
   "metadata": {},
   "source": [
    "В таблице есть 5 столбцов. Согласно документации к данным:\n",
    "* `id` — уникальный номер сессии\n",
    "* `mb_used` — объём потраченного за сессию интернет-трафика (в мегабайтах)\n",
    "* `session_date` — дата интернет-сессии\n",
    "* `user_id` — идентификатор пользователя\n",
    "\n",
    "Нарушений стиля в названиях столбцов нет. <br>\n",
    "Столбец `session_date` нужно привести к временному типу данных.<br>\n",
    "Пропусков нет."
   ]
  },
  {
   "cell_type": "markdown",
   "metadata": {},
   "source": [
    "### Таблица *tariffs*"
   ]
  },
  {
   "cell_type": "code",
   "execution_count": 15,
   "metadata": {},
   "outputs": [
    {
     "data": {
      "text/html": [
       "<div>\n",
       "<style scoped>\n",
       "    .dataframe tbody tr th:only-of-type {\n",
       "        vertical-align: middle;\n",
       "    }\n",
       "\n",
       "    .dataframe tbody tr th {\n",
       "        vertical-align: top;\n",
       "    }\n",
       "\n",
       "    .dataframe thead th {\n",
       "        text-align: right;\n",
       "    }\n",
       "</style>\n",
       "<table border=\"1\" class=\"dataframe\">\n",
       "  <thead>\n",
       "    <tr style=\"text-align: right;\">\n",
       "      <th></th>\n",
       "      <th>messages_included</th>\n",
       "      <th>mb_per_month_included</th>\n",
       "      <th>minutes_included</th>\n",
       "      <th>rub_monthly_fee</th>\n",
       "      <th>rub_per_gb</th>\n",
       "      <th>rub_per_message</th>\n",
       "      <th>rub_per_minute</th>\n",
       "      <th>tariff_name</th>\n",
       "    </tr>\n",
       "  </thead>\n",
       "  <tbody>\n",
       "    <tr>\n",
       "      <td>0</td>\n",
       "      <td>50</td>\n",
       "      <td>15360</td>\n",
       "      <td>500</td>\n",
       "      <td>550</td>\n",
       "      <td>200</td>\n",
       "      <td>3</td>\n",
       "      <td>3</td>\n",
       "      <td>smart</td>\n",
       "    </tr>\n",
       "    <tr>\n",
       "      <td>1</td>\n",
       "      <td>1000</td>\n",
       "      <td>30720</td>\n",
       "      <td>3000</td>\n",
       "      <td>1950</td>\n",
       "      <td>150</td>\n",
       "      <td>1</td>\n",
       "      <td>1</td>\n",
       "      <td>ultra</td>\n",
       "    </tr>\n",
       "  </tbody>\n",
       "</table>\n",
       "</div>"
      ],
      "text/plain": [
       "   messages_included  mb_per_month_included  minutes_included  \\\n",
       "0                 50                  15360               500   \n",
       "1               1000                  30720              3000   \n",
       "\n",
       "   rub_monthly_fee  rub_per_gb  rub_per_message  rub_per_minute tariff_name  \n",
       "0              550         200                3               3       smart  \n",
       "1             1950         150                1               1       ultra  "
      ]
     },
     "execution_count": 15,
     "metadata": {},
     "output_type": "execute_result"
    }
   ],
   "source": [
    "# загрузим первые три строки файла tariffs\n",
    "try:\n",
    "    tariffs = pd.read_csv('/datasets/tariffs.csv', nrows = 3)\n",
    "except:\n",
    "    tariffs = pd.read_csv('tariffs.csv', nrows = 3)\n",
    "tariffs"
   ]
  },
  {
   "cell_type": "markdown",
   "metadata": {},
   "source": [
    "Данные отображены верно, загрузим всю таблицу."
   ]
  },
  {
   "cell_type": "code",
   "execution_count": 16,
   "metadata": {},
   "outputs": [],
   "source": [
    "try:\n",
    "    tariffs = pd.read_csv('/datasets/tariffs.csv')\n",
    "except:\n",
    "    tariffs = pd.read_csv('tariffs.csv')"
   ]
  },
  {
   "cell_type": "markdown",
   "metadata": {},
   "source": [
    "Проверим общую информацию о таблице `tariffs`"
   ]
  },
  {
   "cell_type": "code",
   "execution_count": 17,
   "metadata": {},
   "outputs": [
    {
     "name": "stdout",
     "output_type": "stream",
     "text": [
      "<class 'pandas.core.frame.DataFrame'>\n",
      "RangeIndex: 2 entries, 0 to 1\n",
      "Data columns (total 8 columns):\n",
      "messages_included        2 non-null int64\n",
      "mb_per_month_included    2 non-null int64\n",
      "minutes_included         2 non-null int64\n",
      "rub_monthly_fee          2 non-null int64\n",
      "rub_per_gb               2 non-null int64\n",
      "rub_per_message          2 non-null int64\n",
      "rub_per_minute           2 non-null int64\n",
      "tariff_name              2 non-null object\n",
      "dtypes: int64(7), object(1)\n",
      "memory usage: 256.0+ bytes\n"
     ]
    }
   ],
   "source": [
    "tariffs.info()"
   ]
  },
  {
   "cell_type": "markdown",
   "metadata": {},
   "source": [
    "В таблице есть 8 столбцов. Согласно документации к данным:\n",
    "* `tariff_name` — название тарифа\n",
    "* `rub_monthly_fee` — ежемесячная абонентская плата в рублях\n",
    "* `minutes_included` — количество минут разговора в месяц, включённых в абонентскую плату\n",
    "* `messages_included`— количество сообщений в месяц, включённых в абонентскую плату\n",
    "* `mb_per_month_included` — объём интернет-трафика, включённого в абонентскую плату (в мегабайтах)\n",
    "* `rub_per_minute` — стоимость минуты разговора сверх тарифного пакета (например, если в тарифе 100 минут разговора в месяц, то со 101 минуты будет взиматься плата)\n",
    "* `rub_per_message` — стоимость отправки сообщения сверх тарифного пакета\n",
    "* `rub_per_gb` — стоимость дополнительного гигабайта интернет-трафика сверх тарифного пакета (1 гигабайт = 1024 мегабайта)\n",
    "\n",
    "Нарушений стиля в названиях столбцов нет.<br>\n",
    "Пропусков нет."
   ]
  },
  {
   "cell_type": "markdown",
   "metadata": {},
   "source": [
    "### Вывод"
   ]
  },
  {
   "cell_type": "markdown",
   "metadata": {},
   "source": [
    "* Данные таблиц изучены.\n",
    "* Нарушений стиля в названиях столбцов не найдено.\n",
    "* Пропусков нет.\n",
    "* Некоторые столбцы нужно привести к верному типу данных."
   ]
  },
  {
   "cell_type": "markdown",
   "metadata": {},
   "source": [
    "## Предобработка данных"
   ]
  },
  {
   "cell_type": "markdown",
   "metadata": {},
   "source": [
    "Необходимо провести замену типов данных, а также произвести следующие расчеты для каждого пользователя:\n",
    "* количество сделанных звонков и израсходованных минут разговора по месяцам;\n",
    "* количество отправленных сообщений по месяцам;\n",
    "* объем израсходованного интернет-трафика по месяцам;\n",
    "* помесячную выручку с каждого пользователя (вычтите бесплатный лимит из суммарного количества звонков, сообщений и интернет-трафика; остаток умножьте на значение из тарифного плана; прибавьте абонентскую плату, соответствующую тарифному плану)."
   ]
  },
  {
   "cell_type": "markdown",
   "metadata": {},
   "source": [
    "### Замена типов данных"
   ]
  },
  {
   "cell_type": "markdown",
   "metadata": {},
   "source": [
    "Изменим тип данных на временной в следующих столбцах:\n",
    "* `reg_date` таблицы *users*\n",
    "* `call_date` таблицы *calls*\n",
    "* `message_date` таблицы *messages*\n",
    "* `session_date` таблицы *internet*"
   ]
  },
  {
   "cell_type": "code",
   "execution_count": 18,
   "metadata": {},
   "outputs": [
    {
     "name": "stdout",
     "output_type": "stream",
     "text": [
      "datetime64[ns]\n",
      "datetime64[ns]\n",
      "datetime64[ns]\n",
      "datetime64[ns]\n"
     ]
    }
   ],
   "source": [
    "#reg_date таблицы users\n",
    "users['reg_date'] = pd.to_datetime(users['reg_date'], format='%Y-%m-%d' )\n",
    "print(users['reg_date'].dtype)\n",
    "\n",
    "#call_date таблицы calls\n",
    "calls['call_date'] = pd.to_datetime(calls['call_date'], format='%Y-%m-%d' )\n",
    "print(calls['call_date'].dtype)\n",
    "\n",
    "#message_date таблицы messages\n",
    "messages['message_date'] = pd.to_datetime(messages['message_date'], format='%Y-%m-%d' )\n",
    "print(messages['message_date'].dtype)\n",
    "\n",
    "#session_date таблицы internet\n",
    "internet['session_date'] = pd.to_datetime(internet['session_date'], format='%Y-%m-%d' )\n",
    "print(internet['session_date'].dtype)"
   ]
  },
  {
   "cell_type": "markdown",
   "metadata": {},
   "source": [
    "### Количество сделанных звонков и израсходованных минут разговора по месяцам"
   ]
  },
  {
   "cell_type": "markdown",
   "metadata": {},
   "source": [
    "Создадим столбец с месяцем в таблице *calls*"
   ]
  },
  {
   "cell_type": "code",
   "execution_count": 19,
   "metadata": {
    "scrolled": true
   },
   "outputs": [
    {
     "data": {
      "text/html": [
       "<div>\n",
       "<style scoped>\n",
       "    .dataframe tbody tr th:only-of-type {\n",
       "        vertical-align: middle;\n",
       "    }\n",
       "\n",
       "    .dataframe tbody tr th {\n",
       "        vertical-align: top;\n",
       "    }\n",
       "\n",
       "    .dataframe thead th {\n",
       "        text-align: right;\n",
       "    }\n",
       "</style>\n",
       "<table border=\"1\" class=\"dataframe\">\n",
       "  <thead>\n",
       "    <tr style=\"text-align: right;\">\n",
       "      <th></th>\n",
       "      <th>id</th>\n",
       "      <th>call_date</th>\n",
       "      <th>duration</th>\n",
       "      <th>user_id</th>\n",
       "      <th>month</th>\n",
       "    </tr>\n",
       "  </thead>\n",
       "  <tbody>\n",
       "    <tr>\n",
       "      <td>0</td>\n",
       "      <td>1000_0</td>\n",
       "      <td>2018-07-25</td>\n",
       "      <td>0.00</td>\n",
       "      <td>1000</td>\n",
       "      <td>7</td>\n",
       "    </tr>\n",
       "    <tr>\n",
       "      <td>1</td>\n",
       "      <td>1000_1</td>\n",
       "      <td>2018-08-17</td>\n",
       "      <td>0.00</td>\n",
       "      <td>1000</td>\n",
       "      <td>8</td>\n",
       "    </tr>\n",
       "    <tr>\n",
       "      <td>2</td>\n",
       "      <td>1000_2</td>\n",
       "      <td>2018-06-11</td>\n",
       "      <td>2.85</td>\n",
       "      <td>1000</td>\n",
       "      <td>6</td>\n",
       "    </tr>\n",
       "    <tr>\n",
       "      <td>3</td>\n",
       "      <td>1000_3</td>\n",
       "      <td>2018-09-21</td>\n",
       "      <td>13.80</td>\n",
       "      <td>1000</td>\n",
       "      <td>9</td>\n",
       "    </tr>\n",
       "    <tr>\n",
       "      <td>4</td>\n",
       "      <td>1000_4</td>\n",
       "      <td>2018-12-15</td>\n",
       "      <td>5.18</td>\n",
       "      <td>1000</td>\n",
       "      <td>12</td>\n",
       "    </tr>\n",
       "  </tbody>\n",
       "</table>\n",
       "</div>"
      ],
      "text/plain": [
       "       id  call_date  duration  user_id  month\n",
       "0  1000_0 2018-07-25      0.00     1000      7\n",
       "1  1000_1 2018-08-17      0.00     1000      8\n",
       "2  1000_2 2018-06-11      2.85     1000      6\n",
       "3  1000_3 2018-09-21     13.80     1000      9\n",
       "4  1000_4 2018-12-15      5.18     1000     12"
      ]
     },
     "execution_count": 19,
     "metadata": {},
     "output_type": "execute_result"
    }
   ],
   "source": [
    "calls['month'] = calls['call_date'].dt.month\n",
    "calls.head()"
   ]
  },
  {
   "cell_type": "markdown",
   "metadata": {},
   "source": [
    "Теперь создадим сводную таблицу для подсчета сделанных звонков и израсходованных минут разговора по месяцам для каждого пользователя."
   ]
  },
  {
   "cell_type": "code",
   "execution_count": 20,
   "metadata": {
    "scrolled": false
   },
   "outputs": [
    {
     "data": {
      "text/html": [
       "<div>\n",
       "<style scoped>\n",
       "    .dataframe tbody tr th:only-of-type {\n",
       "        vertical-align: middle;\n",
       "    }\n",
       "\n",
       "    .dataframe tbody tr th {\n",
       "        vertical-align: top;\n",
       "    }\n",
       "\n",
       "    .dataframe thead th {\n",
       "        text-align: right;\n",
       "    }\n",
       "</style>\n",
       "<table border=\"1\" class=\"dataframe\">\n",
       "  <thead>\n",
       "    <tr style=\"text-align: right;\">\n",
       "      <th></th>\n",
       "      <th></th>\n",
       "      <th>spent_minutes</th>\n",
       "      <th>number_of_calls</th>\n",
       "    </tr>\n",
       "    <tr>\n",
       "      <th>user_id</th>\n",
       "      <th>month</th>\n",
       "      <th></th>\n",
       "      <th></th>\n",
       "    </tr>\n",
       "  </thead>\n",
       "  <tbody>\n",
       "    <tr>\n",
       "      <td>1272</td>\n",
       "      <td>8</td>\n",
       "      <td>20.0</td>\n",
       "      <td>4</td>\n",
       "    </tr>\n",
       "    <tr>\n",
       "      <td>1026</td>\n",
       "      <td>11</td>\n",
       "      <td>469.0</td>\n",
       "      <td>61</td>\n",
       "    </tr>\n",
       "    <tr>\n",
       "      <td>1169</td>\n",
       "      <td>6</td>\n",
       "      <td>72.0</td>\n",
       "      <td>7</td>\n",
       "    </tr>\n",
       "    <tr>\n",
       "      <td>1466</td>\n",
       "      <td>9</td>\n",
       "      <td>482.0</td>\n",
       "      <td>63</td>\n",
       "    </tr>\n",
       "    <tr>\n",
       "      <td>1199</td>\n",
       "      <td>9</td>\n",
       "      <td>434.0</td>\n",
       "      <td>64</td>\n",
       "    </tr>\n",
       "  </tbody>\n",
       "</table>\n",
       "</div>"
      ],
      "text/plain": [
       "               spent_minutes  number_of_calls\n",
       "user_id month                                \n",
       "1272    8               20.0                4\n",
       "1026    11             469.0               61\n",
       "1169    6               72.0                7\n",
       "1466    9              482.0               63\n",
       "1199    9              434.0               64"
      ]
     },
     "execution_count": 20,
     "metadata": {},
     "output_type": "execute_result"
    }
   ],
   "source": [
    "#округлим все звонки в большую сторону в таблице calls\n",
    "calls['duration'] = np.ceil(calls['duration'])\n",
    "# создаем сводную таблицу\n",
    "calls_users = calls.pivot_table(index=['user_id', 'month'], \n",
    "                                values='duration', \n",
    "                                aggfunc=['sum', 'count']\n",
    "                               )\n",
    "# сделаем замену названий столбцов\n",
    "calls_users.columns=['spent_minutes', 'number_of_calls']\n",
    "calls_users.sample(5)"
   ]
  },
  {
   "cell_type": "markdown",
   "metadata": {},
   "source": [
    "### Количество отправленных сообщений по месяцам"
   ]
  },
  {
   "cell_type": "code",
   "execution_count": 21,
   "metadata": {
    "scrolled": true
   },
   "outputs": [
    {
     "data": {
      "text/html": [
       "<div>\n",
       "<style scoped>\n",
       "    .dataframe tbody tr th:only-of-type {\n",
       "        vertical-align: middle;\n",
       "    }\n",
       "\n",
       "    .dataframe tbody tr th {\n",
       "        vertical-align: top;\n",
       "    }\n",
       "\n",
       "    .dataframe thead th {\n",
       "        text-align: right;\n",
       "    }\n",
       "</style>\n",
       "<table border=\"1\" class=\"dataframe\">\n",
       "  <thead>\n",
       "    <tr style=\"text-align: right;\">\n",
       "      <th></th>\n",
       "      <th>id</th>\n",
       "      <th>message_date</th>\n",
       "      <th>user_id</th>\n",
       "      <th>month</th>\n",
       "    </tr>\n",
       "  </thead>\n",
       "  <tbody>\n",
       "    <tr>\n",
       "      <td>0</td>\n",
       "      <td>1000_0</td>\n",
       "      <td>2018-06-27</td>\n",
       "      <td>1000</td>\n",
       "      <td>6</td>\n",
       "    </tr>\n",
       "    <tr>\n",
       "      <td>1</td>\n",
       "      <td>1000_1</td>\n",
       "      <td>2018-10-08</td>\n",
       "      <td>1000</td>\n",
       "      <td>10</td>\n",
       "    </tr>\n",
       "    <tr>\n",
       "      <td>2</td>\n",
       "      <td>1000_2</td>\n",
       "      <td>2018-08-04</td>\n",
       "      <td>1000</td>\n",
       "      <td>8</td>\n",
       "    </tr>\n",
       "    <tr>\n",
       "      <td>3</td>\n",
       "      <td>1000_3</td>\n",
       "      <td>2018-06-16</td>\n",
       "      <td>1000</td>\n",
       "      <td>6</td>\n",
       "    </tr>\n",
       "    <tr>\n",
       "      <td>4</td>\n",
       "      <td>1000_4</td>\n",
       "      <td>2018-12-05</td>\n",
       "      <td>1000</td>\n",
       "      <td>12</td>\n",
       "    </tr>\n",
       "  </tbody>\n",
       "</table>\n",
       "</div>"
      ],
      "text/plain": [
       "       id message_date  user_id  month\n",
       "0  1000_0   2018-06-27     1000      6\n",
       "1  1000_1   2018-10-08     1000     10\n",
       "2  1000_2   2018-08-04     1000      8\n",
       "3  1000_3   2018-06-16     1000      6\n",
       "4  1000_4   2018-12-05     1000     12"
      ]
     },
     "execution_count": 21,
     "metadata": {},
     "output_type": "execute_result"
    }
   ],
   "source": [
    "messages['month'] = messages['message_date'].dt.month\n",
    "messages.head()"
   ]
  },
  {
   "cell_type": "code",
   "execution_count": 22,
   "metadata": {
    "scrolled": false
   },
   "outputs": [
    {
     "data": {
      "text/html": [
       "<div>\n",
       "<style scoped>\n",
       "    .dataframe tbody tr th:only-of-type {\n",
       "        vertical-align: middle;\n",
       "    }\n",
       "\n",
       "    .dataframe tbody tr th {\n",
       "        vertical-align: top;\n",
       "    }\n",
       "\n",
       "    .dataframe thead th {\n",
       "        text-align: right;\n",
       "    }\n",
       "</style>\n",
       "<table border=\"1\" class=\"dataframe\">\n",
       "  <thead>\n",
       "    <tr style=\"text-align: right;\">\n",
       "      <th></th>\n",
       "      <th></th>\n",
       "      <th>number_of_messages</th>\n",
       "    </tr>\n",
       "    <tr>\n",
       "      <th>user_id</th>\n",
       "      <th>month</th>\n",
       "      <th></th>\n",
       "    </tr>\n",
       "  </thead>\n",
       "  <tbody>\n",
       "    <tr>\n",
       "      <td rowspan=\"5\" valign=\"top\">1000</td>\n",
       "      <td>5</td>\n",
       "      <td>22</td>\n",
       "    </tr>\n",
       "    <tr>\n",
       "      <td>6</td>\n",
       "      <td>60</td>\n",
       "    </tr>\n",
       "    <tr>\n",
       "      <td>7</td>\n",
       "      <td>75</td>\n",
       "    </tr>\n",
       "    <tr>\n",
       "      <td>8</td>\n",
       "      <td>81</td>\n",
       "    </tr>\n",
       "    <tr>\n",
       "      <td>9</td>\n",
       "      <td>57</td>\n",
       "    </tr>\n",
       "    <tr>\n",
       "      <td>...</td>\n",
       "      <td>...</td>\n",
       "      <td>...</td>\n",
       "    </tr>\n",
       "    <tr>\n",
       "      <td>1498</td>\n",
       "      <td>10</td>\n",
       "      <td>42</td>\n",
       "    </tr>\n",
       "    <tr>\n",
       "      <td rowspan=\"4\" valign=\"top\">1499</td>\n",
       "      <td>9</td>\n",
       "      <td>11</td>\n",
       "    </tr>\n",
       "    <tr>\n",
       "      <td>10</td>\n",
       "      <td>48</td>\n",
       "    </tr>\n",
       "    <tr>\n",
       "      <td>11</td>\n",
       "      <td>59</td>\n",
       "    </tr>\n",
       "    <tr>\n",
       "      <td>12</td>\n",
       "      <td>66</td>\n",
       "    </tr>\n",
       "  </tbody>\n",
       "</table>\n",
       "<p>2717 rows × 1 columns</p>\n",
       "</div>"
      ],
      "text/plain": [
       "               number_of_messages\n",
       "user_id month                    \n",
       "1000    5                      22\n",
       "        6                      60\n",
       "        7                      75\n",
       "        8                      81\n",
       "        9                      57\n",
       "...                           ...\n",
       "1498    10                     42\n",
       "1499    9                      11\n",
       "        10                     48\n",
       "        11                     59\n",
       "        12                     66\n",
       "\n",
       "[2717 rows x 1 columns]"
      ]
     },
     "execution_count": 22,
     "metadata": {},
     "output_type": "execute_result"
    }
   ],
   "source": [
    "messages_users = messages.pivot_table(index=['user_id', 'month'], \n",
    "                                      values='id', \n",
    "                                      aggfunc='count'\n",
    "                                     )\n",
    "messages_users.columns=['number_of_messages']\n",
    "messages_users"
   ]
  },
  {
   "cell_type": "markdown",
   "metadata": {},
   "source": [
    "### объем израсходованного интернет-трафика по месяцам"
   ]
  },
  {
   "cell_type": "code",
   "execution_count": 23,
   "metadata": {
    "scrolled": true
   },
   "outputs": [
    {
     "data": {
      "text/html": [
       "<div>\n",
       "<style scoped>\n",
       "    .dataframe tbody tr th:only-of-type {\n",
       "        vertical-align: middle;\n",
       "    }\n",
       "\n",
       "    .dataframe tbody tr th {\n",
       "        vertical-align: top;\n",
       "    }\n",
       "\n",
       "    .dataframe thead th {\n",
       "        text-align: right;\n",
       "    }\n",
       "</style>\n",
       "<table border=\"1\" class=\"dataframe\">\n",
       "  <thead>\n",
       "    <tr style=\"text-align: right;\">\n",
       "      <th></th>\n",
       "      <th>id</th>\n",
       "      <th>mb_used</th>\n",
       "      <th>session_date</th>\n",
       "      <th>user_id</th>\n",
       "      <th>month</th>\n",
       "    </tr>\n",
       "  </thead>\n",
       "  <tbody>\n",
       "    <tr>\n",
       "      <td>0</td>\n",
       "      <td>1000_0</td>\n",
       "      <td>112.95</td>\n",
       "      <td>2018-11-25</td>\n",
       "      <td>1000</td>\n",
       "      <td>11</td>\n",
       "    </tr>\n",
       "    <tr>\n",
       "      <td>1</td>\n",
       "      <td>1000_1</td>\n",
       "      <td>1052.81</td>\n",
       "      <td>2018-09-07</td>\n",
       "      <td>1000</td>\n",
       "      <td>9</td>\n",
       "    </tr>\n",
       "    <tr>\n",
       "      <td>2</td>\n",
       "      <td>1000_2</td>\n",
       "      <td>1197.26</td>\n",
       "      <td>2018-06-25</td>\n",
       "      <td>1000</td>\n",
       "      <td>6</td>\n",
       "    </tr>\n",
       "    <tr>\n",
       "      <td>3</td>\n",
       "      <td>1000_3</td>\n",
       "      <td>550.27</td>\n",
       "      <td>2018-08-22</td>\n",
       "      <td>1000</td>\n",
       "      <td>8</td>\n",
       "    </tr>\n",
       "    <tr>\n",
       "      <td>4</td>\n",
       "      <td>1000_4</td>\n",
       "      <td>302.56</td>\n",
       "      <td>2018-09-24</td>\n",
       "      <td>1000</td>\n",
       "      <td>9</td>\n",
       "    </tr>\n",
       "  </tbody>\n",
       "</table>\n",
       "</div>"
      ],
      "text/plain": [
       "       id  mb_used session_date  user_id  month\n",
       "0  1000_0   112.95   2018-11-25     1000     11\n",
       "1  1000_1  1052.81   2018-09-07     1000      9\n",
       "2  1000_2  1197.26   2018-06-25     1000      6\n",
       "3  1000_3   550.27   2018-08-22     1000      8\n",
       "4  1000_4   302.56   2018-09-24     1000      9"
      ]
     },
     "execution_count": 23,
     "metadata": {},
     "output_type": "execute_result"
    }
   ],
   "source": [
    "internet['month'] = internet['session_date'].dt.month\n",
    "internet.head()"
   ]
  },
  {
   "cell_type": "code",
   "execution_count": 24,
   "metadata": {},
   "outputs": [
    {
     "data": {
      "text/html": [
       "<div>\n",
       "<style scoped>\n",
       "    .dataframe tbody tr th:only-of-type {\n",
       "        vertical-align: middle;\n",
       "    }\n",
       "\n",
       "    .dataframe tbody tr th {\n",
       "        vertical-align: top;\n",
       "    }\n",
       "\n",
       "    .dataframe thead th {\n",
       "        text-align: right;\n",
       "    }\n",
       "</style>\n",
       "<table border=\"1\" class=\"dataframe\">\n",
       "  <thead>\n",
       "    <tr style=\"text-align: right;\">\n",
       "      <th></th>\n",
       "      <th></th>\n",
       "      <th>mb_used</th>\n",
       "    </tr>\n",
       "    <tr>\n",
       "      <th>user_id</th>\n",
       "      <th>month</th>\n",
       "      <th></th>\n",
       "    </tr>\n",
       "  </thead>\n",
       "  <tbody>\n",
       "    <tr>\n",
       "      <td rowspan=\"5\" valign=\"top\">1000</td>\n",
       "      <td>5</td>\n",
       "      <td>2254</td>\n",
       "    </tr>\n",
       "    <tr>\n",
       "      <td>6</td>\n",
       "      <td>23234</td>\n",
       "    </tr>\n",
       "    <tr>\n",
       "      <td>7</td>\n",
       "      <td>14004</td>\n",
       "    </tr>\n",
       "    <tr>\n",
       "      <td>8</td>\n",
       "      <td>14056</td>\n",
       "    </tr>\n",
       "    <tr>\n",
       "      <td>9</td>\n",
       "      <td>14569</td>\n",
       "    </tr>\n",
       "    <tr>\n",
       "      <td>...</td>\n",
       "      <td>...</td>\n",
       "      <td>...</td>\n",
       "    </tr>\n",
       "    <tr>\n",
       "      <td>1498</td>\n",
       "      <td>10</td>\n",
       "      <td>20580</td>\n",
       "    </tr>\n",
       "    <tr>\n",
       "      <td rowspan=\"4\" valign=\"top\">1499</td>\n",
       "      <td>9</td>\n",
       "      <td>1846</td>\n",
       "    </tr>\n",
       "    <tr>\n",
       "      <td>10</td>\n",
       "      <td>17789</td>\n",
       "    </tr>\n",
       "    <tr>\n",
       "      <td>11</td>\n",
       "      <td>17964</td>\n",
       "    </tr>\n",
       "    <tr>\n",
       "      <td>12</td>\n",
       "      <td>13056</td>\n",
       "    </tr>\n",
       "  </tbody>\n",
       "</table>\n",
       "<p>3203 rows × 1 columns</p>\n",
       "</div>"
      ],
      "text/plain": [
       "               mb_used\n",
       "user_id month         \n",
       "1000    5         2254\n",
       "        6        23234\n",
       "        7        14004\n",
       "        8        14056\n",
       "        9        14569\n",
       "...                ...\n",
       "1498    10       20580\n",
       "1499    9         1846\n",
       "        10       17789\n",
       "        11       17964\n",
       "        12       13056\n",
       "\n",
       "[3203 rows x 1 columns]"
      ]
     },
     "execution_count": 24,
     "metadata": {},
     "output_type": "execute_result"
    }
   ],
   "source": [
    "internet_users = internet.pivot_table(index=['user_id', 'month'], \n",
    "                                      values='mb_used', \n",
    "                                      aggfunc='sum'\n",
    "                                     )\n",
    "internet_users.columns=['mb_used']\n",
    "internet_users['mb_used'] = internet_users['mb_used'].apply(math.ceil)\n",
    "internet_users"
   ]
  },
  {
   "cell_type": "markdown",
   "metadata": {},
   "source": [
    "### Помесячная выручка с каждого пользователя"
   ]
  },
  {
   "cell_type": "markdown",
   "metadata": {},
   "source": [
    "Сгруппируем данные по пользователям и получим тарифы, которыми каждый из них пользуется."
   ]
  },
  {
   "cell_type": "code",
   "execution_count": 25,
   "metadata": {
    "scrolled": true
   },
   "outputs": [
    {
     "data": {
      "text/plain": [
       "user_id\n",
       "1000    ultra\n",
       "1001    smart\n",
       "1002    smart\n",
       "1003    ultra\n",
       "1004    ultra\n",
       "        ...  \n",
       "1495    ultra\n",
       "1496    smart\n",
       "1497    smart\n",
       "1498    smart\n",
       "1499    smart\n",
       "Name: tariff, Length: 500, dtype: object"
      ]
     },
     "execution_count": 25,
     "metadata": {},
     "output_type": "execute_result"
    }
   ],
   "source": [
    "tariff_users = users.groupby('user_id')['tariff'].first()\n",
    "tariff_users"
   ]
  },
  {
   "cell_type": "markdown",
   "metadata": {},
   "source": [
    "Объединим полученные таблицы "
   ]
  },
  {
   "cell_type": "code",
   "execution_count": 26,
   "metadata": {
    "scrolled": true
   },
   "outputs": [
    {
     "data": {
      "text/html": [
       "<div>\n",
       "<style scoped>\n",
       "    .dataframe tbody tr th:only-of-type {\n",
       "        vertical-align: middle;\n",
       "    }\n",
       "\n",
       "    .dataframe tbody tr th {\n",
       "        vertical-align: top;\n",
       "    }\n",
       "\n",
       "    .dataframe thead th {\n",
       "        text-align: right;\n",
       "    }\n",
       "</style>\n",
       "<table border=\"1\" class=\"dataframe\">\n",
       "  <thead>\n",
       "    <tr style=\"text-align: right;\">\n",
       "      <th></th>\n",
       "      <th></th>\n",
       "      <th>spent_minutes</th>\n",
       "      <th>number_of_calls</th>\n",
       "      <th>number_of_messages</th>\n",
       "      <th>mb_used</th>\n",
       "      <th>tariff</th>\n",
       "    </tr>\n",
       "    <tr>\n",
       "      <th>user_id</th>\n",
       "      <th>month</th>\n",
       "      <th></th>\n",
       "      <th></th>\n",
       "      <th></th>\n",
       "      <th></th>\n",
       "      <th></th>\n",
       "    </tr>\n",
       "  </thead>\n",
       "  <tbody>\n",
       "    <tr>\n",
       "      <td>1439</td>\n",
       "      <td>7</td>\n",
       "      <td>329</td>\n",
       "      <td>55</td>\n",
       "      <td>5</td>\n",
       "      <td>20040</td>\n",
       "      <td>smart</td>\n",
       "    </tr>\n",
       "    <tr>\n",
       "      <td>1368</td>\n",
       "      <td>12</td>\n",
       "      <td>403</td>\n",
       "      <td>55</td>\n",
       "      <td>89</td>\n",
       "      <td>20476</td>\n",
       "      <td>smart</td>\n",
       "    </tr>\n",
       "    <tr>\n",
       "      <td>1408</td>\n",
       "      <td>7</td>\n",
       "      <td>525</td>\n",
       "      <td>82</td>\n",
       "      <td>1</td>\n",
       "      <td>12438</td>\n",
       "      <td>smart</td>\n",
       "    </tr>\n",
       "    <tr>\n",
       "      <td>1055</td>\n",
       "      <td>12</td>\n",
       "      <td>597</td>\n",
       "      <td>83</td>\n",
       "      <td>39</td>\n",
       "      <td>22833</td>\n",
       "      <td>smart</td>\n",
       "    </tr>\n",
       "    <tr>\n",
       "      <td>1002</td>\n",
       "      <td>6</td>\n",
       "      <td>117</td>\n",
       "      <td>15</td>\n",
       "      <td>4</td>\n",
       "      <td>10857</td>\n",
       "      <td>smart</td>\n",
       "    </tr>\n",
       "  </tbody>\n",
       "</table>\n",
       "</div>"
      ],
      "text/plain": [
       "               spent_minutes  number_of_calls  number_of_messages  mb_used  \\\n",
       "user_id month                                                                \n",
       "1439    7                329               55                   5    20040   \n",
       "1368    12               403               55                  89    20476   \n",
       "1408    7                525               82                   1    12438   \n",
       "1055    12               597               83                  39    22833   \n",
       "1002    6                117               15                   4    10857   \n",
       "\n",
       "              tariff  \n",
       "user_id month         \n",
       "1439    7      smart  \n",
       "1368    12     smart  \n",
       "1408    7      smart  \n",
       "1055    12     smart  \n",
       "1002    6      smart  "
      ]
     },
     "execution_count": 26,
     "metadata": {},
     "output_type": "execute_result"
    }
   ],
   "source": [
    "total_users = calls_users.join([messages_users, internet_users], how='outer')\n",
    "total_users = total_users.astype('Int64')\n",
    "total_users = total_users.join(tariff_users, how='outer')\n",
    "total_users = total_users.fillna(0)\n",
    "total_users.sample(5)"
   ]
  },
  {
   "cell_type": "markdown",
   "metadata": {},
   "source": [
    "Теперь расчитаем выручку с каждого пользователя по месяцам."
   ]
  },
  {
   "cell_type": "code",
   "execution_count": 27,
   "metadata": {},
   "outputs": [
    {
     "data": {
      "text/html": [
       "<div>\n",
       "<style scoped>\n",
       "    .dataframe tbody tr th:only-of-type {\n",
       "        vertical-align: middle;\n",
       "    }\n",
       "\n",
       "    .dataframe tbody tr th {\n",
       "        vertical-align: top;\n",
       "    }\n",
       "\n",
       "    .dataframe thead th {\n",
       "        text-align: right;\n",
       "    }\n",
       "</style>\n",
       "<table border=\"1\" class=\"dataframe\">\n",
       "  <thead>\n",
       "    <tr style=\"text-align: right;\">\n",
       "      <th></th>\n",
       "      <th></th>\n",
       "      <th>spent_minutes</th>\n",
       "      <th>number_of_calls</th>\n",
       "      <th>number_of_messages</th>\n",
       "      <th>mb_used</th>\n",
       "      <th>tariff</th>\n",
       "      <th>proceeds</th>\n",
       "    </tr>\n",
       "    <tr>\n",
       "      <th>user_id</th>\n",
       "      <th>month</th>\n",
       "      <th></th>\n",
       "      <th></th>\n",
       "      <th></th>\n",
       "      <th></th>\n",
       "      <th></th>\n",
       "      <th></th>\n",
       "    </tr>\n",
       "  </thead>\n",
       "  <tbody>\n",
       "    <tr>\n",
       "      <td>1000</td>\n",
       "      <td>6</td>\n",
       "      <td>172</td>\n",
       "      <td>43</td>\n",
       "      <td>60</td>\n",
       "      <td>23234</td>\n",
       "      <td>ultra</td>\n",
       "      <td>1950.0</td>\n",
       "    </tr>\n",
       "    <tr>\n",
       "      <td>1077</td>\n",
       "      <td>11</td>\n",
       "      <td>686</td>\n",
       "      <td>97</td>\n",
       "      <td>36</td>\n",
       "      <td>18982</td>\n",
       "      <td>smart</td>\n",
       "      <td>1908.0</td>\n",
       "    </tr>\n",
       "    <tr>\n",
       "      <td>1249</td>\n",
       "      <td>9</td>\n",
       "      <td>226</td>\n",
       "      <td>33</td>\n",
       "      <td>14</td>\n",
       "      <td>11609</td>\n",
       "      <td>smart</td>\n",
       "      <td>550.0</td>\n",
       "    </tr>\n",
       "    <tr>\n",
       "      <td>1130</td>\n",
       "      <td>6</td>\n",
       "      <td>648</td>\n",
       "      <td>79</td>\n",
       "      <td>69</td>\n",
       "      <td>17858</td>\n",
       "      <td>smart</td>\n",
       "      <td>1651.0</td>\n",
       "    </tr>\n",
       "    <tr>\n",
       "      <td>1311</td>\n",
       "      <td>10</td>\n",
       "      <td>316</td>\n",
       "      <td>52</td>\n",
       "      <td>67</td>\n",
       "      <td>15330</td>\n",
       "      <td>smart</td>\n",
       "      <td>601.0</td>\n",
       "    </tr>\n",
       "  </tbody>\n",
       "</table>\n",
       "</div>"
      ],
      "text/plain": [
       "               spent_minutes  number_of_calls  number_of_messages  mb_used  \\\n",
       "user_id month                                                                \n",
       "1000    6                172               43                  60    23234   \n",
       "1077    11               686               97                  36    18982   \n",
       "1249    9                226               33                  14    11609   \n",
       "1130    6                648               79                  69    17858   \n",
       "1311    10               316               52                  67    15330   \n",
       "\n",
       "              tariff  proceeds  \n",
       "user_id month                   \n",
       "1000    6      ultra    1950.0  \n",
       "1077    11     smart    1908.0  \n",
       "1249    9      smart     550.0  \n",
       "1130    6      smart    1651.0  \n",
       "1311    10     smart     601.0  "
      ]
     },
     "execution_count": 27,
     "metadata": {},
     "output_type": "execute_result"
    }
   ],
   "source": [
    "def proceeds(row):\n",
    "    \n",
    "    if row['tariff'] == 'ultra':\n",
    "        proceeds = 1950\n",
    "        proceeds += (row['spent_minutes'] - tariffs.loc[1, 'minutes_included']).clip(0) * tariffs.loc[1, 'rub_per_minute']\n",
    "        proceeds += (row['number_of_messages'] - tariffs.loc[1, 'messages_included']).clip(0) * tariffs.loc[1, 'rub_per_message']    \n",
    "        proceeds += (np.ceil((row['mb_used'] - tariffs.loc[1, 'mb_per_month_included']) / 1024)).clip(0) * tariffs.loc[1, 'rub_per_gb']\n",
    "        return proceeds\n",
    "    \n",
    "    if row['tariff'] == 'smart':\n",
    "        proceeds = 550\n",
    "        proceeds += (row['spent_minutes'] - tariffs.loc[0, 'minutes_included']).clip(0) * tariffs.loc[0, 'rub_per_minute']\n",
    "        proceeds += (row['number_of_messages'] - tariffs.loc[0, 'messages_included']).clip(0) * tariffs.loc[0, 'rub_per_message']    \n",
    "        proceeds += (np.ceil((row['mb_used'] - tariffs.loc[0, 'mb_per_month_included']) / 1024)).clip(0) * tariffs.loc[0, 'rub_per_gb']\n",
    "        return proceeds\n",
    "    \n",
    "total_users['proceeds'] = total_users.apply(proceeds, axis=1)\n",
    "total_users.sample(5)    "
   ]
  },
  {
   "cell_type": "markdown",
   "metadata": {},
   "source": [
    "### Вывод"
   ]
  },
  {
   "cell_type": "markdown",
   "metadata": {},
   "source": [
    "В данном разделе была проведена замена типов данных, а также произведены следующие расчеты для каждого пользователя:\n",
    "* количество сделанных звонков и израсходованных минут разговора по месяцам;\n",
    "* количество отправленных сообщений по месяцам;\n",
    "* объем израсходованного интернет-трафика по месяцам;\n",
    "* помесячную выручку с каждого пользователя (вычтите бесплатный лимит из суммарного количества звонков, сообщений и интернет-трафика; остаток умножьте на значение из тарифного плана; прибавьте абонентскую плату, соответствующую тарифному плану).\n",
    "\n",
    "Полученные данные объеденены в таблицу."
   ]
  },
  {
   "cell_type": "markdown",
   "metadata": {},
   "source": [
    "## Анализ данных"
   ]
  },
  {
   "cell_type": "markdown",
   "metadata": {},
   "source": [
    "Необходимо описать какое количество минут разговора, сколько сообщений и какой объём интернет-трафика требуется пользователям каждого тарифа в месяц. Посчитать среднее количество, дисперсию и стандартное отклонение. Построить гистограммы. Описать распределения."
   ]
  },
  {
   "cell_type": "markdown",
   "metadata": {},
   "source": [
    "### Анализ параметра \"Количество минут\""
   ]
  },
  {
   "cell_type": "code",
   "execution_count": 40,
   "metadata": {
    "scrolled": false
   },
   "outputs": [
    {
     "name": "stdout",
     "output_type": "stream",
     "text": [
      "Статистики для объема потраченных минут по месяцам для тарифа \"Смарт\":\n",
      "Среднее: 418\n",
      "Дисперсия: 36219\n",
      "Стандартное отклонение: 190\n",
      "\n",
      "Статистики для объема потраченных минут по месяцам для тарифа \"Ультра\":\n",
      "Среднее: 527\n",
      "Дисперсия: 100874\n",
      "Стандартное отклонение: 318\n"
     ]
    },
    {
     "data": {
      "image/png": "[encoded data removed]",
      "text/plain": [
       "<Figure size 1080x432 with 1 Axes>"
      ]
     },
     "metadata": {
      "needs_background": "light"
     },
     "output_type": "display_data"
    }
   ],
   "source": [
    "# растчет количества потраченных минут по тарифам\n",
    "minutes_smart = total_users[total_users['tariff'] == 'smart']['spent_minutes']\n",
    "minutes_ultra = total_users[total_users['tariff'] == 'ultra']['spent_minutes']\n",
    "# вывод среднего, дисперсии, и стандратного отклонения для каждого тарифа\n",
    "print('''Статистики для объема потраченных минут по месяцам для тарифа \"Смарт\":\n",
    "Среднее: {:.0f}\n",
    "Дисперсия: {:.0f}\n",
    "Стандартное отклонение: {:.0f}'''.format(minutes_smart.mean(), minutes_smart.var(), minutes_smart.std()))\n",
    "print()\n",
    "print('''Статистики для объема потраченных минут по месяцам для тарифа \"Ультра\":\n",
    "Среднее: {:.0f}\n",
    "Дисперсия: {:.0f}\n",
    "Стандартное отклонение: {:.0f}'''.format(minutes_ultra.mean(), minutes_ultra.var(), minutes_ultra.std()))\n",
    "# посторение гистограммы\n",
    "total_users.groupby('tariff')['spent_minutes'].plot(kind='hist', \n",
    "                                              bins=100, \n",
    "                                              alpha=0.7, \n",
    "                                              figsize=(15, 6),\n",
    "                                              legend=True)\n",
    "\n",
    "plt.title('Гистограмма потраченных минут для тарифов \"смарт\" и \"ультра\"')\n",
    "plt.show()"
   ]
  },
  {
   "cell_type": "markdown",
   "metadata": {},
   "source": [
    "Некоторое количество клиентов не тратят минуты разоговора.\n",
    "\n",
    "Клиенты тарифа \"Ультра\"  в среднем тратят больше минут разговора. При этом эти клиенты сильнее отличаются друг от друга по данному параметру. Об этом говорит как большее стандартное отклонение, так и более широкое распределение значений на гистограмме, которое к тому же сложно назвать нормальным - большинство значений лежат в диапазоне от 0 до 800 минут, но они не образуют \"колокол\", а распределены относительно равномерно.\n",
    "\n",
    "Поведение клиентов тарифа \"Смарт\" иное. Различие клиентов не столь выраженное. Распределение значений - нормальное, в диапазоне от 0 до 800 минут.\n",
    "\n",
    "Также видно, что клиентов тарифа \"Ультра\", которые бы тратили минуты сверх тарифного пакета нет (> 3000 минут). А вот клиенты тарифа \"Смарт\" иногда пользуются данной функцией (> 500 минут)\n",
    "***"
   ]
  },
  {
   "cell_type": "markdown",
   "metadata": {},
   "source": [
    "### Анализ параметра \"Количество сообщений\""
   ]
  },
  {
   "cell_type": "code",
   "execution_count": 42,
   "metadata": {},
   "outputs": [
    {
     "name": "stdout",
     "output_type": "stream",
     "text": [
      "Статистики для объема отправленных сообщений по месяцам для тарифа \"Смарт\":\n",
      "среднее: 33\n",
      "Дисперсия: 797\n",
      "Стандартное отклонение: 28\n",
      "\n",
      "Статистики для объема отправленных сообщений по месяцам для тарифа \"Ультра\":\n",
      "среднее: 49\n",
      "Дисперсия: 2285\n",
      "Стандартное отклонение: 48\n"
     ]
    },
    {
     "data": {
      "image/png": "[encoded data removed]",
      "text/plain": [
       "<Figure size 1080x432 with 1 Axes>"
      ]
     },
     "metadata": {
      "needs_background": "light"
     },
     "output_type": "display_data"
    }
   ],
   "source": [
    "messages_smart = total_users[total_users['tariff'] == 'smart']['number_of_messages']\n",
    "messages_ultra = total_users[total_users['tariff'] == 'ultra']['number_of_messages']\n",
    "print('''Статистики для объема отправленных сообщений по месяцам для тарифа \"Смарт\":\n",
    "среднее: {:.0f}\n",
    "Дисперсия: {:.0f}\n",
    "Стандартное отклонение: {:.0f}'''.format(messages_smart.mean(), messages_smart.var(), messages_smart.std()))\n",
    "print()\n",
    "print('''Статистики для объема отправленных сообщений по месяцам для тарифа \"Ультра\":\n",
    "среднее: {:.0f}\n",
    "Дисперсия: {:.0f}\n",
    "Стандартное отклонение: {:.0f}'''.format(messages_ultra.mean(), messages_ultra.var(), messages_ultra.std()))\n",
    "total_users.groupby('tariff')['number_of_messages'].plot(kind='hist', \n",
    "                                              bins=100, \n",
    "                                              alpha=0.7, \n",
    "                                              figsize=(15, 6),\n",
    "                                              legend=True)\n",
    "plt.title('Гистограмма отправленных сообщений для тарифов \"смарт\" и \"ультра\"')\n",
    "plt.show()"
   ]
  },
  {
   "cell_type": "markdown",
   "metadata": {},
   "source": [
    "Многие клиенты не отправляют сообщения. Посмотрим на данные без нулевых значений"
   ]
  },
  {
   "cell_type": "code",
   "execution_count": 45,
   "metadata": {},
   "outputs": [
    {
     "data": {
      "image/png": "[encoded data removed]",
      "text/plain": [
       "<Figure size 1080x432 with 1 Axes>"
      ]
     },
     "metadata": {
      "needs_background": "light"
     },
     "output_type": "display_data"
    }
   ],
   "source": [
    "total_users.groupby('tariff')['number_of_messages'].plot(kind='hist', \n",
    "                                                         bins=100, \n",
    "                                                         alpha=0.7, \n",
    "                                                         figsize=(15, 6), \n",
    "                                                         range=(1,250),\n",
    "                                                         legend=True\n",
    "                                                        )\n",
    "plt.title('Гистограмма отправленных сообщений для тарифов \"смарт\" и \"ультра\" без нулевых значений')\n",
    "plt.show()"
   ]
  },
  {
   "cell_type": "markdown",
   "metadata": {},
   "source": [
    "Клиенты тарифа \"Ультра\" в среднем отправляют больше сообщений в месяц. Обе гистограммы имеют положительную скошенность. Практически все клиенты тарифа \"Смарт\" тратят не больше ста сообщений в месяц. Большинство клиентов тарифа \"Ультра\" также тратят не больше ста сообщений в месяц, но значений больше ста немало.\n",
    "\n",
    "Также видно, что клиентов тарифа \"Ультра\", которые бы тратили сообщения сверх тарифного пакета нет (>1000). А вот клиенты тарифа \"Смарт\" иногда пользуются такой услугой(> 50).\n",
    "***"
   ]
  },
  {
   "cell_type": "markdown",
   "metadata": {},
   "source": [
    "### Анализ параметра \"объем интернет-трафика\""
   ]
  },
  {
   "cell_type": "code",
   "execution_count": 46,
   "metadata": {},
   "outputs": [
    {
     "name": "stdout",
     "output_type": "stream",
     "text": [
      "Статистики для объема израсходованного интернет-трафика по месяцам для тарифа \"Смарт\":\n",
      "среднее: 16209\n",
      "Дисперсия: 34462563\n",
      "Стандартное отклонение: 5870\n",
      "\n",
      "Статистики для объема израсходованного интернет-трафика по месяцам для тарифа \"Ультра\":\n",
      "среднее: 19469\n",
      "Дисперсия: 101751558\n",
      "Стандартное отклонение: 10087\n"
     ]
    },
    {
     "data": {
      "image/png": "[encoded data removed]",
      "text/plain": [
       "<Figure size 1080x432 with 1 Axes>"
      ]
     },
     "metadata": {
      "needs_background": "light"
     },
     "output_type": "display_data"
    }
   ],
   "source": [
    "mb_smart = total_users[total_users['tariff'] == 'smart']['mb_used']\n",
    "mb_ultra = total_users[total_users['tariff'] == 'ultra']['mb_used']\n",
    "print('''Статистики для объема израсходованного интернет-трафика по месяцам для тарифа \"Смарт\":\n",
    "среднее: {:.0f}\n",
    "Дисперсия: {:.0f}\n",
    "Стандартное отклонение: {:.0f}'''.format(mb_smart.mean(), mb_smart.var(), mb_smart.std()))\n",
    "print()\n",
    "print('''Статистики для объема израсходованного интернет-трафика по месяцам для тарифа \"Ультра\":\n",
    "среднее: {:.0f}\n",
    "Дисперсия: {:.0f}\n",
    "Стандартное отклонение: {:.0f}'''.format(mb_ultra.mean(), mb_ultra.var(), mb_ultra.std()))\n",
    "total_users.groupby('tariff')['mb_used'].plot(kind='hist', \n",
    "                                              bins=100, \n",
    "                                              alpha=0.7, \n",
    "                                              figsize=(15, 6), \n",
    "                                              grid=True,\n",
    "                                              legend=True)\n",
    "plt.title('Гистограмма объема израсходованного интернет-трафика для тарифов \"смарт\" и \"ультра\"')\n",
    "plt.show()"
   ]
  },
  {
   "cell_type": "markdown",
   "metadata": {},
   "source": [
    "Клиенты тарифа \"Ультра\" в среднем тратят больше интернет-трафика. При этом эти клиенты сильнее отличаются друг от друга по данному параметру. Об этом говорит как большее стандартное отклонение, так и более широкое распределение значений на гистограмме. \n",
    "\n",
    "Поведение клиентов тарифа \"Смарт\" иное. Различие клиентов не столь выраженное. Распределение значений - нормальное.\n",
    "\n",
    "Клиенты тарифа \"Ультра\" не часто тратят интернет-трафик сверх тарифного пакета. Клиенты тарифа \"Смарт\" покупают дополнительный трафик больше чем в половине случаев.\n",
    "***"
   ]
  },
  {
   "cell_type": "markdown",
   "metadata": {},
   "source": [
    "### Вывод"
   ]
  },
  {
   "cell_type": "markdown",
   "metadata": {},
   "source": [
    "Замена типов данных прошла успешно.\n",
    "\n",
    "Построенные гистограммы позволяют сделать вывод, что клиенты тарифа \"Ультра\" в среднем используют услуги в большем количестве, но при этом редко превышают тарифный пакет. "
   ]
  },
  {
   "cell_type": "markdown",
   "metadata": {},
   "source": [
    "## Проверка гипотез"
   ]
  },
  {
   "cell_type": "markdown",
   "metadata": {},
   "source": [
    "Нужно проверить гипотезы:\n",
    "* средняя выручка пользователей тарифов «Ультра» и «Смарт» различаются;\n",
    "* средняя выручка пользователей из Москвы отличается от выручки пользователей из других регионов."
   ]
  },
  {
   "cell_type": "markdown",
   "metadata": {},
   "source": [
    "### средняя выручка пользователей тарифов «Ультра» и «Смарт» различаются"
   ]
  },
  {
   "cell_type": "markdown",
   "metadata": {},
   "source": [
    "Генеральную совокупность из клиентов можно представить в виде двух генеральных совокупностей: клиенты тарифа \"Смарт\" и клиенты тарифа \"Ультра\". Значит предоставленную выборку можно разделить по тому же принципу, тем самым получив две выборки, которые можно считать случайными выборками из двух генеральных совокупностей и проверить гипотезу о равенстве среднего двух генеральных совокупностей по взятым из них выборкам."
   ]
  },
  {
   "cell_type": "markdown",
   "metadata": {},
   "source": [
    "Нулевая гипотеза: $Н_{0}$ - средняя выручка пользователей тарифов «Ультра» и «Смарт» одинаковы.<br>\n",
    "Альтернативная гипотеза: $Н_{1}$ - средняя выручка пользователей тарифов «Ультра» и «Смарт» различаются.\n",
    "\n",
    "Получим из таблицы *total_user* выручку отдельно для каждого тарифа."
   ]
  },
  {
   "cell_type": "code",
   "execution_count": 32,
   "metadata": {},
   "outputs": [],
   "source": [
    "proceeds_ultra = total_users[total_users['tariff'] == 'ultra']['proceeds']\n",
    "proceeds_smart = total_users[total_users['tariff'] == 'smart']['proceeds']"
   ]
  },
  {
   "cell_type": "markdown",
   "metadata": {},
   "source": [
    "С помощью специального метода *ttest_ind* из библиотеки *scipy* проверим гипотезу о равенстве среднего двух генеральных совокупностей по взятым из них выборкам.\n",
    "\n",
    "Уровень значимости (α) примем равным 0.05. Также будем считать, что дисперсии выборок не равны в виду различного поведения клиентов разных тарифов."
   ]
  },
  {
   "cell_type": "code",
   "execution_count": 33,
   "metadata": {
    "scrolled": true
   },
   "outputs": [
    {
     "name": "stdout",
     "output_type": "stream",
     "text": [
      "p-значение:  4.2606313931076085e-250\n",
      "Отвергаем нулевую гипотезу\n"
     ]
    }
   ],
   "source": [
    "hypothesis_1 = st.ttest_ind(\n",
    "    proceeds_ultra, \n",
    "    proceeds_smart, \n",
    "    equal_var = False)\n",
    "    \n",
    "alpha=0.05\n",
    "\n",
    "print('p-значение: ', hypothesis_1.pvalue)\n",
    "\n",
    "if hypothesis_1.pvalue < alpha:\n",
    "    print(\"Отвергаем нулевую гипотезу\")\n",
    "else:\n",
    "    print(\"Не получилось отвергнуть нулевую гипотезу\") "
   ]
  },
  {
   "cell_type": "markdown",
   "metadata": {},
   "source": [
    "Полученный результат говорит о том, что средняя выручка по тарифам различна, причем достаточно сильно. \n",
    "\n",
    "Солгасно заданию нужно найти какой тариф лучше, т.е. приносит больше денег. Т.к гипотеза о равенстве средних выручек двух тарифов опровергнута, нужно выдвинуть другую гипотезу: один тариф приносит больше денег чем другой."
   ]
  },
  {
   "cell_type": "markdown",
   "metadata": {},
   "source": [
    "Нулевая гипотеза: $Н_{0}$ - средняя выручка пользователей тарифа «Ультра» больше чем тарифа «Смарт».<br>\n",
    "Альтернативная гипотеза: $Н_{1}$ - средняя выручка пользователей тарифа «Ультра» меньше чем тарифа «Смарт»."
   ]
  },
  {
   "cell_type": "code",
   "execution_count": 34,
   "metadata": {},
   "outputs": [
    {
     "name": "stdout",
     "output_type": "stream",
     "text": [
      "p-значение:  2.1303156965538042e-250\n",
      "Не получилось отвергнуть нулевую гипотезу\n"
     ]
    }
   ],
   "source": [
    "hypothesis_2 = st.ttest_ind(\n",
    "    proceeds_ultra, \n",
    "    proceeds_smart, \n",
    "    equal_var = False)\n",
    "    \n",
    "alpha=0.05\n",
    "\n",
    "print('p-значение: ', hypothesis_2.pvalue/2)\n",
    "\n",
    "if hypothesis_2.pvalue/2 < alpha and proceeds_ultra.mean() < proceeds_smart.mean():\n",
    "    print(\"Отвергаем нулевую гипотезу\")\n",
    "else:\n",
    "    print(\"Не получилось отвергнуть нулевую гипотезу\") "
   ]
  },
  {
   "cell_type": "markdown",
   "metadata": {},
   "source": [
    "Полученные данные не противоречат гипотезе - средняя выручка пользователей тарифа «Ультра» больше чем тарифа «Смарт». Значит можно принять данную гипотезу.\n",
    "***"
   ]
  },
  {
   "cell_type": "markdown",
   "metadata": {},
   "source": [
    "### средняя выручка пользователей из Москвы отличается от выручки пользователей из других регионов"
   ]
  },
  {
   "cell_type": "markdown",
   "metadata": {},
   "source": [
    "Как и прошлом пункте генеральную совокупность из клиентов можно представить в виде двух генеральных совокупностей: клиенты из Москвы и клиенты из других регионов. Значит предоставленную выборку можно разделить по тому же принципу, тем самым получив две выборки, которые можно считать случайными выборками из двух генеральных совокупностей и проверить гипотезу о равенстве среднего двух генеральных совокупностей по взятым из них выборкам."
   ]
  },
  {
   "cell_type": "markdown",
   "metadata": {},
   "source": [
    "Создадим таблицу с пользователем, средней выручкой и городом."
   ]
  },
  {
   "cell_type": "code",
   "execution_count": 35,
   "metadata": {
    "scrolled": false
   },
   "outputs": [
    {
     "data": {
      "text/html": [
       "<div>\n",
       "<style scoped>\n",
       "    .dataframe tbody tr th:only-of-type {\n",
       "        vertical-align: middle;\n",
       "    }\n",
       "\n",
       "    .dataframe tbody tr th {\n",
       "        vertical-align: top;\n",
       "    }\n",
       "\n",
       "    .dataframe thead th {\n",
       "        text-align: right;\n",
       "    }\n",
       "</style>\n",
       "<table border=\"1\" class=\"dataframe\">\n",
       "  <thead>\n",
       "    <tr style=\"text-align: right;\">\n",
       "      <th></th>\n",
       "      <th>proceeds</th>\n",
       "      <th>city</th>\n",
       "    </tr>\n",
       "    <tr>\n",
       "      <th>user_id</th>\n",
       "      <th></th>\n",
       "      <th></th>\n",
       "    </tr>\n",
       "  </thead>\n",
       "  <tbody>\n",
       "    <tr>\n",
       "      <td>1000</td>\n",
       "      <td>15600.0</td>\n",
       "      <td>Краснодар</td>\n",
       "    </tr>\n",
       "    <tr>\n",
       "      <td>1001</td>\n",
       "      <td>1700.0</td>\n",
       "      <td>Москва</td>\n",
       "    </tr>\n",
       "    <tr>\n",
       "      <td>1002</td>\n",
       "      <td>7250.0</td>\n",
       "      <td>Стерлитамак</td>\n",
       "    </tr>\n",
       "    <tr>\n",
       "      <td>1003</td>\n",
       "      <td>9750.0</td>\n",
       "      <td>Москва</td>\n",
       "    </tr>\n",
       "    <tr>\n",
       "      <td>1004</td>\n",
       "      <td>15600.0</td>\n",
       "      <td>Новокузнецк</td>\n",
       "    </tr>\n",
       "    <tr>\n",
       "      <td>...</td>\n",
       "      <td>...</td>\n",
       "      <td>...</td>\n",
       "    </tr>\n",
       "    <tr>\n",
       "      <td>1495</td>\n",
       "      <td>11550.0</td>\n",
       "      <td>Иркутск</td>\n",
       "    </tr>\n",
       "    <tr>\n",
       "      <td>1496</td>\n",
       "      <td>28351.0</td>\n",
       "      <td>Вологда</td>\n",
       "    </tr>\n",
       "    <tr>\n",
       "      <td>1497</td>\n",
       "      <td>2785.0</td>\n",
       "      <td>Челябинск</td>\n",
       "    </tr>\n",
       "    <tr>\n",
       "      <td>1498</td>\n",
       "      <td>6636.0</td>\n",
       "      <td>Владикавказ</td>\n",
       "    </tr>\n",
       "    <tr>\n",
       "      <td>1499</td>\n",
       "      <td>3811.0</td>\n",
       "      <td>Пермь</td>\n",
       "    </tr>\n",
       "  </tbody>\n",
       "</table>\n",
       "<p>498 rows × 2 columns</p>\n",
       "</div>"
      ],
      "text/plain": [
       "         proceeds         city\n",
       "user_id                       \n",
       "1000      15600.0    Краснодар\n",
       "1001       1700.0       Москва\n",
       "1002       7250.0  Стерлитамак\n",
       "1003       9750.0       Москва\n",
       "1004      15600.0  Новокузнецк\n",
       "...           ...          ...\n",
       "1495      11550.0      Иркутск\n",
       "1496      28351.0      Вологда\n",
       "1497       2785.0    Челябинск\n",
       "1498       6636.0  Владикавказ\n",
       "1499       3811.0        Пермь\n",
       "\n",
       "[498 rows x 2 columns]"
      ]
     },
     "execution_count": 35,
     "metadata": {},
     "output_type": "execute_result"
    }
   ],
   "source": [
    "city = users.groupby('user_id')['city'].first()\n",
    "users_city = total_users.pivot_table(index='user_id', values='proceeds', aggfunc='sum')\n",
    "users_city = users_city.join(city)\n",
    "users_city"
   ]
  },
  {
   "cell_type": "markdown",
   "metadata": {},
   "source": [
    "Теперь разделим данные - Москва и регионы."
   ]
  },
  {
   "cell_type": "code",
   "execution_count": 36,
   "metadata": {},
   "outputs": [],
   "source": [
    "moscow = users_city.query('city == \"Москва\"')\n",
    "regions = users_city.query('city != \"Москва\"')"
   ]
  },
  {
   "cell_type": "markdown",
   "metadata": {},
   "source": [
    "Теперь возьмем данные о выручке."
   ]
  },
  {
   "cell_type": "code",
   "execution_count": 37,
   "metadata": {},
   "outputs": [],
   "source": [
    "moscow_proceeds = moscow.proceeds\n",
    "regions_proceeds = regions.proceeds"
   ]
  },
  {
   "cell_type": "markdown",
   "metadata": {},
   "source": [
    "Нулевая гипотеза: $Н_{0}$ - средняя выручка пользователей из Москвы равна выручке пользователей из других регионов.<br>\n",
    "Альтернативная гипотеза: $Н_{1}$ - средняя выручка пользователей из Москвы не равна выручке пользователей из других регионов.\n",
    "\n",
    "Посмотрим на размеры выборок."
   ]
  },
  {
   "cell_type": "code",
   "execution_count": 38,
   "metadata": {
    "scrolled": true
   },
   "outputs": [
    {
     "name": "stdout",
     "output_type": "stream",
     "text": [
      "Жителей Москвы: 99\n",
      "Жителей регионов: 399\n"
     ]
    }
   ],
   "source": [
    "print(f'Жителей Москвы: {len(moscow_proceeds)}')\n",
    "print(f'Жителей регионов: {len(regions_proceeds)}')"
   ]
  },
  {
   "cell_type": "markdown",
   "metadata": {},
   "source": [
    "Так как выборки разного размера их дисперсии будем считать различными. Уровень значимости (α) примем равным 0.05"
   ]
  },
  {
   "cell_type": "code",
   "execution_count": 39,
   "metadata": {},
   "outputs": [
    {
     "name": "stdout",
     "output_type": "stream",
     "text": [
      "p-значение:  0.5864727434062591\n",
      "Не получилось отвергнуть нулевую гипотезу\n"
     ]
    }
   ],
   "source": [
    "hypothesis_3 = st.ttest_ind(\n",
    "    moscow_proceeds, \n",
    "    regions_proceeds, \n",
    "    equal_var = False)\n",
    "    \n",
    "alpha=0.05\n",
    "\n",
    "print('p-значение: ', hypothesis_3.pvalue)\n",
    "\n",
    "if hypothesis_3.pvalue < alpha:\n",
    "    print(\"Отвергаем нулевую гипотезу\")\n",
    "else:\n",
    "    print(\"Не получилось отвергнуть нулевую гипотезу\") "
   ]
  },
  {
   "cell_type": "markdown",
   "metadata": {},
   "source": [
    "Полученные данные не противоречат гипотезе - средняя выручка пользователей из Москвы равна выручке пользователей из других регионов. Значит можно принять данную гипотезу."
   ]
  },
  {
   "cell_type": "markdown",
   "metadata": {},
   "source": [
    "### Вывод"
   ]
  },
  {
   "cell_type": "markdown",
   "metadata": {},
   "source": [
    "Были проверены гипотезы о равенстве средней выручки пользователей тарифов «Ультра» и «Смарт» и о равенстве средней выручки пользователей из Москвы и из других регионов.\n",
    "\n",
    "В результате проверки гипотез были получены следующие результаты:\n",
    "* средняя выручка пользователей тарифа «Ультра» больше чем тарифа «Смарт»\n",
    "* средняя выручка пользователей из Москвы равна выручке пользователей из других регионов"
   ]
  },
  {
   "cell_type": "markdown",
   "metadata": {},
   "source": [
    "## Общий вывод"
   ]
  },
  {
   "cell_type": "markdown",
   "metadata": {},
   "source": [
    "**Анализ поведения клиентов тарифов \"Ультра\" и \"Смарт\" по следующим параметрам:**\n",
    "\n",
    "*Поведение клиентов по параметру \"потраченные минуты разговора\":*\n",
    "* Клиенты тарифа \"Ультра\" в среднем тратят больше минут разговора. При этом эти клиенты сильнее отличаются друг от друга по данному параметру.\n",
    "* Поведение клиентов тарифа \"Смарт\" иное. Различие клиентов не столь выраженное. Распределение значений - нормальное.\n",
    "* Клиентов тарифа \"Ультра\", которые бы тратили минуты сверх тарифного пакета нет. Клиенты тарифа \"Смарт\" иногда пользуются данной функцией.\n",
    "\n",
    "*Поведение клиентов по параметру \"количество отправленных сообщений\":*\n",
    "* Клиенты тарифа \"Ультра\" в среднем отправляют больше собщений в месяц. Практически все клиенты тарифа \"Смарт\" тратят не больше ста сообщений в месяц. Большинство клиентов тарифа \"Ультра\" также тратят не больше ста сообщений в месяц, но немало и тех, кто тратит больше ста сообщений.\n",
    "* Клиентов тарифа \"Ультра\", которые бы тратили сообщения сверх тарифного пакета нет. Клиенты тарифа \"Смарт\" иногда пользуются такой услугой(> 50).\n",
    "\n",
    "*Поведение клиентов по параметру \"объем интернет-трафика\":*\n",
    "* Клиенты тарифа \"Ультра\" в среднем тратят больше интернет-трафика. При этом эти клиенты сильнее отличаются друг от друга по данному параметру.\n",
    "* Поведение клиентов тарифа \"Смарт\" иное. Различие клиентов не столь выраженное. Распределение значений - нормальное.\n",
    "* Клиенты тарифа \"Ультра\" не часто тратят интернет-трафик сверх тарифного пакета. Клиенты тарифа \"Смарт\" покупают дополнительный трафик больше чем в половине случаев.\n",
    "\n",
    "**Результаты проверки гипотез:**\n",
    "* средняя выручка пользователей тарифа «Ультра» больше чем тарифа «Смарт»\n",
    "* средняя выручка пользователей из Москвы равна выручке пользователей из других регионов\n",
    "\n",
    "**Общий вывод:**\n",
    "\n",
    "Несмотря на то, что клиенты тарифа \"Смарт\" пользуются дополнительными платными услугами по результатам проверки гипотез - в большей степени вероятно что **средняя выручка выше у тарифа \"Ультра\"**. Это значит, что скорректировать рекламный бюджет стоит в сторону тарифа \"Ультра\"."
   ]
  }
 ],
 "metadata": {
  "ExecuteTimeLog": [
   {
    "duration": 697,
    "start_time": "2021-12-29T07:13:40.542Z"
   },
   {
    "duration": 3,
    "start_time": "2021-12-29T07:14:08.322Z"
   },
   {
    "duration": 58,
    "start_time": "2021-12-29T07:14:56.675Z"
   },
   {
    "duration": 36,
    "start_time": "2021-12-29T07:15:56.206Z"
   },
   {
    "duration": 9,
    "start_time": "2021-12-29T07:18:11.166Z"
   },
   {
    "duration": 20,
    "start_time": "2021-12-29T07:24:24.532Z"
   },
   {
    "duration": 173,
    "start_time": "2021-12-29T07:24:48.883Z"
   },
   {
    "duration": 21,
    "start_time": "2021-12-29T07:25:15.907Z"
   },
   {
    "duration": 22,
    "start_time": "2021-12-29T07:27:54.158Z"
   },
   {
    "duration": 84,
    "start_time": "2021-12-29T07:28:18.635Z"
   },
   {
    "duration": 16,
    "start_time": "2021-12-29T07:28:46.824Z"
   },
   {
    "duration": 23,
    "start_time": "2021-12-29T07:30:57.551Z"
   },
   {
    "duration": 2875,
    "start_time": "2021-12-29T07:31:22.952Z"
   },
   {
    "duration": 23,
    "start_time": "2021-12-29T07:31:26.981Z"
   },
   {
    "duration": 2694,
    "start_time": "2021-12-29T07:31:28.715Z"
   },
   {
    "duration": 124,
    "start_time": "2021-12-29T07:31:37.665Z"
   },
   {
    "duration": 16,
    "start_time": "2021-12-29T07:32:10.215Z"
   },
   {
    "duration": 72,
    "start_time": "2021-12-29T07:36:17.942Z"
   },
   {
    "duration": 76,
    "start_time": "2021-12-29T07:36:22.786Z"
   },
   {
    "duration": 79,
    "start_time": "2021-12-29T07:36:33.340Z"
   },
   {
    "duration": 129,
    "start_time": "2021-12-29T07:36:37.831Z"
   },
   {
    "duration": 128,
    "start_time": "2021-12-29T07:37:56.220Z"
   },
   {
    "duration": 24,
    "start_time": "2021-12-29T07:37:57.720Z"
   },
   {
    "duration": 32,
    "start_time": "2021-12-29T07:41:03.140Z"
   },
   {
    "duration": 24,
    "start_time": "2021-12-29T07:41:14.598Z"
   },
   {
    "duration": 655,
    "start_time": "2021-12-29T07:41:50.469Z"
   },
   {
    "duration": 18,
    "start_time": "2021-12-29T07:42:19.227Z"
   },
   {
    "duration": 8,
    "start_time": "2021-12-29T07:42:48.947Z"
   },
   {
    "duration": 8,
    "start_time": "2021-12-29T07:58:59.521Z"
   },
   {
    "duration": 33,
    "start_time": "2021-12-29T08:00:19.377Z"
   },
   {
    "duration": 296,
    "start_time": "2021-12-29T12:18:28.103Z"
   },
   {
    "duration": 679,
    "start_time": "2021-12-29T12:18:32.300Z"
   },
   {
    "duration": 3,
    "start_time": "2021-12-29T12:18:32.981Z"
   },
   {
    "duration": 37,
    "start_time": "2021-12-29T12:18:32.986Z"
   },
   {
    "duration": 5,
    "start_time": "2021-12-29T12:18:33.025Z"
   },
   {
    "duration": 6,
    "start_time": "2021-12-29T12:18:33.032Z"
   },
   {
    "duration": 29,
    "start_time": "2021-12-29T12:18:33.040Z"
   },
   {
    "duration": 148,
    "start_time": "2021-12-29T12:18:33.071Z"
   },
   {
    "duration": 21,
    "start_time": "2021-12-29T12:18:33.222Z"
   },
   {
    "duration": 38,
    "start_time": "2021-12-29T12:18:33.260Z"
   },
   {
    "duration": 89,
    "start_time": "2021-12-29T12:18:33.300Z"
   },
   {
    "duration": 15,
    "start_time": "2021-12-29T12:18:33.391Z"
   },
   {
    "duration": 42,
    "start_time": "2021-12-29T12:18:33.408Z"
   },
   {
    "duration": 131,
    "start_time": "2021-12-29T12:18:33.452Z"
   },
   {
    "duration": 18,
    "start_time": "2021-12-29T12:18:33.584Z"
   },
   {
    "duration": 21,
    "start_time": "2021-12-29T12:18:33.604Z"
   },
   {
    "duration": 5,
    "start_time": "2021-12-29T12:18:33.627Z"
   },
   {
    "duration": 9,
    "start_time": "2021-12-29T12:18:33.633Z"
   },
   {
    "duration": 89,
    "start_time": "2021-12-29T12:18:33.644Z"
   },
   {
    "duration": 30,
    "start_time": "2021-12-29T12:19:49.816Z"
   },
   {
    "duration": 9,
    "start_time": "2021-12-29T12:23:20.399Z"
   },
   {
    "duration": 8,
    "start_time": "2021-12-29T12:23:53.615Z"
   },
   {
    "duration": 9,
    "start_time": "2021-12-29T12:24:07.517Z"
   },
   {
    "duration": 5,
    "start_time": "2021-12-29T12:24:18.282Z"
   },
   {
    "duration": 5,
    "start_time": "2021-12-29T12:25:04.284Z"
   },
   {
    "duration": 282,
    "start_time": "2021-12-29T12:25:21.446Z"
   },
   {
    "duration": 5,
    "start_time": "2021-12-29T12:42:36.258Z"
   },
   {
    "duration": 908,
    "start_time": "2021-12-29T12:42:44.913Z"
   },
   {
    "duration": 248,
    "start_time": "2021-12-29T12:43:08.419Z"
   },
   {
    "duration": 12,
    "start_time": "2021-12-29T12:44:46.264Z"
   },
   {
    "duration": 6,
    "start_time": "2021-12-29T12:45:48.803Z"
   },
   {
    "duration": 6,
    "start_time": "2021-12-29T12:46:06.129Z"
   },
   {
    "duration": 6,
    "start_time": "2021-12-29T12:47:15.303Z"
   },
   {
    "duration": 24,
    "start_time": "2021-12-29T12:50:23.125Z"
   },
   {
    "duration": 25,
    "start_time": "2021-12-29T12:50:39.045Z"
   },
   {
    "duration": 858,
    "start_time": "2021-12-29T23:53:36.098Z"
   },
   {
    "duration": 4,
    "start_time": "2021-12-29T23:53:36.959Z"
   },
   {
    "duration": 38,
    "start_time": "2021-12-29T23:53:36.968Z"
   },
   {
    "duration": 16,
    "start_time": "2021-12-29T23:53:37.009Z"
   },
   {
    "duration": 9,
    "start_time": "2021-12-29T23:53:37.027Z"
   },
   {
    "duration": 24,
    "start_time": "2021-12-29T23:53:37.038Z"
   },
   {
    "duration": 208,
    "start_time": "2021-12-29T23:53:37.065Z"
   },
   {
    "duration": 25,
    "start_time": "2021-12-29T23:53:37.275Z"
   },
   {
    "duration": 32,
    "start_time": "2021-12-29T23:53:37.304Z"
   },
   {
    "duration": 118,
    "start_time": "2021-12-29T23:53:37.339Z"
   },
   {
    "duration": 18,
    "start_time": "2021-12-29T23:53:37.459Z"
   },
   {
    "duration": 45,
    "start_time": "2021-12-29T23:53:37.480Z"
   },
   {
    "duration": 159,
    "start_time": "2021-12-29T23:53:37.527Z"
   },
   {
    "duration": 24,
    "start_time": "2021-12-29T23:53:37.689Z"
   },
   {
    "duration": 25,
    "start_time": "2021-12-29T23:53:37.724Z"
   },
   {
    "duration": 7,
    "start_time": "2021-12-29T23:53:37.751Z"
   },
   {
    "duration": 9,
    "start_time": "2021-12-29T23:53:37.761Z"
   },
   {
    "duration": 137,
    "start_time": "2021-12-29T23:53:37.772Z"
   },
   {
    "duration": 32,
    "start_time": "2021-12-30T00:05:35.673Z"
   },
   {
    "duration": 43,
    "start_time": "2021-12-30T00:05:40.824Z"
   },
   {
    "duration": 30,
    "start_time": "2021-12-30T00:05:51.364Z"
   },
   {
    "duration": 424,
    "start_time": "2021-12-30T00:07:24.178Z"
   },
   {
    "duration": 323,
    "start_time": "2021-12-30T00:07:29.205Z"
   },
   {
    "duration": 107,
    "start_time": "2021-12-30T00:07:34.398Z"
   },
   {
    "duration": 94,
    "start_time": "2021-12-30T00:10:30.066Z"
   },
   {
    "duration": 101,
    "start_time": "2021-12-30T00:10:49.177Z"
   },
   {
    "duration": 1299,
    "start_time": "2021-12-30T00:12:23.160Z"
   },
   {
    "duration": 1210,
    "start_time": "2021-12-30T00:12:48.864Z"
   },
   {
    "duration": 142,
    "start_time": "2021-12-30T00:13:01.228Z"
   },
   {
    "duration": 105,
    "start_time": "2021-12-30T00:13:14.655Z"
   },
   {
    "duration": 97,
    "start_time": "2021-12-30T00:13:28.869Z"
   },
   {
    "duration": 100,
    "start_time": "2021-12-30T00:13:42.391Z"
   },
   {
    "duration": 38,
    "start_time": "2021-12-30T00:17:29.664Z"
   },
   {
    "duration": 23,
    "start_time": "2021-12-30T00:18:06.980Z"
   },
   {
    "duration": 28,
    "start_time": "2021-12-30T00:18:11.617Z"
   },
   {
    "duration": 1436,
    "start_time": "2021-12-30T00:19:43.420Z"
   },
   {
    "duration": 43,
    "start_time": "2021-12-30T00:19:57.191Z"
   },
   {
    "duration": 1246,
    "start_time": "2021-12-30T00:20:21.871Z"
   },
   {
    "duration": 1467,
    "start_time": "2021-12-30T00:21:09.547Z"
   },
   {
    "duration": 41,
    "start_time": "2021-12-30T00:21:52.756Z"
   },
   {
    "duration": 44,
    "start_time": "2021-12-30T00:22:17.316Z"
   },
   {
    "duration": 1433,
    "start_time": "2021-12-30T00:22:20.663Z"
   },
   {
    "duration": 43,
    "start_time": "2021-12-30T00:22:25.345Z"
   },
   {
    "duration": 80,
    "start_time": "2021-12-30T00:24:36.719Z"
   },
   {
    "duration": 32,
    "start_time": "2021-12-30T00:24:45.392Z"
   },
   {
    "duration": 43,
    "start_time": "2021-12-30T00:25:02.298Z"
   },
   {
    "duration": 31,
    "start_time": "2021-12-30T00:26:43.760Z"
   },
   {
    "duration": 44,
    "start_time": "2021-12-30T00:27:28.951Z"
   },
   {
    "duration": 51,
    "start_time": "2021-12-30T00:31:47.949Z"
   },
   {
    "duration": 1008,
    "start_time": "2021-12-30T03:37:28.965Z"
   },
   {
    "duration": 3,
    "start_time": "2021-12-30T03:37:29.976Z"
   },
   {
    "duration": 42,
    "start_time": "2021-12-30T03:37:29.982Z"
   },
   {
    "duration": 9,
    "start_time": "2021-12-30T03:37:30.027Z"
   },
   {
    "duration": 12,
    "start_time": "2021-12-30T03:37:30.038Z"
   },
   {
    "duration": 28,
    "start_time": "2021-12-30T03:37:30.053Z"
   },
   {
    "duration": 217,
    "start_time": "2021-12-30T03:37:30.083Z"
   },
   {
    "duration": 34,
    "start_time": "2021-12-30T03:37:30.304Z"
   },
   {
    "duration": 23,
    "start_time": "2021-12-30T03:37:30.342Z"
   },
   {
    "duration": 128,
    "start_time": "2021-12-30T03:37:30.367Z"
   },
   {
    "duration": 27,
    "start_time": "2021-12-30T03:37:30.497Z"
   },
   {
    "duration": 25,
    "start_time": "2021-12-30T03:37:30.527Z"
   },
   {
    "duration": 175,
    "start_time": "2021-12-30T03:37:30.554Z"
   },
   {
    "duration": 21,
    "start_time": "2021-12-30T03:37:30.731Z"
   },
   {
    "duration": 23,
    "start_time": "2021-12-30T03:37:30.755Z"
   },
   {
    "duration": 11,
    "start_time": "2021-12-30T03:37:30.781Z"
   },
   {
    "duration": 35,
    "start_time": "2021-12-30T03:37:30.795Z"
   },
   {
    "duration": 123,
    "start_time": "2021-12-30T03:37:30.833Z"
   },
   {
    "duration": 41,
    "start_time": "2021-12-30T03:37:30.959Z"
   },
   {
    "duration": 100,
    "start_time": "2021-12-30T03:37:31.002Z"
   },
   {
    "duration": 27,
    "start_time": "2021-12-30T03:37:31.124Z"
   },
   {
    "duration": 43,
    "start_time": "2021-12-30T03:37:31.154Z"
   },
   {
    "duration": 31,
    "start_time": "2021-12-30T03:37:31.226Z"
   },
   {
    "duration": 71,
    "start_time": "2021-12-30T03:37:31.259Z"
   },
   {
    "duration": 56,
    "start_time": "2021-12-30T03:37:31.333Z"
   },
   {
    "duration": 519,
    "start_time": "2021-12-30T03:42:44.244Z"
   },
   {
    "duration": 5,
    "start_time": "2021-12-30T03:50:55.029Z"
   },
   {
    "duration": 7,
    "start_time": "2021-12-30T03:50:55.037Z"
   },
   {
    "duration": 36,
    "start_time": "2021-12-30T03:50:55.046Z"
   },
   {
    "duration": 41,
    "start_time": "2021-12-30T03:50:55.084Z"
   },
   {
    "duration": 8,
    "start_time": "2021-12-30T03:50:55.127Z"
   },
   {
    "duration": 26,
    "start_time": "2021-12-30T03:50:55.137Z"
   },
   {
    "duration": 211,
    "start_time": "2021-12-30T03:50:55.165Z"
   },
   {
    "duration": 26,
    "start_time": "2021-12-30T03:50:55.378Z"
   },
   {
    "duration": 22,
    "start_time": "2021-12-30T03:50:55.424Z"
   },
   {
    "duration": 113,
    "start_time": "2021-12-30T03:50:55.449Z"
   },
   {
    "duration": 19,
    "start_time": "2021-12-30T03:50:55.564Z"
   },
   {
    "duration": 43,
    "start_time": "2021-12-30T03:50:55.585Z"
   },
   {
    "duration": 160,
    "start_time": "2021-12-30T03:50:55.630Z"
   },
   {
    "duration": 33,
    "start_time": "2021-12-30T03:50:55.792Z"
   },
   {
    "duration": 23,
    "start_time": "2021-12-30T03:50:55.827Z"
   },
   {
    "duration": 8,
    "start_time": "2021-12-30T03:50:55.852Z"
   },
   {
    "duration": 13,
    "start_time": "2021-12-30T03:50:55.862Z"
   },
   {
    "duration": 117,
    "start_time": "2021-12-30T03:50:55.877Z"
   },
   {
    "duration": 57,
    "start_time": "2021-12-30T03:50:55.996Z"
   },
   {
    "duration": 540,
    "start_time": "2021-12-30T03:50:56.055Z"
   },
   {
    "duration": -5774,
    "start_time": "2021-12-30T03:51:02.371Z"
   },
   {
    "duration": -5775,
    "start_time": "2021-12-30T03:51:02.374Z"
   },
   {
    "duration": -5775,
    "start_time": "2021-12-30T03:51:02.375Z"
   },
   {
    "duration": -5776,
    "start_time": "2021-12-30T03:51:02.377Z"
   },
   {
    "duration": -5775,
    "start_time": "2021-12-30T03:51:02.378Z"
   },
   {
    "duration": 79,
    "start_time": "2021-12-30T03:51:10.930Z"
   },
   {
    "duration": 3,
    "start_time": "2021-12-30T03:51:14.692Z"
   },
   {
    "duration": 9,
    "start_time": "2021-12-30T03:51:14.698Z"
   },
   {
    "duration": 37,
    "start_time": "2021-12-30T03:51:14.710Z"
   },
   {
    "duration": 7,
    "start_time": "2021-12-30T03:51:14.750Z"
   },
   {
    "duration": 10,
    "start_time": "2021-12-30T03:51:14.759Z"
   },
   {
    "duration": 25,
    "start_time": "2021-12-30T03:51:14.771Z"
   },
   {
    "duration": 198,
    "start_time": "2021-12-30T03:51:14.798Z"
   },
   {
    "duration": 35,
    "start_time": "2021-12-30T03:51:14.999Z"
   },
   {
    "duration": 27,
    "start_time": "2021-12-30T03:51:15.039Z"
   },
   {
    "duration": 129,
    "start_time": "2021-12-30T03:51:15.069Z"
   },
   {
    "duration": 23,
    "start_time": "2021-12-30T03:51:15.201Z"
   },
   {
    "duration": 29,
    "start_time": "2021-12-30T03:51:15.227Z"
   },
   {
    "duration": 173,
    "start_time": "2021-12-30T03:51:15.259Z"
   },
   {
    "duration": 20,
    "start_time": "2021-12-30T03:51:15.435Z"
   },
   {
    "duration": 23,
    "start_time": "2021-12-30T03:51:15.458Z"
   },
   {
    "duration": 9,
    "start_time": "2021-12-30T03:51:15.483Z"
   },
   {
    "duration": 36,
    "start_time": "2021-12-30T03:51:15.494Z"
   },
   {
    "duration": 126,
    "start_time": "2021-12-30T03:51:15.532Z"
   },
   {
    "duration": 41,
    "start_time": "2021-12-30T03:51:15.660Z"
   },
   {
    "duration": 94,
    "start_time": "2021-12-30T03:51:15.704Z"
   },
   {
    "duration": 44,
    "start_time": "2021-12-30T03:51:15.801Z"
   },
   {
    "duration": 41,
    "start_time": "2021-12-30T03:51:15.847Z"
   },
   {
    "duration": 59,
    "start_time": "2021-12-30T03:51:15.891Z"
   },
   {
    "duration": 36,
    "start_time": "2021-12-30T03:51:15.953Z"
   },
   {
    "duration": 84,
    "start_time": "2021-12-30T03:51:16.023Z"
   },
   {
    "duration": 9,
    "start_time": "2021-12-30T03:54:08.912Z"
   },
   {
    "duration": 9,
    "start_time": "2021-12-30T03:54:21.286Z"
   },
   {
    "duration": 5,
    "start_time": "2021-12-30T03:54:38.008Z"
   },
   {
    "duration": 53,
    "start_time": "2021-12-30T03:55:12.219Z"
   },
   {
    "duration": 1131,
    "start_time": "2021-12-30T03:55:31.855Z"
   },
   {
    "duration": 7,
    "start_time": "2021-12-30T03:55:44.771Z"
   },
   {
    "duration": 1143,
    "start_time": "2021-12-30T03:55:46.534Z"
   },
   {
    "duration": 6,
    "start_time": "2021-12-30T03:56:27.126Z"
   },
   {
    "duration": 1340,
    "start_time": "2021-12-30T03:56:30.923Z"
   },
   {
    "duration": 386,
    "start_time": "2021-12-30T03:57:56.372Z"
   },
   {
    "duration": 24,
    "start_time": "2021-12-30T03:58:43.916Z"
   },
   {
    "duration": 7,
    "start_time": "2021-12-30T03:59:14.664Z"
   },
   {
    "duration": 28,
    "start_time": "2021-12-30T03:59:22.091Z"
   },
   {
    "duration": 300,
    "start_time": "2021-12-30T03:59:34.837Z"
   },
   {
    "duration": 1568,
    "start_time": "2021-12-30T03:59:53.081Z"
   },
   {
    "duration": 50,
    "start_time": "2021-12-30T04:00:42.701Z"
   },
   {
    "duration": 101,
    "start_time": "2021-12-30T04:01:09.723Z"
   },
   {
    "duration": 106,
    "start_time": "2021-12-30T04:01:18.118Z"
   },
   {
    "duration": 6,
    "start_time": "2021-12-30T04:01:30.734Z"
   },
   {
    "duration": 51,
    "start_time": "2021-12-30T04:01:32.701Z"
   },
   {
    "duration": 17,
    "start_time": "2021-12-30T04:08:13.211Z"
   },
   {
    "duration": 388,
    "start_time": "2021-12-30T04:08:50.717Z"
   },
   {
    "duration": 34,
    "start_time": "2021-12-30T04:09:01.016Z"
   },
   {
    "duration": 6,
    "start_time": "2021-12-30T04:09:03.371Z"
   },
   {
    "duration": 34,
    "start_time": "2021-12-30T04:09:05.204Z"
   },
   {
    "duration": 361,
    "start_time": "2021-12-30T04:09:06.995Z"
   },
   {
    "duration": 3,
    "start_time": "2021-12-30T04:09:17.997Z"
   },
   {
    "duration": 3,
    "start_time": "2021-12-30T04:09:18.016Z"
   },
   {
    "duration": 41,
    "start_time": "2021-12-30T04:09:18.022Z"
   },
   {
    "duration": 8,
    "start_time": "2021-12-30T04:09:18.066Z"
   },
   {
    "duration": 9,
    "start_time": "2021-12-30T04:09:18.077Z"
   },
   {
    "duration": 43,
    "start_time": "2021-12-30T04:09:18.088Z"
   },
   {
    "duration": 191,
    "start_time": "2021-12-30T04:09:18.134Z"
   },
   {
    "duration": 26,
    "start_time": "2021-12-30T04:09:18.328Z"
   },
   {
    "duration": 22,
    "start_time": "2021-12-30T04:09:18.357Z"
   },
   {
    "duration": 132,
    "start_time": "2021-12-30T04:09:18.384Z"
   },
   {
    "duration": 18,
    "start_time": "2021-12-30T04:09:18.525Z"
   },
   {
    "duration": 23,
    "start_time": "2021-12-30T04:09:18.545Z"
   },
   {
    "duration": 172,
    "start_time": "2021-12-30T04:09:18.570Z"
   },
   {
    "duration": 22,
    "start_time": "2021-12-30T04:09:18.745Z"
   },
   {
    "duration": 26,
    "start_time": "2021-12-30T04:09:18.769Z"
   },
   {
    "duration": 7,
    "start_time": "2021-12-30T04:09:18.823Z"
   },
   {
    "duration": 12,
    "start_time": "2021-12-30T04:09:18.833Z"
   },
   {
    "duration": 133,
    "start_time": "2021-12-30T04:09:18.848Z"
   },
   {
    "duration": 65,
    "start_time": "2021-12-30T04:09:18.984Z"
   },
   {
    "duration": 86,
    "start_time": "2021-12-30T04:09:19.052Z"
   },
   {
    "duration": 28,
    "start_time": "2021-12-30T04:09:19.141Z"
   },
   {
    "duration": 82,
    "start_time": "2021-12-30T04:09:19.172Z"
   },
   {
    "duration": 34,
    "start_time": "2021-12-30T04:09:19.257Z"
   },
   {
    "duration": 65,
    "start_time": "2021-12-30T04:09:19.294Z"
   },
   {
    "duration": 7,
    "start_time": "2021-12-30T04:09:19.363Z"
   },
   {
    "duration": 112,
    "start_time": "2021-12-30T04:09:19.373Z"
   },
   {
    "duration": 283,
    "start_time": "2021-12-30T04:09:19.488Z"
   },
   {
    "duration": 24,
    "start_time": "2021-12-30T04:09:30.300Z"
   },
   {
    "duration": 32,
    "start_time": "2021-12-30T04:09:47.692Z"
   },
   {
    "duration": 310,
    "start_time": "2021-12-30T04:10:10.792Z"
   },
   {
    "duration": 29,
    "start_time": "2021-12-30T04:10:18.891Z"
   },
   {
    "duration": 23,
    "start_time": "2021-12-30T04:11:12.980Z"
   },
   {
    "duration": 11,
    "start_time": "2021-12-30T04:11:28.608Z"
   },
   {
    "duration": 296,
    "start_time": "2021-12-30T04:11:31.679Z"
   },
   {
    "duration": 4,
    "start_time": "2021-12-30T04:11:42.445Z"
   },
   {
    "duration": 10,
    "start_time": "2021-12-30T04:11:42.452Z"
   },
   {
    "duration": 34,
    "start_time": "2021-12-30T04:11:42.466Z"
   },
   {
    "duration": 7,
    "start_time": "2021-12-30T04:11:42.503Z"
   },
   {
    "duration": 8,
    "start_time": "2021-12-30T04:11:42.522Z"
   },
   {
    "duration": 26,
    "start_time": "2021-12-30T04:11:42.533Z"
   },
   {
    "duration": 193,
    "start_time": "2021-12-30T04:11:42.561Z"
   },
   {
    "duration": 24,
    "start_time": "2021-12-30T04:11:42.756Z"
   },
   {
    "duration": 39,
    "start_time": "2021-12-30T04:11:42.785Z"
   },
   {
    "duration": 106,
    "start_time": "2021-12-30T04:11:42.827Z"
   },
   {
    "duration": 18,
    "start_time": "2021-12-30T04:11:42.935Z"
   },
   {
    "duration": 23,
    "start_time": "2021-12-30T04:11:42.955Z"
   },
   {
    "duration": 173,
    "start_time": "2021-12-30T04:11:42.981Z"
   },
   {
    "duration": 28,
    "start_time": "2021-12-30T04:11:43.157Z"
   },
   {
    "duration": 45,
    "start_time": "2021-12-30T04:11:43.188Z"
   },
   {
    "duration": 11,
    "start_time": "2021-12-30T04:11:43.236Z"
   },
   {
    "duration": 13,
    "start_time": "2021-12-30T04:11:43.250Z"
   },
   {
    "duration": 134,
    "start_time": "2021-12-30T04:11:43.266Z"
   },
   {
    "duration": 54,
    "start_time": "2021-12-30T04:11:43.403Z"
   },
   {
    "duration": 78,
    "start_time": "2021-12-30T04:11:43.459Z"
   },
   {
    "duration": 26,
    "start_time": "2021-12-30T04:11:43.540Z"
   },
   {
    "duration": 69,
    "start_time": "2021-12-30T04:11:43.569Z"
   },
   {
    "duration": 29,
    "start_time": "2021-12-30T04:11:43.641Z"
   },
   {
    "duration": 61,
    "start_time": "2021-12-30T04:11:43.672Z"
   },
   {
    "duration": 5,
    "start_time": "2021-12-30T04:11:43.736Z"
   },
   {
    "duration": 38,
    "start_time": "2021-12-30T04:11:43.743Z"
   },
   {
    "duration": 39,
    "start_time": "2021-12-30T04:11:43.786Z"
   },
   {
    "duration": 271,
    "start_time": "2021-12-30T04:11:47.692Z"
   },
   {
    "duration": 297,
    "start_time": "2021-12-30T04:11:53.692Z"
   },
   {
    "duration": 6,
    "start_time": "2021-12-30T04:11:56.857Z"
   },
   {
    "duration": 45,
    "start_time": "2021-12-30T04:11:58.148Z"
   },
   {
    "duration": 23,
    "start_time": "2021-12-30T04:11:58.816Z"
   },
   {
    "duration": 10,
    "start_time": "2021-12-30T04:12:19.184Z"
   },
   {
    "duration": 317,
    "start_time": "2021-12-30T04:12:22.365Z"
   },
   {
    "duration": 4,
    "start_time": "2021-12-30T04:12:34.023Z"
   },
   {
    "duration": 10,
    "start_time": "2021-12-30T04:12:34.030Z"
   },
   {
    "duration": 33,
    "start_time": "2021-12-30T04:12:34.045Z"
   },
   {
    "duration": 43,
    "start_time": "2021-12-30T04:12:34.082Z"
   },
   {
    "duration": 11,
    "start_time": "2021-12-30T04:12:34.128Z"
   },
   {
    "duration": 26,
    "start_time": "2021-12-30T04:12:34.142Z"
   },
   {
    "duration": 210,
    "start_time": "2021-12-30T04:12:34.171Z"
   },
   {
    "duration": 44,
    "start_time": "2021-12-30T04:12:34.383Z"
   },
   {
    "duration": 25,
    "start_time": "2021-12-30T04:12:34.433Z"
   },
   {
    "duration": 126,
    "start_time": "2021-12-30T04:12:34.462Z"
   },
   {
    "duration": 33,
    "start_time": "2021-12-30T04:12:34.591Z"
   },
   {
    "duration": 27,
    "start_time": "2021-12-30T04:12:34.627Z"
   },
   {
    "duration": 270,
    "start_time": "2021-12-30T04:12:34.657Z"
   },
   {
    "duration": 22,
    "start_time": "2021-12-30T04:12:34.929Z"
   },
   {
    "duration": 26,
    "start_time": "2021-12-30T04:12:34.953Z"
   },
   {
    "duration": 8,
    "start_time": "2021-12-30T04:12:34.981Z"
   },
   {
    "duration": 33,
    "start_time": "2021-12-30T04:12:34.992Z"
   },
   {
    "duration": 109,
    "start_time": "2021-12-30T04:12:35.028Z"
   },
   {
    "duration": 37,
    "start_time": "2021-12-30T04:12:35.140Z"
   },
   {
    "duration": 89,
    "start_time": "2021-12-30T04:12:35.179Z"
   },
   {
    "duration": 27,
    "start_time": "2021-12-30T04:12:35.270Z"
   },
   {
    "duration": 63,
    "start_time": "2021-12-30T04:12:35.299Z"
   },
   {
    "duration": 31,
    "start_time": "2021-12-30T04:12:35.364Z"
   },
   {
    "duration": 64,
    "start_time": "2021-12-30T04:12:35.397Z"
   },
   {
    "duration": 5,
    "start_time": "2021-12-30T04:12:35.464Z"
   },
   {
    "duration": 67,
    "start_time": "2021-12-30T04:12:35.471Z"
   },
   {
    "duration": 26,
    "start_time": "2021-12-30T04:12:43.520Z"
   },
   {
    "duration": 106,
    "start_time": "2021-12-30T04:16:38.054Z"
   },
   {
    "duration": 160,
    "start_time": "2021-12-30T04:34:03.151Z"
   },
   {
    "duration": 25,
    "start_time": "2021-12-30T04:39:01.280Z"
   },
   {
    "duration": 106,
    "start_time": "2021-12-30T04:47:32.408Z"
   },
   {
    "duration": 105,
    "start_time": "2021-12-30T04:47:37.267Z"
   },
   {
    "duration": 354,
    "start_time": "2021-12-30T04:47:40.500Z"
   },
   {
    "duration": 323,
    "start_time": "2021-12-30T04:47:51.596Z"
   },
   {
    "duration": 17,
    "start_time": "2021-12-30T04:48:08.573Z"
   },
   {
    "duration": 587,
    "start_time": "2021-12-30T04:48:15.000Z"
   },
   {
    "duration": 3,
    "start_time": "2021-12-30T04:48:25.525Z"
   },
   {
    "duration": 5,
    "start_time": "2021-12-30T04:48:25.531Z"
   },
   {
    "duration": 36,
    "start_time": "2021-12-30T04:48:25.539Z"
   },
   {
    "duration": 12,
    "start_time": "2021-12-30T04:48:25.577Z"
   },
   {
    "duration": 36,
    "start_time": "2021-12-30T04:48:25.592Z"
   },
   {
    "duration": 24,
    "start_time": "2021-12-30T04:48:25.630Z"
   },
   {
    "duration": 195,
    "start_time": "2021-12-30T04:48:25.657Z"
   },
   {
    "duration": 26,
    "start_time": "2021-12-30T04:48:25.855Z"
   },
   {
    "duration": 41,
    "start_time": "2021-12-30T04:48:25.883Z"
   },
   {
    "duration": 110,
    "start_time": "2021-12-30T04:48:25.927Z"
   },
   {
    "duration": 18,
    "start_time": "2021-12-30T04:48:26.039Z"
   },
   {
    "duration": 24,
    "start_time": "2021-12-30T04:48:26.060Z"
   },
   {
    "duration": 163,
    "start_time": "2021-12-30T04:48:26.086Z"
   },
   {
    "duration": 20,
    "start_time": "2021-12-30T04:48:26.251Z"
   },
   {
    "duration": 24,
    "start_time": "2021-12-30T04:48:26.273Z"
   },
   {
    "duration": 6,
    "start_time": "2021-12-30T04:48:26.323Z"
   },
   {
    "duration": 10,
    "start_time": "2021-12-30T04:48:26.331Z"
   },
   {
    "duration": 114,
    "start_time": "2021-12-30T04:48:26.344Z"
   },
   {
    "duration": 36,
    "start_time": "2021-12-30T04:48:26.460Z"
   },
   {
    "duration": 86,
    "start_time": "2021-12-30T04:48:26.498Z"
   },
   {
    "duration": 46,
    "start_time": "2021-12-30T04:48:26.587Z"
   },
   {
    "duration": 42,
    "start_time": "2021-12-30T04:48:26.635Z"
   },
   {
    "duration": 57,
    "start_time": "2021-12-30T04:48:26.680Z"
   },
   {
    "duration": 42,
    "start_time": "2021-12-30T04:48:26.740Z"
   },
   {
    "duration": 6,
    "start_time": "2021-12-30T04:48:26.784Z"
   },
   {
    "duration": 105,
    "start_time": "2021-12-30T04:48:26.792Z"
   },
   {
    "duration": 3,
    "start_time": "2021-12-30T04:48:26.900Z"
   },
   {
    "duration": 50,
    "start_time": "2021-12-30T04:48:26.906Z"
   },
   {
    "duration": 3,
    "start_time": "2021-12-30T04:49:03.222Z"
   },
   {
    "duration": 10,
    "start_time": "2021-12-30T04:49:03.228Z"
   },
   {
    "duration": 35,
    "start_time": "2021-12-30T04:49:03.241Z"
   },
   {
    "duration": 8,
    "start_time": "2021-12-30T04:49:03.279Z"
   },
   {
    "duration": 39,
    "start_time": "2021-12-30T04:49:03.289Z"
   },
   {
    "duration": 26,
    "start_time": "2021-12-30T04:49:03.331Z"
   },
   {
    "duration": 189,
    "start_time": "2021-12-30T04:49:03.360Z"
   },
   {
    "duration": 29,
    "start_time": "2021-12-30T04:49:03.551Z"
   },
   {
    "duration": 41,
    "start_time": "2021-12-30T04:49:03.583Z"
   },
   {
    "duration": 106,
    "start_time": "2021-12-30T04:49:03.627Z"
   },
   {
    "duration": 18,
    "start_time": "2021-12-30T04:49:03.736Z"
   },
   {
    "duration": 24,
    "start_time": "2021-12-30T04:49:03.757Z"
   },
   {
    "duration": 175,
    "start_time": "2021-12-30T04:49:03.784Z"
   },
   {
    "duration": 22,
    "start_time": "2021-12-30T04:49:03.962Z"
   },
   {
    "duration": 37,
    "start_time": "2021-12-30T04:49:03.987Z"
   },
   {
    "duration": 7,
    "start_time": "2021-12-30T04:49:04.026Z"
   },
   {
    "duration": 10,
    "start_time": "2021-12-30T04:49:04.035Z"
   },
   {
    "duration": 129,
    "start_time": "2021-12-30T04:49:04.050Z"
   },
   {
    "duration": 53,
    "start_time": "2021-12-30T04:49:04.182Z"
   },
   {
    "duration": 90,
    "start_time": "2021-12-30T04:49:04.237Z"
   },
   {
    "duration": 26,
    "start_time": "2021-12-30T04:49:04.329Z"
   },
   {
    "duration": 70,
    "start_time": "2021-12-30T04:49:04.357Z"
   },
   {
    "duration": 31,
    "start_time": "2021-12-30T04:49:04.430Z"
   },
   {
    "duration": 66,
    "start_time": "2021-12-30T04:49:04.464Z"
   },
   {
    "duration": 6,
    "start_time": "2021-12-30T04:49:04.533Z"
   },
   {
    "duration": 38,
    "start_time": "2021-12-30T04:49:04.541Z"
   },
   {
    "duration": 4,
    "start_time": "2021-12-30T04:49:04.581Z"
   },
   {
    "duration": 52,
    "start_time": "2021-12-30T04:49:04.588Z"
   },
   {
    "duration": 36,
    "start_time": "2021-12-30T04:49:23.931Z"
   },
   {
    "duration": 4,
    "start_time": "2021-12-30T04:49:43.680Z"
   },
   {
    "duration": 11,
    "start_time": "2021-12-30T04:49:43.687Z"
   },
   {
    "duration": 57,
    "start_time": "2021-12-30T04:49:43.701Z"
   },
   {
    "duration": 11,
    "start_time": "2021-12-30T04:49:43.761Z"
   },
   {
    "duration": 20,
    "start_time": "2021-12-30T04:49:43.775Z"
   },
   {
    "duration": 30,
    "start_time": "2021-12-30T04:49:43.797Z"
   },
   {
    "duration": 185,
    "start_time": "2021-12-30T04:49:43.830Z"
   },
   {
    "duration": 24,
    "start_time": "2021-12-30T04:49:44.017Z"
   },
   {
    "duration": 30,
    "start_time": "2021-12-30T04:49:44.045Z"
   },
   {
    "duration": 112,
    "start_time": "2021-12-30T04:49:44.078Z"
   },
   {
    "duration": 32,
    "start_time": "2021-12-30T04:49:44.193Z"
   },
   {
    "duration": 23,
    "start_time": "2021-12-30T04:49:44.228Z"
   },
   {
    "duration": 158,
    "start_time": "2021-12-30T04:49:44.254Z"
   },
   {
    "duration": 25,
    "start_time": "2021-12-30T04:49:44.415Z"
   },
   {
    "duration": 33,
    "start_time": "2021-12-30T04:49:44.443Z"
   },
   {
    "duration": 17,
    "start_time": "2021-12-30T04:49:44.479Z"
   },
   {
    "duration": 25,
    "start_time": "2021-12-30T04:49:44.499Z"
   },
   {
    "duration": 100,
    "start_time": "2021-12-30T04:49:44.526Z"
   },
   {
    "duration": 38,
    "start_time": "2021-12-30T04:49:44.628Z"
   },
   {
    "duration": 101,
    "start_time": "2021-12-30T04:49:44.669Z"
   },
   {
    "duration": 28,
    "start_time": "2021-12-30T04:49:44.772Z"
   },
   {
    "duration": 63,
    "start_time": "2021-12-30T04:49:44.802Z"
   },
   {
    "duration": 57,
    "start_time": "2021-12-30T04:49:44.867Z"
   },
   {
    "duration": 38,
    "start_time": "2021-12-30T04:49:44.927Z"
   },
   {
    "duration": 5,
    "start_time": "2021-12-30T04:49:44.967Z"
   },
   {
    "duration": 70,
    "start_time": "2021-12-30T04:49:44.974Z"
   },
   {
    "duration": 3,
    "start_time": "2021-12-30T04:49:45.048Z"
   },
   {
    "duration": 346,
    "start_time": "2021-12-30T04:49:45.054Z"
   },
   {
    "duration": 36,
    "start_time": "2021-12-30T04:50:10.470Z"
   },
   {
    "duration": 29,
    "start_time": "2021-12-30T04:50:17.796Z"
   },
   {
    "duration": 3,
    "start_time": "2021-12-30T04:50:21.963Z"
   },
   {
    "duration": 26,
    "start_time": "2021-12-30T04:50:21.969Z"
   },
   {
    "duration": 51,
    "start_time": "2021-12-30T04:50:21.998Z"
   },
   {
    "duration": 26,
    "start_time": "2021-12-30T04:50:22.052Z"
   },
   {
    "duration": 20,
    "start_time": "2021-12-30T04:50:22.080Z"
   },
   {
    "duration": 25,
    "start_time": "2021-12-30T04:50:22.102Z"
   },
   {
    "duration": 167,
    "start_time": "2021-12-30T04:50:22.130Z"
   },
   {
    "duration": 34,
    "start_time": "2021-12-30T04:50:22.299Z"
   },
   {
    "duration": 23,
    "start_time": "2021-12-30T04:50:22.337Z"
   },
   {
    "duration": 116,
    "start_time": "2021-12-30T04:50:22.364Z"
   },
   {
    "duration": 19,
    "start_time": "2021-12-30T04:50:22.484Z"
   },
   {
    "duration": 42,
    "start_time": "2021-12-30T04:50:22.506Z"
   },
   {
    "duration": 165,
    "start_time": "2021-12-30T04:50:22.550Z"
   },
   {
    "duration": 23,
    "start_time": "2021-12-30T04:50:22.717Z"
   },
   {
    "duration": 24,
    "start_time": "2021-12-30T04:50:22.742Z"
   },
   {
    "duration": 10,
    "start_time": "2021-12-30T04:50:22.768Z"
   },
   {
    "duration": 44,
    "start_time": "2021-12-30T04:50:22.780Z"
   },
   {
    "duration": 103,
    "start_time": "2021-12-30T04:50:22.827Z"
   },
   {
    "duration": 37,
    "start_time": "2021-12-30T04:50:22.933Z"
   },
   {
    "duration": 106,
    "start_time": "2021-12-30T04:50:22.972Z"
   },
   {
    "duration": 43,
    "start_time": "2021-12-30T04:50:23.080Z"
   },
   {
    "duration": 46,
    "start_time": "2021-12-30T04:50:23.126Z"
   },
   {
    "duration": 61,
    "start_time": "2021-12-30T04:50:23.175Z"
   },
   {
    "duration": 41,
    "start_time": "2021-12-30T04:50:23.238Z"
   },
   {
    "duration": 5,
    "start_time": "2021-12-30T04:50:23.281Z"
   },
   {
    "duration": 64,
    "start_time": "2021-12-30T04:50:23.288Z"
   },
   {
    "duration": 3,
    "start_time": "2021-12-30T04:50:23.356Z"
   },
   {
    "duration": 33,
    "start_time": "2021-12-30T04:50:23.362Z"
   },
   {
    "duration": 290,
    "start_time": "2021-12-30T04:51:38.751Z"
   },
   {
    "duration": 4,
    "start_time": "2021-12-30T04:52:37.392Z"
   },
   {
    "duration": 4,
    "start_time": "2021-12-30T04:52:40.670Z"
   },
   {
    "duration": 6,
    "start_time": "2021-12-30T04:52:40.677Z"
   },
   {
    "duration": 37,
    "start_time": "2021-12-30T04:52:40.687Z"
   },
   {
    "duration": 11,
    "start_time": "2021-12-30T04:52:40.727Z"
   },
   {
    "duration": 12,
    "start_time": "2021-12-30T04:52:40.740Z"
   },
   {
    "duration": 24,
    "start_time": "2021-12-30T04:52:40.756Z"
   },
   {
    "duration": 211,
    "start_time": "2021-12-30T04:52:40.783Z"
   },
   {
    "duration": 38,
    "start_time": "2021-12-30T04:52:40.996Z"
   },
   {
    "duration": 22,
    "start_time": "2021-12-30T04:52:41.037Z"
   },
   {
    "duration": 119,
    "start_time": "2021-12-30T04:52:41.062Z"
   },
   {
    "duration": 17,
    "start_time": "2021-12-30T04:52:41.184Z"
   },
   {
    "duration": 30,
    "start_time": "2021-12-30T04:52:41.203Z"
   },
   {
    "duration": 156,
    "start_time": "2021-12-30T04:52:41.235Z"
   },
   {
    "duration": 21,
    "start_time": "2021-12-30T04:52:41.394Z"
   },
   {
    "duration": 24,
    "start_time": "2021-12-30T04:52:41.425Z"
   },
   {
    "duration": 11,
    "start_time": "2021-12-30T04:52:41.451Z"
   },
   {
    "duration": 17,
    "start_time": "2021-12-30T04:52:41.465Z"
   },
   {
    "duration": 111,
    "start_time": "2021-12-30T04:52:41.484Z"
   },
   {
    "duration": 52,
    "start_time": "2021-12-30T04:52:41.598Z"
   },
   {
    "duration": 105,
    "start_time": "2021-12-30T04:52:41.653Z"
   },
   {
    "duration": 29,
    "start_time": "2021-12-30T04:52:41.761Z"
   },
   {
    "duration": 71,
    "start_time": "2021-12-30T04:52:41.793Z"
   },
   {
    "duration": 57,
    "start_time": "2021-12-30T04:52:41.867Z"
   },
   {
    "duration": 42,
    "start_time": "2021-12-30T04:52:41.927Z"
   },
   {
    "duration": 5,
    "start_time": "2021-12-30T04:52:41.972Z"
   },
   {
    "duration": 123,
    "start_time": "2021-12-30T04:52:41.979Z"
   },
   {
    "duration": 3,
    "start_time": "2021-12-30T04:52:42.104Z"
   },
   {
    "duration": 448,
    "start_time": "2021-12-30T04:52:42.110Z"
   },
   {
    "duration": 371,
    "start_time": "2021-12-30T04:53:00.771Z"
   },
   {
    "duration": 300,
    "start_time": "2021-12-30T04:53:43.586Z"
   },
   {
    "duration": 4,
    "start_time": "2021-12-30T04:53:55.690Z"
   },
   {
    "duration": 6,
    "start_time": "2021-12-30T04:53:55.697Z"
   },
   {
    "duration": 35,
    "start_time": "2021-12-30T04:53:55.707Z"
   },
   {
    "duration": 8,
    "start_time": "2021-12-30T04:53:55.745Z"
   },
   {
    "duration": 10,
    "start_time": "2021-12-30T04:53:55.755Z"
   },
   {
    "duration": 28,
    "start_time": "2021-12-30T04:53:55.767Z"
   },
   {
    "duration": 202,
    "start_time": "2021-12-30T04:53:55.797Z"
   },
   {
    "duration": 34,
    "start_time": "2021-12-30T04:53:56.001Z"
   },
   {
    "duration": 27,
    "start_time": "2021-12-30T04:53:56.039Z"
   },
   {
    "duration": 116,
    "start_time": "2021-12-30T04:53:56.069Z"
   },
   {
    "duration": 17,
    "start_time": "2021-12-30T04:53:56.188Z"
   },
   {
    "duration": 26,
    "start_time": "2021-12-30T04:53:56.207Z"
   },
   {
    "duration": 159,
    "start_time": "2021-12-30T04:53:56.235Z"
   },
   {
    "duration": 29,
    "start_time": "2021-12-30T04:53:56.396Z"
   },
   {
    "duration": 25,
    "start_time": "2021-12-30T04:53:56.428Z"
   },
   {
    "duration": 10,
    "start_time": "2021-12-30T04:53:56.456Z"
   },
   {
    "duration": 12,
    "start_time": "2021-12-30T04:53:56.469Z"
   },
   {
    "duration": 99,
    "start_time": "2021-12-30T04:53:56.524Z"
   },
   {
    "duration": 38,
    "start_time": "2021-12-30T04:53:56.626Z"
   },
   {
    "duration": 109,
    "start_time": "2021-12-30T04:53:56.668Z"
   },
   {
    "duration": 45,
    "start_time": "2021-12-30T04:53:56.780Z"
   },
   {
    "duration": 45,
    "start_time": "2021-12-30T04:53:56.828Z"
   },
   {
    "duration": 70,
    "start_time": "2021-12-30T04:53:56.876Z"
   },
   {
    "duration": 42,
    "start_time": "2021-12-30T04:53:56.949Z"
   },
   {
    "duration": 7,
    "start_time": "2021-12-30T04:53:57.022Z"
   },
   {
    "duration": 39,
    "start_time": "2021-12-30T04:53:57.035Z"
   },
   {
    "duration": 4,
    "start_time": "2021-12-30T04:53:57.076Z"
   },
   {
    "duration": 327,
    "start_time": "2021-12-30T04:53:57.083Z"
   },
   {
    "duration": 105,
    "start_time": "2021-12-30T04:56:04.104Z"
   },
   {
    "duration": 322,
    "start_time": "2021-12-30T04:56:10.949Z"
   },
   {
    "duration": 293,
    "start_time": "2021-12-30T04:56:46.290Z"
   },
   {
    "duration": 13,
    "start_time": "2021-12-30T04:58:13.104Z"
   },
   {
    "duration": 319,
    "start_time": "2021-12-30T04:58:43.239Z"
   },
   {
    "duration": 4,
    "start_time": "2021-12-30T05:03:04.900Z"
   },
   {
    "duration": 7,
    "start_time": "2021-12-30T05:03:04.907Z"
   },
   {
    "duration": 41,
    "start_time": "2021-12-30T05:03:04.917Z"
   },
   {
    "duration": 8,
    "start_time": "2021-12-30T05:03:04.961Z"
   },
   {
    "duration": 11,
    "start_time": "2021-12-30T05:03:04.972Z"
   },
   {
    "duration": 40,
    "start_time": "2021-12-30T05:03:04.985Z"
   },
   {
    "duration": 186,
    "start_time": "2021-12-30T05:03:05.027Z"
   },
   {
    "duration": 31,
    "start_time": "2021-12-30T05:03:05.216Z"
   },
   {
    "duration": 24,
    "start_time": "2021-12-30T05:03:05.250Z"
   },
   {
    "duration": 126,
    "start_time": "2021-12-30T05:03:05.277Z"
   },
   {
    "duration": 23,
    "start_time": "2021-12-30T05:03:05.406Z"
   },
   {
    "duration": 25,
    "start_time": "2021-12-30T05:03:05.431Z"
   },
   {
    "duration": 167,
    "start_time": "2021-12-30T05:03:05.459Z"
   },
   {
    "duration": 21,
    "start_time": "2021-12-30T05:03:05.628Z"
   },
   {
    "duration": 24,
    "start_time": "2021-12-30T05:03:05.652Z"
   },
   {
    "duration": 7,
    "start_time": "2021-12-30T05:03:05.679Z"
   },
   {
    "duration": 39,
    "start_time": "2021-12-30T05:03:05.689Z"
   },
   {
    "duration": 115,
    "start_time": "2021-12-30T05:03:05.730Z"
   },
   {
    "duration": 37,
    "start_time": "2021-12-30T05:03:05.847Z"
   },
   {
    "duration": 86,
    "start_time": "2021-12-30T05:03:05.887Z"
   },
   {
    "duration": 48,
    "start_time": "2021-12-30T05:03:05.976Z"
   },
   {
    "duration": 44,
    "start_time": "2021-12-30T05:03:06.027Z"
   },
   {
    "duration": 60,
    "start_time": "2021-12-30T05:03:06.075Z"
   },
   {
    "duration": 36,
    "start_time": "2021-12-30T05:03:06.138Z"
   },
   {
    "duration": 6,
    "start_time": "2021-12-30T05:03:06.177Z"
   },
   {
    "duration": 70,
    "start_time": "2021-12-30T05:03:06.185Z"
   },
   {
    "duration": 3,
    "start_time": "2021-12-30T05:03:06.258Z"
   },
   {
    "duration": 307,
    "start_time": "2021-12-30T05:03:06.264Z"
   },
   {
    "duration": 4,
    "start_time": "2021-12-30T05:06:21.595Z"
   },
   {
    "duration": 27,
    "start_time": "2021-12-30T05:06:33.358Z"
   },
   {
    "duration": 8509,
    "start_time": "2021-12-30T05:07:04.234Z"
   },
   {
    "duration": 1359,
    "start_time": "2021-12-30T05:07:39.283Z"
   },
   {
    "duration": 30,
    "start_time": "2021-12-30T05:07:55.919Z"
   },
   {
    "duration": 11,
    "start_time": "2021-12-30T05:08:41.666Z"
   },
   {
    "duration": 365,
    "start_time": "2021-12-30T05:08:51.173Z"
   },
   {
    "duration": 31,
    "start_time": "2021-12-30T05:08:56.812Z"
   },
   {
    "duration": 1101,
    "start_time": "2021-12-30T05:10:54.720Z"
   },
   {
    "duration": 1481,
    "start_time": "2021-12-30T05:11:30.682Z"
   },
   {
    "duration": 7,
    "start_time": "2021-12-30T05:11:35.242Z"
   },
   {
    "duration": 1337,
    "start_time": "2021-12-30T05:11:48.699Z"
   },
   {
    "duration": 4,
    "start_time": "2021-12-30T05:12:52.951Z"
   },
   {
    "duration": 5,
    "start_time": "2021-12-30T05:12:52.957Z"
   },
   {
    "duration": 34,
    "start_time": "2021-12-30T05:12:52.972Z"
   },
   {
    "duration": 20,
    "start_time": "2021-12-30T05:12:53.009Z"
   },
   {
    "duration": 10,
    "start_time": "2021-12-30T05:12:53.032Z"
   },
   {
    "duration": 35,
    "start_time": "2021-12-30T05:12:53.045Z"
   },
   {
    "duration": 240,
    "start_time": "2021-12-30T05:12:53.083Z"
   },
   {
    "duration": 27,
    "start_time": "2021-12-30T05:12:53.326Z"
   },
   {
    "duration": 24,
    "start_time": "2021-12-30T05:12:53.356Z"
   },
   {
    "duration": 123,
    "start_time": "2021-12-30T05:12:53.384Z"
   },
   {
    "duration": 29,
    "start_time": "2021-12-30T05:12:53.510Z"
   },
   {
    "duration": 27,
    "start_time": "2021-12-30T05:12:53.541Z"
   },
   {
    "duration": 175,
    "start_time": "2021-12-30T05:12:53.570Z"
   },
   {
    "duration": 22,
    "start_time": "2021-12-30T05:12:53.748Z"
   },
   {
    "duration": 24,
    "start_time": "2021-12-30T05:12:53.774Z"
   },
   {
    "duration": 7,
    "start_time": "2021-12-30T05:12:53.824Z"
   },
   {
    "duration": 16,
    "start_time": "2021-12-30T05:12:53.833Z"
   },
   {
    "duration": 118,
    "start_time": "2021-12-30T05:12:53.851Z"
   },
   {
    "duration": 53,
    "start_time": "2021-12-30T05:12:53.971Z"
   },
   {
    "duration": 65,
    "start_time": "2021-12-30T05:12:54.026Z"
   },
   {
    "duration": 48,
    "start_time": "2021-12-30T05:12:54.093Z"
   },
   {
    "duration": 43,
    "start_time": "2021-12-30T05:12:54.143Z"
   },
   {
    "duration": 56,
    "start_time": "2021-12-30T05:12:54.188Z"
   },
   {
    "duration": 37,
    "start_time": "2021-12-30T05:12:54.246Z"
   },
   {
    "duration": 39,
    "start_time": "2021-12-30T05:12:54.287Z"
   },
   {
    "duration": 94,
    "start_time": "2021-12-30T05:12:54.329Z"
   },
   {
    "duration": 3,
    "start_time": "2021-12-30T05:12:54.425Z"
   },
   {
    "duration": 17,
    "start_time": "2021-12-30T05:12:54.431Z"
   },
   {
    "duration": 1366,
    "start_time": "2021-12-30T05:12:54.450Z"
   },
   {
    "duration": 33,
    "start_time": "2021-12-30T05:13:10.467Z"
   },
   {
    "duration": 12,
    "start_time": "2021-12-30T05:14:02.130Z"
   },
   {
    "duration": 32,
    "start_time": "2021-12-30T05:14:16.794Z"
   },
   {
    "duration": 13,
    "start_time": "2021-12-30T05:14:48.881Z"
   },
   {
    "duration": 102,
    "start_time": "2021-12-30T05:15:03.068Z"
   },
   {
    "duration": 13,
    "start_time": "2021-12-30T05:15:05.663Z"
   },
   {
    "duration": 35,
    "start_time": "2021-12-30T05:15:11.199Z"
   },
   {
    "duration": 13,
    "start_time": "2021-12-30T05:15:52.593Z"
   },
   {
    "duration": 320,
    "start_time": "2021-12-30T05:17:30.309Z"
   },
   {
    "duration": 304,
    "start_time": "2021-12-30T05:17:44.023Z"
   },
   {
    "duration": 3,
    "start_time": "2021-12-30T05:18:24.515Z"
   },
   {
    "duration": 6,
    "start_time": "2021-12-30T05:18:24.521Z"
   },
   {
    "duration": 35,
    "start_time": "2021-12-30T05:18:24.530Z"
   },
   {
    "duration": 56,
    "start_time": "2021-12-30T05:18:24.568Z"
   },
   {
    "duration": 10,
    "start_time": "2021-12-30T05:18:24.627Z"
   },
   {
    "duration": 25,
    "start_time": "2021-12-30T05:18:24.640Z"
   },
   {
    "duration": 208,
    "start_time": "2021-12-30T05:18:24.668Z"
   },
   {
    "duration": 45,
    "start_time": "2021-12-30T05:18:24.878Z"
   },
   {
    "duration": 26,
    "start_time": "2021-12-30T05:18:24.929Z"
   },
   {
    "duration": 123,
    "start_time": "2021-12-30T05:18:24.959Z"
   },
   {
    "duration": 20,
    "start_time": "2021-12-30T05:18:25.085Z"
   },
   {
    "duration": 39,
    "start_time": "2021-12-30T05:18:25.107Z"
   },
   {
    "duration": 168,
    "start_time": "2021-12-30T05:18:25.149Z"
   },
   {
    "duration": 21,
    "start_time": "2021-12-30T05:18:25.320Z"
   },
   {
    "duration": 24,
    "start_time": "2021-12-30T05:18:25.343Z"
   },
   {
    "duration": 10,
    "start_time": "2021-12-30T05:18:25.370Z"
   },
   {
    "duration": 45,
    "start_time": "2021-12-30T05:18:25.383Z"
   },
   {
    "duration": 169,
    "start_time": "2021-12-30T05:18:25.431Z"
   },
   {
    "duration": 65,
    "start_time": "2021-12-30T05:18:25.604Z"
   },
   {
    "duration": 120,
    "start_time": "2021-12-30T05:18:25.673Z"
   },
   {
    "duration": 53,
    "start_time": "2021-12-30T05:18:25.796Z"
   },
   {
    "duration": 82,
    "start_time": "2021-12-30T05:18:25.852Z"
   },
   {
    "duration": 33,
    "start_time": "2021-12-30T05:18:25.938Z"
   },
   {
    "duration": 65,
    "start_time": "2021-12-30T05:18:25.974Z"
   },
   {
    "duration": 6,
    "start_time": "2021-12-30T05:18:26.042Z"
   },
   {
    "duration": 47,
    "start_time": "2021-12-30T05:18:26.050Z"
   },
   {
    "duration": 3,
    "start_time": "2021-12-30T05:18:26.101Z"
   },
   {
    "duration": 20,
    "start_time": "2021-12-30T05:18:26.123Z"
   },
   {
    "duration": 1139,
    "start_time": "2021-12-30T05:18:26.145Z"
   },
   {
    "duration": 25,
    "start_time": "2021-12-30T05:18:55.834Z"
   },
   {
    "duration": 43,
    "start_time": "2021-12-30T05:19:31.383Z"
   },
   {
    "duration": 1237,
    "start_time": "2021-12-30T05:20:16.284Z"
   },
   {
    "duration": 33,
    "start_time": "2021-12-30T05:21:15.326Z"
   },
   {
    "duration": 26,
    "start_time": "2021-12-30T05:22:01.799Z"
   },
   {
    "duration": 37,
    "start_time": "2021-12-30T05:22:07.054Z"
   },
   {
    "duration": 4,
    "start_time": "2021-12-30T05:22:20.248Z"
   },
   {
    "duration": 9,
    "start_time": "2021-12-30T05:22:20.255Z"
   },
   {
    "duration": 35,
    "start_time": "2021-12-30T05:22:20.268Z"
   },
   {
    "duration": 18,
    "start_time": "2021-12-30T05:22:20.307Z"
   },
   {
    "duration": 9,
    "start_time": "2021-12-30T05:22:20.328Z"
   },
   {
    "duration": 31,
    "start_time": "2021-12-30T05:22:20.339Z"
   },
   {
    "duration": 202,
    "start_time": "2021-12-30T05:22:20.373Z"
   },
   {
    "duration": 26,
    "start_time": "2021-12-30T05:22:20.577Z"
   },
   {
    "duration": 22,
    "start_time": "2021-12-30T05:22:20.607Z"
   },
   {
    "duration": 126,
    "start_time": "2021-12-30T05:22:20.633Z"
   },
   {
    "duration": 18,
    "start_time": "2021-12-30T05:22:20.762Z"
   },
   {
    "duration": 44,
    "start_time": "2021-12-30T05:22:20.783Z"
   },
   {
    "duration": 167,
    "start_time": "2021-12-30T05:22:20.830Z"
   },
   {
    "duration": 26,
    "start_time": "2021-12-30T05:22:21.000Z"
   },
   {
    "duration": 24,
    "start_time": "2021-12-30T05:22:21.028Z"
   },
   {
    "duration": 7,
    "start_time": "2021-12-30T05:22:21.055Z"
   },
   {
    "duration": 9,
    "start_time": "2021-12-30T05:22:21.065Z"
   },
   {
    "duration": 136,
    "start_time": "2021-12-30T05:22:21.076Z"
   },
   {
    "duration": 40,
    "start_time": "2021-12-30T05:22:21.224Z"
   },
   {
    "duration": 96,
    "start_time": "2021-12-30T05:22:21.267Z"
   },
   {
    "duration": 30,
    "start_time": "2021-12-30T05:22:21.365Z"
   },
   {
    "duration": 68,
    "start_time": "2021-12-30T05:22:21.397Z"
   },
   {
    "duration": 31,
    "start_time": "2021-12-30T05:22:21.467Z"
   },
   {
    "duration": 35,
    "start_time": "2021-12-30T05:22:21.524Z"
   },
   {
    "duration": 6,
    "start_time": "2021-12-30T05:22:21.561Z"
   },
   {
    "duration": 69,
    "start_time": "2021-12-30T05:22:21.569Z"
   },
   {
    "duration": 3,
    "start_time": "2021-12-30T05:22:21.643Z"
   },
   {
    "duration": 8,
    "start_time": "2021-12-30T05:22:21.648Z"
   },
   {
    "duration": 1275,
    "start_time": "2021-12-30T05:22:21.658Z"
   },
   {
    "duration": 38,
    "start_time": "2021-12-30T05:23:23.932Z"
   },
   {
    "duration": 300,
    "start_time": "2021-12-30T05:23:47.967Z"
   },
   {
    "duration": 37,
    "start_time": "2021-12-30T05:23:54.895Z"
   },
   {
    "duration": 40,
    "start_time": "2021-12-30T05:24:17.097Z"
   },
   {
    "duration": 36,
    "start_time": "2021-12-30T05:24:22.688Z"
   },
   {
    "duration": 38,
    "start_time": "2021-12-30T05:24:27.089Z"
   },
   {
    "duration": 39,
    "start_time": "2021-12-30T05:24:51.019Z"
   },
   {
    "duration": 360,
    "start_time": "2021-12-30T05:25:28.334Z"
   },
   {
    "duration": 106,
    "start_time": "2021-12-30T05:25:37.500Z"
   },
   {
    "duration": 49,
    "start_time": "2021-12-30T05:25:39.929Z"
   },
   {
    "duration": 61,
    "start_time": "2021-12-30T05:25:45.828Z"
   },
   {
    "duration": 4,
    "start_time": "2021-12-30T05:26:52.024Z"
   },
   {
    "duration": 6,
    "start_time": "2021-12-30T05:26:52.031Z"
   },
   {
    "duration": 37,
    "start_time": "2021-12-30T05:26:52.040Z"
   },
   {
    "duration": 8,
    "start_time": "2021-12-30T05:26:52.080Z"
   },
   {
    "duration": 38,
    "start_time": "2021-12-30T05:26:52.090Z"
   },
   {
    "duration": 25,
    "start_time": "2021-12-30T05:26:52.131Z"
   },
   {
    "duration": 196,
    "start_time": "2021-12-30T05:26:52.158Z"
   },
   {
    "duration": 30,
    "start_time": "2021-12-30T05:26:52.358Z"
   },
   {
    "duration": 39,
    "start_time": "2021-12-30T05:26:52.392Z"
   },
   {
    "duration": 103,
    "start_time": "2021-12-30T05:26:52.434Z"
   },
   {
    "duration": 16,
    "start_time": "2021-12-30T05:26:52.540Z"
   },
   {
    "duration": 23,
    "start_time": "2021-12-30T05:26:52.559Z"
   },
   {
    "duration": 170,
    "start_time": "2021-12-30T05:26:52.584Z"
   },
   {
    "duration": 21,
    "start_time": "2021-12-30T05:26:52.756Z"
   },
   {
    "duration": 22,
    "start_time": "2021-12-30T05:26:52.780Z"
   },
   {
    "duration": 7,
    "start_time": "2021-12-30T05:26:52.824Z"
   },
   {
    "duration": 10,
    "start_time": "2021-12-30T05:26:52.833Z"
   },
   {
    "duration": 120,
    "start_time": "2021-12-30T05:26:52.846Z"
   },
   {
    "duration": 38,
    "start_time": "2021-12-30T05:26:52.968Z"
   },
   {
    "duration": 74,
    "start_time": "2021-12-30T05:26:53.023Z"
   },
   {
    "duration": 43,
    "start_time": "2021-12-30T05:26:53.100Z"
   },
   {
    "duration": 45,
    "start_time": "2021-12-30T05:26:53.145Z"
   },
   {
    "duration": 61,
    "start_time": "2021-12-30T05:26:53.193Z"
   },
   {
    "duration": 68,
    "start_time": "2021-12-30T05:26:53.257Z"
   },
   {
    "duration": 5,
    "start_time": "2021-12-30T05:26:53.327Z"
   },
   {
    "duration": 51,
    "start_time": "2021-12-30T05:26:53.335Z"
   },
   {
    "duration": 3,
    "start_time": "2021-12-30T05:26:53.390Z"
   },
   {
    "duration": 3,
    "start_time": "2021-12-30T05:26:53.424Z"
   },
   {
    "duration": 29,
    "start_time": "2021-12-30T05:27:35.402Z"
   },
   {
    "duration": 33,
    "start_time": "2021-12-30T05:27:48.567Z"
   },
   {
    "duration": 40,
    "start_time": "2021-12-30T05:27:51.169Z"
   },
   {
    "duration": 85,
    "start_time": "2021-12-30T05:28:04.664Z"
   },
   {
    "duration": 51,
    "start_time": "2021-12-30T05:28:09.986Z"
   },
   {
    "duration": 45,
    "start_time": "2021-12-30T05:28:25.398Z"
   },
   {
    "duration": 49,
    "start_time": "2021-12-30T05:29:24.399Z"
   },
   {
    "duration": 3,
    "start_time": "2021-12-30T05:29:42.476Z"
   },
   {
    "duration": 6,
    "start_time": "2021-12-30T05:29:42.482Z"
   },
   {
    "duration": 35,
    "start_time": "2021-12-30T05:29:42.491Z"
   },
   {
    "duration": 7,
    "start_time": "2021-12-30T05:29:42.528Z"
   },
   {
    "duration": 8,
    "start_time": "2021-12-30T05:29:42.538Z"
   },
   {
    "duration": 25,
    "start_time": "2021-12-30T05:29:42.548Z"
   },
   {
    "duration": 205,
    "start_time": "2021-12-30T05:29:42.575Z"
   },
   {
    "duration": 39,
    "start_time": "2021-12-30T05:29:42.785Z"
   },
   {
    "duration": 25,
    "start_time": "2021-12-30T05:29:42.828Z"
   },
   {
    "duration": 124,
    "start_time": "2021-12-30T05:29:42.856Z"
   },
   {
    "duration": 21,
    "start_time": "2021-12-30T05:29:42.983Z"
   },
   {
    "duration": 26,
    "start_time": "2021-12-30T05:29:43.024Z"
   },
   {
    "duration": 179,
    "start_time": "2021-12-30T05:29:43.052Z"
   },
   {
    "duration": 33,
    "start_time": "2021-12-30T05:29:43.235Z"
   },
   {
    "duration": 29,
    "start_time": "2021-12-30T05:29:43.271Z"
   },
   {
    "duration": 24,
    "start_time": "2021-12-30T05:29:43.303Z"
   },
   {
    "duration": 11,
    "start_time": "2021-12-30T05:29:43.330Z"
   },
   {
    "duration": 125,
    "start_time": "2021-12-30T05:29:43.344Z"
   },
   {
    "duration": 57,
    "start_time": "2021-12-30T05:29:43.472Z"
   },
   {
    "duration": 102,
    "start_time": "2021-12-30T05:29:43.532Z"
   },
   {
    "duration": 29,
    "start_time": "2021-12-30T05:29:43.637Z"
   },
   {
    "duration": 79,
    "start_time": "2021-12-30T05:29:43.671Z"
   },
   {
    "duration": 31,
    "start_time": "2021-12-30T05:29:43.753Z"
   },
   {
    "duration": 67,
    "start_time": "2021-12-30T05:29:43.787Z"
   },
   {
    "duration": 6,
    "start_time": "2021-12-30T05:29:43.857Z"
   },
   {
    "duration": 75,
    "start_time": "2021-12-30T05:29:43.865Z"
   },
   {
    "duration": 3,
    "start_time": "2021-12-30T05:29:43.943Z"
   },
   {
    "duration": 5,
    "start_time": "2021-12-30T05:29:43.948Z"
   },
   {
    "duration": 411,
    "start_time": "2021-12-30T05:30:02.304Z"
   },
   {
    "duration": 9,
    "start_time": "2021-12-30T05:30:31.112Z"
   },
   {
    "duration": 4,
    "start_time": "2021-12-30T05:30:34.871Z"
   },
   {
    "duration": 10,
    "start_time": "2021-12-30T05:30:34.877Z"
   },
   {
    "duration": 36,
    "start_time": "2021-12-30T05:30:34.890Z"
   },
   {
    "duration": 7,
    "start_time": "2021-12-30T05:30:34.929Z"
   },
   {
    "duration": 8,
    "start_time": "2021-12-30T05:30:34.939Z"
   },
   {
    "duration": 28,
    "start_time": "2021-12-30T05:30:34.949Z"
   },
   {
    "duration": 207,
    "start_time": "2021-12-30T05:30:34.979Z"
   },
   {
    "duration": 39,
    "start_time": "2021-12-30T05:30:35.189Z"
   },
   {
    "duration": 24,
    "start_time": "2021-12-30T05:30:35.233Z"
   },
   {
    "duration": 116,
    "start_time": "2021-12-30T05:30:35.260Z"
   },
   {
    "duration": 18,
    "start_time": "2021-12-30T05:30:35.379Z"
   },
   {
    "duration": 33,
    "start_time": "2021-12-30T05:30:35.399Z"
   },
   {
    "duration": 159,
    "start_time": "2021-12-30T05:30:35.435Z"
   },
   {
    "duration": 28,
    "start_time": "2021-12-30T05:30:35.597Z"
   },
   {
    "duration": 23,
    "start_time": "2021-12-30T05:30:35.627Z"
   },
   {
    "duration": 11,
    "start_time": "2021-12-30T05:30:35.653Z"
   },
   {
    "duration": 13,
    "start_time": "2021-12-30T05:30:35.666Z"
   },
   {
    "duration": 121,
    "start_time": "2021-12-30T05:30:35.682Z"
   },
   {
    "duration": 45,
    "start_time": "2021-12-30T05:30:35.806Z"
   },
   {
    "duration": 107,
    "start_time": "2021-12-30T05:30:35.853Z"
   },
   {
    "duration": 29,
    "start_time": "2021-12-30T05:30:35.963Z"
   },
   {
    "duration": 71,
    "start_time": "2021-12-30T05:30:35.995Z"
   },
   {
    "duration": 66,
    "start_time": "2021-12-30T05:30:36.070Z"
   },
   {
    "duration": 43,
    "start_time": "2021-12-30T05:30:36.140Z"
   },
   {
    "duration": 40,
    "start_time": "2021-12-30T05:30:36.186Z"
   },
   {
    "duration": 418,
    "start_time": "2021-12-30T05:30:36.229Z"
   },
   {
    "duration": -5428,
    "start_time": "2021-12-30T05:30:42.078Z"
   },
   {
    "duration": -5428,
    "start_time": "2021-12-30T05:30:42.081Z"
   },
   {
    "duration": 3,
    "start_time": "2021-12-30T05:30:49.275Z"
   },
   {
    "duration": 6,
    "start_time": "2021-12-30T05:30:49.281Z"
   },
   {
    "duration": 36,
    "start_time": "2021-12-30T05:30:49.290Z"
   },
   {
    "duration": 7,
    "start_time": "2021-12-30T05:30:49.328Z"
   },
   {
    "duration": 8,
    "start_time": "2021-12-30T05:30:49.338Z"
   },
   {
    "duration": 24,
    "start_time": "2021-12-30T05:30:49.348Z"
   },
   {
    "duration": 209,
    "start_time": "2021-12-30T05:30:49.375Z"
   },
   {
    "duration": 42,
    "start_time": "2021-12-30T05:30:49.586Z"
   },
   {
    "duration": 24,
    "start_time": "2021-12-30T05:30:49.635Z"
   },
   {
    "duration": 132,
    "start_time": "2021-12-30T05:30:49.663Z"
   },
   {
    "duration": 29,
    "start_time": "2021-12-30T05:30:49.798Z"
   },
   {
    "duration": 70,
    "start_time": "2021-12-30T05:30:49.830Z"
   },
   {
    "duration": 159,
    "start_time": "2021-12-30T05:30:49.922Z"
   },
   {
    "duration": 39,
    "start_time": "2021-12-30T05:30:50.084Z"
   },
   {
    "duration": 25,
    "start_time": "2021-12-30T05:30:50.126Z"
   },
   {
    "duration": 15,
    "start_time": "2021-12-30T05:30:50.154Z"
   },
   {
    "duration": 25,
    "start_time": "2021-12-30T05:30:50.172Z"
   },
   {
    "duration": 110,
    "start_time": "2021-12-30T05:30:50.200Z"
   },
   {
    "duration": 42,
    "start_time": "2021-12-30T05:30:50.324Z"
   },
   {
    "duration": 111,
    "start_time": "2021-12-30T05:30:50.369Z"
   },
   {
    "duration": 53,
    "start_time": "2021-12-30T05:30:50.483Z"
   },
   {
    "duration": 46,
    "start_time": "2021-12-30T05:30:50.539Z"
   },
   {
    "duration": 58,
    "start_time": "2021-12-30T05:30:50.588Z"
   },
   {
    "duration": 74,
    "start_time": "2021-12-30T05:30:50.649Z"
   },
   {
    "duration": 15,
    "start_time": "2021-12-30T05:30:50.725Z"
   },
   {
    "duration": 1148,
    "start_time": "2021-12-30T05:30:50.743Z"
   },
   {
    "duration": -5548,
    "start_time": "2021-12-30T05:30:57.441Z"
   },
   {
    "duration": -5550,
    "start_time": "2021-12-30T05:30:57.445Z"
   },
   {
    "duration": 9,
    "start_time": "2021-12-30T05:31:59.114Z"
   },
   {
    "duration": 54,
    "start_time": "2021-12-30T05:32:02.282Z"
   },
   {
    "duration": 284,
    "start_time": "2021-12-30T05:32:32.744Z"
   },
   {
    "duration": 4,
    "start_time": "2021-12-30T05:32:39.367Z"
   },
   {
    "duration": 7,
    "start_time": "2021-12-30T05:32:39.373Z"
   },
   {
    "duration": 40,
    "start_time": "2021-12-30T05:32:39.383Z"
   },
   {
    "duration": 8,
    "start_time": "2021-12-30T05:32:39.425Z"
   },
   {
    "duration": 17,
    "start_time": "2021-12-30T05:32:39.435Z"
   },
   {
    "duration": 28,
    "start_time": "2021-12-30T05:32:39.454Z"
   },
   {
    "duration": 206,
    "start_time": "2021-12-30T05:32:39.484Z"
   },
   {
    "duration": 40,
    "start_time": "2021-12-30T05:32:39.693Z"
   },
   {
    "duration": 21,
    "start_time": "2021-12-30T05:32:39.737Z"
   },
   {
    "duration": 126,
    "start_time": "2021-12-30T05:32:39.761Z"
   },
   {
    "duration": 19,
    "start_time": "2021-12-30T05:32:39.889Z"
   },
   {
    "duration": 25,
    "start_time": "2021-12-30T05:32:39.923Z"
   },
   {
    "duration": 170,
    "start_time": "2021-12-30T05:32:39.951Z"
   },
   {
    "duration": 22,
    "start_time": "2021-12-30T05:32:40.124Z"
   },
   {
    "duration": 23,
    "start_time": "2021-12-30T05:32:40.149Z"
   },
   {
    "duration": 7,
    "start_time": "2021-12-30T05:32:40.175Z"
   },
   {
    "duration": 41,
    "start_time": "2021-12-30T05:32:40.185Z"
   },
   {
    "duration": 116,
    "start_time": "2021-12-30T05:32:40.228Z"
   },
   {
    "duration": 38,
    "start_time": "2021-12-30T05:32:40.346Z"
   },
   {
    "duration": 102,
    "start_time": "2021-12-30T05:32:40.387Z"
   },
   {
    "duration": 44,
    "start_time": "2021-12-30T05:32:40.492Z"
   },
   {
    "duration": 42,
    "start_time": "2021-12-30T05:32:40.539Z"
   },
   {
    "duration": 65,
    "start_time": "2021-12-30T05:32:40.583Z"
   },
   {
    "duration": 49,
    "start_time": "2021-12-30T05:32:40.651Z"
   },
   {
    "duration": 29,
    "start_time": "2021-12-30T05:32:40.702Z"
   },
   {
    "duration": 306,
    "start_time": "2021-12-30T05:32:40.733Z"
   },
   {
    "duration": -5426,
    "start_time": "2021-12-30T05:32:46.468Z"
   },
   {
    "duration": -5425,
    "start_time": "2021-12-30T05:32:46.470Z"
   },
   {
    "duration": 57,
    "start_time": "2021-12-30T05:32:46.832Z"
   },
   {
    "duration": 336,
    "start_time": "2021-12-30T05:34:27.322Z"
   },
   {
    "duration": 56,
    "start_time": "2021-12-30T05:34:37.742Z"
   },
   {
    "duration": 7459,
    "start_time": "2021-12-30T05:40:43.713Z"
   },
   {
    "duration": 107,
    "start_time": "2021-12-30T05:41:29.729Z"
   },
   {
    "duration": 7089,
    "start_time": "2021-12-30T05:41:39.235Z"
   },
   {
    "duration": 8461,
    "start_time": "2021-12-30T05:43:53.425Z"
   },
   {
    "duration": 673,
    "start_time": "2021-12-30T05:48:24.623Z"
   },
   {
    "duration": 409,
    "start_time": "2021-12-30T05:48:52.893Z"
   },
   {
    "duration": 455,
    "start_time": "2021-12-30T05:49:02.650Z"
   },
   {
    "duration": 477,
    "start_time": "2021-12-30T05:49:24.624Z"
   },
   {
    "duration": 503,
    "start_time": "2021-12-30T05:51:14.803Z"
   },
   {
    "duration": 524,
    "start_time": "2021-12-30T05:51:29.465Z"
   },
   {
    "duration": 504,
    "start_time": "2021-12-30T05:51:59.578Z"
   },
   {
    "duration": 505,
    "start_time": "2021-12-30T05:52:11.171Z"
   },
   {
    "duration": 492,
    "start_time": "2021-12-30T05:53:56.930Z"
   },
   {
    "duration": 523,
    "start_time": "2021-12-30T05:54:08.200Z"
   },
   {
    "duration": 564,
    "start_time": "2021-12-30T05:54:43.120Z"
   },
   {
    "duration": 4,
    "start_time": "2021-12-30T05:54:58.846Z"
   },
   {
    "duration": 585,
    "start_time": "2021-12-30T05:55:03.358Z"
   },
   {
    "duration": 5,
    "start_time": "2021-12-30T05:55:44.574Z"
   },
   {
    "duration": 548,
    "start_time": "2021-12-30T05:56:08.096Z"
   },
   {
    "duration": 558,
    "start_time": "2021-12-30T05:56:39.986Z"
   },
   {
    "duration": 547,
    "start_time": "2021-12-30T05:57:19.399Z"
   },
   {
    "duration": 733,
    "start_time": "2021-12-30T06:36:52.208Z"
   },
   {
    "duration": 595,
    "start_time": "2021-12-30T06:37:18.748Z"
   },
   {
    "duration": 988,
    "start_time": "2021-12-30T06:37:31.989Z"
   },
   {
    "duration": 909,
    "start_time": "2021-12-30T06:38:29.984Z"
   },
   {
    "duration": 909,
    "start_time": "2021-12-30T06:41:50.040Z"
   },
   {
    "duration": 4,
    "start_time": "2021-12-30T06:50:09.971Z"
   },
   {
    "duration": 6,
    "start_time": "2021-12-30T06:50:09.979Z"
   },
   {
    "duration": 37,
    "start_time": "2021-12-30T06:50:09.989Z"
   },
   {
    "duration": 8,
    "start_time": "2021-12-30T06:50:10.217Z"
   },
   {
    "duration": 8,
    "start_time": "2021-12-30T06:50:10.228Z"
   },
   {
    "duration": 23,
    "start_time": "2021-12-30T06:50:10.240Z"
   },
   {
    "duration": 205,
    "start_time": "2021-12-30T06:50:10.266Z"
   },
   {
    "duration": 25,
    "start_time": "2021-12-30T06:50:10.474Z"
   },
   {
    "duration": 32,
    "start_time": "2021-12-30T06:50:10.502Z"
   },
   {
    "duration": 126,
    "start_time": "2021-12-30T06:50:10.537Z"
   },
   {
    "duration": 19,
    "start_time": "2021-12-30T06:50:10.666Z"
   },
   {
    "duration": 42,
    "start_time": "2021-12-30T06:50:10.691Z"
   },
   {
    "duration": 178,
    "start_time": "2021-12-30T06:50:10.737Z"
   },
   {
    "duration": 27,
    "start_time": "2021-12-30T06:50:10.917Z"
   },
   {
    "duration": 25,
    "start_time": "2021-12-30T06:50:10.947Z"
   },
   {
    "duration": 7,
    "start_time": "2021-12-30T06:50:10.974Z"
   },
   {
    "duration": 42,
    "start_time": "2021-12-30T06:50:10.983Z"
   },
   {
    "duration": 107,
    "start_time": "2021-12-30T06:50:11.027Z"
   },
   {
    "duration": 39,
    "start_time": "2021-12-30T06:50:11.136Z"
   },
   {
    "duration": 103,
    "start_time": "2021-12-30T06:50:11.177Z"
   },
   {
    "duration": 43,
    "start_time": "2021-12-30T06:50:11.283Z"
   },
   {
    "duration": 45,
    "start_time": "2021-12-30T06:50:11.328Z"
   },
   {
    "duration": 61,
    "start_time": "2021-12-30T06:50:11.376Z"
   },
   {
    "duration": 42,
    "start_time": "2021-12-30T06:50:11.439Z"
   },
   {
    "duration": 8,
    "start_time": "2021-12-30T06:50:11.485Z"
   },
   {
    "duration": 82,
    "start_time": "2021-12-30T06:50:11.495Z"
   },
   {
    "duration": 969,
    "start_time": "2021-12-30T06:50:11.579Z"
   },
   {
    "duration": 41,
    "start_time": "2021-12-30T06:51:56.574Z"
   },
   {
    "duration": 208,
    "start_time": "2021-12-30T06:53:52.943Z"
   },
   {
    "duration": 346,
    "start_time": "2021-12-30T06:54:52.587Z"
   },
   {
    "duration": 334,
    "start_time": "2021-12-30T06:54:57.389Z"
   },
   {
    "duration": 586,
    "start_time": "2021-12-30T06:55:14.992Z"
   },
   {
    "duration": 938,
    "start_time": "2021-12-30T06:55:31.685Z"
   },
   {
    "duration": 860,
    "start_time": "2021-12-30T06:55:47.901Z"
   },
   {
    "duration": 991,
    "start_time": "2021-12-30T06:55:53.035Z"
   },
   {
    "duration": 1051,
    "start_time": "2021-12-30T06:56:31.663Z"
   },
   {
    "duration": 970,
    "start_time": "2021-12-30T06:58:11.057Z"
   },
   {
    "duration": 984,
    "start_time": "2021-12-30T06:59:55.042Z"
   },
   {
    "duration": 1225,
    "start_time": "2021-12-30T07:03:18.344Z"
   },
   {
    "duration": 1000,
    "start_time": "2021-12-30T07:03:31.757Z"
   },
   {
    "duration": 973,
    "start_time": "2021-12-30T07:04:35.912Z"
   },
   {
    "duration": 1418,
    "start_time": "2021-12-30T07:06:08.308Z"
   },
   {
    "duration": 641,
    "start_time": "2021-12-30T07:08:00.582Z"
   },
   {
    "duration": 962,
    "start_time": "2021-12-30T07:08:15.823Z"
   },
   {
    "duration": 7084,
    "start_time": "2021-12-30T07:08:19.557Z"
   },
   {
    "duration": 654,
    "start_time": "2021-12-30T07:08:38.012Z"
   },
   {
    "duration": 875,
    "start_time": "2021-12-30T07:10:19.318Z"
   },
   {
    "duration": 288,
    "start_time": "2021-12-30T07:11:07.326Z"
   },
   {
    "duration": 676,
    "start_time": "2021-12-30T07:11:18.452Z"
   },
   {
    "duration": 301,
    "start_time": "2021-12-30T07:11:33.606Z"
   },
   {
    "duration": 641,
    "start_time": "2021-12-30T07:11:39.134Z"
   },
   {
    "duration": 10,
    "start_time": "2021-12-30T07:57:18.544Z"
   },
   {
    "duration": 12,
    "start_time": "2021-12-30T08:17:01.995Z"
   },
   {
    "duration": 10,
    "start_time": "2021-12-30T08:17:39.371Z"
   },
   {
    "duration": 465,
    "start_time": "2021-12-30T08:17:47.327Z"
   },
   {
    "duration": 16,
    "start_time": "2021-12-30T08:17:52.274Z"
   },
   {
    "duration": 10,
    "start_time": "2021-12-30T08:17:57.203Z"
   },
   {
    "duration": 14,
    "start_time": "2021-12-30T08:18:19.603Z"
   },
   {
    "duration": 105,
    "start_time": "2021-12-30T08:23:30.425Z"
   },
   {
    "duration": 9,
    "start_time": "2021-12-30T08:25:57.780Z"
   },
   {
    "duration": 10,
    "start_time": "2021-12-30T08:27:10.255Z"
   },
   {
    "duration": 8,
    "start_time": "2021-12-30T08:27:18.192Z"
   },
   {
    "duration": 315,
    "start_time": "2021-12-30T08:27:26.145Z"
   },
   {
    "duration": 9,
    "start_time": "2021-12-30T08:27:37.030Z"
   },
   {
    "duration": 10,
    "start_time": "2021-12-30T08:27:40.229Z"
   },
   {
    "duration": 9,
    "start_time": "2021-12-30T08:27:43.496Z"
   },
   {
    "duration": 9,
    "start_time": "2021-12-30T08:27:50.352Z"
   },
   {
    "duration": 11,
    "start_time": "2021-12-30T08:29:00.812Z"
   },
   {
    "duration": 12,
    "start_time": "2021-12-30T08:30:12.970Z"
   },
   {
    "duration": 12,
    "start_time": "2021-12-30T08:30:16.524Z"
   },
   {
    "duration": 12,
    "start_time": "2021-12-30T08:30:20.673Z"
   },
   {
    "duration": 15,
    "start_time": "2021-12-30T08:30:35.147Z"
   },
   {
    "duration": 14,
    "start_time": "2021-12-30T08:30:43.765Z"
   },
   {
    "duration": 844,
    "start_time": "2021-12-30T08:30:59.104Z"
   },
   {
    "duration": 743,
    "start_time": "2021-12-30T08:31:38.507Z"
   },
   {
    "duration": 875,
    "start_time": "2021-12-30T08:31:45.791Z"
   },
   {
    "duration": 1041,
    "start_time": "2021-12-30T08:32:49.129Z"
   },
   {
    "duration": 829,
    "start_time": "2021-12-30T08:32:57.547Z"
   },
   {
    "duration": 753,
    "start_time": "2021-12-30T08:33:15.382Z"
   },
   {
    "duration": 1180,
    "start_time": "2021-12-30T08:33:45.509Z"
   },
   {
    "duration": 732,
    "start_time": "2021-12-30T12:00:32.717Z"
   },
   {
    "duration": 3,
    "start_time": "2021-12-30T12:00:33.451Z"
   },
   {
    "duration": 38,
    "start_time": "2021-12-30T12:00:33.455Z"
   },
   {
    "duration": 6,
    "start_time": "2021-12-30T12:00:33.495Z"
   },
   {
    "duration": 7,
    "start_time": "2021-12-30T12:00:33.502Z"
   },
   {
    "duration": 23,
    "start_time": "2021-12-30T12:00:33.511Z"
   },
   {
    "duration": 142,
    "start_time": "2021-12-30T12:00:33.536Z"
   },
   {
    "duration": 20,
    "start_time": "2021-12-30T12:00:33.680Z"
   },
   {
    "duration": 21,
    "start_time": "2021-12-30T12:00:33.703Z"
   },
   {
    "duration": 85,
    "start_time": "2021-12-30T12:00:33.726Z"
   },
   {
    "duration": 15,
    "start_time": "2021-12-30T12:00:33.813Z"
   },
   {
    "duration": 23,
    "start_time": "2021-12-30T12:00:33.830Z"
   },
   {
    "duration": 124,
    "start_time": "2021-12-30T12:00:33.854Z"
   },
   {
    "duration": 18,
    "start_time": "2021-12-30T12:00:33.979Z"
   },
   {
    "duration": 21,
    "start_time": "2021-12-30T12:00:33.999Z"
   },
   {
    "duration": 8,
    "start_time": "2021-12-30T12:00:34.021Z"
   },
   {
    "duration": 9,
    "start_time": "2021-12-30T12:00:34.030Z"
   },
   {
    "duration": 86,
    "start_time": "2021-12-30T12:00:34.040Z"
   },
   {
    "duration": 39,
    "start_time": "2021-12-30T12:00:34.127Z"
   },
   {
    "duration": 61,
    "start_time": "2021-12-30T12:00:34.167Z"
   },
   {
    "duration": 33,
    "start_time": "2021-12-30T12:00:34.229Z"
   },
   {
    "duration": 36,
    "start_time": "2021-12-30T12:00:34.263Z"
   },
   {
    "duration": 23,
    "start_time": "2021-12-30T12:00:34.301Z"
   },
   {
    "duration": 57,
    "start_time": "2021-12-30T12:00:34.325Z"
   },
   {
    "duration": 6,
    "start_time": "2021-12-30T12:00:34.383Z"
   },
   {
    "duration": 334,
    "start_time": "2021-12-30T12:00:34.391Z"
   },
   {
    "duration": -5150,
    "start_time": "2021-12-30T12:00:39.877Z"
   },
   {
    "duration": -5153,
    "start_time": "2021-12-30T12:00:39.881Z"
   },
   {
    "duration": -5155,
    "start_time": "2021-12-30T12:00:39.884Z"
   },
   {
    "duration": 3,
    "start_time": "2021-12-30T12:00:46.235Z"
   },
   {
    "duration": 5,
    "start_time": "2021-12-30T12:00:46.240Z"
   },
   {
    "duration": 34,
    "start_time": "2021-12-30T12:00:46.247Z"
   },
   {
    "duration": 6,
    "start_time": "2021-12-30T12:00:46.283Z"
   },
   {
    "duration": 11,
    "start_time": "2021-12-30T12:00:46.290Z"
   },
   {
    "duration": 28,
    "start_time": "2021-12-30T12:00:46.302Z"
   },
   {
    "duration": 131,
    "start_time": "2021-12-30T12:00:46.332Z"
   },
   {
    "duration": 20,
    "start_time": "2021-12-30T12:00:46.465Z"
   },
   {
    "duration": 20,
    "start_time": "2021-12-30T12:00:46.488Z"
   },
   {
    "duration": 73,
    "start_time": "2021-12-30T12:00:46.510Z"
   },
   {
    "duration": 15,
    "start_time": "2021-12-30T12:00:46.585Z"
   },
   {
    "duration": 23,
    "start_time": "2021-12-30T12:00:46.603Z"
   },
   {
    "duration": 131,
    "start_time": "2021-12-30T12:00:46.628Z"
   },
   {
    "duration": 18,
    "start_time": "2021-12-30T12:00:46.761Z"
   },
   {
    "duration": 27,
    "start_time": "2021-12-30T12:00:46.781Z"
   },
   {
    "duration": 8,
    "start_time": "2021-12-30T12:00:46.810Z"
   },
   {
    "duration": 12,
    "start_time": "2021-12-30T12:00:46.819Z"
   },
   {
    "duration": 83,
    "start_time": "2021-12-30T12:00:46.833Z"
   },
   {
    "duration": 30,
    "start_time": "2021-12-30T12:00:46.918Z"
   },
   {
    "duration": 65,
    "start_time": "2021-12-30T12:00:46.949Z"
   },
   {
    "duration": 46,
    "start_time": "2021-12-30T12:00:47.016Z"
   },
   {
    "duration": 37,
    "start_time": "2021-12-30T12:00:47.064Z"
   },
   {
    "duration": 23,
    "start_time": "2021-12-30T12:00:47.103Z"
   },
   {
    "duration": 55,
    "start_time": "2021-12-30T12:00:47.128Z"
   },
   {
    "duration": 6,
    "start_time": "2021-12-30T12:00:47.185Z"
   },
   {
    "duration": 332,
    "start_time": "2021-12-30T12:00:47.193Z"
   },
   {
    "duration": -5039,
    "start_time": "2021-12-30T12:00:52.566Z"
   },
   {
    "duration": -5040,
    "start_time": "2021-12-30T12:00:52.568Z"
   },
   {
    "duration": -5040,
    "start_time": "2021-12-30T12:00:52.569Z"
   },
   {
    "duration": 3,
    "start_time": "2021-12-30T12:01:37.654Z"
   },
   {
    "duration": 26,
    "start_time": "2021-12-30T12:01:37.659Z"
   },
   {
    "duration": 56,
    "start_time": "2021-12-30T12:01:37.687Z"
   },
   {
    "duration": 25,
    "start_time": "2021-12-30T12:01:37.745Z"
   },
   {
    "duration": 36,
    "start_time": "2021-12-30T12:01:37.771Z"
   },
   {
    "duration": 47,
    "start_time": "2021-12-30T12:01:37.809Z"
   },
   {
    "duration": 140,
    "start_time": "2021-12-30T12:01:37.858Z"
   },
   {
    "duration": 20,
    "start_time": "2021-12-30T12:01:38.000Z"
   },
   {
    "duration": 43,
    "start_time": "2021-12-30T12:01:38.023Z"
   },
   {
    "duration": 93,
    "start_time": "2021-12-30T12:01:38.068Z"
   },
   {
    "duration": 14,
    "start_time": "2021-12-30T12:01:38.163Z"
   },
   {
    "duration": 47,
    "start_time": "2021-12-30T12:01:38.179Z"
   },
   {
    "duration": 119,
    "start_time": "2021-12-30T12:01:38.228Z"
   },
   {
    "duration": 16,
    "start_time": "2021-12-30T12:01:38.349Z"
   },
   {
    "duration": 35,
    "start_time": "2021-12-30T12:01:38.367Z"
   },
   {
    "duration": 31,
    "start_time": "2021-12-30T12:01:38.404Z"
   },
   {
    "duration": 38,
    "start_time": "2021-12-30T12:01:38.437Z"
   },
   {
    "duration": 86,
    "start_time": "2021-12-30T12:01:38.476Z"
   },
   {
    "duration": 28,
    "start_time": "2021-12-30T12:01:38.564Z"
   },
   {
    "duration": 48,
    "start_time": "2021-12-30T12:01:38.594Z"
   },
   {
    "duration": 33,
    "start_time": "2021-12-30T12:01:38.644Z"
   },
   {
    "duration": 34,
    "start_time": "2021-12-30T12:01:38.679Z"
   },
   {
    "duration": 47,
    "start_time": "2021-12-30T12:01:38.714Z"
   },
   {
    "duration": 27,
    "start_time": "2021-12-30T12:01:38.762Z"
   },
   {
    "duration": 19,
    "start_time": "2021-12-30T12:01:38.791Z"
   },
   {
    "duration": 44,
    "start_time": "2021-12-30T12:01:38.812Z"
   },
   {
    "duration": 476,
    "start_time": "2021-12-30T12:01:38.859Z"
   },
   {
    "duration": 658,
    "start_time": "2021-12-30T12:01:39.337Z"
   },
   {
    "duration": 705,
    "start_time": "2021-12-30T12:01:39.997Z"
   },
   {
    "duration": 3,
    "start_time": "2021-12-30T12:03:28.561Z"
   },
   {
    "duration": 7,
    "start_time": "2021-12-30T12:03:28.566Z"
   },
   {
    "duration": 34,
    "start_time": "2021-12-30T12:03:28.575Z"
   },
   {
    "duration": 6,
    "start_time": "2021-12-30T12:03:28.612Z"
   },
   {
    "duration": 8,
    "start_time": "2021-12-30T12:03:28.620Z"
   },
   {
    "duration": 22,
    "start_time": "2021-12-30T12:03:28.630Z"
   },
   {
    "duration": 134,
    "start_time": "2021-12-30T12:03:28.653Z"
   },
   {
    "duration": 20,
    "start_time": "2021-12-30T12:03:28.789Z"
   },
   {
    "duration": 22,
    "start_time": "2021-12-30T12:03:28.812Z"
   },
   {
    "duration": 85,
    "start_time": "2021-12-30T12:03:28.836Z"
   },
   {
    "duration": 13,
    "start_time": "2021-12-30T12:03:28.923Z"
   },
   {
    "duration": 29,
    "start_time": "2021-12-30T12:03:28.938Z"
   },
   {
    "duration": 112,
    "start_time": "2021-12-30T12:03:28.969Z"
   },
   {
    "duration": 17,
    "start_time": "2021-12-30T12:03:29.083Z"
   },
   {
    "duration": 27,
    "start_time": "2021-12-30T12:03:29.101Z"
   },
   {
    "duration": 11,
    "start_time": "2021-12-30T12:03:29.129Z"
   },
   {
    "duration": 11,
    "start_time": "2021-12-30T12:03:29.141Z"
   },
   {
    "duration": 63,
    "start_time": "2021-12-30T12:03:29.154Z"
   },
   {
    "duration": 27,
    "start_time": "2021-12-30T12:03:29.218Z"
   },
   {
    "duration": 61,
    "start_time": "2021-12-30T12:03:29.246Z"
   },
   {
    "duration": 19,
    "start_time": "2021-12-30T12:03:29.308Z"
   },
   {
    "duration": 49,
    "start_time": "2021-12-30T12:03:29.329Z"
   },
   {
    "duration": 23,
    "start_time": "2021-12-30T12:03:29.379Z"
   },
   {
    "duration": 26,
    "start_time": "2021-12-30T12:03:29.404Z"
   },
   {
    "duration": 6,
    "start_time": "2021-12-30T12:03:29.432Z"
   },
   {
    "duration": 28,
    "start_time": "2021-12-30T12:03:29.461Z"
   },
   {
    "duration": 493,
    "start_time": "2021-12-30T12:03:29.492Z"
   },
   {
    "duration": 664,
    "start_time": "2021-12-30T12:03:29.987Z"
   },
   {
    "duration": 715,
    "start_time": "2021-12-30T12:03:30.653Z"
   },
   {
    "duration": 670,
    "start_time": "2021-12-30T12:03:31.369Z"
   },
   {
    "duration": 651,
    "start_time": "2021-12-30T12:04:06.606Z"
   },
   {
    "duration": 429,
    "start_time": "2021-12-30T12:08:44.178Z"
   },
   {
    "duration": 2,
    "start_time": "2021-12-30T12:08:44.609Z"
   },
   {
    "duration": 24,
    "start_time": "2021-12-30T12:08:44.613Z"
   },
   {
    "duration": 6,
    "start_time": "2021-12-30T12:08:44.638Z"
   },
   {
    "duration": 15,
    "start_time": "2021-12-30T12:08:44.645Z"
   },
   {
    "duration": 21,
    "start_time": "2021-12-30T12:08:44.664Z"
   },
   {
    "duration": 136,
    "start_time": "2021-12-30T12:08:44.687Z"
   },
   {
    "duration": 22,
    "start_time": "2021-12-30T12:08:44.825Z"
   },
   {
    "duration": 22,
    "start_time": "2021-12-30T12:08:44.863Z"
   },
   {
    "duration": 78,
    "start_time": "2021-12-30T12:08:44.887Z"
   },
   {
    "duration": 18,
    "start_time": "2021-12-30T12:08:44.968Z"
   },
   {
    "duration": 26,
    "start_time": "2021-12-30T12:08:44.988Z"
   },
   {
    "duration": 134,
    "start_time": "2021-12-30T12:08:45.016Z"
   },
   {
    "duration": 22,
    "start_time": "2021-12-30T12:08:45.152Z"
   },
   {
    "duration": 21,
    "start_time": "2021-12-30T12:08:45.177Z"
   },
   {
    "duration": 9,
    "start_time": "2021-12-30T12:08:45.200Z"
   },
   {
    "duration": 8,
    "start_time": "2021-12-30T12:08:45.210Z"
   },
   {
    "duration": 88,
    "start_time": "2021-12-30T12:08:45.220Z"
   },
   {
    "duration": 28,
    "start_time": "2021-12-30T12:08:45.310Z"
   },
   {
    "duration": 75,
    "start_time": "2021-12-30T12:08:45.340Z"
   },
   {
    "duration": 21,
    "start_time": "2021-12-30T12:08:45.417Z"
   },
   {
    "duration": 55,
    "start_time": "2021-12-30T12:08:45.439Z"
   },
   {
    "duration": 23,
    "start_time": "2021-12-30T12:08:45.496Z"
   },
   {
    "duration": 52,
    "start_time": "2021-12-30T12:08:45.521Z"
   },
   {
    "duration": 8,
    "start_time": "2021-12-30T12:08:45.576Z"
   },
   {
    "duration": 44,
    "start_time": "2021-12-30T12:08:45.586Z"
   },
   {
    "duration": 542,
    "start_time": "2021-12-30T12:08:45.634Z"
   },
   {
    "duration": 714,
    "start_time": "2021-12-30T12:08:46.179Z"
   },
   {
    "duration": 756,
    "start_time": "2021-12-30T12:08:46.895Z"
   },
   {
    "duration": 682,
    "start_time": "2021-12-30T12:08:47.653Z"
   },
   {
    "duration": 14,
    "start_time": "2021-12-30T12:10:21.087Z"
   },
   {
    "duration": 11,
    "start_time": "2021-12-30T12:11:34.972Z"
   },
   {
    "duration": 276,
    "start_time": "2021-12-30T12:11:52.310Z"
   },
   {
    "duration": 286,
    "start_time": "2021-12-30T12:12:06.808Z"
   },
   {
    "duration": 261,
    "start_time": "2021-12-30T12:12:40.314Z"
   },
   {
    "duration": 11,
    "start_time": "2021-12-30T12:12:44.290Z"
   },
   {
    "duration": 263,
    "start_time": "2021-12-30T12:12:50.777Z"
   },
   {
    "duration": 5,
    "start_time": "2021-12-30T12:13:03.494Z"
   },
   {
    "duration": 11,
    "start_time": "2021-12-30T12:15:29.924Z"
   },
   {
    "duration": 13,
    "start_time": "2021-12-30T12:15:41.268Z"
   },
   {
    "duration": 276,
    "start_time": "2021-12-30T12:16:00.435Z"
   },
   {
    "duration": 251,
    "start_time": "2021-12-30T12:16:16.076Z"
   },
   {
    "duration": 260,
    "start_time": "2021-12-30T12:17:28.331Z"
   },
   {
    "duration": 7,
    "start_time": "2021-12-30T12:17:34.204Z"
   },
   {
    "duration": 246,
    "start_time": "2021-12-30T12:17:36.072Z"
   },
   {
    "duration": 6,
    "start_time": "2021-12-30T12:23:05.058Z"
   },
   {
    "duration": 13,
    "start_time": "2021-12-30T12:26:20.092Z"
   },
   {
    "duration": 13,
    "start_time": "2021-12-30T12:26:34.456Z"
   },
   {
    "duration": 12,
    "start_time": "2021-12-30T12:30:49.194Z"
   },
   {
    "duration": 27,
    "start_time": "2021-12-30T12:31:23.526Z"
   },
   {
    "duration": 21,
    "start_time": "2021-12-30T12:31:57.570Z"
   },
   {
    "duration": 26,
    "start_time": "2021-12-30T12:34:00.164Z"
   },
   {
    "duration": 11,
    "start_time": "2021-12-30T12:34:04.401Z"
   },
   {
    "duration": 9,
    "start_time": "2021-12-30T12:34:09.935Z"
   },
   {
    "duration": 5,
    "start_time": "2021-12-30T12:34:35.404Z"
   },
   {
    "duration": 4,
    "start_time": "2021-12-30T12:34:43.790Z"
   },
   {
    "duration": 9,
    "start_time": "2021-12-30T12:35:44.543Z"
   },
   {
    "duration": 4,
    "start_time": "2021-12-30T12:36:05.380Z"
   },
   {
    "duration": 5,
    "start_time": "2021-12-30T12:36:26.305Z"
   },
   {
    "duration": 307,
    "start_time": "2021-12-30T12:36:35.285Z"
   },
   {
    "duration": 5,
    "start_time": "2021-12-30T12:36:47.116Z"
   },
   {
    "duration": 243,
    "start_time": "2021-12-30T12:37:08.399Z"
   },
   {
    "duration": 4,
    "start_time": "2021-12-30T12:37:18.626Z"
   },
   {
    "duration": 1448,
    "start_time": "2021-12-31T00:33:00.141Z"
   },
   {
    "duration": 3,
    "start_time": "2021-12-31T00:33:01.592Z"
   },
   {
    "duration": 50,
    "start_time": "2021-12-31T00:33:01.598Z"
   },
   {
    "duration": 15,
    "start_time": "2021-12-31T00:33:01.651Z"
   },
   {
    "duration": 9,
    "start_time": "2021-12-31T00:33:01.668Z"
   },
   {
    "duration": 32,
    "start_time": "2021-12-31T00:33:01.681Z"
   },
   {
    "duration": 246,
    "start_time": "2021-12-31T00:33:01.716Z"
   },
   {
    "duration": 32,
    "start_time": "2021-12-31T00:33:01.964Z"
   },
   {
    "duration": 30,
    "start_time": "2021-12-31T00:33:02.003Z"
   },
   {
    "duration": 134,
    "start_time": "2021-12-31T00:33:02.064Z"
   },
   {
    "duration": 19,
    "start_time": "2021-12-31T00:33:02.201Z"
   },
   {
    "duration": 42,
    "start_time": "2021-12-31T00:33:02.223Z"
   },
   {
    "duration": 189,
    "start_time": "2021-12-31T00:33:02.267Z"
   },
   {
    "duration": 24,
    "start_time": "2021-12-31T00:33:02.459Z"
   },
   {
    "duration": 27,
    "start_time": "2021-12-31T00:33:02.486Z"
   },
   {
    "duration": 7,
    "start_time": "2021-12-31T00:33:02.516Z"
   },
   {
    "duration": 38,
    "start_time": "2021-12-31T00:33:02.526Z"
   },
   {
    "duration": 123,
    "start_time": "2021-12-31T00:33:02.567Z"
   },
   {
    "duration": 43,
    "start_time": "2021-12-31T00:33:02.693Z"
   },
   {
    "duration": 129,
    "start_time": "2021-12-31T00:33:02.738Z"
   },
   {
    "duration": 29,
    "start_time": "2021-12-31T00:33:02.869Z"
   },
   {
    "duration": 81,
    "start_time": "2021-12-31T00:33:02.900Z"
   },
   {
    "duration": 33,
    "start_time": "2021-12-31T00:33:02.984Z"
   },
   {
    "duration": 78,
    "start_time": "2021-12-31T00:33:03.019Z"
   },
   {
    "duration": 10,
    "start_time": "2021-12-31T00:33:03.100Z"
   },
   {
    "duration": 74,
    "start_time": "2021-12-31T00:33:03.112Z"
   },
   {
    "duration": 952,
    "start_time": "2021-12-31T00:33:03.191Z"
   },
   {
    "duration": 1149,
    "start_time": "2021-12-31T00:33:04.146Z"
   },
   {
    "duration": 1189,
    "start_time": "2021-12-31T00:33:05.297Z"
   },
   {
    "duration": 1145,
    "start_time": "2021-12-31T00:33:06.489Z"
   },
   {
    "duration": 26,
    "start_time": "2021-12-31T00:33:07.636Z"
   },
   {
    "duration": 9,
    "start_time": "2021-12-31T00:33:07.665Z"
   },
   {
    "duration": 57,
    "start_time": "2021-12-31T00:33:07.677Z"
   },
   {
    "duration": 8,
    "start_time": "2021-12-31T00:33:07.737Z"
   },
   {
    "duration": 18,
    "start_time": "2021-12-31T00:33:07.748Z"
   },
   {
    "duration": 25,
    "start_time": "2021-12-31T00:33:07.768Z"
   },
   {
    "duration": 4,
    "start_time": "2021-12-31T04:21:32.749Z"
   },
   {
    "duration": 12,
    "start_time": "2021-12-31T04:21:32.755Z"
   },
   {
    "duration": 41,
    "start_time": "2021-12-31T04:21:32.771Z"
   },
   {
    "duration": 8,
    "start_time": "2021-12-31T04:21:32.815Z"
   },
   {
    "duration": 8,
    "start_time": "2021-12-31T04:21:32.826Z"
   },
   {
    "duration": 46,
    "start_time": "2021-12-31T04:21:32.836Z"
   },
   {
    "duration": 288,
    "start_time": "2021-12-31T04:21:32.885Z"
   },
   {
    "duration": 43,
    "start_time": "2021-12-31T04:21:33.176Z"
   },
   {
    "duration": 41,
    "start_time": "2021-12-31T04:21:33.224Z"
   },
   {
    "duration": 178,
    "start_time": "2021-12-31T04:21:33.269Z"
   },
   {
    "duration": 36,
    "start_time": "2021-12-31T04:21:33.450Z"
   },
   {
    "duration": 35,
    "start_time": "2021-12-31T04:21:33.489Z"
   },
   {
    "duration": 250,
    "start_time": "2021-12-31T04:21:33.527Z"
   },
   {
    "duration": 36,
    "start_time": "2021-12-31T04:21:33.781Z"
   },
   {
    "duration": 44,
    "start_time": "2021-12-31T04:21:33.820Z"
   },
   {
    "duration": 9,
    "start_time": "2021-12-31T04:21:33.867Z"
   },
   {
    "duration": 12,
    "start_time": "2021-12-31T04:21:33.879Z"
   },
   {
    "duration": 180,
    "start_time": "2021-12-31T04:21:33.894Z"
   },
   {
    "duration": 52,
    "start_time": "2021-12-31T04:21:34.077Z"
   },
   {
    "duration": 126,
    "start_time": "2021-12-31T04:21:34.132Z"
   },
   {
    "duration": 37,
    "start_time": "2021-12-31T04:21:34.263Z"
   },
   {
    "duration": 92,
    "start_time": "2021-12-31T04:21:34.303Z"
   },
   {
    "duration": 45,
    "start_time": "2021-12-31T04:21:34.398Z"
   },
   {
    "duration": 63,
    "start_time": "2021-12-31T04:21:34.463Z"
   },
   {
    "duration": 34,
    "start_time": "2021-12-31T04:21:34.529Z"
   },
   {
    "duration": 44,
    "start_time": "2021-12-31T04:21:34.566Z"
   },
   {
    "duration": 1059,
    "start_time": "2021-12-31T04:21:34.614Z"
   },
   {
    "duration": 1190,
    "start_time": "2021-12-31T04:21:35.676Z"
   },
   {
    "duration": 1219,
    "start_time": "2021-12-31T04:21:36.868Z"
   },
   {
    "duration": 1113,
    "start_time": "2021-12-31T04:21:38.089Z"
   },
   {
    "duration": 13,
    "start_time": "2021-12-31T04:21:39.205Z"
   },
   {
    "duration": 9,
    "start_time": "2021-12-31T04:21:39.222Z"
   },
   {
    "duration": 55,
    "start_time": "2021-12-31T04:21:39.234Z"
   },
   {
    "duration": 8,
    "start_time": "2021-12-31T04:21:39.292Z"
   },
   {
    "duration": 8,
    "start_time": "2021-12-31T04:21:39.303Z"
   },
   {
    "duration": 59,
    "start_time": "2021-12-31T04:21:39.314Z"
   },
   {
    "duration": 516,
    "start_time": "2021-12-31T05:28:36.413Z"
   },
   {
    "duration": 4,
    "start_time": "2021-12-31T05:28:40.066Z"
   },
   {
    "duration": 8,
    "start_time": "2021-12-31T05:28:40.072Z"
   },
   {
    "duration": 43,
    "start_time": "2021-12-31T05:28:40.083Z"
   },
   {
    "duration": 36,
    "start_time": "2021-12-31T05:28:40.129Z"
   },
   {
    "duration": 9,
    "start_time": "2021-12-31T05:28:40.168Z"
   },
   {
    "duration": 31,
    "start_time": "2021-12-31T05:28:40.179Z"
   },
   {
    "duration": 204,
    "start_time": "2021-12-31T05:28:40.213Z"
   },
   {
    "duration": 27,
    "start_time": "2021-12-31T05:28:40.420Z"
   },
   {
    "duration": 26,
    "start_time": "2021-12-31T05:28:40.465Z"
   },
   {
    "duration": 107,
    "start_time": "2021-12-31T05:28:40.495Z"
   },
   {
    "duration": 20,
    "start_time": "2021-12-31T05:28:40.604Z"
   },
   {
    "duration": 38,
    "start_time": "2021-12-31T05:28:40.627Z"
   },
   {
    "duration": 163,
    "start_time": "2021-12-31T05:28:40.668Z"
   },
   {
    "duration": 31,
    "start_time": "2021-12-31T05:28:40.834Z"
   },
   {
    "duration": 29,
    "start_time": "2021-12-31T05:28:40.867Z"
   },
   {
    "duration": 8,
    "start_time": "2021-12-31T05:28:40.898Z"
   },
   {
    "duration": 10,
    "start_time": "2021-12-31T05:28:40.908Z"
   },
   {
    "duration": 121,
    "start_time": "2021-12-31T05:28:40.921Z"
   },
   {
    "duration": 47,
    "start_time": "2021-12-31T05:28:41.045Z"
   },
   {
    "duration": 105,
    "start_time": "2021-12-31T05:28:41.094Z"
   },
   {
    "duration": 28,
    "start_time": "2021-12-31T05:28:41.201Z"
   },
   {
    "duration": 66,
    "start_time": "2021-12-31T05:28:41.232Z"
   },
   {
    "duration": 34,
    "start_time": "2021-12-31T05:28:41.300Z"
   },
   {
    "duration": 68,
    "start_time": "2021-12-31T05:28:41.336Z"
   },
   {
    "duration": 10,
    "start_time": "2021-12-31T05:28:41.406Z"
   },
   {
    "duration": 74,
    "start_time": "2021-12-31T05:28:41.418Z"
   },
   {
    "duration": 965,
    "start_time": "2021-12-31T05:28:41.497Z"
   },
   {
    "duration": 1213,
    "start_time": "2021-12-31T05:28:42.465Z"
   },
   {
    "duration": 1118,
    "start_time": "2021-12-31T05:28:43.681Z"
   },
   {
    "duration": 1115,
    "start_time": "2021-12-31T05:28:44.801Z"
   },
   {
    "duration": 427,
    "start_time": "2021-12-31T05:28:45.919Z"
   },
   {
    "duration": -5384,
    "start_time": "2021-12-31T05:28:51.732Z"
   },
   {
    "duration": -5384,
    "start_time": "2021-12-31T05:28:51.734Z"
   },
   {
    "duration": -5384,
    "start_time": "2021-12-31T05:28:51.736Z"
   },
   {
    "duration": -5384,
    "start_time": "2021-12-31T05:28:51.737Z"
   },
   {
    "duration": -5384,
    "start_time": "2021-12-31T05:28:51.739Z"
   },
   {
    "duration": 22,
    "start_time": "2021-12-31T05:29:00.053Z"
   },
   {
    "duration": 13,
    "start_time": "2021-12-31T05:29:14.936Z"
   },
   {
    "duration": 4,
    "start_time": "2021-12-31T05:30:51.080Z"
   },
   {
    "duration": 12,
    "start_time": "2021-12-31T05:30:51.087Z"
   },
   {
    "duration": 42,
    "start_time": "2021-12-31T05:30:51.102Z"
   },
   {
    "duration": 21,
    "start_time": "2021-12-31T05:30:51.147Z"
   },
   {
    "duration": 9,
    "start_time": "2021-12-31T05:30:51.171Z"
   },
   {
    "duration": 28,
    "start_time": "2021-12-31T05:30:51.182Z"
   },
   {
    "duration": 219,
    "start_time": "2021-12-31T05:30:51.212Z"
   },
   {
    "duration": 35,
    "start_time": "2021-12-31T05:30:51.433Z"
   },
   {
    "duration": 28,
    "start_time": "2021-12-31T05:30:51.472Z"
   },
   {
    "duration": 127,
    "start_time": "2021-12-31T05:30:51.504Z"
   },
   {
    "duration": 32,
    "start_time": "2021-12-31T05:30:51.634Z"
   },
   {
    "duration": 30,
    "start_time": "2021-12-31T05:30:51.669Z"
   },
   {
    "duration": 168,
    "start_time": "2021-12-31T05:30:51.702Z"
   },
   {
    "duration": 24,
    "start_time": "2021-12-31T05:30:51.873Z"
   },
   {
    "duration": 28,
    "start_time": "2021-12-31T05:30:51.899Z"
   },
   {
    "duration": 10,
    "start_time": "2021-12-31T05:30:51.930Z"
   },
   {
    "duration": 13,
    "start_time": "2021-12-31T05:30:51.964Z"
   },
   {
    "duration": 123,
    "start_time": "2021-12-31T05:30:51.980Z"
   },
   {
    "duration": 40,
    "start_time": "2021-12-31T05:30:52.105Z"
   },
   {
    "duration": 106,
    "start_time": "2021-12-31T05:30:52.162Z"
   },
   {
    "duration": 28,
    "start_time": "2021-12-31T05:30:52.271Z"
   },
   {
    "duration": 47,
    "start_time": "2021-12-31T05:30:52.301Z"
   },
   {
    "duration": 41,
    "start_time": "2021-12-31T05:30:52.351Z"
   },
   {
    "duration": 44,
    "start_time": "2021-12-31T05:30:52.395Z"
   },
   {
    "duration": 9,
    "start_time": "2021-12-31T05:30:52.441Z"
   },
   {
    "duration": 142,
    "start_time": "2021-12-31T05:30:52.463Z"
   },
   {
    "duration": 1144,
    "start_time": "2021-12-31T05:30:52.610Z"
   },
   {
    "duration": 1148,
    "start_time": "2021-12-31T05:30:53.757Z"
   },
   {
    "duration": 1092,
    "start_time": "2021-12-31T05:30:54.908Z"
   },
   {
    "duration": 1101,
    "start_time": "2021-12-31T05:30:56.002Z"
   },
   {
    "duration": 12,
    "start_time": "2021-12-31T05:30:57.105Z"
   },
   {
    "duration": 6,
    "start_time": "2021-12-31T05:30:57.119Z"
   },
   {
    "duration": 49,
    "start_time": "2021-12-31T05:30:57.128Z"
   },
   {
    "duration": 6,
    "start_time": "2021-12-31T05:30:57.179Z"
   },
   {
    "duration": 6,
    "start_time": "2021-12-31T05:30:57.187Z"
   },
   {
    "duration": 14,
    "start_time": "2021-12-31T05:30:57.195Z"
   },
   {
    "duration": 4,
    "start_time": "2022-01-01T23:48:45.834Z"
   },
   {
    "duration": 6,
    "start_time": "2022-01-01T23:48:45.841Z"
   },
   {
    "duration": 44,
    "start_time": "2022-01-01T23:48:45.850Z"
   },
   {
    "duration": 11,
    "start_time": "2022-01-01T23:48:45.898Z"
   },
   {
    "duration": 10,
    "start_time": "2022-01-01T23:48:45.913Z"
   },
   {
    "duration": 51,
    "start_time": "2022-01-01T23:48:45.926Z"
   },
   {
    "duration": 216,
    "start_time": "2022-01-01T23:48:45.982Z"
   },
   {
    "duration": 31,
    "start_time": "2022-01-01T23:48:46.201Z"
   },
   {
    "duration": 52,
    "start_time": "2022-01-01T23:48:46.237Z"
   },
   {
    "duration": 127,
    "start_time": "2022-01-01T23:48:46.293Z"
   },
   {
    "duration": 20,
    "start_time": "2022-01-01T23:48:46.422Z"
   },
   {
    "duration": 36,
    "start_time": "2022-01-01T23:48:46.445Z"
   },
   {
    "duration": 180,
    "start_time": "2022-01-01T23:48:46.484Z"
   },
   {
    "duration": 24,
    "start_time": "2022-01-01T23:48:46.666Z"
   },
   {
    "duration": 41,
    "start_time": "2022-01-01T23:48:46.693Z"
   },
   {
    "duration": 9,
    "start_time": "2022-01-01T23:48:46.736Z"
   },
   {
    "duration": 22,
    "start_time": "2022-01-01T23:48:46.747Z"
   },
   {
    "duration": 118,
    "start_time": "2022-01-01T23:48:46.771Z"
   },
   {
    "duration": 42,
    "start_time": "2022-01-01T23:48:46.891Z"
   },
   {
    "duration": 95,
    "start_time": "2022-01-01T23:48:46.936Z"
   },
   {
    "duration": 43,
    "start_time": "2022-01-01T23:48:47.034Z"
   },
   {
    "duration": 50,
    "start_time": "2022-01-01T23:48:47.080Z"
   },
   {
    "duration": 54,
    "start_time": "2022-01-01T23:48:47.133Z"
   },
   {
    "duration": 43,
    "start_time": "2022-01-01T23:48:47.189Z"
   },
   {
    "duration": 11,
    "start_time": "2022-01-01T23:48:47.264Z"
   },
   {
    "duration": 43,
    "start_time": "2022-01-01T23:48:47.278Z"
   },
   {
    "duration": 981,
    "start_time": "2022-01-01T23:48:47.326Z"
   },
   {
    "duration": 1259,
    "start_time": "2022-01-01T23:48:48.310Z"
   },
   {
    "duration": 1425,
    "start_time": "2022-01-01T23:48:49.572Z"
   },
   {
    "duration": 1168,
    "start_time": "2022-01-01T23:48:51.000Z"
   },
   {
    "duration": 12,
    "start_time": "2022-01-01T23:48:52.171Z"
   },
   {
    "duration": 278,
    "start_time": "2022-01-01T23:48:52.185Z"
   },
   {
    "duration": -5705,
    "start_time": "2022-01-01T23:48:58.170Z"
   },
   {
    "duration": -5705,
    "start_time": "2022-01-01T23:48:58.172Z"
   },
   {
    "duration": -5705,
    "start_time": "2022-01-01T23:48:58.173Z"
   },
   {
    "duration": -5705,
    "start_time": "2022-01-01T23:48:58.174Z"
   },
   {
    "duration": 4,
    "start_time": "2022-01-01T23:49:21.294Z"
   },
   {
    "duration": 7,
    "start_time": "2022-01-01T23:49:21.301Z"
   },
   {
    "duration": 42,
    "start_time": "2022-01-01T23:49:21.312Z"
   },
   {
    "duration": 11,
    "start_time": "2022-01-01T23:49:21.357Z"
   },
   {
    "duration": 10,
    "start_time": "2022-01-01T23:49:21.370Z"
   },
   {
    "duration": 29,
    "start_time": "2022-01-01T23:49:21.382Z"
   },
   {
    "duration": 227,
    "start_time": "2022-01-01T23:49:21.413Z"
   },
   {
    "duration": 35,
    "start_time": "2022-01-01T23:49:21.642Z"
   },
   {
    "duration": 26,
    "start_time": "2022-01-01T23:49:21.682Z"
   },
   {
    "duration": 130,
    "start_time": "2022-01-01T23:49:21.711Z"
   },
   {
    "duration": 25,
    "start_time": "2022-01-01T23:49:21.843Z"
   },
   {
    "duration": 28,
    "start_time": "2022-01-01T23:49:21.870Z"
   },
   {
    "duration": 174,
    "start_time": "2022-01-01T23:49:21.901Z"
   },
   {
    "duration": 22,
    "start_time": "2022-01-01T23:49:22.078Z"
   },
   {
    "duration": 27,
    "start_time": "2022-01-01T23:49:22.103Z"
   },
   {
    "duration": 31,
    "start_time": "2022-01-01T23:49:22.133Z"
   },
   {
    "duration": 9,
    "start_time": "2022-01-01T23:49:22.167Z"
   },
   {
    "duration": 127,
    "start_time": "2022-01-01T23:49:22.178Z"
   },
   {
    "duration": 56,
    "start_time": "2022-01-01T23:49:22.308Z"
   },
   {
    "duration": 102,
    "start_time": "2022-01-01T23:49:22.367Z"
   },
   {
    "duration": 29,
    "start_time": "2022-01-01T23:49:22.471Z"
   },
   {
    "duration": 79,
    "start_time": "2022-01-01T23:49:22.503Z"
   },
   {
    "duration": 33,
    "start_time": "2022-01-01T23:49:22.584Z"
   },
   {
    "duration": 69,
    "start_time": "2022-01-01T23:49:22.620Z"
   },
   {
    "duration": 9,
    "start_time": "2022-01-01T23:49:22.692Z"
   },
   {
    "duration": 74,
    "start_time": "2022-01-01T23:49:22.704Z"
   },
   {
    "duration": 937,
    "start_time": "2022-01-01T23:49:22.783Z"
   },
   {
    "duration": 1235,
    "start_time": "2022-01-01T23:49:23.723Z"
   },
   {
    "duration": 1123,
    "start_time": "2022-01-01T23:49:24.964Z"
   },
   {
    "duration": 1121,
    "start_time": "2022-01-01T23:49:26.090Z"
   },
   {
    "duration": 16,
    "start_time": "2022-01-01T23:49:27.214Z"
   },
   {
    "duration": 58,
    "start_time": "2022-01-01T23:49:27.234Z"
   },
   {
    "duration": 7,
    "start_time": "2022-01-01T23:49:27.295Z"
   },
   {
    "duration": 6,
    "start_time": "2022-01-01T23:49:27.305Z"
   },
   {
    "duration": 57,
    "start_time": "2022-01-01T23:49:27.314Z"
   },
   {
    "duration": 289,
    "start_time": "2022-01-02T00:03:05.059Z"
   },
   {
    "duration": 298,
    "start_time": "2022-01-02T00:03:06.827Z"
   },
   {
    "duration": 300,
    "start_time": "2022-01-02T00:03:34.565Z"
   },
   {
    "duration": 6,
    "start_time": "2022-01-02T00:03:44.835Z"
   },
   {
    "duration": 297,
    "start_time": "2022-01-02T00:03:47.202Z"
   },
   {
    "duration": 275,
    "start_time": "2022-01-02T00:03:51.976Z"
   },
   {
    "duration": 320,
    "start_time": "2022-01-02T00:04:10.951Z"
   },
   {
    "duration": 9,
    "start_time": "2022-01-02T00:04:18.728Z"
   },
   {
    "duration": 9,
    "start_time": "2022-01-02T00:04:32.023Z"
   },
   {
    "duration": 8,
    "start_time": "2022-01-02T00:04:42.235Z"
   },
   {
    "duration": 6,
    "start_time": "2022-01-02T00:04:43.480Z"
   },
   {
    "duration": 466,
    "start_time": "2022-01-02T00:05:18.182Z"
   },
   {
    "duration": 936,
    "start_time": "2022-01-02T01:10:12.814Z"
   },
   {
    "duration": 938,
    "start_time": "2022-01-02T01:10:47.474Z"
   },
   {
    "duration": 1363,
    "start_time": "2022-01-02T01:20:00.110Z"
   },
   {
    "duration": 1142,
    "start_time": "2022-01-02T01:22:23.298Z"
   },
   {
    "duration": 9,
    "start_time": "2022-01-02T01:24:34.207Z"
   },
   {
    "duration": 10,
    "start_time": "2022-01-02T01:24:38.480Z"
   },
   {
    "duration": 11,
    "start_time": "2022-01-02T01:26:10.847Z"
   },
   {
    "duration": 10,
    "start_time": "2022-01-02T01:29:45.933Z"
   },
   {
    "duration": 18,
    "start_time": "2022-01-02T01:30:53.701Z"
   },
   {
    "duration": 12,
    "start_time": "2022-01-02T01:31:47.170Z"
   },
   {
    "duration": 36,
    "start_time": "2022-01-02T01:34:26.023Z"
   },
   {
    "duration": 948,
    "start_time": "2022-01-02T01:34:29.501Z"
   },
   {
    "duration": 11,
    "start_time": "2022-01-02T01:34:33.742Z"
   },
   {
    "duration": 11,
    "start_time": "2022-01-02T01:34:41.587Z"
   },
   {
    "duration": 302,
    "start_time": "2022-01-02T01:35:18.164Z"
   },
   {
    "duration": 345,
    "start_time": "2022-01-02T01:35:25.180Z"
   },
   {
    "duration": 341,
    "start_time": "2022-01-02T01:35:41.465Z"
   },
   {
    "duration": 8679,
    "start_time": "2022-01-02T01:35:47.173Z"
   },
   {
    "duration": 6,
    "start_time": "2022-01-02T01:37:16.663Z"
   },
   {
    "duration": 377,
    "start_time": "2022-01-02T01:37:31.305Z"
   },
   {
    "duration": 10,
    "start_time": "2022-01-02T01:37:52.215Z"
   },
   {
    "duration": 922,
    "start_time": "2022-01-02T01:38:09.643Z"
   },
   {
    "duration": 307,
    "start_time": "2022-01-02T01:38:30.083Z"
   },
   {
    "duration": 7603,
    "start_time": "2022-01-02T01:38:41.870Z"
   },
   {
    "duration": 6750,
    "start_time": "2022-01-02T01:39:06.903Z"
   },
   {
    "duration": 7,
    "start_time": "2022-01-02T01:39:20.978Z"
   },
   {
    "duration": 5,
    "start_time": "2022-01-02T01:39:32.788Z"
   },
   {
    "duration": 924,
    "start_time": "2022-01-02T01:39:43.000Z"
   },
   {
    "duration": 1111,
    "start_time": "2022-01-02T01:39:48.847Z"
   },
   {
    "duration": 37,
    "start_time": "2022-01-02T01:40:17.368Z"
   },
   {
    "duration": 1020,
    "start_time": "2022-01-02T01:40:19.128Z"
   },
   {
    "duration": 4,
    "start_time": "2022-01-02T01:40:46.162Z"
   },
   {
    "duration": 6,
    "start_time": "2022-01-02T01:40:46.169Z"
   },
   {
    "duration": 43,
    "start_time": "2022-01-02T01:40:46.178Z"
   },
   {
    "duration": 42,
    "start_time": "2022-01-02T01:40:46.223Z"
   },
   {
    "duration": 8,
    "start_time": "2022-01-02T01:40:46.267Z"
   },
   {
    "duration": 31,
    "start_time": "2022-01-02T01:40:46.278Z"
   },
   {
    "duration": 210,
    "start_time": "2022-01-02T01:40:46.311Z"
   },
   {
    "duration": 40,
    "start_time": "2022-01-02T01:40:46.523Z"
   },
   {
    "duration": 27,
    "start_time": "2022-01-02T01:40:46.568Z"
   },
   {
    "duration": 136,
    "start_time": "2022-01-02T01:40:46.598Z"
   },
   {
    "duration": 18,
    "start_time": "2022-01-02T01:40:46.737Z"
   },
   {
    "duration": 28,
    "start_time": "2022-01-02T01:40:46.763Z"
   },
   {
    "duration": 178,
    "start_time": "2022-01-02T01:40:46.793Z"
   },
   {
    "duration": 22,
    "start_time": "2022-01-02T01:40:46.974Z"
   },
   {
    "duration": 28,
    "start_time": "2022-01-02T01:40:47.000Z"
   },
   {
    "duration": 33,
    "start_time": "2022-01-02T01:40:47.031Z"
   },
   {
    "duration": 11,
    "start_time": "2022-01-02T01:40:47.066Z"
   },
   {
    "duration": 126,
    "start_time": "2022-01-02T01:40:47.080Z"
   },
   {
    "duration": 57,
    "start_time": "2022-01-02T01:40:47.209Z"
   },
   {
    "duration": 74,
    "start_time": "2022-01-02T01:40:47.269Z"
   },
   {
    "duration": 46,
    "start_time": "2022-01-02T01:40:47.345Z"
   },
   {
    "duration": 76,
    "start_time": "2022-01-02T01:40:47.394Z"
   },
   {
    "duration": 34,
    "start_time": "2022-01-02T01:40:47.472Z"
   },
   {
    "duration": 69,
    "start_time": "2022-01-02T01:40:47.508Z"
   },
   {
    "duration": 9,
    "start_time": "2022-01-02T01:40:47.580Z"
   },
   {
    "duration": 42,
    "start_time": "2022-01-02T01:40:47.591Z"
   },
   {
    "duration": 938,
    "start_time": "2022-01-02T01:40:47.665Z"
   },
   {
    "duration": 1145,
    "start_time": "2022-01-02T01:40:48.606Z"
   },
   {
    "duration": 1109,
    "start_time": "2022-01-02T01:40:49.754Z"
   },
   {
    "duration": 1236,
    "start_time": "2022-01-02T01:40:50.866Z"
   },
   {
    "duration": 17,
    "start_time": "2022-01-02T01:40:52.105Z"
   },
   {
    "duration": 55,
    "start_time": "2022-01-02T01:40:52.125Z"
   },
   {
    "duration": 6,
    "start_time": "2022-01-02T01:40:52.182Z"
   },
   {
    "duration": 7,
    "start_time": "2022-01-02T01:40:52.191Z"
   },
   {
    "duration": 14,
    "start_time": "2022-01-02T01:40:52.200Z"
   },
   {
    "duration": 47,
    "start_time": "2022-01-02T01:42:02.430Z"
   },
   {
    "duration": 58,
    "start_time": "2022-01-02T01:42:53.896Z"
   },
   {
    "duration": 41,
    "start_time": "2022-01-02T01:55:07.487Z"
   },
   {
    "duration": 7,
    "start_time": "2022-01-02T02:08:53.423Z"
   },
   {
    "duration": 7,
    "start_time": "2022-01-02T02:09:00.691Z"
   },
   {
    "duration": 1064,
    "start_time": "2022-01-02T06:40:27.953Z"
   },
   {
    "duration": 3,
    "start_time": "2022-01-02T06:40:29.018Z"
   },
   {
    "duration": 39,
    "start_time": "2022-01-02T06:40:29.023Z"
   },
   {
    "duration": 6,
    "start_time": "2022-01-02T06:40:29.064Z"
   },
   {
    "duration": 6,
    "start_time": "2022-01-02T06:40:29.071Z"
   },
   {
    "duration": 25,
    "start_time": "2022-01-02T06:40:29.079Z"
   },
   {
    "duration": 130,
    "start_time": "2022-01-02T06:40:29.105Z"
   },
   {
    "duration": 22,
    "start_time": "2022-01-02T06:40:29.236Z"
   },
   {
    "duration": 22,
    "start_time": "2022-01-02T06:40:29.260Z"
   },
   {
    "duration": 87,
    "start_time": "2022-01-02T06:40:29.284Z"
   },
   {
    "duration": 13,
    "start_time": "2022-01-02T06:40:29.372Z"
   },
   {
    "duration": 28,
    "start_time": "2022-01-02T06:40:29.387Z"
   },
   {
    "duration": 113,
    "start_time": "2022-01-02T06:40:29.416Z"
   },
   {
    "duration": 24,
    "start_time": "2022-01-02T06:40:29.531Z"
   },
   {
    "duration": 25,
    "start_time": "2022-01-02T06:40:29.557Z"
   },
   {
    "duration": 11,
    "start_time": "2022-01-02T06:40:29.584Z"
   },
   {
    "duration": 8,
    "start_time": "2022-01-02T06:40:29.597Z"
   },
   {
    "duration": 74,
    "start_time": "2022-01-02T06:40:29.607Z"
   },
   {
    "duration": 26,
    "start_time": "2022-01-02T06:40:29.683Z"
   },
   {
    "duration": 75,
    "start_time": "2022-01-02T06:40:29.711Z"
   },
   {
    "duration": 18,
    "start_time": "2022-01-02T06:40:29.787Z"
   },
   {
    "duration": 49,
    "start_time": "2022-01-02T06:40:29.806Z"
   },
   {
    "duration": 21,
    "start_time": "2022-01-02T06:40:29.856Z"
   },
   {
    "duration": 29,
    "start_time": "2022-01-02T06:40:29.878Z"
   },
   {
    "duration": 5,
    "start_time": "2022-01-02T06:40:29.908Z"
   },
   {
    "duration": 46,
    "start_time": "2022-01-02T06:40:29.915Z"
   },
   {
    "duration": 488,
    "start_time": "2022-01-02T06:40:29.964Z"
   },
   {
    "duration": 618,
    "start_time": "2022-01-02T06:40:30.453Z"
   },
   {
    "duration": 656,
    "start_time": "2022-01-02T06:40:31.073Z"
   },
   {
    "duration": 606,
    "start_time": "2022-01-02T06:40:31.730Z"
   },
   {
    "duration": 8,
    "start_time": "2022-01-02T06:40:32.338Z"
   },
   {
    "duration": 20,
    "start_time": "2022-01-02T06:40:32.347Z"
   },
   {
    "duration": 4,
    "start_time": "2022-01-02T06:40:32.368Z"
   },
   {
    "duration": 5,
    "start_time": "2022-01-02T06:40:32.373Z"
   },
   {
    "duration": 11,
    "start_time": "2022-01-02T06:40:32.379Z"
   },
   {
    "duration": 726,
    "start_time": "2022-01-02T06:41:28.160Z"
   },
   {
    "duration": 1377,
    "start_time": "2022-01-03T00:11:20.614Z"
   },
   {
    "duration": 4,
    "start_time": "2022-01-03T00:11:21.994Z"
   },
   {
    "duration": 46,
    "start_time": "2022-01-03T00:11:22.002Z"
   },
   {
    "duration": 10,
    "start_time": "2022-01-03T00:11:22.052Z"
   },
   {
    "duration": 10,
    "start_time": "2022-01-03T00:11:22.064Z"
   },
   {
    "duration": 41,
    "start_time": "2022-01-03T00:11:22.077Z"
   },
   {
    "duration": 212,
    "start_time": "2022-01-03T00:11:22.120Z"
   },
   {
    "duration": 28,
    "start_time": "2022-01-03T00:11:22.334Z"
   },
   {
    "duration": 25,
    "start_time": "2022-01-03T00:11:22.365Z"
   },
   {
    "duration": 132,
    "start_time": "2022-01-03T00:11:22.393Z"
   },
   {
    "duration": 18,
    "start_time": "2022-01-03T00:11:22.528Z"
   },
   {
    "duration": 27,
    "start_time": "2022-01-03T00:11:22.549Z"
   },
   {
    "duration": 179,
    "start_time": "2022-01-03T00:11:22.578Z"
   },
   {
    "duration": 22,
    "start_time": "2022-01-03T00:11:22.759Z"
   },
   {
    "duration": 33,
    "start_time": "2022-01-03T00:11:22.783Z"
   },
   {
    "duration": 7,
    "start_time": "2022-01-03T00:11:22.819Z"
   },
   {
    "duration": 10,
    "start_time": "2022-01-03T00:11:22.829Z"
   },
   {
    "duration": 125,
    "start_time": "2022-01-03T00:11:22.841Z"
   },
   {
    "duration": 55,
    "start_time": "2022-01-03T00:11:22.969Z"
   },
   {
    "duration": 102,
    "start_time": "2022-01-03T00:11:23.026Z"
   },
   {
    "duration": 27,
    "start_time": "2022-01-03T00:11:23.131Z"
   },
   {
    "duration": 68,
    "start_time": "2022-01-03T00:11:23.160Z"
   },
   {
    "duration": 31,
    "start_time": "2022-01-03T00:11:23.230Z"
   },
   {
    "duration": 68,
    "start_time": "2022-01-03T00:11:23.264Z"
   },
   {
    "duration": 11,
    "start_time": "2022-01-03T00:11:23.335Z"
   },
   {
    "duration": 44,
    "start_time": "2022-01-03T00:11:23.348Z"
   },
   {
    "duration": 945,
    "start_time": "2022-01-03T00:11:23.419Z"
   },
   {
    "duration": 1198,
    "start_time": "2022-01-03T00:11:24.367Z"
   },
   {
    "duration": 1140,
    "start_time": "2022-01-03T00:11:25.568Z"
   },
   {
    "duration": 1131,
    "start_time": "2022-01-03T00:11:26.711Z"
   },
   {
    "duration": 13,
    "start_time": "2022-01-03T00:11:27.844Z"
   },
   {
    "duration": 25,
    "start_time": "2022-01-03T00:11:27.860Z"
   },
   {
    "duration": 30,
    "start_time": "2022-01-03T00:11:27.888Z"
   },
   {
    "duration": 6,
    "start_time": "2022-01-03T00:11:27.921Z"
   },
   {
    "duration": 18,
    "start_time": "2022-01-03T00:11:27.929Z"
   },
   {
    "duration": 7,
    "start_time": "2022-01-03T00:20:48.941Z"
   },
   {
    "duration": 57,
    "start_time": "2022-01-03T00:22:51.777Z"
   },
   {
    "duration": 38,
    "start_time": "2022-01-03T00:22:56.415Z"
   },
   {
    "duration": 58,
    "start_time": "2022-01-03T00:23:02.504Z"
   },
   {
    "duration": 125,
    "start_time": "2022-01-03T00:23:10.378Z"
   },
   {
    "duration": 47,
    "start_time": "2022-01-03T00:23:16.707Z"
   },
   {
    "duration": 48,
    "start_time": "2022-01-03T00:23:19.902Z"
   },
   {
    "duration": 16,
    "start_time": "2022-01-03T00:24:05.639Z"
   },
   {
    "duration": 11,
    "start_time": "2022-01-03T00:25:09.608Z"
   },
   {
    "duration": 15,
    "start_time": "2022-01-03T00:25:16.895Z"
   },
   {
    "duration": 5,
    "start_time": "2022-01-03T06:20:00.721Z"
   },
   {
    "duration": 5,
    "start_time": "2022-01-03T06:20:09.389Z"
   },
   {
    "duration": 432,
    "start_time": "2022-01-03T06:20:44.245Z"
   },
   {
    "duration": 12,
    "start_time": "2022-01-03T06:21:03.168Z"
   },
   {
    "duration": 14,
    "start_time": "2022-01-03T06:21:17.506Z"
   },
   {
    "duration": 12,
    "start_time": "2022-01-03T06:21:23.622Z"
   },
   {
    "duration": 930,
    "start_time": "2022-01-03T06:23:01.782Z"
   },
   {
    "duration": 936,
    "start_time": "2022-01-03T06:23:43.749Z"
   },
   {
    "duration": 968,
    "start_time": "2022-01-03T06:23:59.609Z"
   },
   {
    "duration": 1115,
    "start_time": "2022-01-03T06:34:40.180Z"
   },
   {
    "duration": 1334,
    "start_time": "2022-01-03T06:36:07.726Z"
   },
   {
    "duration": 2414,
    "start_time": "2022-01-03T06:50:11.203Z"
   },
   {
    "duration": 1085,
    "start_time": "2022-01-03T06:51:51.594Z"
   },
   {
    "duration": 1175,
    "start_time": "2022-01-03T06:56:26.461Z"
   },
   {
    "duration": 15,
    "start_time": "2022-01-03T07:28:51.018Z"
   },
   {
    "duration": 17,
    "start_time": "2022-01-03T07:29:00.225Z"
   },
   {
    "duration": 13,
    "start_time": "2022-01-03T07:29:23.035Z"
   },
   {
    "duration": 12,
    "start_time": "2022-01-03T07:29:29.422Z"
   },
   {
    "duration": 376,
    "start_time": "2022-01-03T07:51:22.987Z"
   },
   {
    "duration": 407,
    "start_time": "2022-01-03T07:51:32.743Z"
   },
   {
    "duration": 803,
    "start_time": "2022-01-03T07:51:44.918Z"
   },
   {
    "duration": 863,
    "start_time": "2022-01-03T07:52:04.539Z"
   },
   {
    "duration": 789,
    "start_time": "2022-01-03T07:52:13.333Z"
   },
   {
    "duration": 886,
    "start_time": "2022-01-03T07:52:20.104Z"
   },
   {
    "duration": 10,
    "start_time": "2022-01-03T07:52:29.259Z"
   },
   {
    "duration": 815,
    "start_time": "2022-01-03T07:52:30.264Z"
   },
   {
    "duration": 799,
    "start_time": "2022-01-03T07:52:38.134Z"
   },
   {
    "duration": 1346,
    "start_time": "2022-01-03T07:52:40.571Z"
   },
   {
    "duration": 260,
    "start_time": "2022-01-03T07:52:54.867Z"
   },
   {
    "duration": 275,
    "start_time": "2022-01-03T07:53:03.294Z"
   },
   {
    "duration": 18122,
    "start_time": "2022-01-03T07:53:07.608Z"
   },
   {
    "duration": 261,
    "start_time": "2022-01-03T07:53:48.607Z"
   },
   {
    "duration": 301,
    "start_time": "2022-01-03T07:54:10.254Z"
   },
   {
    "duration": 316,
    "start_time": "2022-01-03T07:54:24.058Z"
   },
   {
    "duration": 6,
    "start_time": "2022-01-03T07:54:42.172Z"
   },
   {
    "duration": 6,
    "start_time": "2022-01-03T07:55:07.157Z"
   },
   {
    "duration": 8,
    "start_time": "2022-01-03T07:56:14.025Z"
   },
   {
    "duration": 7,
    "start_time": "2022-01-03T07:56:56.392Z"
   },
   {
    "duration": 5,
    "start_time": "2022-01-03T10:00:26.961Z"
   },
   {
    "duration": 9,
    "start_time": "2022-01-03T10:00:26.969Z"
   },
   {
    "duration": 46,
    "start_time": "2022-01-03T10:00:26.981Z"
   },
   {
    "duration": 11,
    "start_time": "2022-01-03T10:00:27.030Z"
   },
   {
    "duration": 9,
    "start_time": "2022-01-03T10:00:27.044Z"
   },
   {
    "duration": 27,
    "start_time": "2022-01-03T10:00:27.056Z"
   },
   {
    "duration": 233,
    "start_time": "2022-01-03T10:00:27.085Z"
   },
   {
    "duration": 27,
    "start_time": "2022-01-03T10:00:27.320Z"
   },
   {
    "duration": 24,
    "start_time": "2022-01-03T10:00:27.351Z"
   },
   {
    "duration": 130,
    "start_time": "2022-01-03T10:00:27.378Z"
   },
   {
    "duration": 20,
    "start_time": "2022-01-03T10:00:27.510Z"
   },
   {
    "duration": 31,
    "start_time": "2022-01-03T10:00:27.532Z"
   },
   {
    "duration": 180,
    "start_time": "2022-01-03T10:00:27.565Z"
   },
   {
    "duration": 23,
    "start_time": "2022-01-03T10:00:27.747Z"
   },
   {
    "duration": 27,
    "start_time": "2022-01-03T10:00:27.772Z"
   },
   {
    "duration": 20,
    "start_time": "2022-01-03T10:00:27.818Z"
   },
   {
    "duration": 19,
    "start_time": "2022-01-03T10:00:27.841Z"
   },
   {
    "duration": 99,
    "start_time": "2022-01-03T10:00:27.863Z"
   },
   {
    "duration": 57,
    "start_time": "2022-01-03T10:00:27.966Z"
   },
   {
    "duration": 72,
    "start_time": "2022-01-03T10:00:28.025Z"
   },
   {
    "duration": 42,
    "start_time": "2022-01-03T10:00:28.100Z"
   },
   {
    "duration": 45,
    "start_time": "2022-01-03T10:00:28.145Z"
   },
   {
    "duration": 52,
    "start_time": "2022-01-03T10:00:28.193Z"
   },
   {
    "duration": 41,
    "start_time": "2022-01-03T10:00:28.247Z"
   },
   {
    "duration": 34,
    "start_time": "2022-01-03T10:00:28.290Z"
   },
   {
    "duration": 52,
    "start_time": "2022-01-03T10:00:28.327Z"
   },
   {
    "duration": 961,
    "start_time": "2022-01-03T10:00:28.384Z"
   },
   {
    "duration": 1112,
    "start_time": "2022-01-03T10:00:29.348Z"
   },
   {
    "duration": 1274,
    "start_time": "2022-01-03T10:00:30.462Z"
   },
   {
    "duration": 1114,
    "start_time": "2022-01-03T10:00:31.738Z"
   },
   {
    "duration": 10,
    "start_time": "2022-01-03T10:00:32.855Z"
   },
   {
    "duration": 7,
    "start_time": "2022-01-03T10:00:32.867Z"
   },
   {
    "duration": 50,
    "start_time": "2022-01-03T10:00:32.876Z"
   },
   {
    "duration": 5,
    "start_time": "2022-01-03T10:00:32.928Z"
   },
   {
    "duration": 17,
    "start_time": "2022-01-03T10:00:32.935Z"
   },
   {
    "duration": 16,
    "start_time": "2022-01-03T10:00:32.955Z"
   },
   {
    "duration": 4,
    "start_time": "2022-01-03T10:02:03.320Z"
   },
   {
    "duration": 4,
    "start_time": "2022-01-03T10:02:04.325Z"
   },
   {
    "duration": 8,
    "start_time": "2022-01-03T10:02:14.677Z"
   },
   {
    "duration": 6,
    "start_time": "2022-01-03T10:02:34.706Z"
   },
   {
    "duration": 1054,
    "start_time": "2022-01-05T04:12:34.334Z"
   },
   {
    "duration": 2,
    "start_time": "2022-01-05T04:12:35.389Z"
   },
   {
    "duration": 37,
    "start_time": "2022-01-05T04:12:35.393Z"
   },
   {
    "duration": 6,
    "start_time": "2022-01-05T04:12:35.432Z"
   },
   {
    "duration": 6,
    "start_time": "2022-01-05T04:12:35.439Z"
   },
   {
    "duration": 21,
    "start_time": "2022-01-05T04:12:35.447Z"
   },
   {
    "duration": 128,
    "start_time": "2022-01-05T04:12:35.469Z"
   },
   {
    "duration": 18,
    "start_time": "2022-01-05T04:12:35.599Z"
   },
   {
    "duration": 21,
    "start_time": "2022-01-05T04:12:35.619Z"
   },
   {
    "duration": 69,
    "start_time": "2022-01-05T04:12:35.641Z"
   },
   {
    "duration": 29,
    "start_time": "2022-01-05T04:12:35.711Z"
   },
   {
    "duration": 26,
    "start_time": "2022-01-05T04:12:35.742Z"
   },
   {
    "duration": 173,
    "start_time": "2022-01-05T04:12:35.770Z"
   },
   {
    "duration": 24,
    "start_time": "2022-01-05T04:12:35.946Z"
   },
   {
    "duration": 21,
    "start_time": "2022-01-05T04:12:35.971Z"
   },
   {
    "duration": 5,
    "start_time": "2022-01-05T04:12:35.994Z"
   },
   {
    "duration": 10,
    "start_time": "2022-01-05T04:12:36.000Z"
   },
   {
    "duration": 75,
    "start_time": "2022-01-05T04:12:36.011Z"
   },
   {
    "duration": 26,
    "start_time": "2022-01-05T04:12:36.088Z"
   },
   {
    "duration": 54,
    "start_time": "2022-01-05T04:12:36.127Z"
   },
   {
    "duration": 18,
    "start_time": "2022-01-05T04:12:36.183Z"
   },
   {
    "duration": 46,
    "start_time": "2022-01-05T04:12:36.203Z"
   },
   {
    "duration": 20,
    "start_time": "2022-01-05T04:12:36.251Z"
   },
   {
    "duration": 28,
    "start_time": "2022-01-05T04:12:36.273Z"
   },
   {
    "duration": 7,
    "start_time": "2022-01-05T04:12:36.327Z"
   },
   {
    "duration": 31,
    "start_time": "2022-01-05T04:12:36.336Z"
   },
   {
    "duration": 452,
    "start_time": "2022-01-05T04:12:36.371Z"
   },
   {
    "duration": 576,
    "start_time": "2022-01-05T04:12:36.825Z"
   },
   {
    "duration": 626,
    "start_time": "2022-01-05T04:12:37.403Z"
   },
   {
    "duration": 576,
    "start_time": "2022-01-05T04:12:38.031Z"
   },
   {
    "duration": 7,
    "start_time": "2022-01-05T04:12:38.609Z"
   },
   {
    "duration": 12,
    "start_time": "2022-01-05T04:12:38.618Z"
   },
   {
    "duration": 17,
    "start_time": "2022-01-05T04:12:38.632Z"
   },
   {
    "duration": 2,
    "start_time": "2022-01-05T04:12:38.650Z"
   },
   {
    "duration": 4,
    "start_time": "2022-01-05T04:12:38.654Z"
   },
   {
    "duration": 7,
    "start_time": "2022-01-05T04:12:38.660Z"
   },
   {
    "duration": 424,
    "start_time": "2022-01-05T04:39:21.757Z"
   },
   {
    "duration": 451,
    "start_time": "2022-01-05T04:39:47.914Z"
   },
   {
    "duration": 17,
    "start_time": "2022-01-05T04:41:55.476Z"
   },
   {
    "duration": 3,
    "start_time": "2022-01-05T04:42:09.730Z"
   },
   {
    "duration": 5,
    "start_time": "2022-01-05T04:42:09.735Z"
   },
   {
    "duration": 34,
    "start_time": "2022-01-05T04:42:09.742Z"
   },
   {
    "duration": 5,
    "start_time": "2022-01-05T04:42:09.778Z"
   },
   {
    "duration": 6,
    "start_time": "2022-01-05T04:42:09.785Z"
   },
   {
    "duration": 22,
    "start_time": "2022-01-05T04:42:09.792Z"
   },
   {
    "duration": 118,
    "start_time": "2022-01-05T04:42:09.816Z"
   },
   {
    "duration": 17,
    "start_time": "2022-01-05T04:42:09.936Z"
   },
   {
    "duration": 19,
    "start_time": "2022-01-05T04:42:09.956Z"
   },
   {
    "duration": 75,
    "start_time": "2022-01-05T04:42:09.977Z"
   },
   {
    "duration": 13,
    "start_time": "2022-01-05T04:42:10.053Z"
   },
   {
    "duration": 21,
    "start_time": "2022-01-05T04:42:10.068Z"
   },
   {
    "duration": 108,
    "start_time": "2022-01-05T04:42:10.090Z"
   },
   {
    "duration": 14,
    "start_time": "2022-01-05T04:42:10.200Z"
   },
   {
    "duration": 19,
    "start_time": "2022-01-05T04:42:10.216Z"
   },
   {
    "duration": 5,
    "start_time": "2022-01-05T04:42:10.236Z"
   },
   {
    "duration": 7,
    "start_time": "2022-01-05T04:42:10.242Z"
   },
   {
    "duration": 80,
    "start_time": "2022-01-05T04:42:10.250Z"
   },
   {
    "duration": 24,
    "start_time": "2022-01-05T04:42:10.332Z"
   },
   {
    "duration": 43,
    "start_time": "2022-01-05T04:42:10.358Z"
   },
   {
    "duration": 38,
    "start_time": "2022-01-05T04:42:10.402Z"
   },
   {
    "duration": 27,
    "start_time": "2022-01-05T04:42:10.441Z"
   },
   {
    "duration": 20,
    "start_time": "2022-01-05T04:42:10.470Z"
   },
   {
    "duration": 49,
    "start_time": "2022-01-05T04:42:10.491Z"
   },
   {
    "duration": 6,
    "start_time": "2022-01-05T04:42:10.541Z"
   },
   {
    "duration": 32,
    "start_time": "2022-01-05T04:42:10.548Z"
   },
   {
    "duration": 453,
    "start_time": "2022-01-05T04:42:10.582Z"
   },
   {
    "duration": 625,
    "start_time": "2022-01-05T04:42:11.037Z"
   },
   {
    "duration": 568,
    "start_time": "2022-01-05T04:42:11.664Z"
   },
   {
    "duration": 568,
    "start_time": "2022-01-05T04:42:12.234Z"
   },
   {
    "duration": 6,
    "start_time": "2022-01-05T04:42:12.804Z"
   },
   {
    "duration": 17,
    "start_time": "2022-01-05T04:42:12.811Z"
   },
   {
    "duration": 13,
    "start_time": "2022-01-05T04:42:12.830Z"
   },
   {
    "duration": 2,
    "start_time": "2022-01-05T04:42:12.844Z"
   },
   {
    "duration": 3,
    "start_time": "2022-01-05T04:42:12.848Z"
   },
   {
    "duration": 7,
    "start_time": "2022-01-05T04:42:12.853Z"
   },
   {
    "duration": 556,
    "start_time": "2022-01-05T04:44:36.136Z"
   },
   {
    "duration": 5,
    "start_time": "2022-01-05T05:13:23.553Z"
   },
   {
    "duration": 6,
    "start_time": "2022-01-05T05:13:37.268Z"
   },
   {
    "duration": 9,
    "start_time": "2022-01-05T05:25:44.996Z"
   },
   {
    "duration": 4,
    "start_time": "2022-01-05T05:26:33.688Z"
   },
   {
    "duration": 8,
    "start_time": "2022-01-05T05:26:42.820Z"
   },
   {
    "duration": 13,
    "start_time": "2022-01-05T05:27:32.851Z"
   },
   {
    "duration": 8,
    "start_time": "2022-01-05T05:27:38.327Z"
   },
   {
    "duration": 391,
    "start_time": "2022-01-05T05:27:54.566Z"
   },
   {
    "duration": 10,
    "start_time": "2022-01-05T05:30:18.469Z"
   },
   {
    "duration": 4,
    "start_time": "2022-01-05T05:30:21.376Z"
   },
   {
    "duration": 373,
    "start_time": "2022-01-05T05:30:33.415Z"
   },
   {
    "duration": 4,
    "start_time": "2022-01-05T05:30:34.930Z"
   },
   {
    "duration": 328,
    "start_time": "2022-01-05T05:31:04.617Z"
   },
   {
    "duration": 9,
    "start_time": "2022-01-05T05:31:21.289Z"
   },
   {
    "duration": 336,
    "start_time": "2022-01-05T05:31:41.236Z"
   },
   {
    "duration": 2,
    "start_time": "2022-01-05T05:33:32.466Z"
   },
   {
    "duration": 4,
    "start_time": "2022-01-05T05:33:38.114Z"
   },
   {
    "duration": 6,
    "start_time": "2022-01-05T05:33:41.627Z"
   },
   {
    "duration": 322,
    "start_time": "2022-01-05T05:34:50.116Z"
   },
   {
    "duration": 320,
    "start_time": "2022-01-05T05:34:56.437Z"
   },
   {
    "duration": 390,
    "start_time": "2022-01-05T05:37:10.512Z"
   },
   {
    "duration": 346,
    "start_time": "2022-01-05T05:37:16.779Z"
   },
   {
    "duration": 2,
    "start_time": "2022-01-05T05:37:25.674Z"
   },
   {
    "duration": 5,
    "start_time": "2022-01-05T05:37:25.678Z"
   },
   {
    "duration": 33,
    "start_time": "2022-01-05T05:37:25.685Z"
   },
   {
    "duration": 5,
    "start_time": "2022-01-05T05:37:25.719Z"
   },
   {
    "duration": 5,
    "start_time": "2022-01-05T05:37:25.726Z"
   },
   {
    "duration": 21,
    "start_time": "2022-01-05T05:37:25.733Z"
   },
   {
    "duration": 127,
    "start_time": "2022-01-05T05:37:25.755Z"
   },
   {
    "duration": 18,
    "start_time": "2022-01-05T05:37:25.883Z"
   },
   {
    "duration": 25,
    "start_time": "2022-01-05T05:37:25.903Z"
   },
   {
    "duration": 68,
    "start_time": "2022-01-05T05:37:25.929Z"
   },
   {
    "duration": 12,
    "start_time": "2022-01-05T05:37:25.999Z"
   },
   {
    "duration": 21,
    "start_time": "2022-01-05T05:37:26.027Z"
   },
   {
    "duration": 106,
    "start_time": "2022-01-05T05:37:26.049Z"
   },
   {
    "duration": 14,
    "start_time": "2022-01-05T05:37:26.157Z"
   },
   {
    "duration": 19,
    "start_time": "2022-01-05T05:37:26.173Z"
   },
   {
    "duration": 4,
    "start_time": "2022-01-05T05:37:26.194Z"
   },
   {
    "duration": 8,
    "start_time": "2022-01-05T05:37:26.199Z"
   },
   {
    "duration": 73,
    "start_time": "2022-01-05T05:37:26.208Z"
   },
   {
    "duration": 25,
    "start_time": "2022-01-05T05:37:26.283Z"
   },
   {
    "duration": 54,
    "start_time": "2022-01-05T05:37:26.310Z"
   },
   {
    "duration": 17,
    "start_time": "2022-01-05T05:37:26.366Z"
   },
   {
    "duration": 55,
    "start_time": "2022-01-05T05:37:26.384Z"
   },
   {
    "duration": 20,
    "start_time": "2022-01-05T05:37:26.440Z"
   },
   {
    "duration": 25,
    "start_time": "2022-01-05T05:37:26.461Z"
   },
   {
    "duration": 5,
    "start_time": "2022-01-05T05:37:26.487Z"
   },
   {
    "duration": 139,
    "start_time": "2022-01-05T05:37:26.493Z"
   },
   {
    "duration": 16,
    "start_time": "2022-01-05T05:37:26.634Z"
   },
   {
    "duration": 450,
    "start_time": "2022-01-05T05:37:26.652Z"
   },
   {
    "duration": 583,
    "start_time": "2022-01-05T05:37:27.104Z"
   },
   {
    "duration": 560,
    "start_time": "2022-01-05T05:37:27.689Z"
   },
   {
    "duration": 635,
    "start_time": "2022-01-05T05:37:28.251Z"
   },
   {
    "duration": 8,
    "start_time": "2022-01-05T05:37:28.888Z"
   },
   {
    "duration": 6,
    "start_time": "2022-01-05T05:37:28.897Z"
   },
   {
    "duration": 27,
    "start_time": "2022-01-05T05:37:28.905Z"
   },
   {
    "duration": 14,
    "start_time": "2022-01-05T05:37:28.934Z"
   },
   {
    "duration": 3,
    "start_time": "2022-01-05T05:37:28.949Z"
   },
   {
    "duration": 4,
    "start_time": "2022-01-05T05:37:28.954Z"
   },
   {
    "duration": 6,
    "start_time": "2022-01-05T05:37:28.960Z"
   },
   {
    "duration": 359,
    "start_time": "2022-01-05T05:37:38.280Z"
   },
   {
    "duration": 3,
    "start_time": "2022-01-05T05:37:57.050Z"
   },
   {
    "duration": 6,
    "start_time": "2022-01-05T05:37:57.054Z"
   },
   {
    "duration": 33,
    "start_time": "2022-01-05T05:37:57.061Z"
   },
   {
    "duration": 5,
    "start_time": "2022-01-05T05:37:57.096Z"
   },
   {
    "duration": 6,
    "start_time": "2022-01-05T05:37:57.102Z"
   },
   {
    "duration": 21,
    "start_time": "2022-01-05T05:37:57.110Z"
   },
   {
    "duration": 124,
    "start_time": "2022-01-05T05:37:57.132Z"
   },
   {
    "duration": 17,
    "start_time": "2022-01-05T05:37:57.258Z"
   },
   {
    "duration": 19,
    "start_time": "2022-01-05T05:37:57.278Z"
   },
   {
    "duration": 73,
    "start_time": "2022-01-05T05:37:57.299Z"
   },
   {
    "duration": 12,
    "start_time": "2022-01-05T05:37:57.374Z"
   },
   {
    "duration": 21,
    "start_time": "2022-01-05T05:37:57.388Z"
   },
   {
    "duration": 110,
    "start_time": "2022-01-05T05:37:57.411Z"
   },
   {
    "duration": 14,
    "start_time": "2022-01-05T05:37:57.523Z"
   },
   {
    "duration": 20,
    "start_time": "2022-01-05T05:37:57.539Z"
   },
   {
    "duration": 5,
    "start_time": "2022-01-05T05:37:57.560Z"
   },
   {
    "duration": 6,
    "start_time": "2022-01-05T05:37:57.566Z"
   },
   {
    "duration": 79,
    "start_time": "2022-01-05T05:37:57.574Z"
   },
   {
    "duration": 24,
    "start_time": "2022-01-05T05:37:57.654Z"
   },
   {
    "duration": 56,
    "start_time": "2022-01-05T05:37:57.680Z"
   },
   {
    "duration": 17,
    "start_time": "2022-01-05T05:37:57.738Z"
   },
   {
    "duration": 29,
    "start_time": "2022-01-05T05:37:57.756Z"
   },
   {
    "duration": 44,
    "start_time": "2022-01-05T05:37:57.787Z"
   },
   {
    "duration": 26,
    "start_time": "2022-01-05T05:37:57.832Z"
   },
   {
    "duration": 6,
    "start_time": "2022-01-05T05:37:57.859Z"
   },
   {
    "duration": 32,
    "start_time": "2022-01-05T05:37:57.866Z"
   },
   {
    "duration": 44,
    "start_time": "2022-01-05T05:37:57.900Z"
   },
   {
    "duration": 443,
    "start_time": "2022-01-05T05:37:57.945Z"
   },
   {
    "duration": 568,
    "start_time": "2022-01-05T05:37:58.390Z"
   },
   {
    "duration": 568,
    "start_time": "2022-01-05T05:37:58.959Z"
   },
   {
    "duration": 645,
    "start_time": "2022-01-05T05:37:59.528Z"
   },
   {
    "duration": 6,
    "start_time": "2022-01-05T05:38:00.175Z"
   },
   {
    "duration": 4,
    "start_time": "2022-01-05T05:38:00.182Z"
   },
   {
    "duration": 9,
    "start_time": "2022-01-05T05:38:00.188Z"
   },
   {
    "duration": 28,
    "start_time": "2022-01-05T05:38:00.199Z"
   },
   {
    "duration": 2,
    "start_time": "2022-01-05T05:38:00.228Z"
   },
   {
    "duration": 6,
    "start_time": "2022-01-05T05:38:00.232Z"
   },
   {
    "duration": 12,
    "start_time": "2022-01-05T05:38:00.239Z"
   },
   {
    "duration": 18,
    "start_time": "2022-01-05T05:38:06.537Z"
   },
   {
    "duration": 5,
    "start_time": "2022-01-05T05:39:34.282Z"
   },
   {
    "duration": 9,
    "start_time": "2022-01-05T05:46:34.965Z"
   },
   {
    "duration": 7,
    "start_time": "2022-01-05T05:46:35.729Z"
   },
   {
    "duration": 10,
    "start_time": "2022-01-05T05:46:53.691Z"
   },
   {
    "duration": 9,
    "start_time": "2022-01-05T05:46:55.753Z"
   },
   {
    "duration": 15,
    "start_time": "2022-01-05T05:47:58.823Z"
   },
   {
    "duration": 12,
    "start_time": "2022-01-05T05:50:11.189Z"
   },
   {
    "duration": 11,
    "start_time": "2022-01-05T05:50:16.728Z"
   },
   {
    "duration": 6,
    "start_time": "2022-01-05T05:50:21.656Z"
   },
   {
    "duration": 121,
    "start_time": "2022-01-05T05:50:48.739Z"
   },
   {
    "duration": 2,
    "start_time": "2022-01-05T05:51:04.414Z"
   },
   {
    "duration": 4,
    "start_time": "2022-01-05T05:51:07.563Z"
   },
   {
    "duration": 2,
    "start_time": "2022-01-05T05:51:20.402Z"
   },
   {
    "duration": 5,
    "start_time": "2022-01-05T05:51:26.626Z"
   },
   {
    "duration": 6,
    "start_time": "2022-01-05T05:51:33.157Z"
   },
   {
    "duration": 3,
    "start_time": "2022-01-05T05:54:11.442Z"
   },
   {
    "duration": 4,
    "start_time": "2022-01-05T05:55:01.321Z"
   },
   {
    "duration": 4,
    "start_time": "2022-01-05T05:55:20.035Z"
   },
   {
    "duration": 5,
    "start_time": "2022-01-05T05:56:31.324Z"
   },
   {
    "duration": 3,
    "start_time": "2022-01-05T06:06:23.295Z"
   },
   {
    "duration": 10,
    "start_time": "2022-01-05T06:06:23.299Z"
   },
   {
    "duration": 35,
    "start_time": "2022-01-05T06:06:23.311Z"
   },
   {
    "duration": 4,
    "start_time": "2022-01-05T06:06:23.348Z"
   },
   {
    "duration": 7,
    "start_time": "2022-01-05T06:06:23.353Z"
   },
   {
    "duration": 22,
    "start_time": "2022-01-05T06:06:23.361Z"
   },
   {
    "duration": 117,
    "start_time": "2022-01-05T06:06:23.384Z"
   },
   {
    "duration": 26,
    "start_time": "2022-01-05T06:06:23.502Z"
   },
   {
    "duration": 18,
    "start_time": "2022-01-05T06:06:23.531Z"
   },
   {
    "duration": 65,
    "start_time": "2022-01-05T06:06:23.551Z"
   },
   {
    "duration": 21,
    "start_time": "2022-01-05T06:06:23.617Z"
   },
   {
    "duration": 20,
    "start_time": "2022-01-05T06:06:23.640Z"
   },
   {
    "duration": 104,
    "start_time": "2022-01-05T06:06:23.661Z"
   },
   {
    "duration": 15,
    "start_time": "2022-01-05T06:06:23.766Z"
   },
   {
    "duration": 19,
    "start_time": "2022-01-05T06:06:23.783Z"
   },
   {
    "duration": 7,
    "start_time": "2022-01-05T06:06:23.804Z"
   },
   {
    "duration": 15,
    "start_time": "2022-01-05T06:06:23.812Z"
   },
   {
    "duration": 62,
    "start_time": "2022-01-05T06:06:23.829Z"
   },
   {
    "duration": 40,
    "start_time": "2022-01-05T06:06:23.893Z"
   },
   {
    "duration": 47,
    "start_time": "2022-01-05T06:06:23.934Z"
   },
   {
    "duration": 16,
    "start_time": "2022-01-05T06:06:23.983Z"
   },
   {
    "duration": 50,
    "start_time": "2022-01-05T06:06:24.001Z"
   },
   {
    "duration": 21,
    "start_time": "2022-01-05T06:06:24.052Z"
   },
   {
    "duration": 28,
    "start_time": "2022-01-05T06:06:24.074Z"
   },
   {
    "duration": 27,
    "start_time": "2022-01-05T06:06:24.103Z"
   },
   {
    "duration": 35,
    "start_time": "2022-01-05T06:06:24.132Z"
   },
   {
    "duration": 458,
    "start_time": "2022-01-05T06:06:24.170Z"
   },
   {
    "duration": 577,
    "start_time": "2022-01-05T06:06:24.629Z"
   },
   {
    "duration": 625,
    "start_time": "2022-01-05T06:06:25.208Z"
   },
   {
    "duration": 576,
    "start_time": "2022-01-05T06:06:25.834Z"
   },
   {
    "duration": 6,
    "start_time": "2022-01-05T06:06:26.412Z"
   },
   {
    "duration": 10,
    "start_time": "2022-01-05T06:06:26.419Z"
   },
   {
    "duration": 9,
    "start_time": "2022-01-05T06:06:26.430Z"
   },
   {
    "duration": 22,
    "start_time": "2022-01-05T06:06:26.441Z"
   },
   {
    "duration": 4,
    "start_time": "2022-01-05T06:06:26.465Z"
   },
   {
    "duration": 7,
    "start_time": "2022-01-05T06:06:26.471Z"
   },
   {
    "duration": 11,
    "start_time": "2022-01-05T06:06:26.479Z"
   },
   {
    "duration": 5,
    "start_time": "2022-01-05T06:06:26.491Z"
   },
   {
    "duration": 735,
    "start_time": "2022-01-05T06:25:36.551Z"
   },
   {
    "duration": 700,
    "start_time": "2022-01-05T06:25:47.827Z"
   },
   {
    "duration": 1560,
    "start_time": "2022-01-05T06:29:16.688Z"
   },
   {
    "duration": 640,
    "start_time": "2022-01-05T06:29:45.903Z"
   },
   {
    "duration": 572,
    "start_time": "2022-01-05T06:29:48.752Z"
   },
   {
    "duration": 1865,
    "start_time": "2022-01-05T06:30:12.081Z"
   },
   {
    "duration": 653,
    "start_time": "2022-01-05T06:30:22.063Z"
   },
   {
    "duration": 917,
    "start_time": "2022-01-05T06:35:32.974Z"
   },
   {
    "duration": 2,
    "start_time": "2022-01-05T06:35:33.893Z"
   },
   {
    "duration": 66,
    "start_time": "2022-01-05T06:35:33.896Z"
   },
   {
    "duration": 8,
    "start_time": "2022-01-05T06:35:33.964Z"
   },
   {
    "duration": 6,
    "start_time": "2022-01-05T06:35:33.973Z"
   },
   {
    "duration": 22,
    "start_time": "2022-01-05T06:35:33.980Z"
   },
   {
    "duration": 127,
    "start_time": "2022-01-05T06:35:34.003Z"
   },
   {
    "duration": 19,
    "start_time": "2022-01-05T06:35:34.132Z"
   },
   {
    "duration": 22,
    "start_time": "2022-01-05T06:35:34.153Z"
   },
   {
    "duration": 91,
    "start_time": "2022-01-05T06:35:34.176Z"
   },
   {
    "duration": 14,
    "start_time": "2022-01-05T06:35:34.269Z"
   },
   {
    "duration": 23,
    "start_time": "2022-01-05T06:35:34.285Z"
   },
   {
    "duration": 121,
    "start_time": "2022-01-05T06:35:34.310Z"
   },
   {
    "duration": 17,
    "start_time": "2022-01-05T06:35:34.432Z"
   },
   {
    "duration": 19,
    "start_time": "2022-01-05T06:35:34.450Z"
   },
   {
    "duration": 8,
    "start_time": "2022-01-05T06:35:34.470Z"
   },
   {
    "duration": 8,
    "start_time": "2022-01-05T06:35:34.480Z"
   },
   {
    "duration": 69,
    "start_time": "2022-01-05T06:35:34.489Z"
   },
   {
    "duration": 25,
    "start_time": "2022-01-05T06:35:34.559Z"
   },
   {
    "duration": 73,
    "start_time": "2022-01-05T06:35:34.585Z"
   },
   {
    "duration": 18,
    "start_time": "2022-01-05T06:35:34.660Z"
   },
   {
    "duration": 48,
    "start_time": "2022-01-05T06:35:34.679Z"
   },
   {
    "duration": 22,
    "start_time": "2022-01-05T06:35:34.730Z"
   },
   {
    "duration": 29,
    "start_time": "2022-01-05T06:35:34.754Z"
   },
   {
    "duration": 6,
    "start_time": "2022-01-05T06:35:34.784Z"
   },
   {
    "duration": 51,
    "start_time": "2022-01-05T06:35:34.792Z"
   },
   {
    "duration": 450,
    "start_time": "2022-01-05T06:35:34.845Z"
   },
   {
    "duration": 607,
    "start_time": "2022-01-05T06:35:35.297Z"
   },
   {
    "duration": 633,
    "start_time": "2022-01-05T06:35:35.905Z"
   },
   {
    "duration": 587,
    "start_time": "2022-01-05T06:35:36.540Z"
   },
   {
    "duration": 6,
    "start_time": "2022-01-05T06:35:37.128Z"
   },
   {
    "duration": 6,
    "start_time": "2022-01-05T06:35:37.135Z"
   },
   {
    "duration": 8,
    "start_time": "2022-01-05T06:35:37.142Z"
   },
   {
    "duration": 17,
    "start_time": "2022-01-05T06:35:37.152Z"
   },
   {
    "duration": 8,
    "start_time": "2022-01-05T06:35:37.170Z"
   },
   {
    "duration": 2,
    "start_time": "2022-01-05T06:35:37.180Z"
   },
   {
    "duration": 7,
    "start_time": "2022-01-05T06:35:37.183Z"
   },
   {
    "duration": 6,
    "start_time": "2022-01-05T06:35:37.191Z"
   },
   {
    "duration": 1416,
    "start_time": "2022-01-06T12:26:00.940Z"
   },
   {
    "duration": 4,
    "start_time": "2022-01-06T12:26:02.359Z"
   },
   {
    "duration": 47,
    "start_time": "2022-01-06T12:26:02.366Z"
   },
   {
    "duration": 10,
    "start_time": "2022-01-06T12:26:02.417Z"
   },
   {
    "duration": 9,
    "start_time": "2022-01-06T12:26:02.429Z"
   },
   {
    "duration": 34,
    "start_time": "2022-01-06T12:26:02.440Z"
   },
   {
    "duration": 220,
    "start_time": "2022-01-06T12:26:02.477Z"
   },
   {
    "duration": 29,
    "start_time": "2022-01-06T12:26:02.700Z"
   },
   {
    "duration": 39,
    "start_time": "2022-01-06T12:26:02.733Z"
   },
   {
    "duration": 118,
    "start_time": "2022-01-06T12:26:02.775Z"
   },
   {
    "duration": 21,
    "start_time": "2022-01-06T12:26:02.896Z"
   },
   {
    "duration": 44,
    "start_time": "2022-01-06T12:26:02.920Z"
   },
   {
    "duration": 229,
    "start_time": "2022-01-06T12:26:02.968Z"
   },
   {
    "duration": 37,
    "start_time": "2022-01-06T12:26:03.200Z"
   },
   {
    "duration": 40,
    "start_time": "2022-01-06T12:26:03.240Z"
   },
   {
    "duration": 10,
    "start_time": "2022-01-06T12:26:03.283Z"
   },
   {
    "duration": 14,
    "start_time": "2022-01-06T12:26:03.296Z"
   },
   {
    "duration": 208,
    "start_time": "2022-01-06T12:26:03.313Z"
   },
   {
    "duration": 60,
    "start_time": "2022-01-06T12:26:03.524Z"
   },
   {
    "duration": 106,
    "start_time": "2022-01-06T12:26:03.587Z"
   },
   {
    "duration": 28,
    "start_time": "2022-01-06T12:26:03.696Z"
   },
   {
    "duration": 74,
    "start_time": "2022-01-06T12:26:03.727Z"
   },
   {
    "duration": 33,
    "start_time": "2022-01-06T12:26:03.806Z"
   },
   {
    "duration": 61,
    "start_time": "2022-01-06T12:26:03.843Z"
   },
   {
    "duration": 9,
    "start_time": "2022-01-06T12:26:03.906Z"
   },
   {
    "duration": 89,
    "start_time": "2022-01-06T12:26:03.917Z"
   },
   {
    "duration": 1066,
    "start_time": "2022-01-06T12:26:04.010Z"
   },
   {
    "duration": 1139,
    "start_time": "2022-01-06T12:26:05.078Z"
   },
   {
    "duration": 1204,
    "start_time": "2022-01-06T12:26:06.219Z"
   },
   {
    "duration": 1243,
    "start_time": "2022-01-06T12:26:07.425Z"
   },
   {
    "duration": 11,
    "start_time": "2022-01-06T12:26:08.671Z"
   },
   {
    "duration": 7,
    "start_time": "2022-01-06T12:26:08.685Z"
   },
   {
    "duration": 9,
    "start_time": "2022-01-06T12:26:08.694Z"
   },
   {
    "duration": 64,
    "start_time": "2022-01-06T12:26:08.705Z"
   },
   {
    "duration": 16,
    "start_time": "2022-01-06T12:26:08.772Z"
   },
   {
    "duration": 3,
    "start_time": "2022-01-06T12:26:08.790Z"
   },
   {
    "duration": 8,
    "start_time": "2022-01-06T12:26:08.796Z"
   },
   {
    "duration": 11,
    "start_time": "2022-01-06T12:26:08.808Z"
   },
   {
    "duration": 7653,
    "start_time": "2022-01-06T12:32:02.845Z"
   },
   {
    "duration": 8,
    "start_time": "2022-01-06T12:32:26.947Z"
   },
   {
    "duration": 6,
    "start_time": "2022-01-06T13:20:05.217Z"
   },
   {
    "duration": 20,
    "start_time": "2022-01-06T13:20:05.810Z"
   },
   {
    "duration": 109,
    "start_time": "2022-01-07T01:06:05.092Z"
   },
   {
    "duration": 1332,
    "start_time": "2022-01-07T01:06:12.554Z"
   },
   {
    "duration": 3,
    "start_time": "2022-01-07T01:06:13.889Z"
   },
   {
    "duration": 44,
    "start_time": "2022-01-07T01:06:13.895Z"
   },
   {
    "duration": 10,
    "start_time": "2022-01-07T01:06:13.942Z"
   },
   {
    "duration": 12,
    "start_time": "2022-01-07T01:06:13.954Z"
   },
   {
    "duration": 36,
    "start_time": "2022-01-07T01:06:13.968Z"
   },
   {
    "duration": 212,
    "start_time": "2022-01-07T01:06:14.017Z"
   },
   {
    "duration": 27,
    "start_time": "2022-01-07T01:06:14.232Z"
   },
   {
    "duration": 26,
    "start_time": "2022-01-07T01:06:14.263Z"
   },
   {
    "duration": 131,
    "start_time": "2022-01-07T01:06:14.292Z"
   },
   {
    "duration": 21,
    "start_time": "2022-01-07T01:06:14.425Z"
   },
   {
    "duration": 28,
    "start_time": "2022-01-07T01:06:14.448Z"
   },
   {
    "duration": 99,
    "start_time": "2022-01-07T01:06:14.478Z"
   },
   {
    "duration": -4827,
    "start_time": "2022-01-07T01:06:19.407Z"
   },
   {
    "duration": -4828,
    "start_time": "2022-01-07T01:06:19.409Z"
   },
   {
    "duration": -4830,
    "start_time": "2022-01-07T01:06:19.413Z"
   },
   {
    "duration": -4831,
    "start_time": "2022-01-07T01:06:19.415Z"
   },
   {
    "duration": -4832,
    "start_time": "2022-01-07T01:06:19.418Z"
   },
   {
    "duration": -5020,
    "start_time": "2022-01-07T01:06:19.607Z"
   },
   {
    "duration": -5026,
    "start_time": "2022-01-07T01:06:19.614Z"
   },
   {
    "duration": -5032,
    "start_time": "2022-01-07T01:06:19.622Z"
   },
   {
    "duration": -5040,
    "start_time": "2022-01-07T01:06:19.631Z"
   },
   {
    "duration": -5042,
    "start_time": "2022-01-07T01:06:19.635Z"
   },
   {
    "duration": -5048,
    "start_time": "2022-01-07T01:06:19.642Z"
   },
   {
    "duration": -5052,
    "start_time": "2022-01-07T01:06:19.648Z"
   },
   {
    "duration": -5059,
    "start_time": "2022-01-07T01:06:19.656Z"
   },
   {
    "duration": -5064,
    "start_time": "2022-01-07T01:06:19.663Z"
   },
   {
    "duration": -5074,
    "start_time": "2022-01-07T01:06:19.674Z"
   },
   {
    "duration": -5078,
    "start_time": "2022-01-07T01:06:19.680Z"
   },
   {
    "duration": -5080,
    "start_time": "2022-01-07T01:06:19.683Z"
   },
   {
    "duration": -5087,
    "start_time": "2022-01-07T01:06:19.691Z"
   },
   {
    "duration": -5096,
    "start_time": "2022-01-07T01:06:19.701Z"
   },
   {
    "duration": -5103,
    "start_time": "2022-01-07T01:06:19.709Z"
   },
   {
    "duration": -5158,
    "start_time": "2022-01-07T01:06:19.766Z"
   },
   {
    "duration": -5164,
    "start_time": "2022-01-07T01:06:19.773Z"
   },
   {
    "duration": -5171,
    "start_time": "2022-01-07T01:06:19.781Z"
   },
   {
    "duration": -5177,
    "start_time": "2022-01-07T01:06:19.788Z"
   },
   {
    "duration": -5187,
    "start_time": "2022-01-07T01:06:19.800Z"
   },
   {
    "duration": -5193,
    "start_time": "2022-01-07T01:06:19.807Z"
   },
   {
    "duration": -5198,
    "start_time": "2022-01-07T01:06:19.813Z"
   },
   {
    "duration": 91,
    "start_time": "2022-01-07T01:06:22.517Z"
   },
   {
    "duration": 90,
    "start_time": "2022-01-07T01:07:17.057Z"
   },
   {
    "duration": 213,
    "start_time": "2022-01-07T01:10:09.822Z"
   },
   {
    "duration": 4,
    "start_time": "2022-01-07T01:10:12.600Z"
   },
   {
    "duration": 10,
    "start_time": "2022-01-07T01:10:12.607Z"
   },
   {
    "duration": 40,
    "start_time": "2022-01-07T01:10:12.620Z"
   },
   {
    "duration": 9,
    "start_time": "2022-01-07T01:10:12.662Z"
   },
   {
    "duration": 14,
    "start_time": "2022-01-07T01:10:12.673Z"
   },
   {
    "duration": 48,
    "start_time": "2022-01-07T01:10:12.689Z"
   },
   {
    "duration": 210,
    "start_time": "2022-01-07T01:10:12.740Z"
   },
   {
    "duration": 29,
    "start_time": "2022-01-07T01:10:12.952Z"
   },
   {
    "duration": 41,
    "start_time": "2022-01-07T01:10:12.987Z"
   },
   {
    "duration": 130,
    "start_time": "2022-01-07T01:10:13.032Z"
   },
   {
    "duration": 21,
    "start_time": "2022-01-07T01:10:13.165Z"
   },
   {
    "duration": 44,
    "start_time": "2022-01-07T01:10:13.189Z"
   },
   {
    "duration": 198,
    "start_time": "2022-01-07T01:10:13.236Z"
   },
   {
    "duration": 26,
    "start_time": "2022-01-07T01:10:13.436Z"
   },
   {
    "duration": 26,
    "start_time": "2022-01-07T01:10:13.465Z"
   },
   {
    "duration": 28,
    "start_time": "2022-01-07T01:10:13.493Z"
   },
   {
    "duration": 8,
    "start_time": "2022-01-07T01:10:13.523Z"
   },
   {
    "duration": 118,
    "start_time": "2022-01-07T01:10:13.533Z"
   },
   {
    "duration": 40,
    "start_time": "2022-01-07T01:10:13.653Z"
   },
   {
    "duration": 101,
    "start_time": "2022-01-07T01:10:13.695Z"
   },
   {
    "duration": 44,
    "start_time": "2022-01-07T01:10:13.799Z"
   },
   {
    "duration": 47,
    "start_time": "2022-01-07T01:10:13.845Z"
   },
   {
    "duration": 53,
    "start_time": "2022-01-07T01:10:13.894Z"
   },
   {
    "duration": 45,
    "start_time": "2022-01-07T01:10:13.949Z"
   },
   {
    "duration": 10,
    "start_time": "2022-01-07T01:10:14.018Z"
   },
   {
    "duration": 74,
    "start_time": "2022-01-07T01:10:14.030Z"
   },
   {
    "duration": 958,
    "start_time": "2022-01-07T01:10:14.109Z"
   },
   {
    "duration": 6,
    "start_time": "2022-01-07T01:10:15.070Z"
   },
   {
    "duration": 1382,
    "start_time": "2022-01-07T01:10:15.078Z"
   },
   {
    "duration": 1127,
    "start_time": "2022-01-07T01:10:16.462Z"
   },
   {
    "duration": 1105,
    "start_time": "2022-01-07T01:10:17.591Z"
   },
   {
    "duration": 22,
    "start_time": "2022-01-07T01:10:18.699Z"
   },
   {
    "duration": 7,
    "start_time": "2022-01-07T01:10:18.723Z"
   },
   {
    "duration": 9,
    "start_time": "2022-01-07T01:10:18.732Z"
   },
   {
    "duration": 27,
    "start_time": "2022-01-07T01:10:18.743Z"
   },
   {
    "duration": 47,
    "start_time": "2022-01-07T01:10:18.772Z"
   },
   {
    "duration": 6,
    "start_time": "2022-01-07T01:10:18.821Z"
   },
   {
    "duration": 8,
    "start_time": "2022-01-07T01:10:18.830Z"
   },
   {
    "duration": 7,
    "start_time": "2022-01-07T01:10:18.841Z"
   },
   {
    "duration": 107,
    "start_time": "2022-01-07T01:18:17.666Z"
   },
   {
    "duration": 90,
    "start_time": "2022-01-07T01:23:24.241Z"
   },
   {
    "duration": 8,
    "start_time": "2022-01-07T01:23:37.609Z"
   },
   {
    "duration": 14,
    "start_time": "2022-01-07T01:23:54.628Z"
   },
   {
    "duration": 86,
    "start_time": "2022-01-07T01:24:20.756Z"
   },
   {
    "duration": 86,
    "start_time": "2022-01-07T01:25:43.547Z"
   },
   {
    "duration": 83,
    "start_time": "2022-01-07T01:28:22.512Z"
   },
   {
    "duration": 89,
    "start_time": "2022-01-07T01:28:30.979Z"
   },
   {
    "duration": 4,
    "start_time": "2022-01-07T01:28:49.285Z"
   },
   {
    "duration": 5,
    "start_time": "2022-01-07T01:28:49.292Z"
   },
   {
    "duration": 37,
    "start_time": "2022-01-07T01:28:49.300Z"
   },
   {
    "duration": 9,
    "start_time": "2022-01-07T01:28:49.340Z"
   },
   {
    "duration": 9,
    "start_time": "2022-01-07T01:28:49.351Z"
   },
   {
    "duration": 58,
    "start_time": "2022-01-07T01:28:49.362Z"
   },
   {
    "duration": 201,
    "start_time": "2022-01-07T01:28:49.422Z"
   },
   {
    "duration": 27,
    "start_time": "2022-01-07T01:28:49.626Z"
   },
   {
    "duration": 22,
    "start_time": "2022-01-07T01:28:49.657Z"
   },
   {
    "duration": 128,
    "start_time": "2022-01-07T01:28:49.682Z"
   },
   {
    "duration": 19,
    "start_time": "2022-01-07T01:28:49.816Z"
   },
   {
    "duration": 26,
    "start_time": "2022-01-07T01:28:49.837Z"
   },
   {
    "duration": 197,
    "start_time": "2022-01-07T01:28:49.865Z"
   },
   {
    "duration": 23,
    "start_time": "2022-01-07T01:28:50.065Z"
   },
   {
    "duration": 35,
    "start_time": "2022-01-07T01:28:50.090Z"
   },
   {
    "duration": 11,
    "start_time": "2022-01-07T01:28:50.127Z"
   },
   {
    "duration": 11,
    "start_time": "2022-01-07T01:28:50.140Z"
   },
   {
    "duration": 124,
    "start_time": "2022-01-07T01:28:50.154Z"
   },
   {
    "duration": 53,
    "start_time": "2022-01-07T01:28:50.280Z"
   },
   {
    "duration": 104,
    "start_time": "2022-01-07T01:28:50.336Z"
   },
   {
    "duration": 34,
    "start_time": "2022-01-07T01:28:50.443Z"
   },
   {
    "duration": 77,
    "start_time": "2022-01-07T01:28:50.480Z"
   },
   {
    "duration": 34,
    "start_time": "2022-01-07T01:28:50.560Z"
   },
   {
    "duration": 65,
    "start_time": "2022-01-07T01:28:50.597Z"
   },
   {
    "duration": 9,
    "start_time": "2022-01-07T01:28:50.665Z"
   },
   {
    "duration": 500,
    "start_time": "2022-01-07T01:28:50.677Z"
   },
   {
    "duration": -5142,
    "start_time": "2022-01-07T01:28:56.322Z"
   },
   {
    "duration": -5147,
    "start_time": "2022-01-07T01:28:56.329Z"
   },
   {
    "duration": -5153,
    "start_time": "2022-01-07T01:28:56.337Z"
   },
   {
    "duration": -5159,
    "start_time": "2022-01-07T01:28:56.344Z"
   },
   {
    "duration": -5165,
    "start_time": "2022-01-07T01:28:56.351Z"
   },
   {
    "duration": -5170,
    "start_time": "2022-01-07T01:28:56.358Z"
   },
   {
    "duration": -5182,
    "start_time": "2022-01-07T01:28:56.371Z"
   },
   {
    "duration": -5188,
    "start_time": "2022-01-07T01:28:56.378Z"
   },
   {
    "duration": -5200,
    "start_time": "2022-01-07T01:28:56.391Z"
   },
   {
    "duration": -5206,
    "start_time": "2022-01-07T01:28:56.398Z"
   },
   {
    "duration": -5212,
    "start_time": "2022-01-07T01:28:56.406Z"
   },
   {
    "duration": -5218,
    "start_time": "2022-01-07T01:28:56.413Z"
   },
   {
    "duration": -5224,
    "start_time": "2022-01-07T01:28:56.420Z"
   },
   {
    "duration": 80,
    "start_time": "2022-01-07T01:29:11.573Z"
   },
   {
    "duration": 48,
    "start_time": "2022-01-07T01:30:19.545Z"
   },
   {
    "duration": 168,
    "start_time": "2022-01-07T01:30:31.489Z"
   },
   {
    "duration": 75,
    "start_time": "2022-01-07T01:30:50.298Z"
   },
   {
    "duration": 51,
    "start_time": "2022-01-07T01:31:03.232Z"
   },
   {
    "duration": 4,
    "start_time": "2022-01-07T01:31:38.321Z"
   },
   {
    "duration": 19,
    "start_time": "2022-01-07T01:31:38.328Z"
   },
   {
    "duration": 58,
    "start_time": "2022-01-07T01:31:38.350Z"
   },
   {
    "duration": 12,
    "start_time": "2022-01-07T01:31:38.411Z"
   },
   {
    "duration": 15,
    "start_time": "2022-01-07T01:31:38.426Z"
   },
   {
    "duration": 39,
    "start_time": "2022-01-07T01:31:38.443Z"
   },
   {
    "duration": 191,
    "start_time": "2022-01-07T01:31:38.484Z"
   },
   {
    "duration": 27,
    "start_time": "2022-01-07T01:31:38.678Z"
   },
   {
    "duration": 23,
    "start_time": "2022-01-07T01:31:38.718Z"
   },
   {
    "duration": 116,
    "start_time": "2022-01-07T01:31:38.744Z"
   },
   {
    "duration": 18,
    "start_time": "2022-01-07T01:31:38.862Z"
   },
   {
    "duration": 36,
    "start_time": "2022-01-07T01:31:38.883Z"
   },
   {
    "duration": 187,
    "start_time": "2022-01-07T01:31:38.921Z"
   },
   {
    "duration": 22,
    "start_time": "2022-01-07T01:31:39.110Z"
   },
   {
    "duration": 26,
    "start_time": "2022-01-07T01:31:39.135Z"
   },
   {
    "duration": 11,
    "start_time": "2022-01-07T01:31:39.163Z"
   },
   {
    "duration": 13,
    "start_time": "2022-01-07T01:31:39.176Z"
   },
   {
    "duration": 102,
    "start_time": "2022-01-07T01:31:39.216Z"
   },
   {
    "duration": 39,
    "start_time": "2022-01-07T01:31:39.320Z"
   },
   {
    "duration": 101,
    "start_time": "2022-01-07T01:31:39.362Z"
   },
   {
    "duration": 28,
    "start_time": "2022-01-07T01:31:39.466Z"
   },
   {
    "duration": 57,
    "start_time": "2022-01-07T01:31:39.496Z"
   },
   {
    "duration": 32,
    "start_time": "2022-01-07T01:31:39.556Z"
   },
   {
    "duration": 69,
    "start_time": "2022-01-07T01:31:39.591Z"
   },
   {
    "duration": 10,
    "start_time": "2022-01-07T01:31:39.662Z"
   },
   {
    "duration": 77,
    "start_time": "2022-01-07T01:31:39.674Z"
   },
   {
    "duration": 968,
    "start_time": "2022-01-07T01:31:39.756Z"
   },
   {
    "duration": 7,
    "start_time": "2022-01-07T01:31:40.727Z"
   },
   {
    "duration": 1081,
    "start_time": "2022-01-07T01:31:40.736Z"
   },
   {
    "duration": 1134,
    "start_time": "2022-01-07T01:31:41.819Z"
   },
   {
    "duration": 1075,
    "start_time": "2022-01-07T01:31:42.956Z"
   },
   {
    "duration": 10,
    "start_time": "2022-01-07T01:31:44.033Z"
   },
   {
    "duration": 7,
    "start_time": "2022-01-07T01:31:44.046Z"
   },
   {
    "duration": 9,
    "start_time": "2022-01-07T01:31:44.055Z"
   },
   {
    "duration": 64,
    "start_time": "2022-01-07T01:31:44.066Z"
   },
   {
    "duration": 8,
    "start_time": "2022-01-07T01:31:44.133Z"
   },
   {
    "duration": 6,
    "start_time": "2022-01-07T01:31:44.143Z"
   },
   {
    "duration": 10,
    "start_time": "2022-01-07T01:31:44.151Z"
   },
   {
    "duration": 6,
    "start_time": "2022-01-07T01:31:44.164Z"
   },
   {
    "duration": 277,
    "start_time": "2022-01-07T01:42:42.011Z"
   },
   {
    "duration": 92,
    "start_time": "2022-01-07T01:43:24.242Z"
   },
   {
    "duration": 268,
    "start_time": "2022-01-07T01:43:27.745Z"
   },
   {
    "duration": 371,
    "start_time": "2022-01-07T01:43:35.840Z"
   },
   {
    "duration": 491,
    "start_time": "2022-01-07T01:43:42.546Z"
   },
   {
    "duration": 4,
    "start_time": "2022-01-07T01:44:01.922Z"
   },
   {
    "duration": 7,
    "start_time": "2022-01-07T01:44:05.027Z"
   },
   {
    "duration": 6,
    "start_time": "2022-01-07T01:44:40.440Z"
   },
   {
    "duration": 451,
    "start_time": "2022-01-07T01:44:47.106Z"
   },
   {
    "duration": 5,
    "start_time": "2022-01-07T01:45:45.943Z"
   },
   {
    "duration": 455,
    "start_time": "2022-01-07T01:54:19.858Z"
   },
   {
    "duration": 468,
    "start_time": "2022-01-07T01:54:29.685Z"
   },
   {
    "duration": 879,
    "start_time": "2022-01-07T01:55:14.452Z"
   },
   {
    "duration": 4,
    "start_time": "2022-01-07T01:55:22.346Z"
   },
   {
    "duration": 7,
    "start_time": "2022-01-07T01:55:22.353Z"
   },
   {
    "duration": 36,
    "start_time": "2022-01-07T01:55:22.363Z"
   },
   {
    "duration": 8,
    "start_time": "2022-01-07T01:55:22.401Z"
   },
   {
    "duration": 8,
    "start_time": "2022-01-07T01:55:22.412Z"
   },
   {
    "duration": 25,
    "start_time": "2022-01-07T01:55:22.423Z"
   },
   {
    "duration": 213,
    "start_time": "2022-01-07T01:55:22.451Z"
   },
   {
    "duration": 27,
    "start_time": "2022-01-07T01:55:22.666Z"
   },
   {
    "duration": 27,
    "start_time": "2022-01-07T01:55:22.697Z"
   },
   {
    "duration": 124,
    "start_time": "2022-01-07T01:55:22.728Z"
   },
   {
    "duration": 19,
    "start_time": "2022-01-07T01:55:22.854Z"
   },
   {
    "duration": 26,
    "start_time": "2022-01-07T01:55:22.876Z"
   },
   {
    "duration": 189,
    "start_time": "2022-01-07T01:55:22.917Z"
   },
   {
    "duration": 27,
    "start_time": "2022-01-07T01:55:23.108Z"
   },
   {
    "duration": 24,
    "start_time": "2022-01-07T01:55:23.138Z"
   },
   {
    "duration": 6,
    "start_time": "2022-01-07T01:55:23.165Z"
   },
   {
    "duration": 13,
    "start_time": "2022-01-07T01:55:23.175Z"
   },
   {
    "duration": 106,
    "start_time": "2022-01-07T01:55:23.218Z"
   },
   {
    "duration": 40,
    "start_time": "2022-01-07T01:55:23.327Z"
   },
   {
    "duration": 108,
    "start_time": "2022-01-07T01:55:23.370Z"
   },
   {
    "duration": 42,
    "start_time": "2022-01-07T01:55:23.481Z"
   },
   {
    "duration": 48,
    "start_time": "2022-01-07T01:55:23.525Z"
   },
   {
    "duration": 63,
    "start_time": "2022-01-07T01:55:23.576Z"
   },
   {
    "duration": 47,
    "start_time": "2022-01-07T01:55:23.642Z"
   },
   {
    "duration": 32,
    "start_time": "2022-01-07T01:55:23.692Z"
   },
   {
    "duration": 54,
    "start_time": "2022-01-07T01:55:23.727Z"
   },
   {
    "duration": 1431,
    "start_time": "2022-01-07T01:55:23.816Z"
   },
   {
    "duration": 4,
    "start_time": "2022-01-07T01:55:25.250Z"
   },
   {
    "duration": 10,
    "start_time": "2022-01-07T01:55:25.257Z"
   },
   {
    "duration": 7,
    "start_time": "2022-01-07T01:55:25.270Z"
   },
   {
    "duration": 1194,
    "start_time": "2022-01-07T01:55:25.280Z"
   },
   {
    "duration": 1066,
    "start_time": "2022-01-07T01:55:26.477Z"
   },
   {
    "duration": 1084,
    "start_time": "2022-01-07T01:55:27.546Z"
   },
   {
    "duration": 12,
    "start_time": "2022-01-07T01:55:28.633Z"
   },
   {
    "duration": 7,
    "start_time": "2022-01-07T01:55:28.648Z"
   },
   {
    "duration": 7,
    "start_time": "2022-01-07T01:55:28.658Z"
   },
   {
    "duration": 62,
    "start_time": "2022-01-07T01:55:28.667Z"
   },
   {
    "duration": 9,
    "start_time": "2022-01-07T01:55:28.731Z"
   },
   {
    "duration": 6,
    "start_time": "2022-01-07T01:55:28.742Z"
   },
   {
    "duration": 9,
    "start_time": "2022-01-07T01:55:28.750Z"
   },
   {
    "duration": 7,
    "start_time": "2022-01-07T01:55:28.761Z"
   },
   {
    "duration": 894,
    "start_time": "2022-01-07T01:57:59.952Z"
   },
   {
    "duration": 459,
    "start_time": "2022-01-07T01:58:13.780Z"
   },
   {
    "duration": 880,
    "start_time": "2022-01-07T01:58:38.408Z"
   },
   {
    "duration": 882,
    "start_time": "2022-01-07T01:58:48.030Z"
   },
   {
    "duration": 4,
    "start_time": "2022-01-07T02:01:08.358Z"
   },
   {
    "duration": 7,
    "start_time": "2022-01-07T02:01:08.364Z"
   },
   {
    "duration": 36,
    "start_time": "2022-01-07T02:01:08.374Z"
   },
   {
    "duration": 7,
    "start_time": "2022-01-07T02:01:08.413Z"
   },
   {
    "duration": 8,
    "start_time": "2022-01-07T02:01:08.423Z"
   },
   {
    "duration": 28,
    "start_time": "2022-01-07T02:01:08.433Z"
   },
   {
    "duration": 220,
    "start_time": "2022-01-07T02:01:08.463Z"
   },
   {
    "duration": 39,
    "start_time": "2022-01-07T02:01:08.685Z"
   },
   {
    "duration": 26,
    "start_time": "2022-01-07T02:01:08.730Z"
   },
   {
    "duration": 123,
    "start_time": "2022-01-07T02:01:08.760Z"
   },
   {
    "duration": 34,
    "start_time": "2022-01-07T02:01:08.886Z"
   },
   {
    "duration": 28,
    "start_time": "2022-01-07T02:01:08.923Z"
   },
   {
    "duration": 201,
    "start_time": "2022-01-07T02:01:08.954Z"
   },
   {
    "duration": 22,
    "start_time": "2022-01-07T02:01:09.158Z"
   },
   {
    "duration": 35,
    "start_time": "2022-01-07T02:01:09.182Z"
   },
   {
    "duration": 7,
    "start_time": "2022-01-07T02:01:09.219Z"
   },
   {
    "duration": 10,
    "start_time": "2022-01-07T02:01:09.229Z"
   },
   {
    "duration": 121,
    "start_time": "2022-01-07T02:01:09.241Z"
   },
   {
    "duration": 51,
    "start_time": "2022-01-07T02:01:09.365Z"
   },
   {
    "duration": 65,
    "start_time": "2022-01-07T02:01:09.418Z"
   },
   {
    "duration": 48,
    "start_time": "2022-01-07T02:01:09.485Z"
   },
   {
    "duration": 46,
    "start_time": "2022-01-07T02:01:09.535Z"
   },
   {
    "duration": 53,
    "start_time": "2022-01-07T02:01:09.583Z"
   },
   {
    "duration": 39,
    "start_time": "2022-01-07T02:01:09.638Z"
   },
   {
    "duration": 8,
    "start_time": "2022-01-07T02:01:09.679Z"
   },
   {
    "duration": 181,
    "start_time": "2022-01-07T02:01:09.690Z"
   },
   {
    "duration": 1476,
    "start_time": "2022-01-07T02:01:09.876Z"
   },
   {
    "duration": 3,
    "start_time": "2022-01-07T02:01:11.355Z"
   },
   {
    "duration": 1175,
    "start_time": "2022-01-07T02:01:11.360Z"
   },
   {
    "duration": 1070,
    "start_time": "2022-01-07T02:01:12.537Z"
   },
   {
    "duration": 1067,
    "start_time": "2022-01-07T02:01:13.610Z"
   },
   {
    "duration": 10,
    "start_time": "2022-01-07T02:01:14.679Z"
   },
   {
    "duration": 7,
    "start_time": "2022-01-07T02:01:14.691Z"
   },
   {
    "duration": 9,
    "start_time": "2022-01-07T02:01:14.718Z"
   },
   {
    "duration": 34,
    "start_time": "2022-01-07T02:01:14.729Z"
   },
   {
    "duration": 9,
    "start_time": "2022-01-07T02:01:14.766Z"
   },
   {
    "duration": 24,
    "start_time": "2022-01-07T02:01:14.778Z"
   },
   {
    "duration": 19,
    "start_time": "2022-01-07T02:01:14.818Z"
   },
   {
    "duration": 114,
    "start_time": "2022-01-07T02:01:14.840Z"
   },
   {
    "duration": 7,
    "start_time": "2022-01-07T02:02:08.849Z"
   },
   {
    "duration": 5,
    "start_time": "2022-01-07T02:02:26.555Z"
   },
   {
    "duration": 8,
    "start_time": "2022-01-07T02:02:34.881Z"
   },
   {
    "duration": 16,
    "start_time": "2022-01-07T02:02:59.924Z"
   },
   {
    "duration": 10,
    "start_time": "2022-01-07T02:03:23.593Z"
   },
   {
    "duration": 7,
    "start_time": "2022-01-07T02:03:30.411Z"
   },
   {
    "duration": 4,
    "start_time": "2022-01-07T02:03:32.930Z"
   },
   {
    "duration": 17,
    "start_time": "2022-01-07T02:03:32.936Z"
   },
   {
    "duration": 49,
    "start_time": "2022-01-07T02:03:32.956Z"
   },
   {
    "duration": 8,
    "start_time": "2022-01-07T02:03:33.007Z"
   },
   {
    "duration": 8,
    "start_time": "2022-01-07T02:03:33.018Z"
   },
   {
    "duration": 29,
    "start_time": "2022-01-07T02:03:33.028Z"
   },
   {
    "duration": 206,
    "start_time": "2022-01-07T02:03:33.059Z"
   },
   {
    "duration": 28,
    "start_time": "2022-01-07T02:03:33.267Z"
   },
   {
    "duration": 40,
    "start_time": "2022-01-07T02:03:33.299Z"
   },
   {
    "duration": 113,
    "start_time": "2022-01-07T02:03:33.343Z"
   },
   {
    "duration": 20,
    "start_time": "2022-01-07T02:03:33.458Z"
   },
   {
    "duration": 36,
    "start_time": "2022-01-07T02:03:33.481Z"
   },
   {
    "duration": 186,
    "start_time": "2022-01-07T02:03:33.519Z"
   },
   {
    "duration": 25,
    "start_time": "2022-01-07T02:03:33.708Z"
   },
   {
    "duration": 24,
    "start_time": "2022-01-07T02:03:33.736Z"
   },
   {
    "duration": 9,
    "start_time": "2022-01-07T02:03:33.763Z"
   },
   {
    "duration": 12,
    "start_time": "2022-01-07T02:03:33.775Z"
   },
   {
    "duration": 116,
    "start_time": "2022-01-07T02:03:33.789Z"
   },
   {
    "duration": 48,
    "start_time": "2022-01-07T02:03:33.907Z"
   },
   {
    "duration": 97,
    "start_time": "2022-01-07T02:03:33.957Z"
   },
   {
    "duration": 28,
    "start_time": "2022-01-07T02:03:34.057Z"
   },
   {
    "duration": 66,
    "start_time": "2022-01-07T02:03:34.087Z"
   },
   {
    "duration": 33,
    "start_time": "2022-01-07T02:03:34.155Z"
   },
   {
    "duration": 60,
    "start_time": "2022-01-07T02:03:34.190Z"
   },
   {
    "duration": 12,
    "start_time": "2022-01-07T02:03:34.253Z"
   },
   {
    "duration": 77,
    "start_time": "2022-01-07T02:03:34.267Z"
   },
   {
    "duration": 1458,
    "start_time": "2022-01-07T02:03:34.348Z"
   },
   {
    "duration": 13,
    "start_time": "2022-01-07T02:03:35.808Z"
   },
   {
    "duration": 1097,
    "start_time": "2022-01-07T02:03:35.823Z"
   },
   {
    "duration": 1082,
    "start_time": "2022-01-07T02:03:36.923Z"
   },
   {
    "duration": 1266,
    "start_time": "2022-01-07T02:03:38.008Z"
   },
   {
    "duration": 10,
    "start_time": "2022-01-07T02:03:39.276Z"
   },
   {
    "duration": 7,
    "start_time": "2022-01-07T02:03:39.288Z"
   },
   {
    "duration": 7,
    "start_time": "2022-01-07T02:03:39.317Z"
   },
   {
    "duration": 38,
    "start_time": "2022-01-07T02:03:39.326Z"
   },
   {
    "duration": 9,
    "start_time": "2022-01-07T02:03:39.367Z"
   },
   {
    "duration": 6,
    "start_time": "2022-01-07T02:03:39.378Z"
   },
   {
    "duration": 33,
    "start_time": "2022-01-07T02:03:39.386Z"
   },
   {
    "duration": 16,
    "start_time": "2022-01-07T02:03:39.421Z"
   },
   {
    "duration": 1335,
    "start_time": "2022-01-07T02:04:15.970Z"
   },
   {
    "duration": 9,
    "start_time": "2022-01-07T02:04:17.308Z"
   },
   {
    "duration": 43,
    "start_time": "2022-01-07T02:04:17.321Z"
   },
   {
    "duration": 10,
    "start_time": "2022-01-07T02:04:17.367Z"
   },
   {
    "duration": 9,
    "start_time": "2022-01-07T02:04:17.379Z"
   },
   {
    "duration": 38,
    "start_time": "2022-01-07T02:04:17.391Z"
   },
   {
    "duration": 212,
    "start_time": "2022-01-07T02:04:17.431Z"
   },
   {
    "duration": 27,
    "start_time": "2022-01-07T02:04:17.646Z"
   },
   {
    "duration": 24,
    "start_time": "2022-01-07T02:04:17.678Z"
   },
   {
    "duration": 131,
    "start_time": "2022-01-07T02:04:17.705Z"
   },
   {
    "duration": 19,
    "start_time": "2022-01-07T02:04:17.838Z"
   },
   {
    "duration": 28,
    "start_time": "2022-01-07T02:04:17.859Z"
   },
   {
    "duration": 201,
    "start_time": "2022-01-07T02:04:17.889Z"
   },
   {
    "duration": 31,
    "start_time": "2022-01-07T02:04:18.092Z"
   },
   {
    "duration": 25,
    "start_time": "2022-01-07T02:04:18.125Z"
   },
   {
    "duration": 8,
    "start_time": "2022-01-07T02:04:18.153Z"
   },
   {
    "duration": 14,
    "start_time": "2022-01-07T02:04:18.163Z"
   },
   {
    "duration": 125,
    "start_time": "2022-01-07T02:04:18.180Z"
   },
   {
    "duration": 48,
    "start_time": "2022-01-07T02:04:18.307Z"
   },
   {
    "duration": 99,
    "start_time": "2022-01-07T02:04:18.358Z"
   },
   {
    "duration": 28,
    "start_time": "2022-01-07T02:04:18.459Z"
   },
   {
    "duration": 64,
    "start_time": "2022-01-07T02:04:18.489Z"
   },
   {
    "duration": 33,
    "start_time": "2022-01-07T02:04:18.555Z"
   },
   {
    "duration": 61,
    "start_time": "2022-01-07T02:04:18.590Z"
   },
   {
    "duration": 9,
    "start_time": "2022-01-07T02:04:18.653Z"
   },
   {
    "duration": 76,
    "start_time": "2022-01-07T02:04:18.664Z"
   },
   {
    "duration": 1602,
    "start_time": "2022-01-07T02:04:18.745Z"
   },
   {
    "duration": 6,
    "start_time": "2022-01-07T02:04:20.350Z"
   },
   {
    "duration": 1119,
    "start_time": "2022-01-07T02:04:20.359Z"
   },
   {
    "duration": 1268,
    "start_time": "2022-01-07T02:04:21.480Z"
   },
   {
    "duration": 1111,
    "start_time": "2022-01-07T02:04:22.750Z"
   },
   {
    "duration": 10,
    "start_time": "2022-01-07T02:04:23.864Z"
   },
   {
    "duration": 6,
    "start_time": "2022-01-07T02:04:23.876Z"
   },
   {
    "duration": 33,
    "start_time": "2022-01-07T02:04:23.884Z"
   },
   {
    "duration": 26,
    "start_time": "2022-01-07T02:04:23.919Z"
   },
   {
    "duration": 14,
    "start_time": "2022-01-07T02:04:23.947Z"
   },
   {
    "duration": 4,
    "start_time": "2022-01-07T02:04:23.963Z"
   },
   {
    "duration": 6,
    "start_time": "2022-01-07T02:04:23.969Z"
   },
   {
    "duration": 41,
    "start_time": "2022-01-07T02:04:23.978Z"
   },
   {
    "duration": 4,
    "start_time": "2022-01-07T02:05:39.512Z"
   },
   {
    "duration": 5,
    "start_time": "2022-01-07T02:05:39.519Z"
   },
   {
    "duration": 42,
    "start_time": "2022-01-07T02:05:39.527Z"
   },
   {
    "duration": 8,
    "start_time": "2022-01-07T02:05:39.571Z"
   },
   {
    "duration": 39,
    "start_time": "2022-01-07T02:05:39.581Z"
   },
   {
    "duration": 28,
    "start_time": "2022-01-07T02:05:39.622Z"
   },
   {
    "duration": 214,
    "start_time": "2022-01-07T02:05:39.653Z"
   },
   {
    "duration": 26,
    "start_time": "2022-01-07T02:05:39.870Z"
   },
   {
    "duration": 25,
    "start_time": "2022-01-07T02:05:39.916Z"
   },
   {
    "duration": 113,
    "start_time": "2022-01-07T02:05:39.945Z"
   },
   {
    "duration": 20,
    "start_time": "2022-01-07T02:05:40.060Z"
   },
   {
    "duration": 37,
    "start_time": "2022-01-07T02:05:40.082Z"
   },
   {
    "duration": 187,
    "start_time": "2022-01-07T02:05:40.121Z"
   },
   {
    "duration": 26,
    "start_time": "2022-01-07T02:05:40.310Z"
   },
   {
    "duration": 24,
    "start_time": "2022-01-07T02:05:40.338Z"
   },
   {
    "duration": 7,
    "start_time": "2022-01-07T02:05:40.365Z"
   },
   {
    "duration": 10,
    "start_time": "2022-01-07T02:05:40.374Z"
   },
   {
    "duration": 122,
    "start_time": "2022-01-07T02:05:40.387Z"
   },
   {
    "duration": 40,
    "start_time": "2022-01-07T02:05:40.517Z"
   },
   {
    "duration": 12,
    "start_time": "2022-01-07T02:05:40.559Z"
   },
   {
    "duration": 110,
    "start_time": "2022-01-07T02:05:40.573Z"
   },
   {
    "duration": 36,
    "start_time": "2022-01-07T02:05:40.686Z"
   },
   {
    "duration": 44,
    "start_time": "2022-01-07T02:05:40.725Z"
   },
   {
    "duration": 56,
    "start_time": "2022-01-07T02:05:40.772Z"
   },
   {
    "duration": 44,
    "start_time": "2022-01-07T02:05:40.831Z"
   },
   {
    "duration": 10,
    "start_time": "2022-01-07T02:05:40.877Z"
   },
   {
    "duration": 55,
    "start_time": "2022-01-07T02:05:40.917Z"
   },
   {
    "duration": 3,
    "start_time": "2022-01-07T02:05:40.975Z"
   },
   {
    "duration": 1020,
    "start_time": "2022-01-07T02:05:40.980Z"
   },
   {
    "duration": 18,
    "start_time": "2022-01-07T02:05:42.003Z"
   },
   {
    "duration": 6,
    "start_time": "2022-01-07T02:05:42.023Z"
   },
   {
    "duration": 1119,
    "start_time": "2022-01-07T02:05:42.031Z"
   },
   {
    "duration": 1200,
    "start_time": "2022-01-07T02:05:43.152Z"
   },
   {
    "duration": 1126,
    "start_time": "2022-01-07T02:05:44.354Z"
   },
   {
    "duration": 12,
    "start_time": "2022-01-07T02:05:45.483Z"
   },
   {
    "duration": 22,
    "start_time": "2022-01-07T02:05:45.498Z"
   },
   {
    "duration": 21,
    "start_time": "2022-01-07T02:05:45.522Z"
   },
   {
    "duration": 35,
    "start_time": "2022-01-07T02:05:45.546Z"
   },
   {
    "duration": 9,
    "start_time": "2022-01-07T02:05:45.584Z"
   },
   {
    "duration": 23,
    "start_time": "2022-01-07T02:05:45.596Z"
   },
   {
    "duration": 9,
    "start_time": "2022-01-07T02:05:45.622Z"
   },
   {
    "duration": 8,
    "start_time": "2022-01-07T02:05:45.634Z"
   },
   {
    "duration": 4,
    "start_time": "2022-01-07T02:05:57.561Z"
   },
   {
    "duration": 8,
    "start_time": "2022-01-07T02:05:57.568Z"
   },
   {
    "duration": 37,
    "start_time": "2022-01-07T02:05:57.579Z"
   },
   {
    "duration": 9,
    "start_time": "2022-01-07T02:05:57.618Z"
   },
   {
    "duration": 9,
    "start_time": "2022-01-07T02:05:57.629Z"
   },
   {
    "duration": 36,
    "start_time": "2022-01-07T02:05:57.640Z"
   },
   {
    "duration": 208,
    "start_time": "2022-01-07T02:05:57.678Z"
   },
   {
    "duration": 32,
    "start_time": "2022-01-07T02:05:57.888Z"
   },
   {
    "duration": 23,
    "start_time": "2022-01-07T02:05:57.924Z"
   },
   {
    "duration": 130,
    "start_time": "2022-01-07T02:05:57.950Z"
   },
   {
    "duration": 19,
    "start_time": "2022-01-07T02:05:58.083Z"
   },
   {
    "duration": 38,
    "start_time": "2022-01-07T02:05:58.104Z"
   },
   {
    "duration": 190,
    "start_time": "2022-01-07T02:05:58.144Z"
   },
   {
    "duration": 22,
    "start_time": "2022-01-07T02:05:58.337Z"
   },
   {
    "duration": 25,
    "start_time": "2022-01-07T02:05:58.361Z"
   },
   {
    "duration": 29,
    "start_time": "2022-01-07T02:05:58.389Z"
   },
   {
    "duration": 13,
    "start_time": "2022-01-07T02:05:58.420Z"
   },
   {
    "duration": 112,
    "start_time": "2022-01-07T02:05:58.436Z"
   },
   {
    "duration": 40,
    "start_time": "2022-01-07T02:05:58.550Z"
   },
   {
    "duration": 29,
    "start_time": "2022-01-07T02:05:58.592Z"
   },
   {
    "duration": 95,
    "start_time": "2022-01-07T02:05:58.623Z"
   },
   {
    "duration": 28,
    "start_time": "2022-01-07T02:05:58.720Z"
   },
   {
    "duration": 68,
    "start_time": "2022-01-07T02:05:58.750Z"
   },
   {
    "duration": 32,
    "start_time": "2022-01-07T02:05:58.821Z"
   },
   {
    "duration": 69,
    "start_time": "2022-01-07T02:05:58.856Z"
   },
   {
    "duration": 9,
    "start_time": "2022-01-07T02:05:58.927Z"
   },
   {
    "duration": 52,
    "start_time": "2022-01-07T02:05:58.941Z"
   },
   {
    "duration": 4,
    "start_time": "2022-01-07T02:05:59.016Z"
   },
   {
    "duration": 973,
    "start_time": "2022-01-07T02:05:59.023Z"
   },
   {
    "duration": 21,
    "start_time": "2022-01-07T02:05:59.999Z"
   },
   {
    "duration": 6,
    "start_time": "2022-01-07T02:06:00.022Z"
   },
   {
    "duration": 1239,
    "start_time": "2022-01-07T02:06:00.031Z"
   },
   {
    "duration": 1213,
    "start_time": "2022-01-07T02:06:01.273Z"
   },
   {
    "duration": 1118,
    "start_time": "2022-01-07T02:06:02.489Z"
   },
   {
    "duration": 17,
    "start_time": "2022-01-07T02:06:03.610Z"
   },
   {
    "duration": 7,
    "start_time": "2022-01-07T02:06:03.629Z"
   },
   {
    "duration": 8,
    "start_time": "2022-01-07T02:06:03.638Z"
   },
   {
    "duration": 28,
    "start_time": "2022-01-07T02:06:03.649Z"
   },
   {
    "duration": 11,
    "start_time": "2022-01-07T02:06:03.717Z"
   },
   {
    "duration": 9,
    "start_time": "2022-01-07T02:06:03.731Z"
   },
   {
    "duration": 8,
    "start_time": "2022-01-07T02:06:03.743Z"
   },
   {
    "duration": 7,
    "start_time": "2022-01-07T02:06:03.754Z"
   },
   {
    "duration": 836,
    "start_time": "2022-01-07T02:06:23.936Z"
   },
   {
    "duration": 455,
    "start_time": "2022-01-07T02:06:37.932Z"
   },
   {
    "duration": 749,
    "start_time": "2022-01-07T02:07:15.159Z"
   },
   {
    "duration": 749,
    "start_time": "2022-01-07T02:07:25.042Z"
   },
   {
    "duration": 820,
    "start_time": "2022-01-07T02:07:34.411Z"
   },
   {
    "duration": 457,
    "start_time": "2022-01-07T02:07:42.866Z"
   },
   {
    "duration": 474,
    "start_time": "2022-01-07T02:08:48.411Z"
   },
   {
    "duration": 4,
    "start_time": "2022-01-07T02:09:04.375Z"
   },
   {
    "duration": 6,
    "start_time": "2022-01-07T02:09:04.382Z"
   },
   {
    "duration": 36,
    "start_time": "2022-01-07T02:09:04.391Z"
   },
   {
    "duration": 8,
    "start_time": "2022-01-07T02:09:04.430Z"
   },
   {
    "duration": 12,
    "start_time": "2022-01-07T02:09:04.440Z"
   },
   {
    "duration": 28,
    "start_time": "2022-01-07T02:09:04.454Z"
   },
   {
    "duration": 201,
    "start_time": "2022-01-07T02:09:04.517Z"
   },
   {
    "duration": 27,
    "start_time": "2022-01-07T02:09:04.720Z"
   },
   {
    "duration": 25,
    "start_time": "2022-01-07T02:09:04.751Z"
   },
   {
    "duration": 132,
    "start_time": "2022-01-07T02:09:04.779Z"
   },
   {
    "duration": 19,
    "start_time": "2022-01-07T02:09:04.914Z"
   },
   {
    "duration": 26,
    "start_time": "2022-01-07T02:09:04.935Z"
   },
   {
    "duration": 206,
    "start_time": "2022-01-07T02:09:04.963Z"
   },
   {
    "duration": 23,
    "start_time": "2022-01-07T02:09:05.171Z"
   },
   {
    "duration": 32,
    "start_time": "2022-01-07T02:09:05.197Z"
   },
   {
    "duration": 10,
    "start_time": "2022-01-07T02:09:05.231Z"
   },
   {
    "duration": 10,
    "start_time": "2022-01-07T02:09:05.244Z"
   },
   {
    "duration": 121,
    "start_time": "2022-01-07T02:09:05.257Z"
   },
   {
    "duration": 49,
    "start_time": "2022-01-07T02:09:05.380Z"
   },
   {
    "duration": 13,
    "start_time": "2022-01-07T02:09:05.432Z"
   },
   {
    "duration": 91,
    "start_time": "2022-01-07T02:09:05.448Z"
   },
   {
    "duration": 28,
    "start_time": "2022-01-07T02:09:05.542Z"
   },
   {
    "duration": 73,
    "start_time": "2022-01-07T02:09:05.572Z"
   },
   {
    "duration": 33,
    "start_time": "2022-01-07T02:09:05.647Z"
   },
   {
    "duration": 63,
    "start_time": "2022-01-07T02:09:05.682Z"
   },
   {
    "duration": 10,
    "start_time": "2022-01-07T02:09:05.748Z"
   },
   {
    "duration": 173,
    "start_time": "2022-01-07T02:09:05.763Z"
   },
   {
    "duration": 4,
    "start_time": "2022-01-07T02:09:05.939Z"
   },
   {
    "duration": 8506,
    "start_time": "2022-01-07T02:09:05.945Z"
   },
   {
    "duration": -4899,
    "start_time": "2022-01-07T02:09:19.352Z"
   },
   {
    "duration": -4903,
    "start_time": "2022-01-07T02:09:19.358Z"
   },
   {
    "duration": -4905,
    "start_time": "2022-01-07T02:09:19.362Z"
   },
   {
    "duration": -4906,
    "start_time": "2022-01-07T02:09:19.364Z"
   },
   {
    "duration": -4907,
    "start_time": "2022-01-07T02:09:19.367Z"
   },
   {
    "duration": -4907,
    "start_time": "2022-01-07T02:09:19.369Z"
   },
   {
    "duration": -4908,
    "start_time": "2022-01-07T02:09:19.371Z"
   },
   {
    "duration": -4909,
    "start_time": "2022-01-07T02:09:19.373Z"
   },
   {
    "duration": -4909,
    "start_time": "2022-01-07T02:09:19.375Z"
   },
   {
    "duration": -4910,
    "start_time": "2022-01-07T02:09:19.377Z"
   },
   {
    "duration": -4911,
    "start_time": "2022-01-07T02:09:19.380Z"
   },
   {
    "duration": -4911,
    "start_time": "2022-01-07T02:09:19.382Z"
   },
   {
    "duration": 4,
    "start_time": "2022-01-07T02:09:28.108Z"
   },
   {
    "duration": 5,
    "start_time": "2022-01-07T02:09:28.115Z"
   },
   {
    "duration": 38,
    "start_time": "2022-01-07T02:09:28.123Z"
   },
   {
    "duration": 8,
    "start_time": "2022-01-07T02:09:28.164Z"
   },
   {
    "duration": 9,
    "start_time": "2022-01-07T02:09:28.175Z"
   },
   {
    "duration": 25,
    "start_time": "2022-01-07T02:09:28.217Z"
   },
   {
    "duration": 201,
    "start_time": "2022-01-07T02:09:28.244Z"
   },
   {
    "duration": 27,
    "start_time": "2022-01-07T02:09:28.447Z"
   },
   {
    "duration": 24,
    "start_time": "2022-01-07T02:09:28.478Z"
   },
   {
    "duration": 121,
    "start_time": "2022-01-07T02:09:28.518Z"
   },
   {
    "duration": 19,
    "start_time": "2022-01-07T02:09:28.641Z"
   },
   {
    "duration": 25,
    "start_time": "2022-01-07T02:09:28.663Z"
   },
   {
    "duration": 197,
    "start_time": "2022-01-07T02:09:28.691Z"
   },
   {
    "duration": 28,
    "start_time": "2022-01-07T02:09:28.890Z"
   },
   {
    "duration": 26,
    "start_time": "2022-01-07T02:09:28.920Z"
   },
   {
    "duration": 10,
    "start_time": "2022-01-07T02:09:28.949Z"
   },
   {
    "duration": 11,
    "start_time": "2022-01-07T02:09:28.962Z"
   },
   {
    "duration": 123,
    "start_time": "2022-01-07T02:09:28.975Z"
   },
   {
    "duration": 48,
    "start_time": "2022-01-07T02:09:29.101Z"
   },
   {
    "duration": 13,
    "start_time": "2022-01-07T02:09:29.151Z"
   },
   {
    "duration": 96,
    "start_time": "2022-01-07T02:09:29.167Z"
   },
   {
    "duration": 28,
    "start_time": "2022-01-07T02:09:29.266Z"
   },
   {
    "duration": 59,
    "start_time": "2022-01-07T02:09:29.296Z"
   },
   {
    "duration": 33,
    "start_time": "2022-01-07T02:09:29.358Z"
   },
   {
    "duration": 42,
    "start_time": "2022-01-07T02:09:29.418Z"
   },
   {
    "duration": 10,
    "start_time": "2022-01-07T02:09:29.462Z"
   },
   {
    "duration": 81,
    "start_time": "2022-01-07T02:09:29.478Z"
   },
   {
    "duration": 3,
    "start_time": "2022-01-07T02:09:29.562Z"
   },
   {
    "duration": 973,
    "start_time": "2022-01-07T02:09:29.568Z"
   },
   {
    "duration": 26,
    "start_time": "2022-01-07T02:09:30.544Z"
   },
   {
    "duration": 1261,
    "start_time": "2022-01-07T02:09:30.573Z"
   },
   {
    "duration": 1225,
    "start_time": "2022-01-07T02:09:31.837Z"
   },
   {
    "duration": 1243,
    "start_time": "2022-01-07T02:09:33.066Z"
   },
   {
    "duration": 13,
    "start_time": "2022-01-07T02:09:34.316Z"
   },
   {
    "duration": 8,
    "start_time": "2022-01-07T02:09:34.332Z"
   },
   {
    "duration": 10,
    "start_time": "2022-01-07T02:09:34.343Z"
   },
   {
    "duration": 75,
    "start_time": "2022-01-07T02:09:34.357Z"
   },
   {
    "duration": 9,
    "start_time": "2022-01-07T02:09:34.435Z"
   },
   {
    "duration": 11,
    "start_time": "2022-01-07T02:09:34.447Z"
   },
   {
    "duration": 8,
    "start_time": "2022-01-07T02:09:34.460Z"
   },
   {
    "duration": 8,
    "start_time": "2022-01-07T02:09:34.472Z"
   },
   {
    "duration": 7,
    "start_time": "2022-01-07T02:10:11.891Z"
   },
   {
    "duration": 4,
    "start_time": "2022-01-07T02:10:43.791Z"
   },
   {
    "duration": 10,
    "start_time": "2022-01-07T02:10:43.798Z"
   },
   {
    "duration": 44,
    "start_time": "2022-01-07T02:10:43.811Z"
   },
   {
    "duration": 12,
    "start_time": "2022-01-07T02:10:43.857Z"
   },
   {
    "duration": 11,
    "start_time": "2022-01-07T02:10:43.871Z"
   },
   {
    "duration": 27,
    "start_time": "2022-01-07T02:10:43.917Z"
   },
   {
    "duration": 207,
    "start_time": "2022-01-07T02:10:43.947Z"
   },
   {
    "duration": 31,
    "start_time": "2022-01-07T02:10:44.157Z"
   },
   {
    "duration": 33,
    "start_time": "2022-01-07T02:10:44.194Z"
   },
   {
    "duration": 137,
    "start_time": "2022-01-07T02:10:44.231Z"
   },
   {
    "duration": 23,
    "start_time": "2022-01-07T02:10:44.370Z"
   },
   {
    "duration": 33,
    "start_time": "2022-01-07T02:10:44.396Z"
   },
   {
    "duration": 213,
    "start_time": "2022-01-07T02:10:44.432Z"
   },
   {
    "duration": 22,
    "start_time": "2022-01-07T02:10:44.648Z"
   },
   {
    "duration": 27,
    "start_time": "2022-01-07T02:10:44.673Z"
   },
   {
    "duration": 9,
    "start_time": "2022-01-07T02:10:44.718Z"
   },
   {
    "duration": 12,
    "start_time": "2022-01-07T02:10:44.729Z"
   },
   {
    "duration": 127,
    "start_time": "2022-01-07T02:10:44.744Z"
   },
   {
    "duration": 57,
    "start_time": "2022-01-07T02:10:44.874Z"
   },
   {
    "duration": 15,
    "start_time": "2022-01-07T02:10:44.934Z"
   },
   {
    "duration": 112,
    "start_time": "2022-01-07T02:10:44.951Z"
   },
   {
    "duration": 30,
    "start_time": "2022-01-07T02:10:45.066Z"
   },
   {
    "duration": 67,
    "start_time": "2022-01-07T02:10:45.099Z"
   },
   {
    "duration": 61,
    "start_time": "2022-01-07T02:10:45.169Z"
   },
   {
    "duration": 46,
    "start_time": "2022-01-07T02:10:45.233Z"
   },
   {
    "duration": 10,
    "start_time": "2022-01-07T02:10:45.282Z"
   },
   {
    "duration": 57,
    "start_time": "2022-01-07T02:10:45.319Z"
   },
   {
    "duration": 1593,
    "start_time": "2022-01-07T02:10:45.379Z"
   },
   {
    "duration": 5,
    "start_time": "2022-01-07T02:10:46.975Z"
   },
   {
    "duration": 33,
    "start_time": "2022-01-07T02:10:46.983Z"
   },
   {
    "duration": 1112,
    "start_time": "2022-01-07T02:10:47.018Z"
   },
   {
    "duration": 1218,
    "start_time": "2022-01-07T02:10:48.132Z"
   },
   {
    "duration": 1120,
    "start_time": "2022-01-07T02:10:49.353Z"
   },
   {
    "duration": 10,
    "start_time": "2022-01-07T02:10:50.475Z"
   },
   {
    "duration": 7,
    "start_time": "2022-01-07T02:10:50.488Z"
   },
   {
    "duration": 24,
    "start_time": "2022-01-07T02:10:50.497Z"
   },
   {
    "duration": 30,
    "start_time": "2022-01-07T02:10:50.523Z"
   },
   {
    "duration": 9,
    "start_time": "2022-01-07T02:10:50.555Z"
   },
   {
    "duration": 10,
    "start_time": "2022-01-07T02:10:50.566Z"
   },
   {
    "duration": 43,
    "start_time": "2022-01-07T02:10:50.578Z"
   },
   {
    "duration": 7,
    "start_time": "2022-01-07T02:10:50.624Z"
   },
   {
    "duration": 7,
    "start_time": "2022-01-07T02:11:28.076Z"
   },
   {
    "duration": 15,
    "start_time": "2022-01-07T02:11:42.320Z"
   },
   {
    "duration": 16,
    "start_time": "2022-01-07T02:11:49.302Z"
   },
   {
    "duration": 17,
    "start_time": "2022-01-07T02:11:56.223Z"
   },
   {
    "duration": 13,
    "start_time": "2022-01-07T02:12:15.212Z"
   },
   {
    "duration": 4,
    "start_time": "2022-01-07T02:12:35.196Z"
   },
   {
    "duration": 9,
    "start_time": "2022-01-07T02:12:35.203Z"
   },
   {
    "duration": 42,
    "start_time": "2022-01-07T02:12:35.215Z"
   },
   {
    "duration": 12,
    "start_time": "2022-01-07T02:12:35.260Z"
   },
   {
    "duration": 10,
    "start_time": "2022-01-07T02:12:35.275Z"
   },
   {
    "duration": 26,
    "start_time": "2022-01-07T02:12:35.319Z"
   },
   {
    "duration": 213,
    "start_time": "2022-01-07T02:12:35.348Z"
   },
   {
    "duration": 30,
    "start_time": "2022-01-07T02:12:35.564Z"
   },
   {
    "duration": 25,
    "start_time": "2022-01-07T02:12:35.600Z"
   },
   {
    "duration": 148,
    "start_time": "2022-01-07T02:12:35.630Z"
   },
   {
    "duration": 22,
    "start_time": "2022-01-07T02:12:35.780Z"
   },
   {
    "duration": 38,
    "start_time": "2022-01-07T02:12:35.805Z"
   },
   {
    "duration": 201,
    "start_time": "2022-01-07T02:12:35.845Z"
   },
   {
    "duration": 25,
    "start_time": "2022-01-07T02:12:36.048Z"
   },
   {
    "duration": 32,
    "start_time": "2022-01-07T02:12:36.077Z"
   },
   {
    "duration": 15,
    "start_time": "2022-01-07T02:12:36.118Z"
   },
   {
    "duration": 40,
    "start_time": "2022-01-07T02:12:36.135Z"
   },
   {
    "duration": 111,
    "start_time": "2022-01-07T02:12:36.178Z"
   },
   {
    "duration": 57,
    "start_time": "2022-01-07T02:12:36.292Z"
   },
   {
    "duration": 13,
    "start_time": "2022-01-07T02:12:36.351Z"
   },
   {
    "duration": 104,
    "start_time": "2022-01-07T02:12:36.367Z"
   },
   {
    "duration": 45,
    "start_time": "2022-01-07T02:12:36.473Z"
   },
   {
    "duration": 48,
    "start_time": "2022-01-07T02:12:36.521Z"
   },
   {
    "duration": 55,
    "start_time": "2022-01-07T02:12:36.571Z"
   },
   {
    "duration": 52,
    "start_time": "2022-01-07T02:12:36.628Z"
   },
   {
    "duration": 10,
    "start_time": "2022-01-07T02:12:36.683Z"
   },
   {
    "duration": 57,
    "start_time": "2022-01-07T02:12:36.719Z"
   },
   {
    "duration": 3,
    "start_time": "2022-01-07T02:12:36.779Z"
   },
   {
    "duration": 1005,
    "start_time": "2022-01-07T02:12:36.785Z"
   },
   {
    "duration": 7,
    "start_time": "2022-01-07T02:12:37.793Z"
   },
   {
    "duration": 1241,
    "start_time": "2022-01-07T02:12:37.802Z"
   },
   {
    "duration": 1102,
    "start_time": "2022-01-07T02:12:39.045Z"
   },
   {
    "duration": 1118,
    "start_time": "2022-01-07T02:12:40.150Z"
   },
   {
    "duration": 14,
    "start_time": "2022-01-07T02:12:41.270Z"
   },
   {
    "duration": 8,
    "start_time": "2022-01-07T02:12:41.286Z"
   },
   {
    "duration": 8,
    "start_time": "2022-01-07T02:12:41.318Z"
   },
   {
    "duration": 30,
    "start_time": "2022-01-07T02:12:41.328Z"
   },
   {
    "duration": 9,
    "start_time": "2022-01-07T02:12:41.360Z"
   },
   {
    "duration": 6,
    "start_time": "2022-01-07T02:12:41.371Z"
   },
   {
    "duration": 39,
    "start_time": "2022-01-07T02:12:41.379Z"
   },
   {
    "duration": 7,
    "start_time": "2022-01-07T02:12:41.420Z"
   },
   {
    "duration": 10,
    "start_time": "2022-01-07T02:12:56.228Z"
   },
   {
    "duration": 913,
    "start_time": "2022-01-07T02:16:00.485Z"
   },
   {
    "duration": 6,
    "start_time": "2022-01-07T02:16:21.134Z"
   },
   {
    "duration": 4,
    "start_time": "2022-01-07T02:16:50.590Z"
   },
   {
    "duration": 17,
    "start_time": "2022-01-07T02:16:50.597Z"
   },
   {
    "duration": 53,
    "start_time": "2022-01-07T02:16:50.617Z"
   },
   {
    "duration": 18,
    "start_time": "2022-01-07T02:16:50.673Z"
   },
   {
    "duration": 17,
    "start_time": "2022-01-07T02:16:50.694Z"
   },
   {
    "duration": 48,
    "start_time": "2022-01-07T02:16:50.713Z"
   },
   {
    "duration": 215,
    "start_time": "2022-01-07T02:16:50.764Z"
   },
   {
    "duration": 35,
    "start_time": "2022-01-07T02:16:50.982Z"
   },
   {
    "duration": 24,
    "start_time": "2022-01-07T02:16:51.021Z"
   },
   {
    "duration": 129,
    "start_time": "2022-01-07T02:16:51.048Z"
   },
   {
    "duration": 19,
    "start_time": "2022-01-07T02:16:51.180Z"
   },
   {
    "duration": 39,
    "start_time": "2022-01-07T02:16:51.202Z"
   },
   {
    "duration": 199,
    "start_time": "2022-01-07T02:16:51.245Z"
   },
   {
    "duration": 22,
    "start_time": "2022-01-07T02:16:51.447Z"
   },
   {
    "duration": 25,
    "start_time": "2022-01-07T02:16:51.472Z"
   },
   {
    "duration": 19,
    "start_time": "2022-01-07T02:16:51.499Z"
   },
   {
    "duration": 16,
    "start_time": "2022-01-07T02:16:51.520Z"
   },
   {
    "duration": 124,
    "start_time": "2022-01-07T02:16:51.539Z"
   },
   {
    "duration": 53,
    "start_time": "2022-01-07T02:16:51.665Z"
   },
   {
    "duration": 12,
    "start_time": "2022-01-07T02:16:51.721Z"
   },
   {
    "duration": 105,
    "start_time": "2022-01-07T02:16:51.736Z"
   },
   {
    "duration": 29,
    "start_time": "2022-01-07T02:16:51.843Z"
   },
   {
    "duration": 70,
    "start_time": "2022-01-07T02:16:51.875Z"
   },
   {
    "duration": 35,
    "start_time": "2022-01-07T02:16:51.947Z"
   },
   {
    "duration": 96,
    "start_time": "2022-01-07T02:16:51.984Z"
   },
   {
    "duration": 12,
    "start_time": "2022-01-07T02:16:52.083Z"
   },
   {
    "duration": 186,
    "start_time": "2022-01-07T02:16:52.118Z"
   },
   {
    "duration": 1480,
    "start_time": "2022-01-07T02:16:52.307Z"
   },
   {
    "duration": 4,
    "start_time": "2022-01-07T02:16:53.790Z"
   },
   {
    "duration": 22,
    "start_time": "2022-01-07T02:16:53.797Z"
   },
   {
    "duration": 8,
    "start_time": "2022-01-07T02:16:53.822Z"
   },
   {
    "duration": 1144,
    "start_time": "2022-01-07T02:16:53.833Z"
   },
   {
    "duration": 1094,
    "start_time": "2022-01-07T02:16:54.980Z"
   },
   {
    "duration": 1243,
    "start_time": "2022-01-07T02:16:56.077Z"
   },
   {
    "duration": 11,
    "start_time": "2022-01-07T02:16:57.323Z"
   },
   {
    "duration": 6,
    "start_time": "2022-01-07T02:16:57.337Z"
   },
   {
    "duration": 9,
    "start_time": "2022-01-07T02:16:57.345Z"
   },
   {
    "duration": 63,
    "start_time": "2022-01-07T02:16:57.356Z"
   },
   {
    "duration": 9,
    "start_time": "2022-01-07T02:16:57.422Z"
   },
   {
    "duration": 5,
    "start_time": "2022-01-07T02:16:57.434Z"
   },
   {
    "duration": 8,
    "start_time": "2022-01-07T02:16:57.442Z"
   },
   {
    "duration": 8,
    "start_time": "2022-01-07T02:16:57.452Z"
   },
   {
    "duration": 160,
    "start_time": "2022-01-07T02:19:09.406Z"
   },
   {
    "duration": 53,
    "start_time": "2022-01-07T02:20:20.894Z"
   },
   {
    "duration": 1444,
    "start_time": "2022-01-07T02:20:29.058Z"
   },
   {
    "duration": 119,
    "start_time": "2022-01-07T02:20:53.055Z"
   },
   {
    "duration": 86,
    "start_time": "2022-01-07T02:20:58.106Z"
   },
   {
    "duration": 4,
    "start_time": "2022-01-07T02:21:05.655Z"
   },
   {
    "duration": 22,
    "start_time": "2022-01-07T02:21:05.662Z"
   },
   {
    "duration": 41,
    "start_time": "2022-01-07T02:21:05.687Z"
   },
   {
    "duration": 9,
    "start_time": "2022-01-07T02:21:05.730Z"
   },
   {
    "duration": 9,
    "start_time": "2022-01-07T02:21:05.742Z"
   },
   {
    "duration": 30,
    "start_time": "2022-01-07T02:21:05.754Z"
   },
   {
    "duration": 234,
    "start_time": "2022-01-07T02:21:05.786Z"
   },
   {
    "duration": 28,
    "start_time": "2022-01-07T02:21:06.023Z"
   },
   {
    "duration": 23,
    "start_time": "2022-01-07T02:21:06.055Z"
   },
   {
    "duration": 133,
    "start_time": "2022-01-07T02:21:06.081Z"
   },
   {
    "duration": 22,
    "start_time": "2022-01-07T02:21:06.217Z"
   },
   {
    "duration": 26,
    "start_time": "2022-01-07T02:21:06.242Z"
   },
   {
    "duration": 206,
    "start_time": "2022-01-07T02:21:06.271Z"
   },
   {
    "duration": 22,
    "start_time": "2022-01-07T02:21:06.480Z"
   },
   {
    "duration": 24,
    "start_time": "2022-01-07T02:21:06.517Z"
   },
   {
    "duration": 7,
    "start_time": "2022-01-07T02:21:06.544Z"
   },
   {
    "duration": 10,
    "start_time": "2022-01-07T02:21:06.553Z"
   },
   {
    "duration": 121,
    "start_time": "2022-01-07T02:21:06.565Z"
   },
   {
    "duration": 53,
    "start_time": "2022-01-07T02:21:06.689Z"
   },
   {
    "duration": 14,
    "start_time": "2022-01-07T02:21:06.745Z"
   },
   {
    "duration": 111,
    "start_time": "2022-01-07T02:21:06.762Z"
   },
   {
    "duration": 42,
    "start_time": "2022-01-07T02:21:06.876Z"
   },
   {
    "duration": 48,
    "start_time": "2022-01-07T02:21:06.921Z"
   },
   {
    "duration": 63,
    "start_time": "2022-01-07T02:21:06.972Z"
   },
   {
    "duration": 46,
    "start_time": "2022-01-07T02:21:07.038Z"
   },
   {
    "duration": 32,
    "start_time": "2022-01-07T02:21:07.087Z"
   },
   {
    "duration": 89,
    "start_time": "2022-01-07T02:21:07.125Z"
   },
   {
    "duration": -4705,
    "start_time": "2022-01-07T02:21:11.921Z"
   },
   {
    "duration": -4705,
    "start_time": "2022-01-07T02:21:11.923Z"
   },
   {
    "duration": -4718,
    "start_time": "2022-01-07T02:21:11.937Z"
   },
   {
    "duration": -4719,
    "start_time": "2022-01-07T02:21:11.940Z"
   },
   {
    "duration": -4721,
    "start_time": "2022-01-07T02:21:11.943Z"
   },
   {
    "duration": -4721,
    "start_time": "2022-01-07T02:21:11.945Z"
   },
   {
    "duration": -4724,
    "start_time": "2022-01-07T02:21:11.949Z"
   },
   {
    "duration": -4726,
    "start_time": "2022-01-07T02:21:11.952Z"
   },
   {
    "duration": -4732,
    "start_time": "2022-01-07T02:21:11.960Z"
   },
   {
    "duration": -4734,
    "start_time": "2022-01-07T02:21:11.963Z"
   },
   {
    "duration": -4734,
    "start_time": "2022-01-07T02:21:11.965Z"
   },
   {
    "duration": -4737,
    "start_time": "2022-01-07T02:21:11.969Z"
   },
   {
    "duration": -4738,
    "start_time": "2022-01-07T02:21:11.971Z"
   },
   {
    "duration": -4739,
    "start_time": "2022-01-07T02:21:11.974Z"
   },
   {
    "duration": -4741,
    "start_time": "2022-01-07T02:21:11.977Z"
   },
   {
    "duration": 53,
    "start_time": "2022-01-07T02:21:18.971Z"
   },
   {
    "duration": 45,
    "start_time": "2022-01-07T02:21:46.723Z"
   },
   {
    "duration": 54,
    "start_time": "2022-01-07T02:22:43.420Z"
   },
   {
    "duration": 1464,
    "start_time": "2022-01-07T02:22:46.975Z"
   },
   {
    "duration": 7,
    "start_time": "2022-01-07T02:22:56.538Z"
   },
   {
    "duration": 4,
    "start_time": "2022-01-07T02:23:03.523Z"
   },
   {
    "duration": 9,
    "start_time": "2022-01-07T02:23:03.530Z"
   },
   {
    "duration": 39,
    "start_time": "2022-01-07T02:23:03.543Z"
   },
   {
    "duration": 35,
    "start_time": "2022-01-07T02:23:03.585Z"
   },
   {
    "duration": 9,
    "start_time": "2022-01-07T02:23:03.622Z"
   },
   {
    "duration": 27,
    "start_time": "2022-01-07T02:23:03.633Z"
   },
   {
    "duration": 209,
    "start_time": "2022-01-07T02:23:03.662Z"
   },
   {
    "duration": 27,
    "start_time": "2022-01-07T02:23:03.873Z"
   },
   {
    "duration": 25,
    "start_time": "2022-01-07T02:23:03.917Z"
   },
   {
    "duration": 130,
    "start_time": "2022-01-07T02:23:03.945Z"
   },
   {
    "duration": 21,
    "start_time": "2022-01-07T02:23:04.077Z"
   },
   {
    "duration": 33,
    "start_time": "2022-01-07T02:23:04.100Z"
   },
   {
    "duration": 196,
    "start_time": "2022-01-07T02:23:04.136Z"
   },
   {
    "duration": 23,
    "start_time": "2022-01-07T02:23:04.335Z"
   },
   {
    "duration": 25,
    "start_time": "2022-01-07T02:23:04.360Z"
   },
   {
    "duration": 30,
    "start_time": "2022-01-07T02:23:04.388Z"
   },
   {
    "duration": 21,
    "start_time": "2022-01-07T02:23:04.420Z"
   },
   {
    "duration": 102,
    "start_time": "2022-01-07T02:23:04.444Z"
   },
   {
    "duration": 40,
    "start_time": "2022-01-07T02:23:04.549Z"
   },
   {
    "duration": 30,
    "start_time": "2022-01-07T02:23:04.591Z"
   },
   {
    "duration": 96,
    "start_time": "2022-01-07T02:23:04.624Z"
   },
   {
    "duration": 29,
    "start_time": "2022-01-07T02:23:04.722Z"
   },
   {
    "duration": 69,
    "start_time": "2022-01-07T02:23:04.753Z"
   },
   {
    "duration": 40,
    "start_time": "2022-01-07T02:23:04.825Z"
   },
   {
    "duration": 69,
    "start_time": "2022-01-07T02:23:04.867Z"
   },
   {
    "duration": 9,
    "start_time": "2022-01-07T02:23:04.938Z"
   },
   {
    "duration": 146,
    "start_time": "2022-01-07T02:23:04.952Z"
   },
   {
    "duration": 1443,
    "start_time": "2022-01-07T02:23:05.101Z"
   },
   {
    "duration": 5,
    "start_time": "2022-01-07T02:23:06.547Z"
   },
   {
    "duration": 11,
    "start_time": "2022-01-07T02:23:06.555Z"
   },
   {
    "duration": 1151,
    "start_time": "2022-01-07T02:23:06.569Z"
   },
   {
    "duration": 1142,
    "start_time": "2022-01-07T02:23:07.723Z"
   },
   {
    "duration": 1121,
    "start_time": "2022-01-07T02:23:08.868Z"
   },
   {
    "duration": 29,
    "start_time": "2022-01-07T02:23:09.992Z"
   },
   {
    "duration": 8,
    "start_time": "2022-01-07T02:23:10.024Z"
   },
   {
    "duration": 11,
    "start_time": "2022-01-07T02:23:10.035Z"
   },
   {
    "duration": 29,
    "start_time": "2022-01-07T02:23:10.049Z"
   },
   {
    "duration": 43,
    "start_time": "2022-01-07T02:23:10.081Z"
   },
   {
    "duration": 5,
    "start_time": "2022-01-07T02:23:10.127Z"
   },
   {
    "duration": 8,
    "start_time": "2022-01-07T02:23:10.135Z"
   },
   {
    "duration": 9,
    "start_time": "2022-01-07T02:23:10.145Z"
   },
   {
    "duration": 886,
    "start_time": "2022-01-07T02:26:58.231Z"
   },
   {
    "duration": 4,
    "start_time": "2022-01-07T02:27:23.675Z"
   },
   {
    "duration": 19,
    "start_time": "2022-01-07T02:27:23.682Z"
   },
   {
    "duration": 52,
    "start_time": "2022-01-07T02:27:23.704Z"
   },
   {
    "duration": 8,
    "start_time": "2022-01-07T02:27:23.758Z"
   },
   {
    "duration": 10,
    "start_time": "2022-01-07T02:27:23.769Z"
   },
   {
    "duration": 42,
    "start_time": "2022-01-07T02:27:23.781Z"
   },
   {
    "duration": 202,
    "start_time": "2022-01-07T02:27:23.825Z"
   },
   {
    "duration": 27,
    "start_time": "2022-01-07T02:27:24.029Z"
   },
   {
    "duration": 25,
    "start_time": "2022-01-07T02:27:24.060Z"
   },
   {
    "duration": 134,
    "start_time": "2022-01-07T02:27:24.088Z"
   },
   {
    "duration": 20,
    "start_time": "2022-01-07T02:27:24.224Z"
   },
   {
    "duration": 44,
    "start_time": "2022-01-07T02:27:24.247Z"
   },
   {
    "duration": 186,
    "start_time": "2022-01-07T02:27:24.294Z"
   },
   {
    "duration": 35,
    "start_time": "2022-01-07T02:27:24.482Z"
   },
   {
    "duration": 26,
    "start_time": "2022-01-07T02:27:24.519Z"
   },
   {
    "duration": 10,
    "start_time": "2022-01-07T02:27:24.548Z"
   },
   {
    "duration": 13,
    "start_time": "2022-01-07T02:27:24.560Z"
   },
   {
    "duration": 130,
    "start_time": "2022-01-07T02:27:24.576Z"
   },
   {
    "duration": 47,
    "start_time": "2022-01-07T02:27:24.709Z"
   },
   {
    "duration": 16,
    "start_time": "2022-01-07T02:27:24.759Z"
   },
   {
    "duration": 108,
    "start_time": "2022-01-07T02:27:24.777Z"
   },
   {
    "duration": 40,
    "start_time": "2022-01-07T02:27:24.888Z"
   },
   {
    "duration": 46,
    "start_time": "2022-01-07T02:27:24.930Z"
   },
   {
    "duration": 53,
    "start_time": "2022-01-07T02:27:24.979Z"
   },
   {
    "duration": 43,
    "start_time": "2022-01-07T02:27:25.035Z"
   },
   {
    "duration": 10,
    "start_time": "2022-01-07T02:27:25.080Z"
   },
   {
    "duration": 171,
    "start_time": "2022-01-07T02:27:25.120Z"
   },
   {
    "duration": 1506,
    "start_time": "2022-01-07T02:27:25.294Z"
   },
   {
    "duration": 1319,
    "start_time": "2022-01-07T02:27:26.803Z"
   },
   {
    "duration": 1206,
    "start_time": "2022-01-07T02:27:28.124Z"
   },
   {
    "duration": 1206,
    "start_time": "2022-01-07T02:27:29.332Z"
   },
   {
    "duration": 10,
    "start_time": "2022-01-07T02:27:30.540Z"
   },
   {
    "duration": 10,
    "start_time": "2022-01-07T02:27:30.552Z"
   },
   {
    "duration": 9,
    "start_time": "2022-01-07T02:27:30.564Z"
   },
   {
    "duration": 61,
    "start_time": "2022-01-07T02:27:30.576Z"
   },
   {
    "duration": 10,
    "start_time": "2022-01-07T02:27:30.639Z"
   },
   {
    "duration": 7,
    "start_time": "2022-01-07T02:27:30.652Z"
   },
   {
    "duration": 8,
    "start_time": "2022-01-07T02:27:30.661Z"
   },
   {
    "duration": 10,
    "start_time": "2022-01-07T02:27:30.671Z"
   },
   {
    "duration": 101,
    "start_time": "2022-01-07T02:47:59.145Z"
   },
   {
    "duration": 100,
    "start_time": "2022-01-07T02:48:07.764Z"
   },
   {
    "duration": 665,
    "start_time": "2022-01-07T02:48:21.548Z"
   },
   {
    "duration": 747,
    "start_time": "2022-01-07T02:48:55.684Z"
   },
   {
    "duration": 1073,
    "start_time": "2022-01-07T02:49:24.622Z"
   },
   {
    "duration": 1047,
    "start_time": "2022-01-07T02:49:38.509Z"
   },
   {
    "duration": 1333,
    "start_time": "2022-01-07T02:54:21.950Z"
   },
   {
    "duration": 3,
    "start_time": "2022-01-07T02:54:23.286Z"
   },
   {
    "duration": 42,
    "start_time": "2022-01-07T02:54:23.292Z"
   },
   {
    "duration": 10,
    "start_time": "2022-01-07T02:54:23.337Z"
   },
   {
    "duration": 10,
    "start_time": "2022-01-07T02:54:23.349Z"
   },
   {
    "duration": 31,
    "start_time": "2022-01-07T02:54:23.361Z"
   },
   {
    "duration": 218,
    "start_time": "2022-01-07T02:54:23.395Z"
   },
   {
    "duration": 26,
    "start_time": "2022-01-07T02:54:23.619Z"
   },
   {
    "duration": 23,
    "start_time": "2022-01-07T02:54:23.648Z"
   },
   {
    "duration": 124,
    "start_time": "2022-01-07T02:54:23.674Z"
   },
   {
    "duration": 21,
    "start_time": "2022-01-07T02:54:23.801Z"
   },
   {
    "duration": 26,
    "start_time": "2022-01-07T02:54:23.824Z"
   },
   {
    "duration": 199,
    "start_time": "2022-01-07T02:54:23.853Z"
   },
   {
    "duration": 22,
    "start_time": "2022-01-07T02:54:24.054Z"
   },
   {
    "duration": 37,
    "start_time": "2022-01-07T02:54:24.079Z"
   },
   {
    "duration": 7,
    "start_time": "2022-01-07T02:54:24.119Z"
   },
   {
    "duration": 10,
    "start_time": "2022-01-07T02:54:24.128Z"
   },
   {
    "duration": 126,
    "start_time": "2022-01-07T02:54:24.141Z"
   },
   {
    "duration": 55,
    "start_time": "2022-01-07T02:54:24.269Z"
   },
   {
    "duration": 15,
    "start_time": "2022-01-07T02:54:24.327Z"
   },
   {
    "duration": 113,
    "start_time": "2022-01-07T02:54:24.345Z"
   },
   {
    "duration": 29,
    "start_time": "2022-01-07T02:54:24.461Z"
   },
   {
    "duration": 48,
    "start_time": "2022-01-07T02:54:24.517Z"
   },
   {
    "duration": 55,
    "start_time": "2022-01-07T02:54:24.569Z"
   },
   {
    "duration": 48,
    "start_time": "2022-01-07T02:54:24.627Z"
   },
   {
    "duration": 11,
    "start_time": "2022-01-07T02:54:24.678Z"
   },
   {
    "duration": 55,
    "start_time": "2022-01-07T02:54:24.718Z"
   },
   {
    "duration": 1426,
    "start_time": "2022-01-07T02:54:24.776Z"
   },
   {
    "duration": 1112,
    "start_time": "2022-01-07T02:54:26.205Z"
   },
   {
    "duration": 1153,
    "start_time": "2022-01-07T02:54:27.319Z"
   },
   {
    "duration": 1041,
    "start_time": "2022-01-07T02:54:28.475Z"
   },
   {
    "duration": 1207,
    "start_time": "2022-01-07T02:54:29.518Z"
   },
   {
    "duration": 10,
    "start_time": "2022-01-07T02:54:30.727Z"
   },
   {
    "duration": 7,
    "start_time": "2022-01-07T02:54:30.739Z"
   },
   {
    "duration": 10,
    "start_time": "2022-01-07T02:54:30.749Z"
   },
   {
    "duration": 60,
    "start_time": "2022-01-07T02:54:30.761Z"
   },
   {
    "duration": 14,
    "start_time": "2022-01-07T02:54:30.823Z"
   },
   {
    "duration": 7,
    "start_time": "2022-01-07T02:54:30.839Z"
   },
   {
    "duration": 8,
    "start_time": "2022-01-07T02:54:30.848Z"
   },
   {
    "duration": 10,
    "start_time": "2022-01-07T02:54:30.859Z"
   },
   {
    "duration": 1454,
    "start_time": "2022-01-07T02:59:11.323Z"
   },
   {
    "duration": 3,
    "start_time": "2022-01-07T02:59:12.780Z"
   },
   {
    "duration": 41,
    "start_time": "2022-01-07T02:59:12.787Z"
   },
   {
    "duration": 12,
    "start_time": "2022-01-07T02:59:12.831Z"
   },
   {
    "duration": 11,
    "start_time": "2022-01-07T02:59:12.845Z"
   },
   {
    "duration": 28,
    "start_time": "2022-01-07T02:59:12.858Z"
   },
   {
    "duration": 225,
    "start_time": "2022-01-07T02:59:12.889Z"
   },
   {
    "duration": 27,
    "start_time": "2022-01-07T02:59:13.119Z"
   },
   {
    "duration": 25,
    "start_time": "2022-01-07T02:59:13.150Z"
   },
   {
    "duration": 132,
    "start_time": "2022-01-07T02:59:13.177Z"
   },
   {
    "duration": 19,
    "start_time": "2022-01-07T02:59:13.312Z"
   },
   {
    "duration": 29,
    "start_time": "2022-01-07T02:59:13.333Z"
   },
   {
    "duration": 213,
    "start_time": "2022-01-07T02:59:13.364Z"
   },
   {
    "duration": 21,
    "start_time": "2022-01-07T02:59:13.580Z"
   },
   {
    "duration": 24,
    "start_time": "2022-01-07T02:59:13.617Z"
   },
   {
    "duration": 8,
    "start_time": "2022-01-07T02:59:13.643Z"
   },
   {
    "duration": 10,
    "start_time": "2022-01-07T02:59:13.653Z"
   },
   {
    "duration": 120,
    "start_time": "2022-01-07T02:59:13.665Z"
   },
   {
    "duration": 53,
    "start_time": "2022-01-07T02:59:13.787Z"
   },
   {
    "duration": 92,
    "start_time": "2022-01-07T02:59:13.842Z"
   },
   {
    "duration": 28,
    "start_time": "2022-01-07T02:59:13.936Z"
   },
   {
    "duration": 74,
    "start_time": "2022-01-07T02:59:13.966Z"
   },
   {
    "duration": 32,
    "start_time": "2022-01-07T02:59:14.045Z"
   },
   {
    "duration": 66,
    "start_time": "2022-01-07T02:59:14.080Z"
   },
   {
    "duration": 8,
    "start_time": "2022-01-07T02:59:14.148Z"
   },
   {
    "duration": 68,
    "start_time": "2022-01-07T02:59:14.159Z"
   },
   {
    "duration": 1505,
    "start_time": "2022-01-07T02:59:14.229Z"
   },
   {
    "duration": 1212,
    "start_time": "2022-01-07T02:59:15.736Z"
   },
   {
    "duration": 1293,
    "start_time": "2022-01-07T02:59:16.951Z"
   },
   {
    "duration": 1063,
    "start_time": "2022-01-07T02:59:18.246Z"
   },
   {
    "duration": 1321,
    "start_time": "2022-01-07T02:59:19.311Z"
   },
   {
    "duration": 11,
    "start_time": "2022-01-07T02:59:20.634Z"
   },
   {
    "duration": 7,
    "start_time": "2022-01-07T02:59:20.647Z"
   },
   {
    "duration": 8,
    "start_time": "2022-01-07T02:59:20.657Z"
   },
   {
    "duration": 61,
    "start_time": "2022-01-07T02:59:20.668Z"
   },
   {
    "duration": 14,
    "start_time": "2022-01-07T02:59:20.731Z"
   },
   {
    "duration": 3,
    "start_time": "2022-01-07T02:59:20.748Z"
   },
   {
    "duration": 11,
    "start_time": "2022-01-07T02:59:20.754Z"
   },
   {
    "duration": 7,
    "start_time": "2022-01-07T02:59:20.767Z"
   }
  ],
  "kernelspec": {
   "display_name": "Python 3 (ipykernel)",
   "language": "python",
   "name": "python3"
  },
  "language_info": {
   "codemirror_mode": {
    "name": "ipython",
    "version": 3
   },
   "file_extension": ".py",
   "mimetype": "text/x-python",
   "name": "python",
   "nbconvert_exporter": "python",
   "pygments_lexer": "ipython3",
   "version": "3.7.8"
  },
  "toc": {
   "base_numbering": 1,
   "nav_menu": {},
   "number_sections": true,
   "sideBar": true,
   "skip_h1_title": true,
   "title_cell": "Table of Contents",
   "title_sidebar": "Contents",
   "toc_cell": false,
   "toc_position": {},
   "toc_section_display": true,
   "toc_window_display": false
  }
 },
 "nbformat": 4,
 "nbformat_minor": 2
}
