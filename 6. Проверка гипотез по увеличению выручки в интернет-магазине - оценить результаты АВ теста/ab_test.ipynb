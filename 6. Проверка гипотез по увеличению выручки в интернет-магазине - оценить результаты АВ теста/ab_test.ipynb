{
 "cells": [
  {
   "cell_type": "markdown",
   "metadata": {},
   "source": [
    "# <center>Проведение А/В-теста для проверки гипотезы для увеличения выручки  интернет-магазина</center>"
   ]
  },
  {
   "cell_type": "markdown",
   "metadata": {},
   "source": [
    "# <center>Описание проекта</center>\n",
    "Для увеличения выручки интернет-магазина отделами аналитики и маркетинга был выдвинут список гипотез, который необходимо приоритизировать. В соответствии с приоритизацией будет выбрана гипотеза для проведения А/В-теста, результаты которого будут проанализированы.\n",
    "\n",
    "Проект состоит из двух частей:\n",
    "1. Приоритизация гипотез\n",
    "2. Анализ A/B-теста"
   ]
  },
  {
   "cell_type": "markdown",
   "metadata": {},
   "source": [
    "## Приоритизация гипотез"
   ]
  },
  {
   "cell_type": "markdown",
   "metadata": {},
   "source": [
    "Данная часть включает следующие задачи:\n",
    "* Применение фреймворка ICE для приоритизации гипотез\n",
    "* Применение фреймворк RICE для приоритизации гипотез\n",
    "* Причина изменения приоритизации гипотез при применении RICE вместо ICE"
   ]
  },
  {
   "cell_type": "code",
   "execution_count": 1,
   "metadata": {},
   "outputs": [],
   "source": [
    "# подключения библиотек\n",
    "import pandas as pd\n",
    "import datetime as dt\n",
    "import numpy as np\n",
    "import matplotlib.pyplot as plt\n",
    "import scipy.stats as stats\n",
    "from pandas.plotting import register_matplotlib_converters"
   ]
  },
  {
   "cell_type": "code",
   "execution_count": 2,
   "metadata": {},
   "outputs": [],
   "source": [
    "register_matplotlib_converters()"
   ]
  },
  {
   "cell_type": "code",
   "execution_count": 3,
   "metadata": {},
   "outputs": [],
   "source": [
    "# загрузка данных\n",
    "try:\n",
    "    hypothesis = pd.read_csv('/datasets/hypothesis.csv')\n",
    "except:\n",
    "    hypothesis = pd.read_csv('hypothesis.csv')"
   ]
  },
  {
   "cell_type": "code",
   "execution_count": 4,
   "metadata": {},
   "outputs": [],
   "source": [
    "pd.set_option(\"max_colwidth\", 110)"
   ]
  },
  {
   "cell_type": "code",
   "execution_count": 5,
   "metadata": {},
   "outputs": [
    {
     "data": {
      "text/html": [
       "<div>\n",
       "<style scoped>\n",
       "    .dataframe tbody tr th:only-of-type {\n",
       "        vertical-align: middle;\n",
       "    }\n",
       "\n",
       "    .dataframe tbody tr th {\n",
       "        vertical-align: top;\n",
       "    }\n",
       "\n",
       "    .dataframe thead th {\n",
       "        text-align: right;\n",
       "    }\n",
       "</style>\n",
       "<table border=\"1\" class=\"dataframe\">\n",
       "  <thead>\n",
       "    <tr style=\"text-align: right;\">\n",
       "      <th></th>\n",
       "      <th>Hypothesis</th>\n",
       "      <th>Reach</th>\n",
       "      <th>Impact</th>\n",
       "      <th>Confidence</th>\n",
       "      <th>Efforts</th>\n",
       "    </tr>\n",
       "  </thead>\n",
       "  <tbody>\n",
       "    <tr>\n",
       "      <td>0</td>\n",
       "      <td>Добавить два новых канала привлечения трафика, что позволит привлекать на 30% больше пользователей</td>\n",
       "      <td>3</td>\n",
       "      <td>10</td>\n",
       "      <td>8</td>\n",
       "      <td>6</td>\n",
       "    </tr>\n",
       "    <tr>\n",
       "      <td>1</td>\n",
       "      <td>Запустить собственную службу доставки, что сократит срок доставки заказов</td>\n",
       "      <td>2</td>\n",
       "      <td>5</td>\n",
       "      <td>4</td>\n",
       "      <td>10</td>\n",
       "    </tr>\n",
       "    <tr>\n",
       "      <td>2</td>\n",
       "      <td>Добавить блоки рекомендаций товаров на сайт интернет магазина, чтобы повысить конверсию и средний чек заказа</td>\n",
       "      <td>8</td>\n",
       "      <td>3</td>\n",
       "      <td>7</td>\n",
       "      <td>3</td>\n",
       "    </tr>\n",
       "    <tr>\n",
       "      <td>3</td>\n",
       "      <td>Изменить структура категорий, что увеличит конверсию, т.к. пользователи быстрее найдут нужный товар</td>\n",
       "      <td>8</td>\n",
       "      <td>3</td>\n",
       "      <td>3</td>\n",
       "      <td>8</td>\n",
       "    </tr>\n",
       "    <tr>\n",
       "      <td>4</td>\n",
       "      <td>Изменить цвет фона главной страницы, чтобы увеличить вовлеченность пользователей</td>\n",
       "      <td>3</td>\n",
       "      <td>1</td>\n",
       "      <td>1</td>\n",
       "      <td>1</td>\n",
       "    </tr>\n",
       "    <tr>\n",
       "      <td>5</td>\n",
       "      <td>Добавить страницу отзывов клиентов о магазине, что позволит увеличить количество заказов</td>\n",
       "      <td>3</td>\n",
       "      <td>2</td>\n",
       "      <td>2</td>\n",
       "      <td>3</td>\n",
       "    </tr>\n",
       "    <tr>\n",
       "      <td>6</td>\n",
       "      <td>Показать на главной странице баннеры с актуальными акциями и распродажами, чтобы увеличить конверсию</td>\n",
       "      <td>5</td>\n",
       "      <td>3</td>\n",
       "      <td>8</td>\n",
       "      <td>3</td>\n",
       "    </tr>\n",
       "    <tr>\n",
       "      <td>7</td>\n",
       "      <td>Добавить форму подписки на все основные страницы, чтобы собрать базу клиентов для email-рассылок</td>\n",
       "      <td>10</td>\n",
       "      <td>7</td>\n",
       "      <td>8</td>\n",
       "      <td>5</td>\n",
       "    </tr>\n",
       "    <tr>\n",
       "      <td>8</td>\n",
       "      <td>Запустить акцию, дающую скидку на товар в день рождения</td>\n",
       "      <td>1</td>\n",
       "      <td>9</td>\n",
       "      <td>9</td>\n",
       "      <td>5</td>\n",
       "    </tr>\n",
       "  </tbody>\n",
       "</table>\n",
       "</div>"
      ],
      "text/plain": [
       "                                                                                                     Hypothesis  \\\n",
       "0            Добавить два новых канала привлечения трафика, что позволит привлекать на 30% больше пользователей   \n",
       "1                                     Запустить собственную службу доставки, что сократит срок доставки заказов   \n",
       "2  Добавить блоки рекомендаций товаров на сайт интернет магазина, чтобы повысить конверсию и средний чек заказа   \n",
       "3           Изменить структура категорий, что увеличит конверсию, т.к. пользователи быстрее найдут нужный товар   \n",
       "4                              Изменить цвет фона главной страницы, чтобы увеличить вовлеченность пользователей   \n",
       "5                      Добавить страницу отзывов клиентов о магазине, что позволит увеличить количество заказов   \n",
       "6          Показать на главной странице баннеры с актуальными акциями и распродажами, чтобы увеличить конверсию   \n",
       "7              Добавить форму подписки на все основные страницы, чтобы собрать базу клиентов для email-рассылок   \n",
       "8                                                       Запустить акцию, дающую скидку на товар в день рождения   \n",
       "\n",
       "   Reach  Impact  Confidence  Efforts  \n",
       "0      3      10           8        6  \n",
       "1      2       5           4       10  \n",
       "2      8       3           7        3  \n",
       "3      8       3           3        8  \n",
       "4      3       1           1        1  \n",
       "5      3       2           2        3  \n",
       "6      5       3           8        3  \n",
       "7     10       7           8        5  \n",
       "8      1       9           9        5  "
      ]
     },
     "execution_count": 5,
     "metadata": {},
     "output_type": "execute_result"
    }
   ],
   "source": [
    "hypothesis"
   ]
  },
  {
   "cell_type": "code",
   "execution_count": 6,
   "metadata": {},
   "outputs": [
    {
     "name": "stdout",
     "output_type": "stream",
     "text": [
      "1 Добавить два новых канала привлечения трафика, что позволит привлекать на 30% больше пользователей\n",
      "2 Запустить собственную службу доставки, что сократит срок доставки заказов\n",
      "3 Добавить блоки рекомендаций товаров на сайт интернет магазина, чтобы повысить конверсию и средний чек заказа\n",
      "4 Изменить структура категорий, что увеличит конверсию, т.к. пользователи быстрее найдут нужный товар\n",
      "5 Изменить цвет фона главной страницы, чтобы увеличить вовлеченность пользователей\n",
      "6 Добавить страницу отзывов клиентов о магазине, что позволит увеличить количество заказов\n",
      "7 Показать на главной странице баннеры с актуальными акциями и распродажами, чтобы увеличить конверсию\n",
      "8 Добавить форму подписки на все основные страницы, чтобы собрать базу клиентов для email-рассылок\n",
      "9 Запустить акцию, дающую скидку на товар в день рождения\n"
     ]
    }
   ],
   "source": [
    "#список гипотез\n",
    "for i in range(0, 9):\n",
    "    print(i+1, hypothesis.iloc[i, 0])"
   ]
  },
  {
   "cell_type": "markdown",
   "metadata": {},
   "source": [
    "### Применение фреймворка ICE для приоритизации гипотез"
   ]
  },
  {
   "cell_type": "code",
   "execution_count": 7,
   "metadata": {},
   "outputs": [
    {
     "name": "stdout",
     "output_type": "stream",
     "text": [
      "Приоритезация гипотез методом ICE\n"
     ]
    },
    {
     "data": {
      "text/html": [
       "<div>\n",
       "<style scoped>\n",
       "    .dataframe tbody tr th:only-of-type {\n",
       "        vertical-align: middle;\n",
       "    }\n",
       "\n",
       "    .dataframe tbody tr th {\n",
       "        vertical-align: top;\n",
       "    }\n",
       "\n",
       "    .dataframe thead th {\n",
       "        text-align: right;\n",
       "    }\n",
       "</style>\n",
       "<table border=\"1\" class=\"dataframe\">\n",
       "  <thead>\n",
       "    <tr style=\"text-align: right;\">\n",
       "      <th></th>\n",
       "      <th>№ hypothesis</th>\n",
       "      <th>rating</th>\n",
       "    </tr>\n",
       "  </thead>\n",
       "  <tbody>\n",
       "    <tr>\n",
       "      <td>0</td>\n",
       "      <td>9</td>\n",
       "      <td>16.2</td>\n",
       "    </tr>\n",
       "    <tr>\n",
       "      <td>1</td>\n",
       "      <td>1</td>\n",
       "      <td>13.3</td>\n",
       "    </tr>\n",
       "    <tr>\n",
       "      <td>2</td>\n",
       "      <td>8</td>\n",
       "      <td>11.2</td>\n",
       "    </tr>\n",
       "    <tr>\n",
       "      <td>3</td>\n",
       "      <td>7</td>\n",
       "      <td>8.0</td>\n",
       "    </tr>\n",
       "    <tr>\n",
       "      <td>4</td>\n",
       "      <td>3</td>\n",
       "      <td>7.0</td>\n",
       "    </tr>\n",
       "    <tr>\n",
       "      <td>5</td>\n",
       "      <td>2</td>\n",
       "      <td>2.0</td>\n",
       "    </tr>\n",
       "    <tr>\n",
       "      <td>6</td>\n",
       "      <td>6</td>\n",
       "      <td>1.3</td>\n",
       "    </tr>\n",
       "    <tr>\n",
       "      <td>7</td>\n",
       "      <td>4</td>\n",
       "      <td>1.1</td>\n",
       "    </tr>\n",
       "    <tr>\n",
       "      <td>8</td>\n",
       "      <td>5</td>\n",
       "      <td>1.0</td>\n",
       "    </tr>\n",
       "  </tbody>\n",
       "</table>\n",
       "</div>"
      ],
      "text/plain": [
       "   № hypothesis  rating\n",
       "0             9    16.2\n",
       "1             1    13.3\n",
       "2             8    11.2\n",
       "3             7     8.0\n",
       "4             3     7.0\n",
       "5             2     2.0\n",
       "6             6     1.3\n",
       "7             4     1.1\n",
       "8             5     1.0"
      ]
     },
     "execution_count": 7,
     "metadata": {},
     "output_type": "execute_result"
    }
   ],
   "source": [
    "ice = (\n",
    "    (hypothesis['Impact'] * hypothesis['Confidence'] / hypothesis['Efforts'])\n",
    "    .sort_values(ascending=False).reset_index().round(1)\n",
    ")\n",
    "ice.columns = ['№ hypothesis', 'rating']\n",
    "ice['№ hypothesis'] = ice['№ hypothesis']+1\n",
    "print('Приоритезация гипотез методом ICE')\n",
    "ice"
   ]
  },
  {
   "cell_type": "markdown",
   "metadata": {},
   "source": [
    "Гипотеза №9 оказалась самой приоритетной согласно фреймворку ICE.\n",
    "\n",
    "*Гипотеза №9: Запустить акцию, дающую скидку на товар в день рождения*"
   ]
  },
  {
   "cell_type": "markdown",
   "metadata": {},
   "source": [
    "### Применение фреймворка RICE для приоритизации гипотез"
   ]
  },
  {
   "cell_type": "code",
   "execution_count": 8,
   "metadata": {},
   "outputs": [
    {
     "name": "stdout",
     "output_type": "stream",
     "text": [
      "Приоритезация гипотез методом RICE\n"
     ]
    },
    {
     "data": {
      "text/html": [
       "<div>\n",
       "<style scoped>\n",
       "    .dataframe tbody tr th:only-of-type {\n",
       "        vertical-align: middle;\n",
       "    }\n",
       "\n",
       "    .dataframe tbody tr th {\n",
       "        vertical-align: top;\n",
       "    }\n",
       "\n",
       "    .dataframe thead th {\n",
       "        text-align: right;\n",
       "    }\n",
       "</style>\n",
       "<table border=\"1\" class=\"dataframe\">\n",
       "  <thead>\n",
       "    <tr style=\"text-align: right;\">\n",
       "      <th></th>\n",
       "      <th>№ hypothesis</th>\n",
       "      <th>rating</th>\n",
       "    </tr>\n",
       "  </thead>\n",
       "  <tbody>\n",
       "    <tr>\n",
       "      <td>0</td>\n",
       "      <td>8</td>\n",
       "      <td>112.0</td>\n",
       "    </tr>\n",
       "    <tr>\n",
       "      <td>1</td>\n",
       "      <td>3</td>\n",
       "      <td>56.0</td>\n",
       "    </tr>\n",
       "    <tr>\n",
       "      <td>2</td>\n",
       "      <td>7</td>\n",
       "      <td>40.0</td>\n",
       "    </tr>\n",
       "    <tr>\n",
       "      <td>3</td>\n",
       "      <td>1</td>\n",
       "      <td>40.0</td>\n",
       "    </tr>\n",
       "    <tr>\n",
       "      <td>4</td>\n",
       "      <td>9</td>\n",
       "      <td>16.2</td>\n",
       "    </tr>\n",
       "    <tr>\n",
       "      <td>5</td>\n",
       "      <td>4</td>\n",
       "      <td>9.0</td>\n",
       "    </tr>\n",
       "    <tr>\n",
       "      <td>6</td>\n",
       "      <td>6</td>\n",
       "      <td>4.0</td>\n",
       "    </tr>\n",
       "    <tr>\n",
       "      <td>7</td>\n",
       "      <td>2</td>\n",
       "      <td>4.0</td>\n",
       "    </tr>\n",
       "    <tr>\n",
       "      <td>8</td>\n",
       "      <td>5</td>\n",
       "      <td>3.0</td>\n",
       "    </tr>\n",
       "  </tbody>\n",
       "</table>\n",
       "</div>"
      ],
      "text/plain": [
       "   № hypothesis  rating\n",
       "0             8   112.0\n",
       "1             3    56.0\n",
       "2             7    40.0\n",
       "3             1    40.0\n",
       "4             9    16.2\n",
       "5             4     9.0\n",
       "6             6     4.0\n",
       "7             2     4.0\n",
       "8             5     3.0"
      ]
     },
     "execution_count": 8,
     "metadata": {},
     "output_type": "execute_result"
    }
   ],
   "source": [
    "rice = (\n",
    "    (hypothesis['Reach'] * hypothesis['Impact'] * hypothesis['Confidence'] / hypothesis['Efforts'])\n",
    "    .sort_values(ascending=False).reset_index().round(1)\n",
    ")\n",
    "rice.columns = ['№ hypothesis', 'rating']\n",
    "rice['№ hypothesis'] = rice['№ hypothesis']+1\n",
    "print('Приоритезация гипотез методом RICE')\n",
    "rice"
   ]
  },
  {
   "cell_type": "markdown",
   "metadata": {},
   "source": [
    "Гипотеза №8 оказалась самой приоритетной согласно фреймворку ICE.\n",
    "\n",
    "*Гипотеза №8: Добавить форму подписки на все основные страницы, чтобы собрать базу клиентов для email-рассылок*"
   ]
  },
  {
   "cell_type": "markdown",
   "metadata": {},
   "source": [
    "### Причина изменения приоритизации гипотез при применении RICE вместо ICE"
   ]
  },
  {
   "cell_type": "code",
   "execution_count": 9,
   "metadata": {},
   "outputs": [
    {
     "data": {
      "text/html": [
       "<div>\n",
       "<style scoped>\n",
       "    .dataframe tbody tr th:only-of-type {\n",
       "        vertical-align: middle;\n",
       "    }\n",
       "\n",
       "    .dataframe tbody tr th {\n",
       "        vertical-align: top;\n",
       "    }\n",
       "\n",
       "    .dataframe thead th {\n",
       "        text-align: right;\n",
       "    }\n",
       "</style>\n",
       "<table border=\"1\" class=\"dataframe\">\n",
       "  <thead>\n",
       "    <tr style=\"text-align: right;\">\n",
       "      <th></th>\n",
       "      <th>№ hypothesis_ice</th>\n",
       "      <th>№ hypothesis_rice</th>\n",
       "    </tr>\n",
       "  </thead>\n",
       "  <tbody>\n",
       "    <tr>\n",
       "      <td>0</td>\n",
       "      <td>9</td>\n",
       "      <td>8</td>\n",
       "    </tr>\n",
       "    <tr>\n",
       "      <td>1</td>\n",
       "      <td>1</td>\n",
       "      <td>3</td>\n",
       "    </tr>\n",
       "    <tr>\n",
       "      <td>2</td>\n",
       "      <td>8</td>\n",
       "      <td>7</td>\n",
       "    </tr>\n",
       "    <tr>\n",
       "      <td>3</td>\n",
       "      <td>7</td>\n",
       "      <td>1</td>\n",
       "    </tr>\n",
       "    <tr>\n",
       "      <td>4</td>\n",
       "      <td>3</td>\n",
       "      <td>9</td>\n",
       "    </tr>\n",
       "    <tr>\n",
       "      <td>5</td>\n",
       "      <td>2</td>\n",
       "      <td>4</td>\n",
       "    </tr>\n",
       "    <tr>\n",
       "      <td>6</td>\n",
       "      <td>6</td>\n",
       "      <td>6</td>\n",
       "    </tr>\n",
       "    <tr>\n",
       "      <td>7</td>\n",
       "      <td>4</td>\n",
       "      <td>2</td>\n",
       "    </tr>\n",
       "    <tr>\n",
       "      <td>8</td>\n",
       "      <td>5</td>\n",
       "      <td>5</td>\n",
       "    </tr>\n",
       "  </tbody>\n",
       "</table>\n",
       "</div>"
      ],
      "text/plain": [
       "   № hypothesis_ice  № hypothesis_rice\n",
       "0                 9                  8\n",
       "1                 1                  3\n",
       "2                 8                  7\n",
       "3                 7                  1\n",
       "4                 3                  9\n",
       "5                 2                  4\n",
       "6                 6                  6\n",
       "7                 4                  2\n",
       "8                 5                  5"
      ]
     },
     "execution_count": 9,
     "metadata": {},
     "output_type": "execute_result"
    }
   ],
   "source": [
    "ice_rice = ice.join(rice, lsuffix='_ice', rsuffix='_rice')[['№ hypothesis_ice', '№ hypothesis_rice']]\n",
    "ice_rice"
   ]
  },
  {
   "cell_type": "markdown",
   "metadata": {},
   "source": [
    "При применении фреймворка RICE самой приоритетной оказалась гипотеза №8. А гипотеза №9, которая была лидером при применении фреймворка ICE оказалась на пятой строчке.<br>\n",
    "Это произошло из-за параметра Reach (скольких пользователей затронет вносимое изменение). Гипотеза №9 гласит: *Запустить акцию, дающую скидку на товар в день рождения*. Reach у этой гипотезы равен 1, т.к. он влияет на малое количество пользователей (не все пользователи совершат покупку в день рождения). Reach для гипотезы №8 равен 10, т.к. данное изменение окажет влияние на всех пользователей."
   ]
  },
  {
   "cell_type": "markdown",
   "metadata": {},
   "source": [
    "## Анализ A/B-теста"
   ]
  },
  {
   "cell_type": "markdown",
   "metadata": {},
   "source": [
    "Был проведен А/В-тест и получены результаты. Необходимо проанализировать А/В-тест.\n",
    "\n",
    "Данная часть включает следующие задачи:\n",
    "* Построение графика кумулятивной выручки по группам. Сделать выводы и предположения.\n",
    "* Построение графика кумулятивного среднего чека по группам. Сделать выводы и предположения.\n",
    "* Построение графика относительного изменения кумулятивного среднего чека группы B к группе A. Сделать выводы и предположения.\n",
    "* Построение графика кумулятивной конверсии по группам. Сделать выводы и предположения.\n",
    "* Построение графика относительного изменения кумулятивной конверсии группы B к группе A. Сделать выводы и предположения.\n",
    "* Построение точечного графика количества заказов по пользователям. Сделать выводы и предположения.\n",
    "* Расчет 95-й и 99-й перцентилей количества заказов на пользователя. Выбрать границу для определения аномальных пользователей.\n",
    "* Построение точечного графика стоимостей заказов. Сделать выводы и предположения.\n",
    "* Расчет 95-й и 99-й перцентилей стоимости заказов. Выбрать границу для определения аномальных заказов.\n",
    "* Расчет статистической значимости различий в конверсии между группами по «сырым» данным. Сделать выводы и предположения.\n",
    "* Расчет статистической значимости различий в среднем чеке заказа между группами по «сырым» данным. Сделать выводы и предположения.\n",
    "* Расчет статистической значимости различий в конверсии между группами по «очищенным» данным. Сделать выводы и предположения.\n",
    "* Расчет статистической значимости различий в среднем чеке заказа между группами по «очищенным» данным. Сделать выводы и предположения.\n",
    "* Приняние решения по результатам теста и объяснить его."
   ]
  },
  {
   "cell_type": "code",
   "execution_count": 10,
   "metadata": {},
   "outputs": [],
   "source": [
    "# загрузка данных\n",
    "try:\n",
    "    orders = pd.read_csv('/datasets/orders.csv')\n",
    "    visitors = pd.read_csv('/datasets/visitors.csv')\n",
    "except:\n",
    "    orders = pd.read_csv('orders.csv')\n",
    "    visitors = pd.read_csv('visitors.csv')"
   ]
  },
  {
   "cell_type": "code",
   "execution_count": 11,
   "metadata": {},
   "outputs": [],
   "source": [
    "# напишем функцию для получения общей информации о датасете, наличии дубликатов \n",
    "def get_info(df):\n",
    "    return (display(df.sample(3)),\n",
    "            df.info(), \n",
    "            print(f'Количество дубликатов: {df.duplicated().sum()}'))"
   ]
  },
  {
   "cell_type": "code",
   "execution_count": 12,
   "metadata": {},
   "outputs": [
    {
     "data": {
      "text/html": [
       "<div>\n",
       "<style scoped>\n",
       "    .dataframe tbody tr th:only-of-type {\n",
       "        vertical-align: middle;\n",
       "    }\n",
       "\n",
       "    .dataframe tbody tr th {\n",
       "        vertical-align: top;\n",
       "    }\n",
       "\n",
       "    .dataframe thead th {\n",
       "        text-align: right;\n",
       "    }\n",
       "</style>\n",
       "<table border=\"1\" class=\"dataframe\">\n",
       "  <thead>\n",
       "    <tr style=\"text-align: right;\">\n",
       "      <th></th>\n",
       "      <th>transactionId</th>\n",
       "      <th>visitorId</th>\n",
       "      <th>date</th>\n",
       "      <th>revenue</th>\n",
       "      <th>group</th>\n",
       "    </tr>\n",
       "  </thead>\n",
       "  <tbody>\n",
       "    <tr>\n",
       "      <td>854</td>\n",
       "      <td>2865895399</td>\n",
       "      <td>1732269954</td>\n",
       "      <td>2019-08-27</td>\n",
       "      <td>760</td>\n",
       "      <td>A</td>\n",
       "    </tr>\n",
       "    <tr>\n",
       "      <td>552</td>\n",
       "      <td>151437276</td>\n",
       "      <td>3908431265</td>\n",
       "      <td>2019-08-06</td>\n",
       "      <td>1510</td>\n",
       "      <td>A</td>\n",
       "    </tr>\n",
       "    <tr>\n",
       "      <td>181</td>\n",
       "      <td>1532499979</td>\n",
       "      <td>2617784228</td>\n",
       "      <td>2019-08-23</td>\n",
       "      <td>3468</td>\n",
       "      <td>B</td>\n",
       "    </tr>\n",
       "  </tbody>\n",
       "</table>\n",
       "</div>"
      ],
      "text/plain": [
       "     transactionId   visitorId        date  revenue group\n",
       "854     2865895399  1732269954  2019-08-27      760     A\n",
       "552      151437276  3908431265  2019-08-06     1510     A\n",
       "181     1532499979  2617784228  2019-08-23     3468     B"
      ]
     },
     "metadata": {},
     "output_type": "display_data"
    },
    {
     "name": "stdout",
     "output_type": "stream",
     "text": [
      "<class 'pandas.core.frame.DataFrame'>\n",
      "RangeIndex: 1197 entries, 0 to 1196\n",
      "Data columns (total 5 columns):\n",
      "transactionId    1197 non-null int64\n",
      "visitorId        1197 non-null int64\n",
      "date             1197 non-null object\n",
      "revenue          1197 non-null int64\n",
      "group            1197 non-null object\n",
      "dtypes: int64(3), object(2)\n",
      "memory usage: 46.9+ KB\n",
      "Количество дубликатов: 0\n"
     ]
    },
    {
     "data": {
      "text/plain": [
       "(None, None, None)"
      ]
     },
     "execution_count": 12,
     "metadata": {},
     "output_type": "execute_result"
    }
   ],
   "source": [
    "# таблица с заказами\n",
    "get_info(orders)"
   ]
  },
  {
   "cell_type": "markdown",
   "metadata": {},
   "source": [
    "Столбцы таблицы *orders*\n",
    "* `transactionId` — идентификатор заказа;\n",
    "* `visitorId` — идентификатор пользователя, совершившего заказ;\n",
    "* `date` — дата, когда был совершён заказ;\n",
    "* `revenue` — выручка заказа;\n",
    "* `group` — группа A/B-теста, в которую попал заказ."
   ]
  },
  {
   "cell_type": "code",
   "execution_count": 13,
   "metadata": {
    "scrolled": true
   },
   "outputs": [
    {
     "data": {
      "text/html": [
       "<div>\n",
       "<style scoped>\n",
       "    .dataframe tbody tr th:only-of-type {\n",
       "        vertical-align: middle;\n",
       "    }\n",
       "\n",
       "    .dataframe tbody tr th {\n",
       "        vertical-align: top;\n",
       "    }\n",
       "\n",
       "    .dataframe thead th {\n",
       "        text-align: right;\n",
       "    }\n",
       "</style>\n",
       "<table border=\"1\" class=\"dataframe\">\n",
       "  <thead>\n",
       "    <tr style=\"text-align: right;\">\n",
       "      <th></th>\n",
       "      <th>date</th>\n",
       "      <th>group</th>\n",
       "      <th>visitors</th>\n",
       "    </tr>\n",
       "  </thead>\n",
       "  <tbody>\n",
       "    <tr>\n",
       "      <td>46</td>\n",
       "      <td>2019-08-16</td>\n",
       "      <td>B</td>\n",
       "      <td>413</td>\n",
       "    </tr>\n",
       "    <tr>\n",
       "      <td>50</td>\n",
       "      <td>2019-08-20</td>\n",
       "      <td>B</td>\n",
       "      <td>560</td>\n",
       "    </tr>\n",
       "    <tr>\n",
       "      <td>23</td>\n",
       "      <td>2019-08-24</td>\n",
       "      <td>A</td>\n",
       "      <td>395</td>\n",
       "    </tr>\n",
       "  </tbody>\n",
       "</table>\n",
       "</div>"
      ],
      "text/plain": [
       "          date group  visitors\n",
       "46  2019-08-16     B       413\n",
       "50  2019-08-20     B       560\n",
       "23  2019-08-24     A       395"
      ]
     },
     "metadata": {},
     "output_type": "display_data"
    },
    {
     "name": "stdout",
     "output_type": "stream",
     "text": [
      "<class 'pandas.core.frame.DataFrame'>\n",
      "RangeIndex: 62 entries, 0 to 61\n",
      "Data columns (total 3 columns):\n",
      "date        62 non-null object\n",
      "group       62 non-null object\n",
      "visitors    62 non-null int64\n",
      "dtypes: int64(1), object(2)\n",
      "memory usage: 1.6+ KB\n",
      "Количество дубликатов: 0\n"
     ]
    },
    {
     "data": {
      "text/plain": [
       "(None, None, None)"
      ]
     },
     "execution_count": 13,
     "metadata": {},
     "output_type": "execute_result"
    }
   ],
   "source": [
    "# таблица с количеством поситителей\n",
    "get_info(visitors)"
   ]
  },
  {
   "cell_type": "markdown",
   "metadata": {},
   "source": [
    "Столбцы таблицы *visitors*\n",
    "* `date` — дата;\n",
    "* `group` — группа A/B-теста;\n",
    "* `visitors` — количество пользователей в указанную дату в указанной группе A/B-теста"
   ]
  },
  {
   "cell_type": "markdown",
   "metadata": {},
   "source": [
    "В обеих таблицах нужно поменять тип данных столбца `date` на временной тип."
   ]
  },
  {
   "cell_type": "code",
   "execution_count": 14,
   "metadata": {
    "scrolled": true
   },
   "outputs": [
    {
     "name": "stdout",
     "output_type": "stream",
     "text": [
      "datetime64[ns]\n",
      "datetime64[ns]\n"
     ]
    }
   ],
   "source": [
    "orders['date'] = orders['date'].map(\n",
    "    lambda x: dt.datetime.strptime(x, '%Y-%m-%d')\n",
    ")\n",
    "visitors['date'] = visitors['date'].map(\n",
    "    lambda x: dt.datetime.strptime(x, '%Y-%m-%d')\n",
    ")\n",
    "print(orders['date'].dtype)\n",
    "print(visitors['date'].dtype)"
   ]
  },
  {
   "cell_type": "markdown",
   "metadata": {},
   "source": [
    "Проверим есть ли одни и те же пользователи в разных группах"
   ]
  },
  {
   "cell_type": "code",
   "execution_count": 15,
   "metadata": {
    "scrolled": false
   },
   "outputs": [
    {
     "name": "stdout",
     "output_type": "stream",
     "text": [
      "Количество пользователей, которые находятся в обеих группах: 58\n"
     ]
    }
   ],
   "source": [
    "inter = np.intersect1d(orders.query('group == \"A\"')['visitorId'].unique(), orders.query('group == \"B\"')['visitorId'].unique())\n",
    "print(f'Количество пользователей, которые находятся в обеих группах: {len(inter)}')"
   ]
  },
  {
   "cell_type": "markdown",
   "metadata": {},
   "source": [
    "Удалим их, чтобы эти данные не искажали анализ."
   ]
  },
  {
   "cell_type": "code",
   "execution_count": 16,
   "metadata": {},
   "outputs": [],
   "source": [
    "orders = orders[~orders['visitorId'].isin(inter)]"
   ]
  },
  {
   "cell_type": "markdown",
   "metadata": {},
   "source": [
    "Данные готовы к анализу."
   ]
  },
  {
   "cell_type": "markdown",
   "metadata": {},
   "source": [
    "### Построение графика кумулятивной выручки по группам. Сделать выводы и предположения."
   ]
  },
  {
   "cell_type": "code",
   "execution_count": 17,
   "metadata": {},
   "outputs": [
    {
     "data": {
      "text/html": [
       "<div>\n",
       "<style scoped>\n",
       "    .dataframe tbody tr th:only-of-type {\n",
       "        vertical-align: middle;\n",
       "    }\n",
       "\n",
       "    .dataframe tbody tr th {\n",
       "        vertical-align: top;\n",
       "    }\n",
       "\n",
       "    .dataframe thead th {\n",
       "        text-align: right;\n",
       "    }\n",
       "</style>\n",
       "<table border=\"1\" class=\"dataframe\">\n",
       "  <thead>\n",
       "    <tr style=\"text-align: right;\">\n",
       "      <th></th>\n",
       "      <th>date</th>\n",
       "      <th>group</th>\n",
       "    </tr>\n",
       "  </thead>\n",
       "  <tbody>\n",
       "    <tr>\n",
       "      <td>581</td>\n",
       "      <td>2019-08-07</td>\n",
       "      <td>B</td>\n",
       "    </tr>\n",
       "    <tr>\n",
       "      <td>493</td>\n",
       "      <td>2019-08-26</td>\n",
       "      <td>A</td>\n",
       "    </tr>\n",
       "  </tbody>\n",
       "</table>\n",
       "</div>"
      ],
      "text/plain": [
       "          date group\n",
       "581 2019-08-07     B\n",
       "493 2019-08-26     A"
      ]
     },
     "execution_count": 17,
     "metadata": {},
     "output_type": "execute_result"
    }
   ],
   "source": [
    "# создаем массив уникальных пар значений дат и групп теста\n",
    "datesGroups = orders[['date','group']].drop_duplicates() \n",
    "datesGroups.sample(2)"
   ]
  },
  {
   "cell_type": "code",
   "execution_count": 18,
   "metadata": {
    "scrolled": false
   },
   "outputs": [
    {
     "data": {
      "text/html": [
       "<div>\n",
       "<style scoped>\n",
       "    .dataframe tbody tr th:only-of-type {\n",
       "        vertical-align: middle;\n",
       "    }\n",
       "\n",
       "    .dataframe tbody tr th {\n",
       "        vertical-align: top;\n",
       "    }\n",
       "\n",
       "    .dataframe thead th {\n",
       "        text-align: right;\n",
       "    }\n",
       "</style>\n",
       "<table border=\"1\" class=\"dataframe\">\n",
       "  <thead>\n",
       "    <tr style=\"text-align: right;\">\n",
       "      <th></th>\n",
       "      <th>date</th>\n",
       "      <th>group</th>\n",
       "      <th>transactionId</th>\n",
       "      <th>visitorId</th>\n",
       "      <th>revenue</th>\n",
       "    </tr>\n",
       "  </thead>\n",
       "  <tbody>\n",
       "    <tr>\n",
       "      <td>55</td>\n",
       "      <td>2019-08-01</td>\n",
       "      <td>A</td>\n",
       "      <td>23</td>\n",
       "      <td>19</td>\n",
       "      <td>142779</td>\n",
       "    </tr>\n",
       "    <tr>\n",
       "      <td>66</td>\n",
       "      <td>2019-08-01</td>\n",
       "      <td>B</td>\n",
       "      <td>17</td>\n",
       "      <td>17</td>\n",
       "      <td>59758</td>\n",
       "    </tr>\n",
       "    <tr>\n",
       "      <td>175</td>\n",
       "      <td>2019-08-02</td>\n",
       "      <td>A</td>\n",
       "      <td>42</td>\n",
       "      <td>36</td>\n",
       "      <td>234381</td>\n",
       "    </tr>\n",
       "    <tr>\n",
       "      <td>173</td>\n",
       "      <td>2019-08-02</td>\n",
       "      <td>B</td>\n",
       "      <td>40</td>\n",
       "      <td>39</td>\n",
       "      <td>221801</td>\n",
       "    </tr>\n",
       "    <tr>\n",
       "      <td>291</td>\n",
       "      <td>2019-08-03</td>\n",
       "      <td>A</td>\n",
       "      <td>66</td>\n",
       "      <td>60</td>\n",
       "      <td>346854</td>\n",
       "    </tr>\n",
       "  </tbody>\n",
       "</table>\n",
       "</div>"
      ],
      "text/plain": [
       "          date group  transactionId  visitorId  revenue\n",
       "55  2019-08-01     A             23         19   142779\n",
       "66  2019-08-01     B             17         17    59758\n",
       "175 2019-08-02     A             42         36   234381\n",
       "173 2019-08-02     B             40         39   221801\n",
       "291 2019-08-03     A             66         60   346854"
      ]
     },
     "execution_count": 18,
     "metadata": {},
     "output_type": "execute_result"
    }
   ],
   "source": [
    "# cоберём агрегированные кумулятивные по дням данные о заказах\n",
    "ordersAggregated = (\n",
    "    datesGroups.apply(lambda x: orders[np.logical_and(orders['date'] <= x['date'], orders['group'] == x['group'])]\n",
    "                      .agg({'date' : 'max', 'group' : 'max', 'transactionId' : 'nunique', \n",
    "                            'visitorId' : 'nunique', 'revenue' : 'sum'}), \n",
    "                      axis=1)\n",
    "    .sort_values(by=['date','group'])\n",
    ")\n",
    "\n",
    "ordersAggregated.head()"
   ]
  },
  {
   "cell_type": "code",
   "execution_count": 19,
   "metadata": {},
   "outputs": [
    {
     "data": {
      "text/html": [
       "<div>\n",
       "<style scoped>\n",
       "    .dataframe tbody tr th:only-of-type {\n",
       "        vertical-align: middle;\n",
       "    }\n",
       "\n",
       "    .dataframe tbody tr th {\n",
       "        vertical-align: top;\n",
       "    }\n",
       "\n",
       "    .dataframe thead th {\n",
       "        text-align: right;\n",
       "    }\n",
       "</style>\n",
       "<table border=\"1\" class=\"dataframe\">\n",
       "  <thead>\n",
       "    <tr style=\"text-align: right;\">\n",
       "      <th></th>\n",
       "      <th>date</th>\n",
       "      <th>group</th>\n",
       "      <th>visitors</th>\n",
       "    </tr>\n",
       "  </thead>\n",
       "  <tbody>\n",
       "    <tr>\n",
       "      <td>55</td>\n",
       "      <td>2019-08-01</td>\n",
       "      <td>A</td>\n",
       "      <td>719</td>\n",
       "    </tr>\n",
       "    <tr>\n",
       "      <td>66</td>\n",
       "      <td>2019-08-01</td>\n",
       "      <td>B</td>\n",
       "      <td>713</td>\n",
       "    </tr>\n",
       "    <tr>\n",
       "      <td>175</td>\n",
       "      <td>2019-08-02</td>\n",
       "      <td>A</td>\n",
       "      <td>1338</td>\n",
       "    </tr>\n",
       "    <tr>\n",
       "      <td>173</td>\n",
       "      <td>2019-08-02</td>\n",
       "      <td>B</td>\n",
       "      <td>1294</td>\n",
       "    </tr>\n",
       "    <tr>\n",
       "      <td>291</td>\n",
       "      <td>2019-08-03</td>\n",
       "      <td>A</td>\n",
       "      <td>1845</td>\n",
       "    </tr>\n",
       "  </tbody>\n",
       "</table>\n",
       "</div>"
      ],
      "text/plain": [
       "          date group  visitors\n",
       "55  2019-08-01     A       719\n",
       "66  2019-08-01     B       713\n",
       "175 2019-08-02     A      1338\n",
       "173 2019-08-02     B      1294\n",
       "291 2019-08-03     A      1845"
      ]
     },
     "execution_count": 19,
     "metadata": {},
     "output_type": "execute_result"
    }
   ],
   "source": [
    "# получаем агрегированные кумулятивные по дням данные о посетителях интернет-магазина \n",
    "visitorsAggregated = (\n",
    "    datesGroups.apply(lambda x: visitors[np.logical_and(visitors['date'] <= x['date'], visitors['group'] == x['group'])]\n",
    "                      .agg({'date' : 'max', 'group' : 'max', 'visitors' : 'sum'}), \n",
    "                      axis=1)\n",
    "    .sort_values(by=['date','group'])\n",
    ")\n",
    "visitorsAggregated.head()"
   ]
  },
  {
   "cell_type": "code",
   "execution_count": 20,
   "metadata": {},
   "outputs": [
    {
     "data": {
      "text/html": [
       "<div>\n",
       "<style scoped>\n",
       "    .dataframe tbody tr th:only-of-type {\n",
       "        vertical-align: middle;\n",
       "    }\n",
       "\n",
       "    .dataframe tbody tr th {\n",
       "        vertical-align: top;\n",
       "    }\n",
       "\n",
       "    .dataframe thead th {\n",
       "        text-align: right;\n",
       "    }\n",
       "</style>\n",
       "<table border=\"1\" class=\"dataframe\">\n",
       "  <thead>\n",
       "    <tr style=\"text-align: right;\">\n",
       "      <th></th>\n",
       "      <th>date</th>\n",
       "      <th>group</th>\n",
       "      <th>orders</th>\n",
       "      <th>buyers</th>\n",
       "      <th>revenue</th>\n",
       "      <th>visitors</th>\n",
       "    </tr>\n",
       "  </thead>\n",
       "  <tbody>\n",
       "    <tr>\n",
       "      <td>0</td>\n",
       "      <td>2019-08-01</td>\n",
       "      <td>A</td>\n",
       "      <td>23</td>\n",
       "      <td>19</td>\n",
       "      <td>142779</td>\n",
       "      <td>719</td>\n",
       "    </tr>\n",
       "    <tr>\n",
       "      <td>1</td>\n",
       "      <td>2019-08-01</td>\n",
       "      <td>B</td>\n",
       "      <td>17</td>\n",
       "      <td>17</td>\n",
       "      <td>59758</td>\n",
       "      <td>713</td>\n",
       "    </tr>\n",
       "    <tr>\n",
       "      <td>2</td>\n",
       "      <td>2019-08-02</td>\n",
       "      <td>A</td>\n",
       "      <td>42</td>\n",
       "      <td>36</td>\n",
       "      <td>234381</td>\n",
       "      <td>1338</td>\n",
       "    </tr>\n",
       "    <tr>\n",
       "      <td>3</td>\n",
       "      <td>2019-08-02</td>\n",
       "      <td>B</td>\n",
       "      <td>40</td>\n",
       "      <td>39</td>\n",
       "      <td>221801</td>\n",
       "      <td>1294</td>\n",
       "    </tr>\n",
       "    <tr>\n",
       "      <td>4</td>\n",
       "      <td>2019-08-03</td>\n",
       "      <td>A</td>\n",
       "      <td>66</td>\n",
       "      <td>60</td>\n",
       "      <td>346854</td>\n",
       "      <td>1845</td>\n",
       "    </tr>\n",
       "  </tbody>\n",
       "</table>\n",
       "</div>"
      ],
      "text/plain": [
       "        date group  orders  buyers  revenue  visitors\n",
       "0 2019-08-01     A      23      19   142779       719\n",
       "1 2019-08-01     B      17      17    59758       713\n",
       "2 2019-08-02     A      42      36   234381      1338\n",
       "3 2019-08-02     B      40      39   221801      1294\n",
       "4 2019-08-03     A      66      60   346854      1845"
      ]
     },
     "execution_count": 20,
     "metadata": {},
     "output_type": "execute_result"
    }
   ],
   "source": [
    "# объединяем кумулятивные данные в одной таблице и присваиваем ее столбцам понятные названия\n",
    "cumulativeData = ordersAggregated.merge(visitorsAggregated, left_on=['date', 'group'], right_on=['date', 'group'])\n",
    "cumulativeData.columns = ['date', 'group', 'orders', 'buyers', 'revenue', 'visitors']\n",
    "cumulativeData.head(5) "
   ]
  },
  {
   "cell_type": "code",
   "execution_count": 21,
   "metadata": {
    "scrolled": false
   },
   "outputs": [
    {
     "data": {
      "image/png": "[encoded data removed]",
      "text/plain": [
       "<Figure size 1008x576 with 1 Axes>"
      ]
     },
     "metadata": {
      "needs_background": "light"
     },
     "output_type": "display_data"
    }
   ],
   "source": [
    "plt.figure(figsize=(14, 8))\n",
    "# датафрейм с кумулятивным количеством заказов и кумулятивной выручкой по дням в группе А\n",
    "cumulativeRevenueA = cumulativeData[cumulativeData['group']=='A'][['date','revenue', 'orders']]\n",
    "\n",
    "# датафрейм с кумулятивным количеством заказов и кумулятивной выручкой по дням в группе B\n",
    "cumulativeRevenueB = cumulativeData[cumulativeData['group']=='B'][['date','revenue', 'orders']]\n",
    "\n",
    "# Строим график выручки группы А\n",
    "plt.plot(cumulativeRevenueA['date'], cumulativeRevenueA['revenue'], label='A')\n",
    "\n",
    "# Строим график выручки группы B\n",
    "plt.plot(cumulativeRevenueB['date'], cumulativeRevenueB['revenue'], label='B')\n",
    "plt.title('График кумулятивной выручки по группам')\n",
    "plt.xlabel(\"Дата\")\n",
    "plt.ylabel(\"Кумулятивная выручка\")\n",
    "plt.legend() \n",
    "plt.show()"
   ]
  },
  {
   "cell_type": "markdown",
   "metadata": {},
   "source": [
    "**Выводы и предположения**\n",
    "\n",
    "* Выручка увеличивается в течение всего теста\n",
    "* График выручки группы В имеет точку с резким ростом -  возможен всплеск числа заказов, либо появление очень дорогих заказов в выборке"
   ]
  },
  {
   "cell_type": "markdown",
   "metadata": {},
   "source": [
    "### Построение графика кумулятивного среднего чека по группам. Сделать выводы и предположения."
   ]
  },
  {
   "cell_type": "code",
   "execution_count": 22,
   "metadata": {},
   "outputs": [
    {
     "data": {
      "image/png": "[encoded data removed]",
      "text/plain": [
       "<Figure size 1008x576 with 1 Axes>"
      ]
     },
     "metadata": {
      "needs_background": "light"
     },
     "output_type": "display_data"
    }
   ],
   "source": [
    "plt.figure(figsize=(14, 8))\n",
    "plt.plot(cumulativeRevenueA['date'], cumulativeRevenueA['revenue']/cumulativeRevenueA['orders'], label='A')\n",
    "plt.plot(cumulativeRevenueB['date'], cumulativeRevenueB['revenue']/cumulativeRevenueB['orders'], label='B')\n",
    "plt.legend() \n",
    "plt.title('График кумулятивного среднего чека по группам')\n",
    "plt.xlabel(\"Дата\")\n",
    "plt.ylabel(\"Кумулятивный средний чек\")\n",
    "plt.show()"
   ]
  },
  {
   "cell_type": "markdown",
   "metadata": {},
   "source": [
    "**Выводы и предположения**\n",
    "* Средний чек тоже становится равномерным ближе к концу теста: растет для группы A и продолжает падать для группы B. Возможно, в группу B в середине теста попали крупные заказы (резкий всплеск на графике). Тогда ей нужно больше данных, чтобы прийти к реальному среднему чеку и установиться на его уровне."
   ]
  },
  {
   "cell_type": "markdown",
   "metadata": {},
   "source": [
    "### Построение графика относительного изменения кумулятивного среднего чека группы B к группе A. Сделать выводы и предположения."
   ]
  },
  {
   "cell_type": "code",
   "execution_count": 23,
   "metadata": {},
   "outputs": [
    {
     "data": {
      "image/png": "[encoded data removed]",
      "text/plain": [
       "<Figure size 1008x576 with 1 Axes>"
      ]
     },
     "metadata": {
      "needs_background": "light"
     },
     "output_type": "display_data"
    }
   ],
   "source": [
    "# собираем данные в одном датафрейме\n",
    "mergedCumulativeRevenue = (\n",
    "    cumulativeRevenueA.merge(cumulativeRevenueB, left_on='date', right_on='date', how='left', suffixes=['A', 'B'])\n",
    ")\n",
    "plt.figure(figsize=(14, 8))\n",
    "# cтроим отношение средних чеков\n",
    "plt.plot(mergedCumulativeRevenue['date'], \n",
    "         (mergedCumulativeRevenue['revenueB']/mergedCumulativeRevenue['ordersB'])/\n",
    "         (mergedCumulativeRevenue['revenueA']/mergedCumulativeRevenue['ordersA'])-1)\n",
    "\n",
    "# добавляем ось X\n",
    "plt.axhline(y=0, color='black', linestyle='--')\n",
    "plt.title('График относительного изменения кумулятивного среднего чека группы B к группе A')\n",
    "plt.xlabel(\"Дата\")\n",
    "plt.ylabel(\"Относительное изменение кумулятивного среднего чека\")\n",
    "plt.show()"
   ]
  },
  {
   "cell_type": "markdown",
   "metadata": {},
   "source": [
    "**Выводы и предположения**\n",
    "* В нескольких точках график различия между сегментами резко меняется. Скорее всего присутствуют выбросы.\n",
    "* После последнего всплеска преимущество группы В снижается."
   ]
  },
  {
   "cell_type": "markdown",
   "metadata": {},
   "source": [
    "### Построение графика кумулятивной конверсии по группам. Сделать выводы и предположения."
   ]
  },
  {
   "cell_type": "code",
   "execution_count": 24,
   "metadata": {},
   "outputs": [
    {
     "data": {
      "image/png": "[encoded data removed]",
      "text/plain": [
       "<Figure size 1008x576 with 1 Axes>"
      ]
     },
     "metadata": {
      "needs_background": "light"
     },
     "output_type": "display_data"
    }
   ],
   "source": [
    "# считаем кумулятивную конверсию\n",
    "cumulativeData['conversion'] = cumulativeData['orders']/cumulativeData['visitors']\n",
    "\n",
    "# отделяем данные по группе A\n",
    "cumulativeDataA = cumulativeData[cumulativeData['group']=='A']\n",
    "\n",
    "# отделяем данные по группе B\n",
    "cumulativeDataB = cumulativeData[cumulativeData['group']=='B']\n",
    "\n",
    "# строим графики\n",
    "plt.figure(figsize=(14, 8))\n",
    "plt.plot(cumulativeDataA['date'], cumulativeDataA['conversion'], label='A')\n",
    "plt.plot(cumulativeDataB['date'], cumulativeDataB['conversion'], label='B')\n",
    "plt.legend()\n",
    "plt.axhline(y=0.03, color='grey', linestyle='--')\n",
    "plt.axhline(y=0.025, color='grey', linestyle='--')\n",
    "# задаем масштаб осей\n",
    "plt.axis([\"2019-08-01\", '2019-08-31', 0, 0.04])\n",
    "plt.title('График кумулятивной конверсии по группам')\n",
    "plt.xlabel(\"Дата\")\n",
    "plt.ylabel(\"Кумулятивная конверсия\")\n",
    "plt.show()"
   ]
  },
  {
   "cell_type": "markdown",
   "metadata": {},
   "source": [
    "**Выводы и предположения**\n",
    "* После некоторых колебаний группы зафиксировались. При этом группа В имеет более высокую кумулятивную конверсию.\n",
    "* Изменения благоприятно сказались на коверсии."
   ]
  },
  {
   "cell_type": "markdown",
   "metadata": {},
   "source": [
    "### Построение графика относительного изменения кумулятивной конверсии группы B к группе A. Сделать выводы и предположения."
   ]
  },
  {
   "cell_type": "code",
   "execution_count": 25,
   "metadata": {},
   "outputs": [
    {
     "data": {
      "image/png": "[encoded data removed]",
      "text/plain": [
       "<Figure size 1008x576 with 1 Axes>"
      ]
     },
     "metadata": {
      "needs_background": "light"
     },
     "output_type": "display_data"
    }
   ],
   "source": [
    "mergedCumulativeConversions = cumulativeDataA[['date','conversion']].merge(cumulativeDataB[['date','conversion']], left_on='date', right_on='date', how='left', suffixes=['A', 'B'])\n",
    "\n",
    "plt.figure(figsize=(14, 8))\n",
    "plt.plot(mergedCumulativeConversions['date'], mergedCumulativeConversions['conversionB']/mergedCumulativeConversions['conversionA']-1, label=\"Относительный прирост конверсии группы B относительно группы A\")\n",
    "plt.legend()\n",
    "\n",
    "plt.axhline(y=0, color='black', linestyle='--')\n",
    "plt.axhline(y=0.15, color='grey', linestyle='--')\n",
    "plt.axis([\"2019-08-01\", '2019-08-31', -0.20, 0.25])\n",
    "plt.title('График относительного изменения кумулятивной конверсии группы B к группе A')\n",
    "plt.xlabel(\"Дата\")\n",
    "plt.ylabel(\"Относительное изменение кумулятивной конверсии\")\n",
    "plt.show()"
   ]
  },
  {
   "cell_type": "markdown",
   "metadata": {},
   "source": [
    "**Выводы и предположения**\n",
    "* В начале теста группа B проигрывала группе A, затем вырвалась вперёд. Потом её конверсия снова немного падала, но теперь постепенно растёт."
   ]
  },
  {
   "cell_type": "markdown",
   "metadata": {},
   "source": [
    "### Построение точечного графика количества заказов по пользователям. Выводы и предположения."
   ]
  },
  {
   "cell_type": "code",
   "execution_count": 26,
   "metadata": {},
   "outputs": [
    {
     "name": "stdout",
     "output_type": "stream",
     "text": [
      "      visitorId  orders\n",
      "908  3967698036       3\n",
      "55    249864742       3\n",
      "478  2108163459       3\n",
      "687  2988190573       3\n",
      "890  3908431265       3\n",
      "138   611059232       3\n",
      "632  2742574263       3\n",
      "157   678354126       2\n",
      "323  1404560065       2\n",
      "452  1985475298       2\n"
     ]
    }
   ],
   "source": [
    "# количество заказов по пользователям\n",
    "ordersByUsers = (\n",
    "    orders.groupby('visitorId', as_index=False)\n",
    "    .agg({'transactionId': pd.Series.nunique})\n",
    ")\n",
    "\n",
    "ordersByUsers.columns = ['visitorId', 'orders']\n",
    "\n",
    "print(ordersByUsers.sort_values(by='orders', ascending=False).head(10)) "
   ]
  },
  {
   "cell_type": "code",
   "execution_count": 27,
   "metadata": {},
   "outputs": [
    {
     "data": {
      "image/png": "[encoded data removed]",
      "text/plain": [
       "<Figure size 1008x576 with 1 Axes>"
      ]
     },
     "metadata": {
      "needs_background": "light"
     },
     "output_type": "display_data"
    }
   ],
   "source": [
    "x_values = pd.Series(range(0,len(ordersByUsers)))\n",
    "\n",
    "plt.figure(figsize=(14, 8))\n",
    "plt.scatter(x_values, ordersByUsers['orders']) \n",
    "plt.title('Точечный график количества заказов по пользователям')\n",
    "plt.xlabel(\"Пользователи\")\n",
    "plt.ylabel(\"Количество заказов по пользователям\")\n",
    "plt.show()"
   ]
  },
  {
   "cell_type": "markdown",
   "metadata": {},
   "source": [
    "**Выводы и предположения**\n",
    "* Есть пользователи с 2-3 заказами. Их точная доля не ясна."
   ]
  },
  {
   "cell_type": "markdown",
   "metadata": {},
   "source": [
    "### Расчет 95-й и 99-й перцентилей количества заказов на пользователя. Выбор границы для определения аномальных пользователей."
   ]
  },
  {
   "cell_type": "code",
   "execution_count": 28,
   "metadata": {},
   "outputs": [
    {
     "name": "stdout",
     "output_type": "stream",
     "text": [
      "95-й процентиль количества заказов: [1.]\n",
      "99-й процентиль количества заказов: [2.]\n"
     ]
    }
   ],
   "source": [
    "print(f'95-й процентиль количества заказов: {np.percentile(ordersByUsers[\"orders\"], [95])}')\n",
    "print(f'99-й процентиль количества заказов: {np.percentile(ordersByUsers[\"orders\"], [99])}')"
   ]
  },
  {
   "cell_type": "markdown",
   "metadata": {},
   "source": [
    "**Выводы**\n",
    "\n",
    "* Не более 5% пользователей оформляли больше чем 1 заказов. И 1% пользователей заказывали более 2 заказов.\n",
    "* Выбираем **1 заказ** на пользователя как границу для определения выбросов."
   ]
  },
  {
   "cell_type": "markdown",
   "metadata": {},
   "source": [
    "### Построение точечного графика стоимостей заказов. Выводы и предположения."
   ]
  },
  {
   "cell_type": "code",
   "execution_count": 29,
   "metadata": {},
   "outputs": [
    {
     "data": {
      "image/png": "[encoded data removed]",
      "text/plain": [
       "<Figure size 1008x576 with 1 Axes>"
      ]
     },
     "metadata": {
      "needs_background": "light"
     },
     "output_type": "display_data"
    }
   ],
   "source": [
    "x_values = pd.Series(range(0,len(orders['revenue'])))\n",
    "\n",
    "plt.figure(figsize=(14, 8))\n",
    "plt.scatter(x_values, orders['revenue'])\n",
    "plt.axhline(y=50000, \n",
    "            color='black', \n",
    "            linestyle='--')\n",
    "plt.minorticks_on()\n",
    "plt.grid(which='minor',\n",
    "        color = 'gray',\n",
    "        linestyle = ':')\n",
    "plt.grid(True)\n",
    "plt.title('Точечный график стоимостей заказов')\n",
    "plt.xlabel(\"Пользователи\")\n",
    "plt.ylabel(\"Стоимостей заказов\")\n",
    "plt.show()"
   ]
  },
  {
   "cell_type": "markdown",
   "metadata": {},
   "source": [
    "**Выводы и предположения**\n",
    "* Подавляющее большинство заказов стоимостью не более 50000.\n",
    "* Есть один заказ примерно на 200000 и один примерно на 1300000. Эти выбросы могут исказить результат теста."
   ]
  },
  {
   "cell_type": "markdown",
   "metadata": {},
   "source": [
    "### Расчет 95-й и 99-й перцентилей стоимости заказов. Выбор границы для определения аномальных заказов."
   ]
  },
  {
   "cell_type": "code",
   "execution_count": 30,
   "metadata": {},
   "outputs": [
    {
     "name": "stdout",
     "output_type": "stream",
     "text": [
      "95-й процентиль стоимости заказов: [26785.]\n",
      "99-й процентиль стоимости заказов: [53904.]\n"
     ]
    }
   ],
   "source": [
    "print(f'95-й процентиль стоимости заказов: {np.percentile(orders[\"revenue\"], [95])}')\n",
    "print(f'99-й процентиль стоимости заказов: {np.percentile(orders[\"revenue\"], [99])}')"
   ]
  },
  {
   "cell_type": "markdown",
   "metadata": {},
   "source": [
    "**Выводы**\n",
    "* Менее 5% заказов стоимостью более 26785. И 1% заказов стоимостью более 53904.\n",
    "* Выбираем **26785** как границу для определения аномальных заказов."
   ]
  },
  {
   "cell_type": "markdown",
   "metadata": {},
   "source": [
    "### Расчет статистической значимости различий в конверсии между группами по «сырым» данным. Выводы и предположения."
   ]
  },
  {
   "cell_type": "code",
   "execution_count": 31,
   "metadata": {},
   "outputs": [
    {
     "name": "stdout",
     "output_type": "stream",
     "text": [
      "        date  ordersPerDateA  revenuePerDateA  ordersPerDateB  \\\n",
      "0 2019-08-01              23           142779              17   \n",
      "1 2019-08-02              19            91602              23   \n",
      "2 2019-08-03              24           112473              14   \n",
      "3 2019-08-04              11            41176              14   \n",
      "4 2019-08-05              22            86383              21   \n",
      "\n",
      "   revenuePerDateB  ordersCummulativeA  revenueCummulativeA  \\\n",
      "0            59758                  23               142779   \n",
      "1           162043                  42               234381   \n",
      "2            67049                  66               346854   \n",
      "3            96890                  77               388030   \n",
      "4            89908                  99               474413   \n",
      "\n",
      "   ordersCummulativeB  revenueCummulativeB  visitorsPerDateA  \\\n",
      "0                  17                59758               719   \n",
      "1                  40               221801               619   \n",
      "2                  54               288850               507   \n",
      "3                  68               385740               717   \n",
      "4                  89               475648               756   \n",
      "\n",
      "   visitorsPerDateB  visitorsCummulativeA  visitorsCummulativeB  \n",
      "0               713                   719                   713  \n",
      "1               581                  1338                  1294  \n",
      "2               509                  1845                  1803  \n",
      "3               770                  2562                  2573  \n",
      "4               707                  3318                  3280  \n"
     ]
    }
   ],
   "source": [
    "# количество поситителей по дням в группе А\n",
    "visitorsADaily = visitors[visitors['group'] == 'A'][['date', 'visitors']]\n",
    "visitorsADaily.columns = ['date', 'visitorsPerDateA']\n",
    "\n",
    "# кумулятивное количество поситителей в группе А\n",
    "visitorsACummulative = visitorsADaily.apply(\n",
    "    lambda x: visitorsADaily[visitorsADaily['date'] <= x['date']].agg(\n",
    "        {'date': 'max', 'visitorsPerDateA': 'sum'}\n",
    "    ),\n",
    "    axis=1,\n",
    ")\n",
    "visitorsACummulative.columns = ['date', 'visitorsCummulativeA']\n",
    "\n",
    "# количество поситителей по дням в группе В\n",
    "visitorsBDaily = visitors[visitors['group'] == 'B'][['date', 'visitors']]\n",
    "visitorsBDaily.columns = ['date', 'visitorsPerDateB']\n",
    "\n",
    "# кумулятивное количество поситителей в группе В\n",
    "visitorsBCummulative = visitorsBDaily.apply(\n",
    "    lambda x: visitorsBDaily[visitorsBDaily['date'] <= x['date']].agg(\n",
    "        {'date': 'max', 'visitorsPerDateB': 'sum'}\n",
    "    ),\n",
    "    axis=1,\n",
    ")\n",
    "visitorsBCummulative.columns = ['date', 'visitorsCummulativeB']\n",
    "\n",
    "# количество и сумма заказов по дням в группе А\n",
    "ordersADaily = (\n",
    "    orders[orders['group'] == 'A'][['date', 'transactionId', 'visitorId', 'revenue']]\n",
    "    .groupby('date', as_index=False)\n",
    "    .agg({'transactionId': pd.Series.nunique, 'revenue': 'sum'})\n",
    ")\n",
    "ordersADaily.columns = ['date', 'ordersPerDateA', 'revenuePerDateA']\n",
    "\n",
    "# кумулятивное количество и сумма заказов по дням в группе А\n",
    "ordersACummulative = ordersADaily.apply(\n",
    "    lambda x: ordersADaily[ordersADaily['date'] <= x['date']].agg(\n",
    "        {'date': 'max', 'ordersPerDateA': 'sum', 'revenuePerDateA': 'sum'}\n",
    "    ),\n",
    "    axis=1,\n",
    ").sort_values(by=['date'])\n",
    "ordersACummulative.columns = [\n",
    "    'date',\n",
    "    'ordersCummulativeA',\n",
    "    'revenueCummulativeA',\n",
    "]\n",
    "\n",
    "# количество и сумма заказов по дням в группе В\n",
    "ordersBDaily = (\n",
    "    orders[orders['group'] == 'B'][['date', 'transactionId', 'visitorId', 'revenue']]\n",
    "    .groupby('date', as_index=False)\n",
    "    .agg({'transactionId': pd.Series.nunique, 'revenue': 'sum'})\n",
    ")\n",
    "ordersBDaily.columns = ['date', 'ordersPerDateB', 'revenuePerDateB']\n",
    "\n",
    "# кумулятивное количество и сумма заказов по дням в группе В\n",
    "ordersBCummulative = ordersBDaily.apply(\n",
    "    lambda x: ordersBDaily[ordersBDaily['date'] <= x['date']].agg(\n",
    "        {'date': 'max', 'ordersPerDateB': 'sum', 'revenuePerDateB': 'sum'}\n",
    "    ),\n",
    "    axis=1,\n",
    ").sort_values(by=['date'])\n",
    "ordersBCummulative.columns = [\n",
    "    'date',\n",
    "    'ordersCummulativeB',\n",
    "    'revenueCummulativeB',\n",
    "]\n",
    "\n",
    "# объединение полученных таблиц в одну\n",
    "data = (\n",
    "    ordersADaily.merge(\n",
    "        ordersBDaily, left_on='date', right_on='date', how='left'\n",
    "    )\n",
    "    .merge(ordersACummulative, left_on='date', right_on='date', how='left')\n",
    "    .merge(ordersBCummulative, left_on='date', right_on='date', how='left')\n",
    "    .merge(visitorsADaily, left_on='date', right_on='date', how='left')\n",
    "    .merge(visitorsBDaily, left_on='date', right_on='date', how='left')\n",
    "    .merge(visitorsACummulative, left_on='date', right_on='date', how='left')\n",
    "    .merge(visitorsBCummulative, left_on='date', right_on='date', how='left')\n",
    ")\n",
    "\n",
    "print(data.head(5))"
   ]
  },
  {
   "cell_type": "markdown",
   "metadata": {},
   "source": [
    "Названия столбцов данных:\n",
    "* `date` — дата;\n",
    "* `ordersPerDateA` — количество заказов в выбранную дату в группе A;\n",
    "* `revenuePerDateA` — суммарная выручка в выбранную дату в группе A;\n",
    "* `ordersPerDateB` — количество заказов в выбранную дату в группе B;\n",
    "* `revenuePerDateB` — суммарная выручка в выбранную дату в группе B;\n",
    "* `ordersCummulativeA` — суммарное число заказов до выбранной даты включительно в группе A;\n",
    "* `revenueCummulativeA` — суммарная выручка до выбранной даты включительно в группе A;\n",
    "* `ordersCummulativeB` — суммарное количество заказов до выбранной даты включительно в группе B;\n",
    "* `revenueCummulativeB` — суммарная выручка до выбранной даты включительно в группе B;\n",
    "* `visitorsPerDateA` — количество пользователей в выбранную дату в группе A;\n",
    "* `visitorsPerDateB` — количество пользователей в выбранную дату в группе B;\n",
    "* `visitorsCummulativeA` — количество пользователей до выбранной даты включительно в группе A;\n",
    "* `visitorsCummulativeB` — количество пользователей до выбранной даты включительно в группе B."
   ]
  },
  {
   "cell_type": "code",
   "execution_count": 32,
   "metadata": {},
   "outputs": [],
   "source": [
    "# Создадим переменные, в которых для пользователей, которые заказывали хотя бы 1 раз, укажем число совершённых заказов.\n",
    "ordersByUsersA = (\n",
    "    orders[orders['group'] == 'A']\n",
    "    .groupby('visitorId', as_index=False)\n",
    "    .agg({'transactionId': pd.Series.nunique})\n",
    ")\n",
    "ordersByUsersA.columns = ['visitorId', 'orders']\n",
    "\n",
    "ordersByUsersB = (\n",
    "    orders[orders['group'] == 'B']\n",
    "    .groupby('visitorId', as_index=False)\n",
    "    .agg({'transactionId': pd.Series.nunique})\n",
    ")\n",
    "ordersByUsersB.columns = ['visitorId', 'orders']"
   ]
  },
  {
   "cell_type": "code",
   "execution_count": 33,
   "metadata": {},
   "outputs": [],
   "source": [
    "# Объявим переменные, в которых пользователям из разных групп будет соответствовать количество заказов. \n",
    "# Тем, кто ничего не заказал, будут соответствовать нули.\n",
    "sampleA = (\n",
    "    pd.concat([ordersByUsersA['orders'],\n",
    "                      pd.Series(0, index=np.arange(data['visitorsPerDateA'].sum() - len(ordersByUsersA['orders'])), \n",
    "                                name='orders')], axis=0)\n",
    ")\n",
    "\n",
    "sampleB = (\n",
    "    pd.concat([ordersByUsersB['orders'],\n",
    "               pd.Series(0, index=np.arange(data['visitorsPerDateB'].sum() - len(ordersByUsersB['orders'])), \n",
    "                         name='orders')], axis=0)\n",
    ")"
   ]
  },
  {
   "cell_type": "markdown",
   "metadata": {},
   "source": [
    "$H_0$: Нет статистически значимого различия в конверсии  между группами по «сырым» данным.<br>\n",
    "$H_1$: Есть статистически значимое различие в конверсии  между группами по «сырым» данным."
   ]
  },
  {
   "cell_type": "code",
   "execution_count": 34,
   "metadata": {},
   "outputs": [
    {
     "name": "stdout",
     "output_type": "stream",
     "text": [
      "p-значение:0.011\n",
      "Отвергаем нулевую гипотезу: разница статистически значима\n"
     ]
    }
   ],
   "source": [
    "# проверка критерием Манна-Уитни\n",
    "results = stats.mannwhitneyu(sampleA, sampleB, alternative=\"two-sided\")\n",
    "\n",
    " # критический уровень статистической значимости\n",
    "alpha = 0.05 \n",
    "\n",
    "print('p-значение:{0:.3f}'.format(results.pvalue))\n",
    "\n",
    "if results.pvalue < alpha:\n",
    "    print('Отвергаем нулевую гипотезу: разница статистически значима')\n",
    "else:\n",
    "    print(\n",
    "        'Не получилось отвергнуть нулевую гипотезу, вывод о различии сделать нельзя'\n",
    "    )"
   ]
  },
  {
   "cell_type": "code",
   "execution_count": 35,
   "metadata": {},
   "outputs": [
    {
     "name": "stdout",
     "output_type": "stream",
     "text": [
      "Относительное изменение конверсии группы B: 0.160\n"
     ]
    }
   ],
   "source": [
    "# относительное изменение конверсии группы B к группе А\n",
    "print(\"Относительное изменение конверсии группы B: {0:.3f}\".format(sampleB.mean() / sampleA.mean() - 1))"
   ]
  },
  {
   "cell_type": "markdown",
   "metadata": {},
   "source": [
    "**Выводы и предположения**\n",
    "* Между конверсиями групп А и В по \"сырым\" данным есть статистически значимая разница. \n",
    "* Относительная конверсия группы В лучше, чем группы А на 16%."
   ]
  },
  {
   "cell_type": "markdown",
   "metadata": {},
   "source": [
    "### Расчет статистической значимости различий в среднем чеке заказа между группами по «сырым» данным. Выводы и предположения."
   ]
  },
  {
   "cell_type": "markdown",
   "metadata": {},
   "source": [
    "$H_0$: Нет статистически значимого различия по среднему чеку между группами по «сырым» данным.<br>\n",
    "$H_1$: Есть статистически значимое различие по среднему чеку между группами по «сырым» данным."
   ]
  },
  {
   "cell_type": "code",
   "execution_count": 36,
   "metadata": {},
   "outputs": [
    {
     "name": "stdout",
     "output_type": "stream",
     "text": [
      "p-значение:0.829\n",
      "Не получилось отвергнуть нулевую гипотезу, вывод о различии сделать нельзя\n"
     ]
    }
   ],
   "source": [
    "results = stats.mannwhitneyu(orders[orders['group']=='A']['revenue'], orders[orders['group']=='B']['revenue'], \n",
    "                             alternative=\"two-sided\")\n",
    "\n",
    " # критический уровень статистической значимости\n",
    "alpha = 0.05 \n",
    "\n",
    "print('p-значение:{0:.3f}'.format(results.pvalue))\n",
    "\n",
    "if results.pvalue < alpha:\n",
    "    print('Отвергаем нулевую гипотезу: разница статистически значима')\n",
    "else:\n",
    "    print(\n",
    "        'Не получилось отвергнуть нулевую гипотезу, вывод о различии сделать нельзя'\n",
    "    )"
   ]
  },
  {
   "cell_type": "code",
   "execution_count": 37,
   "metadata": {},
   "outputs": [
    {
     "name": "stdout",
     "output_type": "stream",
     "text": [
      "Относительное различие среднего чека группы B к группе А: 0.287\n"
     ]
    }
   ],
   "source": [
    "# относительное изменение среднего чека группы B к группе А\n",
    "print('Относительное различие среднего чека группы B к группе А: {0:.3f}'.format(orders[orders['group']=='B']['revenue'].mean()/orders[orders['group']=='A']['revenue'].mean()-1))"
   ]
  },
  {
   "cell_type": "markdown",
   "metadata": {},
   "source": [
    "**Выводы и предположения**\n",
    "* Между среднеми чеками групп А и В по \"сырым\" данным нет статистически значимой разницы. \n",
    "* Средний чек у группы В выше, чем в группе А почти на 29%."
   ]
  },
  {
   "cell_type": "markdown",
   "metadata": {},
   "source": [
    "### Расчет статистической значимости различий в конверсии между группами по «очищенным» данным. Выводы и предположения."
   ]
  },
  {
   "cell_type": "markdown",
   "metadata": {},
   "source": [
    "За аномальных пользователей были приняты те, кто совершил **больше 1 заказа** или совершил заказ **дороже 26785 рублей**. "
   ]
  },
  {
   "cell_type": "code",
   "execution_count": 38,
   "metadata": {},
   "outputs": [
    {
     "name": "stdout",
     "output_type": "stream",
     "text": [
      "Количество аномальных пользователей: (86,)\n"
     ]
    }
   ],
   "source": [
    "# пользователи с количеством заказов более 2-х\n",
    "usersWithManyOrders = pd.concat(\n",
    "    [\n",
    "        ordersByUsersA[ordersByUsersA['orders'] > 1]['visitorId'],\n",
    "        ordersByUsersB[ordersByUsersB['orders'] > 1]['visitorId'],\n",
    "    ],\n",
    "    axis=0,\n",
    ")\n",
    "\n",
    "# пользователи со стоимостью заказов более 28000\n",
    "usersWithExpensiveOrders = orders[orders['revenue'] > 26785]['visitorId']\n",
    "abnormalUsers = (\n",
    "    pd.concat([usersWithManyOrders, usersWithExpensiveOrders], axis=0)\n",
    "    .drop_duplicates()\n",
    "    .sort_values()\n",
    ")\n",
    "\n",
    "print(f'Количество аномальных пользователей: {abnormalUsers.shape}')"
   ]
  },
  {
   "cell_type": "code",
   "execution_count": 39,
   "metadata": {},
   "outputs": [],
   "source": [
    "# Объявим переменные по «очищенным» данным, в которых пользователям из разных групп будет соответствовать количество заказов. \n",
    "# Тем, кто ничего не заказал, будут соответствовать нули.\n",
    "sampleAFiltered = (\n",
    "    pd.concat([ordersByUsersA[np.logical_not(ordersByUsersA['visitorId'].isin(abnormalUsers))]['orders'], \n",
    "               pd.Series(0, index=np.arange(data['visitorsPerDateA'].sum() - len(ordersByUsersA['orders'])),\n",
    "                         name='orders',),],axis=0,)\n",
    ")\n",
    "\n",
    "sampleBFiltered = (\n",
    "    pd.concat([ordersByUsersB[np.logical_not(ordersByUsersB['visitorId'].isin(abnormalUsers))]['orders'], \n",
    "               pd.Series(0, index=np.arange(data['visitorsPerDateB'].sum() - len(ordersByUsersB['orders'])),\n",
    "                         name='orders',),],axis=0,)\n",
    ")"
   ]
  },
  {
   "cell_type": "markdown",
   "metadata": {},
   "source": [
    "$H_0$: Нет статистически значимого различия в конверсии  между группами по «очищенным» данным.<br>\n",
    "$H_1$: Есть статистически значимое различие в конверсии  между группами по«очищенным» данным."
   ]
  },
  {
   "cell_type": "code",
   "execution_count": 40,
   "metadata": {},
   "outputs": [
    {
     "name": "stdout",
     "output_type": "stream",
     "text": [
      "p-значение:0.016\n",
      "Отвергаем нулевую гипотезу: разница статистически значима\n"
     ]
    }
   ],
   "source": [
    "# проверка критерием Манна-Уитни\n",
    "results = stats.mannwhitneyu(sampleAFiltered, sampleBFiltered, alternative=\"two-sided\")\n",
    "\n",
    " # критический уровень статистической значимости\n",
    "alpha = 0.05 \n",
    "\n",
    "print('p-значение:{0:.3f}'.format(results.pvalue))\n",
    "\n",
    "if results.pvalue < alpha:\n",
    "    print('Отвергаем нулевую гипотезу: разница статистически значима')\n",
    "else:\n",
    "    print(\n",
    "        'Не получилось отвергнуть нулевую гипотезу, вывод о различии сделать нельзя'\n",
    "    )"
   ]
  },
  {
   "cell_type": "code",
   "execution_count": 41,
   "metadata": {},
   "outputs": [
    {
     "name": "stdout",
     "output_type": "stream",
     "text": [
      "Относительное изменение конверсии группы B: 0.174\n"
     ]
    }
   ],
   "source": [
    "# относительное изменение конверсии группы B к группе А\n",
    "print(\"Относительное изменение конверсии группы B: {0:.3f}\".format(sampleBFiltered.mean()/sampleAFiltered.mean()-1))"
   ]
  },
  {
   "cell_type": "markdown",
   "metadata": {},
   "source": [
    "**Выводы и предположения**\n",
    "* Между конверсиями групп А и В по \"очищенным\" данным есть статистически значимая разница. \n",
    "* Относительная конверсия группы В лучше, чем группы А на 17%."
   ]
  },
  {
   "cell_type": "markdown",
   "metadata": {},
   "source": [
    "### Расчет статистической значимости различий в среднем чеке заказа между группами по «очищенным» данным. Выводы."
   ]
  },
  {
   "cell_type": "markdown",
   "metadata": {},
   "source": [
    "$H_0$: Нет статистически значимого различия в среднем чеке  между группами по «очищенным» данным.<br>\n",
    "$H_1$: Есть статистически значимое различиев среднем чеке  между группами по«очищенным» данным."
   ]
  },
  {
   "cell_type": "code",
   "execution_count": 42,
   "metadata": {},
   "outputs": [
    {
     "name": "stdout",
     "output_type": "stream",
     "text": [
      "p-значение:0.727\n",
      "Не получилось отвергнуть нулевую гипотезу, вывод о различии сделать нельзя\n"
     ]
    }
   ],
   "source": [
    "results = stats.mannwhitneyu(orders[np.logical_and(orders['group'] == 'A', \n",
    "                                                   np.logical_not(orders['visitorId'].isin(abnormalUsers)))]['revenue'], \n",
    "                             orders[np.logical_and(orders['group'] == 'B', \n",
    "                                                   np.logical_not(orders['visitorId'].isin(abnormalUsers)))]['revenue'], \n",
    "                             alternative=\"two-sided\")\n",
    "\n",
    "# критический уровень статистической значимости\n",
    "alpha = 0.05 \n",
    "\n",
    "print('p-значение:{0:.3f}'.format(results.pvalue))\n",
    "\n",
    "if results.pvalue < alpha:\n",
    "    print('Отвергаем нулевую гипотезу: разница статистически значима')\n",
    "else:\n",
    "    print(\n",
    "        'Не получилось отвергнуть нулевую гипотезу, вывод о различии сделать нельзя'\n",
    "    )\n"
   ]
  },
  {
   "cell_type": "code",
   "execution_count": 43,
   "metadata": {},
   "outputs": [
    {
     "name": "stdout",
     "output_type": "stream",
     "text": [
      "Относительное изменение среднего чека группы B по 'очищенным данным': -0.034\n"
     ]
    }
   ],
   "source": [
    "# относительное изменение конверсии группы B к группе А по \"очищенным\" данным\n",
    "print(\n",
    "    \"Относительное изменение среднего чека группы B по 'очищенным данным': {0:.3f}\"\n",
    "    .format(\n",
    "        (\n",
    "            orders[np.logical_and\n",
    "                   (orders['group'] == 'B', np.logical_not(orders['visitorId'].isin(abnormalUsers)))]['revenue'].mean() / \n",
    "            orders[np.logical_and\n",
    "                   (orders['group'] == 'A', np.logical_not(orders['visitorId'].isin(abnormalUsers)))]['revenue'].mean()- 1 \n",
    "        )\n",
    "    )\n",
    ")"
   ]
  },
  {
   "cell_type": "markdown",
   "metadata": {},
   "source": [
    "**Выводы и предположения**\n",
    "* Между среднеми чеками групп А и В по \"очищенным\" данным нет статистически значимой разницы. \n",
    "* При этом средний чек у группы В ниже среднего чека группы А на 3%."
   ]
  },
  {
   "cell_type": "markdown",
   "metadata": {},
   "source": [
    "### Принятие решения по результатам теста"
   ]
  },
  {
   "cell_type": "markdown",
   "metadata": {},
   "source": [
    "* График различия среднего чека позволил найти аномалии (слишком высокая стоимость заказа и слишком болшое количество заказов на пользователя), которые влияли на тест. Но при подсчете статистической значимости различий в **среднем чеке** заказа между группами ни по «сырым», ни по данным после фильтрации аномалий **различий нет**. Значит можно сказать, что средний чек не изменился.\n",
    "* **Есть статистически значимое различие** по **конверсии** между группами и по «сырым», и по данным после фильтрации аномалий. При этом группа В заметно лидирует по этому показателю (16% по \"сырым\", 17% по \"очищенным\" данным). Об этом также говорит график различия конверсии между группами.<br>\n",
    "\n",
    "В итоге по полученным результатам и по графику кумулятивной выручки по группам можно судить о том, что группа **В имеет лучшую выручку**.\n",
    "***\n",
    "Таким образом можно остановить тест и признать его успешным, зафиксировав победу **группы В**.\n"
   ]
  }
 ],
 "metadata": {
  "ExecuteTimeLog": [
   {
    "duration": 590,
    "start_time": "2022-03-05T14:25:11.107Z"
   },
   {
    "duration": 18,
    "start_time": "2022-03-05T14:25:50.720Z"
   },
   {
    "duration": 15,
    "start_time": "2022-03-05T14:25:54.131Z"
   },
   {
    "duration": 8,
    "start_time": "2022-03-05T14:26:52.125Z"
   },
   {
    "duration": 5,
    "start_time": "2022-03-05T14:27:13.588Z"
   },
   {
    "duration": 5,
    "start_time": "2022-03-05T14:27:34.188Z"
   },
   {
    "duration": 4,
    "start_time": "2022-03-05T14:27:59.341Z"
   },
   {
    "duration": 3,
    "start_time": "2022-03-05T14:28:46.204Z"
   },
   {
    "duration": 5,
    "start_time": "2022-03-05T14:29:21.069Z"
   },
   {
    "duration": 10,
    "start_time": "2022-03-05T14:29:28.388Z"
   },
   {
    "duration": 259,
    "start_time": "2022-03-05T14:29:46.203Z"
   },
   {
    "duration": 174,
    "start_time": "2022-03-05T14:29:55.120Z"
   },
   {
    "duration": 63,
    "start_time": "2022-03-05T14:30:29.791Z"
   },
   {
    "duration": 4,
    "start_time": "2022-03-05T14:30:43.944Z"
   },
   {
    "duration": 5,
    "start_time": "2022-03-05T14:30:52.253Z"
   },
   {
    "duration": 4,
    "start_time": "2022-03-05T14:30:56.865Z"
   },
   {
    "duration": 5,
    "start_time": "2022-03-05T14:31:06.788Z"
   },
   {
    "duration": 5,
    "start_time": "2022-03-05T14:31:17.186Z"
   },
   {
    "duration": 11,
    "start_time": "2022-03-05T14:32:02.536Z"
   },
   {
    "duration": 5,
    "start_time": "2022-03-05T14:42:18.702Z"
   },
   {
    "duration": 6,
    "start_time": "2022-03-05T14:42:22.495Z"
   },
   {
    "duration": 6,
    "start_time": "2022-03-05T14:42:52.801Z"
   },
   {
    "duration": 6,
    "start_time": "2022-03-05T14:43:10.773Z"
   },
   {
    "duration": 7,
    "start_time": "2022-03-05T14:43:28.020Z"
   },
   {
    "duration": 183,
    "start_time": "2022-03-05T14:47:42.094Z"
   },
   {
    "duration": 4,
    "start_time": "2022-03-05T14:48:44.446Z"
   },
   {
    "duration": 7,
    "start_time": "2022-03-05T14:49:16.169Z"
   },
   {
    "duration": 63,
    "start_time": "2022-03-05T14:49:19.116Z"
   },
   {
    "duration": 167,
    "start_time": "2022-03-05T14:49:21.955Z"
   },
   {
    "duration": 6,
    "start_time": "2022-03-05T14:49:28.019Z"
   },
   {
    "duration": 6,
    "start_time": "2022-03-05T14:49:31.372Z"
   },
   {
    "duration": 212,
    "start_time": "2022-03-05T14:49:42.641Z"
   },
   {
    "duration": 176,
    "start_time": "2022-03-05T14:50:52.157Z"
   },
   {
    "duration": 220,
    "start_time": "2022-03-05T14:50:55.912Z"
   },
   {
    "duration": 212,
    "start_time": "2022-03-05T14:51:02.833Z"
   },
   {
    "duration": 176,
    "start_time": "2022-03-05T14:51:23.500Z"
   },
   {
    "duration": 213,
    "start_time": "2022-03-05T14:51:32.232Z"
   },
   {
    "duration": 8,
    "start_time": "2022-03-05T14:51:39.187Z"
   },
   {
    "duration": 6,
    "start_time": "2022-03-05T14:52:02.780Z"
   },
   {
    "duration": 6,
    "start_time": "2022-03-05T14:53:23.534Z"
   },
   {
    "duration": 7,
    "start_time": "2022-03-05T14:53:26.964Z"
   },
   {
    "duration": 227,
    "start_time": "2022-03-05T14:55:37.800Z"
   },
   {
    "duration": 7,
    "start_time": "2022-03-05T14:55:42.397Z"
   },
   {
    "duration": 773,
    "start_time": "2022-03-06T06:42:27.250Z"
   },
   {
    "duration": 18,
    "start_time": "2022-03-06T06:42:28.026Z"
   },
   {
    "duration": 31,
    "start_time": "2022-03-06T06:42:28.048Z"
   },
   {
    "duration": 8,
    "start_time": "2022-03-06T06:42:28.082Z"
   },
   {
    "duration": 11,
    "start_time": "2022-03-06T06:42:28.092Z"
   },
   {
    "duration": 350,
    "start_time": "2022-03-06T06:45:53.209Z"
   },
   {
    "duration": 4,
    "start_time": "2022-03-06T06:46:12.398Z"
   },
   {
    "duration": 9,
    "start_time": "2022-03-06T06:46:17.397Z"
   },
   {
    "duration": 4,
    "start_time": "2022-03-06T06:46:46.025Z"
   },
   {
    "duration": 18,
    "start_time": "2022-03-06T06:46:46.032Z"
   },
   {
    "duration": 14,
    "start_time": "2022-03-06T06:46:46.053Z"
   },
   {
    "duration": 12,
    "start_time": "2022-03-06T06:46:46.070Z"
   },
   {
    "duration": 20,
    "start_time": "2022-03-06T06:46:46.084Z"
   },
   {
    "duration": 8,
    "start_time": "2022-03-06T06:46:46.107Z"
   },
   {
    "duration": 13,
    "start_time": "2022-03-06T06:46:46.118Z"
   },
   {
    "duration": 3,
    "start_time": "2022-03-06T06:47:16.611Z"
   },
   {
    "duration": 33,
    "start_time": "2022-03-06T06:47:16.617Z"
   },
   {
    "duration": 13,
    "start_time": "2022-03-06T06:47:16.653Z"
   },
   {
    "duration": 9,
    "start_time": "2022-03-06T06:47:16.669Z"
   },
   {
    "duration": 15,
    "start_time": "2022-03-06T06:47:16.680Z"
   },
   {
    "duration": 15,
    "start_time": "2022-03-06T06:54:48.009Z"
   },
   {
    "duration": 19,
    "start_time": "2022-03-06T06:57:54.524Z"
   },
   {
    "duration": 17,
    "start_time": "2022-03-06T06:58:06.681Z"
   },
   {
    "duration": 742,
    "start_time": "2022-03-06T08:50:59.090Z"
   },
   {
    "duration": 30,
    "start_time": "2022-03-06T08:50:59.835Z"
   },
   {
    "duration": 26,
    "start_time": "2022-03-06T08:50:59.869Z"
   },
   {
    "duration": 8,
    "start_time": "2022-03-06T08:50:59.898Z"
   },
   {
    "duration": 32,
    "start_time": "2022-03-06T08:50:59.909Z"
   },
   {
    "duration": 17,
    "start_time": "2022-03-06T08:53:01.497Z"
   },
   {
    "duration": 18,
    "start_time": "2022-03-06T08:54:44.258Z"
   },
   {
    "duration": 18,
    "start_time": "2022-03-06T08:54:58.143Z"
   },
   {
    "duration": 153,
    "start_time": "2022-03-06T08:55:25.978Z"
   },
   {
    "duration": 66,
    "start_time": "2022-03-06T09:15:14.408Z"
   },
   {
    "duration": 13,
    "start_time": "2022-03-06T09:15:30.723Z"
   },
   {
    "duration": 11,
    "start_time": "2022-03-06T09:15:40.566Z"
   },
   {
    "duration": 11,
    "start_time": "2022-03-06T09:31:22.832Z"
   },
   {
    "duration": 13,
    "start_time": "2022-03-06T09:32:24.653Z"
   },
   {
    "duration": 17,
    "start_time": "2022-03-06T09:32:39.251Z"
   },
   {
    "duration": 16,
    "start_time": "2022-03-06T09:32:53.155Z"
   },
   {
    "duration": 2012,
    "start_time": "2022-03-06T09:34:29.003Z"
   },
   {
    "duration": 3,
    "start_time": "2022-03-06T09:34:35.371Z"
   },
   {
    "duration": 24,
    "start_time": "2022-03-06T09:34:35.377Z"
   },
   {
    "duration": 16,
    "start_time": "2022-03-06T09:34:35.404Z"
   },
   {
    "duration": 8,
    "start_time": "2022-03-06T09:34:35.423Z"
   },
   {
    "duration": 20,
    "start_time": "2022-03-06T09:34:35.433Z"
   },
   {
    "duration": 18,
    "start_time": "2022-03-06T09:34:35.455Z"
   },
   {
    "duration": 98,
    "start_time": "2022-03-06T09:34:35.475Z"
   },
   {
    "duration": 17,
    "start_time": "2022-03-06T09:34:35.575Z"
   },
   {
    "duration": 15,
    "start_time": "2022-03-06T09:34:35.595Z"
   },
   {
    "duration": 1550,
    "start_time": "2022-03-06T09:34:35.613Z"
   },
   {
    "duration": 3,
    "start_time": "2022-03-06T09:34:52.832Z"
   },
   {
    "duration": 4,
    "start_time": "2022-03-06T09:34:54.947Z"
   },
   {
    "duration": 23,
    "start_time": "2022-03-06T09:34:54.954Z"
   },
   {
    "duration": 13,
    "start_time": "2022-03-06T09:34:54.981Z"
   },
   {
    "duration": 7,
    "start_time": "2022-03-06T09:34:54.997Z"
   },
   {
    "duration": 37,
    "start_time": "2022-03-06T09:34:55.007Z"
   },
   {
    "duration": 20,
    "start_time": "2022-03-06T09:34:55.047Z"
   },
   {
    "duration": 76,
    "start_time": "2022-03-06T09:34:55.070Z"
   },
   {
    "duration": 15,
    "start_time": "2022-03-06T09:34:55.149Z"
   },
   {
    "duration": 15,
    "start_time": "2022-03-06T09:34:55.168Z"
   },
   {
    "duration": 2211,
    "start_time": "2022-03-06T09:34:55.185Z"
   },
   {
    "duration": 4,
    "start_time": "2022-03-06T09:35:21.797Z"
   },
   {
    "duration": 31,
    "start_time": "2022-03-06T09:35:21.803Z"
   },
   {
    "duration": 12,
    "start_time": "2022-03-06T09:35:21.836Z"
   },
   {
    "duration": 8,
    "start_time": "2022-03-06T09:35:21.851Z"
   },
   {
    "duration": 19,
    "start_time": "2022-03-06T09:35:21.862Z"
   },
   {
    "duration": 60,
    "start_time": "2022-03-06T09:35:21.884Z"
   },
   {
    "duration": 67,
    "start_time": "2022-03-06T09:35:21.947Z"
   },
   {
    "duration": 17,
    "start_time": "2022-03-06T09:35:22.016Z"
   },
   {
    "duration": 16,
    "start_time": "2022-03-06T09:35:22.037Z"
   },
   {
    "duration": 23,
    "start_time": "2022-03-06T09:35:22.056Z"
   },
   {
    "duration": 1617,
    "start_time": "2022-03-06T09:37:01.140Z"
   },
   {
    "duration": 3,
    "start_time": "2022-03-06T09:37:03.910Z"
   },
   {
    "duration": 36,
    "start_time": "2022-03-06T09:37:03.916Z"
   },
   {
    "duration": 19,
    "start_time": "2022-03-06T09:37:03.955Z"
   },
   {
    "duration": 17,
    "start_time": "2022-03-06T09:37:03.977Z"
   },
   {
    "duration": 26,
    "start_time": "2022-03-06T09:37:03.996Z"
   },
   {
    "duration": 25,
    "start_time": "2022-03-06T09:37:04.025Z"
   },
   {
    "duration": 63,
    "start_time": "2022-03-06T09:37:04.052Z"
   },
   {
    "duration": 15,
    "start_time": "2022-03-06T09:37:04.118Z"
   },
   {
    "duration": 26,
    "start_time": "2022-03-06T09:37:04.136Z"
   },
   {
    "duration": 24,
    "start_time": "2022-03-06T09:37:04.165Z"
   },
   {
    "duration": 5,
    "start_time": "2022-03-06T09:37:58.670Z"
   },
   {
    "duration": 3,
    "start_time": "2022-03-06T09:38:04.868Z"
   },
   {
    "duration": 18,
    "start_time": "2022-03-06T09:38:04.874Z"
   },
   {
    "duration": 13,
    "start_time": "2022-03-06T09:38:04.895Z"
   },
   {
    "duration": 32,
    "start_time": "2022-03-06T09:38:04.911Z"
   },
   {
    "duration": 18,
    "start_time": "2022-03-06T09:38:04.945Z"
   },
   {
    "duration": 18,
    "start_time": "2022-03-06T09:38:04.966Z"
   },
   {
    "duration": 60,
    "start_time": "2022-03-06T09:38:04.987Z"
   },
   {
    "duration": 18,
    "start_time": "2022-03-06T09:38:05.050Z"
   },
   {
    "duration": 18,
    "start_time": "2022-03-06T09:38:05.071Z"
   },
   {
    "duration": 21,
    "start_time": "2022-03-06T09:38:05.091Z"
   },
   {
    "duration": 5,
    "start_time": "2022-03-06T09:38:05.133Z"
   },
   {
    "duration": 339,
    "start_time": "2022-03-06T09:42:28.189Z"
   },
   {
    "duration": 4,
    "start_time": "2022-03-06T09:42:34.990Z"
   },
   {
    "duration": 6,
    "start_time": "2022-03-06T09:42:39.101Z"
   },
   {
    "duration": 7,
    "start_time": "2022-03-06T09:42:54.125Z"
   },
   {
    "duration": 8,
    "start_time": "2022-03-06T10:05:09.811Z"
   },
   {
    "duration": 14,
    "start_time": "2022-03-06T10:05:12.832Z"
   },
   {
    "duration": 612,
    "start_time": "2022-03-06T10:07:03.297Z"
   },
   {
    "duration": 4,
    "start_time": "2022-03-06T10:07:05.207Z"
   },
   {
    "duration": 22,
    "start_time": "2022-03-06T10:07:05.214Z"
   },
   {
    "duration": 18,
    "start_time": "2022-03-06T10:07:05.240Z"
   },
   {
    "duration": 9,
    "start_time": "2022-03-06T10:07:05.261Z"
   },
   {
    "duration": 18,
    "start_time": "2022-03-06T10:07:05.273Z"
   },
   {
    "duration": 52,
    "start_time": "2022-03-06T10:07:05.293Z"
   },
   {
    "duration": 53,
    "start_time": "2022-03-06T10:07:05.347Z"
   },
   {
    "duration": 18,
    "start_time": "2022-03-06T10:07:05.404Z"
   },
   {
    "duration": 20,
    "start_time": "2022-03-06T10:07:05.425Z"
   },
   {
    "duration": 35,
    "start_time": "2022-03-06T10:07:05.448Z"
   },
   {
    "duration": 7,
    "start_time": "2022-03-06T10:07:05.486Z"
   },
   {
    "duration": 40,
    "start_time": "2022-03-06T10:07:05.496Z"
   },
   {
    "duration": 688,
    "start_time": "2022-03-06T10:07:05.539Z"
   },
   {
    "duration": 5,
    "start_time": "2022-03-06T10:07:23.916Z"
   },
   {
    "duration": 20,
    "start_time": "2022-03-06T10:07:23.924Z"
   },
   {
    "duration": 19,
    "start_time": "2022-03-06T10:07:23.948Z"
   },
   {
    "duration": 11,
    "start_time": "2022-03-06T10:07:23.970Z"
   },
   {
    "duration": 18,
    "start_time": "2022-03-06T10:07:23.984Z"
   },
   {
    "duration": 44,
    "start_time": "2022-03-06T10:07:24.005Z"
   },
   {
    "duration": 53,
    "start_time": "2022-03-06T10:07:24.051Z"
   },
   {
    "duration": 16,
    "start_time": "2022-03-06T10:07:24.106Z"
   },
   {
    "duration": 16,
    "start_time": "2022-03-06T10:07:24.126Z"
   },
   {
    "duration": 22,
    "start_time": "2022-03-06T10:07:24.145Z"
   },
   {
    "duration": 5,
    "start_time": "2022-03-06T10:07:24.170Z"
   },
   {
    "duration": 55,
    "start_time": "2022-03-06T10:07:24.178Z"
   },
   {
    "duration": 8752,
    "start_time": "2022-03-06T10:07:24.235Z"
   },
   {
    "duration": 3,
    "start_time": "2022-03-06T10:08:12.635Z"
   },
   {
    "duration": 30,
    "start_time": "2022-03-06T10:08:12.641Z"
   },
   {
    "duration": 11,
    "start_time": "2022-03-06T10:08:12.674Z"
   },
   {
    "duration": 12,
    "start_time": "2022-03-06T10:08:12.688Z"
   },
   {
    "duration": 34,
    "start_time": "2022-03-06T10:08:12.703Z"
   },
   {
    "duration": 19,
    "start_time": "2022-03-06T10:08:12.739Z"
   },
   {
    "duration": 54,
    "start_time": "2022-03-06T10:08:12.760Z"
   },
   {
    "duration": 16,
    "start_time": "2022-03-06T10:08:12.816Z"
   },
   {
    "duration": 16,
    "start_time": "2022-03-06T10:08:12.836Z"
   },
   {
    "duration": 33,
    "start_time": "2022-03-06T10:08:12.855Z"
   },
   {
    "duration": 6,
    "start_time": "2022-03-06T10:08:12.890Z"
   },
   {
    "duration": 10,
    "start_time": "2022-03-06T10:08:12.933Z"
   },
   {
    "duration": 8368,
    "start_time": "2022-03-06T10:08:12.946Z"
   },
   {
    "duration": 758,
    "start_time": "2022-03-06T15:00:24.079Z"
   },
   {
    "duration": 21,
    "start_time": "2022-03-06T15:00:24.840Z"
   },
   {
    "duration": 26,
    "start_time": "2022-03-06T15:00:24.864Z"
   },
   {
    "duration": 8,
    "start_time": "2022-03-06T15:00:24.894Z"
   },
   {
    "duration": 21,
    "start_time": "2022-03-06T15:00:24.905Z"
   },
   {
    "duration": 17,
    "start_time": "2022-03-06T15:00:24.929Z"
   },
   {
    "duration": 32,
    "start_time": "2022-03-06T15:00:24.983Z"
   },
   {
    "duration": 20,
    "start_time": "2022-03-06T15:00:25.018Z"
   },
   {
    "duration": 14,
    "start_time": "2022-03-06T15:00:25.041Z"
   },
   {
    "duration": 38,
    "start_time": "2022-03-06T15:00:25.058Z"
   },
   {
    "duration": 9,
    "start_time": "2022-03-06T15:00:25.099Z"
   },
   {
    "duration": 15,
    "start_time": "2022-03-06T15:00:25.111Z"
   },
   {
    "duration": 6471,
    "start_time": "2022-03-06T15:00:25.129Z"
   },
   {
    "duration": 4,
    "start_time": "2022-03-06T15:03:12.394Z"
   },
   {
    "duration": 7,
    "start_time": "2022-03-06T15:03:18.233Z"
   },
   {
    "duration": 306,
    "start_time": "2022-03-06T15:03:45.901Z"
   },
   {
    "duration": 17,
    "start_time": "2022-03-06T15:03:51.208Z"
   },
   {
    "duration": 322,
    "start_time": "2022-03-06T15:04:00.775Z"
   },
   {
    "duration": 268,
    "start_time": "2022-03-06T15:07:31.264Z"
   },
   {
    "duration": 276,
    "start_time": "2022-03-06T15:07:37.388Z"
   },
   {
    "duration": 16,
    "start_time": "2022-03-06T15:08:42.206Z"
   },
   {
    "duration": 20,
    "start_time": "2022-03-06T15:08:47.759Z"
   },
   {
    "duration": 111,
    "start_time": "2022-03-06T15:09:03.618Z"
   },
   {
    "duration": 336,
    "start_time": "2022-03-06T15:09:28.861Z"
   },
   {
    "duration": 448,
    "start_time": "2022-03-06T15:10:52.855Z"
   },
   {
    "duration": 538,
    "start_time": "2022-03-06T15:11:24.977Z"
   },
   {
    "duration": 585,
    "start_time": "2022-03-06T15:11:31.811Z"
   },
   {
    "duration": 426,
    "start_time": "2022-03-06T15:11:41.216Z"
   },
   {
    "duration": 484,
    "start_time": "2022-03-06T15:11:46.676Z"
   },
   {
    "duration": 471,
    "start_time": "2022-03-06T15:11:55.838Z"
   },
   {
    "duration": 413,
    "start_time": "2022-03-06T15:15:08.444Z"
   },
   {
    "duration": 448,
    "start_time": "2022-03-06T15:15:22.706Z"
   },
   {
    "duration": 21,
    "start_time": "2022-03-06T15:25:33.731Z"
   },
   {
    "duration": 15,
    "start_time": "2022-03-06T15:25:39.602Z"
   },
   {
    "duration": 314,
    "start_time": "2022-03-06T15:27:27.611Z"
   },
   {
    "duration": 308,
    "start_time": "2022-03-06T15:28:58.307Z"
   },
   {
    "duration": 418,
    "start_time": "2022-03-06T15:30:32.731Z"
   },
   {
    "duration": 378,
    "start_time": "2022-03-06T15:47:24.524Z"
   },
   {
    "duration": 15,
    "start_time": "2022-03-06T15:47:55.464Z"
   },
   {
    "duration": 559,
    "start_time": "2022-03-06T15:48:13.589Z"
   },
   {
    "duration": 279,
    "start_time": "2022-03-06T16:17:47.773Z"
   },
   {
    "duration": 322,
    "start_time": "2022-03-06T16:18:02.223Z"
   },
   {
    "duration": 549,
    "start_time": "2022-03-06T16:18:19.784Z"
   },
   {
    "duration": 80,
    "start_time": "2022-03-06T16:18:29.202Z"
   },
   {
    "duration": 460,
    "start_time": "2022-03-06T16:18:31.775Z"
   },
   {
    "duration": 466,
    "start_time": "2022-03-06T16:19:50.885Z"
   },
   {
    "duration": 453,
    "start_time": "2022-03-06T16:20:05.744Z"
   },
   {
    "duration": 460,
    "start_time": "2022-03-06T16:20:11.260Z"
   },
   {
    "duration": 449,
    "start_time": "2022-03-06T16:20:26.147Z"
   },
   {
    "duration": 471,
    "start_time": "2022-03-06T16:20:31.853Z"
   },
   {
    "duration": 442,
    "start_time": "2022-03-06T16:23:13.365Z"
   },
   {
    "duration": 436,
    "start_time": "2022-03-06T16:23:19.875Z"
   },
   {
    "duration": 601,
    "start_time": "2022-03-06T16:27:14.854Z"
   },
   {
    "duration": 85,
    "start_time": "2022-03-06T16:27:37.010Z"
   },
   {
    "duration": 433,
    "start_time": "2022-03-06T16:27:40.694Z"
   },
   {
    "duration": 511,
    "start_time": "2022-03-06T16:27:46.983Z"
   },
   {
    "duration": 541,
    "start_time": "2022-03-06T16:27:55.395Z"
   },
   {
    "duration": 589,
    "start_time": "2022-03-06T16:29:08.662Z"
   },
   {
    "duration": 841,
    "start_time": "2022-03-07T05:45:51.305Z"
   },
   {
    "duration": 17,
    "start_time": "2022-03-07T05:45:52.148Z"
   },
   {
    "duration": 22,
    "start_time": "2022-03-07T05:45:52.168Z"
   },
   {
    "duration": 8,
    "start_time": "2022-03-07T05:45:52.193Z"
   },
   {
    "duration": 19,
    "start_time": "2022-03-07T05:45:52.203Z"
   },
   {
    "duration": 17,
    "start_time": "2022-03-07T05:45:52.224Z"
   },
   {
    "duration": 53,
    "start_time": "2022-03-07T05:45:52.243Z"
   },
   {
    "duration": 15,
    "start_time": "2022-03-07T05:45:52.298Z"
   },
   {
    "duration": 16,
    "start_time": "2022-03-07T05:45:52.317Z"
   },
   {
    "duration": 22,
    "start_time": "2022-03-07T05:45:52.336Z"
   },
   {
    "duration": 29,
    "start_time": "2022-03-07T05:45:52.360Z"
   },
   {
    "duration": 9,
    "start_time": "2022-03-07T05:45:52.392Z"
   },
   {
    "duration": 16,
    "start_time": "2022-03-07T05:45:52.403Z"
   },
   {
    "duration": 349,
    "start_time": "2022-03-07T05:45:52.421Z"
   },
   {
    "duration": 275,
    "start_time": "2022-03-07T05:45:52.772Z"
   },
   {
    "duration": 17,
    "start_time": "2022-03-07T05:45:53.049Z"
   },
   {
    "duration": 489,
    "start_time": "2022-03-07T05:45:53.087Z"
   },
   {
    "duration": 478,
    "start_time": "2022-03-07T05:45:53.578Z"
   },
   {
    "duration": 556,
    "start_time": "2022-03-07T05:45:54.058Z"
   },
   {
    "duration": 513,
    "start_time": "2022-03-07T05:45:54.617Z"
   },
   {
    "duration": 568,
    "start_time": "2022-03-07T05:45:55.132Z"
   },
   {
    "duration": 338,
    "start_time": "2022-03-07T05:48:39.569Z"
   },
   {
    "duration": 221,
    "start_time": "2022-03-07T05:49:59.969Z"
   },
   {
    "duration": 264,
    "start_time": "2022-03-07T05:50:03.920Z"
   },
   {
    "duration": 246,
    "start_time": "2022-03-07T06:03:14.251Z"
   },
   {
    "duration": 186,
    "start_time": "2022-03-07T06:04:53.411Z"
   },
   {
    "duration": 351,
    "start_time": "2022-03-07T06:05:49.716Z"
   },
   {
    "duration": 490,
    "start_time": "2022-03-07T06:17:13.235Z"
   },
   {
    "duration": 6,
    "start_time": "2022-03-07T06:20:13.084Z"
   },
   {
    "duration": 399,
    "start_time": "2022-03-07T06:26:40.076Z"
   },
   {
    "duration": 574,
    "start_time": "2022-03-07T06:27:04.772Z"
   },
   {
    "duration": 561,
    "start_time": "2022-03-07T06:27:37.011Z"
   },
   {
    "duration": 584,
    "start_time": "2022-03-07T06:28:34.193Z"
   },
   {
    "duration": 594,
    "start_time": "2022-03-07T06:28:42.108Z"
   },
   {
    "duration": 579,
    "start_time": "2022-03-07T06:28:56.088Z"
   },
   {
    "duration": 588,
    "start_time": "2022-03-07T06:29:08.363Z"
   },
   {
    "duration": 653,
    "start_time": "2022-03-07T06:29:41.502Z"
   },
   {
    "duration": 673,
    "start_time": "2022-03-07T06:29:52.935Z"
   },
   {
    "duration": 556,
    "start_time": "2022-03-07T06:31:40.107Z"
   },
   {
    "duration": 602,
    "start_time": "2022-03-07T06:31:56.250Z"
   },
   {
    "duration": 587,
    "start_time": "2022-03-07T06:36:39.025Z"
   },
   {
    "duration": 574,
    "start_time": "2022-03-07T06:40:01.489Z"
   },
   {
    "duration": 612,
    "start_time": "2022-03-07T06:40:24.086Z"
   },
   {
    "duration": 614,
    "start_time": "2022-03-07T06:40:46.481Z"
   },
   {
    "duration": 571,
    "start_time": "2022-03-07T06:40:58.528Z"
   },
   {
    "duration": 636,
    "start_time": "2022-03-07T06:41:08.880Z"
   },
   {
    "duration": 598,
    "start_time": "2022-03-07T06:41:17.224Z"
   },
   {
    "duration": 660,
    "start_time": "2022-03-07T06:41:41.465Z"
   },
   {
    "duration": 574,
    "start_time": "2022-03-07T06:42:04.740Z"
   },
   {
    "duration": 519,
    "start_time": "2022-03-07T06:49:36.274Z"
   },
   {
    "duration": 737,
    "start_time": "2022-03-07T06:55:40.435Z"
   },
   {
    "duration": 763,
    "start_time": "2022-03-07T06:56:00.445Z"
   },
   {
    "duration": 860,
    "start_time": "2022-03-07T06:56:38.709Z"
   },
   {
    "duration": 745,
    "start_time": "2022-03-07T06:56:51.128Z"
   },
   {
    "duration": 868,
    "start_time": "2022-03-07T06:57:01.796Z"
   },
   {
    "duration": 777,
    "start_time": "2022-03-07T06:57:59.644Z"
   },
   {
    "duration": 6,
    "start_time": "2022-03-07T07:03:07.323Z"
   },
   {
    "duration": 6,
    "start_time": "2022-03-07T07:03:16.881Z"
   },
   {
    "duration": 5,
    "start_time": "2022-03-07T07:03:21.587Z"
   },
   {
    "duration": 5,
    "start_time": "2022-03-07T07:03:32.427Z"
   },
   {
    "duration": 82,
    "start_time": "2022-03-07T07:04:29.323Z"
   },
   {
    "duration": 7,
    "start_time": "2022-03-07T07:04:40.779Z"
   },
   {
    "duration": 6,
    "start_time": "2022-03-07T07:04:48.588Z"
   },
   {
    "duration": 229,
    "start_time": "2022-03-07T07:05:18.382Z"
   },
   {
    "duration": 252,
    "start_time": "2022-03-07T07:05:32.390Z"
   },
   {
    "duration": 215,
    "start_time": "2022-03-07T07:05:42.454Z"
   },
   {
    "duration": 6,
    "start_time": "2022-03-07T07:05:50.852Z"
   },
   {
    "duration": 7,
    "start_time": "2022-03-07T07:06:05.021Z"
   },
   {
    "duration": 7,
    "start_time": "2022-03-07T07:06:49.658Z"
   },
   {
    "duration": 74,
    "start_time": "2022-03-07T07:06:54.967Z"
   },
   {
    "duration": 6,
    "start_time": "2022-03-07T07:07:07.270Z"
   },
   {
    "duration": 431,
    "start_time": "2022-03-07T07:13:50.713Z"
   },
   {
    "duration": 450,
    "start_time": "2022-03-07T07:14:01.215Z"
   },
   {
    "duration": 446,
    "start_time": "2022-03-07T07:14:09.843Z"
   },
   {
    "duration": 11,
    "start_time": "2022-03-07T07:14:19.985Z"
   },
   {
    "duration": 12,
    "start_time": "2022-03-07T07:15:32.821Z"
   },
   {
    "duration": 12,
    "start_time": "2022-03-07T07:16:30.176Z"
   },
   {
    "duration": 12,
    "start_time": "2022-03-07T07:17:44.170Z"
   },
   {
    "duration": 12,
    "start_time": "2022-03-07T07:17:49.747Z"
   },
   {
    "duration": 12,
    "start_time": "2022-03-07T07:17:53.931Z"
   },
   {
    "duration": 239,
    "start_time": "2022-03-07T07:22:21.784Z"
   },
   {
    "duration": 250,
    "start_time": "2022-03-07T07:23:25.768Z"
   },
   {
    "duration": 14,
    "start_time": "2022-03-07T07:23:33.082Z"
   },
   {
    "duration": 10,
    "start_time": "2022-03-07T07:23:38.705Z"
   },
   {
    "duration": 506,
    "start_time": "2022-03-07T07:25:37.838Z"
   },
   {
    "duration": 215,
    "start_time": "2022-03-07T07:25:40.285Z"
   },
   {
    "duration": 8,
    "start_time": "2022-03-07T07:29:21.269Z"
   },
   {
    "duration": 7,
    "start_time": "2022-03-07T07:29:24.929Z"
   },
   {
    "duration": 228,
    "start_time": "2022-03-07T07:32:25.120Z"
   },
   {
    "duration": 469,
    "start_time": "2022-03-07T07:32:45.419Z"
   },
   {
    "duration": 11,
    "start_time": "2022-03-07T07:32:48.926Z"
   },
   {
    "duration": 10,
    "start_time": "2022-03-07T07:36:03.136Z"
   },
   {
    "duration": 304,
    "start_time": "2022-03-07T07:40:08.747Z"
   },
   {
    "duration": 9,
    "start_time": "2022-03-07T07:40:26.142Z"
   },
   {
    "duration": 9,
    "start_time": "2022-03-07T07:41:20.531Z"
   },
   {
    "duration": 5,
    "start_time": "2022-03-07T07:41:28.850Z"
   },
   {
    "duration": 5,
    "start_time": "2022-03-07T07:41:43.727Z"
   },
   {
    "duration": 14,
    "start_time": "2022-03-07T07:46:15.629Z"
   },
   {
    "duration": 228,
    "start_time": "2022-03-07T07:47:04.631Z"
   },
   {
    "duration": 6,
    "start_time": "2022-03-07T07:47:24.864Z"
   },
   {
    "duration": 224,
    "start_time": "2022-03-07T07:47:31.644Z"
   },
   {
    "duration": 10,
    "start_time": "2022-03-07T07:47:55.200Z"
   },
   {
    "duration": 69,
    "start_time": "2022-03-07T07:48:27.611Z"
   },
   {
    "duration": 9,
    "start_time": "2022-03-07T07:48:34.342Z"
   },
   {
    "duration": 11,
    "start_time": "2022-03-07T07:48:38.062Z"
   },
   {
    "duration": 230,
    "start_time": "2022-03-07T07:48:58.363Z"
   },
   {
    "duration": 10,
    "start_time": "2022-03-07T07:49:04.257Z"
   },
   {
    "duration": 10,
    "start_time": "2022-03-07T07:49:11.026Z"
   },
   {
    "duration": 10,
    "start_time": "2022-03-07T07:49:29.885Z"
   },
   {
    "duration": 5584,
    "start_time": "2022-03-07T07:55:17.332Z"
   },
   {
    "duration": 15,
    "start_time": "2022-03-07T07:55:34.374Z"
   },
   {
    "duration": 13,
    "start_time": "2022-03-07T07:56:42.173Z"
   },
   {
    "duration": 13,
    "start_time": "2022-03-07T07:58:26.122Z"
   },
   {
    "duration": 11,
    "start_time": "2022-03-07T08:00:54.234Z"
   },
   {
    "duration": 7,
    "start_time": "2022-03-07T08:00:57.265Z"
   },
   {
    "duration": 6,
    "start_time": "2022-03-07T08:01:08.517Z"
   },
   {
    "duration": 6,
    "start_time": "2022-03-07T08:01:16.081Z"
   },
   {
    "duration": 231,
    "start_time": "2022-03-07T08:01:21.030Z"
   },
   {
    "duration": 7,
    "start_time": "2022-03-07T08:01:23.175Z"
   },
   {
    "duration": 10,
    "start_time": "2022-03-07T08:02:42.240Z"
   },
   {
    "duration": 5,
    "start_time": "2022-03-07T08:03:08.449Z"
   },
   {
    "duration": 75,
    "start_time": "2022-03-07T08:03:37.524Z"
   },
   {
    "duration": 5596,
    "start_time": "2022-03-07T08:11:28.494Z"
   },
   {
    "duration": 13,
    "start_time": "2022-03-07T08:11:44.667Z"
   },
   {
    "duration": 11,
    "start_time": "2022-03-07T08:12:32.784Z"
   },
   {
    "duration": 13,
    "start_time": "2022-03-07T08:12:54.979Z"
   },
   {
    "duration": 95,
    "start_time": "2022-03-07T08:14:30.006Z"
   },
   {
    "duration": 12,
    "start_time": "2022-03-07T08:14:40.366Z"
   },
   {
    "duration": 14,
    "start_time": "2022-03-07T08:15:06.042Z"
   },
   {
    "duration": 78,
    "start_time": "2022-03-07T08:17:25.965Z"
   },
   {
    "duration": 12,
    "start_time": "2022-03-07T08:17:44.974Z"
   },
   {
    "duration": 220,
    "start_time": "2022-03-07T09:50:53.921Z"
   },
   {
    "duration": 5,
    "start_time": "2022-03-07T09:50:57.587Z"
   },
   {
    "duration": 9,
    "start_time": "2022-03-07T09:51:14.147Z"
   },
   {
    "duration": 5473,
    "start_time": "2022-03-07T09:51:33.854Z"
   },
   {
    "duration": 257,
    "start_time": "2022-03-07T09:51:43.059Z"
   },
   {
    "duration": 6077,
    "start_time": "2022-03-07T09:51:59.658Z"
   },
   {
    "duration": 13,
    "start_time": "2022-03-07T09:52:17.594Z"
   },
   {
    "duration": 11,
    "start_time": "2022-03-07T09:54:30.342Z"
   },
   {
    "duration": 7,
    "start_time": "2022-03-07T09:55:51.188Z"
   },
   {
    "duration": 5,
    "start_time": "2022-03-07T09:56:21.757Z"
   },
   {
    "duration": 24,
    "start_time": "2022-03-07T09:56:54.950Z"
   },
   {
    "duration": 8,
    "start_time": "2022-03-07T09:57:13.208Z"
   },
   {
    "duration": 6,
    "start_time": "2022-03-07T09:57:31.856Z"
   },
   {
    "duration": 10,
    "start_time": "2022-03-07T09:57:58.910Z"
   },
   {
    "duration": 15,
    "start_time": "2022-03-07T10:23:54.976Z"
   },
   {
    "duration": 17,
    "start_time": "2022-03-07T10:24:02.795Z"
   },
   {
    "duration": 217,
    "start_time": "2022-03-07T10:24:27.194Z"
   },
   {
    "duration": 14,
    "start_time": "2022-03-07T10:24:31.560Z"
   },
   {
    "duration": 234,
    "start_time": "2022-03-07T10:24:45.921Z"
   },
   {
    "duration": 8,
    "start_time": "2022-03-07T10:24:49.010Z"
   },
   {
    "duration": 9,
    "start_time": "2022-03-07T10:24:53.899Z"
   },
   {
    "duration": 1025,
    "start_time": "2022-03-07T14:48:20.144Z"
   },
   {
    "duration": 29,
    "start_time": "2022-03-07T14:48:21.171Z"
   },
   {
    "duration": 12,
    "start_time": "2022-03-07T14:48:21.202Z"
   },
   {
    "duration": 6,
    "start_time": "2022-03-07T14:48:21.216Z"
   },
   {
    "duration": 12,
    "start_time": "2022-03-07T14:48:21.223Z"
   },
   {
    "duration": 10,
    "start_time": "2022-03-07T14:48:21.237Z"
   },
   {
    "duration": 54,
    "start_time": "2022-03-07T14:48:21.248Z"
   },
   {
    "duration": 10,
    "start_time": "2022-03-07T14:48:21.303Z"
   },
   {
    "duration": 10,
    "start_time": "2022-03-07T14:48:21.315Z"
   },
   {
    "duration": 15,
    "start_time": "2022-03-07T14:48:21.327Z"
   },
   {
    "duration": 11,
    "start_time": "2022-03-07T14:48:21.343Z"
   },
   {
    "duration": 8,
    "start_time": "2022-03-07T14:48:21.355Z"
   },
   {
    "duration": 10,
    "start_time": "2022-03-07T14:48:21.365Z"
   },
   {
    "duration": 198,
    "start_time": "2022-03-07T14:48:21.376Z"
   },
   {
    "duration": 148,
    "start_time": "2022-03-07T14:48:21.575Z"
   },
   {
    "duration": 12,
    "start_time": "2022-03-07T14:48:21.725Z"
   },
   {
    "duration": 293,
    "start_time": "2022-03-07T14:48:21.739Z"
   },
   {
    "duration": 274,
    "start_time": "2022-03-07T14:48:22.033Z"
   },
   {
    "duration": 385,
    "start_time": "2022-03-07T14:48:22.309Z"
   },
   {
    "duration": 263,
    "start_time": "2022-03-07T14:48:22.696Z"
   },
   {
    "duration": 369,
    "start_time": "2022-03-07T14:48:22.961Z"
   },
   {
    "duration": 111,
    "start_time": "2022-03-07T14:48:23.332Z"
   },
   {
    "duration": 319,
    "start_time": "2022-03-07T14:48:23.445Z"
   },
   {
    "duration": 5,
    "start_time": "2022-03-07T14:48:23.766Z"
   },
   {
    "duration": 540,
    "start_time": "2022-03-07T14:48:23.773Z"
   },
   {
    "duration": 4,
    "start_time": "2022-03-07T14:48:24.315Z"
   },
   {
    "duration": 259,
    "start_time": "2022-03-07T14:48:24.322Z"
   },
   {
    "duration": 105,
    "start_time": "2022-03-07T14:48:24.583Z"
   },
   {
    "duration": 5,
    "start_time": "2022-03-07T14:48:24.690Z"
   },
   {
    "duration": 14,
    "start_time": "2022-03-07T14:48:24.696Z"
   },
   {
    "duration": 3,
    "start_time": "2022-03-07T14:48:24.711Z"
   },
   {
    "duration": 8,
    "start_time": "2022-03-07T14:48:24.716Z"
   },
   {
    "duration": 7,
    "start_time": "2022-03-07T14:48:24.725Z"
   },
   {
    "duration": 8,
    "start_time": "2022-03-07T14:48:24.734Z"
   },
   {
    "duration": 12,
    "start_time": "2022-03-07T14:48:24.743Z"
   },
   {
    "duration": 13,
    "start_time": "2022-03-07T14:48:24.756Z"
   },
   {
    "duration": 4,
    "start_time": "2022-03-07T14:48:24.770Z"
   },
   {
    "duration": 38,
    "start_time": "2022-03-07T14:48:24.775Z"
   },
   {
    "duration": 10,
    "start_time": "2022-03-07T14:48:24.815Z"
   },
   {
    "duration": 1337,
    "start_time": "2022-03-08T06:29:40.471Z"
   },
   {
    "duration": 19,
    "start_time": "2022-03-08T06:29:41.811Z"
   },
   {
    "duration": 22,
    "start_time": "2022-03-08T06:29:41.833Z"
   },
   {
    "duration": 10,
    "start_time": "2022-03-08T06:29:41.857Z"
   },
   {
    "duration": 20,
    "start_time": "2022-03-08T06:29:41.869Z"
   },
   {
    "duration": 17,
    "start_time": "2022-03-08T06:29:41.891Z"
   },
   {
    "duration": 74,
    "start_time": "2022-03-08T06:29:41.911Z"
   },
   {
    "duration": 17,
    "start_time": "2022-03-08T06:29:41.988Z"
   },
   {
    "duration": 14,
    "start_time": "2022-03-08T06:29:42.009Z"
   },
   {
    "duration": 36,
    "start_time": "2022-03-08T06:29:42.025Z"
   },
   {
    "duration": 7,
    "start_time": "2022-03-08T06:29:42.063Z"
   },
   {
    "duration": 7,
    "start_time": "2022-03-08T06:29:42.072Z"
   },
   {
    "duration": 16,
    "start_time": "2022-03-08T06:29:42.081Z"
   },
   {
    "duration": 345,
    "start_time": "2022-03-08T06:29:42.100Z"
   },
   {
    "duration": 276,
    "start_time": "2022-03-08T06:29:42.452Z"
   },
   {
    "duration": 34,
    "start_time": "2022-03-08T06:29:42.730Z"
   },
   {
    "duration": 548,
    "start_time": "2022-03-08T06:29:42.767Z"
   },
   {
    "duration": 459,
    "start_time": "2022-03-08T06:29:43.318Z"
   },
   {
    "duration": 533,
    "start_time": "2022-03-08T06:29:43.780Z"
   },
   {
    "duration": 461,
    "start_time": "2022-03-08T06:29:44.317Z"
   },
   {
    "duration": 575,
    "start_time": "2022-03-08T06:29:44.781Z"
   },
   {
    "duration": 195,
    "start_time": "2022-03-08T06:29:45.359Z"
   },
   {
    "duration": 525,
    "start_time": "2022-03-08T06:29:45.559Z"
   },
   {
    "duration": 6,
    "start_time": "2022-03-08T06:29:46.087Z"
   },
   {
    "duration": 933,
    "start_time": "2022-03-08T06:29:46.096Z"
   },
   {
    "duration": 6,
    "start_time": "2022-03-08T06:29:47.032Z"
   },
   {
    "duration": 496,
    "start_time": "2022-03-08T06:29:47.052Z"
   },
   {
    "duration": 273,
    "start_time": "2022-03-08T06:29:47.552Z"
   },
   {
    "duration": 28,
    "start_time": "2022-03-08T06:29:47.827Z"
   },
   {
    "duration": 12,
    "start_time": "2022-03-08T06:29:47.858Z"
   },
   {
    "duration": 5,
    "start_time": "2022-03-08T06:29:47.873Z"
   },
   {
    "duration": 15,
    "start_time": "2022-03-08T06:29:47.880Z"
   },
   {
    "duration": 9,
    "start_time": "2022-03-08T06:29:47.897Z"
   },
   {
    "duration": 50,
    "start_time": "2022-03-08T06:29:47.909Z"
   },
   {
    "duration": 12,
    "start_time": "2022-03-08T06:29:47.962Z"
   },
   {
    "duration": 14,
    "start_time": "2022-03-08T06:29:47.976Z"
   },
   {
    "duration": 6,
    "start_time": "2022-03-08T06:29:47.992Z"
   },
   {
    "duration": 52,
    "start_time": "2022-03-08T06:29:48.000Z"
   },
   {
    "duration": 13,
    "start_time": "2022-03-08T06:29:48.055Z"
   },
   {
    "duration": 4,
    "start_time": "2022-03-08T06:31:28.778Z"
   },
   {
    "duration": 20,
    "start_time": "2022-03-08T06:31:43.709Z"
   },
   {
    "duration": 18,
    "start_time": "2022-03-08T06:32:07.948Z"
   },
   {
    "duration": 4,
    "start_time": "2022-03-08T06:41:10.489Z"
   },
   {
    "duration": 16,
    "start_time": "2022-03-08T06:41:10.496Z"
   },
   {
    "duration": 14,
    "start_time": "2022-03-08T06:41:10.515Z"
   },
   {
    "duration": 18,
    "start_time": "2022-03-08T06:41:10.532Z"
   },
   {
    "duration": 18,
    "start_time": "2022-03-08T06:41:10.553Z"
   },
   {
    "duration": 17,
    "start_time": "2022-03-08T06:41:10.573Z"
   },
   {
    "duration": 29,
    "start_time": "2022-03-08T06:41:10.592Z"
   },
   {
    "duration": 4,
    "start_time": "2022-03-08T06:41:10.624Z"
   },
   {
    "duration": 38,
    "start_time": "2022-03-08T06:41:10.632Z"
   },
   {
    "duration": 19,
    "start_time": "2022-03-08T06:41:10.673Z"
   },
   {
    "duration": 61,
    "start_time": "2022-03-08T06:41:10.694Z"
   },
   {
    "duration": 8,
    "start_time": "2022-03-08T06:41:10.757Z"
   },
   {
    "duration": 16,
    "start_time": "2022-03-08T06:41:10.768Z"
   },
   {
    "duration": 338,
    "start_time": "2022-03-08T06:41:10.787Z"
   },
   {
    "duration": 285,
    "start_time": "2022-03-08T06:41:11.127Z"
   },
   {
    "duration": 17,
    "start_time": "2022-03-08T06:41:11.415Z"
   },
   {
    "duration": 536,
    "start_time": "2022-03-08T06:41:11.434Z"
   },
   {
    "duration": 433,
    "start_time": "2022-03-08T06:41:11.973Z"
   },
   {
    "duration": 574,
    "start_time": "2022-03-08T06:41:12.408Z"
   },
   {
    "duration": 438,
    "start_time": "2022-03-08T06:41:12.985Z"
   },
   {
    "duration": 588,
    "start_time": "2022-03-08T06:41:13.426Z"
   },
   {
    "duration": 197,
    "start_time": "2022-03-08T06:41:14.017Z"
   },
   {
    "duration": 540,
    "start_time": "2022-03-08T06:41:14.218Z"
   },
   {
    "duration": 7,
    "start_time": "2022-03-08T06:41:14.760Z"
   },
   {
    "duration": 755,
    "start_time": "2022-03-08T06:41:14.769Z"
   },
   {
    "duration": 7,
    "start_time": "2022-03-08T06:41:15.526Z"
   },
   {
    "duration": 474,
    "start_time": "2022-03-08T06:41:15.555Z"
   },
   {
    "duration": 231,
    "start_time": "2022-03-08T06:41:16.033Z"
   },
   {
    "duration": 8,
    "start_time": "2022-03-08T06:41:16.266Z"
   },
   {
    "duration": 12,
    "start_time": "2022-03-08T06:41:16.276Z"
   },
   {
    "duration": 5,
    "start_time": "2022-03-08T06:41:16.290Z"
   },
   {
    "duration": 10,
    "start_time": "2022-03-08T06:41:16.297Z"
   },
   {
    "duration": 9,
    "start_time": "2022-03-08T06:41:16.350Z"
   },
   {
    "duration": 13,
    "start_time": "2022-03-08T06:41:16.361Z"
   },
   {
    "duration": 11,
    "start_time": "2022-03-08T06:41:16.376Z"
   },
   {
    "duration": 9,
    "start_time": "2022-03-08T06:41:16.390Z"
   },
   {
    "duration": 5,
    "start_time": "2022-03-08T06:41:16.401Z"
   },
   {
    "duration": 17,
    "start_time": "2022-03-08T06:41:16.453Z"
   },
   {
    "duration": 15,
    "start_time": "2022-03-08T06:41:16.473Z"
   },
   {
    "duration": 5773,
    "start_time": "2022-03-08T06:43:10.282Z"
   },
   {
    "duration": 18,
    "start_time": "2022-03-08T06:45:16.334Z"
   },
   {
    "duration": 15,
    "start_time": "2022-03-08T06:45:25.191Z"
   },
   {
    "duration": 6,
    "start_time": "2022-03-08T06:46:42.459Z"
   },
   {
    "duration": 262,
    "start_time": "2022-03-08T06:53:04.993Z"
   },
   {
    "duration": 11,
    "start_time": "2022-03-08T06:53:08.300Z"
   },
   {
    "duration": 6,
    "start_time": "2022-03-08T06:53:09.439Z"
   },
   {
    "duration": 11,
    "start_time": "2022-03-08T06:53:18.695Z"
   },
   {
    "duration": 20,
    "start_time": "2022-03-08T06:53:25.813Z"
   },
   {
    "duration": 6,
    "start_time": "2022-03-08T06:53:32.413Z"
   },
   {
    "duration": 4,
    "start_time": "2022-03-08T06:53:47.641Z"
   },
   {
    "duration": 16,
    "start_time": "2022-03-08T06:53:47.648Z"
   },
   {
    "duration": 11,
    "start_time": "2022-03-08T06:53:47.667Z"
   },
   {
    "duration": 10,
    "start_time": "2022-03-08T06:53:47.681Z"
   },
   {
    "duration": 64,
    "start_time": "2022-03-08T06:53:47.694Z"
   },
   {
    "duration": 18,
    "start_time": "2022-03-08T06:53:47.760Z"
   },
   {
    "duration": 32,
    "start_time": "2022-03-08T06:53:47.780Z"
   },
   {
    "duration": 4,
    "start_time": "2022-03-08T06:53:47.815Z"
   },
   {
    "duration": 43,
    "start_time": "2022-03-08T06:53:47.825Z"
   },
   {
    "duration": 17,
    "start_time": "2022-03-08T06:53:47.871Z"
   },
   {
    "duration": 20,
    "start_time": "2022-03-08T06:53:47.890Z"
   },
   {
    "duration": 42,
    "start_time": "2022-03-08T06:53:47.912Z"
   },
   {
    "duration": 14,
    "start_time": "2022-03-08T06:53:47.956Z"
   },
   {
    "duration": 5,
    "start_time": "2022-03-08T06:53:47.973Z"
   },
   {
    "duration": 15,
    "start_time": "2022-03-08T06:53:47.980Z"
   },
   {
    "duration": 357,
    "start_time": "2022-03-08T06:53:47.997Z"
   },
   {
    "duration": 282,
    "start_time": "2022-03-08T06:53:48.356Z"
   },
   {
    "duration": 19,
    "start_time": "2022-03-08T06:53:48.651Z"
   },
   {
    "duration": 454,
    "start_time": "2022-03-08T06:53:48.672Z"
   },
   {
    "duration": 434,
    "start_time": "2022-03-08T06:53:49.128Z"
   },
   {
    "duration": 608,
    "start_time": "2022-03-08T06:53:49.564Z"
   },
   {
    "duration": 447,
    "start_time": "2022-03-08T06:53:50.174Z"
   },
   {
    "duration": 576,
    "start_time": "2022-03-08T06:53:50.623Z"
   },
   {
    "duration": 190,
    "start_time": "2022-03-08T06:53:51.202Z"
   },
   {
    "duration": 545,
    "start_time": "2022-03-08T06:53:51.395Z"
   },
   {
    "duration": 11,
    "start_time": "2022-03-08T06:53:51.943Z"
   },
   {
    "duration": 750,
    "start_time": "2022-03-08T06:53:51.959Z"
   },
   {
    "duration": 6,
    "start_time": "2022-03-08T06:53:52.712Z"
   },
   {
    "duration": 464,
    "start_time": "2022-03-08T06:53:52.720Z"
   },
   {
    "duration": 208,
    "start_time": "2022-03-08T06:53:53.187Z"
   },
   {
    "duration": 9,
    "start_time": "2022-03-08T06:53:53.397Z"
   },
   {
    "duration": 13,
    "start_time": "2022-03-08T06:53:53.408Z"
   },
   {
    "duration": 5,
    "start_time": "2022-03-08T06:53:53.424Z"
   },
   {
    "duration": 15,
    "start_time": "2022-03-08T06:53:53.450Z"
   },
   {
    "duration": 11,
    "start_time": "2022-03-08T06:53:53.468Z"
   },
   {
    "duration": 13,
    "start_time": "2022-03-08T06:53:53.481Z"
   },
   {
    "duration": 59,
    "start_time": "2022-03-08T06:53:53.497Z"
   },
   {
    "duration": 13,
    "start_time": "2022-03-08T06:53:53.558Z"
   },
   {
    "duration": 5,
    "start_time": "2022-03-08T06:53:53.573Z"
   },
   {
    "duration": 14,
    "start_time": "2022-03-08T06:53:53.580Z"
   },
   {
    "duration": 11,
    "start_time": "2022-03-08T06:53:53.597Z"
   },
   {
    "duration": 540,
    "start_time": "2022-03-08T06:55:15.883Z"
   },
   {
    "duration": 4,
    "start_time": "2022-03-08T06:57:35.544Z"
   },
   {
    "duration": 15,
    "start_time": "2022-03-08T06:57:35.551Z"
   },
   {
    "duration": 15,
    "start_time": "2022-03-08T06:57:35.569Z"
   },
   {
    "duration": 11,
    "start_time": "2022-03-08T06:57:35.586Z"
   },
   {
    "duration": 60,
    "start_time": "2022-03-08T06:57:35.599Z"
   },
   {
    "duration": 19,
    "start_time": "2022-03-08T06:57:35.661Z"
   },
   {
    "duration": 30,
    "start_time": "2022-03-08T06:57:35.682Z"
   },
   {
    "duration": 4,
    "start_time": "2022-03-08T06:57:35.715Z"
   },
   {
    "duration": 44,
    "start_time": "2022-03-08T06:57:35.722Z"
   },
   {
    "duration": 18,
    "start_time": "2022-03-08T06:57:35.769Z"
   },
   {
    "duration": 21,
    "start_time": "2022-03-08T06:57:35.790Z"
   },
   {
    "duration": 8,
    "start_time": "2022-03-08T06:57:35.813Z"
   },
   {
    "duration": 11,
    "start_time": "2022-03-08T06:57:35.852Z"
   },
   {
    "duration": 6,
    "start_time": "2022-03-08T06:57:35.865Z"
   },
   {
    "duration": 13,
    "start_time": "2022-03-08T06:57:35.874Z"
   },
   {
    "duration": 377,
    "start_time": "2022-03-08T06:57:35.890Z"
   },
   {
    "duration": 288,
    "start_time": "2022-03-08T06:57:36.270Z"
   },
   {
    "duration": 18,
    "start_time": "2022-03-08T06:57:36.561Z"
   },
   {
    "duration": 460,
    "start_time": "2022-03-08T06:57:36.581Z"
   },
   {
    "duration": 453,
    "start_time": "2022-03-08T06:57:37.044Z"
   },
   {
    "duration": 518,
    "start_time": "2022-03-08T06:57:37.499Z"
   },
   {
    "duration": 464,
    "start_time": "2022-03-08T06:57:38.019Z"
   },
   {
    "duration": 613,
    "start_time": "2022-03-08T06:57:38.486Z"
   },
   {
    "duration": 187,
    "start_time": "2022-03-08T06:57:39.101Z"
   },
   {
    "duration": 606,
    "start_time": "2022-03-08T06:57:39.291Z"
   },
   {
    "duration": 6,
    "start_time": "2022-03-08T06:57:39.900Z"
   },
   {
    "duration": 802,
    "start_time": "2022-03-08T06:57:39.911Z"
   },
   {
    "duration": 7,
    "start_time": "2022-03-08T06:57:40.716Z"
   },
   {
    "duration": 451,
    "start_time": "2022-03-08T06:57:40.726Z"
   },
   {
    "duration": 230,
    "start_time": "2022-03-08T06:57:41.180Z"
   },
   {
    "duration": 8,
    "start_time": "2022-03-08T06:57:41.412Z"
   },
   {
    "duration": 32,
    "start_time": "2022-03-08T06:57:41.422Z"
   },
   {
    "duration": 6,
    "start_time": "2022-03-08T06:57:41.457Z"
   },
   {
    "duration": 13,
    "start_time": "2022-03-08T06:57:41.465Z"
   },
   {
    "duration": 9,
    "start_time": "2022-03-08T06:57:41.481Z"
   },
   {
    "duration": 14,
    "start_time": "2022-03-08T06:57:41.492Z"
   },
   {
    "duration": 53,
    "start_time": "2022-03-08T06:57:41.508Z"
   },
   {
    "duration": 9,
    "start_time": "2022-03-08T06:57:41.564Z"
   },
   {
    "duration": 4,
    "start_time": "2022-03-08T06:57:41.576Z"
   },
   {
    "duration": 13,
    "start_time": "2022-03-08T06:57:41.582Z"
   },
   {
    "duration": 58,
    "start_time": "2022-03-08T06:57:41.597Z"
   },
   {
    "duration": 14,
    "start_time": "2022-03-08T06:58:32.152Z"
   },
   {
    "duration": 13,
    "start_time": "2022-03-08T07:07:45.134Z"
   },
   {
    "duration": 4,
    "start_time": "2022-03-08T07:07:48.643Z"
   },
   {
    "duration": 15,
    "start_time": "2022-03-08T07:07:48.649Z"
   },
   {
    "duration": 11,
    "start_time": "2022-03-08T07:07:48.667Z"
   },
   {
    "duration": 7,
    "start_time": "2022-03-08T07:07:48.681Z"
   },
   {
    "duration": 16,
    "start_time": "2022-03-08T07:07:48.691Z"
   },
   {
    "duration": 55,
    "start_time": "2022-03-08T07:07:48.710Z"
   },
   {
    "duration": 29,
    "start_time": "2022-03-08T07:07:48.767Z"
   },
   {
    "duration": 4,
    "start_time": "2022-03-08T07:07:48.799Z"
   },
   {
    "duration": 50,
    "start_time": "2022-03-08T07:07:48.808Z"
   },
   {
    "duration": 18,
    "start_time": "2022-03-08T07:07:48.861Z"
   },
   {
    "duration": 22,
    "start_time": "2022-03-08T07:07:48.881Z"
   },
   {
    "duration": 54,
    "start_time": "2022-03-08T07:07:48.906Z"
   },
   {
    "duration": 6,
    "start_time": "2022-03-08T07:07:48.964Z"
   },
   {
    "duration": 15,
    "start_time": "2022-03-08T07:07:48.973Z"
   },
   {
    "duration": 340,
    "start_time": "2022-03-08T07:07:48.991Z"
   },
   {
    "duration": 282,
    "start_time": "2022-03-08T07:07:49.333Z"
   },
   {
    "duration": 39,
    "start_time": "2022-03-08T07:07:49.618Z"
   },
   {
    "duration": 451,
    "start_time": "2022-03-08T07:07:49.659Z"
   },
   {
    "duration": 455,
    "start_time": "2022-03-08T07:07:50.112Z"
   },
   {
    "duration": 499,
    "start_time": "2022-03-08T07:07:50.569Z"
   },
   {
    "duration": 452,
    "start_time": "2022-03-08T07:07:51.070Z"
   },
   {
    "duration": 622,
    "start_time": "2022-03-08T07:07:51.525Z"
   },
   {
    "duration": 203,
    "start_time": "2022-03-08T07:07:52.149Z"
   },
   {
    "duration": 511,
    "start_time": "2022-03-08T07:07:52.355Z"
   },
   {
    "duration": 6,
    "start_time": "2022-03-08T07:07:52.868Z"
   },
   {
    "duration": 824,
    "start_time": "2022-03-08T07:07:52.876Z"
   },
   {
    "duration": 6,
    "start_time": "2022-03-08T07:07:53.705Z"
   },
   {
    "duration": 463,
    "start_time": "2022-03-08T07:07:53.715Z"
   },
   {
    "duration": 203,
    "start_time": "2022-03-08T07:07:54.180Z"
   },
   {
    "duration": 8,
    "start_time": "2022-03-08T07:07:54.385Z"
   },
   {
    "duration": 14,
    "start_time": "2022-03-08T07:07:54.395Z"
   },
   {
    "duration": 5,
    "start_time": "2022-03-08T07:07:54.411Z"
   },
   {
    "duration": 38,
    "start_time": "2022-03-08T07:07:54.418Z"
   },
   {
    "duration": 12,
    "start_time": "2022-03-08T07:07:54.459Z"
   },
   {
    "duration": 14,
    "start_time": "2022-03-08T07:07:54.473Z"
   },
   {
    "duration": 11,
    "start_time": "2022-03-08T07:07:54.489Z"
   },
   {
    "duration": 8,
    "start_time": "2022-03-08T07:07:54.502Z"
   },
   {
    "duration": 39,
    "start_time": "2022-03-08T07:07:54.512Z"
   },
   {
    "duration": 12,
    "start_time": "2022-03-08T07:07:54.554Z"
   },
   {
    "duration": 12,
    "start_time": "2022-03-08T07:07:54.569Z"
   },
   {
    "duration": 108,
    "start_time": "2022-03-08T07:09:05.671Z"
   },
   {
    "duration": 95,
    "start_time": "2022-03-08T07:09:15.907Z"
   },
   {
    "duration": 12,
    "start_time": "2022-03-08T07:09:22.920Z"
   },
   {
    "duration": 576,
    "start_time": "2022-03-08T07:16:51.634Z"
   },
   {
    "duration": 565,
    "start_time": "2022-03-08T07:17:00.343Z"
   },
   {
    "duration": 598,
    "start_time": "2022-03-08T07:17:23.207Z"
   },
   {
    "duration": 1387,
    "start_time": "2022-03-08T07:23:59.216Z"
   },
   {
    "duration": 19,
    "start_time": "2022-03-08T07:24:00.606Z"
   },
   {
    "duration": 32,
    "start_time": "2022-03-08T07:24:00.628Z"
   },
   {
    "duration": 9,
    "start_time": "2022-03-08T07:24:00.663Z"
   },
   {
    "duration": 28,
    "start_time": "2022-03-08T07:24:00.674Z"
   },
   {
    "duration": 21,
    "start_time": "2022-03-08T07:24:00.704Z"
   },
   {
    "duration": 44,
    "start_time": "2022-03-08T07:24:00.752Z"
   },
   {
    "duration": 11,
    "start_time": "2022-03-08T07:24:00.800Z"
   },
   {
    "duration": 45,
    "start_time": "2022-03-08T07:24:00.815Z"
   },
   {
    "duration": 20,
    "start_time": "2022-03-08T07:24:00.863Z"
   },
   {
    "duration": 26,
    "start_time": "2022-03-08T07:24:00.886Z"
   },
   {
    "duration": 45,
    "start_time": "2022-03-08T07:24:00.915Z"
   },
   {
    "duration": 9,
    "start_time": "2022-03-08T07:24:00.963Z"
   },
   {
    "duration": 31,
    "start_time": "2022-03-08T07:24:00.975Z"
   },
   {
    "duration": 329,
    "start_time": "2022-03-08T07:24:01.008Z"
   },
   {
    "duration": 285,
    "start_time": "2022-03-08T07:24:01.340Z"
   },
   {
    "duration": 39,
    "start_time": "2022-03-08T07:24:01.628Z"
   },
   {
    "duration": 487,
    "start_time": "2022-03-08T07:24:01.670Z"
   },
   {
    "duration": 472,
    "start_time": "2022-03-08T07:24:02.161Z"
   },
   {
    "duration": 506,
    "start_time": "2022-03-08T07:24:02.636Z"
   },
   {
    "duration": 556,
    "start_time": "2022-03-08T07:24:03.145Z"
   },
   {
    "duration": 582,
    "start_time": "2022-03-08T07:24:03.703Z"
   },
   {
    "duration": 221,
    "start_time": "2022-03-08T07:24:04.289Z"
   },
   {
    "duration": 544,
    "start_time": "2022-03-08T07:24:04.514Z"
   },
   {
    "duration": 7,
    "start_time": "2022-03-08T07:24:05.060Z"
   },
   {
    "duration": 727,
    "start_time": "2022-03-08T07:24:05.069Z"
   },
   {
    "duration": 7,
    "start_time": "2022-03-08T07:24:05.799Z"
   },
   {
    "duration": 477,
    "start_time": "2022-03-08T07:24:05.808Z"
   },
   {
    "duration": 212,
    "start_time": "2022-03-08T07:24:06.288Z"
   },
   {
    "duration": 8,
    "start_time": "2022-03-08T07:24:06.502Z"
   },
   {
    "duration": 23,
    "start_time": "2022-03-08T07:24:06.512Z"
   },
   {
    "duration": 11,
    "start_time": "2022-03-08T07:24:06.537Z"
   },
   {
    "duration": 14,
    "start_time": "2022-03-08T07:24:06.551Z"
   },
   {
    "duration": 10,
    "start_time": "2022-03-08T07:24:06.568Z"
   },
   {
    "duration": 13,
    "start_time": "2022-03-08T07:24:06.581Z"
   },
   {
    "duration": 11,
    "start_time": "2022-03-08T07:24:06.596Z"
   },
   {
    "duration": 8,
    "start_time": "2022-03-08T07:24:06.652Z"
   },
   {
    "duration": 5,
    "start_time": "2022-03-08T07:24:06.663Z"
   },
   {
    "duration": 13,
    "start_time": "2022-03-08T07:24:06.671Z"
   },
   {
    "duration": 12,
    "start_time": "2022-03-08T07:24:06.686Z"
   },
   {
    "duration": 953,
    "start_time": "2022-03-08T10:24:57.048Z"
   },
   {
    "duration": 16,
    "start_time": "2022-03-08T10:24:58.003Z"
   },
   {
    "duration": 11,
    "start_time": "2022-03-08T10:24:58.021Z"
   },
   {
    "duration": 5,
    "start_time": "2022-03-08T10:24:58.034Z"
   },
   {
    "duration": 11,
    "start_time": "2022-03-08T10:24:58.041Z"
   },
   {
    "duration": 10,
    "start_time": "2022-03-08T10:24:58.054Z"
   },
   {
    "duration": 62,
    "start_time": "2022-03-08T10:24:58.066Z"
   },
   {
    "duration": 2,
    "start_time": "2022-03-08T10:24:58.130Z"
   },
   {
    "duration": 14,
    "start_time": "2022-03-08T10:24:58.134Z"
   },
   {
    "duration": 10,
    "start_time": "2022-03-08T10:24:58.149Z"
   },
   {
    "duration": 13,
    "start_time": "2022-03-08T10:24:58.160Z"
   },
   {
    "duration": 7,
    "start_time": "2022-03-08T10:24:58.175Z"
   },
   {
    "duration": 17,
    "start_time": "2022-03-08T10:24:58.184Z"
   },
   {
    "duration": 13,
    "start_time": "2022-03-08T10:24:58.203Z"
   },
   {
    "duration": 288,
    "start_time": "2022-03-08T10:24:58.218Z"
   },
   {
    "duration": 159,
    "start_time": "2022-03-08T10:24:58.508Z"
   },
   {
    "duration": 11,
    "start_time": "2022-03-08T10:24:58.668Z"
   },
   {
    "duration": 271,
    "start_time": "2022-03-08T10:24:58.681Z"
   },
   {
    "duration": 255,
    "start_time": "2022-03-08T10:24:58.953Z"
   },
   {
    "duration": 421,
    "start_time": "2022-03-08T10:24:59.209Z"
   },
   {
    "duration": 358,
    "start_time": "2022-03-08T10:24:59.631Z"
   },
   {
    "duration": 396,
    "start_time": "2022-03-08T10:24:59.991Z"
   },
   {
    "duration": 118,
    "start_time": "2022-03-08T10:25:00.391Z"
   },
   {
    "duration": 352,
    "start_time": "2022-03-08T10:25:00.511Z"
   },
   {
    "duration": 5,
    "start_time": "2022-03-08T10:25:00.865Z"
   },
   {
    "duration": 503,
    "start_time": "2022-03-08T10:25:00.871Z"
   },
   {
    "duration": 4,
    "start_time": "2022-03-08T10:25:01.376Z"
   },
   {
    "duration": 250,
    "start_time": "2022-03-08T10:25:01.381Z"
   },
   {
    "duration": 111,
    "start_time": "2022-03-08T10:25:01.632Z"
   },
   {
    "duration": 6,
    "start_time": "2022-03-08T10:25:01.745Z"
   },
   {
    "duration": 11,
    "start_time": "2022-03-08T10:25:01.752Z"
   },
   {
    "duration": 3,
    "start_time": "2022-03-08T10:25:01.764Z"
   },
   {
    "duration": 7,
    "start_time": "2022-03-08T10:25:01.769Z"
   },
   {
    "duration": 25,
    "start_time": "2022-03-08T10:25:01.777Z"
   },
   {
    "duration": 8,
    "start_time": "2022-03-08T10:25:01.804Z"
   },
   {
    "duration": 8,
    "start_time": "2022-03-08T10:25:01.814Z"
   },
   {
    "duration": 13,
    "start_time": "2022-03-08T10:25:01.823Z"
   },
   {
    "duration": 5,
    "start_time": "2022-03-08T10:25:01.837Z"
   },
   {
    "duration": 11,
    "start_time": "2022-03-08T10:25:01.844Z"
   },
   {
    "duration": 14,
    "start_time": "2022-03-08T10:25:01.856Z"
   },
   {
    "duration": 1100,
    "start_time": "2022-03-09T10:51:46.564Z"
   },
   {
    "duration": 27,
    "start_time": "2022-03-09T10:51:47.666Z"
   },
   {
    "duration": 43,
    "start_time": "2022-03-09T10:51:47.695Z"
   },
   {
    "duration": 22,
    "start_time": "2022-03-09T10:51:47.740Z"
   },
   {
    "duration": 39,
    "start_time": "2022-03-09T10:51:47.765Z"
   },
   {
    "duration": 17,
    "start_time": "2022-03-09T10:51:47.806Z"
   },
   {
    "duration": 68,
    "start_time": "2022-03-09T10:51:47.825Z"
   },
   {
    "duration": 4,
    "start_time": "2022-03-09T10:51:47.895Z"
   },
   {
    "duration": 21,
    "start_time": "2022-03-09T10:51:47.902Z"
   },
   {
    "duration": 16,
    "start_time": "2022-03-09T10:51:47.926Z"
   },
   {
    "duration": 45,
    "start_time": "2022-03-09T10:51:47.944Z"
   },
   {
    "duration": 11,
    "start_time": "2022-03-09T10:51:47.991Z"
   },
   {
    "duration": 5,
    "start_time": "2022-03-09T10:51:48.005Z"
   },
   {
    "duration": 18,
    "start_time": "2022-03-09T10:51:48.013Z"
   },
   {
    "duration": 230,
    "start_time": "2022-03-09T10:51:48.033Z"
   },
   {
    "duration": 179,
    "start_time": "2022-03-09T10:51:48.265Z"
   },
   {
    "duration": 34,
    "start_time": "2022-03-09T10:51:48.446Z"
   },
   {
    "duration": 398,
    "start_time": "2022-03-09T10:51:48.482Z"
   },
   {
    "duration": 328,
    "start_time": "2022-03-09T10:51:48.882Z"
   },
   {
    "duration": 394,
    "start_time": "2022-03-09T10:51:49.212Z"
   },
   {
    "duration": 417,
    "start_time": "2022-03-09T10:51:49.608Z"
   },
   {
    "duration": 474,
    "start_time": "2022-03-09T10:51:50.027Z"
   },
   {
    "duration": 131,
    "start_time": "2022-03-09T10:51:50.503Z"
   },
   {
    "duration": 403,
    "start_time": "2022-03-09T10:51:50.636Z"
   },
   {
    "duration": 5,
    "start_time": "2022-03-09T10:51:51.041Z"
   },
   {
    "duration": 616,
    "start_time": "2022-03-09T10:51:51.048Z"
   },
   {
    "duration": 12,
    "start_time": "2022-03-09T10:51:51.667Z"
   },
   {
    "duration": 301,
    "start_time": "2022-03-09T10:51:51.681Z"
   },
   {
    "duration": 124,
    "start_time": "2022-03-09T10:51:51.984Z"
   },
   {
    "duration": 6,
    "start_time": "2022-03-09T10:51:52.110Z"
   },
   {
    "duration": 14,
    "start_time": "2022-03-09T10:51:52.118Z"
   },
   {
    "duration": 4,
    "start_time": "2022-03-09T10:51:52.135Z"
   },
   {
    "duration": 41,
    "start_time": "2022-03-09T10:51:52.142Z"
   },
   {
    "duration": 7,
    "start_time": "2022-03-09T10:51:52.185Z"
   },
   {
    "duration": 8,
    "start_time": "2022-03-09T10:51:52.194Z"
   },
   {
    "duration": 10,
    "start_time": "2022-03-09T10:51:52.204Z"
   },
   {
    "duration": 10,
    "start_time": "2022-03-09T10:51:52.216Z"
   },
   {
    "duration": 5,
    "start_time": "2022-03-09T10:51:52.228Z"
   },
   {
    "duration": 48,
    "start_time": "2022-03-09T10:51:52.235Z"
   },
   {
    "duration": 42,
    "start_time": "2022-03-09T10:51:52.285Z"
   },
   {
    "duration": 408,
    "start_time": "2022-03-09T10:52:07.922Z"
   },
   {
    "duration": 253,
    "start_time": "2022-03-09T10:52:13.605Z"
   },
   {
    "duration": 4,
    "start_time": "2022-03-09T10:52:33.145Z"
   },
   {
    "duration": 12,
    "start_time": "2022-03-09T10:52:34.184Z"
   },
   {
    "duration": 4,
    "start_time": "2022-03-09T10:52:37.695Z"
   },
   {
    "duration": 9,
    "start_time": "2022-03-09T10:52:38.640Z"
   },
   {
    "duration": 3,
    "start_time": "2022-03-09T10:52:47.773Z"
   },
   {
    "duration": 12,
    "start_time": "2022-03-09T10:52:49.112Z"
   },
   {
    "duration": 13,
    "start_time": "2022-03-09T11:00:08.266Z"
   },
   {
    "duration": 14,
    "start_time": "2022-03-09T11:00:14.748Z"
   },
   {
    "duration": 275,
    "start_time": "2022-03-09T11:00:48.290Z"
   },
   {
    "duration": 6615,
    "start_time": "2022-03-09T11:08:39.226Z"
   },
   {
    "duration": 15,
    "start_time": "2022-03-09T11:09:36.944Z"
   },
   {
    "duration": 13,
    "start_time": "2022-03-09T11:09:41.012Z"
   },
   {
    "duration": 4,
    "start_time": "2022-03-09T11:10:55.909Z"
   },
   {
    "duration": 9,
    "start_time": "2022-03-09T11:11:03.176Z"
   },
   {
    "duration": 4,
    "start_time": "2022-03-09T11:13:19.909Z"
   },
   {
    "duration": 10,
    "start_time": "2022-03-09T11:13:25.482Z"
   },
   {
    "duration": 15,
    "start_time": "2022-03-09T11:13:57.307Z"
   },
   {
    "duration": 14,
    "start_time": "2022-03-09T11:14:01.530Z"
   },
   {
    "duration": 9,
    "start_time": "2022-03-09T11:14:03.456Z"
   },
   {
    "duration": 9,
    "start_time": "2022-03-09T11:14:24.447Z"
   },
   {
    "duration": 14,
    "start_time": "2022-03-09T11:14:27.645Z"
   },
   {
    "duration": 9,
    "start_time": "2022-03-09T11:14:32.446Z"
   },
   {
    "duration": 14,
    "start_time": "2022-03-09T11:14:44.245Z"
   },
   {
    "duration": 14,
    "start_time": "2022-03-09T11:14:49.658Z"
   },
   {
    "duration": 12,
    "start_time": "2022-03-09T11:14:51.829Z"
   },
   {
    "duration": 9,
    "start_time": "2022-03-09T11:14:52.993Z"
   },
   {
    "duration": 10,
    "start_time": "2022-03-09T11:15:28.346Z"
   },
   {
    "duration": 10,
    "start_time": "2022-03-09T11:15:57.911Z"
   },
   {
    "duration": 390,
    "start_time": "2022-03-09T11:20:36.150Z"
   },
   {
    "duration": 338,
    "start_time": "2022-03-09T11:21:30.409Z"
   },
   {
    "duration": 323,
    "start_time": "2022-03-09T11:22:32.047Z"
   },
   {
    "duration": 402,
    "start_time": "2022-03-09T11:23:19.811Z"
   },
   {
    "duration": 445,
    "start_time": "2022-03-09T11:24:11.672Z"
   },
   {
    "duration": 480,
    "start_time": "2022-03-09T11:25:05.667Z"
   },
   {
    "duration": 419,
    "start_time": "2022-03-09T11:31:48.251Z"
   },
   {
    "duration": 578,
    "start_time": "2022-03-09T11:32:16.443Z"
   },
   {
    "duration": 8,
    "start_time": "2022-03-09T11:42:48.918Z"
   },
   {
    "duration": 9,
    "start_time": "2022-03-09T11:44:21.545Z"
   },
   {
    "duration": 10,
    "start_time": "2022-03-09T11:47:39.502Z"
   },
   {
    "duration": 256,
    "start_time": "2022-03-09T11:57:02.410Z"
   },
   {
    "duration": 5,
    "start_time": "2022-03-09T11:57:42.248Z"
   },
   {
    "duration": 208,
    "start_time": "2022-03-09T11:58:24.026Z"
   },
   {
    "duration": 4,
    "start_time": "2022-03-09T12:00:36.208Z"
   },
   {
    "duration": 8,
    "start_time": "2022-03-09T12:02:29.387Z"
   },
   {
    "duration": 8,
    "start_time": "2022-03-09T12:02:35.510Z"
   },
   {
    "duration": 7,
    "start_time": "2022-03-09T12:02:44.648Z"
   },
   {
    "duration": 7,
    "start_time": "2022-03-09T12:02:48.575Z"
   },
   {
    "duration": 7,
    "start_time": "2022-03-09T12:02:56.330Z"
   },
   {
    "duration": 7,
    "start_time": "2022-03-09T12:02:59.642Z"
   },
   {
    "duration": 7,
    "start_time": "2022-03-09T12:03:03.825Z"
   },
   {
    "duration": 5,
    "start_time": "2022-03-09T12:03:10.697Z"
   },
   {
    "duration": 6,
    "start_time": "2022-03-09T12:03:17.527Z"
   },
   {
    "duration": 441,
    "start_time": "2022-03-09T12:03:54.946Z"
   },
   {
    "duration": 492,
    "start_time": "2022-03-09T12:04:34.667Z"
   },
   {
    "duration": 13,
    "start_time": "2022-03-09T12:04:50.329Z"
   },
   {
    "duration": 4,
    "start_time": "2022-03-09T12:04:57.725Z"
   },
   {
    "duration": 761,
    "start_time": "2022-03-09T12:05:01.660Z"
   },
   {
    "duration": 5,
    "start_time": "2022-03-09T12:05:25.677Z"
   },
   {
    "duration": 6,
    "start_time": "2022-03-09T12:05:50.365Z"
   },
   {
    "duration": 5,
    "start_time": "2022-03-09T12:05:55.622Z"
   },
   {
    "duration": 4,
    "start_time": "2022-03-09T12:06:24.118Z"
   },
   {
    "duration": 83,
    "start_time": "2022-03-09T12:06:29.489Z"
   },
   {
    "duration": 646,
    "start_time": "2022-03-09T12:06:32.396Z"
   },
   {
    "duration": 6,
    "start_time": "2022-03-09T12:06:49.025Z"
   },
   {
    "duration": 6,
    "start_time": "2022-03-09T12:06:55.395Z"
   },
   {
    "duration": 15,
    "start_time": "2022-03-09T12:07:05.259Z"
   },
   {
    "duration": 7,
    "start_time": "2022-03-09T12:07:11.690Z"
   },
   {
    "duration": 6,
    "start_time": "2022-03-09T12:07:19.969Z"
   },
   {
    "duration": 7,
    "start_time": "2022-03-09T12:07:33.258Z"
   },
   {
    "duration": 7,
    "start_time": "2022-03-09T12:07:38.462Z"
   },
   {
    "duration": 6,
    "start_time": "2022-03-09T12:07:48.465Z"
   },
   {
    "duration": 8,
    "start_time": "2022-03-09T12:07:55.626Z"
   },
   {
    "duration": 6,
    "start_time": "2022-03-09T12:07:58.432Z"
   },
   {
    "duration": 6,
    "start_time": "2022-03-09T12:08:00.056Z"
   },
   {
    "duration": 7,
    "start_time": "2022-03-09T12:08:05.191Z"
   },
   {
    "duration": 6,
    "start_time": "2022-03-09T12:08:21.979Z"
   },
   {
    "duration": 6,
    "start_time": "2022-03-09T12:08:27.248Z"
   },
   {
    "duration": 6,
    "start_time": "2022-03-09T12:08:30.330Z"
   },
   {
    "duration": 6,
    "start_time": "2022-03-09T12:08:33.171Z"
   },
   {
    "duration": 6,
    "start_time": "2022-03-09T12:08:35.745Z"
   },
   {
    "duration": 6,
    "start_time": "2022-03-09T12:08:45.569Z"
   },
   {
    "duration": 7,
    "start_time": "2022-03-09T12:08:48.473Z"
   },
   {
    "duration": 90,
    "start_time": "2022-03-09T12:08:49.663Z"
   },
   {
    "duration": 6,
    "start_time": "2022-03-09T12:08:53.024Z"
   },
   {
    "duration": 5,
    "start_time": "2022-03-09T12:09:07.353Z"
   },
   {
    "duration": 7,
    "start_time": "2022-03-09T12:13:03.573Z"
   },
   {
    "duration": 9,
    "start_time": "2022-03-09T12:13:21.579Z"
   },
   {
    "duration": 7,
    "start_time": "2022-03-09T12:13:35.756Z"
   },
   {
    "duration": 6,
    "start_time": "2022-03-09T12:14:12.490Z"
   },
   {
    "duration": 5,
    "start_time": "2022-03-09T12:14:33.944Z"
   },
   {
    "duration": 8,
    "start_time": "2022-03-09T12:15:31.460Z"
   },
   {
    "duration": 4,
    "start_time": "2022-03-09T12:40:33.377Z"
   },
   {
    "duration": 8,
    "start_time": "2022-03-09T12:41:32.504Z"
   }
  ],
  "kernelspec": {
   "display_name": "Python 3 (ipykernel)",
   "language": "python",
   "name": "python3"
  },
  "language_info": {
   "codemirror_mode": {
    "name": "ipython",
    "version": 3
   },
   "file_extension": ".py",
   "mimetype": "text/x-python",
   "name": "python",
   "nbconvert_exporter": "python",
   "pygments_lexer": "ipython3",
   "version": "3.7.8"
  },
  "toc": {
   "base_numbering": 1,
   "nav_menu": {},
   "number_sections": true,
   "sideBar": true,
   "skip_h1_title": true,
   "title_cell": "Table of Contents",
   "title_sidebar": "Contents",
   "toc_cell": false,
   "toc_position": {},
   "toc_section_display": true,
   "toc_window_display": false
  }
 },
 "nbformat": 4,
 "nbformat_minor": 2
}
