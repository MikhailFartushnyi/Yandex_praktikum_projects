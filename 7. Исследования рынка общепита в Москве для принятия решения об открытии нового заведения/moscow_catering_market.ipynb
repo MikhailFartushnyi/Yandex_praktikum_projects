{
 "cells": [
  {
   "cell_type": "markdown",
   "metadata": {},
   "source": [
    "# Исследование Рынка заведений общественного питания Москвы"
   ]
  },
  {
   "cell_type": "markdown",
   "metadata": {},
   "source": [
    "**Причина исследования:**\n",
    "* Планирование открытия небольшого заведения общественного питания в Москве, в котором обслуживанием поситителей занимаются роботы.\n",
    "\n",
    "**Цель исследования:**\n",
    "* Изучение текущего положения на рынке заведений общественного питания Москвы.\n",
    "* Предоставление рекомендаций по виду заведения, количеству посадочных мест, району расположению и возможности развития сети. \n",
    "* Создание презентации для потенциальных инвесторов."
   ]
  },
  {
   "cell_type": "markdown",
   "metadata": {},
   "source": [
    "**Оглавление**\n",
    "1. [Открытие данных](#start)\n",
    "2. [Предобработка данных](#preprocessing)<br>\n",
    "    2.1.[Обработка пропущенных значений](#null)<br>\n",
    "    2.2.[Обработка дубликатов](#duplicates)<br>\n",
    "3. [Анализ данных](#analysis)<br>\n",
    "    3.1.[Исследование соотношения видов объектов общественного питания по количеству](#3.1)<br>\n",
    "    3.2.[Исследование соотношения сетевых и несетевых заведений по количеству](#3.2)<br>\n",
    "    3.3.[Исследование зависимости вида объекта общественного питания и сетевого распространения](#3.3)<br>\n",
    "    3.4.[Исследование сетевых заведений: взаимосвязь количества посадочных мест и количества заведений в сети](#3.4)<br>\n",
    "    3.5.[Исследование среднего количество посадочных мест для каждого вида объекта общественного питания](#3.5)<br>\n",
    "    3.6.[Создание столбца с информацией об улице из столбца address ](#3.6)<br>\n",
    "    3.7.[Топ-10 улиц по количеству объектов общественного питания. Привязка улиц к районам](#3.7)<br>\n",
    "    3.8.[Число улиц с одним объектом общественного питания. Привязка улиц к районам](#3.8)<br>\n",
    "    3.9.[Исследование распределения количества посадочных мест для улиц с большим количеством объектов общественного питания](#3.9)<br>\n",
    "4. [Общий вывод. Рекомендации о виде заведения, количестве посадочных мест, а также районе расположения](#conclusion)"
   ]
  },
  {
   "cell_type": "markdown",
   "metadata": {},
   "source": [
    "## <a id=\"start\">Открытие данных</a> "
   ]
  },
  {
   "cell_type": "code",
   "execution_count": 1,
   "metadata": {},
   "outputs": [],
   "source": [
    "# загрузка библиотек\n",
    "import pandas as pd\n",
    "import matplotlib.pyplot as plt\n",
    "import seaborn as sns\n",
    "import re"
   ]
  },
  {
   "cell_type": "code",
   "execution_count": 2,
   "metadata": {},
   "outputs": [],
   "source": [
    "# максимально отображаемая длина стороки\n",
    "pd.set_option(\"max_colwidth\", 110)"
   ]
  },
  {
   "cell_type": "code",
   "execution_count": 3,
   "metadata": {},
   "outputs": [],
   "source": [
    "# стиль графиков\n",
    "plt.style.use('ggplot')"
   ]
  },
  {
   "cell_type": "code",
   "execution_count": 4,
   "metadata": {},
   "outputs": [],
   "source": [
    "# загрузка данных\n",
    "df = pd.read_csv('/datasets/rest_data.csv')\n",
    "# таблица с данными об улицах и районах Москвы\n",
    "mos = pd.read_csv('https://frs.noosphere.ru/xmlui/bitstream/handle/20.500.11925/714058/mosgaz-streets.csv')"
   ]
  },
  {
   "cell_type": "code",
   "execution_count": 5,
   "metadata": {
    "scrolled": true
   },
   "outputs": [
    {
     "data": {
      "text/html": [
       "<div>\n",
       "<style scoped>\n",
       "    .dataframe tbody tr th:only-of-type {\n",
       "        vertical-align: middle;\n",
       "    }\n",
       "\n",
       "    .dataframe tbody tr th {\n",
       "        vertical-align: top;\n",
       "    }\n",
       "\n",
       "    .dataframe thead th {\n",
       "        text-align: right;\n",
       "    }\n",
       "</style>\n",
       "<table border=\"1\" class=\"dataframe\">\n",
       "  <thead>\n",
       "    <tr style=\"text-align: right;\">\n",
       "      <th></th>\n",
       "      <th>id</th>\n",
       "      <th>object_name</th>\n",
       "      <th>chain</th>\n",
       "      <th>object_type</th>\n",
       "      <th>address</th>\n",
       "      <th>number</th>\n",
       "    </tr>\n",
       "  </thead>\n",
       "  <tbody>\n",
       "    <tr>\n",
       "      <th>13601</th>\n",
       "      <td>205360</td>\n",
       "      <td>Гриль Бар</td>\n",
       "      <td>нет</td>\n",
       "      <td>бар</td>\n",
       "      <td>город Москва, улица Большая Ордынка, дом 7</td>\n",
       "      <td>12</td>\n",
       "    </tr>\n",
       "    <tr>\n",
       "      <th>5490</th>\n",
       "      <td>156198</td>\n",
       "      <td>Кафе</td>\n",
       "      <td>нет</td>\n",
       "      <td>кафе</td>\n",
       "      <td>город Москва, Байкальская улица, дом 1/3, строение 5</td>\n",
       "      <td>40</td>\n",
       "    </tr>\n",
       "    <tr>\n",
       "      <th>5567</th>\n",
       "      <td>28487</td>\n",
       "      <td>Атриум</td>\n",
       "      <td>нет</td>\n",
       "      <td>кафе</td>\n",
       "      <td>город Москва, Русаковская улица, дом 24</td>\n",
       "      <td>55</td>\n",
       "    </tr>\n",
       "  </tbody>\n",
       "</table>\n",
       "</div>"
      ],
      "text/plain": [
       "           id object_name chain object_type  \\\n",
       "13601  205360   Гриль Бар   нет         бар   \n",
       "5490   156198        Кафе   нет        кафе   \n",
       "5567    28487      Атриум   нет        кафе   \n",
       "\n",
       "                                                    address  number  \n",
       "13601            город Москва, улица Большая Ордынка, дом 7      12  \n",
       "5490   город Москва, Байкальская улица, дом 1/3, строение 5      40  \n",
       "5567                город Москва, Русаковская улица, дом 24      55  "
      ]
     },
     "execution_count": 5,
     "metadata": {},
     "output_type": "execute_result"
    }
   ],
   "source": [
    "df.sample(3)"
   ]
  },
  {
   "cell_type": "code",
   "execution_count": 6,
   "metadata": {},
   "outputs": [
    {
     "name": "stdout",
     "output_type": "stream",
     "text": [
      "<class 'pandas.core.frame.DataFrame'>\n",
      "RangeIndex: 15366 entries, 0 to 15365\n",
      "Data columns (total 6 columns):\n",
      " #   Column       Non-Null Count  Dtype \n",
      "---  ------       --------------  ----- \n",
      " 0   id           15366 non-null  int64 \n",
      " 1   object_name  15366 non-null  object\n",
      " 2   chain        15366 non-null  object\n",
      " 3   object_type  15366 non-null  object\n",
      " 4   address      15366 non-null  object\n",
      " 5   number       15366 non-null  int64 \n",
      "dtypes: int64(2), object(4)\n",
      "memory usage: 720.4+ KB\n"
     ]
    }
   ],
   "source": [
    "df.info()"
   ]
  },
  {
   "cell_type": "markdown",
   "metadata": {},
   "source": [
    "**Выводы:**\n",
    "* Данные отображаются корректно\n",
    "* Тип данных в столбац соответствует содержимому\n",
    "* Стиль в названии столбцов соблюден"
   ]
  },
  {
   "cell_type": "markdown",
   "metadata": {},
   "source": [
    "## <a id=\"preprocessing\">Предобработка данных</a> "
   ]
  },
  {
   "cell_type": "markdown",
   "metadata": {},
   "source": [
    "### <a id=\"null\">Обработка пропущенных значений</a> "
   ]
  },
  {
   "cell_type": "code",
   "execution_count": 7,
   "metadata": {
    "scrolled": true
   },
   "outputs": [
    {
     "name": "stdout",
     "output_type": "stream",
     "text": [
      "Количество пропущенных значений:\n",
      "id             0\n",
      "object_name    0\n",
      "chain          0\n",
      "object_type    0\n",
      "address        0\n",
      "number         0\n",
      "dtype: int64\n"
     ]
    }
   ],
   "source": [
    "df.isna().sum()\n",
    "print(f'Количество пропущенных значений:\\n{df.isna().sum()}')"
   ]
  },
  {
   "cell_type": "markdown",
   "metadata": {},
   "source": [
    "### <a id=\"duplicates\">Обработка дубликатов</a> "
   ]
  },
  {
   "cell_type": "code",
   "execution_count": 8,
   "metadata": {},
   "outputs": [
    {
     "name": "stdout",
     "output_type": "stream",
     "text": [
      "Количество полных строк-дубликатов: 0\n"
     ]
    }
   ],
   "source": [
    "print(f'Количество полных строк-дубликатов: {df.duplicated().sum()}')"
   ]
  },
  {
   "cell_type": "markdown",
   "metadata": {},
   "source": [
    "В таблице содержится большое количество одинаковых заведений, но написанных по-разному, например:"
   ]
  },
  {
   "cell_type": "code",
   "execution_count": 9,
   "metadata": {},
   "outputs": [
    {
     "data": {
      "text/plain": [
       "array(['МАКДОНАЛДС', 'Ресторан «Макдоналдс»', 'Макдоналдс',\n",
       "       'Предприятие быстрого обслуживания «Макдоналдс»',\n",
       "       'МОСКВА - МАКДОНАЛДС', 'КАФЕ МАКДОНАЛДС', 'КАФЕ «МАКДОНАЛДС»',\n",
       "       'Кафе «МАКДОНАЛДС»', 'РЕСТОРАН«МАКДОНАЛДС»', 'Кафе «Макдоналдс»'],\n",
       "      dtype=object)"
      ]
     },
     "execution_count": 9,
     "metadata": {},
     "output_type": "execute_result"
    }
   ],
   "source": [
    "df[df['object_name'].str.contains('Макдоналдс', case=False)]['object_name'].unique()"
   ]
  },
  {
   "cell_type": "markdown",
   "metadata": {},
   "source": [
    "Нужно это исправить хотя бы для самых больших сетей."
   ]
  },
  {
   "cell_type": "code",
   "execution_count": 10,
   "metadata": {},
   "outputs": [],
   "source": [
    "# в таблице содержится большое количество одинаковых заведений, \n",
    "# но написанных по-разному, нужно это исправить хотя бы для самых больших сетей.\n",
    "# напишем функцию, которая находит определенную поlстроку в ячейке и заменяет всю ячейку на новое значение\n",
    "def dupl(duplicates, names):\n",
    "    for i, k in zip(duplicates, names):\n",
    "        df.loc[df['object_name'].str.contains(i, case=False), 'object_name'] = k\n",
    "# подстроки для замены\n",
    "old = ['кфс', 'kfc', 'чайхона №1', 'Шоколадница', 'Додо Пицца', \n",
    "       'Бургер Кинг', 'с Пицца', 'McDonald', 'Макдоналдс', \n",
    "       'Теремок', 'starb', 'старбакс', 'Папа Джонс', 'Subway', \n",
    "       'Кофемания', 'Иль Патио', 'IL Патио', 'Крошка Картошка', \n",
    "       'Мята ', 'Милти', 'Суши Wok','Cofix', 'Кофе Хаус', \n",
    "       'Хлеб насущный', 'Якитория', 'Тануки', 'Прайм Стар', \n",
    "       'Пицца Хат', 'Му-Му', 'СушиШоп', 'Кулинарная лавка братьев Караваевых', \n",
    "       'Пицца Паоло', 'Баскин Роббинс', 'Андерсон', 'Алло Пицца', 'Волконский', \n",
    "       'Штолле', 'Кружка', 'СтардогS']\n",
    "# новые названия\n",
    "new = ['KFC', 'KFC', 'Чайхона №1', 'Шоколадница', 'Додо Пицца', \n",
    "       'Бургер Кинг', 'Domino’s Pizza', 'Макдоналдс', 'Макдоналдс', \n",
    "       'Теремок', 'Starbucks', 'Starbucks', 'Папа Джонс', 'Subway', \n",
    "       'Кофемания', 'IL Патио', 'IL Патио', 'Крошка Картошка', \n",
    "       'Мята Lounge', 'Милти', 'Суши Wok', 'Cofix', 'Кофе Хаус', \n",
    "       'Хлеб насущный', 'Якитория', 'Тануки', 'Прайм Стар', \n",
    "       'Пицца Хат', 'Му-Му', 'СушиШоп', 'Кулинарная лавка братьев Караваевых', \n",
    "       'Пицца Паоло', 'Baskin Robbins', 'Андерсон', 'Алло Пицца', 'Волконский', \n",
    "       'Кружка', 'СтардогS']\n",
    "dupl(old, new)"
   ]
  },
  {
   "cell_type": "code",
   "execution_count": 11,
   "metadata": {},
   "outputs": [
    {
     "data": {
      "text/plain": [
       "array(['Макдоналдс'], dtype=object)"
      ]
     },
     "execution_count": 11,
     "metadata": {},
     "output_type": "execute_result"
    }
   ],
   "source": [
    "# проверим Мак снова\n",
    "df[df['object_name'].str.contains('Макдоналдс', case=False)]['object_name'].unique()"
   ]
  },
  {
   "cell_type": "markdown",
   "metadata": {},
   "source": [
    "## <a id=\"analysis\">Анализ данных</a> "
   ]
  },
  {
   "cell_type": "markdown",
   "metadata": {},
   "source": [
    "### <a id=\"3.1\">Исследование соотношения видов объектов общественного питания по количеству </a> "
   ]
  },
  {
   "cell_type": "code",
   "execution_count": 12,
   "metadata": {},
   "outputs": [
    {
     "data": {
      "image/png": "[encoded data removed]",
      "text/plain": [
       "<Figure size 720x432 with 1 Axes>"
      ]
     },
     "metadata": {},
     "output_type": "display_data"
    }
   ],
   "source": [
    "# посчет количества заведений по виду объектов общественного питания\n",
    "object_count = df['object_type'].value_counts()\n",
    "# названия видов объектов общественного питания\n",
    "object_type = df['object_type'].unique()\n",
    "\n",
    "plt.figure(figsize=(10, 6))\n",
    "sns.barplot(x=object_count, y=object_type, color='#398AB9')\n",
    "plt.title('Cоотношение видов объектов общественного питания по количеству', size=16)\n",
    "plt.xlabel('Количество заведений')\n",
    "plt.show()"
   ]
  },
  {
   "cell_type": "markdown",
   "metadata": {},
   "source": [
    "**Выводы:**\n",
    "* *Кафе* - самый распространенный вид объектов общественного питания. Возможно данный вид заведения часто окрывают из-за популярности среди потребителей (относительно недорого, есть обслуживающий персонал, возможность проведения мероприятий, комфортная обстановка)\n",
    "\n",
    "* *Магазин (отдел кулинарии)* - наименее популярный вид объектов общественного питания."
   ]
  },
  {
   "cell_type": "markdown",
   "metadata": {},
   "source": [
    "### <a id=\"3.2\">Исследование соотношения сетевых и несетевых заведений по количеству</a> "
   ]
  },
  {
   "cell_type": "code",
   "execution_count": 13,
   "metadata": {},
   "outputs": [
    {
     "data": {
      "image/png": "[encoded data removed]",
      "text/plain": [
       "<Figure size 576x576 with 1 Axes>"
      ]
     },
     "metadata": {},
     "output_type": "display_data"
    }
   ],
   "source": [
    "plt.figure(figsize=(8, 8))\n",
    "\n",
    "plt.pie(\n",
    "    df['chain'].value_counts(normalize=True), # cоотношение сетевых и несетевых заведений в процентах\n",
    "    labels=['несетевые заведения', 'сетевые заведения'],\n",
    "    colors=['#398AB9', '#D8D2CB'], \n",
    "    autopct='%1.1f%%', \n",
    "    startangle=35, \n",
    "    explode = [0.05,0]\n",
    ")\n",
    "plt.title('Соотношение сетевых и несетевых заведений по количеству')\n",
    "plt.show()"
   ]
  },
  {
   "cell_type": "markdown",
   "metadata": {},
   "source": [
    "**Выводы:**\n",
    "* Большинство заведений не являются сетевыми. Вероятно создание сети заведений подразумевает бóльшие финансовые затраты."
   ]
  },
  {
   "cell_type": "markdown",
   "metadata": {},
   "source": [
    "### <a id=\"3.3\">Исследование зависимости вида объекта общественного питания и сетевого распространения</a> "
   ]
  },
  {
   "cell_type": "code",
   "execution_count": 14,
   "metadata": {
    "scrolled": false
   },
   "outputs": [
    {
     "data": {
      "image/png": "[encoded data removed]",
      "text/plain": [
       "<Figure size 864x648 with 9 Axes>"
      ]
     },
     "metadata": {},
     "output_type": "display_data"
    }
   ],
   "source": [
    "# подсчет сетевых и несетевых заведений в зависимости от вида объекта общественного питания\n",
    "object_chain = df.groupby(['object_type', 'chain'])['id'].count().unstack().reset_index()\\\n",
    "# доля сетевых заведений в процентах\n",
    "object_chain['perc'] = object_chain['да'] / object_chain['нет']*100\n",
    "# сортировка таблицы по долям\n",
    "object_chain = object_chain.sort_values('perc', ascending=False)\n",
    "# названия видов объектов общественного питания\n",
    "lst = object_chain['object_type'].unique()\n",
    "\n",
    "fig = plt.figure(figsize=(12,9))\n",
    "plt.suptitle('Сетевое распространение по виду объекта общественного питания', fontsize=16)\n",
    "\n",
    "# для каждого вида объектов общественного питания построим круговую диаграмму \n",
    "for i, k in enumerate(lst):\n",
    "    ax=fig.add_subplot(3, 3, i+1)\n",
    "    object_type = df[df['object_type'] == k]\n",
    "    ax.pie(\n",
    "        object_type['chain'].value_counts(),\n",
    "        colors=['#398AB9', '#D8D2CB'], \n",
    "        explode = [0.01,0]\n",
    "    )\n",
    "    ax.set_title(k, fontsize=10)\n",
    "fig.legend(['несетевые заведения', 'сетевые заведения'], \n",
    "           ncol=2, \n",
    "           loc='upper center', \n",
    "           bbox_to_anchor=(0.5, 0.95))\n",
    "plt.show()"
   ]
  },
  {
   "cell_type": "markdown",
   "metadata": {},
   "source": [
    "**Вывод:**\n",
    "* Сетевое распространение **наиболее** характерно для *предприятий быстрого обслуживания и магазинов(отдел кулинарии)*. Можно преположить, что относительно других видов заведений, их легче масштабировать из-за  меньшей суммы финансовых вложений.\n",
    "* Сетевое распространение **наименее** характерно для *буфетов и столовых*. Данные заведения в основном распологаются на территории различных предприятий, компаний, учебных заведений и финансируются за счет данных структур."
   ]
  },
  {
   "cell_type": "markdown",
   "metadata": {},
   "source": [
    "### <a id=\"3.4\">Исследование сетевых заведений: взаимосвязь количества посадочных мест и количества заведений в сети</a> "
   ]
  },
  {
   "cell_type": "code",
   "execution_count": 15,
   "metadata": {
    "scrolled": false
   },
   "outputs": [
    {
     "data": {
      "image/png": "[encoded data removed]",
      "text/plain": [
       "<Figure size 1080x1080 with 3 Axes>"
      ]
     },
     "metadata": {},
     "output_type": "display_data"
    }
   ],
   "source": [
    "quantity_number = (df.query('chain == \"да\"')\n",
    "                   .groupby('object_name')\n",
    "                   .agg({'id':'count', 'number':'mean'})\n",
    "                   .sort_values('id', ascending=False))\n",
    "\n",
    "# убирем сети с одним заведением, т.к. не все неявные дубликаты были заменены и они будут создавать лишний шум\n",
    "quantity_number = quantity_number[quantity_number['id'] >1]\n",
    "\n",
    "fig = plt.figure(figsize=(15, 15))\n",
    "\n",
    "ax_1 = fig.add_subplot(3, 1, 1)\n",
    "ax_2 = fig.add_subplot(3, 2, 3)\n",
    "ax_3 = fig.add_subplot(3, 2, 4)\n",
    "\n",
    "ax_1.scatter(x=quantity_number['number'], y=quantity_number['id'], color='#398AB9')\n",
    "ax_1.set_xlabel('Среднее количество посадочных мест')\n",
    "ax_1.set_ylabel('Количество заведений в сети')\n",
    "ax_1.set_title('Диаграмма корреляции количества заведений в сети и среднего количества посадочных мест')\n",
    "\n",
    "ax_2.hist(quantity_number['number'], bins=50, color='#398AB9')\n",
    "ax_2.set_xlabel('Среднее количество посадочных мест')\n",
    "ax_2.set_ylabel('Количество сетей')\n",
    "ax_2.set_title('Гистограмма распределения количества посадочных мест')\n",
    "\n",
    "ax_3.hist(quantity_number['id'], bins=50, color='#398AB9')\n",
    "ax_3.set_xlabel('Количество заведений в сети')\n",
    "ax_3.set_ylabel('Количество сетей')\n",
    "ax_3.set_title('Гистограмма распределения количества заведений в сети')\n",
    "plt.tight_layout()\n",
    "plt.show()"
   ]
  },
  {
   "cell_type": "code",
   "execution_count": 16,
   "metadata": {},
   "outputs": [
    {
     "data": {
      "text/html": [
       "<div>\n",
       "<style scoped>\n",
       "    .dataframe tbody tr th:only-of-type {\n",
       "        vertical-align: middle;\n",
       "    }\n",
       "\n",
       "    .dataframe tbody tr th {\n",
       "        vertical-align: top;\n",
       "    }\n",
       "\n",
       "    .dataframe thead th {\n",
       "        text-align: right;\n",
       "    }\n",
       "</style>\n",
       "<table border=\"1\" class=\"dataframe\">\n",
       "  <thead>\n",
       "    <tr style=\"text-align: right;\">\n",
       "      <th></th>\n",
       "      <th>id</th>\n",
       "      <th>number</th>\n",
       "    </tr>\n",
       "  </thead>\n",
       "  <tbody>\n",
       "    <tr>\n",
       "      <th>count</th>\n",
       "      <td>192.000000</td>\n",
       "      <td>192.000000</td>\n",
       "    </tr>\n",
       "    <tr>\n",
       "      <th>mean</th>\n",
       "      <td>13.932292</td>\n",
       "      <td>57.728831</td>\n",
       "    </tr>\n",
       "    <tr>\n",
       "      <th>std</th>\n",
       "      <td>30.158926</td>\n",
       "      <td>49.209177</td>\n",
       "    </tr>\n",
       "    <tr>\n",
       "      <th>min</th>\n",
       "      <td>2.000000</td>\n",
       "      <td>0.000000</td>\n",
       "    </tr>\n",
       "    <tr>\n",
       "      <th>5%</th>\n",
       "      <td>2.000000</td>\n",
       "      <td>5.825000</td>\n",
       "    </tr>\n",
       "    <tr>\n",
       "      <th>50%</th>\n",
       "      <td>3.000000</td>\n",
       "      <td>45.515152</td>\n",
       "    </tr>\n",
       "    <tr>\n",
       "      <th>95%</th>\n",
       "      <td>68.250000</td>\n",
       "      <td>149.820192</td>\n",
       "    </tr>\n",
       "    <tr>\n",
       "      <th>max</th>\n",
       "      <td>188.000000</td>\n",
       "      <td>245.000000</td>\n",
       "    </tr>\n",
       "  </tbody>\n",
       "</table>\n",
       "</div>"
      ],
      "text/plain": [
       "               id      number\n",
       "count  192.000000  192.000000\n",
       "mean    13.932292   57.728831\n",
       "std     30.158926   49.209177\n",
       "min      2.000000    0.000000\n",
       "5%       2.000000    5.825000\n",
       "50%      3.000000   45.515152\n",
       "95%     68.250000  149.820192\n",
       "max    188.000000  245.000000"
      ]
     },
     "execution_count": 16,
     "metadata": {},
     "output_type": "execute_result"
    }
   ],
   "source": [
    "quantity_number.describe(percentiles=[.05, .95])"
   ]
  },
  {
   "cell_type": "markdown",
   "metadata": {},
   "source": [
    "**Вывод:**\n",
    "* Половина сетей включает не более 3-х заведений. Количество заведений варьируется от 2 до 68.\n",
    "* В половине сетей  не более 46 посадочных мест. В большинстве сетей количество посадочных мест варьируется от 6 до 150.\n",
    "\n",
    "В итоге для сетевых заведений более характерно наличие небольшого количества точек и среднее количество посадочных мест."
   ]
  },
  {
   "cell_type": "markdown",
   "metadata": {},
   "source": [
    "### <a id=\"3.5\">Исследование среднего количество посадочных мест для каждого вида объекта общественного питания</a> "
   ]
  },
  {
   "cell_type": "code",
   "execution_count": 17,
   "metadata": {},
   "outputs": [
    {
     "data": {
      "image/png": "[encoded data removed]",
      "text/plain": [
       "<Figure size 720x432 with 1 Axes>"
      ]
     },
     "metadata": {},
     "output_type": "display_data"
    }
   ],
   "source": [
    "# найдем среднее количество посадочных мест для каждого вида объекта общественного питания\n",
    "type_number = (df.groupby('object_type', as_index=False)[['number']]\n",
    "               .mean()\n",
    "               .sort_values('number', ascending=False))\n",
    "\n",
    "plt.figure(figsize=(10, 6))\n",
    "sns.barplot(x='number', y='object_type', data=type_number, color='#398AB9')\n",
    "plt.title('Cреднее количество посадочных мест по виду объекта общественного питания', size=14)\n",
    "plt.xlabel('Cреднее количество посадочных мест')\n",
    "plt.ylabel('')\n",
    "plt.show()"
   ]
  },
  {
   "cell_type": "markdown",
   "metadata": {},
   "source": [
    "**Вывод:**\n",
    "* Больше всего посадочных мест в столовых и ресторанах. Столовые как уже было сказано располагаются при предприятиях и учебных заведениях, то есть в местах с большим количеством людей. \n",
    "* Кафе расположились в середине списка. Можно преположить, что популярность кафе среди препринимателей также обусловлена небольшим количеством посадочных мест, а значит и небольшим помещением, что снижает расходы. \n",
    "* За кафе расположилось предприятие быстрого обслуживания. Оно похоже на кафе по функционалу, но с вдвое меньшим количеством посадочных мест, что говорит о еще меньшей стоимостью аренды помещения.\n",
    "* Меньше всего посадочных мест в закусочных и магазинах (отдел кулинарии)"
   ]
  },
  {
   "cell_type": "markdown",
   "metadata": {},
   "source": [
    "### <a id=\"3.6\">Создание столбца с информацией об улице из столбца address</a> "
   ]
  },
  {
   "cell_type": "code",
   "execution_count": 18,
   "metadata": {},
   "outputs": [
    {
     "data": {
      "text/html": [
       "<div>\n",
       "<style scoped>\n",
       "    .dataframe tbody tr th:only-of-type {\n",
       "        vertical-align: middle;\n",
       "    }\n",
       "\n",
       "    .dataframe tbody tr th {\n",
       "        vertical-align: top;\n",
       "    }\n",
       "\n",
       "    .dataframe thead th {\n",
       "        text-align: right;\n",
       "    }\n",
       "</style>\n",
       "<table border=\"1\" class=\"dataframe\">\n",
       "  <thead>\n",
       "    <tr style=\"text-align: right;\">\n",
       "      <th></th>\n",
       "      <th>id</th>\n",
       "      <th>object_name</th>\n",
       "      <th>chain</th>\n",
       "      <th>object_type</th>\n",
       "      <th>address</th>\n",
       "      <th>number</th>\n",
       "      <th>street</th>\n",
       "    </tr>\n",
       "  </thead>\n",
       "  <tbody>\n",
       "    <tr>\n",
       "      <th>0</th>\n",
       "      <td>151635</td>\n",
       "      <td>СМЕТАНА</td>\n",
       "      <td>нет</td>\n",
       "      <td>кафе</td>\n",
       "      <td>город Москва, улица Егора Абакумова, дом 9</td>\n",
       "      <td>48</td>\n",
       "      <td>улица Егора Абакумова</td>\n",
       "    </tr>\n",
       "    <tr>\n",
       "      <th>1</th>\n",
       "      <td>77874</td>\n",
       "      <td>Родник</td>\n",
       "      <td>нет</td>\n",
       "      <td>кафе</td>\n",
       "      <td>город Москва, улица Талалихина, дом 2/1, корпус 1</td>\n",
       "      <td>35</td>\n",
       "      <td>улица Талалихина</td>\n",
       "    </tr>\n",
       "    <tr>\n",
       "      <th>2</th>\n",
       "      <td>24309</td>\n",
       "      <td>Кафе «Академия»</td>\n",
       "      <td>нет</td>\n",
       "      <td>кафе</td>\n",
       "      <td>город Москва, Абельмановская улица, дом 6</td>\n",
       "      <td>95</td>\n",
       "      <td>Абельмановская улица</td>\n",
       "    </tr>\n",
       "    <tr>\n",
       "      <th>3</th>\n",
       "      <td>21894</td>\n",
       "      <td>ПИЦЦЕТОРИЯ</td>\n",
       "      <td>да</td>\n",
       "      <td>кафе</td>\n",
       "      <td>город Москва, Абрамцевская улица, дом 1</td>\n",
       "      <td>40</td>\n",
       "      <td>Абрамцевская улица</td>\n",
       "    </tr>\n",
       "    <tr>\n",
       "      <th>4</th>\n",
       "      <td>119365</td>\n",
       "      <td>Кафе «Вишневая метель»</td>\n",
       "      <td>нет</td>\n",
       "      <td>кафе</td>\n",
       "      <td>город Москва, Абрамцевская улица, дом 9, корпус 1</td>\n",
       "      <td>50</td>\n",
       "      <td>Абрамцевская улица</td>\n",
       "    </tr>\n",
       "  </tbody>\n",
       "</table>\n",
       "</div>"
      ],
      "text/plain": [
       "       id             object_name chain object_type  \\\n",
       "0  151635                 СМЕТАНА   нет        кафе   \n",
       "1   77874                  Родник   нет        кафе   \n",
       "2   24309         Кафе «Академия»   нет        кафе   \n",
       "3   21894              ПИЦЦЕТОРИЯ    да        кафе   \n",
       "4  119365  Кафе «Вишневая метель»   нет        кафе   \n",
       "\n",
       "                                             address  number  \\\n",
       "0         город Москва, улица Егора Абакумова, дом 9      48   \n",
       "1  город Москва, улица Талалихина, дом 2/1, корпус 1      35   \n",
       "2          город Москва, Абельмановская улица, дом 6      95   \n",
       "3            город Москва, Абрамцевская улица, дом 1      40   \n",
       "4  город Москва, Абрамцевская улица, дом 9, корпус 1      50   \n",
       "\n",
       "                  street  \n",
       "0  улица Егора Абакумова  \n",
       "1       улица Талалихина  \n",
       "2   Абельмановская улица  \n",
       "3     Абрамцевская улица  \n",
       "4     Абрамцевская улица  "
      ]
     },
     "execution_count": 18,
     "metadata": {},
     "output_type": "execute_result"
    }
   ],
   "source": [
    "# список типов московских улиц\n",
    "words = ['улица', 'переулок', 'шоссе', 'проспект', 'площадь', 'проезд', 'посёлок', 'проектируемый проезд', 'просек',\n",
    "         'аллея', 'бульвар', 'набережная', 'тупик', 'линия', 'деревня', 'квартал', 'микрорайон', 'мост', 'парк', 'село']\n",
    "# регулярное выражение для поиска улиц\n",
    "str_pat = r\".*,\\s*\\b([^,]*?(?:{})\\b[^,]*)[,$]+\".format(\"|\".join(words))\n",
    "# создание столбца с улицами\n",
    "df[\"street\"] = df[\"address\"].str.extract(str_pat, flags=re.I)\n",
    "df.head()"
   ]
  },
  {
   "cell_type": "markdown",
   "metadata": {},
   "source": [
    "### <a id=\"3.7\">Топ-10 улиц по количеству объектов общественного питания. Привязка улиц к районам</a> "
   ]
  },
  {
   "cell_type": "code",
   "execution_count": 19,
   "metadata": {},
   "outputs": [],
   "source": [
    "# найдем топ-10 улиц по количеству объектов общественного питания\n",
    "top_10 = (\n",
    "    df.groupby('street', as_index=False)[['id']]\n",
    "    .count()\n",
    "    .sort_values('id', ascending=False)\n",
    "    .head(10)\n",
    ")"
   ]
  },
  {
   "cell_type": "code",
   "execution_count": 20,
   "metadata": {
    "scrolled": false
   },
   "outputs": [
    {
     "data": {
      "image/png": "[encoded data removed]",
      "text/plain": [
       "<Figure size 720x432 with 1 Axes>"
      ]
     },
     "metadata": {},
     "output_type": "display_data"
    }
   ],
   "source": [
    "plt.figure(figsize=(10, 6))\n",
    "sns.barplot(x='id', y='street', data=top_10, color='#398AB9')\n",
    "plt.title('Топ-10 улиц по количеству объектов общественного питания', size=16)\n",
    "plt.xlabel('Количество заведений')\n",
    "plt.ylabel('')\n",
    "plt.show()"
   ]
  },
  {
   "cell_type": "code",
   "execution_count": 21,
   "metadata": {},
   "outputs": [],
   "source": [
    "top_10 = top_10.merge(mos['area'], how='left', left_on='street', right_on=mos['streetname'])"
   ]
  },
  {
   "cell_type": "code",
   "execution_count": 22,
   "metadata": {},
   "outputs": [
    {
     "name": "stdout",
     "output_type": "stream",
     "text": [
      "Районы, в которых больше всего улиц из топ-10 по количеству объектов общественного питания\n",
      "\n",
      "                             street\n",
      "area                               \n",
      "Район Чертаново Центральное       2\n",
      "Донской район                     2\n",
      "Ломоносовский район               2\n",
      "Район Проспект Вернадского        2\n",
      "Обручевский район                 2\n",
      "Район Теплый Стан                 2\n",
      "Район Нагатино-Садовники          2\n",
      "Район Чертаново Южное             2\n",
      "Район Тропарево-Никулино          2\n",
      "Район Гагаринский                 2\n",
      "Район Чертаново Северное          2\n"
     ]
    }
   ],
   "source": [
    "print(f'Районы, в которых больше всего улиц из топ-10 по количеству объектов общественного питания\\n\\n{top_10.groupby(\"area\")[[\"street\"]].count().sort_values(\"street\", ascending=False).head(11)}')"
   ]
  },
  {
   "cell_type": "markdown",
   "metadata": {},
   "source": [
    "### <a id=\"3.8\">Число улиц с одним объектом общественного питания. Привязка улиц к районам</a> "
   ]
  },
  {
   "cell_type": "code",
   "execution_count": 23,
   "metadata": {
    "scrolled": true
   },
   "outputs": [
    {
     "data": {
      "text/html": [
       "<div>\n",
       "<style scoped>\n",
       "    .dataframe tbody tr th:only-of-type {\n",
       "        vertical-align: middle;\n",
       "    }\n",
       "\n",
       "    .dataframe tbody tr th {\n",
       "        vertical-align: top;\n",
       "    }\n",
       "\n",
       "    .dataframe thead th {\n",
       "        text-align: right;\n",
       "    }\n",
       "</style>\n",
       "<table border=\"1\" class=\"dataframe\">\n",
       "  <thead>\n",
       "    <tr style=\"text-align: right;\">\n",
       "      <th></th>\n",
       "      <th>street</th>\n",
       "      <th>id</th>\n",
       "      <th>area</th>\n",
       "    </tr>\n",
       "  </thead>\n",
       "  <tbody>\n",
       "    <tr>\n",
       "      <th>0</th>\n",
       "      <td>1-й Балтийский переулок</td>\n",
       "      <td>1</td>\n",
       "      <td>Район Аэропорт</td>\n",
       "    </tr>\n",
       "    <tr>\n",
       "      <th>1</th>\n",
       "      <td>1-й Басманный переулок</td>\n",
       "      <td>1</td>\n",
       "      <td>Басманный район</td>\n",
       "    </tr>\n",
       "    <tr>\n",
       "      <th>2</th>\n",
       "      <td>1-й Басманный переулок</td>\n",
       "      <td>1</td>\n",
       "      <td>Красносельский район</td>\n",
       "    </tr>\n",
       "    <tr>\n",
       "      <th>3</th>\n",
       "      <td>1-й Ботанический проезд</td>\n",
       "      <td>1</td>\n",
       "      <td>Район Свиблово</td>\n",
       "    </tr>\n",
       "    <tr>\n",
       "      <th>4</th>\n",
       "      <td>1-й Вешняковский проезд</td>\n",
       "      <td>1</td>\n",
       "      <td>Рязанский район</td>\n",
       "    </tr>\n",
       "  </tbody>\n",
       "</table>\n",
       "</div>"
      ],
      "text/plain": [
       "                    street  id                  area\n",
       "0  1-й Балтийский переулок   1        Район Аэропорт\n",
       "1   1-й Басманный переулок   1       Басманный район\n",
       "2   1-й Басманный переулок   1  Красносельский район\n",
       "3  1-й Ботанический проезд   1        Район Свиблово\n",
       "4  1-й Вешняковский проезд   1       Рязанский район"
      ]
     },
     "execution_count": 23,
     "metadata": {},
     "output_type": "execute_result"
    }
   ],
   "source": [
    "# подсчет количества объектов общественного питания на каждой улице\n",
    "only_one = df.groupby('street', as_index=False)['id'].count()\n",
    "# делаем срез - только одно заведение на улице\n",
    "only_one = only_one[only_one['id'] == 1].reset_index(drop=True)\n",
    "# привязка улиц к районам\n",
    "only_one = only_one.merge(mos['area'], how='left', left_on='street', right_on=mos['streetname'])\n",
    "only_one.head()"
   ]
  },
  {
   "cell_type": "code",
   "execution_count": 24,
   "metadata": {
    "scrolled": true
   },
   "outputs": [],
   "source": [
    "# подсчет количества улиц в каждом районе\n",
    "only_one_area = only_one.groupby('area')[['street']].count().sort_values('street', ascending=False).head(10)"
   ]
  },
  {
   "cell_type": "code",
   "execution_count": 25,
   "metadata": {
    "scrolled": false
   },
   "outputs": [
    {
     "data": {
      "image/png": "[encoded data removed]",
      "text/plain": [
       "<Figure size 720x432 with 1 Axes>"
      ]
     },
     "metadata": {},
     "output_type": "display_data"
    }
   ],
   "source": [
    "plt.figure(figsize=(10, 6))\n",
    "sns.barplot(x='street', y=only_one_area.index, data=only_one_area, color='#398AB9')\n",
    "plt.title('Топ-10 районов, включающих улицы с одним заведением общественного питания', size=14)\n",
    "plt.xlabel('Количество улиц')\n",
    "plt.ylabel('')\n",
    "plt.show()"
   ]
  },
  {
   "cell_type": "code",
   "execution_count": 26,
   "metadata": {},
   "outputs": [
    {
     "data": {
      "text/html": [
       "<div>\n",
       "<style scoped>\n",
       "    .dataframe tbody tr th:only-of-type {\n",
       "        vertical-align: middle;\n",
       "    }\n",
       "\n",
       "    .dataframe tbody tr th {\n",
       "        vertical-align: top;\n",
       "    }\n",
       "\n",
       "    .dataframe thead th {\n",
       "        text-align: right;\n",
       "    }\n",
       "</style>\n",
       "<table border=\"1\" class=\"dataframe\">\n",
       "  <thead>\n",
       "    <tr style=\"text-align: right;\">\n",
       "      <th></th>\n",
       "      <th>street</th>\n",
       "    </tr>\n",
       "    <tr>\n",
       "      <th>area</th>\n",
       "      <th></th>\n",
       "    </tr>\n",
       "  </thead>\n",
       "  <tbody>\n",
       "    <tr>\n",
       "      <th>Таганский район</th>\n",
       "      <td>27</td>\n",
       "    </tr>\n",
       "    <tr>\n",
       "      <th>Район Хамовники</th>\n",
       "      <td>26</td>\n",
       "    </tr>\n",
       "    <tr>\n",
       "      <th>Басманный район</th>\n",
       "      <td>25</td>\n",
       "    </tr>\n",
       "    <tr>\n",
       "      <th>Тверской район</th>\n",
       "      <td>20</td>\n",
       "    </tr>\n",
       "    <tr>\n",
       "      <th>Пресненский район</th>\n",
       "      <td>19</td>\n",
       "    </tr>\n",
       "    <tr>\n",
       "      <th>Район Марьина роща</th>\n",
       "      <td>18</td>\n",
       "    </tr>\n",
       "    <tr>\n",
       "      <th>Мещанский район</th>\n",
       "      <td>17</td>\n",
       "    </tr>\n",
       "    <tr>\n",
       "      <th>Район Арбат</th>\n",
       "      <td>17</td>\n",
       "    </tr>\n",
       "    <tr>\n",
       "      <th>Район Сокольники</th>\n",
       "      <td>15</td>\n",
       "    </tr>\n",
       "    <tr>\n",
       "      <th>Район Замоскворечье</th>\n",
       "      <td>14</td>\n",
       "    </tr>\n",
       "  </tbody>\n",
       "</table>\n",
       "</div>"
      ],
      "text/plain": [
       "                     street\n",
       "area                       \n",
       "Таганский район          27\n",
       "Район Хамовники          26\n",
       "Басманный район          25\n",
       "Тверской район           20\n",
       "Пресненский район        19\n",
       "Район Марьина роща       18\n",
       "Мещанский район          17\n",
       "Район Арбат              17\n",
       "Район Сокольники         15\n",
       "Район Замоскворечье      14"
      ]
     },
     "execution_count": 26,
     "metadata": {},
     "output_type": "execute_result"
    }
   ],
   "source": [
    "only_one_area"
   ]
  },
  {
   "cell_type": "markdown",
   "metadata": {},
   "source": [
    "### <a id=\"3.9\">Исследование распределения количества посадочных мест для улиц с большим количеством объектов общественного питания</a> "
   ]
  },
  {
   "cell_type": "code",
   "execution_count": 27,
   "metadata": {
    "scrolled": true
   },
   "outputs": [
    {
     "data": {
      "image/png": "[encoded data removed]",
      "text/plain": [
       "<Figure size 1440x432 with 2 Axes>"
      ]
     },
     "metadata": {},
     "output_type": "display_data"
    }
   ],
   "source": [
    "fig, (ax1, ax2) = plt.subplots(1, 2, sharey=True, figsize = (20, 6))\n",
    "\n",
    "# построим гистограммы распределения количества посадочных мест для топ-10 улиц по количеству объектов общественного питания  \n",
    "ax1.hist(df.query('street in @top_10[\"street\"].unique()')['number'], bins=500, color='#398AB9')\n",
    "ax1.set_title('Распределение количества посадочных мест для топ-10 улиц', fontsize=14)\n",
    "ax1.set_xlabel('Количество посадочных мест')\n",
    "ax1.set_ylabel('Количество заведений')\n",
    "\n",
    "# гистограмма с лимитом 250 по оси x\n",
    "ax2.hist(df.query('street in @top_10[\"street\"].unique()')['number'], bins=500, color='#398AB9')\n",
    "ax2.set_title('Распределение количества посадочных мест для топ-10 улиц\\nс ограничением до 250 посадочных мест',  fontsize=14)\n",
    "ax2.set_xlabel('Количество посадочных мест')\n",
    "ax2.set_ylabel('Количество заведений')\n",
    "ax2.set_xlim(-10,250)\n",
    "\n",
    "plt.show()"
   ]
  },
  {
   "cell_type": "code",
   "execution_count": 28,
   "metadata": {},
   "outputs": [
    {
     "data": {
      "text/plain": [
       "count    1503.000000\n",
       "mean       57.966733\n",
       "std        89.982933\n",
       "min         0.000000\n",
       "5%          0.000000\n",
       "50%        40.000000\n",
       "95%       200.000000\n",
       "max      1700.000000\n",
       "Name: number, dtype: float64"
      ]
     },
     "execution_count": 28,
     "metadata": {},
     "output_type": "execute_result"
    }
   ],
   "source": [
    "df.query('street in @top_10[\"street\"].unique()')['number'].describe(percentiles=[0.05, 0.95])"
   ]
  },
  {
   "cell_type": "markdown",
   "metadata": {},
   "source": [
    "**Вывод:**\n",
    "* В половине заведений количество посадочных мест не превышает 40. \n",
    "* Большинство заведений имеют от 0 до 200 посадочных мест."
   ]
  },
  {
   "cell_type": "markdown",
   "metadata": {},
   "source": [
    "## <a id=\"conclusion\">Общий вывод. Рекомендации о виде заведения, количестве посадочных мест, а также районе расположения</a> "
   ]
  },
  {
   "cell_type": "markdown",
   "metadata": {},
   "source": [
    "**Основные факторы, влияющие на проект:**\n",
    "* Небольшое кафе в Москве\n",
    "* гостей обслуживают роботы\n",
    "* Проект дорогой\n",
    "\n",
    "**В связи с этими данными, а также полученными результатами исследования можно выделить следующие рекомендации:**\n",
    "\n",
    "* Возможные варианты заведений, количество посадочных мест (среднее количество для каждого вида объектов обещственного питания) и количество подобных объектов в Москве:\n",
    "    * бар - 45 посадочных мест; малое количество подобных заведений\n",
    "    * кафе - 40 посадочных мест; очень большое количество подобных заведений\n",
    "    * предприятие быстрого обслуживания - 20 посадочных мест; среднее количество подобных заведений\n",
    "    \n",
    "В связи с тем, что проект дорогой, более предпочтительным в качестве вида заведения можно считать *предприятие быстрого обслуживания* - меньшее количество посадочных мест удешевляет аренду и прочие расходы. Также такой вид заведения легче масштабировать.\n",
    "\n",
    "Возможные районы расположения заведения:\n",
    "\n",
    "Районы, в которых больше всего улиц из топ-10 по количеству объектов общественного питания:\n",
    "* Район Чертаново Центральное\n",
    "* Донской район\n",
    "* Ломоносовский район\n",
    "* Район Проспект Вернадского\n",
    "* Обручевский район\n",
    "* Район Теплый Стан\n",
    "* Район Нагатино-Садовники\n",
    "* Район Чертаново Южное\n",
    "* Район Тропарево-Никулино\n",
    "* Район Гагаринский\n",
    "* Район Чертаново Северное\n",
    "\n",
    "Это самые привлекательные и популярные районы, и поэтому здесь самая большая конкуренция.\n",
    "\n",
    "Районы, в которых наибольшее количество улиц с одним объектом общественного питания:\n",
    "* Таганский район\n",
    "* Район Хамовники\n",
    "* Басманный район\n",
    "* Тверской район\n",
    "* Пресненский район\n",
    "* Район Марьина роща\n",
    "* Мещанский район\n",
    "* Район Арбат\n",
    "* Район Сокольники\n",
    "* Район Замоскворечье\n",
    "\n",
    "Эти районы не пользуются популярностью у конкурентов. Скорее всего на это есть обоснованные причины и эти районы лучше не рассматривать."
   ]
  }
 ],
 "metadata": {
  "ExecuteTimeLog": [
   {
    "duration": 851,
    "start_time": "2022-03-15T07:12:43.360Z"
   },
   {
    "duration": 51,
    "start_time": "2022-03-15T07:38:36.848Z"
   },
   {
    "duration": 265,
    "start_time": "2022-03-15T07:40:48.914Z"
   },
   {
    "duration": 3,
    "start_time": "2022-03-15T07:40:54.488Z"
   },
   {
    "duration": 16,
    "start_time": "2022-03-15T07:42:27.432Z"
   },
   {
    "duration": 10,
    "start_time": "2022-03-15T07:43:20.686Z"
   },
   {
    "duration": 20,
    "start_time": "2022-03-15T07:44:06.076Z"
   },
   {
    "duration": 6,
    "start_time": "2022-03-15T07:44:28.013Z"
   },
   {
    "duration": 6,
    "start_time": "2022-03-15T07:44:33.090Z"
   },
   {
    "duration": 7,
    "start_time": "2022-03-15T07:44:39.811Z"
   },
   {
    "duration": 5,
    "start_time": "2022-03-15T07:45:36.406Z"
   },
   {
    "duration": 6,
    "start_time": "2022-03-15T07:45:50.588Z"
   },
   {
    "duration": 522,
    "start_time": "2022-03-15T07:49:35.564Z"
   },
   {
    "duration": 207,
    "start_time": "2022-03-15T07:51:46.494Z"
   },
   {
    "duration": 8,
    "start_time": "2022-03-15T07:53:47.465Z"
   },
   {
    "duration": 145,
    "start_time": "2022-03-15T07:54:34.769Z"
   },
   {
    "duration": 201,
    "start_time": "2022-03-15T07:55:03.998Z"
   },
   {
    "duration": 9,
    "start_time": "2022-03-15T07:55:08.946Z"
   },
   {
    "duration": 164,
    "start_time": "2022-03-15T07:55:47.662Z"
   },
   {
    "duration": 209,
    "start_time": "2022-03-15T07:55:57.230Z"
   },
   {
    "duration": 199,
    "start_time": "2022-03-15T07:56:01.760Z"
   },
   {
    "duration": 184,
    "start_time": "2022-03-15T07:56:06.365Z"
   },
   {
    "duration": 4,
    "start_time": "2022-03-15T07:59:18.914Z"
   },
   {
    "duration": 201,
    "start_time": "2022-03-15T07:59:21.236Z"
   },
   {
    "duration": 206,
    "start_time": "2022-03-15T08:03:03.295Z"
   },
   {
    "duration": 290,
    "start_time": "2022-03-15T08:03:30.364Z"
   },
   {
    "duration": 224,
    "start_time": "2022-03-15T08:03:35.188Z"
   },
   {
    "duration": 329,
    "start_time": "2022-03-15T08:03:40.819Z"
   },
   {
    "duration": 229,
    "start_time": "2022-03-15T08:03:46.713Z"
   },
   {
    "duration": 216,
    "start_time": "2022-03-15T08:04:54.767Z"
   },
   {
    "duration": 206,
    "start_time": "2022-03-15T08:06:03.479Z"
   },
   {
    "duration": 148,
    "start_time": "2022-03-15T08:06:20.458Z"
   },
   {
    "duration": 203,
    "start_time": "2022-03-15T08:06:24.386Z"
   },
   {
    "duration": 1327,
    "start_time": "2022-03-15T18:34:47.852Z"
   },
   {
    "duration": 2,
    "start_time": "2022-03-15T18:34:49.181Z"
   },
   {
    "duration": 50,
    "start_time": "2022-03-15T18:34:49.185Z"
   },
   {
    "duration": 13,
    "start_time": "2022-03-15T18:34:49.237Z"
   },
   {
    "duration": 9,
    "start_time": "2022-03-15T18:34:49.252Z"
   },
   {
    "duration": 17,
    "start_time": "2022-03-15T18:34:49.262Z"
   },
   {
    "duration": 256,
    "start_time": "2022-03-15T18:34:49.281Z"
   },
   {
    "duration": 212,
    "start_time": "2022-03-15T18:34:49.539Z"
   },
   {
    "duration": 283,
    "start_time": "2022-03-15T18:34:49.753Z"
   },
   {
    "duration": 161,
    "start_time": "2022-03-15T18:35:41.525Z"
   },
   {
    "duration": 174,
    "start_time": "2022-03-15T18:35:45.561Z"
   },
   {
    "duration": 210,
    "start_time": "2022-03-15T18:37:49.201Z"
   },
   {
    "duration": 234,
    "start_time": "2022-03-15T18:39:06.402Z"
   },
   {
    "duration": 237,
    "start_time": "2022-03-15T18:39:18.579Z"
   },
   {
    "duration": 62,
    "start_time": "2022-03-15T18:40:23.545Z"
   },
   {
    "duration": 251,
    "start_time": "2022-03-15T18:40:30.937Z"
   },
   {
    "duration": 408,
    "start_time": "2022-03-15T18:45:07.413Z"
   },
   {
    "duration": 495,
    "start_time": "2022-03-15T18:45:40.063Z"
   },
   {
    "duration": 240,
    "start_time": "2022-03-15T18:45:44.437Z"
   },
   {
    "duration": 252,
    "start_time": "2022-03-15T18:45:59.710Z"
   },
   {
    "duration": 263,
    "start_time": "2022-03-15T18:46:29.652Z"
   },
   {
    "duration": 246,
    "start_time": "2022-03-15T18:46:36.020Z"
   },
   {
    "duration": 252,
    "start_time": "2022-03-15T18:46:40.777Z"
   },
   {
    "duration": 4,
    "start_time": "2022-03-15T18:48:27.970Z"
   },
   {
    "duration": 2,
    "start_time": "2022-03-15T18:48:33.493Z"
   },
   {
    "duration": 239,
    "start_time": "2022-03-15T18:48:36.618Z"
   },
   {
    "duration": 60,
    "start_time": "2022-03-15T18:48:45.297Z"
   },
   {
    "duration": 235,
    "start_time": "2022-03-15T18:48:48.001Z"
   },
   {
    "duration": 3,
    "start_time": "2022-03-15T18:48:58.726Z"
   },
   {
    "duration": 245,
    "start_time": "2022-03-15T18:49:00.780Z"
   },
   {
    "duration": 3,
    "start_time": "2022-03-15T18:49:11.212Z"
   },
   {
    "duration": 255,
    "start_time": "2022-03-15T18:49:14.002Z"
   },
   {
    "duration": 2,
    "start_time": "2022-03-15T18:49:22.615Z"
   },
   {
    "duration": 237,
    "start_time": "2022-03-15T18:49:24.326Z"
   },
   {
    "duration": 350,
    "start_time": "2022-03-15T18:49:27.192Z"
   },
   {
    "duration": 3,
    "start_time": "2022-03-15T18:49:33.324Z"
   },
   {
    "duration": 260,
    "start_time": "2022-03-15T18:49:35.104Z"
   },
   {
    "duration": 3,
    "start_time": "2022-03-15T18:49:45.264Z"
   },
   {
    "duration": 237,
    "start_time": "2022-03-15T18:49:46.721Z"
   },
   {
    "duration": 3,
    "start_time": "2022-03-15T18:49:59.678Z"
   },
   {
    "duration": 257,
    "start_time": "2022-03-15T18:50:02.355Z"
   },
   {
    "duration": 254,
    "start_time": "2022-03-15T18:50:11.586Z"
   },
   {
    "duration": 250,
    "start_time": "2022-03-15T18:55:23.888Z"
   },
   {
    "duration": 259,
    "start_time": "2022-03-15T18:55:40.623Z"
   },
   {
    "duration": 242,
    "start_time": "2022-03-15T18:55:49.533Z"
   },
   {
    "duration": 248,
    "start_time": "2022-03-15T18:56:32.920Z"
   },
   {
    "duration": 423,
    "start_time": "2022-03-15T18:56:51.266Z"
   },
   {
    "duration": 425,
    "start_time": "2022-03-15T18:57:14.357Z"
   },
   {
    "duration": 255,
    "start_time": "2022-03-15T18:57:19.405Z"
   },
   {
    "duration": 341,
    "start_time": "2022-03-15T18:58:20.244Z"
   },
   {
    "duration": 259,
    "start_time": "2022-03-15T18:58:32.598Z"
   },
   {
    "duration": 261,
    "start_time": "2022-03-15T19:01:22.143Z"
   },
   {
    "duration": 404,
    "start_time": "2022-03-15T19:02:09.167Z"
   },
   {
    "duration": 378,
    "start_time": "2022-03-15T19:02:53.806Z"
   },
   {
    "duration": 383,
    "start_time": "2022-03-15T19:02:59.879Z"
   },
   {
    "duration": 273,
    "start_time": "2022-03-15T19:03:08.645Z"
   },
   {
    "duration": 250,
    "start_time": "2022-03-15T19:03:12.658Z"
   },
   {
    "duration": 246,
    "start_time": "2022-03-15T19:03:48.096Z"
   },
   {
    "duration": 245,
    "start_time": "2022-03-15T19:04:37.150Z"
   },
   {
    "duration": 373,
    "start_time": "2022-03-15T19:06:32.014Z"
   },
   {
    "duration": 379,
    "start_time": "2022-03-15T19:06:38.955Z"
   },
   {
    "duration": 560,
    "start_time": "2022-03-15T19:06:57.608Z"
   },
   {
    "duration": 221,
    "start_time": "2022-03-15T19:07:03.808Z"
   },
   {
    "duration": 257,
    "start_time": "2022-03-15T19:07:08.608Z"
   },
   {
    "duration": 250,
    "start_time": "2022-03-15T19:07:13.437Z"
   },
   {
    "duration": 257,
    "start_time": "2022-03-15T19:07:22.210Z"
   },
   {
    "duration": 195,
    "start_time": "2022-03-15T19:10:53.716Z"
   },
   {
    "duration": 191,
    "start_time": "2022-03-15T19:11:04.909Z"
   },
   {
    "duration": 558,
    "start_time": "2022-03-15T19:11:46.909Z"
   },
   {
    "duration": 585,
    "start_time": "2022-03-15T19:12:06.524Z"
   },
   {
    "duration": 558,
    "start_time": "2022-03-15T19:12:25.041Z"
   },
   {
    "duration": 556,
    "start_time": "2022-03-15T19:14:47.544Z"
   },
   {
    "duration": 588,
    "start_time": "2022-03-15T19:14:55.238Z"
   },
   {
    "duration": 249,
    "start_time": "2022-03-15T19:16:19.614Z"
   },
   {
    "duration": 256,
    "start_time": "2022-03-15T19:17:07.674Z"
   },
   {
    "duration": 201,
    "start_time": "2022-03-15T19:24:30.307Z"
   },
   {
    "duration": 469,
    "start_time": "2022-03-15T19:24:36.941Z"
   },
   {
    "duration": 519,
    "start_time": "2022-03-15T19:25:23.549Z"
   },
   {
    "duration": 56,
    "start_time": "2022-03-15T19:28:28.306Z"
   },
   {
    "duration": 508,
    "start_time": "2022-03-15T19:28:33.460Z"
   },
   {
    "duration": 376,
    "start_time": "2022-03-15T19:28:53.088Z"
   },
   {
    "duration": 541,
    "start_time": "2022-03-15T19:30:27.188Z"
   },
   {
    "duration": 528,
    "start_time": "2022-03-15T19:30:37.829Z"
   },
   {
    "duration": 557,
    "start_time": "2022-03-15T19:30:43.834Z"
   },
   {
    "duration": 516,
    "start_time": "2022-03-15T19:32:11.537Z"
   },
   {
    "duration": 342,
    "start_time": "2022-03-15T19:32:17.845Z"
   },
   {
    "duration": 343,
    "start_time": "2022-03-15T19:32:41.059Z"
   },
   {
    "duration": 358,
    "start_time": "2022-03-15T19:32:56.934Z"
   },
   {
    "duration": 419,
    "start_time": "2022-03-15T19:33:11.337Z"
   },
   {
    "duration": 59,
    "start_time": "2022-03-15T19:36:19.060Z"
   },
   {
    "duration": 213,
    "start_time": "2022-03-15T19:36:22.321Z"
   },
   {
    "duration": 18,
    "start_time": "2022-03-15T19:39:27.498Z"
   },
   {
    "duration": 276,
    "start_time": "2022-03-15T19:39:45.185Z"
   },
   {
    "duration": 17,
    "start_time": "2022-03-15T19:39:52.673Z"
   },
   {
    "duration": 19,
    "start_time": "2022-03-15T19:40:05.630Z"
   },
   {
    "duration": 53,
    "start_time": "2022-03-15T19:40:47.354Z"
   },
   {
    "duration": 14,
    "start_time": "2022-03-15T19:40:51.025Z"
   },
   {
    "duration": 13,
    "start_time": "2022-03-15T19:40:53.127Z"
   },
   {
    "duration": 19,
    "start_time": "2022-03-15T19:40:56.500Z"
   },
   {
    "duration": 19,
    "start_time": "2022-03-15T19:41:14.926Z"
   },
   {
    "duration": 58,
    "start_time": "2022-03-15T19:41:33.774Z"
   },
   {
    "duration": 18,
    "start_time": "2022-03-15T19:41:35.662Z"
   },
   {
    "duration": 17,
    "start_time": "2022-03-15T19:41:47.431Z"
   },
   {
    "duration": 56,
    "start_time": "2022-03-15T19:42:26.403Z"
   },
   {
    "duration": 184,
    "start_time": "2022-03-15T19:43:12.748Z"
   },
   {
    "duration": 317,
    "start_time": "2022-03-15T19:43:25.613Z"
   },
   {
    "duration": 322,
    "start_time": "2022-03-15T19:43:30.289Z"
   },
   {
    "duration": 318,
    "start_time": "2022-03-15T19:44:16.944Z"
   },
   {
    "duration": 419,
    "start_time": "2022-03-15T19:44:26.596Z"
   },
   {
    "duration": 13,
    "start_time": "2022-03-15T19:45:19.881Z"
   },
   {
    "duration": 19,
    "start_time": "2022-03-15T19:45:24.217Z"
   },
   {
    "duration": 18,
    "start_time": "2022-03-15T19:45:57.400Z"
   },
   {
    "duration": 22,
    "start_time": "2022-03-15T19:46:44.923Z"
   },
   {
    "duration": 21,
    "start_time": "2022-03-15T19:48:22.201Z"
   },
   {
    "duration": 16,
    "start_time": "2022-03-15T19:48:37.601Z"
   },
   {
    "duration": 19,
    "start_time": "2022-03-15T19:49:07.971Z"
   },
   {
    "duration": 196,
    "start_time": "2022-03-15T19:49:53.931Z"
   },
   {
    "duration": 19,
    "start_time": "2022-03-15T19:50:01.137Z"
   },
   {
    "duration": 20,
    "start_time": "2022-03-15T19:50:37.653Z"
   },
   {
    "duration": 19,
    "start_time": "2022-03-15T19:55:24.610Z"
   },
   {
    "duration": 21,
    "start_time": "2022-03-15T19:55:52.689Z"
   },
   {
    "duration": 23,
    "start_time": "2022-03-15T19:56:17.479Z"
   },
   {
    "duration": 22,
    "start_time": "2022-03-15T19:56:25.768Z"
   },
   {
    "duration": 263,
    "start_time": "2022-03-15T19:56:52.055Z"
   },
   {
    "duration": 267,
    "start_time": "2022-03-15T19:57:19.285Z"
   },
   {
    "duration": 312,
    "start_time": "2022-03-15T19:57:38.278Z"
   },
   {
    "duration": 317,
    "start_time": "2022-03-15T19:58:10.696Z"
   },
   {
    "duration": 284,
    "start_time": "2022-03-15T19:58:40.377Z"
   },
   {
    "duration": 356,
    "start_time": "2022-03-15T19:58:59.771Z"
   },
   {
    "duration": 333,
    "start_time": "2022-03-15T19:59:19.918Z"
   },
   {
    "duration": 1005,
    "start_time": "2022-03-15T20:04:00.548Z"
   },
   {
    "duration": 948,
    "start_time": "2022-03-15T20:04:22.623Z"
   },
   {
    "duration": 924,
    "start_time": "2022-03-15T20:05:15.856Z"
   },
   {
    "duration": 750,
    "start_time": "2022-03-15T20:05:45.904Z"
   },
   {
    "duration": 760,
    "start_time": "2022-03-15T20:05:58.497Z"
   },
   {
    "duration": 995,
    "start_time": "2022-03-15T20:10:09.691Z"
   },
   {
    "duration": 6,
    "start_time": "2022-03-15T20:12:10.707Z"
   },
   {
    "duration": 15,
    "start_time": "2022-03-15T20:12:15.597Z"
   },
   {
    "duration": 10,
    "start_time": "2022-03-15T20:12:41.362Z"
   },
   {
    "duration": 190,
    "start_time": "2022-03-15T20:12:50.678Z"
   },
   {
    "duration": 107,
    "start_time": "2022-03-15T20:12:53.850Z"
   },
   {
    "duration": 168,
    "start_time": "2022-03-15T20:14:36.590Z"
   },
   {
    "duration": 231,
    "start_time": "2022-03-15T20:14:46.653Z"
   },
   {
    "duration": 178,
    "start_time": "2022-03-15T20:15:09.876Z"
   },
   {
    "duration": 176,
    "start_time": "2022-03-15T20:15:13.191Z"
   },
   {
    "duration": 57,
    "start_time": "2022-03-15T20:15:45.960Z"
   },
   {
    "duration": 225,
    "start_time": "2022-03-15T20:16:55.333Z"
   },
   {
    "duration": 113,
    "start_time": "2022-03-15T20:17:34.324Z"
   },
   {
    "duration": 128,
    "start_time": "2022-03-15T20:18:40.471Z"
   },
   {
    "duration": 6,
    "start_time": "2022-03-15T20:33:32.749Z"
   },
   {
    "duration": 168,
    "start_time": "2022-03-15T20:33:51.945Z"
   },
   {
    "duration": 195,
    "start_time": "2022-03-15T20:34:01.120Z"
   },
   {
    "duration": 178,
    "start_time": "2022-03-15T20:34:49.418Z"
   },
   {
    "duration": 3,
    "start_time": "2022-03-15T20:34:53.067Z"
   },
   {
    "duration": 184,
    "start_time": "2022-03-15T20:34:58.474Z"
   },
   {
    "duration": 6,
    "start_time": "2022-03-15T20:35:04.173Z"
   },
   {
    "duration": 4,
    "start_time": "2022-03-15T20:35:12.717Z"
   },
   {
    "duration": 169,
    "start_time": "2022-03-15T20:40:29.823Z"
   },
   {
    "duration": 468,
    "start_time": "2022-03-15T20:44:00.886Z"
   },
   {
    "duration": 283,
    "start_time": "2022-03-15T20:44:25.437Z"
   },
   {
    "duration": 357,
    "start_time": "2022-03-15T20:45:42.634Z"
   },
   {
    "duration": 289,
    "start_time": "2022-03-15T20:45:47.262Z"
   },
   {
    "duration": 304,
    "start_time": "2022-03-15T20:46:54.197Z"
   },
   {
    "duration": 489,
    "start_time": "2022-03-15T20:48:10.679Z"
   },
   {
    "duration": 264,
    "start_time": "2022-03-15T20:48:55.452Z"
   },
   {
    "duration": 261,
    "start_time": "2022-03-15T20:49:07.715Z"
   },
   {
    "duration": 259,
    "start_time": "2022-03-15T20:49:15.732Z"
   },
   {
    "duration": 385,
    "start_time": "2022-03-15T20:49:27.253Z"
   },
   {
    "duration": 500,
    "start_time": "2022-03-15T20:50:40.951Z"
   },
   {
    "duration": 160,
    "start_time": "2022-03-15T20:50:56.822Z"
   },
   {
    "duration": 193,
    "start_time": "2022-03-15T20:51:02.778Z"
   },
   {
    "duration": 527,
    "start_time": "2022-03-15T20:51:07.280Z"
   },
   {
    "duration": 443,
    "start_time": "2022-03-15T20:52:21.983Z"
   },
   {
    "duration": 10,
    "start_time": "2022-03-15T20:53:44.877Z"
   },
   {
    "duration": 5,
    "start_time": "2022-03-15T20:54:19.006Z"
   },
   {
    "duration": 176,
    "start_time": "2022-03-15T20:57:51.931Z"
   },
   {
    "duration": 185,
    "start_time": "2022-03-15T21:00:29.006Z"
   },
   {
    "duration": 10,
    "start_time": "2022-03-15T21:00:34.556Z"
   },
   {
    "duration": 9,
    "start_time": "2022-03-15T21:00:53.917Z"
   },
   {
    "duration": 10,
    "start_time": "2022-03-15T21:01:12.436Z"
   },
   {
    "duration": 12,
    "start_time": "2022-03-15T21:01:33.916Z"
   },
   {
    "duration": 12,
    "start_time": "2022-03-15T21:01:42.729Z"
   },
   {
    "duration": 8,
    "start_time": "2022-03-15T21:02:30.508Z"
   },
   {
    "duration": 11,
    "start_time": "2022-03-15T21:02:34.446Z"
   },
   {
    "duration": 12,
    "start_time": "2022-03-15T21:03:23.526Z"
   },
   {
    "duration": 12,
    "start_time": "2022-03-15T21:03:28.056Z"
   },
   {
    "duration": 12,
    "start_time": "2022-03-15T21:04:04.385Z"
   },
   {
    "duration": 14,
    "start_time": "2022-03-15T21:04:35.017Z"
   },
   {
    "duration": 4916,
    "start_time": "2022-03-15T21:05:14.890Z"
   },
   {
    "duration": 14,
    "start_time": "2022-03-15T21:05:32.348Z"
   },
   {
    "duration": 14,
    "start_time": "2022-03-15T21:05:47.750Z"
   },
   {
    "duration": 12,
    "start_time": "2022-03-15T21:06:01.248Z"
   },
   {
    "duration": 429,
    "start_time": "2022-03-15T21:06:11.435Z"
   },
   {
    "duration": 423,
    "start_time": "2022-03-15T21:06:26.026Z"
   },
   {
    "duration": 233,
    "start_time": "2022-03-15T21:09:00.727Z"
   },
   {
    "duration": 402,
    "start_time": "2022-03-15T21:09:11.103Z"
   },
   {
    "duration": 265,
    "start_time": "2022-03-15T21:09:20.343Z"
   },
   {
    "duration": 206,
    "start_time": "2022-03-15T21:09:58.779Z"
   },
   {
    "duration": 206,
    "start_time": "2022-03-15T21:10:07.932Z"
   },
   {
    "duration": 408,
    "start_time": "2022-03-15T21:10:22.667Z"
   },
   {
    "duration": 748,
    "start_time": "2022-03-15T21:10:45.955Z"
   },
   {
    "duration": 181,
    "start_time": "2022-03-15T21:11:32.010Z"
   },
   {
    "duration": 402,
    "start_time": "2022-03-15T21:13:00.815Z"
   },
   {
    "duration": 397,
    "start_time": "2022-03-15T21:15:43.706Z"
   },
   {
    "duration": 389,
    "start_time": "2022-03-15T21:21:18.971Z"
   },
   {
    "duration": 187,
    "start_time": "2022-03-15T21:21:43.713Z"
   },
   {
    "duration": 185,
    "start_time": "2022-03-15T21:22:00.216Z"
   },
   {
    "duration": 185,
    "start_time": "2022-03-15T21:22:07.320Z"
   },
   {
    "duration": 397,
    "start_time": "2022-03-15T21:22:58.255Z"
   },
   {
    "duration": 433,
    "start_time": "2022-03-15T21:23:15.294Z"
   },
   {
    "duration": 6,
    "start_time": "2022-03-15T21:24:07.797Z"
   },
   {
    "duration": 199,
    "start_time": "2022-03-15T21:25:27.138Z"
   },
   {
    "duration": 11,
    "start_time": "2022-03-15T21:25:36.723Z"
   },
   {
    "duration": 84,
    "start_time": "2022-03-15T21:25:43.782Z"
   },
   {
    "duration": 96,
    "start_time": "2022-03-15T21:25:47.426Z"
   },
   {
    "duration": 105,
    "start_time": "2022-03-15T21:26:39.967Z"
   },
   {
    "duration": 147,
    "start_time": "2022-03-15T21:26:47.092Z"
   },
   {
    "duration": 121,
    "start_time": "2022-03-15T21:26:55.120Z"
   },
   {
    "duration": 126,
    "start_time": "2022-03-15T21:28:30.008Z"
   },
   {
    "duration": 116,
    "start_time": "2022-03-15T21:28:58.050Z"
   },
   {
    "duration": 114,
    "start_time": "2022-03-15T21:29:19.256Z"
   },
   {
    "duration": 115,
    "start_time": "2022-03-15T21:29:29.340Z"
   },
   {
    "duration": 114,
    "start_time": "2022-03-15T21:29:48.483Z"
   },
   {
    "duration": 64,
    "start_time": "2022-03-15T21:30:36.562Z"
   },
   {
    "duration": 119,
    "start_time": "2022-03-15T21:30:38.934Z"
   },
   {
    "duration": 118,
    "start_time": "2022-03-15T21:30:53.227Z"
   },
   {
    "duration": 262,
    "start_time": "2022-03-15T21:31:23.075Z"
   },
   {
    "duration": 125,
    "start_time": "2022-03-15T21:35:54.953Z"
   },
   {
    "duration": 53,
    "start_time": "2022-03-15T21:36:09.323Z"
   },
   {
    "duration": 8,
    "start_time": "2022-03-15T21:36:12.735Z"
   },
   {
    "duration": 135,
    "start_time": "2022-03-15T21:37:09.505Z"
   },
   {
    "duration": 131,
    "start_time": "2022-03-15T21:37:18.365Z"
   },
   {
    "duration": 136,
    "start_time": "2022-03-15T21:37:36.356Z"
   },
   {
    "duration": 128,
    "start_time": "2022-03-15T21:37:41.403Z"
   },
   {
    "duration": 131,
    "start_time": "2022-03-15T21:37:50.145Z"
   },
   {
    "duration": 127,
    "start_time": "2022-03-15T21:37:58.083Z"
   },
   {
    "duration": 132,
    "start_time": "2022-03-15T21:38:01.487Z"
   },
   {
    "duration": 128,
    "start_time": "2022-03-15T21:38:05.657Z"
   },
   {
    "duration": 126,
    "start_time": "2022-03-15T21:38:09.891Z"
   },
   {
    "duration": 124,
    "start_time": "2022-03-15T21:38:27.191Z"
   },
   {
    "duration": 128,
    "start_time": "2022-03-15T21:38:32.839Z"
   },
   {
    "duration": 124,
    "start_time": "2022-03-15T21:38:48.698Z"
   },
   {
    "duration": 123,
    "start_time": "2022-03-15T21:38:55.907Z"
   },
   {
    "duration": 126,
    "start_time": "2022-03-15T21:39:02.858Z"
   },
   {
    "duration": 130,
    "start_time": "2022-03-15T21:39:09.251Z"
   },
   {
    "duration": 135,
    "start_time": "2022-03-15T21:39:12.395Z"
   },
   {
    "duration": 131,
    "start_time": "2022-03-15T21:39:15.735Z"
   },
   {
    "duration": 136,
    "start_time": "2022-03-15T21:39:24.768Z"
   },
   {
    "duration": 350,
    "start_time": "2022-03-15T21:40:27.878Z"
   },
   {
    "duration": 129,
    "start_time": "2022-03-15T21:40:47.766Z"
   },
   {
    "duration": 129,
    "start_time": "2022-03-15T21:40:53.450Z"
   },
   {
    "duration": 124,
    "start_time": "2022-03-15T21:40:56.425Z"
   },
   {
    "duration": 135,
    "start_time": "2022-03-15T21:41:02.922Z"
   },
   {
    "duration": 280,
    "start_time": "2022-03-15T21:41:20.322Z"
   },
   {
    "duration": 135,
    "start_time": "2022-03-15T21:41:28.964Z"
   },
   {
    "duration": 128,
    "start_time": "2022-03-15T21:41:38.825Z"
   },
   {
    "duration": 128,
    "start_time": "2022-03-15T21:41:55.393Z"
   },
   {
    "duration": 124,
    "start_time": "2022-03-15T21:41:58.625Z"
   },
   {
    "duration": 130,
    "start_time": "2022-03-15T21:42:06.711Z"
   },
   {
    "duration": 246,
    "start_time": "2022-03-15T21:43:33.397Z"
   },
   {
    "duration": 197,
    "start_time": "2022-03-15T21:43:45.636Z"
   },
   {
    "duration": 245,
    "start_time": "2022-03-15T21:43:48.572Z"
   },
   {
    "duration": 486,
    "start_time": "2022-03-15T21:45:11.381Z"
   },
   {
    "duration": 431,
    "start_time": "2022-03-15T21:45:25.553Z"
   },
   {
    "duration": 127,
    "start_time": "2022-03-15T21:45:42.165Z"
   },
   {
    "duration": 283,
    "start_time": "2022-03-15T21:45:55.354Z"
   },
   {
    "duration": 127,
    "start_time": "2022-03-15T21:46:04.023Z"
   },
   {
    "duration": 443,
    "start_time": "2022-03-15T21:46:14.421Z"
   },
   {
    "duration": 396,
    "start_time": "2022-03-15T21:46:49.070Z"
   },
   {
    "duration": 479,
    "start_time": "2022-03-15T21:47:13.399Z"
   },
   {
    "duration": 684,
    "start_time": "2022-03-15T21:47:23.852Z"
   },
   {
    "duration": 404,
    "start_time": "2022-03-15T21:47:44.128Z"
   },
   {
    "duration": 416,
    "start_time": "2022-03-15T21:48:12.776Z"
   },
   {
    "duration": 418,
    "start_time": "2022-03-15T21:48:17.992Z"
   },
   {
    "duration": 723,
    "start_time": "2022-03-15T21:49:09.791Z"
   },
   {
    "duration": 584,
    "start_time": "2022-03-15T21:49:18.590Z"
   },
   {
    "duration": 435,
    "start_time": "2022-03-15T21:49:26.713Z"
   },
   {
    "duration": 698,
    "start_time": "2022-03-15T21:49:39.177Z"
   },
   {
    "duration": 417,
    "start_time": "2022-03-15T21:49:53.561Z"
   },
   {
    "duration": 428,
    "start_time": "2022-03-15T21:50:10.183Z"
   },
   {
    "duration": 421,
    "start_time": "2022-03-15T21:50:21.913Z"
   },
   {
    "duration": 588,
    "start_time": "2022-03-15T21:52:36.993Z"
   },
   {
    "duration": 628,
    "start_time": "2022-03-15T21:52:42.101Z"
   },
   {
    "duration": 657,
    "start_time": "2022-03-15T21:52:46.838Z"
   },
   {
    "duration": 428,
    "start_time": "2022-03-15T21:53:47.679Z"
   },
   {
    "duration": 600,
    "start_time": "2022-03-15T21:54:30.653Z"
   },
   {
    "duration": 421,
    "start_time": "2022-03-15T21:55:12.503Z"
   },
   {
    "duration": 431,
    "start_time": "2022-03-15T21:56:17.506Z"
   },
   {
    "duration": 426,
    "start_time": "2022-03-15T21:56:32.970Z"
   },
   {
    "duration": 572,
    "start_time": "2022-03-15T21:57:27.714Z"
   },
   {
    "duration": 427,
    "start_time": "2022-03-15T21:58:31.027Z"
   },
   {
    "duration": 440,
    "start_time": "2022-03-15T21:58:44.821Z"
   },
   {
    "duration": 417,
    "start_time": "2022-03-15T21:58:54.345Z"
   },
   {
    "duration": 610,
    "start_time": "2022-03-15T21:59:00.928Z"
   },
   {
    "duration": 429,
    "start_time": "2022-03-15T21:59:05.937Z"
   },
   {
    "duration": 427,
    "start_time": "2022-03-15T21:59:10.233Z"
   },
   {
    "duration": 318,
    "start_time": "2022-03-15T22:00:25.197Z"
   },
   {
    "duration": 489,
    "start_time": "2022-03-15T22:00:39.627Z"
   },
   {
    "duration": 356,
    "start_time": "2022-03-15T22:00:45.278Z"
   },
   {
    "duration": 354,
    "start_time": "2022-03-15T22:01:05.927Z"
   },
   {
    "duration": 355,
    "start_time": "2022-03-15T22:01:17.950Z"
   },
   {
    "duration": 506,
    "start_time": "2022-03-15T22:01:24.100Z"
   },
   {
    "duration": 416,
    "start_time": "2022-03-15T22:01:35.381Z"
   },
   {
    "duration": 421,
    "start_time": "2022-03-15T22:01:44.282Z"
   },
   {
    "duration": 403,
    "start_time": "2022-03-15T22:01:48.717Z"
   },
   {
    "duration": 574,
    "start_time": "2022-03-15T22:01:53.073Z"
   },
   {
    "duration": 414,
    "start_time": "2022-03-15T22:03:24.177Z"
   },
   {
    "duration": 413,
    "start_time": "2022-03-15T22:03:28.810Z"
   },
   {
    "duration": 415,
    "start_time": "2022-03-15T22:03:40.186Z"
   },
   {
    "duration": 571,
    "start_time": "2022-03-15T22:04:05.219Z"
   },
   {
    "duration": 417,
    "start_time": "2022-03-15T22:04:10.051Z"
   },
   {
    "duration": 411,
    "start_time": "2022-03-15T22:04:14.367Z"
   },
   {
    "duration": 413,
    "start_time": "2022-03-15T22:04:19.780Z"
   },
   {
    "duration": 569,
    "start_time": "2022-03-15T22:04:25.452Z"
   },
   {
    "duration": 428,
    "start_time": "2022-03-15T22:05:16.977Z"
   },
   {
    "duration": 413,
    "start_time": "2022-03-15T22:05:43.538Z"
   },
   {
    "duration": 411,
    "start_time": "2022-03-15T22:06:27.025Z"
   },
   {
    "duration": 552,
    "start_time": "2022-03-15T22:06:53.395Z"
   },
   {
    "duration": 409,
    "start_time": "2022-03-15T22:09:40.112Z"
   },
   {
    "duration": 373,
    "start_time": "2022-03-15T22:09:52.949Z"
   },
   {
    "duration": 367,
    "start_time": "2022-03-15T22:10:44.631Z"
   },
   {
    "duration": 491,
    "start_time": "2022-03-15T22:10:49.518Z"
   },
   {
    "duration": 669,
    "start_time": "2022-03-15T22:13:26.127Z"
   },
   {
    "duration": 914,
    "start_time": "2022-03-15T22:13:31.855Z"
   },
   {
    "duration": 2801,
    "start_time": "2022-03-15T22:13:36.801Z"
   },
   {
    "duration": 2933,
    "start_time": "2022-03-15T22:13:45.260Z"
   },
   {
    "duration": 342,
    "start_time": "2022-03-15T22:13:54.598Z"
   },
   {
    "duration": 14,
    "start_time": "2022-03-15T22:20:14.254Z"
   },
   {
    "duration": 16,
    "start_time": "2022-03-15T22:21:19.537Z"
   },
   {
    "duration": 202,
    "start_time": "2022-03-15T22:21:39.737Z"
   },
   {
    "duration": 383,
    "start_time": "2022-03-15T22:21:46.609Z"
   },
   {
    "duration": 386,
    "start_time": "2022-03-15T22:21:59.846Z"
   },
   {
    "duration": 1411,
    "start_time": "2022-03-16T07:18:35.365Z"
   },
   {
    "duration": 3,
    "start_time": "2022-03-16T07:18:36.778Z"
   },
   {
    "duration": 46,
    "start_time": "2022-03-16T07:18:36.783Z"
   },
   {
    "duration": 14,
    "start_time": "2022-03-16T07:18:36.831Z"
   },
   {
    "duration": 25,
    "start_time": "2022-03-16T07:18:36.847Z"
   },
   {
    "duration": 21,
    "start_time": "2022-03-16T07:18:36.874Z"
   },
   {
    "duration": 572,
    "start_time": "2022-03-16T07:18:36.896Z"
   },
   {
    "duration": 2562,
    "start_time": "2022-03-16T07:18:34.908Z"
   },
   {
    "duration": 2562,
    "start_time": "2022-03-16T07:18:34.909Z"
   },
   {
    "duration": 2562,
    "start_time": "2022-03-16T07:18:34.910Z"
   },
   {
    "duration": 247,
    "start_time": "2022-03-16T07:18:48.168Z"
   },
   {
    "duration": 3,
    "start_time": "2022-03-16T07:18:50.664Z"
   },
   {
    "duration": 7,
    "start_time": "2022-03-16T07:18:50.669Z"
   },
   {
    "duration": 45,
    "start_time": "2022-03-16T07:18:50.678Z"
   },
   {
    "duration": 10,
    "start_time": "2022-03-16T07:18:50.725Z"
   },
   {
    "duration": 16,
    "start_time": "2022-03-16T07:18:50.736Z"
   },
   {
    "duration": 19,
    "start_time": "2022-03-16T07:18:50.753Z"
   },
   {
    "duration": 265,
    "start_time": "2022-03-16T07:18:50.775Z"
   },
   {
    "duration": 139,
    "start_time": "2022-03-16T07:18:51.043Z"
   },
   {
    "duration": 390,
    "start_time": "2022-03-16T07:18:51.184Z"
   },
   {
    "duration": 399,
    "start_time": "2022-03-16T07:18:51.576Z"
   },
   {
    "duration": 4842,
    "start_time": "2022-03-16T07:21:27.143Z"
   },
   {
    "duration": 16,
    "start_time": "2022-03-16T07:21:43.984Z"
   },
   {
    "duration": 433,
    "start_time": "2022-03-16T07:22:09.393Z"
   },
   {
    "duration": 426,
    "start_time": "2022-03-16T07:23:42.880Z"
   },
   {
    "duration": 488,
    "start_time": "2022-03-16T07:23:50.301Z"
   },
   {
    "duration": 506,
    "start_time": "2022-03-16T07:24:13.512Z"
   },
   {
    "duration": 474,
    "start_time": "2022-03-16T07:24:25.933Z"
   },
   {
    "duration": 467,
    "start_time": "2022-03-16T07:25:36.578Z"
   },
   {
    "duration": 427,
    "start_time": "2022-03-16T07:25:42.369Z"
   },
   {
    "duration": 4,
    "start_time": "2022-03-16T07:28:04.630Z"
   },
   {
    "duration": 10,
    "start_time": "2022-03-16T07:28:04.637Z"
   },
   {
    "duration": 57,
    "start_time": "2022-03-16T07:28:04.649Z"
   },
   {
    "duration": 11,
    "start_time": "2022-03-16T07:28:04.708Z"
   },
   {
    "duration": 23,
    "start_time": "2022-03-16T07:28:04.720Z"
   },
   {
    "duration": 50,
    "start_time": "2022-03-16T07:28:04.745Z"
   },
   {
    "duration": 373,
    "start_time": "2022-03-16T07:28:04.797Z"
   },
   {
    "duration": 149,
    "start_time": "2022-03-16T07:28:05.171Z"
   },
   {
    "duration": 387,
    "start_time": "2022-03-16T07:28:05.323Z"
   },
   {
    "duration": 505,
    "start_time": "2022-03-16T07:28:05.712Z"
   },
   {
    "duration": 318,
    "start_time": "2022-03-16T07:29:52.763Z"
   },
   {
    "duration": 297,
    "start_time": "2022-03-16T07:29:56.085Z"
   },
   {
    "duration": 300,
    "start_time": "2022-03-16T07:30:03.293Z"
   },
   {
    "duration": 299,
    "start_time": "2022-03-16T07:30:24.898Z"
   },
   {
    "duration": 3,
    "start_time": "2022-03-16T07:30:29.633Z"
   },
   {
    "duration": 7,
    "start_time": "2022-03-16T07:30:29.638Z"
   },
   {
    "duration": 45,
    "start_time": "2022-03-16T07:30:29.647Z"
   },
   {
    "duration": 9,
    "start_time": "2022-03-16T07:30:29.694Z"
   },
   {
    "duration": 14,
    "start_time": "2022-03-16T07:30:29.705Z"
   },
   {
    "duration": 25,
    "start_time": "2022-03-16T07:30:29.720Z"
   },
   {
    "duration": 302,
    "start_time": "2022-03-16T07:30:29.747Z"
   },
   {
    "duration": 145,
    "start_time": "2022-03-16T07:30:30.050Z"
   },
   {
    "duration": 522,
    "start_time": "2022-03-16T07:30:30.198Z"
   },
   {
    "duration": 372,
    "start_time": "2022-03-16T07:30:30.721Z"
   },
   {
    "duration": 297,
    "start_time": "2022-03-16T07:30:41.984Z"
   },
   {
    "duration": 345,
    "start_time": "2022-03-16T07:31:35.311Z"
   },
   {
    "duration": 322,
    "start_time": "2022-03-16T07:33:37.148Z"
   },
   {
    "duration": 10,
    "start_time": "2022-03-16T07:33:43.414Z"
   },
   {
    "duration": 314,
    "start_time": "2022-03-16T07:33:58.935Z"
   },
   {
    "duration": 315,
    "start_time": "2022-03-16T07:34:08.122Z"
   },
   {
    "duration": 393,
    "start_time": "2022-03-16T07:34:21.433Z"
   },
   {
    "duration": 385,
    "start_time": "2022-03-16T07:34:31.405Z"
   },
   {
    "duration": 494,
    "start_time": "2022-03-16T07:34:56.720Z"
   },
   {
    "duration": 529,
    "start_time": "2022-03-16T07:35:02.026Z"
   },
   {
    "duration": 404,
    "start_time": "2022-03-16T07:35:05.554Z"
   },
   {
    "duration": 386,
    "start_time": "2022-03-16T07:35:29.080Z"
   },
   {
    "duration": 413,
    "start_time": "2022-03-16T07:35:49.453Z"
   },
   {
    "duration": 413,
    "start_time": "2022-03-16T07:49:20.156Z"
   },
   {
    "duration": 546,
    "start_time": "2022-03-16T07:49:30.122Z"
   },
   {
    "duration": 420,
    "start_time": "2022-03-16T07:49:51.808Z"
   },
   {
    "duration": 435,
    "start_time": "2022-03-16T07:50:24.517Z"
   },
   {
    "duration": 6,
    "start_time": "2022-03-16T07:52:06.947Z"
   },
   {
    "duration": 394,
    "start_time": "2022-03-16T07:53:28.874Z"
   },
   {
    "duration": 439,
    "start_time": "2022-03-16T07:53:37.622Z"
   },
   {
    "duration": 426,
    "start_time": "2022-03-16T07:53:58.613Z"
   },
   {
    "duration": 399,
    "start_time": "2022-03-16T07:54:10.980Z"
   },
   {
    "duration": 441,
    "start_time": "2022-03-16T07:54:34.516Z"
   },
   {
    "duration": 401,
    "start_time": "2022-03-16T07:54:57.983Z"
   },
   {
    "duration": 550,
    "start_time": "2022-03-16T07:55:55.347Z"
   },
   {
    "duration": 518,
    "start_time": "2022-03-16T07:56:02.841Z"
   },
   {
    "duration": 516,
    "start_time": "2022-03-16T07:56:11.122Z"
   },
   {
    "duration": 409,
    "start_time": "2022-03-16T07:56:15.563Z"
   },
   {
    "duration": 585,
    "start_time": "2022-03-16T07:57:14.326Z"
   },
   {
    "duration": 1506,
    "start_time": "2022-03-16T07:57:43.259Z"
   },
   {
    "duration": 1304,
    "start_time": "2022-03-16T07:58:14.301Z"
   },
   {
    "duration": 1401,
    "start_time": "2022-03-16T07:58:57.592Z"
   },
   {
    "duration": 431,
    "start_time": "2022-03-16T07:59:14.234Z"
   },
   {
    "duration": 1380,
    "start_time": "2022-03-16T08:01:44.306Z"
   },
   {
    "duration": 1349,
    "start_time": "2022-03-16T08:01:49.186Z"
   },
   {
    "duration": 1239,
    "start_time": "2022-03-16T08:02:01.271Z"
   },
   {
    "duration": 1209,
    "start_time": "2022-03-16T08:02:09.041Z"
   },
   {
    "duration": 1387,
    "start_time": "2022-03-17T11:29:24.558Z"
   },
   {
    "duration": 3,
    "start_time": "2022-03-17T11:29:25.947Z"
   },
   {
    "duration": 91,
    "start_time": "2022-03-17T11:29:25.951Z"
   },
   {
    "duration": 12,
    "start_time": "2022-03-17T11:29:26.044Z"
   },
   {
    "duration": 35,
    "start_time": "2022-03-17T11:29:26.057Z"
   },
   {
    "duration": 35,
    "start_time": "2022-03-17T11:29:26.094Z"
   },
   {
    "duration": 179,
    "start_time": "2022-03-17T11:29:26.130Z"
   },
   {
    "duration": 102,
    "start_time": "2022-03-17T11:29:26.311Z"
   },
   {
    "duration": 452,
    "start_time": "2022-03-17T11:29:26.415Z"
   },
   {
    "duration": 201,
    "start_time": "2022-03-17T11:29:26.869Z"
   },
   {
    "duration": 1509,
    "start_time": "2022-03-17T11:29:27.080Z"
   },
   {
    "duration": 13,
    "start_time": "2022-03-17T11:30:19.258Z"
   },
   {
    "duration": 11,
    "start_time": "2022-03-17T11:31:16.377Z"
   },
   {
    "duration": 10,
    "start_time": "2022-03-17T11:38:04.396Z"
   },
   {
    "duration": 11,
    "start_time": "2022-03-17T11:38:33.625Z"
   },
   {
    "duration": 7,
    "start_time": "2022-03-17T11:40:20.196Z"
   },
   {
    "duration": 8,
    "start_time": "2022-03-17T11:40:43.376Z"
   },
   {
    "duration": 8,
    "start_time": "2022-03-17T11:40:53.809Z"
   },
   {
    "duration": 8,
    "start_time": "2022-03-17T11:40:56.933Z"
   },
   {
    "duration": 8,
    "start_time": "2022-03-17T11:41:13.273Z"
   },
   {
    "duration": 10,
    "start_time": "2022-03-17T11:41:16.824Z"
   },
   {
    "duration": 14,
    "start_time": "2022-03-17T11:42:20.714Z"
   },
   {
    "duration": 18,
    "start_time": "2022-03-17T11:42:33.059Z"
   },
   {
    "duration": 13,
    "start_time": "2022-03-17T11:42:36.677Z"
   },
   {
    "duration": 4,
    "start_time": "2022-03-17T11:43:28.220Z"
   },
   {
    "duration": 5,
    "start_time": "2022-03-17T11:43:41.029Z"
   },
   {
    "duration": 26,
    "start_time": "2022-03-17T11:45:15.494Z"
   },
   {
    "duration": 28,
    "start_time": "2022-03-17T11:45:30.786Z"
   },
   {
    "duration": 14,
    "start_time": "2022-03-17T11:46:03.806Z"
   },
   {
    "duration": 8,
    "start_time": "2022-03-17T11:46:51.987Z"
   },
   {
    "duration": 7,
    "start_time": "2022-03-17T11:49:07.859Z"
   },
   {
    "duration": 8,
    "start_time": "2022-03-17T11:55:23.946Z"
   },
   {
    "duration": 8,
    "start_time": "2022-03-17T11:55:33.603Z"
   },
   {
    "duration": 14,
    "start_time": "2022-03-17T11:55:38.204Z"
   },
   {
    "duration": 8,
    "start_time": "2022-03-17T11:55:50.702Z"
   },
   {
    "duration": 8,
    "start_time": "2022-03-17T12:24:25.163Z"
   },
   {
    "duration": 8,
    "start_time": "2022-03-17T12:24:36.503Z"
   },
   {
    "duration": 9,
    "start_time": "2022-03-17T12:24:45.867Z"
   },
   {
    "duration": 20,
    "start_time": "2022-03-17T12:26:37.116Z"
   },
   {
    "duration": 23,
    "start_time": "2022-03-17T12:27:15.809Z"
   },
   {
    "duration": 19,
    "start_time": "2022-03-17T12:30:29.020Z"
   },
   {
    "duration": 21,
    "start_time": "2022-03-17T12:31:08.471Z"
   },
   {
    "duration": 21,
    "start_time": "2022-03-17T12:31:28.397Z"
   },
   {
    "duration": 10,
    "start_time": "2022-03-17T12:32:55.311Z"
   },
   {
    "duration": 91,
    "start_time": "2022-03-17T12:33:05.374Z"
   },
   {
    "duration": 15,
    "start_time": "2022-03-17T12:33:07.804Z"
   },
   {
    "duration": 10,
    "start_time": "2022-03-17T12:33:15.410Z"
   },
   {
    "duration": 31,
    "start_time": "2022-03-17T12:35:08.059Z"
   },
   {
    "duration": 18,
    "start_time": "2022-03-17T12:35:26.723Z"
   },
   {
    "duration": 32,
    "start_time": "2022-03-17T12:36:44.641Z"
   },
   {
    "duration": 25,
    "start_time": "2022-03-17T12:37:03.568Z"
   },
   {
    "duration": 22,
    "start_time": "2022-03-17T12:37:13.776Z"
   },
   {
    "duration": 6,
    "start_time": "2022-03-17T12:37:52.662Z"
   },
   {
    "duration": 15,
    "start_time": "2022-03-17T12:38:09.447Z"
   },
   {
    "duration": 7,
    "start_time": "2022-03-17T12:38:18.813Z"
   },
   {
    "duration": 6,
    "start_time": "2022-03-17T12:38:31.069Z"
   },
   {
    "duration": 7,
    "start_time": "2022-03-17T12:38:37.104Z"
   },
   {
    "duration": 6,
    "start_time": "2022-03-17T12:38:41.230Z"
   },
   {
    "duration": 14,
    "start_time": "2022-03-17T12:38:43.922Z"
   },
   {
    "duration": 7,
    "start_time": "2022-03-17T12:39:02.968Z"
   },
   {
    "duration": 16,
    "start_time": "2022-03-17T12:39:28.632Z"
   },
   {
    "duration": 3,
    "start_time": "2022-03-17T12:43:32.667Z"
   },
   {
    "duration": 29,
    "start_time": "2022-03-17T12:43:32.672Z"
   },
   {
    "duration": 99,
    "start_time": "2022-03-17T12:43:32.702Z"
   },
   {
    "duration": 9,
    "start_time": "2022-03-17T12:43:32.802Z"
   },
   {
    "duration": 43,
    "start_time": "2022-03-17T12:43:32.813Z"
   },
   {
    "duration": 37,
    "start_time": "2022-03-17T12:43:32.857Z"
   },
   {
    "duration": 200,
    "start_time": "2022-03-17T12:43:32.896Z"
   },
   {
    "duration": 117,
    "start_time": "2022-03-17T12:43:33.098Z"
   },
   {
    "duration": 552,
    "start_time": "2022-03-17T12:43:33.217Z"
   },
   {
    "duration": 190,
    "start_time": "2022-03-17T12:43:33.771Z"
   },
   {
    "duration": 1383,
    "start_time": "2022-03-17T12:43:33.963Z"
   },
   {
    "duration": 522,
    "start_time": "2022-03-17T12:43:40.287Z"
   },
   {
    "duration": 480,
    "start_time": "2022-03-17T12:43:44.229Z"
   },
   {
    "duration": 446,
    "start_time": "2022-03-17T12:43:47.091Z"
   },
   {
    "duration": 575,
    "start_time": "2022-03-17T12:43:50.352Z"
   },
   {
    "duration": 422,
    "start_time": "2022-03-17T12:43:54.838Z"
   },
   {
    "duration": 427,
    "start_time": "2022-03-17T12:43:59.100Z"
   },
   {
    "duration": 521,
    "start_time": "2022-03-17T12:44:02.095Z"
   },
   {
    "duration": 443,
    "start_time": "2022-03-17T12:44:05.382Z"
   },
   {
    "duration": 1432,
    "start_time": "2022-03-17T12:45:15.927Z"
   },
   {
    "duration": 1412,
    "start_time": "2022-03-17T12:45:28.478Z"
   },
   {
    "duration": 1423,
    "start_time": "2022-03-17T12:45:37.420Z"
   },
   {
    "duration": 1501,
    "start_time": "2022-03-17T12:45:58.167Z"
   },
   {
    "duration": 1397,
    "start_time": "2022-03-17T12:46:33.837Z"
   },
   {
    "duration": 429,
    "start_time": "2022-03-17T12:48:21.638Z"
   },
   {
    "duration": 689,
    "start_time": "2022-03-17T12:48:32.175Z"
   },
   {
    "duration": 419,
    "start_time": "2022-03-17T12:48:38.414Z"
   },
   {
    "duration": 1421,
    "start_time": "2022-03-17T12:52:05.887Z"
   },
   {
    "duration": 1524,
    "start_time": "2022-03-17T12:52:13.878Z"
   },
   {
    "duration": 1941,
    "start_time": "2022-03-17T12:52:21.555Z"
   },
   {
    "duration": 1450,
    "start_time": "2022-03-17T12:52:30.305Z"
   },
   {
    "duration": 11,
    "start_time": "2022-03-17T12:52:40.982Z"
   },
   {
    "duration": 189,
    "start_time": "2022-03-17T12:53:06.227Z"
   },
   {
    "duration": 191,
    "start_time": "2022-03-17T12:53:22.170Z"
   },
   {
    "duration": 248,
    "start_time": "2022-03-17T12:53:29.279Z"
   },
   {
    "duration": 132,
    "start_time": "2022-03-17T12:53:47.088Z"
   },
   {
    "duration": 129,
    "start_time": "2022-03-17T12:53:52.100Z"
   },
   {
    "duration": 140,
    "start_time": "2022-03-17T12:54:01.233Z"
   },
   {
    "duration": 161,
    "start_time": "2022-03-17T12:54:18.013Z"
   },
   {
    "duration": 158,
    "start_time": "2022-03-17T12:54:22.350Z"
   },
   {
    "duration": 161,
    "start_time": "2022-03-17T12:54:25.690Z"
   },
   {
    "duration": 147,
    "start_time": "2022-03-17T12:54:40.268Z"
   },
   {
    "duration": 144,
    "start_time": "2022-03-17T12:54:57.925Z"
   },
   {
    "duration": 1564,
    "start_time": "2022-03-17T12:55:00.544Z"
   },
   {
    "duration": 1716,
    "start_time": "2022-03-17T13:03:37.235Z"
   },
   {
    "duration": 1523,
    "start_time": "2022-03-17T13:04:17.151Z"
   },
   {
    "duration": 1540,
    "start_time": "2022-03-17T13:04:25.392Z"
   },
   {
    "duration": 1534,
    "start_time": "2022-03-17T13:04:39.631Z"
   },
   {
    "duration": 1450,
    "start_time": "2022-03-17T13:04:58.825Z"
   },
   {
    "duration": 3198,
    "start_time": "2022-03-17T13:06:24.616Z"
   },
   {
    "duration": 271,
    "start_time": "2022-03-17T13:08:01.538Z"
   },
   {
    "duration": 124,
    "start_time": "2022-03-17T13:08:46.801Z"
   },
   {
    "duration": 123,
    "start_time": "2022-03-17T13:10:00.420Z"
   },
   {
    "duration": 297,
    "start_time": "2022-03-17T13:10:06.425Z"
   },
   {
    "duration": 191,
    "start_time": "2022-03-17T13:10:22.283Z"
   },
   {
    "duration": 441,
    "start_time": "2022-03-17T13:11:30.123Z"
   },
   {
    "duration": 284,
    "start_time": "2022-03-17T13:11:46.849Z"
   },
   {
    "duration": 405,
    "start_time": "2022-03-17T13:12:07.066Z"
   },
   {
    "duration": 392,
    "start_time": "2022-03-17T13:12:41.701Z"
   },
   {
    "duration": 335,
    "start_time": "2022-03-17T13:13:18.165Z"
   },
   {
    "duration": 321,
    "start_time": "2022-03-17T13:13:55.460Z"
   },
   {
    "duration": 428,
    "start_time": "2022-03-17T13:15:12.014Z"
   },
   {
    "duration": 210,
    "start_time": "2022-03-17T13:16:20.327Z"
   },
   {
    "duration": 206,
    "start_time": "2022-03-17T13:16:30.733Z"
   },
   {
    "duration": 201,
    "start_time": "2022-03-17T13:16:42.583Z"
   },
   {
    "duration": 203,
    "start_time": "2022-03-17T13:17:06.992Z"
   },
   {
    "duration": 173,
    "start_time": "2022-03-17T13:17:17.801Z"
   },
   {
    "duration": 234,
    "start_time": "2022-03-17T13:17:29.924Z"
   },
   {
    "duration": 241,
    "start_time": "2022-03-17T13:18:27.393Z"
   },
   {
    "duration": 392,
    "start_time": "2022-03-17T13:18:41.025Z"
   },
   {
    "duration": 356,
    "start_time": "2022-03-17T13:20:47.234Z"
   },
   {
    "duration": 390,
    "start_time": "2022-03-17T13:21:01.110Z"
   },
   {
    "duration": 371,
    "start_time": "2022-03-17T13:21:21.722Z"
   },
   {
    "duration": 449,
    "start_time": "2022-03-17T13:21:27.327Z"
   },
   {
    "duration": 613,
    "start_time": "2022-03-17T13:21:37.246Z"
   },
   {
    "duration": 647,
    "start_time": "2022-03-17T17:40:02.779Z"
   },
   {
    "duration": 861,
    "start_time": "2022-03-17T17:43:11.511Z"
   },
   {
    "duration": 919,
    "start_time": "2022-03-17T17:44:18.830Z"
   },
   {
    "duration": 983,
    "start_time": "2022-03-17T17:44:48.152Z"
   },
   {
    "duration": 1023,
    "start_time": "2022-03-17T17:46:28.104Z"
   },
   {
    "duration": 804,
    "start_time": "2022-03-17T17:49:00.781Z"
   },
   {
    "duration": 10,
    "start_time": "2022-03-17T17:50:52.719Z"
   },
   {
    "duration": 10,
    "start_time": "2022-03-17T17:51:19.669Z"
   },
   {
    "duration": 11,
    "start_time": "2022-03-17T17:51:43.577Z"
   },
   {
    "duration": 14,
    "start_time": "2022-03-17T17:52:30.975Z"
   },
   {
    "duration": 19,
    "start_time": "2022-03-17T17:53:00.734Z"
   },
   {
    "duration": 9,
    "start_time": "2022-03-17T17:53:36.526Z"
   },
   {
    "duration": 809,
    "start_time": "2022-03-17T17:54:48.954Z"
   },
   {
    "duration": 983,
    "start_time": "2022-03-17T17:55:02.410Z"
   },
   {
    "duration": 1075,
    "start_time": "2022-03-17T17:57:40.451Z"
   },
   {
    "duration": 852,
    "start_time": "2022-03-17T17:59:41.298Z"
   },
   {
    "duration": 965,
    "start_time": "2022-03-17T18:02:20.643Z"
   },
   {
    "duration": 1088,
    "start_time": "2022-03-17T18:02:40.786Z"
   },
   {
    "duration": 16,
    "start_time": "2022-03-17T18:03:24.913Z"
   },
   {
    "duration": 9,
    "start_time": "2022-03-17T18:03:48.903Z"
   },
   {
    "duration": 10,
    "start_time": "2022-03-17T18:10:24.496Z"
   },
   {
    "duration": 11,
    "start_time": "2022-03-17T18:10:27.226Z"
   },
   {
    "duration": 9,
    "start_time": "2022-03-17T18:10:45.446Z"
   },
   {
    "duration": 21,
    "start_time": "2022-03-17T18:10:52.799Z"
   },
   {
    "duration": 9,
    "start_time": "2022-03-17T18:11:13.348Z"
   },
   {
    "duration": 16,
    "start_time": "2022-03-17T18:12:20.230Z"
   },
   {
    "duration": 13,
    "start_time": "2022-03-17T18:12:30.996Z"
   },
   {
    "duration": 7,
    "start_time": "2022-03-17T18:15:24.824Z"
   },
   {
    "duration": 18,
    "start_time": "2022-03-17T18:15:42.580Z"
   },
   {
    "duration": 18,
    "start_time": "2022-03-17T18:15:52.151Z"
   },
   {
    "duration": 12,
    "start_time": "2022-03-17T18:15:56.171Z"
   },
   {
    "duration": 11,
    "start_time": "2022-03-17T18:16:01.380Z"
   },
   {
    "duration": 11,
    "start_time": "2022-03-17T18:16:19.231Z"
   },
   {
    "duration": 44,
    "start_time": "2022-03-17T18:17:34.077Z"
   },
   {
    "duration": 10,
    "start_time": "2022-03-17T18:17:37.272Z"
   },
   {
    "duration": 12,
    "start_time": "2022-03-17T18:18:25.911Z"
   },
   {
    "duration": 19,
    "start_time": "2022-03-17T18:20:25.159Z"
   },
   {
    "duration": 20,
    "start_time": "2022-03-17T18:20:42.077Z"
   },
   {
    "duration": 236,
    "start_time": "2022-03-17T18:21:09.688Z"
   },
   {
    "duration": 254,
    "start_time": "2022-03-17T18:21:24.950Z"
   },
   {
    "duration": 361,
    "start_time": "2022-03-17T18:21:54.467Z"
   },
   {
    "duration": 254,
    "start_time": "2022-03-17T18:21:57.493Z"
   },
   {
    "duration": 179,
    "start_time": "2022-03-17T18:22:29.558Z"
   },
   {
    "duration": 8,
    "start_time": "2022-03-17T18:25:55.833Z"
   },
   {
    "duration": 44,
    "start_time": "2022-03-17T18:26:00.749Z"
   },
   {
    "duration": 37,
    "start_time": "2022-03-17T18:26:11.978Z"
   },
   {
    "duration": 59,
    "start_time": "2022-03-17T18:26:36.237Z"
   },
   {
    "duration": 48,
    "start_time": "2022-03-17T18:29:30.677Z"
   },
   {
    "duration": 4,
    "start_time": "2022-03-17T18:29:36.500Z"
   },
   {
    "duration": 7,
    "start_time": "2022-03-17T18:29:36.505Z"
   },
   {
    "duration": 58,
    "start_time": "2022-03-17T18:29:36.513Z"
   },
   {
    "duration": 9,
    "start_time": "2022-03-17T18:29:36.572Z"
   },
   {
    "duration": 15,
    "start_time": "2022-03-17T18:29:36.583Z"
   },
   {
    "duration": 39,
    "start_time": "2022-03-17T18:29:36.599Z"
   },
   {
    "duration": 165,
    "start_time": "2022-03-17T18:29:36.639Z"
   },
   {
    "duration": 258,
    "start_time": "2022-03-17T18:29:36.806Z"
   },
   {
    "duration": 660,
    "start_time": "2022-03-17T18:29:37.066Z"
   },
   {
    "duration": 1096,
    "start_time": "2022-03-17T18:29:37.728Z"
   },
   {
    "duration": 271,
    "start_time": "2022-03-17T18:29:38.826Z"
   },
   {
    "duration": 1813,
    "start_time": "2022-03-17T18:29:39.099Z"
   },
   {
    "duration": 9,
    "start_time": "2022-03-17T18:30:25.564Z"
   },
   {
    "duration": 144,
    "start_time": "2022-03-17T18:30:31.578Z"
   },
   {
    "duration": 53,
    "start_time": "2022-03-17T18:32:28.277Z"
   },
   {
    "duration": 46,
    "start_time": "2022-03-17T18:32:37.357Z"
   },
   {
    "duration": 3,
    "start_time": "2022-03-17T18:32:39.357Z"
   },
   {
    "duration": 5,
    "start_time": "2022-03-17T18:32:39.361Z"
   },
   {
    "duration": 66,
    "start_time": "2022-03-17T18:32:39.368Z"
   },
   {
    "duration": 8,
    "start_time": "2022-03-17T18:32:39.436Z"
   },
   {
    "duration": 12,
    "start_time": "2022-03-17T18:32:39.447Z"
   },
   {
    "duration": 21,
    "start_time": "2022-03-17T18:32:39.460Z"
   },
   {
    "duration": 186,
    "start_time": "2022-03-17T18:32:39.483Z"
   },
   {
    "duration": 123,
    "start_time": "2022-03-17T18:32:39.671Z"
   },
   {
    "duration": 460,
    "start_time": "2022-03-17T18:32:39.796Z"
   },
   {
    "duration": 889,
    "start_time": "2022-03-17T18:32:40.258Z"
   },
   {
    "duration": 190,
    "start_time": "2022-03-17T18:32:41.149Z"
   },
   {
    "duration": 55,
    "start_time": "2022-03-17T18:32:41.341Z"
   },
   {
    "duration": 11,
    "start_time": "2022-03-17T18:33:04.398Z"
   },
   {
    "duration": 49,
    "start_time": "2022-03-17T18:35:23.213Z"
   },
   {
    "duration": 46,
    "start_time": "2022-03-17T18:35:33.860Z"
   },
   {
    "duration": 138,
    "start_time": "2022-03-17T18:44:23.294Z"
   },
   {
    "duration": 44,
    "start_time": "2022-03-17T18:44:29.129Z"
   },
   {
    "duration": 47,
    "start_time": "2022-03-17T18:44:34.285Z"
   },
   {
    "duration": 45,
    "start_time": "2022-03-17T18:45:10.681Z"
   },
   {
    "duration": 46,
    "start_time": "2022-03-17T18:45:20.417Z"
   },
   {
    "duration": 68,
    "start_time": "2022-03-17T18:50:30.326Z"
   },
   {
    "duration": 11,
    "start_time": "2022-03-17T18:52:25.614Z"
   },
   {
    "duration": 59,
    "start_time": "2022-03-17T18:53:01.439Z"
   },
   {
    "duration": 137,
    "start_time": "2022-03-17T18:55:02.485Z"
   },
   {
    "duration": 19,
    "start_time": "2022-03-17T18:55:29.402Z"
   },
   {
    "duration": 12,
    "start_time": "2022-03-17T18:58:49.356Z"
   },
   {
    "duration": 27,
    "start_time": "2022-03-17T19:05:19.577Z"
   },
   {
    "duration": 25,
    "start_time": "2022-03-17T19:05:44.873Z"
   },
   {
    "duration": 4,
    "start_time": "2022-03-17T19:12:25.931Z"
   },
   {
    "duration": 6,
    "start_time": "2022-03-17T19:12:25.937Z"
   },
   {
    "duration": 77,
    "start_time": "2022-03-17T19:12:25.945Z"
   },
   {
    "duration": 11,
    "start_time": "2022-03-17T19:12:26.024Z"
   },
   {
    "duration": 19,
    "start_time": "2022-03-17T19:12:26.037Z"
   },
   {
    "duration": 41,
    "start_time": "2022-03-17T19:12:26.058Z"
   },
   {
    "duration": 260,
    "start_time": "2022-03-17T19:12:26.102Z"
   },
   {
    "duration": 116,
    "start_time": "2022-03-17T19:12:26.365Z"
   },
   {
    "duration": 683,
    "start_time": "2022-03-17T19:12:26.483Z"
   },
   {
    "duration": 1142,
    "start_time": "2022-03-17T19:12:27.167Z"
   },
   {
    "duration": 420,
    "start_time": "2022-03-17T19:12:28.313Z"
   },
   {
    "duration": 78,
    "start_time": "2022-03-17T19:12:28.735Z"
   },
   {
    "duration": 4,
    "start_time": "2022-03-17T19:12:39.667Z"
   },
   {
    "duration": 7,
    "start_time": "2022-03-17T19:12:39.673Z"
   },
   {
    "duration": 71,
    "start_time": "2022-03-17T19:12:39.682Z"
   },
   {
    "duration": 12,
    "start_time": "2022-03-17T19:12:39.755Z"
   },
   {
    "duration": 24,
    "start_time": "2022-03-17T19:12:39.769Z"
   },
   {
    "duration": 25,
    "start_time": "2022-03-17T19:12:39.795Z"
   },
   {
    "duration": 183,
    "start_time": "2022-03-17T19:12:39.821Z"
   },
   {
    "duration": 119,
    "start_time": "2022-03-17T19:12:40.006Z"
   },
   {
    "duration": 492,
    "start_time": "2022-03-17T19:12:40.126Z"
   },
   {
    "duration": 964,
    "start_time": "2022-03-17T19:12:40.620Z"
   },
   {
    "duration": 201,
    "start_time": "2022-03-17T19:12:41.586Z"
   },
   {
    "duration": 57,
    "start_time": "2022-03-17T19:12:41.789Z"
   },
   {
    "duration": 9,
    "start_time": "2022-03-17T19:12:41.848Z"
   },
   {
    "duration": 67,
    "start_time": "2022-03-17T19:12:41.860Z"
   },
   {
    "duration": 196,
    "start_time": "2022-03-17T19:13:56.304Z"
   },
   {
    "duration": 88,
    "start_time": "2022-03-17T19:14:09.290Z"
   },
   {
    "duration": 79,
    "start_time": "2022-03-17T19:14:17.383Z"
   },
   {
    "duration": 97,
    "start_time": "2022-03-17T19:14:29.961Z"
   },
   {
    "duration": 63,
    "start_time": "2022-03-17T19:21:39.558Z"
   },
   {
    "duration": 58,
    "start_time": "2022-03-17T19:22:09.700Z"
   },
   {
    "duration": 181,
    "start_time": "2022-03-17T19:22:31.254Z"
   },
   {
    "duration": 82,
    "start_time": "2022-03-17T19:22:49.376Z"
   },
   {
    "duration": 52,
    "start_time": "2022-03-17T19:24:05.327Z"
   },
   {
    "duration": 60,
    "start_time": "2022-03-17T19:24:14.439Z"
   },
   {
    "duration": 12,
    "start_time": "2022-03-17T19:28:35.053Z"
   },
   {
    "duration": 10,
    "start_time": "2022-03-17T19:28:51.733Z"
   },
   {
    "duration": 4,
    "start_time": "2022-03-17T19:28:56.199Z"
   },
   {
    "duration": 5,
    "start_time": "2022-03-17T19:28:56.206Z"
   },
   {
    "duration": 62,
    "start_time": "2022-03-17T19:28:56.214Z"
   },
   {
    "duration": 68,
    "start_time": "2022-03-17T19:28:56.278Z"
   },
   {
    "duration": 13,
    "start_time": "2022-03-17T19:28:56.348Z"
   },
   {
    "duration": 26,
    "start_time": "2022-03-17T19:28:56.363Z"
   },
   {
    "duration": 36,
    "start_time": "2022-03-17T19:28:56.391Z"
   },
   {
    "duration": 22,
    "start_time": "2022-03-17T19:28:56.429Z"
   },
   {
    "duration": 251,
    "start_time": "2022-03-17T19:28:56.454Z"
   },
   {
    "duration": 124,
    "start_time": "2022-03-17T19:28:56.707Z"
   },
   {
    "duration": 600,
    "start_time": "2022-03-17T19:28:56.835Z"
   },
   {
    "duration": 925,
    "start_time": "2022-03-17T19:28:57.437Z"
   },
   {
    "duration": 217,
    "start_time": "2022-03-17T19:28:58.364Z"
   },
   {
    "duration": 57,
    "start_time": "2022-03-17T19:28:58.584Z"
   },
   {
    "duration": 10,
    "start_time": "2022-03-17T19:29:52.876Z"
   },
   {
    "duration": 14,
    "start_time": "2022-03-17T19:30:07.979Z"
   },
   {
    "duration": 11,
    "start_time": "2022-03-17T19:30:20.079Z"
   },
   {
    "duration": 7,
    "start_time": "2022-03-17T19:30:28.841Z"
   },
   {
    "duration": 12,
    "start_time": "2022-03-17T19:30:42.908Z"
   },
   {
    "duration": 12,
    "start_time": "2022-03-17T19:31:06.173Z"
   },
   {
    "duration": 21,
    "start_time": "2022-03-17T19:31:25.149Z"
   },
   {
    "duration": 3,
    "start_time": "2022-03-17T19:31:41.036Z"
   },
   {
    "duration": 7,
    "start_time": "2022-03-17T19:31:41.041Z"
   },
   {
    "duration": 59,
    "start_time": "2022-03-17T19:31:41.050Z"
   },
   {
    "duration": 51,
    "start_time": "2022-03-17T19:31:41.112Z"
   },
   {
    "duration": 27,
    "start_time": "2022-03-17T19:31:41.166Z"
   },
   {
    "duration": 22,
    "start_time": "2022-03-17T19:31:41.194Z"
   },
   {
    "duration": 23,
    "start_time": "2022-03-17T19:31:41.218Z"
   },
   {
    "duration": 387,
    "start_time": "2022-03-17T19:31:41.243Z"
   },
   {
    "duration": 120,
    "start_time": "2022-03-17T19:31:41.632Z"
   },
   {
    "duration": 493,
    "start_time": "2022-03-17T19:31:41.754Z"
   },
   {
    "duration": 796,
    "start_time": "2022-03-17T19:31:42.249Z"
   },
   {
    "duration": 187,
    "start_time": "2022-03-17T19:31:43.047Z"
   },
   {
    "duration": 10,
    "start_time": "2022-03-17T19:31:58.540Z"
   },
   {
    "duration": 9,
    "start_time": "2022-03-17T19:32:10.239Z"
   },
   {
    "duration": 1369,
    "start_time": "2022-03-17T19:32:37.825Z"
   },
   {
    "duration": 4,
    "start_time": "2022-03-17T19:32:39.665Z"
   },
   {
    "duration": 66,
    "start_time": "2022-03-17T19:32:40.338Z"
   },
   {
    "duration": 50,
    "start_time": "2022-03-17T19:32:42.423Z"
   },
   {
    "duration": 11,
    "start_time": "2022-03-17T19:32:44.609Z"
   },
   {
    "duration": 15,
    "start_time": "2022-03-17T19:32:54.814Z"
   },
   {
    "duration": 136,
    "start_time": "2022-03-17T19:33:43.762Z"
   },
   {
    "duration": 5,
    "start_time": "2022-03-17T19:33:47.067Z"
   },
   {
    "duration": 13,
    "start_time": "2022-03-17T19:34:07.620Z"
   },
   {
    "duration": 9,
    "start_time": "2022-03-17T19:35:17.876Z"
   },
   {
    "duration": 2,
    "start_time": "2022-03-17T19:35:50.517Z"
   },
   {
    "duration": 8,
    "start_time": "2022-03-17T19:35:50.522Z"
   },
   {
    "duration": 82,
    "start_time": "2022-03-17T19:35:50.532Z"
   },
   {
    "duration": 13,
    "start_time": "2022-03-17T19:35:50.616Z"
   },
   {
    "duration": 30,
    "start_time": "2022-03-17T19:35:50.632Z"
   },
   {
    "duration": 34,
    "start_time": "2022-03-17T19:35:50.664Z"
   },
   {
    "duration": 190,
    "start_time": "2022-03-17T19:35:50.699Z"
   },
   {
    "duration": 125,
    "start_time": "2022-03-17T19:35:50.891Z"
   },
   {
    "duration": 465,
    "start_time": "2022-03-17T19:35:51.018Z"
   },
   {
    "duration": 1217,
    "start_time": "2022-03-17T19:35:51.485Z"
   },
   {
    "duration": 261,
    "start_time": "2022-03-17T19:35:52.703Z"
   },
   {
    "duration": 66,
    "start_time": "2022-03-17T19:36:00.063Z"
   },
   {
    "duration": 59,
    "start_time": "2022-03-17T19:36:18.483Z"
   },
   {
    "duration": 64,
    "start_time": "2022-03-17T19:37:16.723Z"
   },
   {
    "duration": 165,
    "start_time": "2022-03-17T19:37:53.128Z"
   },
   {
    "duration": 67,
    "start_time": "2022-03-17T19:38:57.394Z"
   },
   {
    "duration": 49,
    "start_time": "2022-03-17T19:39:15.883Z"
   },
   {
    "duration": 58,
    "start_time": "2022-03-17T19:39:21.909Z"
   },
   {
    "duration": 59,
    "start_time": "2022-03-17T19:39:27.758Z"
   },
   {
    "duration": 64,
    "start_time": "2022-03-17T19:39:39.565Z"
   },
   {
    "duration": 62,
    "start_time": "2022-03-17T19:39:48.495Z"
   },
   {
    "duration": 339,
    "start_time": "2022-03-17T19:46:24.170Z"
   },
   {
    "duration": 235,
    "start_time": "2022-03-17T19:46:28.426Z"
   },
   {
    "duration": 20,
    "start_time": "2022-03-17T19:47:03.146Z"
   },
   {
    "duration": 22,
    "start_time": "2022-03-17T19:47:10.262Z"
   },
   {
    "duration": 18,
    "start_time": "2022-03-17T19:47:24.851Z"
   },
   {
    "duration": 16,
    "start_time": "2022-03-17T19:47:37.526Z"
   },
   {
    "duration": 18,
    "start_time": "2022-03-17T19:48:17.703Z"
   },
   {
    "duration": 16,
    "start_time": "2022-03-17T19:48:36.537Z"
   },
   {
    "duration": 8,
    "start_time": "2022-03-17T19:48:55.318Z"
   },
   {
    "duration": 7,
    "start_time": "2022-03-17T19:49:01.319Z"
   },
   {
    "duration": 10,
    "start_time": "2022-03-17T19:52:49.720Z"
   },
   {
    "duration": 8,
    "start_time": "2022-03-17T19:53:04.229Z"
   },
   {
    "duration": 2072,
    "start_time": "2022-03-18T10:44:01.539Z"
   },
   {
    "duration": 5,
    "start_time": "2022-03-18T10:44:03.615Z"
   },
   {
    "duration": 104,
    "start_time": "2022-03-18T10:44:03.622Z"
   },
   {
    "duration": 21,
    "start_time": "2022-03-18T10:44:03.728Z"
   },
   {
    "duration": 45,
    "start_time": "2022-03-18T10:44:03.753Z"
   },
   {
    "duration": 35,
    "start_time": "2022-03-18T10:44:03.801Z"
   },
   {
    "duration": 405,
    "start_time": "2022-03-18T10:44:03.839Z"
   },
   {
    "duration": 224,
    "start_time": "2022-03-18T10:44:04.246Z"
   },
   {
    "duration": 976,
    "start_time": "2022-03-18T10:44:04.472Z"
   },
   {
    "duration": 1563,
    "start_time": "2022-03-18T10:44:05.450Z"
   },
   {
    "duration": 333,
    "start_time": "2022-03-18T10:44:07.015Z"
   },
   {
    "duration": 72,
    "start_time": "2022-03-18T10:44:07.351Z"
   },
   {
    "duration": 13,
    "start_time": "2022-03-18T10:44:07.425Z"
   },
   {
    "duration": 14,
    "start_time": "2022-03-18T10:44:07.442Z"
   },
   {
    "duration": 68,
    "start_time": "2022-03-18T10:46:01.811Z"
   },
   {
    "duration": 64,
    "start_time": "2022-03-18T10:46:32.205Z"
   },
   {
    "duration": 77,
    "start_time": "2022-03-18T10:46:39.300Z"
   },
   {
    "duration": 13,
    "start_time": "2022-03-18T10:47:18.378Z"
   },
   {
    "duration": 73,
    "start_time": "2022-03-18T10:56:42.366Z"
   },
   {
    "duration": 160,
    "start_time": "2022-03-18T10:58:05.392Z"
   },
   {
    "duration": 75,
    "start_time": "2022-03-18T10:58:10.456Z"
   },
   {
    "duration": 5,
    "start_time": "2022-03-18T11:02:46.865Z"
   },
   {
    "duration": 13,
    "start_time": "2022-03-18T11:02:46.873Z"
   },
   {
    "duration": 83,
    "start_time": "2022-03-18T11:02:46.888Z"
   },
   {
    "duration": 14,
    "start_time": "2022-03-18T11:02:46.974Z"
   },
   {
    "duration": 20,
    "start_time": "2022-03-18T11:02:46.992Z"
   },
   {
    "duration": 34,
    "start_time": "2022-03-18T11:02:47.015Z"
   },
   {
    "duration": 337,
    "start_time": "2022-03-18T11:02:47.051Z"
   },
   {
    "duration": 207,
    "start_time": "2022-03-18T11:02:47.390Z"
   },
   {
    "duration": 821,
    "start_time": "2022-03-18T11:02:47.600Z"
   },
   {
    "duration": 1631,
    "start_time": "2022-03-18T11:02:48.424Z"
   },
   {
    "duration": 396,
    "start_time": "2022-03-18T11:02:50.057Z"
   },
   {
    "duration": 82,
    "start_time": "2022-03-18T11:02:53.637Z"
   },
   {
    "duration": 56,
    "start_time": "2022-03-18T11:05:41.022Z"
   },
   {
    "duration": 18,
    "start_time": "2022-03-18T11:05:45.905Z"
   },
   {
    "duration": 5,
    "start_time": "2022-03-18T11:06:05.431Z"
   },
   {
    "duration": 24,
    "start_time": "2022-03-18T11:06:09.283Z"
   },
   {
    "duration": 85,
    "start_time": "2022-03-18T11:06:31.334Z"
   },
   {
    "duration": 5,
    "start_time": "2022-03-18T11:06:40.465Z"
   },
   {
    "duration": 17,
    "start_time": "2022-03-18T11:06:42.556Z"
   },
   {
    "duration": 86,
    "start_time": "2022-03-18T11:07:12.658Z"
   },
   {
    "duration": 5,
    "start_time": "2022-03-18T11:07:13.309Z"
   },
   {
    "duration": 24,
    "start_time": "2022-03-18T11:07:13.899Z"
   },
   {
    "duration": 173,
    "start_time": "2022-03-18T11:07:18.144Z"
   },
   {
    "duration": 27,
    "start_time": "2022-03-18T11:07:47.079Z"
   },
   {
    "duration": 9,
    "start_time": "2022-03-18T11:10:38.736Z"
   },
   {
    "duration": 33,
    "start_time": "2022-03-18T11:10:44.257Z"
   },
   {
    "duration": 90,
    "start_time": "2022-03-18T11:11:33.581Z"
   },
   {
    "duration": 20,
    "start_time": "2022-03-18T11:11:36.364Z"
   },
   {
    "duration": 26,
    "start_time": "2022-03-18T11:11:59.952Z"
   },
   {
    "duration": 267,
    "start_time": "2022-03-18T11:12:05.618Z"
   },
   {
    "duration": 10,
    "start_time": "2022-03-18T11:12:08.414Z"
   },
   {
    "duration": 13,
    "start_time": "2022-03-18T11:12:56.044Z"
   },
   {
    "duration": 13,
    "start_time": "2022-03-18T11:13:15.458Z"
   },
   {
    "duration": 26,
    "start_time": "2022-03-18T11:16:29.790Z"
   },
   {
    "duration": 26,
    "start_time": "2022-03-18T11:16:52.828Z"
   },
   {
    "duration": 4,
    "start_time": "2022-03-18T11:17:06.081Z"
   },
   {
    "duration": 18,
    "start_time": "2022-03-18T11:17:10.049Z"
   },
   {
    "duration": 10,
    "start_time": "2022-03-18T11:20:21.903Z"
   },
   {
    "duration": 62,
    "start_time": "2022-03-18T11:20:24.890Z"
   },
   {
    "duration": 7,
    "start_time": "2022-03-18T11:20:25.614Z"
   },
   {
    "duration": 4,
    "start_time": "2022-03-18T11:20:28.006Z"
   },
   {
    "duration": 88,
    "start_time": "2022-03-18T11:20:33.273Z"
   },
   {
    "duration": 9,
    "start_time": "2022-03-18T11:20:34.702Z"
   },
   {
    "duration": 24,
    "start_time": "2022-03-18T11:20:37.833Z"
   },
   {
    "duration": 24,
    "start_time": "2022-03-18T11:21:19.784Z"
   },
   {
    "duration": 5,
    "start_time": "2022-03-18T11:22:57.376Z"
   },
   {
    "duration": 23,
    "start_time": "2022-03-18T11:23:00.952Z"
   },
   {
    "duration": 26,
    "start_time": "2022-03-18T11:23:08.892Z"
   },
   {
    "duration": 14,
    "start_time": "2022-03-18T11:23:53.580Z"
   },
   {
    "duration": 12,
    "start_time": "2022-03-18T11:24:40.695Z"
   },
   {
    "duration": 11,
    "start_time": "2022-03-18T11:25:38.429Z"
   },
   {
    "duration": 21,
    "start_time": "2022-03-18T11:26:17.376Z"
   },
   {
    "duration": 63,
    "start_time": "2022-03-18T11:30:46.752Z"
   },
   {
    "duration": 119,
    "start_time": "2022-03-18T11:31:03.957Z"
   },
   {
    "duration": 1830,
    "start_time": "2022-03-18T11:31:56.737Z"
   },
   {
    "duration": 6,
    "start_time": "2022-03-18T11:32:11.069Z"
   },
   {
    "duration": 23,
    "start_time": "2022-03-18T11:32:14.328Z"
   },
   {
    "duration": 19,
    "start_time": "2022-03-18T11:32:55.960Z"
   },
   {
    "duration": 13,
    "start_time": "2022-03-18T11:33:20.849Z"
   },
   {
    "duration": 15,
    "start_time": "2022-03-18T11:33:23.839Z"
   },
   {
    "duration": 11,
    "start_time": "2022-03-18T11:33:31.725Z"
   },
   {
    "duration": 20,
    "start_time": "2022-03-18T11:34:16.061Z"
   },
   {
    "duration": 23,
    "start_time": "2022-03-18T11:34:32.965Z"
   },
   {
    "duration": 13,
    "start_time": "2022-03-18T11:37:04.177Z"
   },
   {
    "duration": 31,
    "start_time": "2022-03-18T11:37:56.228Z"
   },
   {
    "duration": 38,
    "start_time": "2022-03-18T11:38:01.520Z"
   },
   {
    "duration": 32,
    "start_time": "2022-03-18T11:38:12.755Z"
   },
   {
    "duration": 21,
    "start_time": "2022-03-18T11:38:17.441Z"
   },
   {
    "duration": 44,
    "start_time": "2022-03-18T11:38:52.337Z"
   },
   {
    "duration": 6,
    "start_time": "2022-03-18T11:39:25.741Z"
   },
   {
    "duration": 16,
    "start_time": "2022-03-18T11:39:41.899Z"
   },
   {
    "duration": 21,
    "start_time": "2022-03-18T11:39:53.025Z"
   },
   {
    "duration": 17,
    "start_time": "2022-03-18T11:39:54.863Z"
   },
   {
    "duration": 4,
    "start_time": "2022-03-18T11:40:40.652Z"
   },
   {
    "duration": 10,
    "start_time": "2022-03-18T11:40:40.660Z"
   },
   {
    "duration": 79,
    "start_time": "2022-03-18T11:40:40.673Z"
   },
   {
    "duration": 16,
    "start_time": "2022-03-18T11:40:40.757Z"
   },
   {
    "duration": 32,
    "start_time": "2022-03-18T11:40:40.778Z"
   },
   {
    "duration": 29,
    "start_time": "2022-03-18T11:40:40.814Z"
   },
   {
    "duration": 353,
    "start_time": "2022-03-18T11:40:40.846Z"
   },
   {
    "duration": 384,
    "start_time": "2022-03-18T11:40:41.202Z"
   },
   {
    "duration": 978,
    "start_time": "2022-03-18T11:40:41.589Z"
   },
   {
    "duration": 1727,
    "start_time": "2022-03-18T11:40:42.573Z"
   },
   {
    "duration": 393,
    "start_time": "2022-03-18T11:40:44.305Z"
   },
   {
    "duration": 120,
    "start_time": "2022-03-18T11:40:44.705Z"
   },
   {
    "duration": 56,
    "start_time": "2022-03-18T11:40:44.828Z"
   },
   {
    "duration": 26,
    "start_time": "2022-03-18T11:40:44.887Z"
   },
   {
    "duration": 18,
    "start_time": "2022-03-18T11:40:44.917Z"
   },
   {
    "duration": 22,
    "start_time": "2022-03-18T11:47:48.369Z"
   },
   {
    "duration": 517,
    "start_time": "2022-03-18T11:48:22.001Z"
   },
   {
    "duration": 310,
    "start_time": "2022-03-18T11:48:46.869Z"
   },
   {
    "duration": 273,
    "start_time": "2022-03-18T11:48:52.455Z"
   },
   {
    "duration": 289,
    "start_time": "2022-03-18T11:49:00.244Z"
   },
   {
    "duration": 269,
    "start_time": "2022-03-18T11:49:10.404Z"
   },
   {
    "duration": 289,
    "start_time": "2022-03-18T11:49:17.451Z"
   },
   {
    "duration": 285,
    "start_time": "2022-03-18T11:49:22.078Z"
   },
   {
    "duration": 24,
    "start_time": "2022-03-18T11:51:17.744Z"
   },
   {
    "duration": 30,
    "start_time": "2022-03-18T11:51:24.211Z"
   },
   {
    "duration": 25,
    "start_time": "2022-03-18T11:51:29.811Z"
   },
   {
    "duration": 288,
    "start_time": "2022-03-18T11:51:38.138Z"
   },
   {
    "duration": 33,
    "start_time": "2022-03-18T11:52:01.244Z"
   },
   {
    "duration": 28,
    "start_time": "2022-03-18T11:52:07.552Z"
   },
   {
    "duration": 29,
    "start_time": "2022-03-18T11:52:46.213Z"
   },
   {
    "duration": 23,
    "start_time": "2022-03-18T11:52:54.563Z"
   },
   {
    "duration": 19,
    "start_time": "2022-03-18T11:53:43.414Z"
   },
   {
    "duration": 10,
    "start_time": "2022-03-18T11:53:47.213Z"
   },
   {
    "duration": 220,
    "start_time": "2022-03-18T11:54:29.802Z"
   },
   {
    "duration": 451,
    "start_time": "2022-03-18T11:58:37.222Z"
   },
   {
    "duration": 335,
    "start_time": "2022-03-18T12:00:21.642Z"
   },
   {
    "duration": 347,
    "start_time": "2022-03-18T12:00:46.291Z"
   },
   {
    "duration": 10,
    "start_time": "2022-03-18T12:03:05.051Z"
   },
   {
    "duration": 14,
    "start_time": "2022-03-18T12:20:56.658Z"
   },
   {
    "duration": 7,
    "start_time": "2022-03-18T12:21:15.940Z"
   },
   {
    "duration": 11,
    "start_time": "2022-03-18T12:21:19.563Z"
   },
   {
    "duration": 5,
    "start_time": "2022-03-18T12:22:07.475Z"
   },
   {
    "duration": 14,
    "start_time": "2022-03-18T12:22:08.703Z"
   },
   {
    "duration": 5,
    "start_time": "2022-03-18T12:22:32.882Z"
   },
   {
    "duration": 7,
    "start_time": "2022-03-18T12:22:34.985Z"
   },
   {
    "duration": 5,
    "start_time": "2022-03-18T12:23:18.034Z"
   },
   {
    "duration": 8,
    "start_time": "2022-03-18T12:23:21.996Z"
   },
   {
    "duration": 5,
    "start_time": "2022-03-18T12:23:32.997Z"
   },
   {
    "duration": 6,
    "start_time": "2022-03-18T12:23:34.765Z"
   },
   {
    "duration": 4,
    "start_time": "2022-03-18T12:23:50.454Z"
   },
   {
    "duration": 11,
    "start_time": "2022-03-18T12:23:53.745Z"
   },
   {
    "duration": 17,
    "start_time": "2022-03-18T12:24:05.349Z"
   },
   {
    "duration": 17,
    "start_time": "2022-03-18T12:26:27.655Z"
   },
   {
    "duration": 13,
    "start_time": "2022-03-18T12:51:40.212Z"
   },
   {
    "duration": 13,
    "start_time": "2022-03-18T12:51:49.653Z"
   },
   {
    "duration": 15,
    "start_time": "2022-03-18T12:51:57.303Z"
   },
   {
    "duration": 16,
    "start_time": "2022-03-18T12:52:08.150Z"
   },
   {
    "duration": 19,
    "start_time": "2022-03-18T12:54:33.807Z"
   },
   {
    "duration": 25,
    "start_time": "2022-03-18T12:54:40.198Z"
   },
   {
    "duration": 20,
    "start_time": "2022-03-18T12:55:05.446Z"
   },
   {
    "duration": 24,
    "start_time": "2022-03-18T12:55:07.804Z"
   },
   {
    "duration": 24,
    "start_time": "2022-03-18T12:55:31.943Z"
   },
   {
    "duration": 17,
    "start_time": "2022-03-18T12:56:13.627Z"
   },
   {
    "duration": 22,
    "start_time": "2022-03-18T12:57:01.125Z"
   },
   {
    "duration": 13,
    "start_time": "2022-03-18T12:57:19.023Z"
   },
   {
    "duration": 153,
    "start_time": "2022-03-18T12:57:35.570Z"
   },
   {
    "duration": 21,
    "start_time": "2022-03-18T13:06:09.753Z"
   },
   {
    "duration": 17,
    "start_time": "2022-03-18T13:10:25.024Z"
   },
   {
    "duration": 11,
    "start_time": "2022-03-18T13:10:35.289Z"
   },
   {
    "duration": 12,
    "start_time": "2022-03-18T13:10:46.174Z"
   },
   {
    "duration": 21,
    "start_time": "2022-03-18T13:12:10.170Z"
   },
   {
    "duration": 16,
    "start_time": "2022-03-18T13:12:14.537Z"
   },
   {
    "duration": 148,
    "start_time": "2022-03-18T13:12:26.370Z"
   },
   {
    "duration": 172,
    "start_time": "2022-03-18T13:12:29.982Z"
   },
   {
    "duration": 15,
    "start_time": "2022-03-18T13:12:33.091Z"
   },
   {
    "duration": 22,
    "start_time": "2022-03-18T13:12:38.514Z"
   },
   {
    "duration": 15,
    "start_time": "2022-03-18T13:17:39.328Z"
   },
   {
    "duration": 16,
    "start_time": "2022-03-18T13:17:58.088Z"
   },
   {
    "duration": 16,
    "start_time": "2022-03-18T13:18:13.949Z"
   },
   {
    "duration": 34,
    "start_time": "2022-03-18T13:20:16.772Z"
   },
   {
    "duration": 106,
    "start_time": "2022-03-18T15:08:41.739Z"
   },
   {
    "duration": 9,
    "start_time": "2022-03-18T15:08:47.383Z"
   },
   {
    "duration": 180,
    "start_time": "2022-03-18T15:09:24.123Z"
   },
   {
    "duration": 1193,
    "start_time": "2022-03-18T15:10:20.970Z"
   },
   {
    "duration": 104,
    "start_time": "2022-03-18T15:11:42.001Z"
   },
   {
    "duration": 177,
    "start_time": "2022-03-18T15:50:06.430Z"
   },
   {
    "duration": 15,
    "start_time": "2022-03-18T15:57:54.224Z"
   },
   {
    "duration": 6981,
    "start_time": "2022-03-18T15:58:05.293Z"
   },
   {
    "duration": 17,
    "start_time": "2022-03-18T16:16:46.966Z"
   },
   {
    "duration": 860,
    "start_time": "2022-03-18T16:16:55.216Z"
   },
   {
    "duration": 27,
    "start_time": "2022-03-18T16:17:22.513Z"
   },
   {
    "duration": 12,
    "start_time": "2022-03-18T16:17:41.857Z"
   },
   {
    "duration": 15,
    "start_time": "2022-03-18T16:29:36.409Z"
   },
   {
    "duration": 8,
    "start_time": "2022-03-18T17:22:40.007Z"
   },
   {
    "duration": 183,
    "start_time": "2022-03-18T17:22:51.103Z"
   },
   {
    "duration": 15,
    "start_time": "2022-03-18T17:22:58.583Z"
   },
   {
    "duration": 950,
    "start_time": "2022-03-18T17:23:10.876Z"
   },
   {
    "duration": 346746,
    "start_time": "2022-03-18T17:24:24.618Z"
   },
   {
    "duration": 29,
    "start_time": "2022-03-18T17:43:55.063Z"
   },
   {
    "duration": 20,
    "start_time": "2022-03-18T18:18:51.260Z"
   },
   {
    "duration": 17,
    "start_time": "2022-03-18T18:18:59.282Z"
   },
   {
    "duration": 10,
    "start_time": "2022-03-18T18:19:06.023Z"
   },
   {
    "duration": 19,
    "start_time": "2022-03-18T18:19:45.334Z"
   },
   {
    "duration": 57,
    "start_time": "2022-03-18T18:19:58.686Z"
   },
   {
    "duration": 25,
    "start_time": "2022-03-18T18:20:08.595Z"
   },
   {
    "duration": 36,
    "start_time": "2022-03-18T18:20:21.485Z"
   },
   {
    "duration": 20,
    "start_time": "2022-03-18T18:20:37.909Z"
   },
   {
    "duration": 31,
    "start_time": "2022-03-18T18:20:46.272Z"
   },
   {
    "duration": 26,
    "start_time": "2022-03-18T18:22:36.196Z"
   },
   {
    "duration": 13,
    "start_time": "2022-03-18T18:23:00.033Z"
   },
   {
    "duration": 40,
    "start_time": "2022-03-18T18:23:03.881Z"
   },
   {
    "duration": 1897,
    "start_time": "2022-03-19T07:32:34.250Z"
   },
   {
    "duration": 4,
    "start_time": "2022-03-19T07:32:36.150Z"
   },
   {
    "duration": 89,
    "start_time": "2022-03-19T07:32:36.156Z"
   },
   {
    "duration": 20,
    "start_time": "2022-03-19T07:32:36.247Z"
   },
   {
    "duration": 21,
    "start_time": "2022-03-19T07:32:36.271Z"
   },
   {
    "duration": 60,
    "start_time": "2022-03-19T07:32:36.294Z"
   },
   {
    "duration": 355,
    "start_time": "2022-03-19T07:32:36.357Z"
   },
   {
    "duration": 202,
    "start_time": "2022-03-19T07:32:36.715Z"
   },
   {
    "duration": 827,
    "start_time": "2022-03-19T07:32:36.919Z"
   },
   {
    "duration": 1559,
    "start_time": "2022-03-19T07:32:37.748Z"
   },
   {
    "duration": 426,
    "start_time": "2022-03-19T07:32:39.309Z"
   },
   {
    "duration": 50,
    "start_time": "2022-03-19T07:32:39.738Z"
   },
   {
    "duration": 21,
    "start_time": "2022-03-19T07:32:39.791Z"
   },
   {
    "duration": 49,
    "start_time": "2022-03-19T07:32:39.816Z"
   },
   {
    "duration": 19,
    "start_time": "2022-03-19T07:32:39.868Z"
   },
   {
    "duration": 54,
    "start_time": "2022-03-19T07:32:39.889Z"
   },
   {
    "duration": 346,
    "start_time": "2022-03-19T07:32:39.946Z"
   },
   {
    "duration": 15,
    "start_time": "2022-03-19T07:32:40.295Z"
   },
   {
    "duration": 48,
    "start_time": "2022-03-19T07:32:40.313Z"
   },
   {
    "duration": 241,
    "start_time": "2022-03-19T07:35:07.306Z"
   },
   {
    "duration": 17,
    "start_time": "2022-03-19T07:35:15.351Z"
   },
   {
    "duration": 14,
    "start_time": "2022-03-19T07:36:53.609Z"
   },
   {
    "duration": 14,
    "start_time": "2022-03-19T07:37:14.879Z"
   },
   {
    "duration": 12,
    "start_time": "2022-03-19T07:37:21.509Z"
   },
   {
    "duration": 13,
    "start_time": "2022-03-19T07:41:42.811Z"
   },
   {
    "duration": 13,
    "start_time": "2022-03-19T07:42:59.820Z"
   },
   {
    "duration": 13,
    "start_time": "2022-03-19T07:45:17.075Z"
   },
   {
    "duration": 13,
    "start_time": "2022-03-19T07:46:10.132Z"
   },
   {
    "duration": 11,
    "start_time": "2022-03-19T07:47:15.339Z"
   },
   {
    "duration": 14,
    "start_time": "2022-03-19T07:47:28.367Z"
   },
   {
    "duration": 16,
    "start_time": "2022-03-19T07:47:40.176Z"
   },
   {
    "duration": 17,
    "start_time": "2022-03-19T07:47:48.304Z"
   },
   {
    "duration": 16,
    "start_time": "2022-03-19T07:48:41.425Z"
   },
   {
    "duration": 17,
    "start_time": "2022-03-19T07:48:57.696Z"
   },
   {
    "duration": 168,
    "start_time": "2022-03-19T07:52:14.686Z"
   },
   {
    "duration": 11,
    "start_time": "2022-03-19T07:52:36.853Z"
   },
   {
    "duration": 17,
    "start_time": "2022-03-19T07:52:44.078Z"
   },
   {
    "duration": 12,
    "start_time": "2022-03-19T07:52:59.323Z"
   },
   {
    "duration": 18,
    "start_time": "2022-03-19T07:54:19.291Z"
   },
   {
    "duration": 3657,
    "start_time": "2022-03-19T07:54:30.909Z"
   },
   {
    "duration": 0,
    "start_time": "2022-03-19T07:54:34.569Z"
   },
   {
    "duration": 13,
    "start_time": "2022-03-19T07:54:42.045Z"
   },
   {
    "duration": 12,
    "start_time": "2022-03-19T07:54:44.512Z"
   },
   {
    "duration": 14,
    "start_time": "2022-03-19T07:54:45.086Z"
   },
   {
    "duration": 13,
    "start_time": "2022-03-19T07:54:49.360Z"
   },
   {
    "duration": 17,
    "start_time": "2022-03-19T07:54:50.748Z"
   },
   {
    "duration": 19,
    "start_time": "2022-03-19T07:54:52.185Z"
   },
   {
    "duration": 16,
    "start_time": "2022-03-19T07:54:53.397Z"
   },
   {
    "duration": 20,
    "start_time": "2022-03-19T07:54:54.122Z"
   },
   {
    "duration": 16,
    "start_time": "2022-03-19T07:54:57.047Z"
   },
   {
    "duration": 5,
    "start_time": "2022-03-19T07:54:57.065Z"
   },
   {
    "duration": 318,
    "start_time": "2022-03-19T07:54:57.073Z"
   },
   {
    "duration": 14,
    "start_time": "2022-03-19T07:54:57.393Z"
   },
   {
    "duration": 18,
    "start_time": "2022-03-19T07:54:57.410Z"
   },
   {
    "duration": 26,
    "start_time": "2022-03-19T07:54:57.430Z"
   },
   {
    "duration": 342,
    "start_time": "2022-03-19T07:54:57.458Z"
   },
   {
    "duration": 203,
    "start_time": "2022-03-19T07:54:57.803Z"
   },
   {
    "duration": 856,
    "start_time": "2022-03-19T07:54:58.009Z"
   },
   {
    "duration": 1512,
    "start_time": "2022-03-19T07:54:58.867Z"
   },
   {
    "duration": 376,
    "start_time": "2022-03-19T07:55:00.381Z"
   },
   {
    "duration": 56,
    "start_time": "2022-03-19T07:55:00.760Z"
   },
   {
    "duration": 47,
    "start_time": "2022-03-19T07:55:00.819Z"
   },
   {
    "duration": 27,
    "start_time": "2022-03-19T07:55:00.871Z"
   },
   {
    "duration": 22,
    "start_time": "2022-03-19T07:55:00.901Z"
   },
   {
    "duration": 31,
    "start_time": "2022-03-19T07:55:00.943Z"
   },
   {
    "duration": 389,
    "start_time": "2022-03-19T07:55:00.977Z"
   },
   {
    "duration": 14,
    "start_time": "2022-03-19T07:55:01.369Z"
   },
   {
    "duration": 45,
    "start_time": "2022-03-19T07:55:01.386Z"
   },
   {
    "duration": 236,
    "start_time": "2022-03-19T07:55:01.447Z"
   },
   {
    "duration": 12,
    "start_time": "2022-03-19T07:55:01.686Z"
   },
   {
    "duration": 14,
    "start_time": "2022-03-19T07:55:01.701Z"
   },
   {
    "duration": 13,
    "start_time": "2022-03-19T07:55:17.538Z"
   },
   {
    "duration": 13,
    "start_time": "2022-03-19T07:55:36.212Z"
   },
   {
    "duration": 11,
    "start_time": "2022-03-19T07:55:55.103Z"
   },
   {
    "duration": 12,
    "start_time": "2022-03-19T07:56:01.665Z"
   },
   {
    "duration": 28,
    "start_time": "2022-03-19T08:00:07.996Z"
   },
   {
    "duration": 22,
    "start_time": "2022-03-19T08:00:52.063Z"
   },
   {
    "duration": 15,
    "start_time": "2022-03-19T08:01:01.436Z"
   },
   {
    "duration": 4,
    "start_time": "2022-03-19T08:01:06.698Z"
   },
   {
    "duration": 5,
    "start_time": "2022-03-19T08:01:06.706Z"
   },
   {
    "duration": 391,
    "start_time": "2022-03-19T08:01:06.714Z"
   },
   {
    "duration": 15,
    "start_time": "2022-03-19T08:01:07.108Z"
   },
   {
    "duration": 20,
    "start_time": "2022-03-19T08:01:07.128Z"
   },
   {
    "duration": 25,
    "start_time": "2022-03-19T08:01:07.150Z"
   },
   {
    "duration": 445,
    "start_time": "2022-03-19T08:01:07.178Z"
   },
   {
    "duration": 211,
    "start_time": "2022-03-19T08:01:07.626Z"
   },
   {
    "duration": 959,
    "start_time": "2022-03-19T08:01:07.842Z"
   },
   {
    "duration": 1417,
    "start_time": "2022-03-19T08:01:08.803Z"
   },
   {
    "duration": 349,
    "start_time": "2022-03-19T08:01:10.223Z"
   },
   {
    "duration": 70,
    "start_time": "2022-03-19T08:01:10.575Z"
   },
   {
    "duration": 24,
    "start_time": "2022-03-19T08:01:10.648Z"
   },
   {
    "duration": 26,
    "start_time": "2022-03-19T08:01:10.676Z"
   },
   {
    "duration": 54,
    "start_time": "2022-03-19T08:01:10.705Z"
   },
   {
    "duration": 24,
    "start_time": "2022-03-19T08:01:10.761Z"
   },
   {
    "duration": 379,
    "start_time": "2022-03-19T08:01:10.788Z"
   },
   {
    "duration": 15,
    "start_time": "2022-03-19T08:01:11.169Z"
   },
   {
    "duration": 27,
    "start_time": "2022-03-19T08:01:11.187Z"
   },
   {
    "duration": 34,
    "start_time": "2022-03-19T08:01:11.216Z"
   },
   {
    "duration": 12,
    "start_time": "2022-03-19T08:01:11.252Z"
   },
   {
    "duration": 11,
    "start_time": "2022-03-19T08:01:11.266Z"
   },
   {
    "duration": 6,
    "start_time": "2022-03-19T08:01:28.926Z"
   },
   {
    "duration": 8,
    "start_time": "2022-03-19T08:01:28.934Z"
   },
   {
    "duration": 266,
    "start_time": "2022-03-19T08:01:28.945Z"
   },
   {
    "duration": 14,
    "start_time": "2022-03-19T08:01:29.214Z"
   },
   {
    "duration": 19,
    "start_time": "2022-03-19T08:01:29.231Z"
   },
   {
    "duration": 24,
    "start_time": "2022-03-19T08:01:29.252Z"
   },
   {
    "duration": 357,
    "start_time": "2022-03-19T08:01:29.278Z"
   },
   {
    "duration": 323,
    "start_time": "2022-03-19T08:01:29.637Z"
   },
   {
    "duration": 832,
    "start_time": "2022-03-19T08:01:29.962Z"
   },
   {
    "duration": 1872,
    "start_time": "2022-03-19T08:01:30.797Z"
   },
   {
    "duration": 352,
    "start_time": "2022-03-19T08:01:32.671Z"
   },
   {
    "duration": 61,
    "start_time": "2022-03-19T08:01:33.025Z"
   },
   {
    "duration": 23,
    "start_time": "2022-03-19T08:01:33.088Z"
   },
   {
    "duration": 47,
    "start_time": "2022-03-19T08:01:33.115Z"
   },
   {
    "duration": 20,
    "start_time": "2022-03-19T08:01:33.165Z"
   },
   {
    "duration": 21,
    "start_time": "2022-03-19T08:01:33.187Z"
   },
   {
    "duration": 458,
    "start_time": "2022-03-19T08:01:33.243Z"
   },
   {
    "duration": 15,
    "start_time": "2022-03-19T08:01:33.704Z"
   },
   {
    "duration": 42,
    "start_time": "2022-03-19T08:01:33.721Z"
   },
   {
    "duration": 9,
    "start_time": "2022-03-19T08:01:33.765Z"
   },
   {
    "duration": 12,
    "start_time": "2022-03-19T08:01:33.776Z"
   },
   {
    "duration": 17,
    "start_time": "2022-03-19T08:01:50.882Z"
   },
   {
    "duration": 17,
    "start_time": "2022-03-19T08:03:24.680Z"
   },
   {
    "duration": 3,
    "start_time": "2022-03-19T08:03:54.701Z"
   },
   {
    "duration": 7,
    "start_time": "2022-03-19T08:03:54.707Z"
   },
   {
    "duration": 288,
    "start_time": "2022-03-19T08:03:54.717Z"
   },
   {
    "duration": 15,
    "start_time": "2022-03-19T08:03:55.007Z"
   },
   {
    "duration": 19,
    "start_time": "2022-03-19T08:03:55.028Z"
   },
   {
    "duration": 26,
    "start_time": "2022-03-19T08:03:55.049Z"
   },
   {
    "duration": 341,
    "start_time": "2022-03-19T08:03:55.077Z"
   },
   {
    "duration": 205,
    "start_time": "2022-03-19T08:03:55.421Z"
   },
   {
    "duration": 827,
    "start_time": "2022-03-19T08:03:55.628Z"
   },
   {
    "duration": 1407,
    "start_time": "2022-03-19T08:03:56.457Z"
   },
   {
    "duration": 347,
    "start_time": "2022-03-19T08:03:57.866Z"
   },
   {
    "duration": 186,
    "start_time": "2022-03-19T08:03:58.215Z"
   },
   {
    "duration": 41,
    "start_time": "2022-03-19T08:03:58.403Z"
   },
   {
    "duration": 25,
    "start_time": "2022-03-19T08:03:58.448Z"
   },
   {
    "duration": 20,
    "start_time": "2022-03-19T08:03:58.475Z"
   },
   {
    "duration": 53,
    "start_time": "2022-03-19T08:03:58.497Z"
   },
   {
    "duration": 342,
    "start_time": "2022-03-19T08:03:58.553Z"
   },
   {
    "duration": 14,
    "start_time": "2022-03-19T08:03:58.897Z"
   },
   {
    "duration": 43,
    "start_time": "2022-03-19T08:03:58.913Z"
   },
   {
    "duration": 12,
    "start_time": "2022-03-19T08:03:58.958Z"
   },
   {
    "duration": 18,
    "start_time": "2022-03-19T08:03:58.972Z"
   },
   {
    "duration": 51,
    "start_time": "2022-03-19T08:03:58.992Z"
   },
   {
    "duration": 12,
    "start_time": "2022-03-19T08:04:12.571Z"
   },
   {
    "duration": 5,
    "start_time": "2022-03-19T08:04:14.038Z"
   },
   {
    "duration": 6,
    "start_time": "2022-03-19T08:04:14.045Z"
   },
   {
    "duration": 319,
    "start_time": "2022-03-19T08:04:14.053Z"
   },
   {
    "duration": 16,
    "start_time": "2022-03-19T08:04:14.375Z"
   },
   {
    "duration": 22,
    "start_time": "2022-03-19T08:04:14.394Z"
   },
   {
    "duration": 34,
    "start_time": "2022-03-19T08:04:14.418Z"
   },
   {
    "duration": 343,
    "start_time": "2022-03-19T08:04:14.454Z"
   },
   {
    "duration": 211,
    "start_time": "2022-03-19T08:04:14.799Z"
   },
   {
    "duration": 826,
    "start_time": "2022-03-19T08:04:15.012Z"
   },
   {
    "duration": 1532,
    "start_time": "2022-03-19T08:04:15.842Z"
   },
   {
    "duration": 353,
    "start_time": "2022-03-19T08:04:17.376Z"
   },
   {
    "duration": 66,
    "start_time": "2022-03-19T08:04:17.731Z"
   },
   {
    "duration": 22,
    "start_time": "2022-03-19T08:04:17.800Z"
   },
   {
    "duration": 25,
    "start_time": "2022-03-19T08:04:17.844Z"
   },
   {
    "duration": 19,
    "start_time": "2022-03-19T08:04:17.871Z"
   },
   {
    "duration": 56,
    "start_time": "2022-03-19T08:04:17.892Z"
   },
   {
    "duration": 348,
    "start_time": "2022-03-19T08:04:17.950Z"
   },
   {
    "duration": 14,
    "start_time": "2022-03-19T08:04:18.300Z"
   },
   {
    "duration": 47,
    "start_time": "2022-03-19T08:04:18.316Z"
   },
   {
    "duration": 10,
    "start_time": "2022-03-19T08:04:18.366Z"
   },
   {
    "duration": 17,
    "start_time": "2022-03-19T08:04:18.378Z"
   },
   {
    "duration": 46,
    "start_time": "2022-03-19T08:04:18.398Z"
   },
   {
    "duration": 9,
    "start_time": "2022-03-19T08:05:25.521Z"
   },
   {
    "duration": 17,
    "start_time": "2022-03-19T08:05:33.229Z"
   },
   {
    "duration": 16,
    "start_time": "2022-03-19T08:05:45.785Z"
   },
   {
    "duration": 1400,
    "start_time": "2022-03-19T11:04:58.794Z"
   },
   {
    "duration": 3,
    "start_time": "2022-03-19T11:05:00.196Z"
   },
   {
    "duration": 250,
    "start_time": "2022-03-19T11:05:00.201Z"
   },
   {
    "duration": 13,
    "start_time": "2022-03-19T11:05:00.453Z"
   },
   {
    "duration": 22,
    "start_time": "2022-03-19T11:05:00.467Z"
   },
   {
    "duration": 18,
    "start_time": "2022-03-19T11:05:00.490Z"
   },
   {
    "duration": 193,
    "start_time": "2022-03-19T11:05:00.509Z"
   },
   {
    "duration": 114,
    "start_time": "2022-03-19T11:05:00.704Z"
   },
   {
    "duration": 494,
    "start_time": "2022-03-19T11:05:00.819Z"
   },
   {
    "duration": 1100,
    "start_time": "2022-03-19T11:05:01.315Z"
   },
   {
    "duration": 196,
    "start_time": "2022-03-19T11:05:02.417Z"
   },
   {
    "duration": 36,
    "start_time": "2022-03-19T11:05:02.615Z"
   },
   {
    "duration": 23,
    "start_time": "2022-03-19T11:05:02.652Z"
   },
   {
    "duration": 16,
    "start_time": "2022-03-19T11:05:02.677Z"
   },
   {
    "duration": 14,
    "start_time": "2022-03-19T11:05:02.695Z"
   },
   {
    "duration": 18,
    "start_time": "2022-03-19T11:05:02.710Z"
   },
   {
    "duration": 228,
    "start_time": "2022-03-19T11:05:02.730Z"
   },
   {
    "duration": 14,
    "start_time": "2022-03-19T11:05:02.960Z"
   },
   {
    "duration": 23,
    "start_time": "2022-03-19T11:05:02.976Z"
   },
   {
    "duration": 8,
    "start_time": "2022-03-19T11:05:03.001Z"
   },
   {
    "duration": 10,
    "start_time": "2022-03-19T11:05:03.011Z"
   },
   {
    "duration": 11,
    "start_time": "2022-03-19T11:07:09.889Z"
   },
   {
    "duration": 10,
    "start_time": "2022-03-19T11:08:18.844Z"
   },
   {
    "duration": 13,
    "start_time": "2022-03-19T11:12:14.063Z"
   },
   {
    "duration": 3,
    "start_time": "2022-03-19T11:12:32.456Z"
   },
   {
    "duration": 6,
    "start_time": "2022-03-19T11:12:32.461Z"
   },
   {
    "duration": 287,
    "start_time": "2022-03-19T11:12:32.468Z"
   },
   {
    "duration": 11,
    "start_time": "2022-03-19T11:12:32.757Z"
   },
   {
    "duration": 24,
    "start_time": "2022-03-19T11:12:32.771Z"
   },
   {
    "duration": 21,
    "start_time": "2022-03-19T11:12:32.796Z"
   },
   {
    "duration": 181,
    "start_time": "2022-03-19T11:12:32.818Z"
   },
   {
    "duration": 111,
    "start_time": "2022-03-19T11:12:33.001Z"
   },
   {
    "duration": 484,
    "start_time": "2022-03-19T11:12:33.114Z"
   },
   {
    "duration": 926,
    "start_time": "2022-03-19T11:12:33.600Z"
   },
   {
    "duration": 199,
    "start_time": "2022-03-19T11:12:34.528Z"
   },
   {
    "duration": 55,
    "start_time": "2022-03-19T11:12:34.728Z"
   },
   {
    "duration": 15,
    "start_time": "2022-03-19T11:12:34.785Z"
   },
   {
    "duration": 17,
    "start_time": "2022-03-19T11:12:34.803Z"
   },
   {
    "duration": 14,
    "start_time": "2022-03-19T11:12:34.821Z"
   },
   {
    "duration": 40,
    "start_time": "2022-03-19T11:12:34.836Z"
   },
   {
    "duration": 296,
    "start_time": "2022-03-19T11:12:34.878Z"
   },
   {
    "duration": 13,
    "start_time": "2022-03-19T11:12:35.176Z"
   },
   {
    "duration": 53,
    "start_time": "2022-03-19T11:12:35.191Z"
   },
   {
    "duration": 2,
    "start_time": "2022-03-19T11:12:35.246Z"
   },
   {
    "duration": 32,
    "start_time": "2022-03-19T11:12:35.250Z"
   },
   {
    "duration": 34,
    "start_time": "2022-03-19T11:12:35.283Z"
   },
   {
    "duration": 11,
    "start_time": "2022-03-19T11:13:12.834Z"
   },
   {
    "duration": 47,
    "start_time": "2022-03-19T11:14:01.837Z"
   },
   {
    "duration": 17,
    "start_time": "2022-03-19T11:14:05.521Z"
   },
   {
    "duration": 23,
    "start_time": "2022-03-19T11:14:13.270Z"
   },
   {
    "duration": 12,
    "start_time": "2022-03-19T11:14:15.967Z"
   },
   {
    "duration": 17,
    "start_time": "2022-03-19T11:14:25.297Z"
   },
   {
    "duration": 189,
    "start_time": "2022-03-19T11:14:28.035Z"
   },
   {
    "duration": 11,
    "start_time": "2022-03-19T11:14:32.950Z"
   },
   {
    "duration": 24,
    "start_time": "2022-03-19T11:14:35.642Z"
   },
   {
    "duration": 8,
    "start_time": "2022-03-19T11:14:39.574Z"
   },
   {
    "duration": 12,
    "start_time": "2022-03-19T11:14:41.203Z"
   },
   {
    "duration": 154,
    "start_time": "2022-03-19T11:15:29.690Z"
   },
   {
    "duration": 118,
    "start_time": "2022-03-19T11:16:12.380Z"
   },
   {
    "duration": 7,
    "start_time": "2022-03-19T11:16:19.359Z"
   },
   {
    "duration": 4,
    "start_time": "2022-03-19T11:16:29.927Z"
   },
   {
    "duration": 4,
    "start_time": "2022-03-19T11:19:09.027Z"
   },
   {
    "duration": 8,
    "start_time": "2022-03-19T11:19:09.032Z"
   },
   {
    "duration": 244,
    "start_time": "2022-03-19T11:19:09.041Z"
   },
   {
    "duration": 15,
    "start_time": "2022-03-19T11:19:09.287Z"
   },
   {
    "duration": 22,
    "start_time": "2022-03-19T11:19:09.305Z"
   },
   {
    "duration": 18,
    "start_time": "2022-03-19T11:19:09.329Z"
   },
   {
    "duration": 195,
    "start_time": "2022-03-19T11:19:09.348Z"
   },
   {
    "duration": 111,
    "start_time": "2022-03-19T11:19:09.545Z"
   },
   {
    "duration": 479,
    "start_time": "2022-03-19T11:19:09.663Z"
   },
   {
    "duration": 798,
    "start_time": "2022-03-19T11:19:10.143Z"
   },
   {
    "duration": 305,
    "start_time": "2022-03-19T11:19:10.943Z"
   },
   {
    "duration": 48,
    "start_time": "2022-03-19T11:19:13.954Z"
   },
   {
    "duration": 11,
    "start_time": "2022-03-19T11:19:22.521Z"
   },
   {
    "duration": 15,
    "start_time": "2022-03-19T11:19:31.761Z"
   },
   {
    "duration": 14,
    "start_time": "2022-03-19T11:20:02.880Z"
   },
   {
    "duration": 18,
    "start_time": "2022-03-19T11:20:05.791Z"
   },
   {
    "duration": 14,
    "start_time": "2022-03-19T11:21:54.407Z"
   },
   {
    "duration": 25,
    "start_time": "2022-03-19T11:22:01.689Z"
   },
   {
    "duration": 9,
    "start_time": "2022-03-19T11:22:11.168Z"
   },
   {
    "duration": 9,
    "start_time": "2022-03-19T11:22:31.304Z"
   },
   {
    "duration": 24,
    "start_time": "2022-03-19T11:25:36.291Z"
   },
   {
    "duration": 19,
    "start_time": "2022-03-19T11:26:14.894Z"
   },
   {
    "duration": 27,
    "start_time": "2022-03-19T11:26:51.436Z"
   },
   {
    "duration": 25,
    "start_time": "2022-03-19T11:27:18.058Z"
   },
   {
    "duration": 22,
    "start_time": "2022-03-19T11:27:27.445Z"
   },
   {
    "duration": 21,
    "start_time": "2022-03-19T11:27:37.828Z"
   },
   {
    "duration": 22,
    "start_time": "2022-03-19T11:27:48.967Z"
   },
   {
    "duration": 26,
    "start_time": "2022-03-19T11:28:37.984Z"
   },
   {
    "duration": 29,
    "start_time": "2022-03-19T11:29:03.140Z"
   },
   {
    "duration": 13,
    "start_time": "2022-03-19T11:29:14.743Z"
   },
   {
    "duration": 18,
    "start_time": "2022-03-19T11:29:38.917Z"
   },
   {
    "duration": 19,
    "start_time": "2022-03-19T11:29:43.832Z"
   },
   {
    "duration": 17,
    "start_time": "2022-03-19T11:30:06.624Z"
   },
   {
    "duration": 23,
    "start_time": "2022-03-19T11:30:09.539Z"
   },
   {
    "duration": 18,
    "start_time": "2022-03-19T11:33:02.841Z"
   },
   {
    "duration": 17,
    "start_time": "2022-03-19T11:33:14.344Z"
   },
   {
    "duration": 19,
    "start_time": "2022-03-19T11:33:51.671Z"
   },
   {
    "duration": 21,
    "start_time": "2022-03-19T11:35:15.232Z"
   },
   {
    "duration": 20,
    "start_time": "2022-03-19T11:35:30.447Z"
   },
   {
    "duration": 20,
    "start_time": "2022-03-19T11:35:39.989Z"
   },
   {
    "duration": 17,
    "start_time": "2022-03-19T11:36:37.451Z"
   },
   {
    "duration": 26,
    "start_time": "2022-03-19T11:37:32.574Z"
   },
   {
    "duration": 13,
    "start_time": "2022-03-19T11:41:54.046Z"
   },
   {
    "duration": 20,
    "start_time": "2022-03-19T11:42:23.428Z"
   },
   {
    "duration": 19,
    "start_time": "2022-03-19T11:42:29.855Z"
   },
   {
    "duration": 13,
    "start_time": "2022-03-19T11:42:58.063Z"
   },
   {
    "duration": 14,
    "start_time": "2022-03-19T11:43:01.113Z"
   },
   {
    "duration": 19,
    "start_time": "2022-03-19T11:43:08.613Z"
   },
   {
    "duration": 24,
    "start_time": "2022-03-19T11:44:16.797Z"
   },
   {
    "duration": 23,
    "start_time": "2022-03-19T11:45:21.802Z"
   },
   {
    "duration": 24,
    "start_time": "2022-03-19T11:57:46.933Z"
   },
   {
    "duration": 28,
    "start_time": "2022-03-19T11:57:54.857Z"
   },
   {
    "duration": 18,
    "start_time": "2022-03-19T11:57:58.211Z"
   },
   {
    "duration": 15,
    "start_time": "2022-03-19T12:02:02.062Z"
   },
   {
    "duration": 17,
    "start_time": "2022-03-19T12:02:05.689Z"
   },
   {
    "duration": 18,
    "start_time": "2022-03-19T12:02:10.025Z"
   },
   {
    "duration": 20,
    "start_time": "2022-03-19T12:02:16.286Z"
   },
   {
    "duration": 21,
    "start_time": "2022-03-19T12:02:38.990Z"
   },
   {
    "duration": 14,
    "start_time": "2022-03-19T12:03:12.620Z"
   },
   {
    "duration": 20,
    "start_time": "2022-03-19T12:03:22.200Z"
   },
   {
    "duration": 22,
    "start_time": "2022-03-19T12:03:46.940Z"
   },
   {
    "duration": 29,
    "start_time": "2022-03-19T12:04:10.526Z"
   },
   {
    "duration": 18,
    "start_time": "2022-03-19T12:04:21.217Z"
   },
   {
    "duration": 16,
    "start_time": "2022-03-19T12:04:26.986Z"
   },
   {
    "duration": 24,
    "start_time": "2022-03-19T14:45:10.278Z"
   },
   {
    "duration": 44,
    "start_time": "2022-03-19T14:46:01.746Z"
   },
   {
    "duration": 138,
    "start_time": "2022-03-19T14:46:17.686Z"
   },
   {
    "duration": 39,
    "start_time": "2022-03-19T14:46:23.915Z"
   },
   {
    "duration": 24,
    "start_time": "2022-03-19T14:46:27.693Z"
   },
   {
    "duration": 30,
    "start_time": "2022-03-19T14:46:38.603Z"
   },
   {
    "duration": 68,
    "start_time": "2022-03-19T14:46:42.729Z"
   },
   {
    "duration": 43,
    "start_time": "2022-03-19T14:47:25.224Z"
   },
   {
    "duration": 133,
    "start_time": "2022-03-19T14:47:34.071Z"
   },
   {
    "duration": 26,
    "start_time": "2022-03-19T14:47:37.735Z"
   },
   {
    "duration": 24,
    "start_time": "2022-03-19T14:47:43.489Z"
   },
   {
    "duration": 46,
    "start_time": "2022-03-19T14:48:05.745Z"
   },
   {
    "duration": 7,
    "start_time": "2022-03-19T14:48:45.485Z"
   },
   {
    "duration": 8,
    "start_time": "2022-03-19T14:48:55.882Z"
   },
   {
    "duration": 7,
    "start_time": "2022-03-19T14:49:02.173Z"
   },
   {
    "duration": 7,
    "start_time": "2022-03-19T14:49:05.608Z"
   },
   {
    "duration": 3,
    "start_time": "2022-03-19T14:51:12.647Z"
   },
   {
    "duration": 6,
    "start_time": "2022-03-19T14:51:12.651Z"
   },
   {
    "duration": 249,
    "start_time": "2022-03-19T14:51:12.658Z"
   },
   {
    "duration": 9,
    "start_time": "2022-03-19T14:51:12.909Z"
   },
   {
    "duration": 14,
    "start_time": "2022-03-19T14:51:12.920Z"
   },
   {
    "duration": 18,
    "start_time": "2022-03-19T14:51:12.936Z"
   },
   {
    "duration": 179,
    "start_time": "2022-03-19T14:51:12.955Z"
   },
   {
    "duration": 113,
    "start_time": "2022-03-19T14:51:13.135Z"
   },
   {
    "duration": 592,
    "start_time": "2022-03-19T14:51:13.250Z"
   },
   {
    "duration": 848,
    "start_time": "2022-03-19T14:51:13.844Z"
   },
   {
    "duration": 207,
    "start_time": "2022-03-19T14:51:14.693Z"
   },
   {
    "duration": 46,
    "start_time": "2022-03-19T14:51:22.126Z"
   },
   {
    "duration": 22,
    "start_time": "2022-03-19T14:52:01.244Z"
   },
   {
    "duration": 18,
    "start_time": "2022-03-19T14:52:05.913Z"
   },
   {
    "duration": 37,
    "start_time": "2022-03-19T14:52:08.500Z"
   },
   {
    "duration": 10,
    "start_time": "2022-03-19T14:53:51.893Z"
   },
   {
    "duration": 7,
    "start_time": "2022-03-19T14:53:59.566Z"
   },
   {
    "duration": 5,
    "start_time": "2022-03-19T14:54:03.362Z"
   },
   {
    "duration": 4,
    "start_time": "2022-03-19T14:54:08.568Z"
   },
   {
    "duration": 168,
    "start_time": "2022-03-19T14:55:13.240Z"
   },
   {
    "duration": 10,
    "start_time": "2022-03-19T15:03:06.925Z"
   },
   {
    "duration": 169,
    "start_time": "2022-03-19T15:03:13.106Z"
   },
   {
    "duration": 16,
    "start_time": "2022-03-19T15:03:20.352Z"
   },
   {
    "duration": 7,
    "start_time": "2022-03-19T15:03:36.120Z"
   },
   {
    "duration": 14,
    "start_time": "2022-03-19T15:03:52.587Z"
   },
   {
    "duration": 20,
    "start_time": "2022-03-19T15:03:59.677Z"
   },
   {
    "duration": 31,
    "start_time": "2022-03-19T15:04:08.573Z"
   },
   {
    "duration": 15,
    "start_time": "2022-03-19T15:04:41.947Z"
   },
   {
    "duration": 13,
    "start_time": "2022-03-19T15:04:52.918Z"
   },
   {
    "duration": 15,
    "start_time": "2022-03-19T15:05:03.230Z"
   },
   {
    "duration": 15,
    "start_time": "2022-03-19T15:05:44.421Z"
   },
   {
    "duration": 199,
    "start_time": "2022-03-19T15:05:47.401Z"
   },
   {
    "duration": 19,
    "start_time": "2022-03-19T15:06:13.308Z"
   },
   {
    "duration": 3,
    "start_time": "2022-03-19T15:06:34.430Z"
   },
   {
    "duration": 3,
    "start_time": "2022-03-19T15:06:36.958Z"
   },
   {
    "duration": 5,
    "start_time": "2022-03-19T15:06:36.964Z"
   },
   {
    "duration": 288,
    "start_time": "2022-03-19T15:06:36.971Z"
   },
   {
    "duration": 13,
    "start_time": "2022-03-19T15:06:37.261Z"
   },
   {
    "duration": 14,
    "start_time": "2022-03-19T15:06:37.277Z"
   },
   {
    "duration": 21,
    "start_time": "2022-03-19T15:06:37.293Z"
   },
   {
    "duration": 187,
    "start_time": "2022-03-19T15:06:37.316Z"
   },
   {
    "duration": 110,
    "start_time": "2022-03-19T15:06:37.505Z"
   },
   {
    "duration": 610,
    "start_time": "2022-03-19T15:06:37.617Z"
   },
   {
    "duration": 813,
    "start_time": "2022-03-19T15:06:38.228Z"
   },
   {
    "duration": 181,
    "start_time": "2022-03-19T15:06:39.043Z"
   },
   {
    "duration": 51,
    "start_time": "2022-03-19T15:06:39.226Z"
   },
   {
    "duration": 175,
    "start_time": "2022-03-19T15:06:39.279Z"
   },
   {
    "duration": 21,
    "start_time": "2022-03-19T15:06:39.456Z"
   },
   {
    "duration": 300,
    "start_time": "2022-03-19T15:06:39.479Z"
   },
   {
    "duration": 24,
    "start_time": "2022-03-19T15:06:39.781Z"
   },
   {
    "duration": 3,
    "start_time": "2022-03-19T15:06:39.807Z"
   },
   {
    "duration": 18,
    "start_time": "2022-03-19T15:07:42.673Z"
   },
   {
    "duration": 16,
    "start_time": "2022-03-19T15:07:46.458Z"
   },
   {
    "duration": 17,
    "start_time": "2022-03-19T15:08:57.997Z"
   },
   {
    "duration": 13,
    "start_time": "2022-03-19T15:09:15.804Z"
   },
   {
    "duration": 17,
    "start_time": "2022-03-19T15:09:39.404Z"
   },
   {
    "duration": 14,
    "start_time": "2022-03-19T15:10:18.147Z"
   },
   {
    "duration": 3,
    "start_time": "2022-03-19T15:10:53.022Z"
   },
   {
    "duration": 16,
    "start_time": "2022-03-19T15:10:59.283Z"
   },
   {
    "duration": 21,
    "start_time": "2022-03-19T15:11:22.712Z"
   },
   {
    "duration": 301,
    "start_time": "2022-03-19T15:15:40.233Z"
   },
   {
    "duration": 13,
    "start_time": "2022-03-19T15:15:45.021Z"
   },
   {
    "duration": 197,
    "start_time": "2022-03-19T15:15:45.995Z"
   },
   {
    "duration": 6,
    "start_time": "2022-03-19T15:17:13.000Z"
   },
   {
    "duration": 167,
    "start_time": "2022-03-19T15:18:10.712Z"
   },
   {
    "duration": 33,
    "start_time": "2022-03-19T15:19:19.252Z"
   },
   {
    "duration": 171,
    "start_time": "2022-03-19T15:20:55.169Z"
   },
   {
    "duration": 7,
    "start_time": "2022-03-19T15:20:57.998Z"
   },
   {
    "duration": 21,
    "start_time": "2022-03-19T15:21:01.410Z"
   },
   {
    "duration": 16,
    "start_time": "2022-03-19T15:21:22.199Z"
   },
   {
    "duration": 169,
    "start_time": "2022-03-19T15:21:47.811Z"
   },
   {
    "duration": 16,
    "start_time": "2022-03-19T15:21:49.869Z"
   },
   {
    "duration": 19,
    "start_time": "2022-03-19T17:47:16.591Z"
   },
   {
    "duration": 19,
    "start_time": "2022-03-19T17:47:28.761Z"
   },
   {
    "duration": 16,
    "start_time": "2022-03-19T17:48:00.835Z"
   },
   {
    "duration": 24,
    "start_time": "2022-03-19T17:49:12.136Z"
   },
   {
    "duration": 13,
    "start_time": "2022-03-19T18:41:15.805Z"
   },
   {
    "duration": 24,
    "start_time": "2022-03-19T18:41:19.096Z"
   },
   {
    "duration": 11,
    "start_time": "2022-03-19T18:43:47.068Z"
   },
   {
    "duration": 179,
    "start_time": "2022-03-19T18:43:48.230Z"
   },
   {
    "duration": 16,
    "start_time": "2022-03-19T18:44:26.639Z"
   },
   {
    "duration": 14,
    "start_time": "2022-03-19T18:45:07.983Z"
   },
   {
    "duration": 10,
    "start_time": "2022-03-19T18:45:14.203Z"
   },
   {
    "duration": 15,
    "start_time": "2022-03-19T18:45:16.383Z"
   },
   {
    "duration": 2535,
    "start_time": "2022-03-19T18:51:40.751Z"
   },
   {
    "duration": 17,
    "start_time": "2022-03-19T18:51:52.478Z"
   },
   {
    "duration": 3,
    "start_time": "2022-03-19T18:52:03.298Z"
   },
   {
    "duration": 5,
    "start_time": "2022-03-19T18:52:03.303Z"
   },
   {
    "duration": 6,
    "start_time": "2022-03-19T18:52:03.309Z"
   },
   {
    "duration": 251,
    "start_time": "2022-03-19T18:52:03.316Z"
   },
   {
    "duration": 10,
    "start_time": "2022-03-19T18:52:03.570Z"
   },
   {
    "duration": 15,
    "start_time": "2022-03-19T18:52:03.582Z"
   },
   {
    "duration": 23,
    "start_time": "2022-03-19T18:52:03.598Z"
   },
   {
    "duration": 192,
    "start_time": "2022-03-19T18:52:03.623Z"
   },
   {
    "duration": 116,
    "start_time": "2022-03-19T18:52:03.817Z"
   },
   {
    "duration": 464,
    "start_time": "2022-03-19T18:52:03.935Z"
   },
   {
    "duration": 944,
    "start_time": "2022-03-19T18:52:04.401Z"
   },
   {
    "duration": 185,
    "start_time": "2022-03-19T18:52:05.347Z"
   },
   {
    "duration": 182,
    "start_time": "2022-03-19T18:52:05.533Z"
   },
   {
    "duration": 12,
    "start_time": "2022-03-19T18:52:05.718Z"
   },
   {
    "duration": 199,
    "start_time": "2022-03-19T18:52:05.731Z"
   },
   {
    "duration": 7,
    "start_time": "2022-03-19T18:52:05.932Z"
   },
   {
    "duration": 30,
    "start_time": "2022-03-19T18:52:05.941Z"
   },
   {
    "duration": 2,
    "start_time": "2022-03-19T18:52:05.973Z"
   },
   {
    "duration": 6,
    "start_time": "2022-03-19T18:52:21.237Z"
   },
   {
    "duration": 10,
    "start_time": "2022-03-19T18:56:09.814Z"
   },
   {
    "duration": 7,
    "start_time": "2022-03-19T18:57:43.899Z"
   },
   {
    "duration": 12,
    "start_time": "2022-03-19T18:57:44.986Z"
   },
   {
    "duration": 11,
    "start_time": "2022-03-19T18:58:02.928Z"
   },
   {
    "duration": 14,
    "start_time": "2022-03-19T18:58:31.498Z"
   },
   {
    "duration": 8,
    "start_time": "2022-03-19T18:59:13.952Z"
   },
   {
    "duration": 14,
    "start_time": "2022-03-19T18:59:38.592Z"
   },
   {
    "duration": 5,
    "start_time": "2022-03-19T18:59:47.871Z"
   },
   {
    "duration": 11,
    "start_time": "2022-03-19T19:00:32.145Z"
   },
   {
    "duration": 7,
    "start_time": "2022-03-19T19:00:45.025Z"
   },
   {
    "duration": 11,
    "start_time": "2022-03-19T19:02:33.598Z"
   },
   {
    "duration": 11,
    "start_time": "2022-03-19T19:16:03.213Z"
   },
   {
    "duration": 7,
    "start_time": "2022-03-19T19:16:12.222Z"
   },
   {
    "duration": 11,
    "start_time": "2022-03-19T19:17:29.360Z"
   },
   {
    "duration": 12,
    "start_time": "2022-03-19T19:17:36.467Z"
   },
   {
    "duration": 18,
    "start_time": "2022-03-19T19:19:22.847Z"
   },
   {
    "duration": 6,
    "start_time": "2022-03-19T19:23:05.650Z"
   },
   {
    "duration": 11,
    "start_time": "2022-03-19T19:41:43.312Z"
   },
   {
    "duration": 10,
    "start_time": "2022-03-19T19:41:45.989Z"
   },
   {
    "duration": 5,
    "start_time": "2022-03-19T19:42:40.006Z"
   },
   {
    "duration": 46,
    "start_time": "2022-03-19T19:44:00.908Z"
   },
   {
    "duration": 1197,
    "start_time": "2022-03-19T19:44:10.047Z"
   },
   {
    "duration": 3,
    "start_time": "2022-03-19T19:44:11.246Z"
   },
   {
    "duration": 5,
    "start_time": "2022-03-19T19:44:11.250Z"
   },
   {
    "duration": 248,
    "start_time": "2022-03-19T19:44:11.257Z"
   },
   {
    "duration": 14,
    "start_time": "2022-03-19T19:44:11.507Z"
   },
   {
    "duration": 15,
    "start_time": "2022-03-19T19:44:11.523Z"
   },
   {
    "duration": 19,
    "start_time": "2022-03-19T19:44:11.540Z"
   },
   {
    "duration": 198,
    "start_time": "2022-03-19T19:44:11.560Z"
   },
   {
    "duration": 105,
    "start_time": "2022-03-19T19:44:11.760Z"
   },
   {
    "duration": 456,
    "start_time": "2022-03-19T19:44:11.866Z"
   },
   {
    "duration": 896,
    "start_time": "2022-03-19T19:44:12.323Z"
   },
   {
    "duration": 172,
    "start_time": "2022-03-19T19:44:13.221Z"
   },
   {
    "duration": 178,
    "start_time": "2022-03-19T19:44:13.395Z"
   },
   {
    "duration": 11,
    "start_time": "2022-03-19T19:44:13.576Z"
   },
   {
    "duration": 197,
    "start_time": "2022-03-19T19:44:13.588Z"
   },
   {
    "duration": 7,
    "start_time": "2022-03-19T19:44:13.786Z"
   },
   {
    "duration": 6,
    "start_time": "2022-03-19T19:44:13.795Z"
   },
   {
    "duration": 17,
    "start_time": "2022-03-19T19:44:13.803Z"
   },
   {
    "duration": 6,
    "start_time": "2022-03-19T19:44:13.821Z"
   },
   {
    "duration": 7,
    "start_time": "2022-03-19T19:44:13.828Z"
   },
   {
    "duration": 29,
    "start_time": "2022-03-19T19:44:13.836Z"
   },
   {
    "duration": 48,
    "start_time": "2022-03-19T19:44:13.867Z"
   },
   {
    "duration": 12,
    "start_time": "2022-03-19T19:44:55.156Z"
   },
   {
    "duration": 99140,
    "start_time": "2022-03-19T19:45:05.072Z"
   },
   {
    "duration": 14,
    "start_time": "2022-03-19T19:47:03.134Z"
   },
   {
    "duration": 11,
    "start_time": "2022-03-19T19:51:37.742Z"
   },
   {
    "duration": 13,
    "start_time": "2022-03-19T19:51:44.749Z"
   },
   {
    "duration": 13,
    "start_time": "2022-03-19T19:54:31.537Z"
   },
   {
    "duration": 33,
    "start_time": "2022-03-19T19:56:33.436Z"
   },
   {
    "duration": 66,
    "start_time": "2022-03-19T19:56:45.284Z"
   },
   {
    "duration": 9,
    "start_time": "2022-03-19T19:57:19.075Z"
   },
   {
    "duration": 6,
    "start_time": "2022-03-19T19:57:27.873Z"
   },
   {
    "duration": 9,
    "start_time": "2022-03-19T19:57:36.250Z"
   },
   {
    "duration": 9,
    "start_time": "2022-03-19T19:57:40.064Z"
   },
   {
    "duration": 5,
    "start_time": "2022-03-19T19:57:43.739Z"
   },
   {
    "duration": 7,
    "start_time": "2022-03-19T19:57:48.129Z"
   },
   {
    "duration": 4,
    "start_time": "2022-03-19T20:00:29.463Z"
   },
   {
    "duration": 11,
    "start_time": "2022-03-19T20:00:32.650Z"
   },
   {
    "duration": 10,
    "start_time": "2022-03-19T20:00:50.992Z"
   },
   {
    "duration": 5,
    "start_time": "2022-03-19T20:01:02.401Z"
   },
   {
    "duration": 4,
    "start_time": "2022-03-19T20:01:29.095Z"
   },
   {
    "duration": 3,
    "start_time": "2022-03-19T20:02:49.764Z"
   },
   {
    "duration": 727,
    "start_time": "2022-03-19T20:03:06.413Z"
   },
   {
    "duration": 735,
    "start_time": "2022-03-19T20:03:17.910Z"
   },
   {
    "duration": 632,
    "start_time": "2022-03-19T20:04:10.210Z"
   },
   {
    "duration": 7,
    "start_time": "2022-03-19T20:04:55.036Z"
   },
   {
    "duration": 8,
    "start_time": "2022-03-19T20:05:08.062Z"
   },
   {
    "duration": 18,
    "start_time": "2022-03-19T20:05:14.127Z"
   },
   {
    "duration": 7,
    "start_time": "2022-03-19T20:05:17.903Z"
   },
   {
    "duration": 6,
    "start_time": "2022-03-19T20:05:24.945Z"
   },
   {
    "duration": 23,
    "start_time": "2022-03-19T20:05:49.998Z"
   },
   {
    "duration": 7,
    "start_time": "2022-03-19T20:05:55.011Z"
   },
   {
    "duration": 4,
    "start_time": "2022-03-19T20:07:44.616Z"
   },
   {
    "duration": 5,
    "start_time": "2022-03-19T20:07:51.081Z"
   },
   {
    "duration": 3,
    "start_time": "2022-03-19T20:09:44.956Z"
   },
   {
    "duration": 5,
    "start_time": "2022-03-19T20:09:45.971Z"
   },
   {
    "duration": 20,
    "start_time": "2022-03-19T20:09:50.935Z"
   },
   {
    "duration": 3,
    "start_time": "2022-03-19T20:12:01.998Z"
   },
   {
    "duration": 4,
    "start_time": "2022-03-19T20:12:03.481Z"
   },
   {
    "duration": 15,
    "start_time": "2022-03-19T20:12:05.081Z"
   },
   {
    "duration": 4,
    "start_time": "2022-03-19T20:12:44.653Z"
   },
   {
    "duration": 15,
    "start_time": "2022-03-19T20:12:49.726Z"
   },
   {
    "duration": 4,
    "start_time": "2022-03-19T20:13:24.544Z"
   },
   {
    "duration": 5,
    "start_time": "2022-03-19T20:13:30.443Z"
   },
   {
    "duration": 16,
    "start_time": "2022-03-19T20:13:33.473Z"
   },
   {
    "duration": 13264,
    "start_time": "2022-03-19T20:14:06.687Z"
   },
   {
    "duration": 17,
    "start_time": "2022-03-19T20:16:29.783Z"
   },
   {
    "duration": 12,
    "start_time": "2022-03-19T20:18:06.158Z"
   },
   {
    "duration": 13725,
    "start_time": "2022-03-19T20:18:14.896Z"
   },
   {
    "duration": 13918,
    "start_time": "2022-03-19T20:19:26.551Z"
   },
   {
    "duration": 15,
    "start_time": "2022-03-19T20:20:41.622Z"
   },
   {
    "duration": 3,
    "start_time": "2022-03-19T20:21:48.818Z"
   },
   {
    "duration": 4,
    "start_time": "2022-03-19T20:21:48.823Z"
   },
   {
    "duration": 5,
    "start_time": "2022-03-19T20:21:48.829Z"
   },
   {
    "duration": 248,
    "start_time": "2022-03-19T20:21:48.836Z"
   },
   {
    "duration": 10,
    "start_time": "2022-03-19T20:21:49.086Z"
   },
   {
    "duration": 14,
    "start_time": "2022-03-19T20:21:49.097Z"
   },
   {
    "duration": 17,
    "start_time": "2022-03-19T20:21:49.113Z"
   },
   {
    "duration": 179,
    "start_time": "2022-03-19T20:21:49.131Z"
   },
   {
    "duration": 121,
    "start_time": "2022-03-19T20:21:49.311Z"
   },
   {
    "duration": 465,
    "start_time": "2022-03-19T20:21:49.434Z"
   },
   {
    "duration": 1066,
    "start_time": "2022-03-19T20:21:49.901Z"
   },
   {
    "duration": 194,
    "start_time": "2022-03-19T20:21:50.969Z"
   },
   {
    "duration": 165,
    "start_time": "2022-03-19T20:21:51.164Z"
   },
   {
    "duration": 11,
    "start_time": "2022-03-19T20:21:51.332Z"
   },
   {
    "duration": 196,
    "start_time": "2022-03-19T20:21:51.345Z"
   },
   {
    "duration": 8,
    "start_time": "2022-03-19T20:21:51.542Z"
   },
   {
    "duration": 6,
    "start_time": "2022-03-19T20:21:51.562Z"
   },
   {
    "duration": 16,
    "start_time": "2022-03-19T20:21:51.570Z"
   },
   {
    "duration": 8,
    "start_time": "2022-03-19T20:21:51.587Z"
   },
   {
    "duration": 6,
    "start_time": "2022-03-19T20:21:51.597Z"
   },
   {
    "duration": 11,
    "start_time": "2022-03-19T20:21:51.605Z"
   },
   {
    "duration": 14,
    "start_time": "2022-03-19T20:23:32.105Z"
   },
   {
    "duration": 4,
    "start_time": "2022-03-19T20:23:44.284Z"
   },
   {
    "duration": 5,
    "start_time": "2022-03-19T20:23:44.290Z"
   },
   {
    "duration": 4,
    "start_time": "2022-03-19T20:23:44.297Z"
   },
   {
    "duration": 275,
    "start_time": "2022-03-19T20:23:44.303Z"
   },
   {
    "duration": 9,
    "start_time": "2022-03-19T20:23:44.581Z"
   },
   {
    "duration": 13,
    "start_time": "2022-03-19T20:23:44.592Z"
   },
   {
    "duration": 18,
    "start_time": "2022-03-19T20:23:44.607Z"
   },
   {
    "duration": 189,
    "start_time": "2022-03-19T20:23:44.627Z"
   },
   {
    "duration": 110,
    "start_time": "2022-03-19T20:23:44.818Z"
   },
   {
    "duration": 457,
    "start_time": "2022-03-19T20:23:44.929Z"
   },
   {
    "duration": 1041,
    "start_time": "2022-03-19T20:23:45.387Z"
   },
   {
    "duration": 183,
    "start_time": "2022-03-19T20:23:46.430Z"
   },
   {
    "duration": 170,
    "start_time": "2022-03-19T20:23:46.615Z"
   },
   {
    "duration": 12,
    "start_time": "2022-03-19T20:23:46.787Z"
   },
   {
    "duration": 206,
    "start_time": "2022-03-19T20:23:46.800Z"
   },
   {
    "duration": 7,
    "start_time": "2022-03-19T20:23:47.008Z"
   },
   {
    "duration": 19,
    "start_time": "2022-03-19T20:23:47.016Z"
   },
   {
    "duration": 7,
    "start_time": "2022-03-19T20:24:06.066Z"
   },
   {
    "duration": 6,
    "start_time": "2022-03-19T20:24:11.815Z"
   },
   {
    "duration": 10,
    "start_time": "2022-03-19T20:24:29.296Z"
   },
   {
    "duration": 6,
    "start_time": "2022-03-19T20:24:38.683Z"
   },
   {
    "duration": 6,
    "start_time": "2022-03-19T20:24:50.056Z"
   },
   {
    "duration": 16,
    "start_time": "2022-03-19T20:29:02.425Z"
   },
   {
    "duration": 13,
    "start_time": "2022-03-19T20:29:17.283Z"
   },
   {
    "duration": 8,
    "start_time": "2022-03-19T20:29:46.922Z"
   },
   {
    "duration": 9,
    "start_time": "2022-03-19T20:29:57.559Z"
   },
   {
    "duration": 16,
    "start_time": "2022-03-19T20:30:08.479Z"
   },
   {
    "duration": 18,
    "start_time": "2022-03-19T20:30:32.848Z"
   },
   {
    "duration": 16,
    "start_time": "2022-03-19T20:34:09.457Z"
   },
   {
    "duration": 10,
    "start_time": "2022-03-19T20:34:19.472Z"
   },
   {
    "duration": 12,
    "start_time": "2022-03-19T20:34:51.188Z"
   },
   {
    "duration": 11,
    "start_time": "2022-03-19T20:35:07.125Z"
   },
   {
    "duration": 193,
    "start_time": "2022-03-19T20:45:04.053Z"
   },
   {
    "duration": 13,
    "start_time": "2022-03-19T21:07:14.939Z"
   },
   {
    "duration": 3,
    "start_time": "2022-03-19T21:09:20.219Z"
   },
   {
    "duration": 10,
    "start_time": "2022-03-19T21:09:32.146Z"
   },
   {
    "duration": 8,
    "start_time": "2022-03-19T21:09:35.309Z"
   },
   {
    "duration": 196,
    "start_time": "2022-03-19T21:10:28.400Z"
   },
   {
    "duration": 191,
    "start_time": "2022-03-19T21:10:35.162Z"
   },
   {
    "duration": 157,
    "start_time": "2022-03-19T21:10:49.825Z"
   },
   {
    "duration": 150,
    "start_time": "2022-03-19T21:10:55.255Z"
   },
   {
    "duration": 172,
    "start_time": "2022-03-19T21:11:15.861Z"
   },
   {
    "duration": 165,
    "start_time": "2022-03-19T21:12:00.999Z"
   },
   {
    "duration": 143,
    "start_time": "2022-03-19T21:12:10.431Z"
   },
   {
    "duration": 143,
    "start_time": "2022-03-19T21:12:19.039Z"
   },
   {
    "duration": 143,
    "start_time": "2022-03-19T21:13:00.088Z"
   },
   {
    "duration": 4,
    "start_time": "2022-03-19T21:15:31.051Z"
   },
   {
    "duration": 19,
    "start_time": "2022-03-19T21:15:31.057Z"
   },
   {
    "duration": 9,
    "start_time": "2022-03-19T21:15:31.078Z"
   },
   {
    "duration": 665,
    "start_time": "2022-03-19T21:15:31.089Z"
   },
   {
    "duration": 17,
    "start_time": "2022-03-19T21:15:31.757Z"
   },
   {
    "duration": 11,
    "start_time": "2022-03-19T21:15:31.777Z"
   },
   {
    "duration": 17,
    "start_time": "2022-03-19T21:15:31.789Z"
   },
   {
    "duration": 19,
    "start_time": "2022-03-19T21:15:31.808Z"
   },
   {
    "duration": 216,
    "start_time": "2022-03-19T21:15:31.828Z"
   },
   {
    "duration": 181,
    "start_time": "2022-03-19T21:15:32.046Z"
   },
   {
    "duration": 800,
    "start_time": "2022-03-19T21:15:32.229Z"
   },
   {
    "duration": 1227,
    "start_time": "2022-03-19T21:15:33.031Z"
   },
   {
    "duration": 286,
    "start_time": "2022-03-19T21:15:34.260Z"
   },
   {
    "duration": 730,
    "start_time": "2022-03-19T21:15:34.549Z"
   },
   {
    "duration": 16,
    "start_time": "2022-03-19T21:15:35.282Z"
   },
   {
    "duration": 313,
    "start_time": "2022-03-19T21:15:35.300Z"
   },
   {
    "duration": 8,
    "start_time": "2022-03-19T21:15:35.616Z"
   },
   {
    "duration": 18,
    "start_time": "2022-03-19T21:15:35.625Z"
   },
   {
    "duration": 26,
    "start_time": "2022-03-19T21:15:35.644Z"
   },
   {
    "duration": 6,
    "start_time": "2022-03-19T21:15:35.672Z"
   },
   {
    "duration": 3,
    "start_time": "2022-03-19T21:21:34.459Z"
   },
   {
    "duration": 8,
    "start_time": "2022-03-19T21:21:47.763Z"
   },
   {
    "duration": 9,
    "start_time": "2022-03-19T21:21:50.193Z"
   },
   {
    "duration": 4,
    "start_time": "2022-03-19T21:23:07.809Z"
   },
   {
    "duration": 4,
    "start_time": "2022-03-19T21:23:10.051Z"
   },
   {
    "duration": 7,
    "start_time": "2022-03-19T21:23:10.057Z"
   },
   {
    "duration": 7,
    "start_time": "2022-03-19T21:23:10.066Z"
   },
   {
    "duration": 582,
    "start_time": "2022-03-19T21:23:10.075Z"
   },
   {
    "duration": 4,
    "start_time": "2022-03-19T21:23:10.659Z"
   },
   {
    "duration": 11,
    "start_time": "2022-03-19T21:23:10.665Z"
   },
   {
    "duration": 15,
    "start_time": "2022-03-19T21:23:10.678Z"
   },
   {
    "duration": 12,
    "start_time": "2022-03-19T21:23:10.695Z"
   },
   {
    "duration": 14,
    "start_time": "2022-03-19T21:23:10.709Z"
   },
   {
    "duration": 16,
    "start_time": "2022-03-19T21:23:10.725Z"
   },
   {
    "duration": 184,
    "start_time": "2022-03-19T21:23:10.764Z"
   },
   {
    "duration": 117,
    "start_time": "2022-03-19T21:23:10.949Z"
   },
   {
    "duration": 505,
    "start_time": "2022-03-19T21:23:11.069Z"
   },
   {
    "duration": 945,
    "start_time": "2022-03-19T21:23:11.578Z"
   },
   {
    "duration": 204,
    "start_time": "2022-03-19T21:23:12.525Z"
   },
   {
    "duration": 317,
    "start_time": "2022-03-19T21:23:12.731Z"
   },
   {
    "duration": 21,
    "start_time": "2022-03-19T21:23:13.049Z"
   },
   {
    "duration": 209,
    "start_time": "2022-03-19T21:23:13.073Z"
   },
   {
    "duration": 8,
    "start_time": "2022-03-19T21:23:13.283Z"
   },
   {
    "duration": 6,
    "start_time": "2022-03-19T21:23:13.293Z"
   },
   {
    "duration": 19,
    "start_time": "2022-03-19T21:23:13.300Z"
   },
   {
    "duration": 6,
    "start_time": "2022-03-19T21:23:13.321Z"
   },
   {
    "duration": 3,
    "start_time": "2022-03-19T21:24:47.666Z"
   },
   {
    "duration": 5,
    "start_time": "2022-03-19T21:24:47.671Z"
   },
   {
    "duration": 6,
    "start_time": "2022-03-19T21:24:47.678Z"
   },
   {
    "duration": 328,
    "start_time": "2022-03-19T21:24:47.686Z"
   },
   {
    "duration": 5,
    "start_time": "2022-03-19T21:24:48.017Z"
   },
   {
    "duration": 10,
    "start_time": "2022-03-19T21:24:48.023Z"
   },
   {
    "duration": 9,
    "start_time": "2022-03-19T21:24:48.035Z"
   },
   {
    "duration": 14,
    "start_time": "2022-03-19T21:24:48.045Z"
   },
   {
    "duration": 15,
    "start_time": "2022-03-19T21:24:48.061Z"
   },
   {
    "duration": 20,
    "start_time": "2022-03-19T21:24:48.078Z"
   },
   {
    "duration": 199,
    "start_time": "2022-03-19T21:24:48.100Z"
   },
   {
    "duration": 122,
    "start_time": "2022-03-19T21:24:48.301Z"
   },
   {
    "duration": 479,
    "start_time": "2022-03-19T21:24:48.425Z"
   },
   {
    "duration": 1117,
    "start_time": "2022-03-19T21:24:48.908Z"
   },
   {
    "duration": 197,
    "start_time": "2022-03-19T21:24:50.028Z"
   },
   {
    "duration": 190,
    "start_time": "2022-03-19T21:24:50.227Z"
   },
   {
    "duration": 13,
    "start_time": "2022-03-19T21:24:50.420Z"
   },
   {
    "duration": 213,
    "start_time": "2022-03-19T21:24:50.435Z"
   },
   {
    "duration": 16,
    "start_time": "2022-03-19T21:24:50.650Z"
   },
   {
    "duration": 11,
    "start_time": "2022-03-19T21:24:50.668Z"
   },
   {
    "duration": 25,
    "start_time": "2022-03-19T21:24:50.681Z"
   },
   {
    "duration": 5,
    "start_time": "2022-03-19T21:24:50.708Z"
   },
   {
    "duration": 4,
    "start_time": "2022-03-19T21:25:01.162Z"
   },
   {
    "duration": 7,
    "start_time": "2022-03-19T21:25:01.169Z"
   },
   {
    "duration": 6,
    "start_time": "2022-03-19T21:25:01.178Z"
   },
   {
    "duration": 264,
    "start_time": "2022-03-19T21:25:01.185Z"
   },
   {
    "duration": 4,
    "start_time": "2022-03-19T21:25:01.452Z"
   },
   {
    "duration": 19,
    "start_time": "2022-03-19T21:25:01.458Z"
   },
   {
    "duration": 10,
    "start_time": "2022-03-19T21:25:01.479Z"
   },
   {
    "duration": 16,
    "start_time": "2022-03-19T21:25:01.491Z"
   },
   {
    "duration": 26,
    "start_time": "2022-03-19T21:25:01.509Z"
   },
   {
    "duration": 201,
    "start_time": "2022-03-19T21:25:01.537Z"
   },
   {
    "duration": 122,
    "start_time": "2022-03-19T21:25:01.741Z"
   },
   {
    "duration": 492,
    "start_time": "2022-03-19T21:25:01.865Z"
   },
   {
    "duration": 805,
    "start_time": "2022-03-19T21:25:02.362Z"
   },
   {
    "duration": 193,
    "start_time": "2022-03-19T21:25:03.170Z"
   },
   {
    "duration": 187,
    "start_time": "2022-03-19T21:25:03.365Z"
   },
   {
    "duration": 13,
    "start_time": "2022-03-19T21:25:03.554Z"
   },
   {
    "duration": 210,
    "start_time": "2022-03-19T21:25:03.568Z"
   },
   {
    "duration": 9,
    "start_time": "2022-03-19T21:25:03.780Z"
   },
   {
    "duration": 7,
    "start_time": "2022-03-19T21:25:03.791Z"
   },
   {
    "duration": 20,
    "start_time": "2022-03-19T21:25:03.800Z"
   },
   {
    "duration": 6,
    "start_time": "2022-03-19T21:25:03.822Z"
   },
   {
    "duration": 1841,
    "start_time": "2022-03-20T06:24:30.716Z"
   },
   {
    "duration": 10,
    "start_time": "2022-03-20T06:24:32.561Z"
   },
   {
    "duration": 4,
    "start_time": "2022-03-20T06:24:32.583Z"
   },
   {
    "duration": 326,
    "start_time": "2022-03-20T06:24:32.590Z"
   },
   {
    "duration": 5,
    "start_time": "2022-03-20T06:24:32.919Z"
   },
   {
    "duration": 23,
    "start_time": "2022-03-20T06:24:32.926Z"
   },
   {
    "duration": 23,
    "start_time": "2022-03-20T06:24:32.951Z"
   },
   {
    "duration": 20,
    "start_time": "2022-03-20T06:24:32.979Z"
   },
   {
    "duration": 25,
    "start_time": "2022-03-20T06:24:33.002Z"
   },
   {
    "duration": 360,
    "start_time": "2022-03-20T06:24:33.030Z"
   },
   {
    "duration": 198,
    "start_time": "2022-03-20T06:24:33.392Z"
   },
   {
    "duration": 838,
    "start_time": "2022-03-20T06:24:33.592Z"
   },
   {
    "duration": 1491,
    "start_time": "2022-03-20T06:24:34.433Z"
   },
   {
    "duration": 308,
    "start_time": "2022-03-20T06:24:35.930Z"
   },
   {
    "duration": 254,
    "start_time": "2022-03-20T06:24:36.241Z"
   },
   {
    "duration": 15,
    "start_time": "2022-03-20T06:24:36.497Z"
   },
   {
    "duration": 354,
    "start_time": "2022-03-20T06:24:36.514Z"
   },
   {
    "duration": 12,
    "start_time": "2022-03-20T06:24:36.870Z"
   },
   {
    "duration": 11,
    "start_time": "2022-03-20T06:24:36.884Z"
   },
   {
    "duration": 26,
    "start_time": "2022-03-20T06:24:36.897Z"
   },
   {
    "duration": 8,
    "start_time": "2022-03-20T06:24:36.925Z"
   },
   {
    "duration": 20,
    "start_time": "2022-03-20T06:25:23.459Z"
   },
   {
    "duration": 32,
    "start_time": "2022-03-20T06:25:31.640Z"
   },
   {
    "duration": 162,
    "start_time": "2022-03-20T06:25:58.025Z"
   },
   {
    "duration": 14,
    "start_time": "2022-03-20T06:26:08.620Z"
   },
   {
    "duration": 34,
    "start_time": "2022-03-20T06:26:17.084Z"
   },
   {
    "duration": 19,
    "start_time": "2022-03-20T06:26:31.226Z"
   },
   {
    "duration": 16,
    "start_time": "2022-03-20T06:27:25.524Z"
   },
   {
    "duration": 22,
    "start_time": "2022-03-20T06:27:35.818Z"
   },
   {
    "duration": 17,
    "start_time": "2022-03-20T06:27:59.047Z"
   },
   {
    "duration": 15,
    "start_time": "2022-03-20T06:28:17.987Z"
   },
   {
    "duration": 148,
    "start_time": "2022-03-20T06:51:14.595Z"
   },
   {
    "duration": 16,
    "start_time": "2022-03-20T06:51:52.449Z"
   },
   {
    "duration": 21,
    "start_time": "2022-03-20T06:51:59.640Z"
   },
   {
    "duration": 21,
    "start_time": "2022-03-20T06:52:09.770Z"
   },
   {
    "duration": 19,
    "start_time": "2022-03-20T06:52:27.659Z"
   },
   {
    "duration": 13,
    "start_time": "2022-03-20T07:13:39.582Z"
   },
   {
    "duration": 8,
    "start_time": "2022-03-20T07:13:48.908Z"
   },
   {
    "duration": 8,
    "start_time": "2022-03-20T07:13:55.301Z"
   },
   {
    "duration": 9,
    "start_time": "2022-03-20T07:14:01.480Z"
   },
   {
    "duration": 19,
    "start_time": "2022-03-20T07:16:18.196Z"
   },
   {
    "duration": 19,
    "start_time": "2022-03-20T07:17:10.905Z"
   },
   {
    "duration": 18,
    "start_time": "2022-03-20T07:19:55.482Z"
   },
   {
    "duration": 19,
    "start_time": "2022-03-20T07:20:11.889Z"
   },
   {
    "duration": 18,
    "start_time": "2022-03-20T07:20:40.381Z"
   },
   {
    "duration": 18,
    "start_time": "2022-03-20T07:21:04.413Z"
   },
   {
    "duration": 25,
    "start_time": "2022-03-20T07:21:40.065Z"
   },
   {
    "duration": 20,
    "start_time": "2022-03-20T07:22:39.411Z"
   },
   {
    "duration": 18,
    "start_time": "2022-03-20T07:23:37.811Z"
   },
   {
    "duration": 17,
    "start_time": "2022-03-20T07:25:02.388Z"
   },
   {
    "duration": 18,
    "start_time": "2022-03-20T07:25:18.124Z"
   },
   {
    "duration": 18,
    "start_time": "2022-03-20T07:25:21.418Z"
   },
   {
    "duration": 19,
    "start_time": "2022-03-20T07:25:58.844Z"
   },
   {
    "duration": 26,
    "start_time": "2022-03-20T07:26:39.423Z"
   },
   {
    "duration": 21,
    "start_time": "2022-03-20T07:28:55.901Z"
   },
   {
    "duration": 22,
    "start_time": "2022-03-20T07:29:16.956Z"
   },
   {
    "duration": 19,
    "start_time": "2022-03-20T07:29:27.882Z"
   },
   {
    "duration": 9,
    "start_time": "2022-03-20T07:29:48.465Z"
   },
   {
    "duration": 14,
    "start_time": "2022-03-20T07:29:51.039Z"
   },
   {
    "duration": 27,
    "start_time": "2022-03-20T07:30:02.261Z"
   },
   {
    "duration": 161,
    "start_time": "2022-03-20T07:30:17.908Z"
   },
   {
    "duration": 16,
    "start_time": "2022-03-20T07:30:23.014Z"
   },
   {
    "duration": 26,
    "start_time": "2022-03-20T07:30:26.568Z"
   },
   {
    "duration": 19,
    "start_time": "2022-03-20T07:31:14.182Z"
   },
   {
    "duration": 17,
    "start_time": "2022-03-20T07:31:29.389Z"
   },
   {
    "duration": 175,
    "start_time": "2022-03-20T07:31:48.042Z"
   },
   {
    "duration": 14,
    "start_time": "2022-03-20T07:31:50.098Z"
   },
   {
    "duration": 31,
    "start_time": "2022-03-20T07:32:09.351Z"
   },
   {
    "duration": 228,
    "start_time": "2022-03-20T07:32:29.533Z"
   },
   {
    "duration": 18,
    "start_time": "2022-03-20T07:32:32.632Z"
   },
   {
    "duration": 20,
    "start_time": "2022-03-20T07:32:47.978Z"
   },
   {
    "duration": 191,
    "start_time": "2022-03-20T07:33:06.222Z"
   },
   {
    "duration": 14,
    "start_time": "2022-03-20T07:33:09.503Z"
   },
   {
    "duration": 19,
    "start_time": "2022-03-20T07:33:49.724Z"
   },
   {
    "duration": 207,
    "start_time": "2022-03-20T07:33:59.095Z"
   },
   {
    "duration": 14,
    "start_time": "2022-03-20T07:34:01.663Z"
   },
   {
    "duration": 20,
    "start_time": "2022-03-20T07:34:29.874Z"
   },
   {
    "duration": 219,
    "start_time": "2022-03-20T07:34:46.666Z"
   },
   {
    "duration": 16,
    "start_time": "2022-03-20T07:34:48.854Z"
   },
   {
    "duration": 22,
    "start_time": "2022-03-20T07:34:58.595Z"
   },
   {
    "duration": 18,
    "start_time": "2022-03-20T07:35:13.411Z"
   },
   {
    "duration": 271,
    "start_time": "2022-03-20T07:35:29.725Z"
   },
   {
    "duration": 16,
    "start_time": "2022-03-20T07:35:31.437Z"
   },
   {
    "duration": 19,
    "start_time": "2022-03-20T07:35:54.985Z"
   },
   {
    "duration": 21,
    "start_time": "2022-03-20T07:36:09.576Z"
   },
   {
    "duration": 20,
    "start_time": "2022-03-20T07:36:43.581Z"
   },
   {
    "duration": 229,
    "start_time": "2022-03-20T07:37:11.516Z"
   },
   {
    "duration": 15,
    "start_time": "2022-03-20T07:37:17.585Z"
   },
   {
    "duration": 24,
    "start_time": "2022-03-20T07:37:33.551Z"
   },
   {
    "duration": 15,
    "start_time": "2022-03-20T07:37:50.510Z"
   },
   {
    "duration": 15,
    "start_time": "2022-03-20T07:37:53.040Z"
   },
   {
    "duration": 19,
    "start_time": "2022-03-20T07:37:56.872Z"
   },
   {
    "duration": 26,
    "start_time": "2022-03-20T07:38:01.033Z"
   },
   {
    "duration": 296,
    "start_time": "2022-03-20T07:38:11.696Z"
   },
   {
    "duration": 191,
    "start_time": "2022-03-20T07:38:16.237Z"
   },
   {
    "duration": 785,
    "start_time": "2022-03-20T07:38:19.985Z"
   },
   {
    "duration": 4,
    "start_time": "2022-03-20T07:38:23.372Z"
   },
   {
    "duration": 6,
    "start_time": "2022-03-20T07:38:23.379Z"
   },
   {
    "duration": 7,
    "start_time": "2022-03-20T07:38:23.388Z"
   },
   {
    "duration": 260,
    "start_time": "2022-03-20T07:38:23.398Z"
   },
   {
    "duration": 24,
    "start_time": "2022-03-20T07:38:23.662Z"
   },
   {
    "duration": 248,
    "start_time": "2022-03-20T07:38:23.689Z"
   },
   {
    "duration": 17,
    "start_time": "2022-03-20T07:38:23.939Z"
   },
   {
    "duration": 13,
    "start_time": "2022-03-20T07:38:23.968Z"
   },
   {
    "duration": 20,
    "start_time": "2022-03-20T07:38:23.984Z"
   },
   {
    "duration": 62,
    "start_time": "2022-03-20T07:38:24.006Z"
   },
   {
    "duration": 313,
    "start_time": "2022-03-20T07:38:24.070Z"
   },
   {
    "duration": 298,
    "start_time": "2022-03-20T07:38:24.386Z"
   },
   {
    "duration": 784,
    "start_time": "2022-03-20T07:38:24.687Z"
   },
   {
    "duration": 1303,
    "start_time": "2022-03-20T07:38:25.475Z"
   },
   {
    "duration": 311,
    "start_time": "2022-03-20T07:38:26.780Z"
   },
   {
    "duration": 233,
    "start_time": "2022-03-20T07:38:27.093Z"
   },
   {
    "duration": 16,
    "start_time": "2022-03-20T07:38:27.329Z"
   },
   {
    "duration": 449,
    "start_time": "2022-03-20T07:38:27.347Z"
   },
   {
    "duration": 9,
    "start_time": "2022-03-20T07:38:27.799Z"
   },
   {
    "duration": 11,
    "start_time": "2022-03-20T07:38:27.810Z"
   },
   {
    "duration": 52,
    "start_time": "2022-03-20T07:38:27.823Z"
   },
   {
    "duration": 7,
    "start_time": "2022-03-20T07:38:27.877Z"
   },
   {
    "duration": 17,
    "start_time": "2022-03-20T07:39:43.631Z"
   },
   {
    "duration": 11,
    "start_time": "2022-03-20T07:40:04.998Z"
   },
   {
    "duration": 16,
    "start_time": "2022-03-20T07:40:10.476Z"
   },
   {
    "duration": 13,
    "start_time": "2022-03-20T07:40:28.542Z"
   },
   {
    "duration": 21,
    "start_time": "2022-03-20T07:40:44.214Z"
   },
   {
    "duration": 4,
    "start_time": "2022-03-20T07:40:58.733Z"
   },
   {
    "duration": 8,
    "start_time": "2022-03-20T07:40:58.739Z"
   },
   {
    "duration": 7,
    "start_time": "2022-03-20T07:40:58.749Z"
   },
   {
    "duration": 294,
    "start_time": "2022-03-20T07:40:58.758Z"
   },
   {
    "duration": 22,
    "start_time": "2022-03-20T07:40:59.055Z"
   },
   {
    "duration": 268,
    "start_time": "2022-03-20T07:40:59.079Z"
   },
   {
    "duration": 20,
    "start_time": "2022-03-20T07:40:59.349Z"
   },
   {
    "duration": 14,
    "start_time": "2022-03-20T07:40:59.371Z"
   },
   {
    "duration": 21,
    "start_time": "2022-03-20T07:40:59.388Z"
   },
   {
    "duration": 68,
    "start_time": "2022-03-20T07:40:59.411Z"
   },
   {
    "duration": 336,
    "start_time": "2022-03-20T07:40:59.481Z"
   },
   {
    "duration": 202,
    "start_time": "2022-03-20T07:40:59.820Z"
   },
   {
    "duration": 823,
    "start_time": "2022-03-20T07:41:00.025Z"
   },
   {
    "duration": 24,
    "start_time": "2022-03-20T07:41:00.854Z"
   },
   {
    "duration": 1362,
    "start_time": "2022-03-20T07:41:00.880Z"
   },
   {
    "duration": 323,
    "start_time": "2022-03-20T07:41:02.244Z"
   },
   {
    "duration": 369,
    "start_time": "2022-03-20T07:41:02.570Z"
   },
   {
    "duration": 31,
    "start_time": "2022-03-20T07:41:02.942Z"
   },
   {
    "duration": 346,
    "start_time": "2022-03-20T07:41:02.975Z"
   },
   {
    "duration": 10,
    "start_time": "2022-03-20T07:41:03.323Z"
   },
   {
    "duration": 8,
    "start_time": "2022-03-20T07:41:03.336Z"
   },
   {
    "duration": 28,
    "start_time": "2022-03-20T07:41:03.370Z"
   },
   {
    "duration": 8,
    "start_time": "2022-03-20T07:41:03.400Z"
   },
   {
    "duration": 23,
    "start_time": "2022-03-20T07:41:26.718Z"
   },
   {
    "duration": 5,
    "start_time": "2022-03-20T07:41:49.679Z"
   },
   {
    "duration": 6,
    "start_time": "2022-03-20T07:41:49.687Z"
   },
   {
    "duration": 7,
    "start_time": "2022-03-20T07:41:49.695Z"
   },
   {
    "duration": 250,
    "start_time": "2022-03-20T07:41:49.704Z"
   },
   {
    "duration": 19,
    "start_time": "2022-03-20T07:41:49.958Z"
   },
   {
    "duration": 268,
    "start_time": "2022-03-20T07:41:49.979Z"
   },
   {
    "duration": 19,
    "start_time": "2022-03-20T07:41:50.249Z"
   },
   {
    "duration": 13,
    "start_time": "2022-03-20T07:41:50.271Z"
   },
   {
    "duration": 19,
    "start_time": "2022-03-20T07:41:50.286Z"
   },
   {
    "duration": 23,
    "start_time": "2022-03-20T07:41:50.307Z"
   },
   {
    "duration": 304,
    "start_time": "2022-03-20T07:41:50.367Z"
   },
   {
    "duration": 201,
    "start_time": "2022-03-20T07:41:50.673Z"
   },
   {
    "duration": 790,
    "start_time": "2022-03-20T07:41:50.877Z"
   },
   {
    "duration": 13,
    "start_time": "2022-03-20T07:41:51.671Z"
   },
   {
    "duration": 1482,
    "start_time": "2022-03-20T07:41:51.686Z"
   },
   {
    "duration": 330,
    "start_time": "2022-03-20T07:41:53.171Z"
   },
   {
    "duration": 247,
    "start_time": "2022-03-20T07:41:53.503Z"
   },
   {
    "duration": 25,
    "start_time": "2022-03-20T07:41:53.753Z"
   },
   {
    "duration": 397,
    "start_time": "2022-03-20T07:41:53.780Z"
   },
   {
    "duration": 9,
    "start_time": "2022-03-20T07:41:54.180Z"
   },
   {
    "duration": 8,
    "start_time": "2022-03-20T07:41:54.192Z"
   },
   {
    "duration": 32,
    "start_time": "2022-03-20T07:41:54.202Z"
   },
   {
    "duration": 38,
    "start_time": "2022-03-20T07:41:54.237Z"
   },
   {
    "duration": 22,
    "start_time": "2022-03-20T07:43:09.076Z"
   },
   {
    "duration": 23,
    "start_time": "2022-03-20T07:43:33.215Z"
   },
   {
    "duration": 470,
    "start_time": "2022-03-20T07:43:48.781Z"
   },
   {
    "duration": 15,
    "start_time": "2022-03-20T07:43:52.339Z"
   },
   {
    "duration": 23,
    "start_time": "2022-03-20T07:44:00.668Z"
   },
   {
    "duration": 287,
    "start_time": "2022-03-20T07:44:14.014Z"
   },
   {
    "duration": 15,
    "start_time": "2022-03-20T07:44:16.789Z"
   },
   {
    "duration": 21,
    "start_time": "2022-03-20T07:44:37.967Z"
   },
   {
    "duration": 19,
    "start_time": "2022-03-20T07:44:45.565Z"
   },
   {
    "duration": 301,
    "start_time": "2022-03-20T07:45:31.211Z"
   },
   {
    "duration": 13,
    "start_time": "2022-03-20T07:45:33.092Z"
   },
   {
    "duration": 4,
    "start_time": "2022-03-20T07:45:40.198Z"
   },
   {
    "duration": 7,
    "start_time": "2022-03-20T07:45:40.205Z"
   },
   {
    "duration": 6,
    "start_time": "2022-03-20T07:45:40.214Z"
   },
   {
    "duration": 304,
    "start_time": "2022-03-20T07:45:40.222Z"
   },
   {
    "duration": 20,
    "start_time": "2022-03-20T07:45:40.529Z"
   },
   {
    "duration": 327,
    "start_time": "2022-03-20T07:45:40.551Z"
   },
   {
    "duration": 15,
    "start_time": "2022-03-20T07:45:40.882Z"
   },
   {
    "duration": 21,
    "start_time": "2022-03-20T07:45:40.899Z"
   },
   {
    "duration": 23,
    "start_time": "2022-03-20T07:45:40.922Z"
   },
   {
    "duration": 32,
    "start_time": "2022-03-20T07:45:40.968Z"
   },
   {
    "duration": 353,
    "start_time": "2022-03-20T07:45:41.003Z"
   },
   {
    "duration": 225,
    "start_time": "2022-03-20T07:45:41.358Z"
   },
   {
    "duration": 868,
    "start_time": "2022-03-20T07:45:41.586Z"
   },
   {
    "duration": 27,
    "start_time": "2022-03-20T07:45:42.457Z"
   },
   {
    "duration": 1599,
    "start_time": "2022-03-20T07:45:42.488Z"
   },
   {
    "duration": 347,
    "start_time": "2022-03-20T07:45:44.090Z"
   },
   {
    "duration": 274,
    "start_time": "2022-03-20T07:45:44.439Z"
   },
   {
    "duration": 24,
    "start_time": "2022-03-20T07:45:44.768Z"
   },
   {
    "duration": 453,
    "start_time": "2022-03-20T07:45:44.795Z"
   },
   {
    "duration": 18,
    "start_time": "2022-03-20T07:45:45.250Z"
   },
   {
    "duration": 11,
    "start_time": "2022-03-20T07:45:45.272Z"
   },
   {
    "duration": 26,
    "start_time": "2022-03-20T07:45:45.285Z"
   },
   {
    "duration": 8,
    "start_time": "2022-03-20T07:45:45.313Z"
   },
   {
    "duration": 25,
    "start_time": "2022-03-20T07:46:56.396Z"
   },
   {
    "duration": 329,
    "start_time": "2022-03-20T07:47:05.016Z"
   },
   {
    "duration": 17,
    "start_time": "2022-03-20T07:47:10.501Z"
   },
   {
    "duration": 23,
    "start_time": "2022-03-20T07:47:26.683Z"
   },
   {
    "duration": 346,
    "start_time": "2022-03-20T07:47:35.798Z"
   },
   {
    "duration": 16,
    "start_time": "2022-03-20T07:47:45.344Z"
   },
   {
    "duration": 22,
    "start_time": "2022-03-20T07:47:56.935Z"
   },
   {
    "duration": 30,
    "start_time": "2022-03-20T07:48:15.957Z"
   },
   {
    "duration": 22,
    "start_time": "2022-03-20T07:48:18.684Z"
   },
   {
    "duration": 20,
    "start_time": "2022-03-20T07:48:25.927Z"
   },
   {
    "duration": 34,
    "start_time": "2022-03-20T07:48:31.518Z"
   },
   {
    "duration": 340,
    "start_time": "2022-03-20T07:48:45.911Z"
   },
   {
    "duration": 18,
    "start_time": "2022-03-20T07:48:49.988Z"
   },
   {
    "duration": 6,
    "start_time": "2022-03-20T07:49:05.798Z"
   },
   {
    "duration": 7,
    "start_time": "2022-03-20T07:49:05.807Z"
   },
   {
    "duration": 6,
    "start_time": "2022-03-20T07:49:05.817Z"
   },
   {
    "duration": 278,
    "start_time": "2022-03-20T07:49:05.825Z"
   },
   {
    "duration": 32,
    "start_time": "2022-03-20T07:49:06.107Z"
   },
   {
    "duration": 343,
    "start_time": "2022-03-20T07:49:06.143Z"
   },
   {
    "duration": 14,
    "start_time": "2022-03-20T07:49:06.489Z"
   },
   {
    "duration": 12,
    "start_time": "2022-03-20T07:49:06.506Z"
   },
   {
    "duration": 17,
    "start_time": "2022-03-20T07:49:06.520Z"
   },
   {
    "duration": 27,
    "start_time": "2022-03-20T07:49:06.568Z"
   },
   {
    "duration": 349,
    "start_time": "2022-03-20T07:49:06.597Z"
   },
   {
    "duration": 197,
    "start_time": "2022-03-20T07:49:06.950Z"
   },
   {
    "duration": 924,
    "start_time": "2022-03-20T07:49:07.149Z"
   },
   {
    "duration": 14,
    "start_time": "2022-03-20T07:49:08.077Z"
   },
   {
    "duration": 1369,
    "start_time": "2022-03-20T07:49:08.093Z"
   },
   {
    "duration": 419,
    "start_time": "2022-03-20T07:49:09.468Z"
   },
   {
    "duration": 236,
    "start_time": "2022-03-20T07:49:09.889Z"
   },
   {
    "duration": 17,
    "start_time": "2022-03-20T07:49:10.127Z"
   },
   {
    "duration": 359,
    "start_time": "2022-03-20T07:49:10.146Z"
   },
   {
    "duration": 10,
    "start_time": "2022-03-20T07:49:10.507Z"
   },
   {
    "duration": 12,
    "start_time": "2022-03-20T07:49:10.520Z"
   },
   {
    "duration": 52,
    "start_time": "2022-03-20T07:49:10.535Z"
   },
   {
    "duration": 9,
    "start_time": "2022-03-20T07:49:10.589Z"
   },
   {
    "duration": 15,
    "start_time": "2022-03-20T07:49:52.793Z"
   },
   {
    "duration": 23,
    "start_time": "2022-03-20T07:50:08.343Z"
   },
   {
    "duration": 27,
    "start_time": "2022-03-20T07:50:59.193Z"
   },
   {
    "duration": 22,
    "start_time": "2022-03-20T07:51:06.509Z"
   },
   {
    "duration": 546,
    "start_time": "2022-03-20T07:51:23.521Z"
   },
   {
    "duration": 22,
    "start_time": "2022-03-20T07:51:24.894Z"
   },
   {
    "duration": 29,
    "start_time": "2022-03-20T07:51:38.059Z"
   },
   {
    "duration": 640,
    "start_time": "2022-03-20T07:51:43.911Z"
   },
   {
    "duration": 18,
    "start_time": "2022-03-20T07:51:45.715Z"
   },
   {
    "duration": 24,
    "start_time": "2022-03-20T07:51:57.973Z"
   },
   {
    "duration": 33,
    "start_time": "2022-03-20T07:52:01.661Z"
   },
   {
    "duration": 429,
    "start_time": "2022-03-20T07:52:11.374Z"
   },
   {
    "duration": 16,
    "start_time": "2022-03-20T07:52:13.274Z"
   },
   {
    "duration": 6,
    "start_time": "2022-03-20T07:52:17.649Z"
   },
   {
    "duration": 7,
    "start_time": "2022-03-20T07:52:17.658Z"
   },
   {
    "duration": 8,
    "start_time": "2022-03-20T07:52:17.668Z"
   },
   {
    "duration": 294,
    "start_time": "2022-03-20T07:52:17.679Z"
   },
   {
    "duration": 25,
    "start_time": "2022-03-20T07:52:17.977Z"
   },
   {
    "duration": 390,
    "start_time": "2022-03-20T07:52:18.005Z"
   },
   {
    "duration": 15,
    "start_time": "2022-03-20T07:52:18.398Z"
   },
   {
    "duration": 16,
    "start_time": "2022-03-20T07:52:18.416Z"
   },
   {
    "duration": 39,
    "start_time": "2022-03-20T07:52:18.435Z"
   },
   {
    "duration": 26,
    "start_time": "2022-03-20T07:52:18.489Z"
   },
   {
    "duration": 341,
    "start_time": "2022-03-20T07:52:18.517Z"
   },
   {
    "duration": 207,
    "start_time": "2022-03-20T07:52:18.868Z"
   },
   {
    "duration": 987,
    "start_time": "2022-03-20T07:52:19.077Z"
   },
   {
    "duration": 22,
    "start_time": "2022-03-20T07:52:20.068Z"
   },
   {
    "duration": 2075,
    "start_time": "2022-03-20T07:52:20.094Z"
   },
   {
    "duration": 503,
    "start_time": "2022-03-20T07:52:22.172Z"
   },
   {
    "duration": 252,
    "start_time": "2022-03-20T07:52:22.678Z"
   },
   {
    "duration": 38,
    "start_time": "2022-03-20T07:52:22.933Z"
   },
   {
    "duration": 456,
    "start_time": "2022-03-20T07:52:22.973Z"
   },
   {
    "duration": 10,
    "start_time": "2022-03-20T07:52:23.431Z"
   },
   {
    "duration": 28,
    "start_time": "2022-03-20T07:52:23.444Z"
   },
   {
    "duration": 27,
    "start_time": "2022-03-20T07:52:23.476Z"
   },
   {
    "duration": 23,
    "start_time": "2022-03-20T07:52:23.505Z"
   },
   {
    "duration": 22,
    "start_time": "2022-03-20T07:53:23.450Z"
   },
   {
    "duration": 15,
    "start_time": "2022-03-20T07:53:41.815Z"
   },
   {
    "duration": 521,
    "start_time": "2022-03-20T07:53:57.986Z"
   },
   {
    "duration": 16,
    "start_time": "2022-03-20T07:54:00.894Z"
   },
   {
    "duration": 19,
    "start_time": "2022-03-20T07:54:11.546Z"
   },
   {
    "duration": 509,
    "start_time": "2022-03-20T07:54:22.858Z"
   },
   {
    "duration": 14,
    "start_time": "2022-03-20T07:54:24.229Z"
   },
   {
    "duration": 19,
    "start_time": "2022-03-20T07:54:45.500Z"
   },
   {
    "duration": 540,
    "start_time": "2022-03-20T07:55:10.046Z"
   },
   {
    "duration": 16,
    "start_time": "2022-03-20T07:55:13.047Z"
   },
   {
    "duration": 19,
    "start_time": "2022-03-20T07:56:32.111Z"
   },
   {
    "duration": 17,
    "start_time": "2022-03-20T07:56:40.906Z"
   },
   {
    "duration": 18,
    "start_time": "2022-03-20T07:56:59.291Z"
   },
   {
    "duration": 415,
    "start_time": "2022-03-20T07:57:02.689Z"
   },
   {
    "duration": 15,
    "start_time": "2022-03-20T07:57:07.574Z"
   },
   {
    "duration": 14,
    "start_time": "2022-03-20T07:57:21.013Z"
   },
   {
    "duration": 16,
    "start_time": "2022-03-20T07:57:31.960Z"
   },
   {
    "duration": 20,
    "start_time": "2022-03-20T07:58:27.881Z"
   },
   {
    "duration": 18,
    "start_time": "2022-03-20T07:59:29.986Z"
   },
   {
    "duration": 19,
    "start_time": "2022-03-20T07:59:40.730Z"
   },
   {
    "duration": 1456,
    "start_time": "2022-03-20T08:00:30.013Z"
   },
   {
    "duration": 1553,
    "start_time": "2022-03-20T08:02:59.478Z"
   },
   {
    "duration": 22,
    "start_time": "2022-03-20T08:03:35.263Z"
   },
   {
    "duration": 14,
    "start_time": "2022-03-20T08:03:46.010Z"
   },
   {
    "duration": 1506,
    "start_time": "2022-03-20T08:04:06.429Z"
   },
   {
    "duration": 13,
    "start_time": "2022-03-20T08:05:04.512Z"
   },
   {
    "duration": 15,
    "start_time": "2022-03-20T08:05:08.746Z"
   },
   {
    "duration": 442,
    "start_time": "2022-03-20T08:05:51.385Z"
   },
   {
    "duration": 17,
    "start_time": "2022-03-20T08:05:52.405Z"
   },
   {
    "duration": 21,
    "start_time": "2022-03-20T08:06:28.692Z"
   },
   {
    "duration": 437,
    "start_time": "2022-03-20T08:06:39.848Z"
   },
   {
    "duration": 14,
    "start_time": "2022-03-20T08:06:43.064Z"
   },
   {
    "duration": 13,
    "start_time": "2022-03-20T08:06:51.142Z"
   },
   {
    "duration": 20,
    "start_time": "2022-03-20T08:07:09.658Z"
   },
   {
    "duration": 453,
    "start_time": "2022-03-20T08:07:18.586Z"
   },
   {
    "duration": 14,
    "start_time": "2022-03-20T08:07:20.106Z"
   },
   {
    "duration": 1339,
    "start_time": "2022-03-20T08:07:38.979Z"
   },
   {
    "duration": 1345,
    "start_time": "2022-03-20T08:07:45.535Z"
   },
   {
    "duration": 1485,
    "start_time": "2022-03-20T08:09:25.000Z"
   },
   {
    "duration": 14,
    "start_time": "2022-03-20T08:10:20.923Z"
   },
   {
    "duration": 18,
    "start_time": "2022-03-20T08:10:31.521Z"
   },
   {
    "duration": 18,
    "start_time": "2022-03-20T08:10:44.251Z"
   },
   {
    "duration": 20,
    "start_time": "2022-03-20T08:11:01.896Z"
   },
   {
    "duration": 1649,
    "start_time": "2022-03-20T08:11:16.460Z"
   },
   {
    "duration": 1354,
    "start_time": "2022-03-20T08:11:45.455Z"
   },
   {
    "duration": 14,
    "start_time": "2022-03-20T08:11:57.410Z"
   },
   {
    "duration": 1425,
    "start_time": "2022-03-20T08:12:08.894Z"
   },
   {
    "duration": 16,
    "start_time": "2022-03-20T08:12:43.515Z"
   },
   {
    "duration": 1386,
    "start_time": "2022-03-20T08:12:54.108Z"
   },
   {
    "duration": 16,
    "start_time": "2022-03-20T08:13:35.709Z"
   },
   {
    "duration": 20,
    "start_time": "2022-03-20T08:14:31.723Z"
   },
   {
    "duration": 1329,
    "start_time": "2022-03-20T08:15:05.073Z"
   },
   {
    "duration": 1468,
    "start_time": "2022-03-20T08:15:25.900Z"
   },
   {
    "duration": 1360,
    "start_time": "2022-03-20T08:15:49.476Z"
   },
   {
    "duration": 1512,
    "start_time": "2022-03-20T08:15:58.285Z"
   },
   {
    "duration": 1360,
    "start_time": "2022-03-20T08:16:31.630Z"
   },
   {
    "duration": 1345,
    "start_time": "2022-03-20T08:17:21.923Z"
   },
   {
    "duration": 1991,
    "start_time": "2022-03-20T08:17:39.653Z"
   },
   {
    "duration": 979,
    "start_time": "2022-03-20T08:17:57.863Z"
   },
   {
    "duration": 1104,
    "start_time": "2022-03-20T08:18:10.301Z"
   },
   {
    "duration": 23,
    "start_time": "2022-03-20T08:18:44.749Z"
   },
   {
    "duration": 23,
    "start_time": "2022-03-20T08:19:11.480Z"
   },
   {
    "duration": 20,
    "start_time": "2022-03-20T08:19:20.495Z"
   },
   {
    "duration": 948,
    "start_time": "2022-03-20T08:19:33.140Z"
   },
   {
    "duration": 969,
    "start_time": "2022-03-20T08:20:10.309Z"
   },
   {
    "duration": 12,
    "start_time": "2022-03-20T08:20:28.627Z"
   },
   {
    "duration": 9,
    "start_time": "2022-03-20T08:20:43.842Z"
   },
   {
    "duration": 14,
    "start_time": "2022-03-20T08:20:46.470Z"
   },
   {
    "duration": 22,
    "start_time": "2022-03-20T08:20:59.091Z"
   },
   {
    "duration": 43,
    "start_time": "2022-03-20T08:21:35.362Z"
   },
   {
    "duration": 16,
    "start_time": "2022-03-20T08:21:41.849Z"
   },
   {
    "duration": 15,
    "start_time": "2022-03-20T08:21:53.346Z"
   },
   {
    "duration": 26,
    "start_time": "2022-03-20T08:22:04.473Z"
   },
   {
    "duration": 24,
    "start_time": "2022-03-20T08:22:08.999Z"
   },
   {
    "duration": 937,
    "start_time": "2022-03-20T08:22:22.792Z"
   },
   {
    "duration": 23,
    "start_time": "2022-03-20T08:22:34.742Z"
   },
   {
    "duration": 14,
    "start_time": "2022-03-20T08:22:38.048Z"
   },
   {
    "duration": 19,
    "start_time": "2022-03-20T08:22:43.228Z"
   },
   {
    "duration": 20,
    "start_time": "2022-03-20T08:22:48.887Z"
   },
   {
    "duration": 30,
    "start_time": "2022-03-20T08:22:59.165Z"
   },
   {
    "duration": 24,
    "start_time": "2022-03-20T08:23:01.957Z"
   },
   {
    "duration": 19,
    "start_time": "2022-03-20T08:23:21.403Z"
   },
   {
    "duration": 22,
    "start_time": "2022-03-20T08:23:33.835Z"
   },
   {
    "duration": 105,
    "start_time": "2022-03-20T08:23:56.008Z"
   },
   {
    "duration": 20,
    "start_time": "2022-03-20T08:24:03.971Z"
   },
   {
    "duration": 22,
    "start_time": "2022-03-20T08:24:24.692Z"
   },
   {
    "duration": 21,
    "start_time": "2022-03-20T08:25:08.891Z"
   },
   {
    "duration": 20,
    "start_time": "2022-03-20T08:25:13.055Z"
   },
   {
    "duration": 19,
    "start_time": "2022-03-20T08:25:22.514Z"
   },
   {
    "duration": 21,
    "start_time": "2022-03-20T08:25:26.294Z"
   },
   {
    "duration": 1059,
    "start_time": "2022-03-20T08:25:50.620Z"
   },
   {
    "duration": 937,
    "start_time": "2022-03-20T08:26:14.485Z"
   },
   {
    "duration": 931,
    "start_time": "2022-03-20T08:26:55.311Z"
   },
   {
    "duration": 958,
    "start_time": "2022-03-20T08:27:01.455Z"
   },
   {
    "duration": 16,
    "start_time": "2022-03-20T08:29:30.651Z"
   },
   {
    "duration": 18,
    "start_time": "2022-03-20T08:29:33.013Z"
   },
   {
    "duration": 16,
    "start_time": "2022-03-20T08:29:37.499Z"
   },
   {
    "duration": 15,
    "start_time": "2022-03-20T08:29:40.617Z"
   },
   {
    "duration": 19,
    "start_time": "2022-03-20T08:29:44.824Z"
   },
   {
    "duration": 16,
    "start_time": "2022-03-20T08:29:47.297Z"
   },
   {
    "duration": 16,
    "start_time": "2022-03-20T08:29:51.392Z"
   },
   {
    "duration": 17,
    "start_time": "2022-03-20T08:29:57.543Z"
   },
   {
    "duration": 17,
    "start_time": "2022-03-20T08:29:59.738Z"
   },
   {
    "duration": 20,
    "start_time": "2022-03-20T08:30:59.927Z"
   },
   {
    "duration": 22,
    "start_time": "2022-03-20T08:31:07.894Z"
   },
   {
    "duration": 21,
    "start_time": "2022-03-20T08:31:33.795Z"
   },
   {
    "duration": 440,
    "start_time": "2022-03-20T08:31:40.860Z"
   },
   {
    "duration": 447,
    "start_time": "2022-03-20T08:31:46.251Z"
   },
   {
    "duration": 22,
    "start_time": "2022-03-20T08:31:51.195Z"
   },
   {
    "duration": 21,
    "start_time": "2022-03-20T08:32:22.574Z"
   },
   {
    "duration": 494,
    "start_time": "2022-03-20T08:32:38.264Z"
   },
   {
    "duration": 24,
    "start_time": "2022-03-20T08:32:39.273Z"
   },
   {
    "duration": 7,
    "start_time": "2022-03-20T08:32:50.230Z"
   },
   {
    "duration": 21,
    "start_time": "2022-03-20T08:32:53.536Z"
   },
   {
    "duration": 91,
    "start_time": "2022-03-20T08:33:06.279Z"
   },
   {
    "duration": 16,
    "start_time": "2022-03-20T08:33:08.968Z"
   },
   {
    "duration": 20,
    "start_time": "2022-03-20T08:33:25.473Z"
   },
   {
    "duration": 21,
    "start_time": "2022-03-20T08:33:38.072Z"
   },
   {
    "duration": 22,
    "start_time": "2022-03-20T08:33:50.844Z"
   },
   {
    "duration": 22,
    "start_time": "2022-03-20T08:34:08.351Z"
   },
   {
    "duration": 4,
    "start_time": "2022-03-20T08:34:31.798Z"
   },
   {
    "duration": 10,
    "start_time": "2022-03-20T08:34:31.806Z"
   },
   {
    "duration": 13,
    "start_time": "2022-03-20T08:34:31.818Z"
   },
   {
    "duration": 295,
    "start_time": "2022-03-20T08:34:31.833Z"
   },
   {
    "duration": 16,
    "start_time": "2022-03-20T08:34:32.132Z"
   },
   {
    "duration": 29,
    "start_time": "2022-03-20T08:34:32.150Z"
   },
   {
    "duration": 27,
    "start_time": "2022-03-20T08:34:32.181Z"
   },
   {
    "duration": 532,
    "start_time": "2022-03-20T08:34:32.211Z"
   },
   {
    "duration": 334,
    "start_time": "2022-03-20T08:34:32.745Z"
   },
   {
    "duration": 249,
    "start_time": "2022-03-20T08:34:33.081Z"
   },
   {
    "duration": 1338,
    "start_time": "2022-03-20T08:34:33.333Z"
   },
   {
    "duration": 18,
    "start_time": "2022-03-20T08:34:34.674Z"
   },
   {
    "duration": 1018,
    "start_time": "2022-03-20T08:34:34.695Z"
   },
   {
    "duration": 344,
    "start_time": "2022-03-20T08:34:35.718Z"
   },
   {
    "duration": 263,
    "start_time": "2022-03-20T08:34:36.065Z"
   },
   {
    "duration": 16,
    "start_time": "2022-03-20T08:34:36.331Z"
   },
   {
    "duration": 374,
    "start_time": "2022-03-20T08:34:36.349Z"
   },
   {
    "duration": 9,
    "start_time": "2022-03-20T08:34:36.725Z"
   },
   {
    "duration": 36,
    "start_time": "2022-03-20T08:34:36.737Z"
   },
   {
    "duration": 36,
    "start_time": "2022-03-20T08:34:36.776Z"
   },
   {
    "duration": 8,
    "start_time": "2022-03-20T08:34:36.815Z"
   },
   {
    "duration": 94,
    "start_time": "2022-03-20T08:38:07.581Z"
   },
   {
    "duration": 14,
    "start_time": "2022-03-20T08:38:10.143Z"
   },
   {
    "duration": 15,
    "start_time": "2022-03-20T08:38:22.582Z"
   },
   {
    "duration": 16,
    "start_time": "2022-03-20T08:38:30.495Z"
   },
   {
    "duration": 17,
    "start_time": "2022-03-20T08:52:43.638Z"
   },
   {
    "duration": 10,
    "start_time": "2022-03-20T08:53:14.715Z"
   },
   {
    "duration": 10,
    "start_time": "2022-03-20T08:53:32.484Z"
   },
   {
    "duration": 323,
    "start_time": "2022-03-20T08:53:41.258Z"
   },
   {
    "duration": 10,
    "start_time": "2022-03-20T08:53:51.804Z"
   },
   {
    "duration": 307,
    "start_time": "2022-03-20T08:53:52.718Z"
   },
   {
    "duration": 15,
    "start_time": "2022-03-20T08:54:07.170Z"
   },
   {
    "duration": 23,
    "start_time": "2022-03-20T08:54:13.507Z"
   },
   {
    "duration": 24,
    "start_time": "2022-03-20T08:54:31.579Z"
   },
   {
    "duration": 13,
    "start_time": "2022-03-20T08:54:38.342Z"
   },
   {
    "duration": 16,
    "start_time": "2022-03-20T08:54:45.999Z"
   },
   {
    "duration": 15,
    "start_time": "2022-03-20T08:54:51.746Z"
   },
   {
    "duration": 17,
    "start_time": "2022-03-20T08:54:56.932Z"
   },
   {
    "duration": 38,
    "start_time": "2022-03-20T08:55:14.689Z"
   },
   {
    "duration": 24,
    "start_time": "2022-03-20T08:55:29.200Z"
   },
   {
    "duration": 18,
    "start_time": "2022-03-20T08:56:02.809Z"
   },
   {
    "duration": 18,
    "start_time": "2022-03-20T08:56:14.958Z"
   },
   {
    "duration": 454,
    "start_time": "2022-03-20T08:56:21.767Z"
   },
   {
    "duration": 334,
    "start_time": "2022-03-20T08:57:20.083Z"
   },
   {
    "duration": 340,
    "start_time": "2022-03-20T08:57:26.519Z"
   },
   {
    "duration": 16,
    "start_time": "2022-03-20T08:57:49.853Z"
   },
   {
    "duration": 6,
    "start_time": "2022-03-20T09:00:19.147Z"
   },
   {
    "duration": 7,
    "start_time": "2022-03-20T09:01:02.903Z"
   },
   {
    "duration": 40,
    "start_time": "2022-03-20T09:02:13.212Z"
   },
   {
    "duration": 29,
    "start_time": "2022-03-20T09:02:22.269Z"
   },
   {
    "duration": 271,
    "start_time": "2022-03-20T09:02:30.370Z"
   },
   {
    "duration": 19,
    "start_time": "2022-03-20T09:02:56.293Z"
   },
   {
    "duration": 232,
    "start_time": "2022-03-20T09:03:10.703Z"
   },
   {
    "duration": 253,
    "start_time": "2022-03-20T09:03:19.631Z"
   },
   {
    "duration": 448,
    "start_time": "2022-03-20T09:03:28.112Z"
   },
   {
    "duration": 2269,
    "start_time": "2022-03-20T09:03:36.585Z"
   },
   {
    "duration": 2373,
    "start_time": "2022-03-20T09:03:59.595Z"
   },
   {
    "duration": 2367,
    "start_time": "2022-03-20T09:04:15.156Z"
   },
   {
    "duration": 2464,
    "start_time": "2022-03-20T09:04:35.104Z"
   },
   {
    "duration": 1258,
    "start_time": "2022-03-20T09:04:39.642Z"
   },
   {
    "duration": 1448,
    "start_time": "2022-03-20T09:05:09.568Z"
   },
   {
    "duration": 1219,
    "start_time": "2022-03-20T09:05:15.097Z"
   },
   {
    "duration": 1332,
    "start_time": "2022-03-20T09:05:23.322Z"
   },
   {
    "duration": 335,
    "start_time": "2022-03-20T09:06:35.938Z"
   },
   {
    "duration": 315,
    "start_time": "2022-03-20T09:06:43.035Z"
   },
   {
    "duration": 359,
    "start_time": "2022-03-20T09:06:50.604Z"
   },
   {
    "duration": 306,
    "start_time": "2022-03-20T09:06:55.629Z"
   },
   {
    "duration": 346,
    "start_time": "2022-03-20T09:07:00.596Z"
   },
   {
    "duration": 342,
    "start_time": "2022-03-20T09:07:07.544Z"
   },
   {
    "duration": 342,
    "start_time": "2022-03-20T09:08:46.185Z"
   },
   {
    "duration": 352,
    "start_time": "2022-03-20T09:09:18.853Z"
   },
   {
    "duration": 92,
    "start_time": "2022-03-20T09:09:53.709Z"
   },
   {
    "duration": 322,
    "start_time": "2022-03-20T09:10:04.118Z"
   },
   {
    "duration": 291,
    "start_time": "2022-03-20T09:10:27.957Z"
   },
   {
    "duration": 18,
    "start_time": "2022-03-20T09:11:00.756Z"
   },
   {
    "duration": 375,
    "start_time": "2022-03-20T09:11:08.450Z"
   },
   {
    "duration": 375,
    "start_time": "2022-03-20T09:12:31.580Z"
   },
   {
    "duration": 13,
    "start_time": "2022-03-20T09:12:42.183Z"
   },
   {
    "duration": 14,
    "start_time": "2022-03-20T09:12:56.925Z"
   },
   {
    "duration": 339,
    "start_time": "2022-03-20T09:13:02.228Z"
   },
   {
    "duration": 33,
    "start_time": "2022-03-20T09:14:19.392Z"
   },
   {
    "duration": 36,
    "start_time": "2022-03-20T09:14:25.251Z"
   },
   {
    "duration": 25,
    "start_time": "2022-03-20T09:14:36.267Z"
   },
   {
    "duration": 370,
    "start_time": "2022-03-20T09:14:57.479Z"
   },
   {
    "duration": 378,
    "start_time": "2022-03-20T09:15:06.006Z"
   },
   {
    "duration": 346,
    "start_time": "2022-03-20T09:15:12.539Z"
   },
   {
    "duration": 2874,
    "start_time": "2022-03-20T09:15:42.527Z"
   },
   {
    "duration": 4168,
    "start_time": "2022-03-20T09:16:05.972Z"
   },
   {
    "duration": 2512,
    "start_time": "2022-03-20T09:16:22.555Z"
   },
   {
    "duration": 2616,
    "start_time": "2022-03-20T09:16:27.740Z"
   },
   {
    "duration": 2750,
    "start_time": "2022-03-20T09:16:57.589Z"
   },
   {
    "duration": 3075,
    "start_time": "2022-03-20T09:18:17.381Z"
   },
   {
    "duration": 2798,
    "start_time": "2022-03-20T09:18:28.048Z"
   },
   {
    "duration": 2725,
    "start_time": "2022-03-20T09:19:10.937Z"
   },
   {
    "duration": 1817,
    "start_time": "2022-03-20T09:56:27.900Z"
   },
   {
    "duration": 1453,
    "start_time": "2022-03-20T09:56:47.815Z"
   },
   {
    "duration": 2975,
    "start_time": "2022-03-20T09:56:57.194Z"
   },
   {
    "duration": 3130,
    "start_time": "2022-03-20T09:57:20.967Z"
   },
   {
    "duration": 2670,
    "start_time": "2022-03-20T09:57:30.079Z"
   },
   {
    "duration": 3611,
    "start_time": "2022-03-20T09:57:42.757Z"
   },
   {
    "duration": 1532,
    "start_time": "2022-03-20T09:58:11.864Z"
   },
   {
    "duration": 1742,
    "start_time": "2022-03-20T09:59:00.613Z"
   },
   {
    "duration": 1726,
    "start_time": "2022-03-20T09:59:05.180Z"
   },
   {
    "duration": 1489,
    "start_time": "2022-03-20T09:59:29.626Z"
   },
   {
    "duration": 1634,
    "start_time": "2022-03-20T09:59:38.506Z"
   },
   {
    "duration": 1574,
    "start_time": "2022-03-20T10:02:26.594Z"
   },
   {
    "duration": 1406,
    "start_time": "2022-03-20T10:03:48.667Z"
   },
   {
    "duration": 2636,
    "start_time": "2022-03-20T10:04:09.283Z"
   },
   {
    "duration": 2690,
    "start_time": "2022-03-20T10:04:22.322Z"
   },
   {
    "duration": 2932,
    "start_time": "2022-03-20T10:04:31.769Z"
   },
   {
    "duration": 2692,
    "start_time": "2022-03-20T10:05:13.940Z"
   },
   {
    "duration": 2810,
    "start_time": "2022-03-20T10:05:24.416Z"
   },
   {
    "duration": 2651,
    "start_time": "2022-03-20T10:10:50.781Z"
   },
   {
    "duration": 2713,
    "start_time": "2022-03-20T10:10:58.214Z"
   },
   {
    "duration": 2614,
    "start_time": "2022-03-20T10:11:07.135Z"
   },
   {
    "duration": 3011,
    "start_time": "2022-03-20T10:11:43.700Z"
   },
   {
    "duration": 2768,
    "start_time": "2022-03-20T10:11:51.677Z"
   },
   {
    "duration": 1697,
    "start_time": "2022-03-20T10:12:49.399Z"
   },
   {
    "duration": 1536,
    "start_time": "2022-03-20T10:13:00.055Z"
   },
   {
    "duration": 3197,
    "start_time": "2022-03-20T10:13:25.906Z"
   },
   {
    "duration": 3114,
    "start_time": "2022-03-20T10:14:39.569Z"
   },
   {
    "duration": 4,
    "start_time": "2022-03-20T10:14:53.722Z"
   },
   {
    "duration": 6,
    "start_time": "2022-03-20T10:14:53.731Z"
   },
   {
    "duration": 7,
    "start_time": "2022-03-20T10:14:53.740Z"
   },
   {
    "duration": 307,
    "start_time": "2022-03-20T10:14:53.750Z"
   },
   {
    "duration": 21,
    "start_time": "2022-03-20T10:14:54.061Z"
   },
   {
    "duration": 35,
    "start_time": "2022-03-20T10:14:54.087Z"
   },
   {
    "duration": 32,
    "start_time": "2022-03-20T10:14:54.124Z"
   },
   {
    "duration": 665,
    "start_time": "2022-03-20T10:14:54.167Z"
   },
   {
    "duration": 382,
    "start_time": "2022-03-20T10:14:54.835Z"
   },
   {
    "duration": 240,
    "start_time": "2022-03-20T10:14:55.220Z"
   },
   {
    "duration": 992,
    "start_time": "2022-03-20T10:14:55.462Z"
   },
   {
    "duration": 1155,
    "start_time": "2022-03-20T10:14:56.456Z"
   },
   {
    "duration": 388,
    "start_time": "2022-03-20T10:14:57.614Z"
   },
   {
    "duration": 506,
    "start_time": "2022-03-20T10:14:58.006Z"
   },
   {
    "duration": 17,
    "start_time": "2022-03-20T10:14:58.515Z"
   },
   {
    "duration": 420,
    "start_time": "2022-03-20T10:14:58.534Z"
   },
   {
    "duration": 23,
    "start_time": "2022-03-20T10:14:58.956Z"
   },
   {
    "duration": 31,
    "start_time": "2022-03-20T10:14:58.982Z"
   },
   {
    "duration": 33,
    "start_time": "2022-03-20T10:14:59.016Z"
   },
   {
    "duration": 22,
    "start_time": "2022-03-20T10:14:59.051Z"
   },
   {
    "duration": 406,
    "start_time": "2022-03-20T10:14:59.075Z"
   },
   {
    "duration": 12,
    "start_time": "2022-03-20T10:14:59.488Z"
   },
   {
    "duration": 29,
    "start_time": "2022-03-20T10:14:59.503Z"
   },
   {
    "duration": 3442,
    "start_time": "2022-03-20T10:14:59.534Z"
   },
   {
    "duration": 2954,
    "start_time": "2022-03-20T10:15:30.616Z"
   },
   {
    "duration": 14,
    "start_time": "2022-03-20T10:24:04.282Z"
   },
   {
    "duration": 18,
    "start_time": "2022-03-20T10:24:43.145Z"
   },
   {
    "duration": 17,
    "start_time": "2022-03-20T10:24:56.982Z"
   },
   {
    "duration": 17,
    "start_time": "2022-03-20T10:25:04.879Z"
   },
   {
    "duration": 26,
    "start_time": "2022-03-20T10:25:59.863Z"
   },
   {
    "duration": 19,
    "start_time": "2022-03-20T10:30:34.681Z"
   },
   {
    "duration": 19,
    "start_time": "2022-03-20T10:30:39.705Z"
   },
   {
    "duration": 24,
    "start_time": "2022-03-20T10:30:51.316Z"
   },
   {
    "duration": 24,
    "start_time": "2022-03-20T10:30:55.141Z"
   },
   {
    "duration": 18,
    "start_time": "2022-03-20T10:31:06.965Z"
   },
   {
    "duration": 28,
    "start_time": "2022-03-20T10:31:24.908Z"
   },
   {
    "duration": 18,
    "start_time": "2022-03-20T10:31:36.637Z"
   },
   {
    "duration": 18,
    "start_time": "2022-03-20T10:31:50.309Z"
   },
   {
    "duration": 18,
    "start_time": "2022-03-20T10:31:58.811Z"
   },
   {
    "duration": 4,
    "start_time": "2022-03-20T10:32:06.266Z"
   },
   {
    "duration": 6,
    "start_time": "2022-03-20T10:32:06.273Z"
   },
   {
    "duration": 7,
    "start_time": "2022-03-20T10:32:06.281Z"
   },
   {
    "duration": 280,
    "start_time": "2022-03-20T10:32:06.290Z"
   },
   {
    "duration": 16,
    "start_time": "2022-03-20T10:32:06.573Z"
   },
   {
    "duration": 21,
    "start_time": "2022-03-20T10:32:06.591Z"
   },
   {
    "duration": 16,
    "start_time": "2022-03-20T10:32:06.614Z"
   },
   {
    "duration": 58,
    "start_time": "2022-03-20T10:32:06.633Z"
   },
   {
    "duration": 20,
    "start_time": "2022-03-20T10:32:09.829Z"
   },
   {
    "duration": 508,
    "start_time": "2022-03-20T10:33:22.271Z"
   },
   {
    "duration": 19,
    "start_time": "2022-03-20T10:33:23.363Z"
   },
   {
    "duration": 14,
    "start_time": "2022-03-20T10:57:09.047Z"
   },
   {
    "duration": 1119,
    "start_time": "2022-03-20T12:04:02.552Z"
   },
   {
    "duration": 1079,
    "start_time": "2022-03-20T12:04:26.382Z"
   },
   {
    "duration": 1191,
    "start_time": "2022-03-20T12:05:01.215Z"
   },
   {
    "duration": 1419,
    "start_time": "2022-03-20T12:05:53.804Z"
   },
   {
    "duration": 20,
    "start_time": "2022-03-20T12:06:36.939Z"
   },
   {
    "duration": 20,
    "start_time": "2022-03-20T12:06:58.548Z"
   },
   {
    "duration": 7,
    "start_time": "2022-03-20T12:09:52.082Z"
   },
   {
    "duration": 1693,
    "start_time": "2022-03-20T12:21:33.759Z"
   },
   {
    "duration": 1130,
    "start_time": "2022-03-20T12:21:56.578Z"
   },
   {
    "duration": 24,
    "start_time": "2022-03-20T12:22:51.910Z"
   },
   {
    "duration": 1823,
    "start_time": "2022-03-20T12:23:56.978Z"
   },
   {
    "duration": 1622,
    "start_time": "2022-03-20T12:24:08.632Z"
   },
   {
    "duration": 8,
    "start_time": "2022-03-20T12:24:13.274Z"
   },
   {
    "duration": 27,
    "start_time": "2022-03-20T12:24:18.576Z"
   },
   {
    "duration": 17,
    "start_time": "2022-03-20T12:25:18.428Z"
   },
   {
    "duration": 1204,
    "start_time": "2022-03-20T12:25:54.942Z"
   },
   {
    "duration": 18,
    "start_time": "2022-03-20T12:26:03.254Z"
   },
   {
    "duration": 24,
    "start_time": "2022-03-20T12:31:21.448Z"
   },
   {
    "duration": 11,
    "start_time": "2022-03-20T12:32:47.455Z"
   },
   {
    "duration": 11,
    "start_time": "2022-03-20T12:32:52.379Z"
   },
   {
    "duration": 21,
    "start_time": "2022-03-20T12:32:55.973Z"
   },
   {
    "duration": 21,
    "start_time": "2022-03-20T12:33:05.844Z"
   },
   {
    "duration": 20,
    "start_time": "2022-03-20T12:33:15.545Z"
   },
   {
    "duration": 19,
    "start_time": "2022-03-20T12:33:19.374Z"
   },
   {
    "duration": 22,
    "start_time": "2022-03-20T12:33:30.194Z"
   },
   {
    "duration": 17,
    "start_time": "2022-03-20T12:41:31.997Z"
   },
   {
    "duration": 25,
    "start_time": "2022-03-20T12:42:12.248Z"
   },
   {
    "duration": 17,
    "start_time": "2022-03-20T12:42:24.786Z"
   },
   {
    "duration": 20,
    "start_time": "2022-03-20T12:42:31.111Z"
   },
   {
    "duration": 19,
    "start_time": "2022-03-20T12:42:38.909Z"
   },
   {
    "duration": 22,
    "start_time": "2022-03-20T12:42:50.925Z"
   },
   {
    "duration": 20,
    "start_time": "2022-03-20T12:43:00.257Z"
   },
   {
    "duration": 21,
    "start_time": "2022-03-20T12:43:06.695Z"
   },
   {
    "duration": 18,
    "start_time": "2022-03-20T12:43:13.057Z"
   },
   {
    "duration": 19,
    "start_time": "2022-03-20T12:43:23.403Z"
   },
   {
    "duration": 21,
    "start_time": "2022-03-20T12:43:33.161Z"
   },
   {
    "duration": 23,
    "start_time": "2022-03-20T12:44:22.479Z"
   },
   {
    "duration": 13,
    "start_time": "2022-03-20T12:45:11.314Z"
   },
   {
    "duration": 25,
    "start_time": "2022-03-20T12:45:18.418Z"
   },
   {
    "duration": 22,
    "start_time": "2022-03-20T12:45:30.827Z"
   },
   {
    "duration": 26,
    "start_time": "2022-03-20T12:45:41.153Z"
   },
   {
    "duration": 21,
    "start_time": "2022-03-20T12:45:54.927Z"
   },
   {
    "duration": 25,
    "start_time": "2022-03-20T12:46:29.135Z"
   },
   {
    "duration": 20,
    "start_time": "2022-03-20T12:46:49.434Z"
   },
   {
    "duration": 29,
    "start_time": "2022-03-20T12:46:57.489Z"
   },
   {
    "duration": 22,
    "start_time": "2022-03-20T12:47:04.775Z"
   },
   {
    "duration": 21,
    "start_time": "2022-03-20T12:47:16.848Z"
   },
   {
    "duration": 24,
    "start_time": "2022-03-20T12:47:20.371Z"
   },
   {
    "duration": 23,
    "start_time": "2022-03-20T12:47:38.056Z"
   },
   {
    "duration": 24,
    "start_time": "2022-03-20T13:07:56.698Z"
   },
   {
    "duration": 23,
    "start_time": "2022-03-20T13:08:10.384Z"
   },
   {
    "duration": 21,
    "start_time": "2022-03-20T13:08:35.012Z"
   },
   {
    "duration": 24,
    "start_time": "2022-03-20T13:09:46.142Z"
   },
   {
    "duration": 22,
    "start_time": "2022-03-20T13:10:02.726Z"
   },
   {
    "duration": 24,
    "start_time": "2022-03-20T13:10:18.977Z"
   },
   {
    "duration": 23,
    "start_time": "2022-03-20T13:11:06.374Z"
   },
   {
    "duration": 1084,
    "start_time": "2022-03-20T13:13:24.525Z"
   },
   {
    "duration": 1619,
    "start_time": "2022-03-20T13:13:44.875Z"
   },
   {
    "duration": 1117,
    "start_time": "2022-03-20T13:13:55.914Z"
   },
   {
    "duration": 21,
    "start_time": "2022-03-20T13:16:48.830Z"
   },
   {
    "duration": 11,
    "start_time": "2022-03-20T13:17:13.009Z"
   },
   {
    "duration": 22,
    "start_time": "2022-03-20T13:17:20.572Z"
   },
   {
    "duration": 11,
    "start_time": "2022-03-20T13:24:32.764Z"
   },
   {
    "duration": 95,
    "start_time": "2022-03-20T13:28:04.665Z"
   },
   {
    "duration": 8,
    "start_time": "2022-03-20T13:28:12.025Z"
   },
   {
    "duration": 7,
    "start_time": "2022-03-20T13:28:22.919Z"
   },
   {
    "duration": 7,
    "start_time": "2022-03-20T13:29:18.707Z"
   },
   {
    "duration": 7,
    "start_time": "2022-03-20T13:29:28.751Z"
   },
   {
    "duration": 9,
    "start_time": "2022-03-20T13:30:37.785Z"
   },
   {
    "duration": 19,
    "start_time": "2022-03-20T13:30:51.301Z"
   },
   {
    "duration": 16,
    "start_time": "2022-03-20T13:30:59.935Z"
   },
   {
    "duration": 10,
    "start_time": "2022-03-20T13:31:09.186Z"
   },
   {
    "duration": 16,
    "start_time": "2022-03-20T13:31:19.817Z"
   },
   {
    "duration": 15,
    "start_time": "2022-03-20T13:31:59.546Z"
   },
   {
    "duration": 15,
    "start_time": "2022-03-20T13:33:09.771Z"
   },
   {
    "duration": 13,
    "start_time": "2022-03-20T13:33:21.323Z"
   },
   {
    "duration": 9,
    "start_time": "2022-03-20T13:33:52.366Z"
   },
   {
    "duration": 11,
    "start_time": "2022-03-20T13:38:56.766Z"
   },
   {
    "duration": 12,
    "start_time": "2022-03-20T13:39:01.129Z"
   },
   {
    "duration": 9,
    "start_time": "2022-03-20T13:41:23.175Z"
   },
   {
    "duration": 299,
    "start_time": "2022-03-20T13:41:24.421Z"
   },
   {
    "duration": 318,
    "start_time": "2022-03-20T13:41:29.753Z"
   },
   {
    "duration": 319,
    "start_time": "2022-03-20T13:41:35.138Z"
   },
   {
    "duration": 43,
    "start_time": "2022-03-20T13:44:15.025Z"
   },
   {
    "duration": 41,
    "start_time": "2022-03-20T13:44:39.799Z"
   },
   {
    "duration": 397,
    "start_time": "2022-03-20T13:44:58.347Z"
   },
   {
    "duration": 41,
    "start_time": "2022-03-20T13:45:14.512Z"
   },
   {
    "duration": 4,
    "start_time": "2022-03-20T13:45:24.607Z"
   },
   {
    "duration": 6,
    "start_time": "2022-03-20T13:45:24.615Z"
   },
   {
    "duration": 6,
    "start_time": "2022-03-20T13:45:24.624Z"
   },
   {
    "duration": 291,
    "start_time": "2022-03-20T13:45:24.633Z"
   },
   {
    "duration": 15,
    "start_time": "2022-03-20T13:45:24.928Z"
   },
   {
    "duration": 19,
    "start_time": "2022-03-20T13:45:24.946Z"
   },
   {
    "duration": 15,
    "start_time": "2022-03-20T13:45:24.968Z"
   },
   {
    "duration": 25,
    "start_time": "2022-03-20T13:45:24.985Z"
   },
   {
    "duration": 19,
    "start_time": "2022-03-20T13:45:25.013Z"
   },
   {
    "duration": 463,
    "start_time": "2022-03-20T13:45:25.068Z"
   },
   {
    "duration": 17,
    "start_time": "2022-03-20T13:45:25.533Z"
   },
   {
    "duration": 303,
    "start_time": "2022-03-20T13:45:25.568Z"
   },
   {
    "duration": 191,
    "start_time": "2022-03-20T13:45:25.874Z"
   },
   {
    "duration": 788,
    "start_time": "2022-03-20T13:45:26.069Z"
   },
   {
    "duration": 1307,
    "start_time": "2022-03-20T13:45:26.866Z"
   },
   {
    "duration": 21,
    "start_time": "2022-03-20T13:45:28.175Z"
   },
   {
    "duration": 328,
    "start_time": "2022-03-20T13:45:28.199Z"
   },
   {
    "duration": 237,
    "start_time": "2022-03-20T13:45:28.529Z"
   },
   {
    "duration": 17,
    "start_time": "2022-03-20T13:45:28.769Z"
   },
   {
    "duration": 339,
    "start_time": "2022-03-20T13:45:28.788Z"
   },
   {
    "duration": 10,
    "start_time": "2022-03-20T13:45:29.129Z"
   },
   {
    "duration": 31,
    "start_time": "2022-03-20T13:45:29.141Z"
   },
   {
    "duration": 10,
    "start_time": "2022-03-20T13:45:29.175Z"
   },
   {
    "duration": 30,
    "start_time": "2022-03-20T13:45:29.188Z"
   },
   {
    "duration": 9,
    "start_time": "2022-03-20T13:45:29.221Z"
   },
   {
    "duration": 348,
    "start_time": "2022-03-20T13:45:29.232Z"
   },
   {
    "duration": 2804,
    "start_time": "2022-03-20T13:45:29.583Z"
   },
   {
    "duration": 28,
    "start_time": "2022-03-20T13:45:32.389Z"
   },
   {
    "duration": 26,
    "start_time": "2022-03-20T13:45:42.439Z"
   },
   {
    "duration": 30,
    "start_time": "2022-03-20T13:45:51.135Z"
   },
   {
    "duration": 32,
    "start_time": "2022-03-20T13:46:10.563Z"
   },
   {
    "duration": 10,
    "start_time": "2022-03-20T16:29:39.041Z"
   },
   {
    "duration": 33,
    "start_time": "2022-03-20T16:37:13.770Z"
   },
   {
    "duration": 22,
    "start_time": "2022-03-20T16:37:59.253Z"
   },
   {
    "duration": 11,
    "start_time": "2022-03-20T17:12:13.937Z"
   },
   {
    "duration": 18,
    "start_time": "2022-03-20T17:12:36.039Z"
   },
   {
    "duration": 26,
    "start_time": "2022-03-20T17:12:43.779Z"
   },
   {
    "duration": 79,
    "start_time": "2022-03-20T17:13:49.604Z"
   },
   {
    "duration": 12,
    "start_time": "2022-03-20T17:14:22.910Z"
   },
   {
    "duration": 19,
    "start_time": "2022-03-20T17:14:27.000Z"
   },
   {
    "duration": 240,
    "start_time": "2022-03-20T17:15:23.635Z"
   },
   {
    "duration": 45611,
    "start_time": "2022-03-20T17:15:46.978Z"
   },
   {
    "duration": 1717,
    "start_time": "2022-03-20T17:20:08.260Z"
   },
   {
    "duration": 19,
    "start_time": "2022-03-20T17:20:16.153Z"
   },
   {
    "duration": 1760,
    "start_time": "2022-03-20T17:22:30.601Z"
   },
   {
    "duration": 1761,
    "start_time": "2022-03-20T17:22:59.213Z"
   },
   {
    "duration": 9,
    "start_time": "2022-03-20T17:23:05.055Z"
   },
   {
    "duration": 20,
    "start_time": "2022-03-20T17:23:17.084Z"
   },
   {
    "duration": 21,
    "start_time": "2022-03-20T17:23:19.506Z"
   },
   {
    "duration": 19,
    "start_time": "2022-03-20T17:23:26.291Z"
   },
   {
    "duration": 20,
    "start_time": "2022-03-20T17:23:32.053Z"
   },
   {
    "duration": 16,
    "start_time": "2022-03-20T17:24:34.393Z"
   },
   {
    "duration": 5,
    "start_time": "2022-03-20T17:24:50.048Z"
   },
   {
    "duration": 16,
    "start_time": "2022-03-20T17:24:53.549Z"
   },
   {
    "duration": 6,
    "start_time": "2022-03-20T17:25:00.464Z"
   },
   {
    "duration": 9,
    "start_time": "2022-03-20T17:25:40.366Z"
   },
   {
    "duration": 5,
    "start_time": "2022-03-20T17:26:36.819Z"
   },
   {
    "duration": 6,
    "start_time": "2022-03-20T17:26:41.997Z"
   },
   {
    "duration": 17,
    "start_time": "2022-03-20T17:27:12.357Z"
   },
   {
    "duration": 4,
    "start_time": "2022-03-20T17:27:22.479Z"
   },
   {
    "duration": 21,
    "start_time": "2022-03-20T17:27:24.379Z"
   },
   {
    "duration": 9,
    "start_time": "2022-03-20T17:29:27.917Z"
   },
   {
    "duration": 7,
    "start_time": "2022-03-20T17:29:31.237Z"
   },
   {
    "duration": 10,
    "start_time": "2022-03-20T17:29:35.640Z"
   },
   {
    "duration": 5,
    "start_time": "2022-03-20T17:30:00.218Z"
   },
   {
    "duration": 6,
    "start_time": "2022-03-20T17:33:43.533Z"
   },
   {
    "duration": 6,
    "start_time": "2022-03-20T17:33:49.788Z"
   },
   {
    "duration": 4,
    "start_time": "2022-03-20T17:34:04.002Z"
   },
   {
    "duration": 20,
    "start_time": "2022-03-20T17:34:35.205Z"
   },
   {
    "duration": 3,
    "start_time": "2022-03-20T17:34:52.432Z"
   },
   {
    "duration": 20,
    "start_time": "2022-03-20T17:34:55.501Z"
   },
   {
    "duration": 4,
    "start_time": "2022-03-20T17:35:33.642Z"
   },
   {
    "duration": 15,
    "start_time": "2022-03-20T17:35:54.503Z"
   },
   {
    "duration": 4,
    "start_time": "2022-03-20T17:35:57.361Z"
   },
   {
    "duration": 12,
    "start_time": "2022-03-20T17:35:59.011Z"
   },
   {
    "duration": 4,
    "start_time": "2022-03-20T17:36:04.164Z"
   },
   {
    "duration": 6,
    "start_time": "2022-03-20T17:36:05.568Z"
   },
   {
    "duration": 29,
    "start_time": "2022-03-20T17:36:06.647Z"
   },
   {
    "duration": 4013,
    "start_time": "2022-03-20T17:36:32.383Z"
   },
   {
    "duration": 7,
    "start_time": "2022-03-20T17:37:38.588Z"
   },
   {
    "duration": 5,
    "start_time": "2022-03-20T17:37:55.540Z"
   },
   {
    "duration": 265,
    "start_time": "2022-03-20T17:38:09.621Z"
   },
   {
    "duration": 266,
    "start_time": "2022-03-20T17:38:58.568Z"
   },
   {
    "duration": 250,
    "start_time": "2022-03-20T17:39:16.984Z"
   },
   {
    "duration": 15,
    "start_time": "2022-03-20T17:39:31.423Z"
   },
   {
    "duration": 345,
    "start_time": "2022-03-20T17:39:50.341Z"
   },
   {
    "duration": 16,
    "start_time": "2022-03-20T17:41:59.428Z"
   },
   {
    "duration": 17,
    "start_time": "2022-03-20T17:49:46.397Z"
   },
   {
    "duration": 12,
    "start_time": "2022-03-20T17:50:19.243Z"
   },
   {
    "duration": 12,
    "start_time": "2022-03-20T17:50:37.237Z"
   },
   {
    "duration": 13,
    "start_time": "2022-03-20T17:50:53.492Z"
   },
   {
    "duration": 11,
    "start_time": "2022-03-20T17:51:02.920Z"
   },
   {
    "duration": 15,
    "start_time": "2022-03-20T17:51:07.273Z"
   },
   {
    "duration": 18,
    "start_time": "2022-03-20T17:51:20.585Z"
   },
   {
    "duration": 7,
    "start_time": "2022-03-20T17:51:26.705Z"
   },
   {
    "duration": 8,
    "start_time": "2022-03-20T17:51:31.077Z"
   },
   {
    "duration": 6,
    "start_time": "2022-03-20T17:51:36.010Z"
   },
   {
    "duration": 6,
    "start_time": "2022-03-20T17:51:51.102Z"
   },
   {
    "duration": 9,
    "start_time": "2022-03-20T17:52:00.614Z"
   },
   {
    "duration": 8,
    "start_time": "2022-03-20T17:52:05.328Z"
   },
   {
    "duration": 21,
    "start_time": "2022-03-20T17:57:57.254Z"
   },
   {
    "duration": 204,
    "start_time": "2022-03-20T17:58:00.605Z"
   },
   {
    "duration": 168,
    "start_time": "2022-03-20T18:06:05.457Z"
   },
   {
    "duration": 21,
    "start_time": "2022-03-20T18:07:06.665Z"
   },
   {
    "duration": 23,
    "start_time": "2022-03-20T18:09:20.839Z"
   },
   {
    "duration": 101,
    "start_time": "2022-03-20T18:11:32.779Z"
   },
   {
    "duration": 97,
    "start_time": "2022-03-20T18:12:01.426Z"
   },
   {
    "duration": 90,
    "start_time": "2022-03-20T18:12:07.603Z"
   },
   {
    "duration": 98,
    "start_time": "2022-03-20T18:12:12.140Z"
   },
   {
    "duration": 41,
    "start_time": "2022-03-20T18:12:16.718Z"
   },
   {
    "duration": 52,
    "start_time": "2022-03-20T18:12:21.429Z"
   },
   {
    "duration": 55,
    "start_time": "2022-03-20T18:13:36.403Z"
   },
   {
    "duration": 84,
    "start_time": "2022-03-20T18:16:18.175Z"
   },
   {
    "duration": 17,
    "start_time": "2022-03-20T18:16:21.644Z"
   },
   {
    "duration": 40,
    "start_time": "2022-03-20T18:17:03.125Z"
   },
   {
    "duration": 4,
    "start_time": "2022-03-20T18:17:07.024Z"
   },
   {
    "duration": 8,
    "start_time": "2022-03-20T18:17:07.031Z"
   },
   {
    "duration": 6,
    "start_time": "2022-03-20T18:17:07.042Z"
   },
   {
    "duration": 284,
    "start_time": "2022-03-20T18:17:07.051Z"
   },
   {
    "duration": 15,
    "start_time": "2022-03-20T18:17:07.339Z"
   },
   {
    "duration": 21,
    "start_time": "2022-03-20T18:17:07.356Z"
   },
   {
    "duration": 16,
    "start_time": "2022-03-20T18:17:07.379Z"
   },
   {
    "duration": 25,
    "start_time": "2022-03-20T18:17:07.398Z"
   },
   {
    "duration": 47,
    "start_time": "2022-03-20T18:17:07.426Z"
   },
   {
    "duration": 21,
    "start_time": "2022-03-20T18:17:07.475Z"
   },
   {
    "duration": 491,
    "start_time": "2022-03-20T18:17:07.499Z"
   },
   {
    "duration": 19,
    "start_time": "2022-03-20T18:17:07.992Z"
   },
   {
    "duration": 325,
    "start_time": "2022-03-20T18:17:08.013Z"
   },
   {
    "duration": 209,
    "start_time": "2022-03-20T18:17:08.342Z"
   },
   {
    "duration": 828,
    "start_time": "2022-03-20T18:17:08.553Z"
   },
   {
    "duration": 1136,
    "start_time": "2022-03-20T18:17:09.383Z"
   },
   {
    "duration": 21,
    "start_time": "2022-03-20T18:17:10.522Z"
   },
   {
    "duration": 331,
    "start_time": "2022-03-20T18:17:10.546Z"
   },
   {
    "duration": 420,
    "start_time": "2022-03-20T18:17:10.879Z"
   },
   {
    "duration": 16,
    "start_time": "2022-03-20T18:17:11.302Z"
   },
   {
    "duration": 355,
    "start_time": "2022-03-20T18:17:11.320Z"
   },
   {
    "duration": 11,
    "start_time": "2022-03-20T18:17:11.678Z"
   },
   {
    "duration": 38,
    "start_time": "2022-03-20T18:17:11.692Z"
   },
   {
    "duration": 19,
    "start_time": "2022-03-20T18:17:11.732Z"
   },
   {
    "duration": 51,
    "start_time": "2022-03-20T18:17:11.753Z"
   },
   {
    "duration": 8,
    "start_time": "2022-03-20T18:17:11.807Z"
   },
   {
    "duration": 319,
    "start_time": "2022-03-20T18:17:11.817Z"
   },
   {
    "duration": 11,
    "start_time": "2022-03-20T18:17:12.139Z"
   },
   {
    "duration": 2761,
    "start_time": "2022-03-20T18:17:12.168Z"
   },
   {
    "duration": 49,
    "start_time": "2022-03-20T18:17:14.932Z"
   },
   {
    "duration": 43,
    "start_time": "2022-03-20T18:17:14.984Z"
   },
   {
    "duration": 38,
    "start_time": "2022-03-20T18:17:18.066Z"
   },
   {
    "duration": 16,
    "start_time": "2022-03-20T18:17:20.682Z"
   },
   {
    "duration": 6,
    "start_time": "2022-03-20T18:25:54.589Z"
   },
   {
    "duration": 16,
    "start_time": "2022-03-20T18:26:12.724Z"
   },
   {
    "duration": 25,
    "start_time": "2022-03-20T18:28:45.789Z"
   },
   {
    "duration": 12,
    "start_time": "2022-03-20T18:32:56.077Z"
   },
   {
    "duration": 18,
    "start_time": "2022-03-20T18:33:01.172Z"
   },
   {
    "duration": 9,
    "start_time": "2022-03-20T18:34:07.451Z"
   },
   {
    "duration": 12,
    "start_time": "2022-03-20T18:34:11.787Z"
   },
   {
    "duration": 7,
    "start_time": "2022-03-20T18:34:44.443Z"
   },
   {
    "duration": 168113,
    "start_time": "2022-03-20T18:34:58.016Z"
   },
   {
    "duration": 5,
    "start_time": "2022-03-20T19:00:39.455Z"
   },
   {
    "duration": 10,
    "start_time": "2022-03-20T19:01:26.081Z"
   },
   {
    "duration": 21,
    "start_time": "2022-03-20T19:01:29.036Z"
   },
   {
    "duration": 8,
    "start_time": "2022-03-20T19:02:02.267Z"
   },
   {
    "duration": 18,
    "start_time": "2022-03-20T19:02:52.557Z"
   },
   {
    "duration": 278,
    "start_time": "2022-03-20T19:02:57.898Z"
   },
   {
    "duration": 4940,
    "start_time": "2022-03-20T19:07:30.464Z"
   },
   {
    "duration": 289,
    "start_time": "2022-03-20T19:07:38.042Z"
   },
   {
    "duration": 10,
    "start_time": "2022-03-20T19:07:48.267Z"
   },
   {
    "duration": 13,
    "start_time": "2022-03-20T19:07:50.879Z"
   },
   {
    "duration": 12,
    "start_time": "2022-03-20T19:08:01.784Z"
   },
   {
    "duration": 25,
    "start_time": "2022-03-20T19:09:59.481Z"
   },
   {
    "duration": 22,
    "start_time": "2022-03-20T19:11:10.884Z"
   },
   {
    "duration": 32,
    "start_time": "2022-03-20T19:11:22.148Z"
   },
   {
    "duration": 642,
    "start_time": "2022-03-20T19:11:28.859Z"
   },
   {
    "duration": 28,
    "start_time": "2022-03-20T19:11:59.304Z"
   },
   {
    "duration": 1471,
    "start_time": "2022-03-20T19:12:00.406Z"
   },
   {
    "duration": 24,
    "start_time": "2022-03-20T19:12:46.891Z"
   },
   {
    "duration": 1847,
    "start_time": "2022-03-20T19:12:49.318Z"
   },
   {
    "duration": 65,
    "start_time": "2022-03-20T19:15:48.535Z"
   },
   {
    "duration": 2607,
    "start_time": "2022-03-20T19:15:51.161Z"
   },
   {
    "duration": 12,
    "start_time": "2022-03-20T19:16:04.292Z"
   },
   {
    "duration": 55,
    "start_time": "2022-03-20T19:16:05.470Z"
   },
   {
    "duration": 1031,
    "start_time": "2022-03-20T19:16:07.426Z"
   },
   {
    "duration": 9,
    "start_time": "2022-03-20T19:17:10.291Z"
   },
   {
    "duration": 8,
    "start_time": "2022-03-20T19:24:01.952Z"
   },
   {
    "duration": 33,
    "start_time": "2022-03-20T19:24:09.611Z"
   },
   {
    "duration": 917,
    "start_time": "2022-03-20T19:24:13.059Z"
   },
   {
    "duration": 9,
    "start_time": "2022-03-20T19:25:48.044Z"
   },
   {
    "duration": 36,
    "start_time": "2022-03-20T19:25:48.683Z"
   },
   {
    "duration": 702,
    "start_time": "2022-03-20T19:25:51.621Z"
   },
   {
    "duration": 38,
    "start_time": "2022-03-20T19:26:00.520Z"
   },
   {
    "duration": 1481,
    "start_time": "2022-03-20T19:26:02.186Z"
   },
   {
    "duration": 15,
    "start_time": "2022-03-20T19:26:14.170Z"
   },
   {
    "duration": 39,
    "start_time": "2022-03-20T19:26:14.823Z"
   },
   {
    "duration": 756,
    "start_time": "2022-03-20T19:26:16.364Z"
   },
   {
    "duration": 15,
    "start_time": "2022-03-20T19:27:29.932Z"
   },
   {
    "duration": 7,
    "start_time": "2022-03-20T19:27:46.653Z"
   },
   {
    "duration": 27,
    "start_time": "2022-03-20T19:28:18.117Z"
   },
   {
    "duration": 11,
    "start_time": "2022-03-20T19:28:31.561Z"
   },
   {
    "duration": 17,
    "start_time": "2022-03-20T19:28:35.854Z"
   },
   {
    "duration": 17,
    "start_time": "2022-03-20T19:47:39.094Z"
   },
   {
    "duration": 16,
    "start_time": "2022-03-20T19:50:47.154Z"
   },
   {
    "duration": 204,
    "start_time": "2022-03-20T19:50:56.462Z"
   },
   {
    "duration": 223,
    "start_time": "2022-03-20T19:51:29.978Z"
   },
   {
    "duration": 61,
    "start_time": "2022-03-20T19:55:49.817Z"
   },
   {
    "duration": 63,
    "start_time": "2022-03-20T19:56:35.222Z"
   },
   {
    "duration": 89,
    "start_time": "2022-03-20T19:57:00.307Z"
   },
   {
    "duration": 24,
    "start_time": "2022-03-20T19:57:15.631Z"
   },
   {
    "duration": 69,
    "start_time": "2022-03-20T19:57:25.836Z"
   },
   {
    "duration": 62,
    "start_time": "2022-03-20T19:57:40.155Z"
   },
   {
    "duration": 63,
    "start_time": "2022-03-20T19:57:50.302Z"
   },
   {
    "duration": 80,
    "start_time": "2022-03-20T19:58:26.436Z"
   },
   {
    "duration": 85,
    "start_time": "2022-03-20T19:58:44.398Z"
   },
   {
    "duration": 54,
    "start_time": "2022-03-20T19:58:57.517Z"
   },
   {
    "duration": 77,
    "start_time": "2022-03-20T19:59:00.483Z"
   },
   {
    "duration": 66,
    "start_time": "2022-03-20T19:59:36.233Z"
   },
   {
    "duration": 105,
    "start_time": "2022-03-20T19:59:45.728Z"
   },
   {
    "duration": 102,
    "start_time": "2022-03-20T19:59:57.815Z"
   },
   {
    "duration": 117,
    "start_time": "2022-03-20T20:00:40.974Z"
   },
   {
    "duration": 100,
    "start_time": "2022-03-20T20:01:06.235Z"
   },
   {
    "duration": 119,
    "start_time": "2022-03-20T20:01:20.630Z"
   },
   {
    "duration": 17,
    "start_time": "2022-03-20T20:01:24.985Z"
   },
   {
    "duration": 242,
    "start_time": "2022-03-20T20:01:51.698Z"
   },
   {
    "duration": 259,
    "start_time": "2022-03-20T20:02:08.664Z"
   },
   {
    "duration": 192,
    "start_time": "2022-03-20T20:02:32.333Z"
   },
   {
    "duration": 307,
    "start_time": "2022-03-20T20:02:36.656Z"
   },
   {
    "duration": 7,
    "start_time": "2022-03-20T20:02:52.874Z"
   },
   {
    "duration": 35,
    "start_time": "2022-03-20T20:03:00.012Z"
   },
   {
    "duration": 700,
    "start_time": "2022-03-20T20:03:02.804Z"
   },
   {
    "duration": 7,
    "start_time": "2022-03-20T20:03:23.072Z"
   },
   {
    "duration": 45,
    "start_time": "2022-03-20T20:03:23.594Z"
   },
   {
    "duration": 839,
    "start_time": "2022-03-20T20:03:26.935Z"
   },
   {
    "duration": 16,
    "start_time": "2022-03-20T20:05:38.401Z"
   },
   {
    "duration": 25,
    "start_time": "2022-03-20T20:07:40.220Z"
   },
   {
    "duration": 169,
    "start_time": "2022-03-20T20:08:14.808Z"
   },
   {
    "duration": 77,
    "start_time": "2022-03-20T20:11:39.463Z"
   },
   {
    "duration": 76,
    "start_time": "2022-03-20T20:11:47.259Z"
   },
   {
    "duration": 5561,
    "start_time": "2022-03-21T06:06:55.458Z"
   },
   {
    "duration": 2945,
    "start_time": "2022-03-21T06:07:01.024Z"
   },
   {
    "duration": 14,
    "start_time": "2022-03-21T06:07:03.972Z"
   },
   {
    "duration": 21,
    "start_time": "2022-03-21T06:07:03.989Z"
   },
   {
    "duration": 359,
    "start_time": "2022-03-21T06:07:04.014Z"
   },
   {
    "duration": 29,
    "start_time": "2022-03-21T06:07:04.375Z"
   },
   {
    "duration": 33,
    "start_time": "2022-03-21T06:07:04.408Z"
   },
   {
    "duration": 49,
    "start_time": "2022-03-21T06:07:04.444Z"
   },
   {
    "duration": 57,
    "start_time": "2022-03-21T06:07:04.497Z"
   },
   {
    "duration": 34,
    "start_time": "2022-03-21T06:07:04.557Z"
   },
   {
    "duration": 34,
    "start_time": "2022-03-21T06:07:04.594Z"
   },
   {
    "duration": 761,
    "start_time": "2022-03-21T06:07:04.632Z"
   },
   {
    "duration": 20,
    "start_time": "2022-03-21T06:07:05.397Z"
   },
   {
    "duration": 364,
    "start_time": "2022-03-21T06:07:05.422Z"
   },
   {
    "duration": 222,
    "start_time": "2022-03-21T06:07:05.789Z"
   },
   {
    "duration": 890,
    "start_time": "2022-03-21T06:07:06.014Z"
   },
   {
    "duration": 1729,
    "start_time": "2022-03-21T06:07:06.906Z"
   },
   {
    "duration": 30,
    "start_time": "2022-03-21T06:07:08.638Z"
   },
   {
    "duration": 333,
    "start_time": "2022-03-21T06:07:08.671Z"
   },
   {
    "duration": 399,
    "start_time": "2022-03-21T06:07:09.009Z"
   },
   {
    "duration": 23,
    "start_time": "2022-03-21T06:07:09.411Z"
   },
   {
    "duration": 491,
    "start_time": "2022-03-21T06:07:09.438Z"
   },
   {
    "duration": 14,
    "start_time": "2022-03-21T06:07:09.932Z"
   },
   {
    "duration": 38,
    "start_time": "2022-03-21T06:07:09.949Z"
   },
   {
    "duration": 12,
    "start_time": "2022-03-21T06:07:09.990Z"
   },
   {
    "duration": 35,
    "start_time": "2022-03-21T06:07:10.006Z"
   },
   {
    "duration": 45,
    "start_time": "2022-03-21T06:07:10.044Z"
   },
   {
    "duration": 343,
    "start_time": "2022-03-21T06:07:10.092Z"
   },
   {
    "duration": 11,
    "start_time": "2022-03-21T06:07:10.438Z"
   },
   {
    "duration": 2735,
    "start_time": "2022-03-21T06:07:10.451Z"
   },
   {
    "duration": 28,
    "start_time": "2022-03-21T06:07:13.189Z"
   },
   {
    "duration": 9,
    "start_time": "2022-03-21T06:07:13.219Z"
   },
   {
    "duration": 30,
    "start_time": "2022-03-21T08:13:51.978Z"
   },
   {
    "duration": 33,
    "start_time": "2022-03-21T08:13:57.722Z"
   },
   {
    "duration": 20,
    "start_time": "2022-03-21T08:14:12.067Z"
   },
   {
    "duration": 2074,
    "start_time": "2022-03-21T08:25:29.019Z"
   },
   {
    "duration": 4,
    "start_time": "2022-03-21T08:25:31.098Z"
   },
   {
    "duration": 144,
    "start_time": "2022-03-21T08:25:31.106Z"
   },
   {
    "duration": 340,
    "start_time": "2022-03-21T08:25:31.253Z"
   },
   {
    "duration": 30,
    "start_time": "2022-03-21T08:25:31.598Z"
   },
   {
    "duration": 26,
    "start_time": "2022-03-21T08:25:31.631Z"
   },
   {
    "duration": 36,
    "start_time": "2022-03-21T08:25:31.684Z"
   },
   {
    "duration": 30,
    "start_time": "2022-03-21T08:25:31.724Z"
   },
   {
    "duration": 43,
    "start_time": "2022-03-21T08:25:31.758Z"
   },
   {
    "duration": 585,
    "start_time": "2022-03-21T08:25:31.809Z"
   },
   {
    "duration": 30,
    "start_time": "2022-03-21T08:25:32.397Z"
   },
   {
    "duration": 394,
    "start_time": "2022-03-21T08:25:32.431Z"
   },
   {
    "duration": 303,
    "start_time": "2022-03-21T08:25:32.827Z"
   },
   {
    "duration": 905,
    "start_time": "2022-03-21T08:25:33.138Z"
   },
   {
    "duration": 1226,
    "start_time": "2022-03-21T08:25:34.045Z"
   },
   {
    "duration": 28,
    "start_time": "2022-03-21T08:25:35.276Z"
   },
   {
    "duration": 375,
    "start_time": "2022-03-21T08:25:35.307Z"
   },
   {
    "duration": 380,
    "start_time": "2022-03-21T08:25:35.685Z"
   },
   {
    "duration": 35,
    "start_time": "2022-03-21T08:25:36.068Z"
   },
   {
    "duration": 541,
    "start_time": "2022-03-21T08:25:36.107Z"
   },
   {
    "duration": 14,
    "start_time": "2022-03-21T08:25:36.651Z"
   },
   {
    "duration": 34,
    "start_time": "2022-03-21T08:25:36.667Z"
   },
   {
    "duration": 49,
    "start_time": "2022-03-21T08:25:36.705Z"
   },
   {
    "duration": 10,
    "start_time": "2022-03-21T08:25:36.757Z"
   },
   {
    "duration": 498,
    "start_time": "2022-03-21T08:25:36.769Z"
   },
   {
    "duration": 24,
    "start_time": "2022-03-21T08:25:37.272Z"
   },
   {
    "duration": 2883,
    "start_time": "2022-03-21T08:25:37.299Z"
   },
   {
    "duration": 37,
    "start_time": "2022-03-21T08:25:40.185Z"
   },
   {
    "duration": 1346,
    "start_time": "2022-03-21T17:09:28.575Z"
   },
   {
    "duration": 3,
    "start_time": "2022-03-21T17:09:29.923Z"
   },
   {
    "duration": 5,
    "start_time": "2022-03-21T17:09:29.928Z"
   },
   {
    "duration": 262,
    "start_time": "2022-03-21T17:09:29.935Z"
   },
   {
    "duration": 13,
    "start_time": "2022-03-21T17:09:30.199Z"
   },
   {
    "duration": 16,
    "start_time": "2022-03-21T17:09:30.213Z"
   },
   {
    "duration": 18,
    "start_time": "2022-03-21T17:09:30.231Z"
   },
   {
    "duration": 19,
    "start_time": "2022-03-21T17:09:30.251Z"
   },
   {
    "duration": 15,
    "start_time": "2022-03-21T17:09:30.272Z"
   },
   {
    "duration": 345,
    "start_time": "2022-03-21T17:09:30.311Z"
   },
   {
    "duration": 14,
    "start_time": "2022-03-21T17:09:30.658Z"
   },
   {
    "duration": 226,
    "start_time": "2022-03-21T17:09:30.673Z"
   },
   {
    "duration": 125,
    "start_time": "2022-03-21T17:09:30.901Z"
   },
   {
    "duration": 543,
    "start_time": "2022-03-21T17:09:31.029Z"
   },
   {
    "duration": 847,
    "start_time": "2022-03-21T17:09:31.574Z"
   },
   {
    "duration": 14,
    "start_time": "2022-03-21T17:09:32.424Z"
   },
   {
    "duration": 201,
    "start_time": "2022-03-21T17:09:32.440Z"
   },
   {
    "duration": 268,
    "start_time": "2022-03-21T17:09:32.642Z"
   },
   {
    "duration": 11,
    "start_time": "2022-03-21T17:09:32.912Z"
   },
   {
    "duration": 221,
    "start_time": "2022-03-21T17:09:32.925Z"
   },
   {
    "duration": 7,
    "start_time": "2022-03-21T17:09:33.148Z"
   },
   {
    "duration": 9,
    "start_time": "2022-03-21T17:09:33.157Z"
   },
   {
    "duration": 41,
    "start_time": "2022-03-21T17:09:33.168Z"
   },
   {
    "duration": 6,
    "start_time": "2022-03-21T17:09:33.211Z"
   },
   {
    "duration": 212,
    "start_time": "2022-03-21T17:09:33.219Z"
   },
   {
    "duration": 6,
    "start_time": "2022-03-21T17:09:33.432Z"
   },
   {
    "duration": 1729,
    "start_time": "2022-03-21T17:09:33.440Z"
   },
   {
    "duration": 18,
    "start_time": "2022-03-21T17:09:35.173Z"
   },
   {
    "duration": 1466,
    "start_time": "2022-03-22T18:48:07.659Z"
   },
   {
    "duration": 3,
    "start_time": "2022-03-22T18:48:09.127Z"
   },
   {
    "duration": 9,
    "start_time": "2022-03-22T18:48:09.132Z"
   },
   {
    "duration": 303,
    "start_time": "2022-03-22T18:48:09.143Z"
   },
   {
    "duration": 16,
    "start_time": "2022-03-22T18:48:09.448Z"
   },
   {
    "duration": 18,
    "start_time": "2022-03-22T18:48:09.466Z"
   },
   {
    "duration": 14,
    "start_time": "2022-03-22T18:48:09.486Z"
   },
   {
    "duration": 35,
    "start_time": "2022-03-22T18:48:09.503Z"
   },
   {
    "duration": 17,
    "start_time": "2022-03-22T18:48:09.540Z"
   },
   {
    "duration": 401,
    "start_time": "2022-03-22T18:48:09.561Z"
   },
   {
    "duration": 14,
    "start_time": "2022-03-22T18:48:09.964Z"
   },
   {
    "duration": 244,
    "start_time": "2022-03-22T18:48:09.980Z"
   },
   {
    "duration": 127,
    "start_time": "2022-03-22T18:48:10.226Z"
   },
   {
    "duration": 585,
    "start_time": "2022-03-22T18:48:10.356Z"
   },
   {
    "duration": 903,
    "start_time": "2022-03-22T18:48:10.943Z"
   },
   {
    "duration": 18,
    "start_time": "2022-03-22T18:48:11.847Z"
   },
   {
    "duration": 209,
    "start_time": "2022-03-22T18:48:11.867Z"
   },
   {
    "duration": 293,
    "start_time": "2022-03-22T18:48:12.078Z"
   },
   {
    "duration": 13,
    "start_time": "2022-03-22T18:48:12.373Z"
   },
   {
    "duration": 230,
    "start_time": "2022-03-22T18:48:12.400Z"
   },
   {
    "duration": 8,
    "start_time": "2022-03-22T18:48:12.632Z"
   },
   {
    "duration": 14,
    "start_time": "2022-03-22T18:48:12.641Z"
   },
   {
    "duration": 35,
    "start_time": "2022-03-22T18:48:12.657Z"
   },
   {
    "duration": 23,
    "start_time": "2022-03-22T18:48:12.694Z"
   },
   {
    "duration": 220,
    "start_time": "2022-03-22T18:48:12.719Z"
   },
   {
    "duration": 8,
    "start_time": "2022-03-22T18:48:12.941Z"
   },
   {
    "duration": 1754,
    "start_time": "2022-03-22T18:48:12.950Z"
   },
   {
    "duration": 23,
    "start_time": "2022-03-22T18:48:14.708Z"
   },
   {
    "duration": 10,
    "start_time": "2022-03-22T18:49:03.672Z"
   },
   {
    "duration": 20,
    "start_time": "2022-03-22T18:49:11.097Z"
   },
   {
    "duration": 400,
    "start_time": "2022-03-22T18:49:20.339Z"
   },
   {
    "duration": 13,
    "start_time": "2022-03-22T18:49:23.566Z"
   },
   {
    "duration": 12,
    "start_time": "2022-03-22T18:49:28.787Z"
   },
   {
    "duration": 12,
    "start_time": "2022-03-22T18:49:59.771Z"
   },
   {
    "duration": 17,
    "start_time": "2022-03-22T20:40:46.032Z"
   },
   {
    "duration": 20,
    "start_time": "2022-03-22T20:40:55.304Z"
   },
   {
    "duration": 20,
    "start_time": "2022-03-22T20:41:17.938Z"
   },
   {
    "duration": 2570,
    "start_time": "2022-03-22T20:41:34.422Z"
   },
   {
    "duration": 30,
    "start_time": "2022-03-22T20:41:44.289Z"
   },
   {
    "duration": 31,
    "start_time": "2022-03-22T20:42:25.335Z"
   },
   {
    "duration": 23,
    "start_time": "2022-03-22T20:43:23.494Z"
   },
   {
    "duration": 32,
    "start_time": "2022-03-22T20:43:32.430Z"
   },
   {
    "duration": 14,
    "start_time": "2022-03-22T20:43:54.264Z"
   },
   {
    "duration": 32,
    "start_time": "2022-03-22T20:43:57.700Z"
   },
   {
    "duration": 33,
    "start_time": "2022-03-22T20:44:45.281Z"
   },
   {
    "duration": 28,
    "start_time": "2022-03-22T20:45:06.539Z"
   },
   {
    "duration": 22,
    "start_time": "2022-03-22T20:45:17.429Z"
   },
   {
    "duration": 23,
    "start_time": "2022-03-22T20:45:35.007Z"
   },
   {
    "duration": 1167,
    "start_time": "2022-03-22T21:01:19.641Z"
   },
   {
    "duration": 4,
    "start_time": "2022-03-22T21:01:20.810Z"
   },
   {
    "duration": 8,
    "start_time": "2022-03-22T21:01:20.815Z"
   },
   {
    "duration": 271,
    "start_time": "2022-03-22T21:01:20.824Z"
   },
   {
    "duration": 15,
    "start_time": "2022-03-22T21:01:21.098Z"
   },
   {
    "duration": 16,
    "start_time": "2022-03-22T21:01:21.115Z"
   },
   {
    "duration": 15,
    "start_time": "2022-03-22T21:01:21.133Z"
   },
   {
    "duration": 22,
    "start_time": "2022-03-22T21:01:21.150Z"
   },
   {
    "duration": 38,
    "start_time": "2022-03-22T21:01:21.174Z"
   },
   {
    "duration": 374,
    "start_time": "2022-03-22T21:01:21.214Z"
   },
   {
    "duration": 15,
    "start_time": "2022-03-22T21:01:21.590Z"
   },
   {
    "duration": 217,
    "start_time": "2022-03-22T21:01:21.608Z"
   },
   {
    "duration": 117,
    "start_time": "2022-03-22T21:01:21.827Z"
   },
   {
    "duration": 519,
    "start_time": "2022-03-22T21:01:21.948Z"
   },
   {
    "duration": 801,
    "start_time": "2022-03-22T21:01:22.469Z"
   },
   {
    "duration": 15,
    "start_time": "2022-03-22T21:01:23.272Z"
   },
   {
    "duration": 205,
    "start_time": "2022-03-22T21:01:23.289Z"
   },
   {
    "duration": 276,
    "start_time": "2022-03-22T21:01:23.496Z"
   },
   {
    "duration": 13,
    "start_time": "2022-03-22T21:01:23.773Z"
   },
   {
    "duration": 220,
    "start_time": "2022-03-22T21:01:23.788Z"
   },
   {
    "duration": 8,
    "start_time": "2022-03-22T21:01:24.010Z"
   },
   {
    "duration": 13,
    "start_time": "2022-03-22T21:01:24.020Z"
   },
   {
    "duration": 22,
    "start_time": "2022-03-22T21:01:24.035Z"
   },
   {
    "duration": 7,
    "start_time": "2022-03-22T21:01:24.059Z"
   },
   {
    "duration": 228,
    "start_time": "2022-03-22T21:01:24.068Z"
   },
   {
    "duration": 7,
    "start_time": "2022-03-22T21:01:24.300Z"
   },
   {
    "duration": 1644,
    "start_time": "2022-03-22T21:01:24.309Z"
   },
   {
    "duration": 24,
    "start_time": "2022-03-22T21:01:25.955Z"
   }
  ],
  "kernelspec": {
   "display_name": "Python 3 (ipykernel)",
   "language": "python",
   "name": "python3"
  },
  "language_info": {
   "codemirror_mode": {
    "name": "ipython",
    "version": 3
   },
   "file_extension": ".py",
   "mimetype": "text/x-python",
   "name": "python",
   "nbconvert_exporter": "python",
   "pygments_lexer": "ipython3",
   "version": "3.7.8"
  },
  "toc": {
   "base_numbering": 1,
   "nav_menu": {},
   "number_sections": true,
   "sideBar": true,
   "skip_h1_title": true,
   "title_cell": "Table of Contents",
   "title_sidebar": "Contents",
   "toc_cell": false,
   "toc_position": {},
   "toc_section_display": true,
   "toc_window_display": true
  }
 },
 "nbformat": 4,
 "nbformat_minor": 2
}
